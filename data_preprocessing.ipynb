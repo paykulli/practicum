{
 "cells": [
  {
   "cell_type": "markdown",
   "metadata": {},
   "source": [
    "# Analyzing borrowers’ risk of defaulting\n",
    "\n",
    "We need to prepare a report for a bank’s loan division. We’ll need to find out if a customer’s marital status and number of children has an impact on whether they will default on a loan. The bank already has some data on customers’ credit worthiness.\n",
    "\n",
    "Our report will be considered when building a **credit scoring** of a potential customer. A ** credit scoring ** is used to evaluate the ability of a potential borrower to repay their loan.\n",
    "\n",
    "\n",
    "**Description of the data**\n",
    "\n",
    "`children`: the number of children in the family\n",
    "\n",
    "`days_employed`: how long the customer has been working\n",
    "\n",
    "`dob_years`: the customer’s age\n",
    "\n",
    "`education`: the customer’s education level\n",
    "\n",
    "`education_id`: identifier for the customer’s education\n",
    "\n",
    "`family_status`: the customer’s marital status\n",
    "\n",
    "`family_status_id`: identifier for the customer’s marital status\n",
    "\n",
    "`gender`: the customer’s gender\n",
    "\n",
    "`income_type`: the customer’s income type\n",
    "\n",
    "`debt`: whether the customer has ever defaulted on a loan\n",
    "\n",
    "`total_income`: monthly income\n",
    "\n",
    "`purpose`: reason for taking out a loan"
   ]
  },
  {
   "cell_type": "markdown",
   "metadata": {},
   "source": [
    "## Open the data file and have a look at the general information. "
   ]
  },
  {
   "cell_type": "code",
   "execution_count": 1,
   "metadata": {},
   "outputs": [
    {
     "name": "stdout",
     "output_type": "stream",
     "text": [
      "<class 'pandas.core.frame.DataFrame'>\n",
      "RangeIndex: 21525 entries, 0 to 21524\n",
      "Data columns (total 12 columns):\n",
      "children            21525 non-null int64\n",
      "days_employed       19351 non-null float64\n",
      "dob_years           21525 non-null int64\n",
      "education           21525 non-null object\n",
      "education_id        21525 non-null int64\n",
      "family_status       21525 non-null object\n",
      "family_status_id    21525 non-null int64\n",
      "gender              21525 non-null object\n",
      "income_type         21525 non-null object\n",
      "debt                21525 non-null int64\n",
      "total_income        19351 non-null float64\n",
      "purpose             21525 non-null object\n",
      "dtypes: float64(2), int64(5), object(5)\n",
      "memory usage: 2.0+ MB\n"
     ]
    },
    {
     "data": {
      "text/html": [
       "<div>\n",
       "<style scoped>\n",
       "    .dataframe tbody tr th:only-of-type {\n",
       "        vertical-align: middle;\n",
       "    }\n",
       "\n",
       "    .dataframe tbody tr th {\n",
       "        vertical-align: top;\n",
       "    }\n",
       "\n",
       "    .dataframe thead th {\n",
       "        text-align: right;\n",
       "    }\n",
       "</style>\n",
       "<table border=\"1\" class=\"dataframe\">\n",
       "  <thead>\n",
       "    <tr style=\"text-align: right;\">\n",
       "      <th></th>\n",
       "      <th>children</th>\n",
       "      <th>days_employed</th>\n",
       "      <th>dob_years</th>\n",
       "      <th>education</th>\n",
       "      <th>education_id</th>\n",
       "      <th>family_status</th>\n",
       "      <th>family_status_id</th>\n",
       "      <th>gender</th>\n",
       "      <th>income_type</th>\n",
       "      <th>debt</th>\n",
       "      <th>total_income</th>\n",
       "      <th>purpose</th>\n",
       "    </tr>\n",
       "  </thead>\n",
       "  <tbody>\n",
       "    <tr>\n",
       "      <td>0</td>\n",
       "      <td>1</td>\n",
       "      <td>-8437.673028</td>\n",
       "      <td>42</td>\n",
       "      <td>bachelor's degree</td>\n",
       "      <td>0</td>\n",
       "      <td>married</td>\n",
       "      <td>0</td>\n",
       "      <td>F</td>\n",
       "      <td>employee</td>\n",
       "      <td>0</td>\n",
       "      <td>40620.102</td>\n",
       "      <td>purchase of the house</td>\n",
       "    </tr>\n",
       "    <tr>\n",
       "      <td>1</td>\n",
       "      <td>1</td>\n",
       "      <td>-4024.803754</td>\n",
       "      <td>36</td>\n",
       "      <td>secondary education</td>\n",
       "      <td>1</td>\n",
       "      <td>married</td>\n",
       "      <td>0</td>\n",
       "      <td>F</td>\n",
       "      <td>employee</td>\n",
       "      <td>0</td>\n",
       "      <td>17932.802</td>\n",
       "      <td>car purchase</td>\n",
       "    </tr>\n",
       "    <tr>\n",
       "      <td>2</td>\n",
       "      <td>0</td>\n",
       "      <td>-5623.422610</td>\n",
       "      <td>33</td>\n",
       "      <td>Secondary Education</td>\n",
       "      <td>1</td>\n",
       "      <td>married</td>\n",
       "      <td>0</td>\n",
       "      <td>M</td>\n",
       "      <td>employee</td>\n",
       "      <td>0</td>\n",
       "      <td>23341.752</td>\n",
       "      <td>purchase of the house</td>\n",
       "    </tr>\n",
       "    <tr>\n",
       "      <td>3</td>\n",
       "      <td>3</td>\n",
       "      <td>-4124.747207</td>\n",
       "      <td>32</td>\n",
       "      <td>secondary education</td>\n",
       "      <td>1</td>\n",
       "      <td>married</td>\n",
       "      <td>0</td>\n",
       "      <td>M</td>\n",
       "      <td>employee</td>\n",
       "      <td>0</td>\n",
       "      <td>42820.568</td>\n",
       "      <td>supplementary education</td>\n",
       "    </tr>\n",
       "    <tr>\n",
       "      <td>4</td>\n",
       "      <td>0</td>\n",
       "      <td>340266.072047</td>\n",
       "      <td>53</td>\n",
       "      <td>secondary education</td>\n",
       "      <td>1</td>\n",
       "      <td>civil partnership</td>\n",
       "      <td>1</td>\n",
       "      <td>F</td>\n",
       "      <td>retiree</td>\n",
       "      <td>0</td>\n",
       "      <td>25378.572</td>\n",
       "      <td>to have a wedding</td>\n",
       "    </tr>\n",
       "    <tr>\n",
       "      <td>5</td>\n",
       "      <td>0</td>\n",
       "      <td>-926.185831</td>\n",
       "      <td>27</td>\n",
       "      <td>bachelor's degree</td>\n",
       "      <td>0</td>\n",
       "      <td>civil partnership</td>\n",
       "      <td>1</td>\n",
       "      <td>M</td>\n",
       "      <td>business</td>\n",
       "      <td>0</td>\n",
       "      <td>40922.170</td>\n",
       "      <td>purchase of the house</td>\n",
       "    </tr>\n",
       "    <tr>\n",
       "      <td>6</td>\n",
       "      <td>0</td>\n",
       "      <td>-2879.202052</td>\n",
       "      <td>43</td>\n",
       "      <td>bachelor's degree</td>\n",
       "      <td>0</td>\n",
       "      <td>married</td>\n",
       "      <td>0</td>\n",
       "      <td>F</td>\n",
       "      <td>business</td>\n",
       "      <td>0</td>\n",
       "      <td>38484.156</td>\n",
       "      <td>housing transactions</td>\n",
       "    </tr>\n",
       "    <tr>\n",
       "      <td>7</td>\n",
       "      <td>0</td>\n",
       "      <td>-152.779569</td>\n",
       "      <td>50</td>\n",
       "      <td>SECONDARY EDUCATION</td>\n",
       "      <td>1</td>\n",
       "      <td>married</td>\n",
       "      <td>0</td>\n",
       "      <td>M</td>\n",
       "      <td>employee</td>\n",
       "      <td>0</td>\n",
       "      <td>21731.829</td>\n",
       "      <td>education</td>\n",
       "    </tr>\n",
       "    <tr>\n",
       "      <td>8</td>\n",
       "      <td>2</td>\n",
       "      <td>-6929.865299</td>\n",
       "      <td>35</td>\n",
       "      <td>BACHELOR'S DEGREE</td>\n",
       "      <td>0</td>\n",
       "      <td>civil partnership</td>\n",
       "      <td>1</td>\n",
       "      <td>F</td>\n",
       "      <td>employee</td>\n",
       "      <td>0</td>\n",
       "      <td>15337.093</td>\n",
       "      <td>having a wedding</td>\n",
       "    </tr>\n",
       "    <tr>\n",
       "      <td>9</td>\n",
       "      <td>0</td>\n",
       "      <td>-2188.756445</td>\n",
       "      <td>41</td>\n",
       "      <td>secondary education</td>\n",
       "      <td>1</td>\n",
       "      <td>married</td>\n",
       "      <td>0</td>\n",
       "      <td>M</td>\n",
       "      <td>employee</td>\n",
       "      <td>0</td>\n",
       "      <td>23108.150</td>\n",
       "      <td>purchase of the house for my family</td>\n",
       "    </tr>\n",
       "  </tbody>\n",
       "</table>\n",
       "</div>"
      ],
      "text/plain": [
       "   children  days_employed  dob_years            education  education_id  \\\n",
       "0         1   -8437.673028         42    bachelor's degree             0   \n",
       "1         1   -4024.803754         36  secondary education             1   \n",
       "2         0   -5623.422610         33  Secondary Education             1   \n",
       "3         3   -4124.747207         32  secondary education             1   \n",
       "4         0  340266.072047         53  secondary education             1   \n",
       "5         0    -926.185831         27    bachelor's degree             0   \n",
       "6         0   -2879.202052         43    bachelor's degree             0   \n",
       "7         0    -152.779569         50  SECONDARY EDUCATION             1   \n",
       "8         2   -6929.865299         35    BACHELOR'S DEGREE             0   \n",
       "9         0   -2188.756445         41  secondary education             1   \n",
       "\n",
       "       family_status  family_status_id gender income_type  debt  total_income  \\\n",
       "0            married                 0      F    employee     0     40620.102   \n",
       "1            married                 0      F    employee     0     17932.802   \n",
       "2            married                 0      M    employee     0     23341.752   \n",
       "3            married                 0      M    employee     0     42820.568   \n",
       "4  civil partnership                 1      F     retiree     0     25378.572   \n",
       "5  civil partnership                 1      M    business     0     40922.170   \n",
       "6            married                 0      F    business     0     38484.156   \n",
       "7            married                 0      M    employee     0     21731.829   \n",
       "8  civil partnership                 1      F    employee     0     15337.093   \n",
       "9            married                 0      M    employee     0     23108.150   \n",
       "\n",
       "                               purpose  \n",
       "0                purchase of the house  \n",
       "1                         car purchase  \n",
       "2                purchase of the house  \n",
       "3              supplementary education  \n",
       "4                    to have a wedding  \n",
       "5                purchase of the house  \n",
       "6                 housing transactions  \n",
       "7                            education  \n",
       "8                     having a wedding  \n",
       "9  purchase of the house for my family  "
      ]
     },
     "execution_count": 1,
     "metadata": {},
     "output_type": "execute_result"
    }
   ],
   "source": [
    "import pandas as pd\n",
    "import numpy as np\n",
    "from nltk.stem import SnowballStemmer\n",
    "\n",
    "df = pd.read_csv('/datasets/credit_scoring_eng.csv')\n",
    "\n",
    "df.info()\n",
    "df.head(10)"
   ]
  },
  {
   "cell_type": "code",
   "execution_count": 2,
   "metadata": {},
   "outputs": [
    {
     "data": {
      "text/html": [
       "<div>\n",
       "<style scoped>\n",
       "    .dataframe tbody tr th:only-of-type {\n",
       "        vertical-align: middle;\n",
       "    }\n",
       "\n",
       "    .dataframe tbody tr th {\n",
       "        vertical-align: top;\n",
       "    }\n",
       "\n",
       "    .dataframe thead th {\n",
       "        text-align: right;\n",
       "    }\n",
       "</style>\n",
       "<table border=\"1\" class=\"dataframe\">\n",
       "  <thead>\n",
       "    <tr style=\"text-align: right;\">\n",
       "      <th></th>\n",
       "      <th>count</th>\n",
       "      <th>mean</th>\n",
       "      <th>std</th>\n",
       "      <th>min</th>\n",
       "      <th>25%</th>\n",
       "      <th>50%</th>\n",
       "      <th>75%</th>\n",
       "      <th>max</th>\n",
       "    </tr>\n",
       "  </thead>\n",
       "  <tbody>\n",
       "    <tr>\n",
       "      <td>children</td>\n",
       "      <td>21525.0</td>\n",
       "      <td>0.538908</td>\n",
       "      <td>1.381587</td>\n",
       "      <td>-1.000000</td>\n",
       "      <td>0.000000</td>\n",
       "      <td>0.000000</td>\n",
       "      <td>1.000000</td>\n",
       "      <td>20.000000</td>\n",
       "    </tr>\n",
       "    <tr>\n",
       "      <td>days_employed</td>\n",
       "      <td>19351.0</td>\n",
       "      <td>63046.497661</td>\n",
       "      <td>140827.311974</td>\n",
       "      <td>-18388.949901</td>\n",
       "      <td>-2747.423625</td>\n",
       "      <td>-1203.369529</td>\n",
       "      <td>-291.095954</td>\n",
       "      <td>401755.400475</td>\n",
       "    </tr>\n",
       "    <tr>\n",
       "      <td>dob_years</td>\n",
       "      <td>21525.0</td>\n",
       "      <td>43.293380</td>\n",
       "      <td>12.574584</td>\n",
       "      <td>0.000000</td>\n",
       "      <td>33.000000</td>\n",
       "      <td>42.000000</td>\n",
       "      <td>53.000000</td>\n",
       "      <td>75.000000</td>\n",
       "    </tr>\n",
       "    <tr>\n",
       "      <td>education_id</td>\n",
       "      <td>21525.0</td>\n",
       "      <td>0.817236</td>\n",
       "      <td>0.548138</td>\n",
       "      <td>0.000000</td>\n",
       "      <td>1.000000</td>\n",
       "      <td>1.000000</td>\n",
       "      <td>1.000000</td>\n",
       "      <td>4.000000</td>\n",
       "    </tr>\n",
       "    <tr>\n",
       "      <td>family_status_id</td>\n",
       "      <td>21525.0</td>\n",
       "      <td>0.972544</td>\n",
       "      <td>1.420324</td>\n",
       "      <td>0.000000</td>\n",
       "      <td>0.000000</td>\n",
       "      <td>0.000000</td>\n",
       "      <td>1.000000</td>\n",
       "      <td>4.000000</td>\n",
       "    </tr>\n",
       "    <tr>\n",
       "      <td>debt</td>\n",
       "      <td>21525.0</td>\n",
       "      <td>0.080883</td>\n",
       "      <td>0.272661</td>\n",
       "      <td>0.000000</td>\n",
       "      <td>0.000000</td>\n",
       "      <td>0.000000</td>\n",
       "      <td>0.000000</td>\n",
       "      <td>1.000000</td>\n",
       "    </tr>\n",
       "    <tr>\n",
       "      <td>total_income</td>\n",
       "      <td>19351.0</td>\n",
       "      <td>26787.568355</td>\n",
       "      <td>16475.450632</td>\n",
       "      <td>3306.762000</td>\n",
       "      <td>16488.504500</td>\n",
       "      <td>23202.870000</td>\n",
       "      <td>32549.611000</td>\n",
       "      <td>362496.645000</td>\n",
       "    </tr>\n",
       "  </tbody>\n",
       "</table>\n",
       "</div>"
      ],
      "text/plain": [
       "                    count          mean            std           min  \\\n",
       "children          21525.0      0.538908       1.381587     -1.000000   \n",
       "days_employed     19351.0  63046.497661  140827.311974 -18388.949901   \n",
       "dob_years         21525.0     43.293380      12.574584      0.000000   \n",
       "education_id      21525.0      0.817236       0.548138      0.000000   \n",
       "family_status_id  21525.0      0.972544       1.420324      0.000000   \n",
       "debt              21525.0      0.080883       0.272661      0.000000   \n",
       "total_income      19351.0  26787.568355   16475.450632   3306.762000   \n",
       "\n",
       "                           25%           50%           75%            max  \n",
       "children              0.000000      0.000000      1.000000      20.000000  \n",
       "days_employed     -2747.423625  -1203.369529   -291.095954  401755.400475  \n",
       "dob_years            33.000000     42.000000     53.000000      75.000000  \n",
       "education_id          1.000000      1.000000      1.000000       4.000000  \n",
       "family_status_id      0.000000      0.000000      1.000000       4.000000  \n",
       "debt                  0.000000      0.000000      0.000000       1.000000  \n",
       "total_income      16488.504500  23202.870000  32549.611000  362496.645000  "
      ]
     },
     "execution_count": 2,
     "metadata": {},
     "output_type": "execute_result"
    }
   ],
   "source": [
    "df.describe().T"
   ]
  },
  {
   "cell_type": "code",
   "execution_count": 3,
   "metadata": {},
   "outputs": [
    {
     "data": {
      "text/html": [
       "<div>\n",
       "<style scoped>\n",
       "    .dataframe tbody tr th:only-of-type {\n",
       "        vertical-align: middle;\n",
       "    }\n",
       "\n",
       "    .dataframe tbody tr th {\n",
       "        vertical-align: top;\n",
       "    }\n",
       "\n",
       "    .dataframe thead th {\n",
       "        text-align: right;\n",
       "    }\n",
       "</style>\n",
       "<table border=\"1\" class=\"dataframe\">\n",
       "  <thead>\n",
       "    <tr style=\"text-align: right;\">\n",
       "      <th></th>\n",
       "      <th>count</th>\n",
       "      <th>unique</th>\n",
       "      <th>top</th>\n",
       "      <th>freq</th>\n",
       "    </tr>\n",
       "  </thead>\n",
       "  <tbody>\n",
       "    <tr>\n",
       "      <td>education</td>\n",
       "      <td>21525</td>\n",
       "      <td>15</td>\n",
       "      <td>secondary education</td>\n",
       "      <td>13750</td>\n",
       "    </tr>\n",
       "    <tr>\n",
       "      <td>family_status</td>\n",
       "      <td>21525</td>\n",
       "      <td>5</td>\n",
       "      <td>married</td>\n",
       "      <td>12380</td>\n",
       "    </tr>\n",
       "    <tr>\n",
       "      <td>gender</td>\n",
       "      <td>21525</td>\n",
       "      <td>3</td>\n",
       "      <td>F</td>\n",
       "      <td>14236</td>\n",
       "    </tr>\n",
       "    <tr>\n",
       "      <td>income_type</td>\n",
       "      <td>21525</td>\n",
       "      <td>8</td>\n",
       "      <td>employee</td>\n",
       "      <td>11119</td>\n",
       "    </tr>\n",
       "    <tr>\n",
       "      <td>purpose</td>\n",
       "      <td>21525</td>\n",
       "      <td>38</td>\n",
       "      <td>wedding ceremony</td>\n",
       "      <td>797</td>\n",
       "    </tr>\n",
       "  </tbody>\n",
       "</table>\n",
       "</div>"
      ],
      "text/plain": [
       "               count unique                  top   freq\n",
       "education      21525     15  secondary education  13750\n",
       "family_status  21525      5              married  12380\n",
       "gender         21525      3                    F  14236\n",
       "income_type    21525      8             employee  11119\n",
       "purpose        21525     38     wedding ceremony    797"
      ]
     },
     "execution_count": 3,
     "metadata": {},
     "output_type": "execute_result"
    }
   ],
   "source": [
    "df.describe(include=['object']).T"
   ]
  },
  {
   "cell_type": "markdown",
   "metadata": {},
   "source": [
    "### Conclusion"
   ]
  },
  {
   "cell_type": "markdown",
   "metadata": {},
   "source": [
    "Only 'days_employed' and 'total_income' have NaN values, and it's the same number, over 2000, about 10% of the dataset. It makes sense that someone who never worked will have no income, but we have to make sure this is the case before filling in zeros. \n",
    "\n",
    "We see there are negative values in \"children\" and \"days_employed\". This is most likely a typing error.\n",
    "\n",
    "At least one borrower is 0 years old. This is probably a mistake of some sort.\n",
    "\n",
    "The average defaulting probability is 8.1%."
   ]
  },
  {
   "cell_type": "markdown",
   "metadata": {},
   "source": [
    "## Data preprocessing"
   ]
  },
  {
   "cell_type": "markdown",
   "metadata": {},
   "source": [
    "### Processing missing values"
   ]
  },
  {
   "cell_type": "markdown",
   "metadata": {},
   "source": [
    "First we make sure the NaNs in \"days_employed\" match those in \"total_income\"."
   ]
  },
  {
   "cell_type": "code",
   "execution_count": 4,
   "metadata": {},
   "outputs": [
    {
     "data": {
      "text/plain": [
       "0"
      ]
     },
     "execution_count": 4,
     "metadata": {},
     "output_type": "execute_result"
    }
   ],
   "source": [
    "len(df[df['days_employed'].isna() & df['total_income'].notna()])"
   ]
  },
  {
   "cell_type": "markdown",
   "metadata": {},
   "source": [
    "They do. Now we'll try to figure out who they are."
   ]
  },
  {
   "cell_type": "code",
   "execution_count": 5,
   "metadata": {},
   "outputs": [
    {
     "data": {
      "text/plain": [
       "employee         1105\n",
       "business          508\n",
       "retiree           413\n",
       "civil servant     147\n",
       "entrepreneur        1\n",
       "Name: income_type, dtype: int64"
      ]
     },
     "execution_count": 5,
     "metadata": {},
     "output_type": "execute_result"
    }
   ],
   "source": [
    "df[df['days_employed'].isna()]['income_type'].value_counts()"
   ]
  },
  {
   "cell_type": "markdown",
   "metadata": {},
   "source": [
    "Most are employees, and the rest are likely to have an income as well. Therefore, the missing values are not zeros. We will assign median or mean values to all NaNs, but first we have to correct the negatives in \"days_employed\", and we might as well take care of the negative \"children\" at the same time."
   ]
  },
  {
   "cell_type": "code",
   "execution_count": 6,
   "metadata": {},
   "outputs": [
    {
     "data": {
      "text/html": [
       "<div>\n",
       "<style scoped>\n",
       "    .dataframe tbody tr th:only-of-type {\n",
       "        vertical-align: middle;\n",
       "    }\n",
       "\n",
       "    .dataframe tbody tr th {\n",
       "        vertical-align: top;\n",
       "    }\n",
       "\n",
       "    .dataframe thead th {\n",
       "        text-align: right;\n",
       "    }\n",
       "</style>\n",
       "<table border=\"1\" class=\"dataframe\">\n",
       "  <thead>\n",
       "    <tr style=\"text-align: right;\">\n",
       "      <th></th>\n",
       "      <th>days_employed</th>\n",
       "      <th>total_income</th>\n",
       "    </tr>\n",
       "  </thead>\n",
       "  <tbody>\n",
       "    <tr>\n",
       "      <td>count</td>\n",
       "      <td>19351.000000</td>\n",
       "      <td>19351.000000</td>\n",
       "    </tr>\n",
       "    <tr>\n",
       "      <td>mean</td>\n",
       "      <td>66914.728907</td>\n",
       "      <td>26787.568355</td>\n",
       "    </tr>\n",
       "    <tr>\n",
       "      <td>median</td>\n",
       "      <td>2194.220567</td>\n",
       "      <td>23202.870000</td>\n",
       "    </tr>\n",
       "  </tbody>\n",
       "</table>\n",
       "</div>"
      ],
      "text/plain": [
       "        days_employed  total_income\n",
       "count    19351.000000  19351.000000\n",
       "mean     66914.728907  26787.568355\n",
       "median    2194.220567  23202.870000"
      ]
     },
     "execution_count": 6,
     "metadata": {},
     "output_type": "execute_result"
    }
   ],
   "source": [
    "df['days_employed'] = df['days_employed'].abs()\n",
    "df['children'] = df['children'].apply('abs')\n",
    "\n",
    "df[['days_employed', 'total_income']].agg(['count', 'mean', 'median'])"
   ]
  },
  {
   "cell_type": "markdown",
   "metadata": {},
   "source": [
    "Mean is significantly higher than the median for both, so we'll fill in the median based on education and income type."
   ]
  },
  {
   "cell_type": "code",
   "execution_count": 7,
   "metadata": {},
   "outputs": [
    {
     "name": "stdout",
     "output_type": "stream",
     "text": [
      "NaN values in \"days_employed\": 0\n",
      "NaN values in \"total_income\": 0\n"
     ]
    }
   ],
   "source": [
    "df['days_employed'] = df['days_employed'].fillna(df.groupby(['education_id', 'income_type'])['days_employed']\n",
    "                                                 .transform('median')\n",
    "                                                )\n",
    "df['total_income'] = df['total_income'].fillna(df.groupby(['education_id', 'income_type'])['total_income']\n",
    "                                               .transform('median')\n",
    "                                              )\n",
    "\n",
    "print('NaN values in \"days_employed\":', df['days_employed'].isna().sum())\n",
    "print('NaN values in \"total_income\":', df['total_income'].isna().sum())"
   ]
  },
  {
   "cell_type": "markdown",
   "metadata": {},
   "source": [
    "### Conclusion"
   ]
  },
  {
   "cell_type": "markdown",
   "metadata": {},
   "source": [
    "Missing values are unknown, but are probably not zeros. Too many values were missing for deleting, so median values were filled in."
   ]
  },
  {
   "cell_type": "markdown",
   "metadata": {},
   "source": [
    "### Data type replacement"
   ]
  },
  {
   "cell_type": "markdown",
   "metadata": {},
   "source": [
    "The \"debt\", with values of either 1 or 0, is obviously intended to be boolean. \n",
    "\"days_employed\" is likely supposed to be an integer. What is the meaning of the subdecimals then? Whatever it is, it's statistically insignificant, so we can safely round it to integers. No need to do that with \"total_income\" however, since you can get paid a fraction of most currencies."
   ]
  },
  {
   "cell_type": "code",
   "execution_count": 8,
   "metadata": {},
   "outputs": [
    {
     "name": "stdout",
     "output_type": "stream",
     "text": [
      "<class 'pandas.core.frame.DataFrame'>\n",
      "RangeIndex: 21525 entries, 0 to 21524\n",
      "Data columns (total 2 columns):\n",
      "days_employed    21525 non-null int32\n",
      "debt             21525 non-null bool\n",
      "dtypes: bool(1), int32(1)\n",
      "memory usage: 105.2 KB\n"
     ]
    }
   ],
   "source": [
    "df['debt'] = df['debt'].astype('bool')\n",
    "df['days_employed'] = df['days_employed'].astype('int32')\n",
    "\n",
    "df[['days_employed', 'debt']].info()"
   ]
  },
  {
   "cell_type": "markdown",
   "metadata": {},
   "source": [
    "The database info also showed us that all numeric values take up 64 bytes each - more than neccesary. We'll slim down the size of the dataframe by replacing their types as well."
   ]
  },
  {
   "cell_type": "code",
   "execution_count": 9,
   "metadata": {},
   "outputs": [
    {
     "name": "stdout",
     "output_type": "stream",
     "text": [
      "<class 'pandas.core.frame.DataFrame'>\n",
      "RangeIndex: 21525 entries, 0 to 21524\n",
      "Data columns (total 12 columns):\n",
      "children            21525 non-null int8\n",
      "days_employed       21525 non-null int32\n",
      "dob_years           21525 non-null int8\n",
      "education           21525 non-null object\n",
      "education_id        21525 non-null int8\n",
      "family_status       21525 non-null object\n",
      "family_status_id    21525 non-null int8\n",
      "gender              21525 non-null object\n",
      "income_type         21525 non-null object\n",
      "debt                21525 non-null bool\n",
      "total_income        21525 non-null float32\n",
      "purpose             21525 non-null object\n",
      "dtypes: bool(1), float32(1), int32(1), int8(4), object(5)\n",
      "memory usage: 1.1+ MB\n"
     ]
    }
   ],
   "source": [
    "for column in ['children', 'dob_years', 'education_id', 'family_status_id']:\n",
    "    df[column] = df[column].astype('int8')\n",
    "    \n",
    "df['total_income'] = df['total_income'].astype('float32')\n",
    "\n",
    "df.info()"
   ]
  },
  {
   "cell_type": "markdown",
   "metadata": {},
   "source": [
    "### Conclusion"
   ]
  },
  {
   "cell_type": "markdown",
   "metadata": {},
   "source": [
    "Two columns were assigned another data type, and all numerical values were given a smaller version of their data types. Thanks to our treatment, the dataframe's size was reduced by almost half."
   ]
  },
  {
   "cell_type": "markdown",
   "metadata": {},
   "source": [
    "### Processing duplicates"
   ]
  },
  {
   "cell_type": "markdown",
   "metadata": {},
   "source": [
    "First we check for duplicates."
   ]
  },
  {
   "cell_type": "code",
   "execution_count": 10,
   "metadata": {},
   "outputs": [
    {
     "name": "stdout",
     "output_type": "stream",
     "text": [
      "Total duplicates: 54\n",
      "Percent of dataset: 0.3%\n"
     ]
    }
   ],
   "source": [
    "print(f'Total duplicates: {df.duplicated().sum()}')\n",
    "print(f'Percent of dataset: {df.duplicated().sum() / len(df):.1%}')"
   ]
  },
  {
   "cell_type": "markdown",
   "metadata": {},
   "source": [
    "It's an insignificant percentage, so we can safely remove it."
   ]
  },
  {
   "cell_type": "code",
   "execution_count": 11,
   "metadata": {},
   "outputs": [
    {
     "name": "stdout",
     "output_type": "stream",
     "text": [
      "Total duplicates: 0\n",
      "Percent of dataset: 0.0%\n"
     ]
    }
   ],
   "source": [
    "df = df.drop_duplicates().reset_index(drop=True)\n",
    "\n",
    "print(f'Total duplicates: {df.duplicated().sum()}')\n",
    "print(f'Percent of dataset: {df.duplicated().sum() / len(df):.1%}')"
   ]
  },
  {
   "cell_type": "markdown",
   "metadata": {},
   "source": [
    "### Conclusion"
   ]
  },
  {
   "cell_type": "markdown",
   "metadata": {},
   "source": [
    "The dataset had an insignificant number of duplicates, and they were all removed."
   ]
  },
  {
   "cell_type": "markdown",
   "metadata": {},
   "source": [
    "### Categorizing Data"
   ]
  },
  {
   "cell_type": "markdown",
   "metadata": {},
   "source": [
    "Let's have a look at the categorical value counts."
   ]
  },
  {
   "cell_type": "code",
   "execution_count": 12,
   "metadata": {},
   "outputs": [
    {
     "name": "stdout",
     "output_type": "stream",
     "text": [
      "education\n",
      "secondary education    13705\n",
      "bachelor's degree       4710\n",
      "SECONDARY EDUCATION      772\n",
      "Secondary Education      711\n",
      "some college             668\n",
      "BACHELOR'S DEGREE        273\n",
      "Bachelor's Degree        268\n",
      "primary education        250\n",
      "Some College              47\n",
      "SOME COLLEGE              29\n",
      "PRIMARY EDUCATION         17\n",
      "Primary Education         15\n",
      "graduate degree            4\n",
      "Graduate Degree            1\n",
      "GRADUATE DEGREE            1\n",
      "Name: education, dtype: int64\n",
      "\n",
      "family_status\n",
      "married              12344\n",
      "civil partnership     4163\n",
      "unmarried             2810\n",
      "divorced              1195\n",
      "widow / widower        959\n",
      "Name: family_status, dtype: int64\n",
      "\n",
      "gender\n",
      "F      14189\n",
      "M       7281\n",
      "XNA        1\n",
      "Name: gender, dtype: int64\n",
      "\n",
      "income_type\n",
      "employee                       11091\n",
      "business                        5080\n",
      "retiree                         3837\n",
      "civil servant                   1457\n",
      "entrepreneur                       2\n",
      "unemployed                         2\n",
      "paternity / maternity leave        1\n",
      "student                            1\n",
      "Name: income_type, dtype: int64\n",
      "\n",
      "purpose\n",
      "wedding ceremony                            793\n",
      "having a wedding                            773\n",
      "to have a wedding                           769\n",
      "real estate transactions                    675\n",
      "buy commercial real estate                  662\n",
      "buying property for renting out             652\n",
      "housing transactions                        652\n",
      "transactions with commercial real estate    650\n",
      "purchase of the house                       646\n",
      "housing                                     646\n",
      "purchase of the house for my family         638\n",
      "construction of own property                635\n",
      "property                                    633\n",
      "transactions with my real estate            627\n",
      "building a real estate                      625\n",
      "buy real estate                             621\n",
      "purchase of my own house                    620\n",
      "building a property                         619\n",
      "housing renovation                          607\n",
      "buy residential real estate                 606\n",
      "buying my own car                           505\n",
      "going to university                         496\n",
      "car                                         494\n",
      "second-hand car purchase                    486\n",
      "to own a car                                479\n",
      "cars                                        478\n",
      "buying a second-hand car                    478\n",
      "to buy a car                                472\n",
      "car purchase                                461\n",
      "supplementary education                     460\n",
      "purchase of a car                           455\n",
      "university education                        452\n",
      "to get a supplementary education            447\n",
      "education                                   447\n",
      "getting an education                        442\n",
      "profile education                           436\n",
      "getting higher education                    426\n",
      "to become educated                          408\n",
      "Name: purpose, dtype: int64\n",
      "\n"
     ]
    }
   ],
   "source": [
    "for column in ['education', 'family_status', 'gender', 'income_type', 'purpose']:\n",
    "    print(column)\n",
    "    print(df[column].value_counts())\n",
    "    print()"
   ]
  },
  {
   "cell_type": "markdown",
   "metadata": {},
   "source": [
    "We'll take care of these one by one. \n",
    "In \"education\" we need to change to lowercase."
   ]
  },
  {
   "cell_type": "code",
   "execution_count": 13,
   "metadata": {},
   "outputs": [
    {
     "name": "stdout",
     "output_type": "stream",
     "text": [
      "secondary education    15188\n",
      "bachelor's degree       5251\n",
      "some college             744\n",
      "primary education        282\n",
      "graduate degree            6\n",
      "Name: education, dtype: int64\n"
     ]
    }
   ],
   "source": [
    "df['education'] = df['education'].str.lower()\n",
    "print(df['education'].value_counts())"
   ]
  },
  {
   "cell_type": "markdown",
   "metadata": {},
   "source": [
    "Only 6 graduate degree holders. It's statistically insignificant, so we'll just combine them with the other degree holders."
   ]
  },
  {
   "cell_type": "code",
   "execution_count": 14,
   "metadata": {},
   "outputs": [
    {
     "name": "stdout",
     "output_type": "stream",
     "text": [
      "secondary education    15188\n",
      "academic degree         5257\n",
      "some college             744\n",
      "primary education        282\n",
      "Name: education, dtype: int64\n"
     ]
    }
   ],
   "source": [
    "df.loc[df['education'] == 'bachelor\\'s degree' , 'education'] = 'academic degree'\n",
    "df.loc[df['education'] == 'graduate degree' , 'education'] = 'academic degree'\n",
    "\n",
    "print(df['education'].value_counts())"
   ]
  },
  {
   "cell_type": "markdown",
   "metadata": {},
   "source": [
    "\"family_status\" seems alright. Gender has a single unusual value. According to the data, females are twice as likely to take a loan, so we'll assume it's a female."
   ]
  },
  {
   "cell_type": "code",
   "execution_count": 15,
   "metadata": {},
   "outputs": [
    {
     "name": "stdout",
     "output_type": "stream",
     "text": [
      "F    14190\n",
      "M     7281\n",
      "Name: gender, dtype: int64\n"
     ]
    }
   ],
   "source": [
    "df.loc[df['gender'] == 'XNA' , 'gender'] = 'F'\n",
    "\n",
    "print(df['gender'].value_counts())"
   ]
  },
  {
   "cell_type": "markdown",
   "metadata": {},
   "source": [
    "In \"income_type\" we have 4 values with 1-2 counts and we should merge them to the other categories based on educated guesses (even if we're wrong it's statistically insignificant). If the sole student have an income he's probably employed. The unemployed and those on paternity\\maternity leave are getting welfare cheques based on the income they had as emploees, and will likely get back to be employed at some point. lastly, entrepreneurship is just a fancy word for business."
   ]
  },
  {
   "cell_type": "code",
   "execution_count": 16,
   "metadata": {},
   "outputs": [
    {
     "data": {
      "text/plain": [
       "employee         11095\n",
       "business          5082\n",
       "retiree           3837\n",
       "civil servant     1457\n",
       "Name: income_type, dtype: int64"
      ]
     },
     "execution_count": 16,
     "metadata": {},
     "output_type": "execute_result"
    }
   ],
   "source": [
    "df.loc[df['income_type'] == 'student' , 'income_type'] = 'employee'\n",
    "df.loc[df['income_type'] == 'unemployed' , 'income_type'] = 'employee'\n",
    "df.loc[df['income_type'] == 'paternity / maternity leave' , 'income_type'] = 'employee'\n",
    "df.loc[df['income_type'] == 'entrepreneur' , 'income_type'] = 'business'\n",
    "\n",
    "df['income_type'].value_counts()"
   ]
  },
  {
   "cell_type": "markdown",
   "metadata": {},
   "source": [
    "All purposes are related to education, property, wedding or buying a car. We'll add a column for purpose category based on that."
   ]
  },
  {
   "cell_type": "code",
   "execution_count": 17,
   "metadata": {},
   "outputs": [
    {
     "name": "stdout",
     "output_type": "stream",
     "text": [
      "wed\n",
      "car\n",
      "automobil\n",
      "properti\n",
      "hous\n",
      "hous\n",
      "estat\n",
      "univers\n",
      "educ\n",
      "educ\n",
      "colleg\n"
     ]
    }
   ],
   "source": [
    "stemmer = SnowballStemmer('english')\n",
    "\n",
    "test_vocab = ['wedding', 'car', 'automobile', 'property', 'house', 'housing', \n",
    "        'estate', 'university', 'education', 'educate', 'college',\n",
    "       ]\n",
    "\n",
    "for word in test_vocab:\n",
    "    stem = stemmer.stem(word)\n",
    "    print(stem)"
   ]
  },
  {
   "cell_type": "code",
   "execution_count": 18,
   "metadata": {},
   "outputs": [
    {
     "data": {
      "text/plain": [
       "property     10814\n",
       "car           4308\n",
       "education     4014\n",
       "wedding       2335\n",
       "Name: purpose_type, dtype: int64"
      ]
     },
     "execution_count": 18,
     "metadata": {},
     "output_type": "execute_result"
    }
   ],
   "source": [
    "def purpose_type(entry):\n",
    "    for word in entry.split():\n",
    "        stem = stemmer.stem(word)\n",
    "        if stem == 'wed':\n",
    "            return 'wedding'\n",
    "        elif stem == 'car' or stem == 'automobil':\n",
    "            return 'car'\n",
    "        elif stem == 'educ' or stem == 'univers' or stem == 'colleg':\n",
    "            return 'education'\n",
    "        elif stem == 'properti' or stem == 'hous' or stem == 'estat':\n",
    "            return 'property'\n",
    "    return 'other'\n",
    "\n",
    "df['purpose_type'] = df['purpose'].apply(purpose_type)\n",
    "df['purpose_type'].value_counts()"
   ]
  },
  {
   "cell_type": "markdown",
   "metadata": {},
   "source": [
    "There is something awkward about \"children\":"
   ]
  },
  {
   "cell_type": "code",
   "execution_count": 19,
   "metadata": {},
   "outputs": [
    {
     "data": {
      "text/plain": [
       "0     14107\n",
       "1      4856\n",
       "2      2052\n",
       "3       330\n",
       "20       76\n",
       "4        41\n",
       "5         9\n",
       "Name: children, dtype: int64"
      ]
     },
     "execution_count": 19,
     "metadata": {},
     "output_type": "execute_result"
    }
   ],
   "source": [
    "df['children'].value_counts()"
   ]
  },
  {
   "cell_type": "markdown",
   "metadata": {},
   "source": [
    "Seems unlikely that so many people had 20 children, considering nobody had 6-19 children. 2 is right above 0 in the numpad, so it's probably a repeating typo. \n",
    "We'll also add a boolean column for having children (any number). "
   ]
  },
  {
   "cell_type": "code",
   "execution_count": 20,
   "metadata": {},
   "outputs": [
    {
     "name": "stdout",
     "output_type": "stream",
     "text": [
      "0    14107\n",
      "1     4856\n",
      "2     2128\n",
      "3      330\n",
      "4       41\n",
      "5        9\n",
      "Name: children, dtype: int64\n",
      "\n",
      "False    14107\n",
      "True      7364\n",
      "Name: children_bool, dtype: int64\n"
     ]
    }
   ],
   "source": [
    "df.loc[df['children'] == 20, 'children'] = 2\n",
    "df['children_bool'] = df['children'].astype('bool')\n",
    "\n",
    "print(df['children'].value_counts())\n",
    "print()\n",
    "print(df['children_bool'].value_counts())\n"
   ]
  },
  {
   "cell_type": "markdown",
   "metadata": {},
   "source": [
    "Last but not least, we'll add a column of income categories. We will need it later.  "
   ]
  },
  {
   "cell_type": "code",
   "execution_count": 21,
   "metadata": {},
   "outputs": [
    {
     "data": {
      "text/plain": [
       "count     21471.000000\n",
       "mean      26468.162109\n",
       "std       15720.878906\n",
       "min        3306.761963\n",
       "25%       17211.000000\n",
       "50%       22975.294922\n",
       "75%       31726.048828\n",
       "max      362496.656250\n",
       "Name: total_income, dtype: float64"
      ]
     },
     "execution_count": 21,
     "metadata": {},
     "output_type": "execute_result"
    }
   ],
   "source": [
    "df['total_income'].describe()"
   ]
  },
  {
   "cell_type": "code",
   "execution_count": 22,
   "metadata": {},
   "outputs": [
    {
     "name": "stdout",
     "output_type": "stream",
     "text": [
      "17-23k    5520\n",
      "23-32k    5475\n",
      "32k+      5253\n",
      "0-17k     5223\n",
      "Name: income_level, dtype: int64\n"
     ]
    }
   ],
   "source": [
    "def income_level(income):\n",
    "    if income < 0 or income == np.nan:\n",
    "        return 'invalid'\n",
    "    elif income <= 17000:\n",
    "        return '0-17k'\n",
    "    elif income <= 23000:\n",
    "        return '17-23k'\n",
    "    elif income <= 32000:\n",
    "        return '23-32k'\n",
    "    else:\n",
    "        return '32k+'\n",
    "    \n",
    "df['income_level'] = df['total_income'].apply(income_level)\n",
    "print(df['income_level'].value_counts())"
   ]
  },
  {
   "cell_type": "markdown",
   "metadata": {},
   "source": [
    "### Conclusion"
   ]
  },
  {
   "cell_type": "markdown",
   "metadata": {},
   "source": [
    "Some categorical columns were messy, but we took care of that."
   ]
  },
  {
   "cell_type": "markdown",
   "metadata": {},
   "source": [
    "## Questions and Answers"
   ]
  },
  {
   "cell_type": "markdown",
   "metadata": {},
   "source": [
    "- Is there a relation between having kids and repaying a loan on time?"
   ]
  },
  {
   "cell_type": "code",
   "execution_count": 23,
   "metadata": {},
   "outputs": [
    {
     "data": {
      "text/html": [
       "<div>\n",
       "<style scoped>\n",
       "    .dataframe tbody tr th:only-of-type {\n",
       "        vertical-align: middle;\n",
       "    }\n",
       "\n",
       "    .dataframe tbody tr th {\n",
       "        vertical-align: top;\n",
       "    }\n",
       "\n",
       "    .dataframe thead tr th {\n",
       "        text-align: left;\n",
       "    }\n",
       "\n",
       "    .dataframe thead tr:last-of-type th {\n",
       "        text-align: right;\n",
       "    }\n",
       "</style>\n",
       "<table border=\"1\" class=\"dataframe\">\n",
       "  <thead>\n",
       "    <tr>\n",
       "      <th></th>\n",
       "      <th>count</th>\n",
       "      <th>sum</th>\n",
       "      <th>mean</th>\n",
       "    </tr>\n",
       "    <tr>\n",
       "      <th></th>\n",
       "      <th>debt</th>\n",
       "      <th>debt</th>\n",
       "      <th>debt</th>\n",
       "    </tr>\n",
       "    <tr>\n",
       "      <th>children_bool</th>\n",
       "      <th></th>\n",
       "      <th></th>\n",
       "      <th></th>\n",
       "    </tr>\n",
       "  </thead>\n",
       "  <tbody>\n",
       "    <tr>\n",
       "      <td>False</td>\n",
       "      <td>14107</td>\n",
       "      <td>1063.0</td>\n",
       "      <td>0.075353</td>\n",
       "    </tr>\n",
       "    <tr>\n",
       "      <td>True</td>\n",
       "      <td>7364</td>\n",
       "      <td>678.0</td>\n",
       "      <td>0.092070</td>\n",
       "    </tr>\n",
       "  </tbody>\n",
       "</table>\n",
       "</div>"
      ],
      "text/plain": [
       "               count     sum      mean\n",
       "                debt    debt      debt\n",
       "children_bool                         \n",
       "False          14107  1063.0  0.075353\n",
       "True            7364   678.0  0.092070"
      ]
     },
     "execution_count": 23,
     "metadata": {},
     "output_type": "execute_result"
    }
   ],
   "source": [
    "df.pivot_table(values='debt', \n",
    "               index='children_bool', \n",
    "               aggfunc=['count', 'sum', 'mean'],\n",
    "              )"
   ]
  },
  {
   "cell_type": "markdown",
   "metadata": {},
   "source": [
    "### Conclusion"
   ]
  },
  {
   "cell_type": "markdown",
   "metadata": {},
   "source": [
    "9.2% of borrowers with kids defaulted versus 7.5% of borrowers with no kids. Having kids makes you 22% more likley to default."
   ]
  },
  {
   "cell_type": "markdown",
   "metadata": {},
   "source": [
    "- Is there a relation between marital status and repaying a loan on time?"
   ]
  },
  {
   "cell_type": "code",
   "execution_count": 24,
   "metadata": {},
   "outputs": [
    {
     "data": {
      "text/html": [
       "<div>\n",
       "<style scoped>\n",
       "    .dataframe tbody tr th:only-of-type {\n",
       "        vertical-align: middle;\n",
       "    }\n",
       "\n",
       "    .dataframe tbody tr th {\n",
       "        vertical-align: top;\n",
       "    }\n",
       "\n",
       "    .dataframe thead tr th {\n",
       "        text-align: left;\n",
       "    }\n",
       "\n",
       "    .dataframe thead tr:last-of-type th {\n",
       "        text-align: right;\n",
       "    }\n",
       "</style>\n",
       "<table border=\"1\" class=\"dataframe\">\n",
       "  <thead>\n",
       "    <tr>\n",
       "      <th></th>\n",
       "      <th>count</th>\n",
       "      <th>sum</th>\n",
       "      <th>mean</th>\n",
       "    </tr>\n",
       "    <tr>\n",
       "      <th></th>\n",
       "      <th>debt</th>\n",
       "      <th>debt</th>\n",
       "      <th>debt</th>\n",
       "    </tr>\n",
       "    <tr>\n",
       "      <th>family_status</th>\n",
       "      <th></th>\n",
       "      <th></th>\n",
       "      <th></th>\n",
       "    </tr>\n",
       "  </thead>\n",
       "  <tbody>\n",
       "    <tr>\n",
       "      <td>unmarried</td>\n",
       "      <td>2810</td>\n",
       "      <td>274.0</td>\n",
       "      <td>0.097509</td>\n",
       "    </tr>\n",
       "    <tr>\n",
       "      <td>civil partnership</td>\n",
       "      <td>4163</td>\n",
       "      <td>388.0</td>\n",
       "      <td>0.093202</td>\n",
       "    </tr>\n",
       "    <tr>\n",
       "      <td>married</td>\n",
       "      <td>12344</td>\n",
       "      <td>931.0</td>\n",
       "      <td>0.075421</td>\n",
       "    </tr>\n",
       "    <tr>\n",
       "      <td>divorced</td>\n",
       "      <td>1195</td>\n",
       "      <td>85.0</td>\n",
       "      <td>0.071130</td>\n",
       "    </tr>\n",
       "    <tr>\n",
       "      <td>widow / widower</td>\n",
       "      <td>959</td>\n",
       "      <td>63.0</td>\n",
       "      <td>0.065693</td>\n",
       "    </tr>\n",
       "  </tbody>\n",
       "</table>\n",
       "</div>"
      ],
      "text/plain": [
       "                   count    sum      mean\n",
       "                    debt   debt      debt\n",
       "family_status                            \n",
       "unmarried           2810  274.0  0.097509\n",
       "civil partnership   4163  388.0  0.093202\n",
       "married            12344  931.0  0.075421\n",
       "divorced            1195   85.0  0.071130\n",
       "widow / widower      959   63.0  0.065693"
      ]
     },
     "execution_count": 24,
     "metadata": {},
     "output_type": "execute_result"
    }
   ],
   "source": [
    "df.pivot_table(values='debt', \n",
    "               index='family_status', \n",
    "               aggfunc=['count', 'sum', 'mean'],\n",
    "              ).sort_values(('mean', 'debt'), ascending=False)"
   ]
  },
  {
   "cell_type": "markdown",
   "metadata": {},
   "source": [
    "### Conclusion"
   ]
  },
  {
   "cell_type": "markdown",
   "metadata": {},
   "source": [
    "Marital status is correlated to defaulting. Unmarried and civil partnership have a higher than average probability to default, while all other have a lower than average chance, with widows\\wodowers the most likely to repay on time."
   ]
  },
  {
   "cell_type": "markdown",
   "metadata": {},
   "source": [
    "\n",
    "\n",
    "- Is there a relation between income level and repaying a loan on time?"
   ]
  },
  {
   "cell_type": "code",
   "execution_count": 25,
   "metadata": {},
   "outputs": [
    {
     "data": {
      "text/html": [
       "<div>\n",
       "<style scoped>\n",
       "    .dataframe tbody tr th:only-of-type {\n",
       "        vertical-align: middle;\n",
       "    }\n",
       "\n",
       "    .dataframe tbody tr th {\n",
       "        vertical-align: top;\n",
       "    }\n",
       "\n",
       "    .dataframe thead tr th {\n",
       "        text-align: left;\n",
       "    }\n",
       "\n",
       "    .dataframe thead tr:last-of-type th {\n",
       "        text-align: right;\n",
       "    }\n",
       "</style>\n",
       "<table border=\"1\" class=\"dataframe\">\n",
       "  <thead>\n",
       "    <tr>\n",
       "      <th></th>\n",
       "      <th>count</th>\n",
       "      <th>sum</th>\n",
       "      <th>mean</th>\n",
       "    </tr>\n",
       "    <tr>\n",
       "      <th></th>\n",
       "      <th>debt</th>\n",
       "      <th>debt</th>\n",
       "      <th>debt</th>\n",
       "    </tr>\n",
       "    <tr>\n",
       "      <th>income_level</th>\n",
       "      <th></th>\n",
       "      <th></th>\n",
       "      <th></th>\n",
       "    </tr>\n",
       "  </thead>\n",
       "  <tbody>\n",
       "    <tr>\n",
       "      <td>17-23k</td>\n",
       "      <td>5520</td>\n",
       "      <td>503.0</td>\n",
       "      <td>0.091123</td>\n",
       "    </tr>\n",
       "    <tr>\n",
       "      <td>23-32k</td>\n",
       "      <td>5475</td>\n",
       "      <td>463.0</td>\n",
       "      <td>0.084566</td>\n",
       "    </tr>\n",
       "    <tr>\n",
       "      <td>0-17k</td>\n",
       "      <td>5223</td>\n",
       "      <td>409.0</td>\n",
       "      <td>0.078307</td>\n",
       "    </tr>\n",
       "    <tr>\n",
       "      <td>32k+</td>\n",
       "      <td>5253</td>\n",
       "      <td>366.0</td>\n",
       "      <td>0.069674</td>\n",
       "    </tr>\n",
       "  </tbody>\n",
       "</table>\n",
       "</div>"
      ],
      "text/plain": [
       "             count    sum      mean\n",
       "              debt   debt      debt\n",
       "income_level                       \n",
       "17-23k        5520  503.0  0.091123\n",
       "23-32k        5475  463.0  0.084566\n",
       "0-17k         5223  409.0  0.078307\n",
       "32k+          5253  366.0  0.069674"
      ]
     },
     "execution_count": 25,
     "metadata": {},
     "output_type": "execute_result"
    }
   ],
   "source": [
    "df.pivot_table(values='debt', \n",
    "               index='income_level', \n",
    "               aggfunc=['count', 'sum', 'mean'],\n",
    "              ).sort_values(('mean', 'debt'), ascending=False)"
   ]
  },
  {
   "cell_type": "markdown",
   "metadata": {},
   "source": [
    "### Conclusion"
   ]
  },
  {
   "cell_type": "markdown",
   "metadata": {},
   "source": [
    "Borrowers earning 17-23K a month are the most likely to default, followed by the 23-32K group. Surprisingly, those earning less than 17K are the more likely than average repay on time. Those earning 32K or more expectedly have the lowest chance to default."
   ]
  },
  {
   "cell_type": "markdown",
   "metadata": {},
   "source": [
    "- How do different loan purposes affect on-time repayment of the loan?"
   ]
  },
  {
   "cell_type": "code",
   "execution_count": 26,
   "metadata": {},
   "outputs": [
    {
     "data": {
      "text/html": [
       "<div>\n",
       "<style scoped>\n",
       "    .dataframe tbody tr th:only-of-type {\n",
       "        vertical-align: middle;\n",
       "    }\n",
       "\n",
       "    .dataframe tbody tr th {\n",
       "        vertical-align: top;\n",
       "    }\n",
       "\n",
       "    .dataframe thead tr th {\n",
       "        text-align: left;\n",
       "    }\n",
       "\n",
       "    .dataframe thead tr:last-of-type th {\n",
       "        text-align: right;\n",
       "    }\n",
       "</style>\n",
       "<table border=\"1\" class=\"dataframe\">\n",
       "  <thead>\n",
       "    <tr>\n",
       "      <th></th>\n",
       "      <th>count</th>\n",
       "      <th>sum</th>\n",
       "      <th>mean</th>\n",
       "    </tr>\n",
       "    <tr>\n",
       "      <th></th>\n",
       "      <th>debt</th>\n",
       "      <th>debt</th>\n",
       "      <th>debt</th>\n",
       "    </tr>\n",
       "    <tr>\n",
       "      <th>purpose_type</th>\n",
       "      <th></th>\n",
       "      <th></th>\n",
       "      <th></th>\n",
       "    </tr>\n",
       "  </thead>\n",
       "  <tbody>\n",
       "    <tr>\n",
       "      <td>car</td>\n",
       "      <td>4308</td>\n",
       "      <td>403.0</td>\n",
       "      <td>0.093547</td>\n",
       "    </tr>\n",
       "    <tr>\n",
       "      <td>education</td>\n",
       "      <td>4014</td>\n",
       "      <td>370.0</td>\n",
       "      <td>0.092177</td>\n",
       "    </tr>\n",
       "    <tr>\n",
       "      <td>wedding</td>\n",
       "      <td>2335</td>\n",
       "      <td>186.0</td>\n",
       "      <td>0.079657</td>\n",
       "    </tr>\n",
       "    <tr>\n",
       "      <td>property</td>\n",
       "      <td>10814</td>\n",
       "      <td>782.0</td>\n",
       "      <td>0.072314</td>\n",
       "    </tr>\n",
       "  </tbody>\n",
       "</table>\n",
       "</div>"
      ],
      "text/plain": [
       "              count    sum      mean\n",
       "               debt   debt      debt\n",
       "purpose_type                        \n",
       "car            4308  403.0  0.093547\n",
       "education      4014  370.0  0.092177\n",
       "wedding        2335  186.0  0.079657\n",
       "property      10814  782.0  0.072314"
      ]
     },
     "execution_count": 26,
     "metadata": {},
     "output_type": "execute_result"
    }
   ],
   "source": [
    "df.pivot_table(values='debt', \n",
    "               index='purpose_type', \n",
    "               aggfunc=['count', 'sum', 'mean'],\n",
    "              ).sort_values(('mean', 'debt'), ascending=False)"
   ]
  },
  {
   "cell_type": "markdown",
   "metadata": {},
   "source": [
    "### Conclusion"
   ]
  },
  {
   "cell_type": "markdown",
   "metadata": {},
   "source": [
    "When buying a car, the borrower is least likely to repay on time, followed closely by paying for education. For wedding the probability of defaulting is slightly lower than average, and real estate is the safest category."
   ]
  },
  {
   "cell_type": "markdown",
   "metadata": {},
   "source": [
    "## General conclusion"
   ]
  },
  {
   "cell_type": "markdown",
   "metadata": {},
   "source": [
    "In this report, we investigated data about loan takers, with the purpose of finding which factors correlate to repaying debt on time. During the analysis, we filled in gaps in the data, removed duplicates and arranged all borrowers in categories for easy comparison. We found that having kids, being unmarried or in civil partnership, earning 17-32K a month and borrowing to pay for a car or education are all related to higher than average chance of defaulting on your loan."
   ]
  }
 ],
 "metadata": {
  "ExecuteTimeLog": [
   {
    "duration": 972,
    "start_time": "2021-10-11T18:50:37.097Z"
   },
   {
    "duration": 141,
    "start_time": "2021-10-11T18:50:42.645Z"
   },
   {
    "duration": 66,
    "start_time": "2021-10-11T18:50:45.809Z"
   },
   {
    "duration": 46,
    "start_time": "2021-10-11T18:51:17.696Z"
   },
   {
    "duration": 177,
    "start_time": "2021-10-11T18:52:54.535Z"
   },
   {
    "duration": 66,
    "start_time": "2021-10-11T18:54:11.533Z"
   },
   {
    "duration": 72,
    "start_time": "2021-10-11T18:54:58.657Z"
   },
   {
    "duration": 64,
    "start_time": "2021-10-11T18:57:11.963Z"
   },
   {
    "duration": 61,
    "start_time": "2021-10-11T19:01:51.250Z"
   },
   {
    "duration": 48,
    "start_time": "2021-10-11T19:04:17.433Z"
   },
   {
    "duration": 77,
    "start_time": "2021-10-11T19:04:48.359Z"
   },
   {
    "duration": 70,
    "start_time": "2021-10-11T19:05:00.891Z"
   },
   {
    "duration": 4,
    "start_time": "2021-10-11T19:36:28.510Z"
   },
   {
    "duration": 4,
    "start_time": "2021-10-11T19:37:08.519Z"
   },
   {
    "duration": 7,
    "start_time": "2021-10-11T19:41:09.184Z"
   },
   {
    "duration": 6,
    "start_time": "2021-10-11T19:44:09.685Z"
   },
   {
    "duration": 5,
    "start_time": "2021-10-11T19:44:37.276Z"
   },
   {
    "duration": 20,
    "start_time": "2021-10-11T19:45:15.959Z"
   },
   {
    "duration": 15,
    "start_time": "2021-10-11T19:46:06.334Z"
   },
   {
    "duration": 13,
    "start_time": "2021-10-11T19:46:22.049Z"
   },
   {
    "duration": 12,
    "start_time": "2021-10-11T19:56:39.276Z"
   },
   {
    "duration": 6,
    "start_time": "2021-10-11T19:58:20.124Z"
   },
   {
    "duration": 6,
    "start_time": "2021-10-11T19:58:50.158Z"
   },
   {
    "duration": 21,
    "start_time": "2021-10-11T20:01:48.719Z"
   },
   {
    "duration": 11,
    "start_time": "2021-10-11T20:06:27.645Z"
   },
   {
    "duration": 46,
    "start_time": "2021-10-11T20:06:47.519Z"
   },
   {
    "duration": 5,
    "start_time": "2021-10-11T20:06:51.858Z"
   },
   {
    "duration": 44,
    "start_time": "2021-10-11T20:08:07.068Z"
   },
   {
    "duration": 522,
    "start_time": "2021-10-11T20:08:19.776Z"
   },
   {
    "duration": 69,
    "start_time": "2021-10-11T20:08:44.178Z"
   },
   {
    "duration": 15,
    "start_time": "2021-10-11T20:08:51.432Z"
   },
   {
    "duration": 13,
    "start_time": "2021-10-11T20:17:45.893Z"
   },
   {
    "duration": 256,
    "start_time": "2021-10-12T05:46:49.570Z"
   },
   {
    "duration": 639,
    "start_time": "2021-10-12T05:47:05.788Z"
   },
   {
    "duration": 31,
    "start_time": "2021-10-12T05:47:41.033Z"
   },
   {
    "duration": 75,
    "start_time": "2021-10-12T05:47:53.628Z"
   },
   {
    "duration": 227,
    "start_time": "2021-10-12T05:50:14.858Z"
   },
   {
    "duration": 411,
    "start_time": "2021-10-12T05:50:22.750Z"
   },
   {
    "duration": 989,
    "start_time": "2021-10-12T05:50:37.464Z"
   },
   {
    "duration": 886,
    "start_time": "2021-10-12T05:51:42.084Z"
   },
   {
    "duration": 14,
    "start_time": "2021-10-12T05:52:56.173Z"
   },
   {
    "duration": 9,
    "start_time": "2021-10-12T05:58:01.415Z"
   },
   {
    "duration": 10,
    "start_time": "2021-10-12T05:59:13.371Z"
   },
   {
    "duration": 839,
    "start_time": "2021-10-12T05:59:33.332Z"
   },
   {
    "duration": 9,
    "start_time": "2021-10-12T06:01:46.438Z"
   },
   {
    "duration": 10,
    "start_time": "2021-10-12T06:02:03.090Z"
   },
   {
    "duration": 14,
    "start_time": "2021-10-12T06:02:30.159Z"
   },
   {
    "duration": 6,
    "start_time": "2021-10-12T06:03:25.604Z"
   },
   {
    "duration": 7,
    "start_time": "2021-10-12T06:03:36.286Z"
   },
   {
    "duration": 3,
    "start_time": "2021-10-12T06:22:05.853Z"
   },
   {
    "duration": 6,
    "start_time": "2021-10-12T06:23:36.567Z"
   },
   {
    "duration": 64,
    "start_time": "2021-10-12T06:24:11.025Z"
   },
   {
    "duration": 6,
    "start_time": "2021-10-12T06:24:27.512Z"
   },
   {
    "duration": 5,
    "start_time": "2021-10-12T06:24:42.008Z"
   },
   {
    "duration": 636,
    "start_time": "2021-10-12T15:41:05.007Z"
   },
   {
    "duration": 6,
    "start_time": "2021-10-12T15:41:05.644Z"
   },
   {
    "duration": 15,
    "start_time": "2021-10-12T15:41:05.651Z"
   },
   {
    "duration": 12,
    "start_time": "2021-10-12T15:41:05.668Z"
   },
   {
    "duration": 7,
    "start_time": "2021-10-12T15:41:05.681Z"
   },
   {
    "duration": 3,
    "start_time": "2021-10-12T15:41:05.690Z"
   },
   {
    "duration": 7,
    "start_time": "2021-10-12T15:41:05.694Z"
   },
   {
    "duration": 53,
    "start_time": "2021-10-12T15:41:05.702Z"
   },
   {
    "duration": 6,
    "start_time": "2021-10-12T15:42:26.327Z"
   },
   {
    "duration": 71,
    "start_time": "2021-10-12T15:42:48.545Z"
   },
   {
    "duration": 8,
    "start_time": "2021-10-12T15:42:54.788Z"
   },
   {
    "duration": 319,
    "start_time": "2021-10-12T16:03:40.324Z"
   },
   {
    "duration": 9,
    "start_time": "2021-10-12T16:03:54.423Z"
   },
   {
    "duration": 12,
    "start_time": "2021-10-12T16:04:02.319Z"
   },
   {
    "duration": 8,
    "start_time": "2021-10-12T16:04:38.253Z"
   },
   {
    "duration": 15,
    "start_time": "2021-10-12T16:07:38.425Z"
   },
   {
    "duration": 14,
    "start_time": "2021-10-12T16:07:42.522Z"
   },
   {
    "duration": 14,
    "start_time": "2021-10-12T16:07:51.463Z"
   },
   {
    "duration": 30,
    "start_time": "2021-10-12T16:09:43.499Z"
   },
   {
    "duration": 19,
    "start_time": "2021-10-12T16:18:56.388Z"
   },
   {
    "duration": 18,
    "start_time": "2021-10-12T16:25:33.658Z"
   },
   {
    "duration": 93,
    "start_time": "2021-10-12T16:27:33.334Z"
   },
   {
    "duration": 10,
    "start_time": "2021-10-12T16:27:43.860Z"
   },
   {
    "duration": 8,
    "start_time": "2021-10-12T16:28:04.207Z"
   },
   {
    "duration": 21,
    "start_time": "2021-10-12T16:28:19.181Z"
   },
   {
    "duration": 75,
    "start_time": "2021-10-12T16:28:28.547Z"
   },
   {
    "duration": 14,
    "start_time": "2021-10-12T16:28:34.988Z"
   },
   {
    "duration": 76,
    "start_time": "2021-10-12T16:38:08.077Z"
   },
   {
    "duration": 852,
    "start_time": "2021-10-12T16:38:20.788Z"
   },
   {
    "duration": 973,
    "start_time": "2021-10-12T16:39:06.547Z"
   },
   {
    "duration": 11,
    "start_time": "2021-10-12T16:40:18.915Z"
   },
   {
    "duration": 14,
    "start_time": "2021-10-12T16:40:47.619Z"
   },
   {
    "duration": 70,
    "start_time": "2021-10-12T17:19:52.912Z"
   },
   {
    "duration": 94,
    "start_time": "2021-10-12T17:23:19.338Z"
   },
   {
    "duration": 14,
    "start_time": "2021-10-12T17:24:36.506Z"
   },
   {
    "duration": 16,
    "start_time": "2021-10-12T17:25:03.557Z"
   },
   {
    "duration": 16,
    "start_time": "2021-10-12T17:26:48.339Z"
   },
   {
    "duration": 14,
    "start_time": "2021-10-12T17:30:08.158Z"
   },
   {
    "duration": 15,
    "start_time": "2021-10-12T17:30:42.453Z"
   },
   {
    "duration": 14,
    "start_time": "2021-10-12T17:32:31.378Z"
   },
   {
    "duration": 22,
    "start_time": "2021-10-12T17:52:15.607Z"
   },
   {
    "duration": 5,
    "start_time": "2021-10-12T18:01:45.269Z"
   },
   {
    "duration": 548,
    "start_time": "2021-10-12T18:46:48.447Z"
   },
   {
    "duration": 5,
    "start_time": "2021-10-12T18:49:32.780Z"
   },
   {
    "duration": 540,
    "start_time": "2021-10-12T18:55:16.035Z"
   },
   {
    "duration": 528,
    "start_time": "2021-10-12T18:55:20.580Z"
   },
   {
    "duration": 5,
    "start_time": "2021-10-12T18:57:04.178Z"
   },
   {
    "duration": 11,
    "start_time": "2021-10-12T19:03:31.680Z"
   },
   {
    "duration": 11,
    "start_time": "2021-10-12T19:04:12.065Z"
   },
   {
    "duration": 8,
    "start_time": "2021-10-12T19:04:24.569Z"
   },
   {
    "duration": 26,
    "start_time": "2021-10-12T19:08:42.519Z"
   },
   {
    "duration": 30,
    "start_time": "2021-10-12T19:09:08.229Z"
   },
   {
    "duration": 25,
    "start_time": "2021-10-12T19:09:29.267Z"
   },
   {
    "duration": 8,
    "start_time": "2021-10-12T19:10:49.678Z"
   },
   {
    "duration": 341,
    "start_time": "2021-10-12T19:14:53.950Z"
   },
   {
    "duration": 9,
    "start_time": "2021-10-12T19:15:14.295Z"
   },
   {
    "duration": 11,
    "start_time": "2021-10-12T19:17:00.421Z"
   },
   {
    "duration": 10,
    "start_time": "2021-10-12T19:17:19.725Z"
   },
   {
    "duration": 11,
    "start_time": "2021-10-12T19:17:47.377Z"
   },
   {
    "duration": 11,
    "start_time": "2021-10-12T19:17:53.018Z"
   },
   {
    "duration": 7,
    "start_time": "2021-10-12T19:18:13.821Z"
   },
   {
    "duration": 14,
    "start_time": "2021-10-12T19:23:06.408Z"
   },
   {
    "duration": 12,
    "start_time": "2021-10-12T19:24:05.444Z"
   },
   {
    "duration": 224,
    "start_time": "2021-10-12T19:25:06.815Z"
   },
   {
    "duration": 216,
    "start_time": "2021-10-12T19:25:14.592Z"
   },
   {
    "duration": 13,
    "start_time": "2021-10-12T19:25:25.275Z"
   },
   {
    "duration": 214,
    "start_time": "2021-10-12T19:29:54.224Z"
   },
   {
    "duration": 14,
    "start_time": "2021-10-12T19:30:00.145Z"
   },
   {
    "duration": 13,
    "start_time": "2021-10-12T19:30:38.700Z"
   },
   {
    "duration": 12,
    "start_time": "2021-10-12T19:39:03.616Z"
   },
   {
    "duration": 17,
    "start_time": "2021-10-12T19:52:40.789Z"
   },
   {
    "duration": 628,
    "start_time": "2021-10-12T20:04:31.573Z"
   },
   {
    "duration": 6,
    "start_time": "2021-10-12T20:04:32.203Z"
   },
   {
    "duration": 10,
    "start_time": "2021-10-12T20:04:32.211Z"
   },
   {
    "duration": 24,
    "start_time": "2021-10-12T20:04:32.222Z"
   },
   {
    "duration": 7,
    "start_time": "2021-10-12T20:04:32.248Z"
   },
   {
    "duration": 7,
    "start_time": "2021-10-12T20:04:32.257Z"
   },
   {
    "duration": 13,
    "start_time": "2021-10-12T20:04:32.265Z"
   },
   {
    "duration": 27,
    "start_time": "2021-10-12T20:04:32.280Z"
   },
   {
    "duration": 53,
    "start_time": "2021-10-12T20:04:32.309Z"
   },
   {
    "duration": 14,
    "start_time": "2021-10-12T20:04:32.363Z"
   },
   {
    "duration": 14,
    "start_time": "2021-10-12T20:04:32.378Z"
   },
   {
    "duration": 19,
    "start_time": "2021-10-12T20:04:32.394Z"
   },
   {
    "duration": 625,
    "start_time": "2021-10-12T20:04:32.415Z"
   },
   {
    "duration": 554,
    "start_time": "2021-10-12T20:04:33.041Z"
   },
   {
    "duration": 5,
    "start_time": "2021-10-12T20:04:33.597Z"
   },
   {
    "duration": 17,
    "start_time": "2021-10-12T20:04:33.603Z"
   },
   {
    "duration": 27,
    "start_time": "2021-10-12T20:04:33.621Z"
   },
   {
    "duration": 17,
    "start_time": "2021-10-12T20:04:33.650Z"
   },
   {
    "duration": 12,
    "start_time": "2021-10-12T20:04:33.669Z"
   },
   {
    "duration": 11,
    "start_time": "2021-10-12T20:04:33.682Z"
   },
   {
    "duration": 13,
    "start_time": "2021-10-12T20:04:33.695Z"
   },
   {
    "duration": 6,
    "start_time": "2021-10-12T20:07:29.475Z"
   },
   {
    "duration": 573,
    "start_time": "2021-10-12T20:45:39.947Z"
   },
   {
    "duration": 787,
    "start_time": "2021-10-12T20:45:44.222Z"
   },
   {
    "duration": 11,
    "start_time": "2021-10-12T20:45:45.012Z"
   },
   {
    "duration": 32,
    "start_time": "2021-10-12T20:45:45.027Z"
   },
   {
    "duration": 24,
    "start_time": "2021-10-12T20:45:45.063Z"
   },
   {
    "duration": 5,
    "start_time": "2021-10-12T20:45:48.324Z"
   },
   {
    "duration": 156,
    "start_time": "2021-10-12T20:54:15.517Z"
   },
   {
    "duration": 818,
    "start_time": "2021-10-13T15:38:04.878Z"
   },
   {
    "duration": 6,
    "start_time": "2021-10-13T15:38:11.390Z"
   },
   {
    "duration": 9,
    "start_time": "2021-10-13T15:38:13.674Z"
   },
   {
    "duration": 14,
    "start_time": "2021-10-13T15:38:16.515Z"
   },
   {
    "duration": 10,
    "start_time": "2021-10-13T15:38:19.973Z"
   },
   {
    "duration": 10,
    "start_time": "2021-10-13T15:38:27.303Z"
   },
   {
    "duration": 313,
    "start_time": "2021-10-13T15:38:30.791Z"
   },
   {
    "duration": 26,
    "start_time": "2021-10-13T15:39:00.398Z"
   },
   {
    "duration": 37,
    "start_time": "2021-10-13T15:42:45.798Z"
   },
   {
    "duration": 80,
    "start_time": "2021-10-13T15:44:46.961Z"
   },
   {
    "duration": 78,
    "start_time": "2021-10-13T15:45:32.713Z"
   },
   {
    "duration": 14,
    "start_time": "2021-10-13T15:46:14.852Z"
   },
   {
    "duration": 79,
    "start_time": "2021-10-13T15:46:33.845Z"
   },
   {
    "duration": 78,
    "start_time": "2021-10-13T15:47:19.046Z"
   },
   {
    "duration": 76,
    "start_time": "2021-10-13T15:47:55.111Z"
   },
   {
    "duration": 61,
    "start_time": "2021-10-13T15:49:48.514Z"
   },
   {
    "duration": 44,
    "start_time": "2021-10-13T15:49:58.132Z"
   },
   {
    "duration": 37,
    "start_time": "2021-10-13T15:50:01.089Z"
   },
   {
    "duration": 14,
    "start_time": "2021-10-13T15:51:52.340Z"
   },
   {
    "duration": 225,
    "start_time": "2021-10-13T15:59:00.429Z"
   },
   {
    "duration": 215,
    "start_time": "2021-10-13T15:59:28.852Z"
   },
   {
    "duration": 209,
    "start_time": "2021-10-13T15:59:37.390Z"
   },
   {
    "duration": 15,
    "start_time": "2021-10-13T15:59:48.065Z"
   },
   {
    "duration": 79,
    "start_time": "2021-10-13T16:01:43.001Z"
   },
   {
    "duration": 15,
    "start_time": "2021-10-13T16:01:55.617Z"
   },
   {
    "duration": 16,
    "start_time": "2021-10-13T16:02:07.323Z"
   },
   {
    "duration": 50,
    "start_time": "2021-10-13T16:07:14.238Z"
   },
   {
    "duration": 33,
    "start_time": "2021-10-13T16:07:49.298Z"
   },
   {
    "duration": 13,
    "start_time": "2021-10-13T16:15:25.081Z"
   },
   {
    "duration": 15,
    "start_time": "2021-10-13T16:21:41.543Z"
   },
   {
    "duration": 13,
    "start_time": "2021-10-13T16:25:05.395Z"
   },
   {
    "duration": 14,
    "start_time": "2021-10-13T16:27:32.621Z"
   },
   {
    "duration": 24,
    "start_time": "2021-10-13T16:30:42.737Z"
   },
   {
    "duration": 10,
    "start_time": "2021-10-13T16:34:37.357Z"
   },
   {
    "duration": 17,
    "start_time": "2021-10-13T16:44:48.526Z"
   },
   {
    "duration": 15,
    "start_time": "2021-10-13T16:46:34.568Z"
   },
   {
    "duration": 16,
    "start_time": "2021-10-13T16:47:49.904Z"
   },
   {
    "duration": 16,
    "start_time": "2021-10-13T16:48:32.125Z"
   },
   {
    "duration": 9,
    "start_time": "2021-10-13T16:49:57.883Z"
   },
   {
    "duration": 14,
    "start_time": "2021-10-13T16:50:47.694Z"
   },
   {
    "duration": 15,
    "start_time": "2021-10-13T16:51:11.748Z"
   },
   {
    "duration": 260,
    "start_time": "2021-10-13T16:51:54.264Z"
   },
   {
    "duration": 1217,
    "start_time": "2021-10-13T16:52:13.987Z"
   },
   {
    "duration": 33,
    "start_time": "2021-10-13T16:52:15.207Z"
   },
   {
    "duration": 33,
    "start_time": "2021-10-13T16:52:15.250Z"
   },
   {
    "duration": 6,
    "start_time": "2021-10-13T16:52:15.286Z"
   },
   {
    "duration": 9,
    "start_time": "2021-10-13T16:52:15.294Z"
   },
   {
    "duration": 49,
    "start_time": "2021-10-13T16:52:15.305Z"
   },
   {
    "duration": 17,
    "start_time": "2021-10-13T16:52:15.356Z"
   },
   {
    "duration": 8,
    "start_time": "2021-10-13T16:52:15.377Z"
   },
   {
    "duration": 15,
    "start_time": "2021-10-13T16:52:15.387Z"
   },
   {
    "duration": 53,
    "start_time": "2021-10-13T16:52:15.404Z"
   },
   {
    "duration": 38,
    "start_time": "2021-10-13T16:52:15.459Z"
   },
   {
    "duration": 18,
    "start_time": "2021-10-13T16:52:15.498Z"
   },
   {
    "duration": 37,
    "start_time": "2021-10-13T16:52:15.518Z"
   },
   {
    "duration": 15,
    "start_time": "2021-10-13T16:52:15.557Z"
   },
   {
    "duration": 13,
    "start_time": "2021-10-13T16:52:15.574Z"
   },
   {
    "duration": 28,
    "start_time": "2021-10-13T16:52:15.589Z"
   },
   {
    "duration": 33,
    "start_time": "2021-10-13T16:52:15.619Z"
   },
   {
    "duration": 574,
    "start_time": "2021-10-13T16:52:15.654Z"
   },
   {
    "duration": 7,
    "start_time": "2021-10-13T16:52:16.230Z"
   },
   {
    "duration": 27,
    "start_time": "2021-10-13T16:52:16.238Z"
   },
   {
    "duration": 8,
    "start_time": "2021-10-13T16:52:16.266Z"
   },
   {
    "duration": 15,
    "start_time": "2021-10-13T16:52:16.276Z"
   },
   {
    "duration": 59,
    "start_time": "2021-10-13T16:52:16.294Z"
   },
   {
    "duration": 13,
    "start_time": "2021-10-13T16:52:16.354Z"
   },
   {
    "duration": 14,
    "start_time": "2021-10-13T16:52:16.369Z"
   },
   {
    "duration": 13,
    "start_time": "2021-10-13T16:52:16.384Z"
   },
   {
    "duration": 332,
    "start_time": "2021-10-13T16:53:23.419Z"
   },
   {
    "duration": 246,
    "start_time": "2021-10-13T16:54:02.039Z"
   },
   {
    "duration": 29,
    "start_time": "2021-10-13T16:54:58.101Z"
   },
   {
    "duration": 228,
    "start_time": "2021-10-13T16:55:12.737Z"
   },
   {
    "duration": 29,
    "start_time": "2021-10-13T16:55:26.496Z"
   },
   {
    "duration": 28,
    "start_time": "2021-10-13T16:56:26.348Z"
   },
   {
    "duration": 29,
    "start_time": "2021-10-13T16:57:19.667Z"
   },
   {
    "duration": 29,
    "start_time": "2021-10-13T16:58:12.415Z"
   },
   {
    "duration": 1659,
    "start_time": "2021-10-15T16:33:25.246Z"
   },
   {
    "duration": 62,
    "start_time": "2021-10-15T16:33:26.908Z"
   },
   {
    "duration": 50,
    "start_time": "2021-10-15T16:33:26.973Z"
   },
   {
    "duration": 7,
    "start_time": "2021-10-15T16:33:27.026Z"
   },
   {
    "duration": 11,
    "start_time": "2021-10-15T16:33:27.062Z"
   },
   {
    "duration": 21,
    "start_time": "2021-10-15T16:33:27.075Z"
   },
   {
    "duration": 22,
    "start_time": "2021-10-15T16:33:27.098Z"
   },
   {
    "duration": 47,
    "start_time": "2021-10-15T16:33:27.123Z"
   },
   {
    "duration": 20,
    "start_time": "2021-10-15T16:33:27.174Z"
   },
   {
    "duration": 35,
    "start_time": "2021-10-15T16:33:27.197Z"
   },
   {
    "duration": 55,
    "start_time": "2021-10-15T16:33:27.262Z"
   },
   {
    "duration": 49,
    "start_time": "2021-10-15T16:33:27.320Z"
   },
   {
    "duration": 23,
    "start_time": "2021-10-15T16:33:27.372Z"
   },
   {
    "duration": 23,
    "start_time": "2021-10-15T16:33:27.398Z"
   },
   {
    "duration": 46,
    "start_time": "2021-10-15T16:33:27.424Z"
   },
   {
    "duration": 32,
    "start_time": "2021-10-15T16:33:27.472Z"
   },
   {
    "duration": 6,
    "start_time": "2021-10-15T16:33:27.507Z"
   },
   {
    "duration": 1049,
    "start_time": "2021-10-15T16:33:27.516Z"
   },
   {
    "duration": 7,
    "start_time": "2021-10-15T16:33:28.568Z"
   },
   {
    "duration": 27,
    "start_time": "2021-10-15T16:33:28.578Z"
   },
   {
    "duration": 14,
    "start_time": "2021-10-15T16:33:28.607Z"
   },
   {
    "duration": 52,
    "start_time": "2021-10-15T16:33:28.623Z"
   },
   {
    "duration": 58,
    "start_time": "2021-10-15T16:33:28.680Z"
   },
   {
    "duration": 59,
    "start_time": "2021-10-15T16:33:28.741Z"
   },
   {
    "duration": 62,
    "start_time": "2021-10-15T16:33:28.802Z"
   },
   {
    "duration": 47,
    "start_time": "2021-10-15T16:33:28.866Z"
   }
  ],
  "kernelspec": {
   "display_name": "Python 3",
   "language": "python",
   "name": "python3"
  },
  "language_info": {
   "codemirror_mode": {
    "name": "ipython",
    "version": 3
   },
   "file_extension": ".py",
   "mimetype": "text/x-python",
   "name": "python",
   "nbconvert_exporter": "python",
   "pygments_lexer": "ipython3",
   "version": "3.8.8"
  },
  "toc": {
   "base_numbering": 1,
   "nav_menu": {},
   "number_sections": true,
   "sideBar": true,
   "skip_h1_title": true,
   "title_cell": "Table of Contents",
   "title_sidebar": "Contents",
   "toc_cell": false,
   "toc_position": {},
   "toc_section_display": true,
   "toc_window_display": false
  }
 },
 "nbformat": 4,
 "nbformat_minor": 2
}
