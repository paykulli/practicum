{
 "cells": [
  {
   "cell_type": "markdown",
   "metadata": {},
   "source": [
    "**Review**\n",
    "\n",
    "Hi, my name is Dmitry and I will be reviewing your project.\n",
    "  \n",
    "You can find my comments in colored markdown cells:\n",
    "  \n",
    "<div class=\"alert alert-success\">\n",
    "  If everything is done successfully.\n",
    "</div>\n",
    "  \n",
    "<div class=\"alert alert-warning\">\n",
    "  If I have some (optional) suggestions, or questions to think about, or general comments.\n",
    "</div>\n",
    "  \n",
    "<div class=\"alert alert-danger\">\n",
    "  If a section requires some corrections. Work can't be accepted with red comments.\n",
    "</div>\n",
    "  \n",
    "Please don't remove my comments, as it will make further review iterations much harder for me.\n",
    "  \n",
    "Feel free to reply to my comments or ask questions using the following template:\n",
    "  \n",
    "<div class=\"alert alert-info\">\n",
    "  For your comments and questions.\n",
    "</div>\n",
    "  \n",
    "First of all, thank you for turning in the project! You did an excellent job! The project is accepted. Keep up the good work on the next sprint!"
   ]
  },
  {
   "cell_type": "markdown",
   "metadata": {},
   "source": [
    "# Introduction to Machine Learning Project\n",
    "Mobile carrier Megaline has found out that many of their subscribers use legacy plans. They want to develop a model that would analyze subscribers' behavior and recommend one of Megaline's newer plans: Smart or Ultra.\n",
    "We have access to behavior data about subscribers who have already switched to the new plans (from the project for the Statistical Data Analysis course). For this classification task, we need to develop a model that will pick the right plan. Since we’ve already performed the data preprocessing step, we can move straight to creating the model."
   ]
  },
  {
   "cell_type": "markdown",
   "metadata": {},
   "source": [
    "## Data Preparation\n",
    "Every observation in the dataset contains monthly behavior information about one user. The information given is as follows:\n",
    "- `сalls` — number of calls,\n",
    "- `minutes` — total call duration in minutes,\n",
    "- `messages` — number of text messages,\n",
    "- `mb_used` — Internet traffic used in MB,\n",
    "- `is_ultra` — plan for the current month (Ultra - 1, Smart - 0)."
   ]
  },
  {
   "cell_type": "code",
   "execution_count": 1,
   "metadata": {},
   "outputs": [],
   "source": [
    "import pandas as pd\n",
    "from sklearn.model_selection import train_test_split\n",
    "from sklearn.linear_model import LogisticRegression\n",
    "from sklearn.tree import DecisionTreeClassifier\n",
    "from sklearn.ensemble import RandomForestClassifier\n",
    "from matplotlib import pyplot as plt\n",
    "import warnings"
   ]
  },
  {
   "cell_type": "code",
   "execution_count": 2,
   "metadata": {},
   "outputs": [],
   "source": [
    "try:\n",
    "    df = pd.read_csv('users_behavior.csv')\n",
    "except:\n",
    "    df = pd.read_csv('/datasets/users_behavior.csv')"
   ]
  },
  {
   "cell_type": "markdown",
   "metadata": {},
   "source": [
    "A quick overview of the data."
   ]
  },
  {
   "cell_type": "code",
   "execution_count": 3,
   "metadata": {},
   "outputs": [
    {
     "data": {
      "text/html": [
       "<div>\n",
       "<style scoped>\n",
       "    .dataframe tbody tr th:only-of-type {\n",
       "        vertical-align: middle;\n",
       "    }\n",
       "\n",
       "    .dataframe tbody tr th {\n",
       "        vertical-align: top;\n",
       "    }\n",
       "\n",
       "    .dataframe thead th {\n",
       "        text-align: right;\n",
       "    }\n",
       "</style>\n",
       "<table border=\"1\" class=\"dataframe\">\n",
       "  <thead>\n",
       "    <tr style=\"text-align: right;\">\n",
       "      <th></th>\n",
       "      <th>calls</th>\n",
       "      <th>minutes</th>\n",
       "      <th>messages</th>\n",
       "      <th>mb_used</th>\n",
       "      <th>is_ultra</th>\n",
       "    </tr>\n",
       "  </thead>\n",
       "  <tbody>\n",
       "    <tr>\n",
       "      <td>0</td>\n",
       "      <td>40.0</td>\n",
       "      <td>311.90</td>\n",
       "      <td>83.0</td>\n",
       "      <td>19915.42</td>\n",
       "      <td>0</td>\n",
       "    </tr>\n",
       "    <tr>\n",
       "      <td>1</td>\n",
       "      <td>85.0</td>\n",
       "      <td>516.75</td>\n",
       "      <td>56.0</td>\n",
       "      <td>22696.96</td>\n",
       "      <td>0</td>\n",
       "    </tr>\n",
       "    <tr>\n",
       "      <td>2</td>\n",
       "      <td>77.0</td>\n",
       "      <td>467.66</td>\n",
       "      <td>86.0</td>\n",
       "      <td>21060.45</td>\n",
       "      <td>0</td>\n",
       "    </tr>\n",
       "    <tr>\n",
       "      <td>3</td>\n",
       "      <td>106.0</td>\n",
       "      <td>745.53</td>\n",
       "      <td>81.0</td>\n",
       "      <td>8437.39</td>\n",
       "      <td>1</td>\n",
       "    </tr>\n",
       "    <tr>\n",
       "      <td>4</td>\n",
       "      <td>66.0</td>\n",
       "      <td>418.74</td>\n",
       "      <td>1.0</td>\n",
       "      <td>14502.75</td>\n",
       "      <td>0</td>\n",
       "    </tr>\n",
       "  </tbody>\n",
       "</table>\n",
       "</div>"
      ],
      "text/plain": [
       "   calls  minutes  messages   mb_used  is_ultra\n",
       "0   40.0   311.90      83.0  19915.42         0\n",
       "1   85.0   516.75      56.0  22696.96         0\n",
       "2   77.0   467.66      86.0  21060.45         0\n",
       "3  106.0   745.53      81.0   8437.39         1\n",
       "4   66.0   418.74       1.0  14502.75         0"
      ]
     },
     "execution_count": 3,
     "metadata": {},
     "output_type": "execute_result"
    }
   ],
   "source": [
    "df.head()"
   ]
  },
  {
   "cell_type": "code",
   "execution_count": 4,
   "metadata": {},
   "outputs": [
    {
     "data": {
      "text/html": [
       "<div>\n",
       "<style scoped>\n",
       "    .dataframe tbody tr th:only-of-type {\n",
       "        vertical-align: middle;\n",
       "    }\n",
       "\n",
       "    .dataframe tbody tr th {\n",
       "        vertical-align: top;\n",
       "    }\n",
       "\n",
       "    .dataframe thead th {\n",
       "        text-align: right;\n",
       "    }\n",
       "</style>\n",
       "<table border=\"1\" class=\"dataframe\">\n",
       "  <thead>\n",
       "    <tr style=\"text-align: right;\">\n",
       "      <th></th>\n",
       "      <th>count</th>\n",
       "      <th>mean</th>\n",
       "      <th>std</th>\n",
       "      <th>min</th>\n",
       "      <th>25%</th>\n",
       "      <th>50%</th>\n",
       "      <th>75%</th>\n",
       "      <th>max</th>\n",
       "    </tr>\n",
       "  </thead>\n",
       "  <tbody>\n",
       "    <tr>\n",
       "      <td>calls</td>\n",
       "      <td>3214.0</td>\n",
       "      <td>63.038892</td>\n",
       "      <td>33.236368</td>\n",
       "      <td>0.0</td>\n",
       "      <td>40.0000</td>\n",
       "      <td>62.000</td>\n",
       "      <td>82.0000</td>\n",
       "      <td>244.00</td>\n",
       "    </tr>\n",
       "    <tr>\n",
       "      <td>minutes</td>\n",
       "      <td>3214.0</td>\n",
       "      <td>438.208787</td>\n",
       "      <td>234.569872</td>\n",
       "      <td>0.0</td>\n",
       "      <td>274.5750</td>\n",
       "      <td>430.600</td>\n",
       "      <td>571.9275</td>\n",
       "      <td>1632.06</td>\n",
       "    </tr>\n",
       "    <tr>\n",
       "      <td>messages</td>\n",
       "      <td>3214.0</td>\n",
       "      <td>38.281269</td>\n",
       "      <td>36.148326</td>\n",
       "      <td>0.0</td>\n",
       "      <td>9.0000</td>\n",
       "      <td>30.000</td>\n",
       "      <td>57.0000</td>\n",
       "      <td>224.00</td>\n",
       "    </tr>\n",
       "    <tr>\n",
       "      <td>mb_used</td>\n",
       "      <td>3214.0</td>\n",
       "      <td>17207.673836</td>\n",
       "      <td>7570.968246</td>\n",
       "      <td>0.0</td>\n",
       "      <td>12491.9025</td>\n",
       "      <td>16943.235</td>\n",
       "      <td>21424.7000</td>\n",
       "      <td>49745.73</td>\n",
       "    </tr>\n",
       "    <tr>\n",
       "      <td>is_ultra</td>\n",
       "      <td>3214.0</td>\n",
       "      <td>0.306472</td>\n",
       "      <td>0.461100</td>\n",
       "      <td>0.0</td>\n",
       "      <td>0.0000</td>\n",
       "      <td>0.000</td>\n",
       "      <td>1.0000</td>\n",
       "      <td>1.00</td>\n",
       "    </tr>\n",
       "  </tbody>\n",
       "</table>\n",
       "</div>"
      ],
      "text/plain": [
       "           count          mean          std  min         25%        50%  \\\n",
       "calls     3214.0     63.038892    33.236368  0.0     40.0000     62.000   \n",
       "minutes   3214.0    438.208787   234.569872  0.0    274.5750    430.600   \n",
       "messages  3214.0     38.281269    36.148326  0.0      9.0000     30.000   \n",
       "mb_used   3214.0  17207.673836  7570.968246  0.0  12491.9025  16943.235   \n",
       "is_ultra  3214.0      0.306472     0.461100  0.0      0.0000      0.000   \n",
       "\n",
       "                 75%       max  \n",
       "calls        82.0000    244.00  \n",
       "minutes     571.9275   1632.06  \n",
       "messages     57.0000    224.00  \n",
       "mb_used   21424.7000  49745.73  \n",
       "is_ultra      1.0000      1.00  "
      ]
     },
     "execution_count": 4,
     "metadata": {},
     "output_type": "execute_result"
    }
   ],
   "source": [
    "df.describe().T"
   ]
  },
  {
   "cell_type": "markdown",
   "metadata": {},
   "source": [
    "Means and medians are quite close. Also note that most users switched to Smart"
   ]
  },
  {
   "cell_type": "code",
   "execution_count": 5,
   "metadata": {},
   "outputs": [
    {
     "name": "stdout",
     "output_type": "stream",
     "text": [
      "<class 'pandas.core.frame.DataFrame'>\n",
      "RangeIndex: 3214 entries, 0 to 3213\n",
      "Data columns (total 5 columns):\n",
      "calls       3214 non-null float64\n",
      "minutes     3214 non-null float64\n",
      "messages    3214 non-null float64\n",
      "mb_used     3214 non-null float64\n",
      "is_ultra    3214 non-null int64\n",
      "dtypes: float64(4), int64(1)\n",
      "memory usage: 125.7 KB\n"
     ]
    }
   ],
   "source": [
    "df.info()"
   ]
  },
  {
   "cell_type": "markdown",
   "metadata": {},
   "source": [
    "We can cut the dataset size in half."
   ]
  },
  {
   "cell_type": "markdown",
   "metadata": {},
   "source": [
    "<div class=\"alert alert-success\">\n",
    "<b>Reviewer's comment</b>\n",
    "\n",
    "Not a bad idea, but a bit unnecessary as our dataset is already only 125 KB :)\n",
    "\n",
    "</div>"
   ]
  },
  {
   "cell_type": "code",
   "execution_count": 6,
   "metadata": {},
   "outputs": [],
   "source": [
    "for column in df.columns:\n",
    "    if df[column].dtype == 'float64':\n",
    "        df[column] = df[column].astype('float32')\n",
    "    elif df[column].dtype == 'int64':\n",
    "        df[column] = df[column].astype('int32')"
   ]
  },
  {
   "cell_type": "markdown",
   "metadata": {},
   "source": [
    "We will split the data into a training set, a varification set and a test set."
   ]
  },
  {
   "cell_type": "code",
   "execution_count": 7,
   "metadata": {},
   "outputs": [],
   "source": [
    "X, y = df.drop(['is_ultra'], axis=1), df['is_ultra']\n",
    "X_trva, X_test, y_trva, y_test = train_test_split(X, y, random_state=42069, test_size=0.2)\n",
    "X_train, X_valid, y_train, y_valid = train_test_split(X_trva, y_trva, random_state=42069, test_size=0.25)"
   ]
  },
  {
   "cell_type": "markdown",
   "metadata": {},
   "source": [
    "And verify it is split 60-20-20 like we intended."
   ]
  },
  {
   "cell_type": "code",
   "execution_count": 8,
   "metadata": {},
   "outputs": [
    {
     "data": {
      "text/plain": [
       "train    0.599876\n",
       "valid    0.200062\n",
       "test     0.200062\n",
       "dtype: float64"
      ]
     },
     "execution_count": 8,
     "metadata": {},
     "output_type": "execute_result"
    }
   ],
   "source": [
    "pd.Series([y_train.count(), y_valid.count(), y_test.count()], index=['train', 'valid', 'test'])/y.count()"
   ]
  },
  {
   "cell_type": "markdown",
   "metadata": {},
   "source": [
    "All set."
   ]
  },
  {
   "cell_type": "markdown",
   "metadata": {},
   "source": [
    "<div class=\"alert alert-success\">\n",
    "<b>Reviewer's comment</b>\n",
    "\n",
    "Great, the data was split into train, validation and test sets. The proportions are reasonable!\n",
    "\n",
    "</div>"
   ]
  },
  {
   "cell_type": "markdown",
   "metadata": {},
   "source": [
    "## Logistic Regression Model\n",
    "We'll start with the simplest, logistic regression. First we'll figure out which solver perform better on this problem."
   ]
  },
  {
   "cell_type": "code",
   "execution_count": 32,
   "metadata": {},
   "outputs": [
    {
     "name": "stdout",
     "output_type": "stream",
     "text": [
      "solver=newton-cg: 0.749611197511664\n",
      "solver=lbfgs: 0.7076205287713841\n",
      "solver=liblinear: 0.7465007776049767\n",
      "solver=sag: 0.6936236391912908\n",
      "solver=saga: 0.6936236391912908\n"
     ]
    }
   ],
   "source": [
    "for solver in ['newton-cg', 'lbfgs', 'liblinear', 'sag', 'saga']:\n",
    "    lr_model = LogisticRegression(solver=solver, random_state=42069)\n",
    "    with warnings.catch_warnings():\n",
    "        warnings.simplefilter(\"ignore\")\n",
    "        lr_model.fit(X_train, y_train)\n",
    "    print(f'solver={solver}: {lr_model.score(X_valid, y_valid)}')"
   ]
  },
  {
   "cell_type": "markdown",
   "metadata": {},
   "source": [
    "`newton-cg` and `liblinear` are almost there. The default penalty is `l2`, but there is one other available option for each solver."
   ]
  },
  {
   "cell_type": "code",
   "execution_count": 10,
   "metadata": {},
   "outputs": [
    {
     "data": {
      "text/plain": [
       "0.7465007776049767"
      ]
     },
     "execution_count": 10,
     "metadata": {},
     "output_type": "execute_result"
    }
   ],
   "source": [
    "lr_model = LogisticRegression(solver='liblinear', penalty='l1', random_state=42069)\n",
    "lr_model.fit(X_train, y_train)\n",
    "lr_model.score(X_valid, y_valid)"
   ]
  },
  {
   "cell_type": "code",
   "execution_count": 11,
   "metadata": {},
   "outputs": [
    {
     "data": {
      "text/plain": [
       "0.749611197511664"
      ]
     },
     "execution_count": 11,
     "metadata": {},
     "output_type": "execute_result"
    }
   ],
   "source": [
    "lr_model = LogisticRegression(solver='newton-cg', penalty='none', random_state=42069)\n",
    "lr_model.fit(X_train, y_train)\n",
    "lr_model.score(X_valid, y_valid)"
   ]
  },
  {
   "cell_type": "markdown",
   "metadata": {},
   "source": [
    "It gives exactly the same results, but at least without non-convergence warnings. Let's also try the `balanced` class weight option."
   ]
  },
  {
   "cell_type": "code",
   "execution_count": 30,
   "metadata": {},
   "outputs": [
    {
     "data": {
      "text/plain": [
       "0.6438569206842923"
      ]
     },
     "execution_count": 30,
     "metadata": {},
     "output_type": "execute_result"
    }
   ],
   "source": [
    "lr_model = LogisticRegression(solver='newton-cg', class_weight='balanced', random_state=42069)\n",
    "with warnings.catch_warnings():\n",
    "    warnings.simplefilter(\"ignore\")\n",
    "    lr_model.fit(X_train, y_train)\n",
    "lr_model.score(X_valid, y_valid)"
   ]
  },
  {
   "cell_type": "code",
   "execution_count": 13,
   "metadata": {},
   "outputs": [
    {
     "data": {
      "text/plain": [
       "0.6314152410575428"
      ]
     },
     "execution_count": 13,
     "metadata": {},
     "output_type": "execute_result"
    }
   ],
   "source": [
    "lr_model = LogisticRegression(solver='liblinear', class_weight='balanced', random_state=42069)\n",
    "lr_model.fit(X_train, y_train)\n",
    "lr_model.score(X_valid, y_valid)"
   ]
  },
  {
   "cell_type": "markdown",
   "metadata": {},
   "source": [
    "It just made it worse. So the final logistic regression model that will now face the test set is the `newton-cg` solver with no penalty."
   ]
  },
  {
   "cell_type": "markdown",
   "metadata": {},
   "source": [
    "<div class=\"alert alert-success\">\n",
    "<b>Reviewer's comment</b>\n",
    "\n",
    "It made it worse in terms of accuracy, but as it turns out accuracy is not really a good metric for imbalanced data. The next project explores these themes further!\n",
    "\n",
    "</div>"
   ]
  },
  {
   "cell_type": "code",
   "execution_count": 31,
   "metadata": {},
   "outputs": [
    {
     "data": {
      "text/plain": [
       "0.7418351477449455"
      ]
     },
     "execution_count": 31,
     "metadata": {},
     "output_type": "execute_result"
    }
   ],
   "source": [
    "lr_model = LogisticRegression(solver='newton-cg', penalty='none', random_state=42069)\n",
    "with warnings.catch_warnings():\n",
    "    warnings.simplefilter(\"ignore\")\n",
    "    lr_model.fit(X_trva, y_trva)\n",
    "lr_score = lr_model.score(X_test, y_test)\n",
    "lr_score"
   ]
  },
  {
   "cell_type": "markdown",
   "metadata": {},
   "source": [
    "We are less than 1% from the target accuracy, but almost is not enough. On top of that, the model did not converge. The task is too complicated for logistic regression."
   ]
  },
  {
   "cell_type": "markdown",
   "metadata": {},
   "source": [
    "<div class=\"alert alert-success\">\n",
    "<b>Reviewer's comment</b>\n",
    "\n",
    "Alright, the final model was evaluated on the test set\n",
    "\n",
    "</div>"
   ]
  },
  {
   "cell_type": "markdown",
   "metadata": {},
   "source": [
    "## Decision Tree Model\n",
    "Next is the decision tree model. First we'll see how the default tree is doing."
   ]
  },
  {
   "cell_type": "code",
   "execution_count": 15,
   "metadata": {},
   "outputs": [
    {
     "data": {
      "text/plain": [
       "0.7216174183514774"
      ]
     },
     "execution_count": 15,
     "metadata": {},
     "output_type": "execute_result"
    }
   ],
   "source": [
    "tree_model = DecisionTreeClassifier(random_state=42069)\n",
    "tree_model.fit(X_train, y_train)\n",
    "tree_model.score(X_valid, y_valid)"
   ]
  },
  {
   "cell_type": "markdown",
   "metadata": {},
   "source": [
    "Not amazing. When unlimited, its depth reaches the following value."
   ]
  },
  {
   "cell_type": "code",
   "execution_count": 16,
   "metadata": {},
   "outputs": [
    {
     "data": {
      "text/plain": [
       "26"
      ]
     },
     "execution_count": 16,
     "metadata": {},
     "output_type": "execute_result"
    }
   ],
   "source": [
    "default_depth = tree_model.get_depth()\n",
    "default_depth"
   ]
  },
  {
   "cell_type": "markdown",
   "metadata": {},
   "source": [
    "The next block will loop through various hyper-parameters and pick the best ones for us."
   ]
  },
  {
   "cell_type": "code",
   "execution_count": 17,
   "metadata": {},
   "outputs": [
    {
     "name": "stdout",
     "output_type": "stream",
     "text": [
      "{'max_depth': 1, 'min_samples_split': 2, 'min_samples_leaf': 1, 'score': 0.749611197511664}\n",
      "{'max_depth': 2, 'min_samples_split': 2, 'min_samples_leaf': 1, 'score': 0.7729393468118196}\n",
      "{'max_depth': 3, 'min_samples_split': 2, 'min_samples_leaf': 1, 'score': 0.7978227060653188}\n",
      "{'max_depth': 6, 'min_samples_split': 2, 'min_samples_leaf': 1, 'score': 0.7993779160186625}\n",
      "{'max_depth': 6, 'min_samples_split': 14, 'min_samples_leaf': 7, 'score': 0.8009331259720062}\n",
      "{'max_depth': 7, 'min_samples_split': 16, 'min_samples_leaf': 5, 'score': 0.80248833592535}\n",
      "{'max_depth': 8, 'min_samples_split': 2, 'min_samples_leaf': 1, 'score': 0.8133748055987559}\n",
      "{'max_depth': 8, 'min_samples_split': 13, 'min_samples_leaf': 5, 'score': 0.8149300155520995}\n"
     ]
    }
   ],
   "source": [
    "best_tree = {\n",
    "    'max_depth': 1,\n",
    "    'min_samples_split': 2,\n",
    "    'min_samples_leaf': 1,\n",
    "    'score': 0\n",
    "}\n",
    "\n",
    "for depth in range(1, default_depth+1):\n",
    "    for leaf in range(1, 10):\n",
    "        for split in range(leaf*2, leaf*10, int(leaf*0.5+0.5)):\n",
    "            tree_model = DecisionTreeClassifier(\n",
    "                random_state=42069, \n",
    "                max_depth=depth, \n",
    "                min_samples_split=split, \n",
    "                min_samples_leaf=leaf\n",
    "            )\n",
    "            tree_model.fit(X_train, y_train)\n",
    "            score = tree_model.score(X_valid, y_valid)\n",
    "            \n",
    "            if score > best_tree['score']:\n",
    "                (best_tree['max_depth'], best_tree['min_samples_split'], \n",
    "                 best_tree['min_samples_leaf'], best_tree['score']) = (depth, split, leaf, score)\n",
    "                print(best_tree)"
   ]
  },
  {
   "cell_type": "markdown",
   "metadata": {},
   "source": [
    "The best tree that we found is much shallower and has larger leaves than the initial tree, that was probably overfitted. Now let's put it to the test. "
   ]
  },
  {
   "cell_type": "code",
   "execution_count": 18,
   "metadata": {},
   "outputs": [
    {
     "data": {
      "text/plain": [
       "0.7900466562986003"
      ]
     },
     "execution_count": 18,
     "metadata": {},
     "output_type": "execute_result"
    }
   ],
   "source": [
    "tree_model = DecisionTreeClassifier(\n",
    "    random_state=42069, \n",
    "    max_depth=best_tree['max_depth'], \n",
    "    min_samples_split=best_tree['min_samples_split'], \n",
    "    min_samples_leaf=best_tree['min_samples_leaf']\n",
    ")\n",
    "tree_model.fit(X_trva, y_trva)\n",
    "tree_score = tree_model.score(X_test, y_test)\n",
    "tree_score"
   ]
  },
  {
   "cell_type": "markdown",
   "metadata": {},
   "source": [
    "It has surpassed our accuracy goal with a comfortable margin."
   ]
  },
  {
   "cell_type": "markdown",
   "metadata": {},
   "source": [
    "## Random Forest Model\n",
    "If a single tree is doing so well, imagine what a forest can do. "
   ]
  },
  {
   "cell_type": "code",
   "execution_count": 19,
   "metadata": {},
   "outputs": [
    {
     "name": "stdout",
     "output_type": "stream",
     "text": [
      "n=50: 0.7993779160186625\n",
      "n=100: 0.8009331259720062\n",
      "n=150: 0.8055987558320373\n",
      "n=200: 0.807153965785381\n",
      "n=250: 0.807153965785381\n",
      "n=300: 0.8102643856920684\n",
      "n=350: 0.807153965785381\n",
      "n=400: 0.8087091757387247\n",
      "n=450: 0.807153965785381\n",
      "n=500: 0.807153965785381\n"
     ]
    }
   ],
   "source": [
    "for n in range(50, 501, 50):\n",
    "    forest_model = RandomForestClassifier(random_state=42069, n_estimators=n)\n",
    "    forest_model.fit(X_train, y_train)\n",
    "    print(f'n={n}: {forest_model.score(X_valid, y_valid)}')"
   ]
  },
  {
   "cell_type": "markdown",
   "metadata": {},
   "source": [
    "It's not bad, but since we already have the optimal tree, we might as well clone an entire forest out of it."
   ]
  },
  {
   "cell_type": "code",
   "execution_count": 20,
   "metadata": {},
   "outputs": [
    {
     "name": "stdout",
     "output_type": "stream",
     "text": [
      "n=50: 0.8133748055987559\n",
      "n=100: 0.8149300155520995\n",
      "n=150: 0.8164852255054432\n",
      "n=200: 0.8195956454121306\n",
      "n=250: 0.8195956454121306\n",
      "n=300: 0.8195956454121306\n",
      "n=350: 0.8180404354587869\n",
      "n=400: 0.8180404354587869\n",
      "n=450: 0.8180404354587869\n",
      "n=500: 0.8180404354587869\n"
     ]
    }
   ],
   "source": [
    "for n in range(50, 501, 50):\n",
    "    forest_model = RandomForestClassifier(\n",
    "        random_state=42069, \n",
    "        n_estimators=n, \n",
    "        max_depth=best_tree['max_depth'], \n",
    "        min_samples_split=best_tree['min_samples_split'], \n",
    "        min_samples_leaf=best_tree['min_samples_leaf']\n",
    "    )\n",
    "    forest_model.fit(X_train, y_train)\n",
    "    print(f'n={n}: {forest_model.score(X_valid, y_valid)}')"
   ]
  },
  {
   "cell_type": "markdown",
   "metadata": {},
   "source": [
    "It did edge the first batch of forests. Moreover, we only need 200 estimators for best results, compared with 300 previously. Now for the test."
   ]
  },
  {
   "cell_type": "code",
   "execution_count": 21,
   "metadata": {},
   "outputs": [
    {
     "data": {
      "text/plain": [
       "0.8055987558320373"
      ]
     },
     "execution_count": 21,
     "metadata": {},
     "output_type": "execute_result"
    }
   ],
   "source": [
    "forest_model = RandomForestClassifier(\n",
    "    random_state=42069, \n",
    "    n_estimators=200, \n",
    "    max_depth=best_tree['max_depth'], \n",
    "    min_samples_split=best_tree['min_samples_split'], \n",
    "    min_samples_leaf=best_tree['min_samples_leaf']\n",
    ")\n",
    "forest_model.fit(X_trva, y_trva)\n",
    "forest_score = forest_model.score(X_test, y_test)\n",
    "forest_score"
   ]
  },
  {
   "cell_type": "markdown",
   "metadata": {},
   "source": [
    "200 optimized trees did better than one."
   ]
  },
  {
   "cell_type": "markdown",
   "metadata": {},
   "source": [
    "<div class=\"alert alert-success\">\n",
    "<b>Reviewer's comment</b>\n",
    "\n",
    "Excellent, you tried a couple of other different models and tuned their hyperparameters using the validation set. Final models were evaluated on the test set\n",
    "\n",
    "</div>"
   ]
  },
  {
   "cell_type": "markdown",
   "metadata": {},
   "source": [
    "## Conclusion\n",
    "The results of this analysis are shown in the following plot, along with a 'sanity check' model that predicts all users will do what most users did, i.e. move to the 'Smart' plan."
   ]
  },
  {
   "cell_type": "markdown",
   "metadata": {},
   "source": [
    "<div class=\"alert alert-success\">\n",
    "<b>Reviewer's comment</b>\n",
    "\n",
    "Great, a constant model always predicting the majority class is indeed a pretty good baseline in terms of accuracy\n",
    "\n",
    "</div>"
   ]
  },
  {
   "cell_type": "code",
   "execution_count": 22,
   "metadata": {},
   "outputs": [],
   "source": [
    "sanity_score = max(y_test.mean(), 1-y_test.mean())"
   ]
  },
  {
   "cell_type": "code",
   "execution_count": 23,
   "metadata": {},
   "outputs": [],
   "source": [
    "labels = ['Logistic Regression', 'Decision Tree', 'Random Forest', 'Sanity Check']\n",
    "scores = [lr_score, tree_score, forest_score, sanity_score]\n",
    "colors = ['C0', 'C1', 'C2', 'C3']"
   ]
  },
  {
   "cell_type": "code",
   "execution_count": 24,
   "metadata": {},
   "outputs": [
    {
     "data": {
      "image/png": "[encoded data removed]",
      "text/plain": [
       "<Figure size 720x432 with 1 Axes>"
      ]
     },
     "metadata": {
      "needs_background": "light"
     },
     "output_type": "display_data"
    }
   ],
   "source": [
    "plt.figure(figsize=(10, 6))\n",
    "plt.ylim(0.65, 0.85)\n",
    "plt.grid(visible=True, axis='y')\n",
    "plt.xlabel('Model')\n",
    "plt.ylabel('Accuracy Score')\n",
    "plt.title('Model Performance Comparison')\n",
    "plt.bar(labels, scores, color=colors, edgecolor='k')\n",
    "plt.axhline(0.75, linestyle='--', color='k')\n",
    "plt.show()"
   ]
  },
  {
   "cell_type": "markdown",
   "metadata": {},
   "source": [
    "All models passed the sanity check. The logistic regression model's simplicity makes it resistant to overfitting, yet prone to underfitting, and in our case it just couldn't make the cut - but it got pretty close with a little tinkering. Both the decision tree and random forest models made it above and behind our 75% accuracy criterion. The combined power of 200 trees gives the forest a 1.5% advantage over the single tree. On the downside, random forests can take some time to learn, so if time is an issue, it's good to know that the faster single tree also passed the test."
   ]
  },
  {
   "cell_type": "markdown",
   "metadata": {},
   "source": [
    "<div class=\"alert alert-success\">\n",
    "<b>Reviewer's comment</b>\n",
    "\n",
    "Conclusions make sense!\n",
    "\n",
    "</div>"
   ]
  },
  {
   "cell_type": "code",
   "execution_count": null,
   "metadata": {},
   "outputs": [],
   "source": []
  }
 ],
 "metadata": {
  "ExecuteTimeLog": [
   {
    "duration": 1040,
    "start_time": "2022-03-04T06:15:51.331Z"
   },
   {
    "duration": 3,
    "start_time": "2022-03-04T06:18:23.558Z"
   },
   {
    "duration": 2682,
    "start_time": "2022-03-04T06:19:45.681Z"
   },
   {
    "duration": 136,
    "start_time": "2022-03-04T06:21:41.440Z"
   },
   {
    "duration": 16,
    "start_time": "2022-03-04T06:21:57.876Z"
   },
   {
    "duration": 199,
    "start_time": "2022-03-04T06:40:10.741Z"
   },
   {
    "duration": 9,
    "start_time": "2022-03-04T06:40:52.612Z"
   },
   {
    "duration": 8,
    "start_time": "2022-03-04T06:42:26.817Z"
   },
   {
    "duration": 7,
    "start_time": "2022-03-04T06:43:06.623Z"
   },
   {
    "duration": 6,
    "start_time": "2022-03-04T06:43:58.897Z"
   },
   {
    "duration": 6,
    "start_time": "2022-03-04T06:44:07.613Z"
   },
   {
    "duration": 7,
    "start_time": "2022-03-04T06:44:31.494Z"
   },
   {
    "duration": 4,
    "start_time": "2022-03-04T06:49:25.963Z"
   },
   {
    "duration": 5,
    "start_time": "2022-03-04T06:49:40.001Z"
   },
   {
    "duration": 6,
    "start_time": "2022-03-04T06:50:54.957Z"
   },
   {
    "duration": 7,
    "start_time": "2022-03-04T06:50:58.016Z"
   },
   {
    "duration": 15,
    "start_time": "2022-03-04T06:54:41.428Z"
   },
   {
    "duration": 193,
    "start_time": "2022-03-04T07:00:11.363Z"
   },
   {
    "duration": 117,
    "start_time": "2022-03-04T07:01:36.330Z"
   },
   {
    "duration": 132,
    "start_time": "2022-03-04T07:02:07.150Z"
   },
   {
    "duration": 108,
    "start_time": "2022-03-04T07:02:16.851Z"
   },
   {
    "duration": 167,
    "start_time": "2022-03-04T07:02:39.685Z"
   },
   {
    "duration": 60,
    "start_time": "2022-03-04T07:07:00.525Z"
   },
   {
    "duration": 22,
    "start_time": "2022-03-04T07:07:05.583Z"
   },
   {
    "duration": 190,
    "start_time": "2022-03-04T07:08:01.704Z"
   },
   {
    "duration": 87,
    "start_time": "2022-03-04T07:08:04.946Z"
   },
   {
    "duration": 129,
    "start_time": "2022-03-04T07:08:48.216Z"
   },
   {
    "duration": 86,
    "start_time": "2022-03-04T07:08:56.226Z"
   },
   {
    "duration": 3929,
    "start_time": "2022-03-04T07:10:32.709Z"
   },
   {
    "duration": 83,
    "start_time": "2022-03-04T07:10:55.854Z"
   },
   {
    "duration": 7,
    "start_time": "2022-03-04T07:11:00.830Z"
   },
   {
    "duration": 98,
    "start_time": "2022-03-04T07:12:28.375Z"
   },
   {
    "duration": 85,
    "start_time": "2022-03-04T07:12:58.578Z"
   },
   {
    "duration": 13,
    "start_time": "2022-03-04T07:13:29.124Z"
   },
   {
    "duration": 123,
    "start_time": "2022-03-04T07:13:41.796Z"
   },
   {
    "duration": 3038,
    "start_time": "2022-03-04T07:14:14.201Z"
   },
   {
    "duration": 8,
    "start_time": "2022-03-04T07:15:36.840Z"
   },
   {
    "duration": 3072,
    "start_time": "2022-03-04T07:15:56.865Z"
   },
   {
    "duration": 15,
    "start_time": "2022-03-04T07:21:30.444Z"
   },
   {
    "duration": 3,
    "start_time": "2022-03-04T07:22:04.514Z"
   },
   {
    "duration": 3,
    "start_time": "2022-03-04T07:22:13.132Z"
   },
   {
    "duration": 4,
    "start_time": "2022-03-04T07:22:16.490Z"
   },
   {
    "duration": 2,
    "start_time": "2022-03-04T07:24:29.864Z"
   },
   {
    "duration": 4,
    "start_time": "2022-03-04T07:24:35.633Z"
   },
   {
    "duration": 197,
    "start_time": "2022-03-04T07:24:53.050Z"
   },
   {
    "duration": 198,
    "start_time": "2022-03-04T07:25:00.095Z"
   },
   {
    "duration": 178,
    "start_time": "2022-03-04T07:25:12.137Z"
   },
   {
    "duration": 180,
    "start_time": "2022-03-04T07:25:58.755Z"
   },
   {
    "duration": 5,
    "start_time": "2022-03-04T07:26:02.251Z"
   },
   {
    "duration": 4,
    "start_time": "2022-03-04T07:26:08.202Z"
   },
   {
    "duration": 4,
    "start_time": "2022-03-04T07:26:15.920Z"
   },
   {
    "duration": 3,
    "start_time": "2022-03-04T07:26:23.150Z"
   },
   {
    "duration": 4,
    "start_time": "2022-03-04T07:26:26.901Z"
   },
   {
    "duration": 4,
    "start_time": "2022-03-04T07:30:03.212Z"
   },
   {
    "duration": 4,
    "start_time": "2022-03-04T07:30:22.221Z"
   },
   {
    "duration": 1798,
    "start_time": "2022-03-04T07:38:20.982Z"
   },
   {
    "duration": 181,
    "start_time": "2022-03-04T07:39:04.175Z"
   },
   {
    "duration": 12819,
    "start_time": "2022-03-04T07:39:25.189Z"
   },
   {
    "duration": 15,
    "start_time": "2022-03-04T07:52:16.888Z"
   },
   {
    "duration": 12691,
    "start_time": "2022-03-04T07:56:54.920Z"
   },
   {
    "duration": 22512,
    "start_time": "2022-03-04T07:59:30.073Z"
   },
   {
    "duration": 14,
    "start_time": "2022-03-04T08:00:16.599Z"
   },
   {
    "duration": 3760,
    "start_time": "2022-03-04T08:09:03.851Z"
   },
   {
    "duration": 9733,
    "start_time": "2022-03-04T08:09:24.614Z"
   },
   {
    "duration": 5864,
    "start_time": "2022-03-04T08:10:04.998Z"
   },
   {
    "duration": 9367,
    "start_time": "2022-03-04T08:10:33.448Z"
   },
   {
    "duration": 1363,
    "start_time": "2022-03-04T08:12:47.094Z"
   },
   {
    "duration": 6707,
    "start_time": "2022-03-04T08:15:30.880Z"
   },
   {
    "duration": 6773,
    "start_time": "2022-03-04T08:16:10.594Z"
   },
   {
    "duration": 730,
    "start_time": "2022-03-04T08:18:58.763Z"
   },
   {
    "duration": 5,
    "start_time": "2022-03-04T08:25:09.359Z"
   },
   {
    "duration": 4,
    "start_time": "2022-03-04T08:25:53.282Z"
   },
   {
    "duration": 5,
    "start_time": "2022-03-04T08:28:41.690Z"
   },
   {
    "duration": 4,
    "start_time": "2022-03-04T08:29:04.538Z"
   },
   {
    "duration": 25,
    "start_time": "2022-03-04T08:42:10.460Z"
   },
   {
    "duration": 604,
    "start_time": "2022-03-04T08:46:50.135Z"
   },
   {
    "duration": 3,
    "start_time": "2022-03-04T08:48:31.001Z"
   },
   {
    "duration": 76,
    "start_time": "2022-03-04T08:49:07.244Z"
   },
   {
    "duration": 597,
    "start_time": "2022-03-04T08:55:13.990Z"
   },
   {
    "duration": 14,
    "start_time": "2022-03-04T08:56:20.438Z"
   },
   {
    "duration": 2893,
    "start_time": "2022-03-04T08:56:38.349Z"
   },
   {
    "duration": 3,
    "start_time": "2022-03-04T08:59:34.023Z"
   },
   {
    "duration": 321,
    "start_time": "2022-03-04T09:02:18.211Z"
   },
   {
    "duration": 322,
    "start_time": "2022-03-04T09:02:25.932Z"
   },
   {
    "duration": 355,
    "start_time": "2022-03-04T09:02:54.596Z"
   },
   {
    "duration": 288,
    "start_time": "2022-03-04T09:03:16.154Z"
   },
   {
    "duration": 3,
    "start_time": "2022-03-04T09:06:54.767Z"
   },
   {
    "duration": 333,
    "start_time": "2022-03-04T09:07:11.096Z"
   },
   {
    "duration": 296,
    "start_time": "2022-03-04T09:07:20.424Z"
   },
   {
    "duration": 333,
    "start_time": "2022-03-04T09:08:10.541Z"
   },
   {
    "duration": 431,
    "start_time": "2022-03-04T09:08:47.670Z"
   },
   {
    "duration": 325,
    "start_time": "2022-03-04T09:10:06.970Z"
   },
   {
    "duration": 309,
    "start_time": "2022-03-04T09:10:17.096Z"
   },
   {
    "duration": 262,
    "start_time": "2022-03-04T09:10:24.963Z"
   },
   {
    "duration": 320,
    "start_time": "2022-03-04T09:10:36.720Z"
   },
   {
    "duration": 292,
    "start_time": "2022-03-04T09:11:55.525Z"
   },
   {
    "duration": 440,
    "start_time": "2022-03-04T09:12:47.126Z"
   },
   {
    "duration": 316,
    "start_time": "2022-03-04T09:13:00.842Z"
   },
   {
    "duration": 284,
    "start_time": "2022-03-04T09:13:18.488Z"
   },
   {
    "duration": 305,
    "start_time": "2022-03-04T09:13:52.970Z"
   },
   {
    "duration": 287,
    "start_time": "2022-03-04T09:15:07.285Z"
   },
   {
    "duration": 3,
    "start_time": "2022-03-04T09:16:14.611Z"
   },
   {
    "duration": 365,
    "start_time": "2022-03-04T09:16:24.720Z"
   },
   {
    "duration": 336,
    "start_time": "2022-03-04T09:22:06.433Z"
   },
   {
    "duration": 333,
    "start_time": "2022-03-04T09:25:36.220Z"
   },
   {
    "duration": 890,
    "start_time": "2022-03-04T10:57:13.957Z"
   },
   {
    "duration": 575,
    "start_time": "2022-03-04T10:57:20.813Z"
   },
   {
    "duration": 1560,
    "start_time": "2022-03-04T14:39:24.422Z"
   },
   {
    "duration": 162,
    "start_time": "2022-03-04T14:40:25.396Z"
   },
   {
    "duration": 17,
    "start_time": "2022-03-04T14:40:26.613Z"
   },
   {
    "duration": 37,
    "start_time": "2022-03-04T14:40:27.367Z"
   },
   {
    "duration": 9,
    "start_time": "2022-03-04T14:40:29.055Z"
   },
   {
    "duration": 8,
    "start_time": "2022-03-04T14:40:30.502Z"
   },
   {
    "duration": 383,
    "start_time": "2022-03-04T14:40:32.586Z"
   },
   {
    "duration": 11,
    "start_time": "2022-03-04T14:41:02.802Z"
   },
   {
    "duration": 18,
    "start_time": "2022-03-04T14:41:06.081Z"
   },
   {
    "duration": 235,
    "start_time": "2022-03-04T14:41:29.658Z"
   },
   {
    "duration": 248,
    "start_time": "2022-03-04T14:45:10.747Z"
   },
   {
    "duration": 280,
    "start_time": "2022-03-04T14:45:18.181Z"
   },
   {
    "duration": 206,
    "start_time": "2022-03-04T14:47:04.646Z"
   },
   {
    "duration": 154,
    "start_time": "2022-03-04T14:47:18.740Z"
   },
   {
    "duration": 151,
    "start_time": "2022-03-04T14:47:31.938Z"
   },
   {
    "duration": 1147,
    "start_time": "2022-03-04T14:49:08.540Z"
   },
   {
    "duration": 25,
    "start_time": "2022-03-04T14:57:11.872Z"
   },
   {
    "duration": 4,
    "start_time": "2022-03-04T15:24:06.073Z"
   },
   {
    "duration": 213,
    "start_time": "2022-03-04T15:24:07.107Z"
   },
   {
    "duration": 1411,
    "start_time": "2022-03-04T15:24:14.136Z"
   },
   {
    "duration": 159,
    "start_time": "2022-03-04T15:24:15.550Z"
   },
   {
    "duration": 18,
    "start_time": "2022-03-04T15:24:15.713Z"
   },
   {
    "duration": 36,
    "start_time": "2022-03-04T15:24:15.734Z"
   },
   {
    "duration": 18,
    "start_time": "2022-03-04T15:24:15.773Z"
   },
   {
    "duration": 8,
    "start_time": "2022-03-04T15:24:15.794Z"
   },
   {
    "duration": 16,
    "start_time": "2022-03-04T15:24:15.804Z"
   },
   {
    "duration": 9,
    "start_time": "2022-03-04T15:24:15.824Z"
   },
   {
    "duration": 309,
    "start_time": "2022-03-04T15:24:15.836Z"
   },
   {
    "duration": 55,
    "start_time": "2022-03-04T15:24:16.147Z"
   },
   {
    "duration": 157,
    "start_time": "2022-03-04T15:24:16.204Z"
   },
   {
    "duration": 159,
    "start_time": "2022-03-04T15:24:16.363Z"
   },
   {
    "duration": 24,
    "start_time": "2022-03-04T15:24:16.524Z"
   },
   {
    "duration": 3138,
    "start_time": "2022-03-04T15:24:16.551Z"
   },
   {
    "duration": 113,
    "start_time": "2022-03-04T15:24:19.693Z"
   },
   {
    "duration": 4,
    "start_time": "2022-03-04T15:24:19.808Z"
   },
   {
    "duration": 32875,
    "start_time": "2022-03-04T15:24:19.814Z"
   },
   {
    "duration": 18,
    "start_time": "2022-03-04T15:24:52.691Z"
   },
   {
    "duration": 15076,
    "start_time": "2022-03-04T15:24:52.711Z"
   },
   {
    "duration": 10521,
    "start_time": "2022-03-04T15:25:07.790Z"
   },
   {
    "duration": 931,
    "start_time": "2022-03-04T15:25:18.314Z"
   },
   {
    "duration": 4,
    "start_time": "2022-03-04T15:25:19.247Z"
   },
   {
    "duration": 7,
    "start_time": "2022-03-04T15:25:19.255Z"
   },
   {
    "duration": 451,
    "start_time": "2022-03-04T15:25:19.264Z"
   },
   {
    "duration": 148,
    "start_time": "2022-03-04T15:51:10.834Z"
   },
   {
    "duration": 149,
    "start_time": "2022-03-04T15:51:19.025Z"
   },
   {
    "duration": 144,
    "start_time": "2022-03-04T15:51:22.699Z"
   },
   {
    "duration": 268,
    "start_time": "2022-03-04T15:52:28.822Z"
   },
   {
    "duration": 157,
    "start_time": "2022-03-04T15:52:38.464Z"
   },
   {
    "duration": 148,
    "start_time": "2022-03-04T15:52:59.480Z"
   },
   {
    "duration": 2259,
    "start_time": "2022-03-04T15:53:44.931Z"
   },
   {
    "duration": 267,
    "start_time": "2022-03-04T15:58:02.084Z"
   }
  ],
  "kernelspec": {
   "display_name": "Python 3 (ipykernel)",
   "language": "python",
   "name": "python3"
  },
  "language_info": {
   "codemirror_mode": {
    "name": "ipython",
    "version": 3
   },
   "file_extension": ".py",
   "mimetype": "text/x-python",
   "name": "python",
   "nbconvert_exporter": "python",
   "pygments_lexer": "ipython3",
   "version": "3.9.5"
  },
  "toc": {
   "base_numbering": 1,
   "nav_menu": {},
   "number_sections": true,
   "sideBar": true,
   "skip_h1_title": true,
   "title_cell": "Table of Contents",
   "title_sidebar": "Contents",
   "toc_cell": false,
   "toc_position": {},
   "toc_section_display": true,
   "toc_window_display": false
  }
 },
 "nbformat": 4,
 "nbformat_minor": 2
}
