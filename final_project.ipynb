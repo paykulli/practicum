{
 "cells": [
  {
   "cell_type": "markdown",
   "id": "79aa6fe8",
   "metadata": {},
   "source": [
    "# Final Project\n",
    "The telecom operator Interconnect would like to be able to forecast their churn of clients. If it's discovered that a user is planning to leave, they will be offered promotional codes and special plan options. Interconnect's marketing team has collected some of their clientele's personal data, including information about their plans and contracts.\n",
    "\n",
    "\n",
    "## Plan\n",
    "1. Data Preprocessing: Check for missing values and duplicates, transform to correct data types and merge all datasets, add target and tenure columns.\n",
    "2. EDA: Make some plots and tables to get familier with data and spot correlations, possibly find outliers and treat them.\n",
    "3. Preprocessing for ML: Create features and target datasets, One-Hot encode categorical features.\n",
    "4. Split: Split data to training, validation and test sets in 60-20-20 ratio.\n",
    "5. Modelling: Make a dummy model for baseline score and at least 3 models in escalating complexity order, tuning the hyperparameters for each with the validation set. Continue until the validation score is good enough to expect a passing score on the test.\n",
    "6. Testing: Test and score (AUC-ROC) a chosen model on the test set. If the score is 0.85 or higher, the work is done, otherwise repeat the entire process with a new split. "
   ]
  },
  {
   "cell_type": "markdown",
   "id": "a75e02b4",
   "metadata": {},
   "source": [
    "## Data Preprocessing"
   ]
  },
  {
   "cell_type": "code",
   "execution_count": 1,
   "id": "f906af06",
   "metadata": {},
   "outputs": [],
   "source": [
    "import pandas as pd\n",
    "import matplotlib.pyplot as plt\n",
    "import seaborn as sns\n",
    "import numpy as np\n",
    "from sklearn.model_selection import train_test_split\n",
    "from sklearn.dummy import DummyClassifier\n",
    "from sklearn.linear_model import LogisticRegression\n",
    "from sklearn.tree import DecisionTreeClassifier\n",
    "from sklearn.ensemble import RandomForestClassifier\n",
    "from sklearn.metrics import roc_auc_score, accuracy_score, roc_curve\n",
    "from lightgbm import LGBMClassifier, early_stopping\n",
    "from catboost import CatBoostClassifier\n",
    "from xgboost import XGBClassifier"
   ]
  },
  {
   "cell_type": "markdown",
   "id": "0db1b00c",
   "metadata": {},
   "source": [
    "Load data."
   ]
  },
  {
   "cell_type": "code",
   "execution_count": 2,
   "id": "a5a37f27",
   "metadata": {},
   "outputs": [],
   "source": [
    "contract = pd.read_csv('datasets/contract.csv', parse_dates=['BeginDate', 'EndDate'])\n",
    "internet = pd.read_csv('datasets/internet.csv')\n",
    "personal = pd.read_csv('datasets/personal.csv')\n",
    "phone = pd.read_csv('datasets/phone.csv')\n",
    "df_all = [contract, internet, personal, phone]"
   ]
  },
  {
   "cell_type": "markdown",
   "id": "98a901d2",
   "metadata": {},
   "source": [
    "Overview data."
   ]
  },
  {
   "cell_type": "code",
   "execution_count": 3,
   "id": "c41e5ec9",
   "metadata": {},
   "outputs": [
    {
     "data": {
      "text/html": [
       "<div>\n",
       "<style scoped>\n",
       "    .dataframe tbody tr th:only-of-type {\n",
       "        vertical-align: middle;\n",
       "    }\n",
       "\n",
       "    .dataframe tbody tr th {\n",
       "        vertical-align: top;\n",
       "    }\n",
       "\n",
       "    .dataframe thead th {\n",
       "        text-align: right;\n",
       "    }\n",
       "</style>\n",
       "<table border=\"1\" class=\"dataframe\">\n",
       "  <thead>\n",
       "    <tr style=\"text-align: right;\">\n",
       "      <th></th>\n",
       "      <th>customerID</th>\n",
       "      <th>BeginDate</th>\n",
       "      <th>EndDate</th>\n",
       "      <th>Type</th>\n",
       "      <th>PaperlessBilling</th>\n",
       "      <th>PaymentMethod</th>\n",
       "      <th>MonthlyCharges</th>\n",
       "      <th>TotalCharges</th>\n",
       "    </tr>\n",
       "  </thead>\n",
       "  <tbody>\n",
       "    <tr>\n",
       "      <th>0</th>\n",
       "      <td>7590-VHVEG</td>\n",
       "      <td>2020-01-01</td>\n",
       "      <td>No</td>\n",
       "      <td>Month-to-month</td>\n",
       "      <td>Yes</td>\n",
       "      <td>Electronic check</td>\n",
       "      <td>29.85</td>\n",
       "      <td>29.85</td>\n",
       "    </tr>\n",
       "    <tr>\n",
       "      <th>1</th>\n",
       "      <td>5575-GNVDE</td>\n",
       "      <td>2017-04-01</td>\n",
       "      <td>No</td>\n",
       "      <td>One year</td>\n",
       "      <td>No</td>\n",
       "      <td>Mailed check</td>\n",
       "      <td>56.95</td>\n",
       "      <td>1889.5</td>\n",
       "    </tr>\n",
       "    <tr>\n",
       "      <th>2</th>\n",
       "      <td>3668-QPYBK</td>\n",
       "      <td>2019-10-01</td>\n",
       "      <td>2019-12-01 00:00:00</td>\n",
       "      <td>Month-to-month</td>\n",
       "      <td>Yes</td>\n",
       "      <td>Mailed check</td>\n",
       "      <td>53.85</td>\n",
       "      <td>108.15</td>\n",
       "    </tr>\n",
       "    <tr>\n",
       "      <th>3</th>\n",
       "      <td>7795-CFOCW</td>\n",
       "      <td>2016-05-01</td>\n",
       "      <td>No</td>\n",
       "      <td>One year</td>\n",
       "      <td>No</td>\n",
       "      <td>Bank transfer (automatic)</td>\n",
       "      <td>42.30</td>\n",
       "      <td>1840.75</td>\n",
       "    </tr>\n",
       "    <tr>\n",
       "      <th>4</th>\n",
       "      <td>9237-HQITU</td>\n",
       "      <td>2019-09-01</td>\n",
       "      <td>2019-11-01 00:00:00</td>\n",
       "      <td>Month-to-month</td>\n",
       "      <td>Yes</td>\n",
       "      <td>Electronic check</td>\n",
       "      <td>70.70</td>\n",
       "      <td>151.65</td>\n",
       "    </tr>\n",
       "  </tbody>\n",
       "</table>\n",
       "</div>"
      ],
      "text/plain": [
       "   customerID  BeginDate              EndDate            Type  \\\n",
       "0  7590-VHVEG 2020-01-01                   No  Month-to-month   \n",
       "1  5575-GNVDE 2017-04-01                   No        One year   \n",
       "2  3668-QPYBK 2019-10-01  2019-12-01 00:00:00  Month-to-month   \n",
       "3  7795-CFOCW 2016-05-01                   No        One year   \n",
       "4  9237-HQITU 2019-09-01  2019-11-01 00:00:00  Month-to-month   \n",
       "\n",
       "  PaperlessBilling              PaymentMethod  MonthlyCharges TotalCharges  \n",
       "0              Yes           Electronic check           29.85        29.85  \n",
       "1               No               Mailed check           56.95       1889.5  \n",
       "2              Yes               Mailed check           53.85       108.15  \n",
       "3               No  Bank transfer (automatic)           42.30      1840.75  \n",
       "4              Yes           Electronic check           70.70       151.65  "
      ]
     },
     "execution_count": 3,
     "metadata": {},
     "output_type": "execute_result"
    }
   ],
   "source": [
    "contract.head()"
   ]
  },
  {
   "cell_type": "code",
   "execution_count": 4,
   "id": "c69742ff",
   "metadata": {},
   "outputs": [
    {
     "data": {
      "text/html": [
       "<div>\n",
       "<style scoped>\n",
       "    .dataframe tbody tr th:only-of-type {\n",
       "        vertical-align: middle;\n",
       "    }\n",
       "\n",
       "    .dataframe tbody tr th {\n",
       "        vertical-align: top;\n",
       "    }\n",
       "\n",
       "    .dataframe thead th {\n",
       "        text-align: right;\n",
       "    }\n",
       "</style>\n",
       "<table border=\"1\" class=\"dataframe\">\n",
       "  <thead>\n",
       "    <tr style=\"text-align: right;\">\n",
       "      <th></th>\n",
       "      <th>customerID</th>\n",
       "      <th>InternetService</th>\n",
       "      <th>OnlineSecurity</th>\n",
       "      <th>OnlineBackup</th>\n",
       "      <th>DeviceProtection</th>\n",
       "      <th>TechSupport</th>\n",
       "      <th>StreamingTV</th>\n",
       "      <th>StreamingMovies</th>\n",
       "    </tr>\n",
       "  </thead>\n",
       "  <tbody>\n",
       "    <tr>\n",
       "      <th>0</th>\n",
       "      <td>7590-VHVEG</td>\n",
       "      <td>DSL</td>\n",
       "      <td>No</td>\n",
       "      <td>Yes</td>\n",
       "      <td>No</td>\n",
       "      <td>No</td>\n",
       "      <td>No</td>\n",
       "      <td>No</td>\n",
       "    </tr>\n",
       "    <tr>\n",
       "      <th>1</th>\n",
       "      <td>5575-GNVDE</td>\n",
       "      <td>DSL</td>\n",
       "      <td>Yes</td>\n",
       "      <td>No</td>\n",
       "      <td>Yes</td>\n",
       "      <td>No</td>\n",
       "      <td>No</td>\n",
       "      <td>No</td>\n",
       "    </tr>\n",
       "    <tr>\n",
       "      <th>2</th>\n",
       "      <td>3668-QPYBK</td>\n",
       "      <td>DSL</td>\n",
       "      <td>Yes</td>\n",
       "      <td>Yes</td>\n",
       "      <td>No</td>\n",
       "      <td>No</td>\n",
       "      <td>No</td>\n",
       "      <td>No</td>\n",
       "    </tr>\n",
       "    <tr>\n",
       "      <th>3</th>\n",
       "      <td>7795-CFOCW</td>\n",
       "      <td>DSL</td>\n",
       "      <td>Yes</td>\n",
       "      <td>No</td>\n",
       "      <td>Yes</td>\n",
       "      <td>Yes</td>\n",
       "      <td>No</td>\n",
       "      <td>No</td>\n",
       "    </tr>\n",
       "    <tr>\n",
       "      <th>4</th>\n",
       "      <td>9237-HQITU</td>\n",
       "      <td>Fiber optic</td>\n",
       "      <td>No</td>\n",
       "      <td>No</td>\n",
       "      <td>No</td>\n",
       "      <td>No</td>\n",
       "      <td>No</td>\n",
       "      <td>No</td>\n",
       "    </tr>\n",
       "  </tbody>\n",
       "</table>\n",
       "</div>"
      ],
      "text/plain": [
       "   customerID InternetService OnlineSecurity OnlineBackup DeviceProtection  \\\n",
       "0  7590-VHVEG             DSL             No          Yes               No   \n",
       "1  5575-GNVDE             DSL            Yes           No              Yes   \n",
       "2  3668-QPYBK             DSL            Yes          Yes               No   \n",
       "3  7795-CFOCW             DSL            Yes           No              Yes   \n",
       "4  9237-HQITU     Fiber optic             No           No               No   \n",
       "\n",
       "  TechSupport StreamingTV StreamingMovies  \n",
       "0          No          No              No  \n",
       "1          No          No              No  \n",
       "2          No          No              No  \n",
       "3         Yes          No              No  \n",
       "4          No          No              No  "
      ]
     },
     "execution_count": 4,
     "metadata": {},
     "output_type": "execute_result"
    }
   ],
   "source": [
    "internet.head()"
   ]
  },
  {
   "cell_type": "code",
   "execution_count": 5,
   "id": "d346c3ac",
   "metadata": {},
   "outputs": [
    {
     "data": {
      "text/html": [
       "<div>\n",
       "<style scoped>\n",
       "    .dataframe tbody tr th:only-of-type {\n",
       "        vertical-align: middle;\n",
       "    }\n",
       "\n",
       "    .dataframe tbody tr th {\n",
       "        vertical-align: top;\n",
       "    }\n",
       "\n",
       "    .dataframe thead th {\n",
       "        text-align: right;\n",
       "    }\n",
       "</style>\n",
       "<table border=\"1\" class=\"dataframe\">\n",
       "  <thead>\n",
       "    <tr style=\"text-align: right;\">\n",
       "      <th></th>\n",
       "      <th>customerID</th>\n",
       "      <th>gender</th>\n",
       "      <th>SeniorCitizen</th>\n",
       "      <th>Partner</th>\n",
       "      <th>Dependents</th>\n",
       "    </tr>\n",
       "  </thead>\n",
       "  <tbody>\n",
       "    <tr>\n",
       "      <th>0</th>\n",
       "      <td>7590-VHVEG</td>\n",
       "      <td>Female</td>\n",
       "      <td>0</td>\n",
       "      <td>Yes</td>\n",
       "      <td>No</td>\n",
       "    </tr>\n",
       "    <tr>\n",
       "      <th>1</th>\n",
       "      <td>5575-GNVDE</td>\n",
       "      <td>Male</td>\n",
       "      <td>0</td>\n",
       "      <td>No</td>\n",
       "      <td>No</td>\n",
       "    </tr>\n",
       "    <tr>\n",
       "      <th>2</th>\n",
       "      <td>3668-QPYBK</td>\n",
       "      <td>Male</td>\n",
       "      <td>0</td>\n",
       "      <td>No</td>\n",
       "      <td>No</td>\n",
       "    </tr>\n",
       "    <tr>\n",
       "      <th>3</th>\n",
       "      <td>7795-CFOCW</td>\n",
       "      <td>Male</td>\n",
       "      <td>0</td>\n",
       "      <td>No</td>\n",
       "      <td>No</td>\n",
       "    </tr>\n",
       "    <tr>\n",
       "      <th>4</th>\n",
       "      <td>9237-HQITU</td>\n",
       "      <td>Female</td>\n",
       "      <td>0</td>\n",
       "      <td>No</td>\n",
       "      <td>No</td>\n",
       "    </tr>\n",
       "  </tbody>\n",
       "</table>\n",
       "</div>"
      ],
      "text/plain": [
       "   customerID  gender  SeniorCitizen Partner Dependents\n",
       "0  7590-VHVEG  Female              0     Yes         No\n",
       "1  5575-GNVDE    Male              0      No         No\n",
       "2  3668-QPYBK    Male              0      No         No\n",
       "3  7795-CFOCW    Male              0      No         No\n",
       "4  9237-HQITU  Female              0      No         No"
      ]
     },
     "execution_count": 5,
     "metadata": {},
     "output_type": "execute_result"
    }
   ],
   "source": [
    "personal.head()"
   ]
  },
  {
   "cell_type": "code",
   "execution_count": 6,
   "id": "a7172cd9",
   "metadata": {},
   "outputs": [
    {
     "data": {
      "text/html": [
       "<div>\n",
       "<style scoped>\n",
       "    .dataframe tbody tr th:only-of-type {\n",
       "        vertical-align: middle;\n",
       "    }\n",
       "\n",
       "    .dataframe tbody tr th {\n",
       "        vertical-align: top;\n",
       "    }\n",
       "\n",
       "    .dataframe thead th {\n",
       "        text-align: right;\n",
       "    }\n",
       "</style>\n",
       "<table border=\"1\" class=\"dataframe\">\n",
       "  <thead>\n",
       "    <tr style=\"text-align: right;\">\n",
       "      <th></th>\n",
       "      <th>customerID</th>\n",
       "      <th>MultipleLines</th>\n",
       "    </tr>\n",
       "  </thead>\n",
       "  <tbody>\n",
       "    <tr>\n",
       "      <th>0</th>\n",
       "      <td>5575-GNVDE</td>\n",
       "      <td>No</td>\n",
       "    </tr>\n",
       "    <tr>\n",
       "      <th>1</th>\n",
       "      <td>3668-QPYBK</td>\n",
       "      <td>No</td>\n",
       "    </tr>\n",
       "    <tr>\n",
       "      <th>2</th>\n",
       "      <td>9237-HQITU</td>\n",
       "      <td>No</td>\n",
       "    </tr>\n",
       "    <tr>\n",
       "      <th>3</th>\n",
       "      <td>9305-CDSKC</td>\n",
       "      <td>Yes</td>\n",
       "    </tr>\n",
       "    <tr>\n",
       "      <th>4</th>\n",
       "      <td>1452-KIOVK</td>\n",
       "      <td>Yes</td>\n",
       "    </tr>\n",
       "  </tbody>\n",
       "</table>\n",
       "</div>"
      ],
      "text/plain": [
       "   customerID MultipleLines\n",
       "0  5575-GNVDE            No\n",
       "1  3668-QPYBK            No\n",
       "2  9237-HQITU            No\n",
       "3  9305-CDSKC           Yes\n",
       "4  1452-KIOVK           Yes"
      ]
     },
     "execution_count": 6,
     "metadata": {},
     "output_type": "execute_result"
    }
   ],
   "source": [
    "phone.head()"
   ]
  },
  {
   "cell_type": "code",
   "execution_count": 7,
   "id": "f04c031d",
   "metadata": {},
   "outputs": [
    {
     "name": "stdout",
     "output_type": "stream",
     "text": [
      "<class 'pandas.core.frame.DataFrame'>\n",
      "RangeIndex: 7043 entries, 0 to 7042\n",
      "Data columns (total 8 columns):\n",
      " #   Column            Non-Null Count  Dtype         \n",
      "---  ------            --------------  -----         \n",
      " 0   customerID        7043 non-null   object        \n",
      " 1   BeginDate         7043 non-null   datetime64[ns]\n",
      " 2   EndDate           7043 non-null   object        \n",
      " 3   Type              7043 non-null   object        \n",
      " 4   PaperlessBilling  7043 non-null   object        \n",
      " 5   PaymentMethod     7043 non-null   object        \n",
      " 6   MonthlyCharges    7043 non-null   float64       \n",
      " 7   TotalCharges      7043 non-null   object        \n",
      "dtypes: datetime64[ns](1), float64(1), object(6)\n",
      "memory usage: 440.3+ KB\n",
      "None\n",
      "\n",
      "<class 'pandas.core.frame.DataFrame'>\n",
      "RangeIndex: 5517 entries, 0 to 5516\n",
      "Data columns (total 8 columns):\n",
      " #   Column            Non-Null Count  Dtype \n",
      "---  ------            --------------  ----- \n",
      " 0   customerID        5517 non-null   object\n",
      " 1   InternetService   5517 non-null   object\n",
      " 2   OnlineSecurity    5517 non-null   object\n",
      " 3   OnlineBackup      5517 non-null   object\n",
      " 4   DeviceProtection  5517 non-null   object\n",
      " 5   TechSupport       5517 non-null   object\n",
      " 6   StreamingTV       5517 non-null   object\n",
      " 7   StreamingMovies   5517 non-null   object\n",
      "dtypes: object(8)\n",
      "memory usage: 344.9+ KB\n",
      "None\n",
      "\n",
      "<class 'pandas.core.frame.DataFrame'>\n",
      "RangeIndex: 7043 entries, 0 to 7042\n",
      "Data columns (total 5 columns):\n",
      " #   Column         Non-Null Count  Dtype \n",
      "---  ------         --------------  ----- \n",
      " 0   customerID     7043 non-null   object\n",
      " 1   gender         7043 non-null   object\n",
      " 2   SeniorCitizen  7043 non-null   int64 \n",
      " 3   Partner        7043 non-null   object\n",
      " 4   Dependents     7043 non-null   object\n",
      "dtypes: int64(1), object(4)\n",
      "memory usage: 275.2+ KB\n",
      "None\n",
      "\n",
      "<class 'pandas.core.frame.DataFrame'>\n",
      "RangeIndex: 6361 entries, 0 to 6360\n",
      "Data columns (total 2 columns):\n",
      " #   Column         Non-Null Count  Dtype \n",
      "---  ------         --------------  ----- \n",
      " 0   customerID     6361 non-null   object\n",
      " 1   MultipleLines  6361 non-null   object\n",
      "dtypes: object(2)\n",
      "memory usage: 99.5+ KB\n",
      "None\n",
      "\n"
     ]
    }
   ],
   "source": [
    "for df in df_all:\n",
    "    print(df.info())\n",
    "    print()"
   ]
  },
  {
   "cell_type": "code",
   "execution_count": 8,
   "id": "b33b0dc1",
   "metadata": {},
   "outputs": [
    {
     "name": "stdout",
     "output_type": "stream",
     "text": [
      "duplicates in df0: 0\n",
      "duplicates in df1: 0\n",
      "duplicates in df2: 0\n",
      "duplicates in df3: 0\n"
     ]
    }
   ],
   "source": [
    "for i, df in enumerate(df_all):\n",
    "    print('duplicates in df{0}: {1}'.format(i, df.duplicated().sum()))"
   ]
  },
  {
   "cell_type": "markdown",
   "id": "11a46c6c",
   "metadata": {},
   "source": [
    "There are no missing values or duplicates. \n",
    "\n",
    "Make sure `customerID` is identical in `contract` and `personal`."
   ]
  },
  {
   "cell_type": "code",
   "execution_count": 9,
   "id": "bc05f0f7",
   "metadata": {},
   "outputs": [
    {
     "data": {
      "text/plain": [
       "True"
      ]
     },
     "execution_count": 9,
     "metadata": {},
     "output_type": "execute_result"
    }
   ],
   "source": [
    "(contract['customerID'] == personal['customerID']).mean() == 1"
   ]
  },
  {
   "cell_type": "markdown",
   "id": "70239c0e",
   "metadata": {},
   "source": [
    "Also make sure there are no unaccounted `customerID` in `phone` and `internet`."
   ]
  },
  {
   "cell_type": "code",
   "execution_count": 10,
   "id": "cbd5cf4f",
   "metadata": {},
   "outputs": [
    {
     "data": {
      "text/plain": [
       "True"
      ]
     },
     "execution_count": 10,
     "metadata": {},
     "output_type": "execute_result"
    }
   ],
   "source": [
    "phone['customerID'].isin(contract['customerID']).mean() == 1"
   ]
  },
  {
   "cell_type": "code",
   "execution_count": 11,
   "id": "5ac32687",
   "metadata": {},
   "outputs": [
    {
     "data": {
      "text/plain": [
       "True"
      ]
     },
     "execution_count": 11,
     "metadata": {},
     "output_type": "execute_result"
    }
   ],
   "source": [
    "internet['customerID'].isin(contract['customerID']).mean() == 1"
   ]
  },
  {
   "cell_type": "markdown",
   "id": "07de1d98",
   "metadata": {},
   "source": [
    "While merging all 4 datasets, we'll create a new boolean column to indicate the client had phone subscription. There's no need to do so for internet, because we can just add a 'None' category to the existing `InternetService` column."
   ]
  },
  {
   "cell_type": "code",
   "execution_count": 12,
   "id": "a397acdc",
   "metadata": {},
   "outputs": [],
   "source": [
    "df_merged = pd.merge(personal, contract)\n",
    "df_merged['Phone'] = df_merged['customerID'].isin(phone['customerID']).astype('int')\n",
    "df_merged = pd.merge(df_merged, phone, how='left', on='customerID')\n",
    "df_merged = pd.merge(df_merged, internet, how='left', on='customerID')\n",
    "df_merged['InternetService'] = df_merged['InternetService'].fillna('None')\n",
    "df_merged = df_merged.fillna('No')"
   ]
  },
  {
   "cell_type": "markdown",
   "id": "24a803fc",
   "metadata": {},
   "source": [
    "Make sure there are no irregular values from typos etc. or under represented rare values."
   ]
  },
  {
   "cell_type": "code",
   "execution_count": 13,
   "id": "4fa13009",
   "metadata": {
    "scrolled": true
   },
   "outputs": [
    {
     "name": "stdout",
     "output_type": "stream",
     "text": [
      "customerID: 7043 unique values\n",
      "\n",
      "gender: 2 unique values\n",
      "Male      3555\n",
      "Female    3488\n",
      "Name: gender, dtype: int64\n",
      "\n",
      "SeniorCitizen: 2 unique values\n",
      "0    5901\n",
      "1    1142\n",
      "Name: SeniorCitizen, dtype: int64\n",
      "\n",
      "Partner: 2 unique values\n",
      "No     3641\n",
      "Yes    3402\n",
      "Name: Partner, dtype: int64\n",
      "\n",
      "Dependents: 2 unique values\n",
      "No     4933\n",
      "Yes    2110\n",
      "Name: Dependents, dtype: int64\n",
      "\n",
      "BeginDate: 77 unique values\n",
      "\n",
      "EndDate: 5 unique values\n",
      "No                     5174\n",
      "2019-11-01 00:00:00     485\n",
      "2019-12-01 00:00:00     466\n",
      "2020-01-01 00:00:00     460\n",
      "2019-10-01 00:00:00     458\n",
      "Name: EndDate, dtype: int64\n",
      "\n",
      "Type: 3 unique values\n",
      "Month-to-month    3875\n",
      "Two year          1695\n",
      "One year          1473\n",
      "Name: Type, dtype: int64\n",
      "\n",
      "PaperlessBilling: 2 unique values\n",
      "Yes    4171\n",
      "No     2872\n",
      "Name: PaperlessBilling, dtype: int64\n",
      "\n",
      "PaymentMethod: 4 unique values\n",
      "Electronic check             2365\n",
      "Mailed check                 1612\n",
      "Bank transfer (automatic)    1544\n",
      "Credit card (automatic)      1522\n",
      "Name: PaymentMethod, dtype: int64\n",
      "\n",
      "MonthlyCharges: 1585 unique values\n",
      "\n",
      "TotalCharges: 6531 unique values\n",
      "\n",
      "Phone: 2 unique values\n",
      "1    6361\n",
      "0     682\n",
      "Name: Phone, dtype: int64\n",
      "\n",
      "MultipleLines: 2 unique values\n",
      "No     4072\n",
      "Yes    2971\n",
      "Name: MultipleLines, dtype: int64\n",
      "\n",
      "InternetService: 3 unique values\n",
      "Fiber optic    3096\n",
      "DSL            2421\n",
      "None           1526\n",
      "Name: InternetService, dtype: int64\n",
      "\n",
      "OnlineSecurity: 2 unique values\n",
      "No     5024\n",
      "Yes    2019\n",
      "Name: OnlineSecurity, dtype: int64\n",
      "\n",
      "OnlineBackup: 2 unique values\n",
      "No     4614\n",
      "Yes    2429\n",
      "Name: OnlineBackup, dtype: int64\n",
      "\n",
      "DeviceProtection: 2 unique values\n",
      "No     4621\n",
      "Yes    2422\n",
      "Name: DeviceProtection, dtype: int64\n",
      "\n",
      "TechSupport: 2 unique values\n",
      "No     4999\n",
      "Yes    2044\n",
      "Name: TechSupport, dtype: int64\n",
      "\n",
      "StreamingTV: 2 unique values\n",
      "No     4336\n",
      "Yes    2707\n",
      "Name: StreamingTV, dtype: int64\n",
      "\n",
      "StreamingMovies: 2 unique values\n",
      "No     4311\n",
      "Yes    2732\n",
      "Name: StreamingMovies, dtype: int64\n",
      "\n"
     ]
    }
   ],
   "source": [
    "for column in df_merged.columns:   \n",
    "    print('{0}: {1} unique values'.format(column, df_merged[column].nunique()))\n",
    "    if df_merged[column].nunique() < 10:\n",
    "        print(df_merged[column].value_counts())\n",
    "    print()"
   ]
  },
  {
   "cell_type": "markdown",
   "id": "2106384d",
   "metadata": {},
   "source": [
    "There are no problematic values to account for.\n",
    "\n",
    "Add the tenure and target columns."
   ]
  },
  {
   "cell_type": "code",
   "execution_count": 14,
   "id": "17d42208",
   "metadata": {},
   "outputs": [],
   "source": [
    "PRESENT = pd.to_datetime('2020-02-01 00:00:00')\n",
    "\n",
    "df_merged['EndDate'] = pd.to_datetime(df_merged['EndDate'].replace({'No': PRESENT}))\n",
    "df_merged['Tenure'] = (df_merged['EndDate'] - (df_merged['BeginDate'])).dt.days\n",
    "\n",
    "# df_merged.replace({'Yes': 1, 'No': 0}, inplace=True)\n",
    "df_merged['Canceled'] = (df_merged['EndDate'] < PRESENT).astype('int')"
   ]
  },
  {
   "cell_type": "markdown",
   "id": "40178f57",
   "metadata": {},
   "source": [
    "Update all 'Yes'\\\\'No' to boolean"
   ]
  },
  {
   "cell_type": "code",
   "execution_count": 15,
   "id": "977b6a37",
   "metadata": {
    "scrolled": true
   },
   "outputs": [],
   "source": [
    "df_merged.replace({'Yes': 1, 'No': 0}, inplace=True)"
   ]
  },
  {
   "cell_type": "markdown",
   "id": "2c5545e9",
   "metadata": {},
   "source": [
    "`TotalCharges` should be a number, but it cannot be converted as is because of the following items."
   ]
  },
  {
   "cell_type": "code",
   "execution_count": 16,
   "id": "2d235170",
   "metadata": {},
   "outputs": [
    {
     "data": {
      "text/html": [
       "<div>\n",
       "<style scoped>\n",
       "    .dataframe tbody tr th:only-of-type {\n",
       "        vertical-align: middle;\n",
       "    }\n",
       "\n",
       "    .dataframe tbody tr th {\n",
       "        vertical-align: top;\n",
       "    }\n",
       "\n",
       "    .dataframe thead th {\n",
       "        text-align: right;\n",
       "    }\n",
       "</style>\n",
       "<table border=\"1\" class=\"dataframe\">\n",
       "  <thead>\n",
       "    <tr style=\"text-align: right;\">\n",
       "      <th></th>\n",
       "      <th>MonthlyCharges</th>\n",
       "      <th>BeginDate</th>\n",
       "    </tr>\n",
       "  </thead>\n",
       "  <tbody>\n",
       "    <tr>\n",
       "      <th>488</th>\n",
       "      <td>52.55</td>\n",
       "      <td>2020-02-01</td>\n",
       "    </tr>\n",
       "    <tr>\n",
       "      <th>753</th>\n",
       "      <td>20.25</td>\n",
       "      <td>2020-02-01</td>\n",
       "    </tr>\n",
       "    <tr>\n",
       "      <th>936</th>\n",
       "      <td>80.85</td>\n",
       "      <td>2020-02-01</td>\n",
       "    </tr>\n",
       "    <tr>\n",
       "      <th>1082</th>\n",
       "      <td>25.75</td>\n",
       "      <td>2020-02-01</td>\n",
       "    </tr>\n",
       "    <tr>\n",
       "      <th>1340</th>\n",
       "      <td>56.05</td>\n",
       "      <td>2020-02-01</td>\n",
       "    </tr>\n",
       "    <tr>\n",
       "      <th>3331</th>\n",
       "      <td>19.85</td>\n",
       "      <td>2020-02-01</td>\n",
       "    </tr>\n",
       "    <tr>\n",
       "      <th>3826</th>\n",
       "      <td>25.35</td>\n",
       "      <td>2020-02-01</td>\n",
       "    </tr>\n",
       "    <tr>\n",
       "      <th>4380</th>\n",
       "      <td>20.00</td>\n",
       "      <td>2020-02-01</td>\n",
       "    </tr>\n",
       "    <tr>\n",
       "      <th>5218</th>\n",
       "      <td>19.70</td>\n",
       "      <td>2020-02-01</td>\n",
       "    </tr>\n",
       "    <tr>\n",
       "      <th>6670</th>\n",
       "      <td>73.35</td>\n",
       "      <td>2020-02-01</td>\n",
       "    </tr>\n",
       "    <tr>\n",
       "      <th>6754</th>\n",
       "      <td>61.90</td>\n",
       "      <td>2020-02-01</td>\n",
       "    </tr>\n",
       "  </tbody>\n",
       "</table>\n",
       "</div>"
      ],
      "text/plain": [
       "      MonthlyCharges  BeginDate\n",
       "488            52.55 2020-02-01\n",
       "753            20.25 2020-02-01\n",
       "936            80.85 2020-02-01\n",
       "1082           25.75 2020-02-01\n",
       "1340           56.05 2020-02-01\n",
       "3331           19.85 2020-02-01\n",
       "3826           25.35 2020-02-01\n",
       "4380           20.00 2020-02-01\n",
       "5218           19.70 2020-02-01\n",
       "6670           73.35 2020-02-01\n",
       "6754           61.90 2020-02-01"
      ]
     },
     "execution_count": 16,
     "metadata": {},
     "output_type": "execute_result"
    }
   ],
   "source": [
    "df_merged.loc[df_merged['TotalCharges'] == ' ', ['MonthlyCharges', 'BeginDate']]"
   ]
  },
  {
   "cell_type": "markdown",
   "id": "84897f9c",
   "metadata": {},
   "source": [
    "These customers just joined and haven'd even paid their first bill, so the total should be 0."
   ]
  },
  {
   "cell_type": "code",
   "execution_count": 17,
   "id": "d535b20f",
   "metadata": {},
   "outputs": [],
   "source": [
    "df_merged.loc[df_merged['TotalCharges'] == ' ', 'TotalCharges'] = 0.\n",
    "df_merged['TotalCharges'] = df_merged['TotalCharges'].astype('float')"
   ]
  },
  {
   "cell_type": "markdown",
   "id": "07731c7f",
   "metadata": {},
   "source": [
    "Take a look at our creation to make sure nothing went wrong"
   ]
  },
  {
   "cell_type": "code",
   "execution_count": 18,
   "id": "06cefafb",
   "metadata": {},
   "outputs": [
    {
     "data": {
      "text/html": [
       "<div>\n",
       "<style scoped>\n",
       "    .dataframe tbody tr th:only-of-type {\n",
       "        vertical-align: middle;\n",
       "    }\n",
       "\n",
       "    .dataframe tbody tr th {\n",
       "        vertical-align: top;\n",
       "    }\n",
       "\n",
       "    .dataframe thead th {\n",
       "        text-align: right;\n",
       "    }\n",
       "</style>\n",
       "<table border=\"1\" class=\"dataframe\">\n",
       "  <thead>\n",
       "    <tr style=\"text-align: right;\">\n",
       "      <th></th>\n",
       "      <th>customerID</th>\n",
       "      <th>gender</th>\n",
       "      <th>SeniorCitizen</th>\n",
       "      <th>Partner</th>\n",
       "      <th>Dependents</th>\n",
       "      <th>BeginDate</th>\n",
       "      <th>EndDate</th>\n",
       "      <th>Type</th>\n",
       "      <th>PaperlessBilling</th>\n",
       "      <th>PaymentMethod</th>\n",
       "      <th>...</th>\n",
       "      <th>MultipleLines</th>\n",
       "      <th>InternetService</th>\n",
       "      <th>OnlineSecurity</th>\n",
       "      <th>OnlineBackup</th>\n",
       "      <th>DeviceProtection</th>\n",
       "      <th>TechSupport</th>\n",
       "      <th>StreamingTV</th>\n",
       "      <th>StreamingMovies</th>\n",
       "      <th>Tenure</th>\n",
       "      <th>Canceled</th>\n",
       "    </tr>\n",
       "  </thead>\n",
       "  <tbody>\n",
       "    <tr>\n",
       "      <th>5864</th>\n",
       "      <td>5093-FEGLU</td>\n",
       "      <td>Female</td>\n",
       "      <td>0</td>\n",
       "      <td>1</td>\n",
       "      <td>0</td>\n",
       "      <td>2016-03-01</td>\n",
       "      <td>2020-02-01</td>\n",
       "      <td>Two year</td>\n",
       "      <td>0</td>\n",
       "      <td>Bank transfer (automatic)</td>\n",
       "      <td>...</td>\n",
       "      <td>0</td>\n",
       "      <td>None</td>\n",
       "      <td>0</td>\n",
       "      <td>0</td>\n",
       "      <td>0</td>\n",
       "      <td>0</td>\n",
       "      <td>0</td>\n",
       "      <td>0</td>\n",
       "      <td>1432</td>\n",
       "      <td>0</td>\n",
       "    </tr>\n",
       "    <tr>\n",
       "      <th>5269</th>\n",
       "      <td>5424-RLQLC</td>\n",
       "      <td>Male</td>\n",
       "      <td>0</td>\n",
       "      <td>0</td>\n",
       "      <td>0</td>\n",
       "      <td>2019-04-01</td>\n",
       "      <td>2020-02-01</td>\n",
       "      <td>Month-to-month</td>\n",
       "      <td>1</td>\n",
       "      <td>Mailed check</td>\n",
       "      <td>...</td>\n",
       "      <td>0</td>\n",
       "      <td>DSL</td>\n",
       "      <td>0</td>\n",
       "      <td>1</td>\n",
       "      <td>0</td>\n",
       "      <td>0</td>\n",
       "      <td>1</td>\n",
       "      <td>0</td>\n",
       "      <td>306</td>\n",
       "      <td>0</td>\n",
       "    </tr>\n",
       "    <tr>\n",
       "      <th>4497</th>\n",
       "      <td>0575-CUQOV</td>\n",
       "      <td>Male</td>\n",
       "      <td>1</td>\n",
       "      <td>1</td>\n",
       "      <td>0</td>\n",
       "      <td>2015-02-01</td>\n",
       "      <td>2020-02-01</td>\n",
       "      <td>One year</td>\n",
       "      <td>1</td>\n",
       "      <td>Electronic check</td>\n",
       "      <td>...</td>\n",
       "      <td>0</td>\n",
       "      <td>Fiber optic</td>\n",
       "      <td>0</td>\n",
       "      <td>1</td>\n",
       "      <td>1</td>\n",
       "      <td>0</td>\n",
       "      <td>1</td>\n",
       "      <td>1</td>\n",
       "      <td>1826</td>\n",
       "      <td>0</td>\n",
       "    </tr>\n",
       "    <tr>\n",
       "      <th>640</th>\n",
       "      <td>9574-BOSMD</td>\n",
       "      <td>Male</td>\n",
       "      <td>0</td>\n",
       "      <td>1</td>\n",
       "      <td>1</td>\n",
       "      <td>2014-06-01</td>\n",
       "      <td>2020-02-01</td>\n",
       "      <td>Two year</td>\n",
       "      <td>0</td>\n",
       "      <td>Bank transfer (automatic)</td>\n",
       "      <td>...</td>\n",
       "      <td>1</td>\n",
       "      <td>None</td>\n",
       "      <td>0</td>\n",
       "      <td>0</td>\n",
       "      <td>0</td>\n",
       "      <td>0</td>\n",
       "      <td>0</td>\n",
       "      <td>0</td>\n",
       "      <td>2071</td>\n",
       "      <td>0</td>\n",
       "    </tr>\n",
       "    <tr>\n",
       "      <th>3292</th>\n",
       "      <td>7284-BUYEC</td>\n",
       "      <td>Female</td>\n",
       "      <td>0</td>\n",
       "      <td>0</td>\n",
       "      <td>0</td>\n",
       "      <td>2019-09-01</td>\n",
       "      <td>2020-02-01</td>\n",
       "      <td>Month-to-month</td>\n",
       "      <td>1</td>\n",
       "      <td>Credit card (automatic)</td>\n",
       "      <td>...</td>\n",
       "      <td>0</td>\n",
       "      <td>DSL</td>\n",
       "      <td>0</td>\n",
       "      <td>1</td>\n",
       "      <td>0</td>\n",
       "      <td>0</td>\n",
       "      <td>1</td>\n",
       "      <td>1</td>\n",
       "      <td>153</td>\n",
       "      <td>0</td>\n",
       "    </tr>\n",
       "  </tbody>\n",
       "</table>\n",
       "<p>5 rows × 23 columns</p>\n",
       "</div>"
      ],
      "text/plain": [
       "      customerID  gender  SeniorCitizen  Partner  Dependents  BeginDate  \\\n",
       "5864  5093-FEGLU  Female              0        1           0 2016-03-01   \n",
       "5269  5424-RLQLC    Male              0        0           0 2019-04-01   \n",
       "4497  0575-CUQOV    Male              1        1           0 2015-02-01   \n",
       "640   9574-BOSMD    Male              0        1           1 2014-06-01   \n",
       "3292  7284-BUYEC  Female              0        0           0 2019-09-01   \n",
       "\n",
       "        EndDate            Type  PaperlessBilling              PaymentMethod  \\\n",
       "5864 2020-02-01        Two year                 0  Bank transfer (automatic)   \n",
       "5269 2020-02-01  Month-to-month                 1               Mailed check   \n",
       "4497 2020-02-01        One year                 1           Electronic check   \n",
       "640  2020-02-01        Two year                 0  Bank transfer (automatic)   \n",
       "3292 2020-02-01  Month-to-month                 1    Credit card (automatic)   \n",
       "\n",
       "      ...  MultipleLines  InternetService  OnlineSecurity  OnlineBackup  \\\n",
       "5864  ...              0             None               0             0   \n",
       "5269  ...              0              DSL               0             1   \n",
       "4497  ...              0      Fiber optic               0             1   \n",
       "640   ...              1             None               0             0   \n",
       "3292  ...              0              DSL               0             1   \n",
       "\n",
       "     DeviceProtection  TechSupport  StreamingTV  StreamingMovies  Tenure  \\\n",
       "5864                0            0            0                0    1432   \n",
       "5269                0            0            1                0     306   \n",
       "4497                1            0            1                1    1826   \n",
       "640                 0            0            0                0    2071   \n",
       "3292                0            0            1                1     153   \n",
       "\n",
       "      Canceled  \n",
       "5864         0  \n",
       "5269         0  \n",
       "4497         0  \n",
       "640          0  \n",
       "3292         0  \n",
       "\n",
       "[5 rows x 23 columns]"
      ]
     },
     "execution_count": 18,
     "metadata": {},
     "output_type": "execute_result"
    }
   ],
   "source": [
    "df_merged.sample(5)"
   ]
  },
  {
   "cell_type": "markdown",
   "id": "42c94a7b",
   "metadata": {},
   "source": [
    "## Exploratory Data Analysis"
   ]
  },
  {
   "cell_type": "code",
   "execution_count": 19,
   "id": "c5e026bc",
   "metadata": {},
   "outputs": [
    {
     "data": {
      "image/png": "[encoded data removed]",
      "text/plain": [
       "<Figure size 720x432 with 1 Axes>"
      ]
     },
     "metadata": {
      "needs_background": "light"
     },
     "output_type": "display_data"
    }
   ],
   "source": [
    "plt.figure(figsize=(10, 6))\n",
    "plt.title('Tenure Distribution Comparison')\n",
    "sns.histplot(df_merged, x='Tenure', hue='Canceled', multiple='dodge')\n",
    "plt.show()"
   ]
  },
  {
   "cell_type": "markdown",
   "id": "651332f2",
   "metadata": {},
   "source": [
    "Cancelling probability drops over time."
   ]
  },
  {
   "cell_type": "code",
   "execution_count": 20,
   "id": "7cd9de08",
   "metadata": {
    "scrolled": false
   },
   "outputs": [
    {
     "data": {
      "image/png": "[encoded data removed]",
      "text/plain": [
       "<Figure size 720x432 with 1 Axes>"
      ]
     },
     "metadata": {
      "needs_background": "light"
     },
     "output_type": "display_data"
    }
   ],
   "source": [
    "plt.figure(figsize=(10, 6))\n",
    "plt.title('Total Charges Distribution Comparison')\n",
    "sns.histplot(df_merged, x='TotalCharges', hue='Canceled', multiple='dodge')\n",
    "plt.show()"
   ]
  },
  {
   "cell_type": "markdown",
   "id": "eca76194",
   "metadata": {},
   "source": [
    "Total charges are related to tenure - the longer you stay, the more you pay, so it makes sense cancelations are more common at lower total charges."
   ]
  },
  {
   "cell_type": "code",
   "execution_count": 21,
   "id": "24d5489b",
   "metadata": {},
   "outputs": [
    {
     "data": {
      "image/png": "[encoded data removed]",
      "text/plain": [
       "<Figure size 720x432 with 1 Axes>"
      ]
     },
     "metadata": {
      "needs_background": "light"
     },
     "output_type": "display_data"
    }
   ],
   "source": [
    "plt.figure(figsize=(10, 6))\n",
    "plt.title('Monthly Charges Distribution Comparison')\n",
    "sns.histplot(df_merged, x='MonthlyCharges', hue='Canceled', multiple='dodge', bins=20)\n",
    "plt.show()"
   ]
  },
  {
   "cell_type": "markdown",
   "id": "e1f11d61",
   "metadata": {},
   "source": [
    "When looking at monthly charges, the proportion of cancelations is higher at the \\\\$70-110 range."
   ]
  },
  {
   "cell_type": "code",
   "execution_count": 22,
   "id": "07dc69ba",
   "metadata": {},
   "outputs": [
    {
     "data": {
      "image/png": "[encoded data removed]",
      "text/plain": [
       "<Figure size 720x432 with 1 Axes>"
      ]
     },
     "metadata": {
      "needs_background": "light"
     },
     "output_type": "display_data"
    }
   ],
   "source": [
    "plt.figure(figsize=(10, 6))\n",
    "plt.title('Payment Method Comparison')\n",
    "sns.histplot(df_merged, x='PaymentMethod', hue='Canceled', stat='probability', multiple='dodge', shrink=0.8)\n",
    "plt.show()"
   ]
  },
  {
   "cell_type": "markdown",
   "id": "171f7513",
   "metadata": {},
   "source": [
    "Customers paying by electronic check are more prone to cancelling."
   ]
  },
  {
   "cell_type": "code",
   "execution_count": 23,
   "id": "4d34e309",
   "metadata": {},
   "outputs": [
    {
     "data": {
      "image/png": "[encoded data removed]",
      "text/plain": [
       "<Figure size 720x432 with 1 Axes>"
      ]
     },
     "metadata": {
      "needs_background": "light"
     },
     "output_type": "display_data"
    }
   ],
   "source": [
    "plt.figure(figsize=(10, 6))\n",
    "plt.title('Gender Comparison')\n",
    "sns.histplot(df_merged, x='gender', hue='Canceled', stat='probability', multiple='dodge', shrink=0.8)\n",
    "plt.show()"
   ]
  },
  {
   "cell_type": "markdown",
   "id": "046ed272",
   "metadata": {},
   "source": [
    "No significant difference between genders."
   ]
  },
  {
   "cell_type": "code",
   "execution_count": 24,
   "id": "b117971f",
   "metadata": {},
   "outputs": [
    {
     "data": {
      "image/png": "[encoded data removed]",
      "text/plain": [
       "<Figure size 720x432 with 1 Axes>"
      ]
     },
     "metadata": {
      "needs_background": "light"
     },
     "output_type": "display_data"
    }
   ],
   "source": [
    "plt.figure(figsize=(10, 6))\n",
    "plt.title('Internet Service Type Comparison')\n",
    "sns.histplot(df_merged, x='InternetService', hue='Canceled', stat='probability', multiple='dodge', shrink=0.8)\n",
    "plt.show()"
   ]
  },
  {
   "cell_type": "markdown",
   "id": "c1c49947",
   "metadata": {},
   "source": [
    "Customers with only phone subsciption are least likely to cancel, followed by DSL users and most cancellations are from fiber users."
   ]
  },
  {
   "cell_type": "code",
   "execution_count": 25,
   "id": "cdfc07ef",
   "metadata": {},
   "outputs": [],
   "source": [
    "bar_cols = list(internet.columns)\n",
    "bar_cols.append('Canceled')\n",
    "bar_data = df_merged[bar_cols].groupby('Canceled').mean().reset_index().T.reset_index().drop(0).rename(\n",
    "    columns={'index': 'service', False: 'not_canceled', True: 'canceled'})\n",
    "# bar_data"
   ]
  },
  {
   "cell_type": "code",
   "execution_count": 26,
   "id": "d6ec1c46",
   "metadata": {},
   "outputs": [
    {
     "data": {
      "image/png": "[encoded data removed]",
      "text/plain": [
       "<Figure size 864x432 with 1 Axes>"
      ]
     },
     "metadata": {
      "needs_background": "light"
     },
     "output_type": "display_data"
    }
   ],
   "source": [
    "ind = np.arange(len(bar_data))\n",
    "width = 0.4\n",
    "\n",
    "plt.figure(figsize=(12, 6))\n",
    "\n",
    "plt.bar(x=ind, height=bar_data['not_canceled'], width=width, ec='k', label='still subsribed')\n",
    "plt.bar(x=ind+width, height=bar_data['canceled'], width=width, ec='k', label='canceled')\n",
    "\n",
    "plt.title('Internet services usage comparison')\n",
    "plt.xticks(ind + width / 2, bar_data['service'])\n",
    "plt.xlabel('Internet Service')\n",
    "plt.ylabel('usage ratio')\n",
    "plt.legend()\n",
    "plt.show()"
   ]
  },
  {
   "cell_type": "markdown",
   "id": "172ee70f",
   "metadata": {},
   "source": [
    "The cancelled group was half as likely the subscibe for tech support and Online Security, but more likely to be subscribed to streaming services.\n",
    "\n",
    "We can keep going over every feature in a similar manner, but it's redundant because the model is supposed to make all the connections on its own, as well as giving them appropriate weights, which would be hard to infer from just looking at graphs. We have showed there is some relation between the features and the target, and now it's time to start modelling."
   ]
  },
  {
   "cell_type": "markdown",
   "id": "23477cbf",
   "metadata": {},
   "source": [
    "## Preprocessing for ML\n",
    "Create features and target datasets from the merged dataset. We will not use `customerID` because it holds no information, nor `BeginDate` or `EndDate` because that would be a target leakage (using `BeginDate` with `Tenure` effectively gives away the target)."
   ]
  },
  {
   "cell_type": "code",
   "execution_count": 27,
   "id": "f190e6e0",
   "metadata": {},
   "outputs": [],
   "source": [
    "x = df_merged.drop(['customerID', 'BeginDate', 'EndDate', 'Canceled'], axis=1)\n",
    "y = df_merged['Canceled']"
   ]
  },
  {
   "cell_type": "markdown",
   "id": "11557420",
   "metadata": {},
   "source": [
    "We need to turn the categorical features to numeric ones. We will do it with One-Hot encoding, and drop the first level because it is redundant - if there are 3 options and it's not A or B, it's necesserily C."
   ]
  },
  {
   "cell_type": "code",
   "execution_count": 28,
   "id": "97f90fc9",
   "metadata": {},
   "outputs": [],
   "source": [
    "x = pd.get_dummies(x, drop_first=True)"
   ]
  },
  {
   "cell_type": "markdown",
   "id": "86fc5def",
   "metadata": {},
   "source": [
    "Now that all of the features are ready, we can do the split. The train-valid-test ratio will be 6-2-2."
   ]
  },
  {
   "cell_type": "code",
   "execution_count": 29,
   "id": "aa048933",
   "metadata": {},
   "outputs": [
    {
     "name": "stdout",
     "output_type": "stream",
     "text": [
      "train-valid-test: 4225-1409-1409\n"
     ]
    }
   ],
   "source": [
    "x_train, x_tmp, y_train, y_tmp = train_test_split(x, y, test_size=0.4, random_state=666)\n",
    "x_valid, x_test, y_valid, y_test = train_test_split(x_tmp, y_tmp, test_size=0.5, random_state=666)\n",
    "print('train-valid-test: {0}-{1}-{2}'.format(x_train.shape[0], x_valid.shape[0], x_test.shape[0]))"
   ]
  },
  {
   "cell_type": "markdown",
   "id": "4159241a",
   "metadata": {},
   "source": [
    "## Models\n",
    "We will start with scoring a dummy model to set a benchmark."
   ]
  },
  {
   "cell_type": "code",
   "execution_count": 30,
   "id": "4ca105f4",
   "metadata": {},
   "outputs": [],
   "source": [
    "def print_multiscore(features, target, model):\n",
    "    print('ROC-AUC: {} Accuracy: {}'.format(roc_auc_score(target, model.predict_proba(features)[:, 1]), \n",
    "                                            accuracy_score(target, model.predict(features))))\n",
    "    return"
   ]
  },
  {
   "cell_type": "code",
   "execution_count": 31,
   "id": "11ab9191",
   "metadata": {},
   "outputs": [
    {
     "name": "stdout",
     "output_type": "stream",
     "text": [
      "ROC-AUC: 0.5 Accuracy: 0.7374024130589071\n"
     ]
    }
   ],
   "source": [
    "model_dummy = DummyClassifier()\n",
    "model_dummy.fit(x_train, y_train)\n",
    "\n",
    "print_multiscore(x_valid, y_valid, model_dummy)"
   ]
  },
  {
   "cell_type": "markdown",
   "id": "f1d12a72",
   "metadata": {},
   "source": [
    "Obviously it got a score of 0.5.\n",
    "\n",
    "Next, logistic regression."
   ]
  },
  {
   "cell_type": "code",
   "execution_count": 32,
   "id": "663d1585",
   "metadata": {},
   "outputs": [
    {
     "name": "stdout",
     "output_type": "stream",
     "text": [
      "ROC-AUC: 0.8562300028613793 Accuracy: 0.8069552874378992\n"
     ]
    }
   ],
   "source": [
    "model_lr = LogisticRegression(max_iter=1000)\n",
    "model_lr.fit(x_train, y_train)\n",
    "\n",
    "print_multiscore(x_valid, y_valid, model_lr)"
   ]
  },
  {
   "cell_type": "markdown",
   "id": "fdd9f5fc",
   "metadata": {},
   "source": [
    "Already we pass the 0.85 score requirement on the validation set. But just to be sure at least one model will pass on the test set, we'll train a few more.\n",
    "\n",
    "Dafault decision tree."
   ]
  },
  {
   "cell_type": "code",
   "execution_count": 33,
   "id": "400e50b7",
   "metadata": {},
   "outputs": [
    {
     "name": "stdout",
     "output_type": "stream",
     "text": [
      "ROC-AUC: 0.6982545586972921 Accuracy: 0.7721788502484032\n"
     ]
    }
   ],
   "source": [
    "model_tree = DecisionTreeClassifier(random_state=123)\n",
    "model_tree.fit(x_train, y_train)\n",
    "\n",
    "print_multiscore(x_valid, y_valid, model_tree)"
   ]
  },
  {
   "cell_type": "markdown",
   "id": "206048eb",
   "metadata": {},
   "source": [
    "It's worse than the previous model. We'll improve it by tweaking hyperparameters."
   ]
  },
  {
   "cell_type": "code",
   "execution_count": 34,
   "id": "f6e98bd2",
   "metadata": {},
   "outputs": [
    {
     "name": "stdout",
     "output_type": "stream",
     "text": [
      "{'depth': 5, 'mss': 2, 'score': 0.8378742553910985}\n",
      "{'depth': 6, 'mss': 2, 'score': 0.8429258902791146}\n",
      "{'depth': 6, 'mss': 5, 'score': 0.8435853081185131}\n"
     ]
    }
   ],
   "source": [
    "best_tree = {'depth': 0, 'mss': 0, 'score': 0}\n",
    "\n",
    "for depth in range(5, 10, 1):\n",
    "    for mss in range(2, 10, 1):\n",
    "        model_tree = DecisionTreeClassifier(random_state=123, max_depth=depth, min_samples_split=mss)\n",
    "        model_tree.fit(x_train, y_train)\n",
    "        score = roc_auc_score(y_valid, model_tree.predict_proba(x_valid)[:, 1])\n",
    "        if score > best_tree['score']:\n",
    "            best_tree = {'depth': depth, 'mss': mss, 'score': score}\n",
    "            print(best_tree)"
   ]
  },
  {
   "cell_type": "code",
   "execution_count": 35,
   "id": "021212e3",
   "metadata": {},
   "outputs": [
    {
     "name": "stdout",
     "output_type": "stream",
     "text": [
      "ROC-AUC: 0.8435853081185131 Accuracy: 0.8026969481902059\n"
     ]
    }
   ],
   "source": [
    "model_tree = DecisionTreeClassifier(random_state=123, max_depth=best_tree['depth'], min_samples_split=best_tree['mss'])\n",
    "model_tree.fit(x_train, y_train)\n",
    "\n",
    "print_multiscore(x_valid, y_valid, model_tree)"
   ]
  },
  {
   "cell_type": "markdown",
   "id": "c493bbcb",
   "metadata": {},
   "source": [
    "It's better, but still not good enough. Next, a random forest."
   ]
  },
  {
   "cell_type": "code",
   "execution_count": 36,
   "id": "b93bc095",
   "metadata": {},
   "outputs": [
    {
     "name": "stdout",
     "output_type": "stream",
     "text": [
      "{'n': 350, 'depth': 10, 'mss': 15, 'score': 0.8663124626069767}\n",
      "{'n': 350, 'depth': 10, 'mss': 20, 'score': 0.866876934682517}\n",
      "{'n': 350, 'depth': 10, 'mss': 25, 'score': 0.8678966261738158}\n"
     ]
    }
   ],
   "source": [
    "best_forest = {'n': 350, 'depth': 10, 'mss': 25, 'score': 0}\n",
    "\n",
    "# Optimization loop is commented out to save time on reruns\n",
    "\n",
    "# for n in range(350, 450+1, 50):\n",
    "#     for depth in range(10, 21, 2):\n",
    "#         for mss in range(15, 26, 5):\n",
    "#             model_forest = RandomForestClassifier(random_state=123, n_estimators=n, max_depth=depth, min_samples_split=mss)\n",
    "#             model_forest.fit(x_train, y_train)\n",
    "#             score = roc_auc_score(y_valid, model_forest.predict_proba(x_valid)[:, 1])\n",
    "#             if score > best_forest['score']:\n",
    "#                 best_forest = {'n': n, 'depth': depth, 'mss': mss, 'score': score}\n",
    "#                 print(best_forest)"
   ]
  },
  {
   "cell_type": "code",
   "execution_count": 37,
   "id": "ae602575",
   "metadata": {},
   "outputs": [
    {
     "name": "stdout",
     "output_type": "stream",
     "text": [
      "ROC-AUC: 0.8678966261738158 Accuracy: 0.8211497515968772\n"
     ]
    }
   ],
   "source": [
    "model_forest = RandomForestClassifier(\n",
    "    random_state=123, \n",
    "    n_estimators=best_forest['n'], \n",
    "    max_depth=best_forest['depth'], \n",
    "    min_samples_split=best_forest['mss']\n",
    ")\n",
    "model_forest.fit(x_train, y_train)\n",
    "\n",
    "print_multiscore(x_valid, y_valid, model_forest)"
   ]
  },
  {
   "cell_type": "markdown",
   "id": "c1dce0cb",
   "metadata": {},
   "source": [
    "This is an improvment, but we still have another tool in the box - gradient boosting. We'll train one model of each LightGBM, XGBoost and CatBoost."
   ]
  },
  {
   "cell_type": "code",
   "execution_count": 45,
   "id": "425ec927",
   "metadata": {},
   "outputs": [
    {
     "name": "stdout",
     "output_type": "stream",
     "text": [
      "Training until validation scores don't improve for 10 rounds\n",
      "Early stopping, best iteration is:\n",
      "[17]\tvalid_0's auc: 0.893512\tvalid_0's binary_logloss: 0.343529\n",
      "ROC-AUC: 0.8935124730119918 Accuracy: 0.8459900638750887\n",
      "Wall time: 65.6 ms\n"
     ]
    }
   ],
   "source": [
    "%%time\n",
    "model_lgb = LGBMClassifier(random_state=123, learning_rate=0.3, n_estimators=50, max_depth=30)\n",
    "model_lgb.fit(x_train, y_train, eval_metric='auc', eval_set=[(x_valid, y_valid)], callbacks=[early_stopping(stopping_rounds=10)])\n",
    "print_multiscore(x_valid, y_valid, model_lgb)"
   ]
  },
  {
   "cell_type": "code",
   "execution_count": 44,
   "id": "4a8c78ff",
   "metadata": {},
   "outputs": [
    {
     "name": "stdout",
     "output_type": "stream",
     "text": [
      "[0]\tvalidation_0-auc:0.84241\n",
      "[1]\tvalidation_0-auc:0.86540\n",
      "[2]\tvalidation_0-auc:0.87115\n",
      "[3]\tvalidation_0-auc:0.87566\n",
      "[4]\tvalidation_0-auc:0.86977\n",
      "[5]\tvalidation_0-auc:0.86980\n",
      "[6]\tvalidation_0-auc:0.87481\n",
      "[7]\tvalidation_0-auc:0.87696\n",
      "[8]\tvalidation_0-auc:0.87821\n",
      "[9]\tvalidation_0-auc:0.88678\n",
      "[10]\tvalidation_0-auc:0.88683\n",
      "[11]\tvalidation_0-auc:0.88979\n",
      "[12]\tvalidation_0-auc:0.88944\n",
      "[13]\tvalidation_0-auc:0.88843\n",
      "[14]\tvalidation_0-auc:0.89395\n",
      "[15]\tvalidation_0-auc:0.89497\n",
      "[16]\tvalidation_0-auc:0.89638\n",
      "[17]\tvalidation_0-auc:0.89577\n",
      "[18]\tvalidation_0-auc:0.90008\n",
      "[19]\tvalidation_0-auc:0.90029\n",
      "[20]\tvalidation_0-auc:0.89905\n",
      "[21]\tvalidation_0-auc:0.89871\n",
      "[22]\tvalidation_0-auc:0.89854\n",
      "[23]\tvalidation_0-auc:0.89674\n",
      "[24]\tvalidation_0-auc:0.89677\n",
      "ROC-AUC: 0.9002939416798896 Accuracy: 0.8537970191625266\n",
      "Wall time: 197 ms\n"
     ]
    }
   ],
   "source": [
    "%%time\n",
    "model_xgb = XGBClassifier(random_state=123, eval_metric='auc', n_estimators=50, learning_rate=0.5, early_stopping_rounds=5)\n",
    "model_xgb.fit(x_train, y_train, eval_set=[(x_valid, y_valid)])\n",
    "print_multiscore(x_valid, y_valid, model_xgb)"
   ]
  },
  {
   "cell_type": "code",
   "execution_count": 43,
   "id": "280a9134",
   "metadata": {
    "scrolled": true
   },
   "outputs": [
    {
     "name": "stdout",
     "output_type": "stream",
     "text": [
      "0:\ttest: 0.8218245\tbest: 0.8218245 (0)\ttotal: 2.98ms\tremaining: 892ms\n",
      "10:\ttest: 0.8659262\tbest: 0.8670603 (8)\ttotal: 45.1ms\tremaining: 1.18s\n",
      "20:\ttest: 0.8671826\tbest: 0.8679903 (12)\ttotal: 75ms\tremaining: 997ms\n",
      "30:\ttest: 0.8770843\tbest: 0.8770843 (30)\ttotal: 102ms\tremaining: 888ms\n",
      "40:\ttest: 0.8839464\tbest: 0.8839464 (40)\ttotal: 129ms\tremaining: 814ms\n",
      "50:\ttest: 0.8955688\tbest: 0.8961905 (48)\ttotal: 155ms\tremaining: 756ms\n",
      "60:\ttest: 0.8980348\tbest: 0.8980348 (60)\ttotal: 182ms\tremaining: 712ms\n",
      "70:\ttest: 0.9003004\tbest: 0.9005242 (68)\ttotal: 211ms\tremaining: 681ms\n",
      "80:\ttest: 0.9044703\tbest: 0.9044703 (80)\ttotal: 239ms\tremaining: 647ms\n",
      "90:\ttest: 0.9038590\tbest: 0.9057163 (87)\ttotal: 266ms\tremaining: 612ms\n",
      "Stopped by overfitting detector  (10 iterations wait)\n",
      "\n",
      "bestTest = 0.9057162552\n",
      "bestIteration = 87\n",
      "\n",
      "Shrink model to first 88 iterations.\n",
      "ROC-AUC: 0.9057162552350233 Accuracy: 0.8516678495386799\n",
      "Wall time: 328 ms\n"
     ]
    }
   ],
   "source": [
    "%%time\n",
    "model_cat = CatBoostClassifier(random_state=123, loss_function='Logloss', eval_metric='AUC', n_estimators=300, learning_rate=0.3)\n",
    "model_cat.fit(\n",
    "    x_train, y_train, \n",
    "    eval_set=[(x_valid, y_valid)], \n",
    "    use_best_model=True, \n",
    "    early_stopping_rounds=10,\n",
    "    verbose=10,\n",
    ")\n",
    "print_multiscore(x_valid, y_valid, model_cat)"
   ]
  },
  {
   "cell_type": "markdown",
   "id": "04812625",
   "metadata": {},
   "source": [
    "## Test\n",
    "The best performing model during training and validation was the CatBoost model, with validation ROC-AUC=0.9057, so it is the chosen model for the final test."
   ]
  },
  {
   "cell_type": "code",
   "execution_count": 41,
   "id": "bd5a5e8e",
   "metadata": {},
   "outputs": [
    {
     "name": "stdout",
     "output_type": "stream",
     "text": [
      "ROC-AUC: 0.9063106796116503 Accuracy: 0.843860894251242\n"
     ]
    }
   ],
   "source": [
    "print_multiscore(x_test, y_test, model_cat)"
   ]
  },
  {
   "cell_type": "markdown",
   "id": "5323fdd3",
   "metadata": {},
   "source": [
    "It actually did slightly better on the test set than on the validation set.\n",
    "\n",
    "Let us marvel at our chosen model's ROC curve in all of its glory."
   ]
  },
  {
   "cell_type": "code",
   "execution_count": 42,
   "id": "77d8daf5",
   "metadata": {},
   "outputs": [
    {
     "data": {
      "image/png": "[encoded data removed]",
      "text/plain": [
       "<Figure size 576x576 with 1 Axes>"
      ]
     },
     "metadata": {
      "needs_background": "light"
     },
     "output_type": "display_data"
    }
   ],
   "source": [
    "plt.figure(figsize=(8, 8))\n",
    "plt.title('CatBoost Model ROC')\n",
    "fpr, tpr, threshold = roc_curve(y_test, model_cat.predict_proba(x_test)[:, 1])\n",
    "plt.plot(fpr, tpr, lw=2)\n",
    "plt.plot([0, 1], [0, 1], ls=':', color='gray')\n",
    "plt.xlim(0, 1)\n",
    "plt.ylim(0, 1)\n",
    "plt.xlabel('False Positive Rate')\n",
    "plt.ylabel('True Positive Rate')\n",
    "plt.grid()\n",
    "plt.show()"
   ]
  },
  {
   "cell_type": "code",
   "execution_count": null,
   "id": "ad9f24d4",
   "metadata": {},
   "outputs": [],
   "source": []
  }
 ],
 "metadata": {
  "ExecuteTimeLog": [
   {
    "duration": 1722,
    "start_time": "2022-07-31T14:19:24.849Z"
   },
   {
    "duration": 145,
    "start_time": "2022-07-31T14:19:26.574Z"
   },
   {
    "duration": 0,
    "start_time": "2022-07-31T14:19:26.721Z"
   },
   {
    "duration": 0,
    "start_time": "2022-07-31T14:19:26.723Z"
   },
   {
    "duration": 0,
    "start_time": "2022-07-31T14:19:26.724Z"
   },
   {
    "duration": 0,
    "start_time": "2022-07-31T14:19:26.725Z"
   },
   {
    "duration": 0,
    "start_time": "2022-07-31T14:19:26.726Z"
   },
   {
    "duration": 0,
    "start_time": "2022-07-31T14:19:26.727Z"
   },
   {
    "duration": 0,
    "start_time": "2022-07-31T14:19:26.728Z"
   },
   {
    "duration": 0,
    "start_time": "2022-07-31T14:19:26.729Z"
   },
   {
    "duration": 0,
    "start_time": "2022-07-31T14:19:26.730Z"
   },
   {
    "duration": 0,
    "start_time": "2022-07-31T14:19:26.732Z"
   },
   {
    "duration": 0,
    "start_time": "2022-07-31T14:19:26.733Z"
   },
   {
    "duration": 0,
    "start_time": "2022-07-31T14:19:26.734Z"
   },
   {
    "duration": 0,
    "start_time": "2022-07-31T14:19:26.735Z"
   },
   {
    "duration": 0,
    "start_time": "2022-07-31T14:19:26.736Z"
   },
   {
    "duration": 0,
    "start_time": "2022-07-31T14:19:26.737Z"
   },
   {
    "duration": 0,
    "start_time": "2022-07-31T14:19:26.738Z"
   },
   {
    "duration": 0,
    "start_time": "2022-07-31T14:19:26.739Z"
   },
   {
    "duration": 0,
    "start_time": "2022-07-31T14:19:26.771Z"
   },
   {
    "duration": 0,
    "start_time": "2022-07-31T14:19:26.773Z"
   },
   {
    "duration": 0,
    "start_time": "2022-07-31T14:19:26.774Z"
   },
   {
    "duration": 0,
    "start_time": "2022-07-31T14:19:26.775Z"
   },
   {
    "duration": 0,
    "start_time": "2022-07-31T14:19:26.777Z"
   },
   {
    "duration": 0,
    "start_time": "2022-07-31T14:19:26.778Z"
   },
   {
    "duration": 0,
    "start_time": "2022-07-31T14:19:26.779Z"
   },
   {
    "duration": 0,
    "start_time": "2022-07-31T14:19:26.780Z"
   },
   {
    "duration": 0,
    "start_time": "2022-07-31T14:19:26.782Z"
   },
   {
    "duration": 0,
    "start_time": "2022-07-31T14:19:26.783Z"
   },
   {
    "duration": 0,
    "start_time": "2022-07-31T14:19:26.784Z"
   },
   {
    "duration": 0,
    "start_time": "2022-07-31T14:19:26.785Z"
   },
   {
    "duration": 0,
    "start_time": "2022-07-31T14:19:26.786Z"
   },
   {
    "duration": 0,
    "start_time": "2022-07-31T14:19:26.787Z"
   },
   {
    "duration": 0,
    "start_time": "2022-07-31T14:19:26.788Z"
   },
   {
    "duration": 0,
    "start_time": "2022-07-31T14:19:26.788Z"
   },
   {
    "duration": 0,
    "start_time": "2022-07-31T14:19:26.790Z"
   },
   {
    "duration": 0,
    "start_time": "2022-07-31T14:19:26.791Z"
   },
   {
    "duration": 0,
    "start_time": "2022-07-31T14:19:26.791Z"
   },
   {
    "duration": 0,
    "start_time": "2022-07-31T14:19:26.792Z"
   },
   {
    "duration": 0,
    "start_time": "2022-07-31T14:19:26.793Z"
   },
   {
    "duration": 0,
    "start_time": "2022-07-31T14:19:26.794Z"
   },
   {
    "duration": 0,
    "start_time": "2022-07-31T14:19:26.795Z"
   }
  ],
  "kernelspec": {
   "display_name": "Python 3",
   "language": "python",
   "name": "python3"
  },
  "language_info": {
   "codemirror_mode": {
    "name": "ipython",
    "version": 3
   },
   "file_extension": ".py",
   "mimetype": "text/x-python",
   "name": "python",
   "nbconvert_exporter": "python",
   "pygments_lexer": "ipython3",
   "version": "3.8.8"
  },
  "toc": {
   "base_numbering": 1,
   "nav_menu": {},
   "number_sections": true,
   "sideBar": true,
   "skip_h1_title": true,
   "title_cell": "Table of Contents",
   "title_sidebar": "Contents",
   "toc_cell": false,
   "toc_position": {},
   "toc_section_display": true,
   "toc_window_display": false
  }
 },
 "nbformat": 4,
 "nbformat_minor": 5
}
