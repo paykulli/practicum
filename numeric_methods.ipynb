{
 "cells": [
  {
   "cell_type": "markdown",
   "metadata": {},
   "source": [
    "**Review**\n",
    "\n",
    "Hi, my name is Dmitry and I will be reviewing your project.\n",
    "  \n",
    "You can find my comments in colored markdown cells:\n",
    "  \n",
    "<div class=\"alert alert-success\">\n",
    "  If everything is done successfully.\n",
    "</div>\n",
    "  \n",
    "<div class=\"alert alert-warning\">\n",
    "  If I have some (optional) suggestions, or questions to think about, or general comments.\n",
    "</div>\n",
    "  \n",
    "<div class=\"alert alert-danger\">\n",
    "  If a section requires some corrections. Work can't be accepted with red comments.\n",
    "</div>\n",
    "  \n",
    "Please don't remove my comments, as it will make further review iterations much harder for me.\n",
    "  \n",
    "Feel free to reply to my comments or ask questions using the following template:\n",
    "  \n",
    "<div class=\"alert alert-info\">\n",
    "  For your comments and questions.\n",
    "</div>\n",
    "  \n",
    "First of all, thank you for turning in the project! Excellent work! There is a nice data analysis, you cleaned up the data pretty thoroughly before jumping into modeling, and data quality is the most important thing for good models :) The project is accepted. Keep up the good work on the next sprint!"
   ]
  },
  {
   "cell_type": "markdown",
   "metadata": {},
   "source": [
    "Rusty Bargain used car sales service is developing an app to attract new customers. In that app, you can quickly find out the market value of your car. You have access to historical data: technical specifications, trim versions, and prices. You need to build the model to determine the value. \n",
    "\n",
    "Rusty Bargain is interested in:\n",
    "\n",
    "- the quality of the prediction;\n",
    "- the speed of the prediction;\n",
    "- the time required for training"
   ]
  },
  {
   "cell_type": "markdown",
   "metadata": {},
   "source": [
    "## Data preparation"
   ]
  },
  {
   "cell_type": "code",
   "execution_count": 1,
   "metadata": {},
   "outputs": [],
   "source": [
    "import pandas as pd\n",
    "import numpy as np\n",
    "import matplotlib.pyplot as plt\n",
    "from sklearn.preprocessing import Normalizer\n",
    "from sklearn.model_selection import train_test_split\n",
    "from sklearn.linear_model import LinearRegression\n",
    "from sklearn.ensemble import RandomForestRegressor\n",
    "from sklearn.metrics import mean_squared_error\n",
    "from lightgbm import LGBMRegressor, early_stopping\n",
    "from catboost import CatBoostRegressor\n",
    "from xgboost import XGBRegressor"
   ]
  },
  {
   "cell_type": "code",
   "execution_count": 2,
   "metadata": {},
   "outputs": [],
   "source": [
    "try:\n",
    "    df = pd.read_csv('car_data.csv')\n",
    "except:\n",
    "    df = pd.read_csv('/datasets/car_data.csv')"
   ]
  },
  {
   "cell_type": "markdown",
   "metadata": {},
   "source": [
    "General info on our dataset."
   ]
  },
  {
   "cell_type": "code",
   "execution_count": 3,
   "metadata": {},
   "outputs": [
    {
     "data": {
      "text/html": [
       "<div>\n",
       "<style scoped>\n",
       "    .dataframe tbody tr th:only-of-type {\n",
       "        vertical-align: middle;\n",
       "    }\n",
       "\n",
       "    .dataframe tbody tr th {\n",
       "        vertical-align: top;\n",
       "    }\n",
       "\n",
       "    .dataframe thead th {\n",
       "        text-align: right;\n",
       "    }\n",
       "</style>\n",
       "<table border=\"1\" class=\"dataframe\">\n",
       "  <thead>\n",
       "    <tr style=\"text-align: right;\">\n",
       "      <th></th>\n",
       "      <th>DateCrawled</th>\n",
       "      <th>Price</th>\n",
       "      <th>VehicleType</th>\n",
       "      <th>RegistrationYear</th>\n",
       "      <th>Gearbox</th>\n",
       "      <th>Power</th>\n",
       "      <th>Model</th>\n",
       "      <th>Mileage</th>\n",
       "      <th>RegistrationMonth</th>\n",
       "      <th>FuelType</th>\n",
       "      <th>Brand</th>\n",
       "      <th>NotRepaired</th>\n",
       "      <th>DateCreated</th>\n",
       "      <th>NumberOfPictures</th>\n",
       "      <th>PostalCode</th>\n",
       "      <th>LastSeen</th>\n",
       "    </tr>\n",
       "  </thead>\n",
       "  <tbody>\n",
       "    <tr>\n",
       "      <th>222397</th>\n",
       "      <td>09/03/2016 02:57</td>\n",
       "      <td>4750</td>\n",
       "      <td>NaN</td>\n",
       "      <td>2018</td>\n",
       "      <td>manual</td>\n",
       "      <td>0</td>\n",
       "      <td>polo</td>\n",
       "      <td>150000</td>\n",
       "      <td>12</td>\n",
       "      <td>gasoline</td>\n",
       "      <td>volkswagen</td>\n",
       "      <td>no</td>\n",
       "      <td>09/03/2016 00:00</td>\n",
       "      <td>0</td>\n",
       "      <td>24944</td>\n",
       "      <td>07/04/2016 06:45</td>\n",
       "    </tr>\n",
       "    <tr>\n",
       "      <th>38670</th>\n",
       "      <td>01/04/2016 20:06</td>\n",
       "      <td>1190</td>\n",
       "      <td>sedan</td>\n",
       "      <td>1997</td>\n",
       "      <td>manual</td>\n",
       "      <td>60</td>\n",
       "      <td>golf</td>\n",
       "      <td>125000</td>\n",
       "      <td>7</td>\n",
       "      <td>petrol</td>\n",
       "      <td>volkswagen</td>\n",
       "      <td>no</td>\n",
       "      <td>01/04/2016 00:00</td>\n",
       "      <td>0</td>\n",
       "      <td>61462</td>\n",
       "      <td>03/04/2016 10:35</td>\n",
       "    </tr>\n",
       "    <tr>\n",
       "      <th>228783</th>\n",
       "      <td>08/03/2016 14:53</td>\n",
       "      <td>1000</td>\n",
       "      <td>wagon</td>\n",
       "      <td>1998</td>\n",
       "      <td>manual</td>\n",
       "      <td>0</td>\n",
       "      <td>astra</td>\n",
       "      <td>150000</td>\n",
       "      <td>0</td>\n",
       "      <td>petrol</td>\n",
       "      <td>opel</td>\n",
       "      <td>NaN</td>\n",
       "      <td>08/03/2016 00:00</td>\n",
       "      <td>0</td>\n",
       "      <td>32547</td>\n",
       "      <td>06/04/2016 03:44</td>\n",
       "    </tr>\n",
       "    <tr>\n",
       "      <th>172440</th>\n",
       "      <td>19/03/2016 21:37</td>\n",
       "      <td>1999</td>\n",
       "      <td>NaN</td>\n",
       "      <td>1997</td>\n",
       "      <td>manual</td>\n",
       "      <td>110</td>\n",
       "      <td>golf</td>\n",
       "      <td>150000</td>\n",
       "      <td>7</td>\n",
       "      <td>NaN</td>\n",
       "      <td>volkswagen</td>\n",
       "      <td>no</td>\n",
       "      <td>19/03/2016 00:00</td>\n",
       "      <td>0</td>\n",
       "      <td>54531</td>\n",
       "      <td>01/04/2016 15:16</td>\n",
       "    </tr>\n",
       "    <tr>\n",
       "      <th>171031</th>\n",
       "      <td>02/04/2016 04:36</td>\n",
       "      <td>1200</td>\n",
       "      <td>NaN</td>\n",
       "      <td>2018</td>\n",
       "      <td>auto</td>\n",
       "      <td>170</td>\n",
       "      <td>stilo</td>\n",
       "      <td>150000</td>\n",
       "      <td>1</td>\n",
       "      <td>petrol</td>\n",
       "      <td>fiat</td>\n",
       "      <td>NaN</td>\n",
       "      <td>02/04/2016 00:00</td>\n",
       "      <td>0</td>\n",
       "      <td>77883</td>\n",
       "      <td>04/04/2016 05:52</td>\n",
       "    </tr>\n",
       "  </tbody>\n",
       "</table>\n",
       "</div>"
      ],
      "text/plain": [
       "             DateCrawled  Price VehicleType  RegistrationYear Gearbox  Power  \\\n",
       "222397  09/03/2016 02:57   4750         NaN              2018  manual      0   \n",
       "38670   01/04/2016 20:06   1190       sedan              1997  manual     60   \n",
       "228783  08/03/2016 14:53   1000       wagon              1998  manual      0   \n",
       "172440  19/03/2016 21:37   1999         NaN              1997  manual    110   \n",
       "171031  02/04/2016 04:36   1200         NaN              2018    auto    170   \n",
       "\n",
       "        Model  Mileage  RegistrationMonth  FuelType       Brand NotRepaired  \\\n",
       "222397   polo   150000                 12  gasoline  volkswagen          no   \n",
       "38670    golf   125000                  7    petrol  volkswagen          no   \n",
       "228783  astra   150000                  0    petrol        opel         NaN   \n",
       "172440   golf   150000                  7       NaN  volkswagen          no   \n",
       "171031  stilo   150000                  1    petrol        fiat         NaN   \n",
       "\n",
       "             DateCreated  NumberOfPictures  PostalCode          LastSeen  \n",
       "222397  09/03/2016 00:00                 0       24944  07/04/2016 06:45  \n",
       "38670   01/04/2016 00:00                 0       61462  03/04/2016 10:35  \n",
       "228783  08/03/2016 00:00                 0       32547  06/04/2016 03:44  \n",
       "172440  19/03/2016 00:00                 0       54531  01/04/2016 15:16  \n",
       "171031  02/04/2016 00:00                 0       77883  04/04/2016 05:52  "
      ]
     },
     "execution_count": 3,
     "metadata": {},
     "output_type": "execute_result"
    }
   ],
   "source": [
    "df.sample(5)"
   ]
  },
  {
   "cell_type": "code",
   "execution_count": 4,
   "metadata": {
    "scrolled": false
   },
   "outputs": [
    {
     "data": {
      "text/html": [
       "<div>\n",
       "<style scoped>\n",
       "    .dataframe tbody tr th:only-of-type {\n",
       "        vertical-align: middle;\n",
       "    }\n",
       "\n",
       "    .dataframe tbody tr th {\n",
       "        vertical-align: top;\n",
       "    }\n",
       "\n",
       "    .dataframe thead th {\n",
       "        text-align: right;\n",
       "    }\n",
       "</style>\n",
       "<table border=\"1\" class=\"dataframe\">\n",
       "  <thead>\n",
       "    <tr style=\"text-align: right;\">\n",
       "      <th></th>\n",
       "      <th>count</th>\n",
       "      <th>unique</th>\n",
       "      <th>top</th>\n",
       "      <th>freq</th>\n",
       "      <th>mean</th>\n",
       "      <th>std</th>\n",
       "      <th>min</th>\n",
       "      <th>25%</th>\n",
       "      <th>50%</th>\n",
       "      <th>75%</th>\n",
       "      <th>max</th>\n",
       "    </tr>\n",
       "  </thead>\n",
       "  <tbody>\n",
       "    <tr>\n",
       "      <th>DateCrawled</th>\n",
       "      <td>354369</td>\n",
       "      <td>15470</td>\n",
       "      <td>05/03/2016 14:25</td>\n",
       "      <td>66</td>\n",
       "      <td>NaN</td>\n",
       "      <td>NaN</td>\n",
       "      <td>NaN</td>\n",
       "      <td>NaN</td>\n",
       "      <td>NaN</td>\n",
       "      <td>NaN</td>\n",
       "      <td>NaN</td>\n",
       "    </tr>\n",
       "    <tr>\n",
       "      <th>Price</th>\n",
       "      <td>354369.0</td>\n",
       "      <td>NaN</td>\n",
       "      <td>NaN</td>\n",
       "      <td>NaN</td>\n",
       "      <td>4416.656776</td>\n",
       "      <td>4514.158514</td>\n",
       "      <td>0.0</td>\n",
       "      <td>1050.0</td>\n",
       "      <td>2700.0</td>\n",
       "      <td>6400.0</td>\n",
       "      <td>20000.0</td>\n",
       "    </tr>\n",
       "    <tr>\n",
       "      <th>VehicleType</th>\n",
       "      <td>316879</td>\n",
       "      <td>8</td>\n",
       "      <td>sedan</td>\n",
       "      <td>91457</td>\n",
       "      <td>NaN</td>\n",
       "      <td>NaN</td>\n",
       "      <td>NaN</td>\n",
       "      <td>NaN</td>\n",
       "      <td>NaN</td>\n",
       "      <td>NaN</td>\n",
       "      <td>NaN</td>\n",
       "    </tr>\n",
       "    <tr>\n",
       "      <th>RegistrationYear</th>\n",
       "      <td>354369.0</td>\n",
       "      <td>NaN</td>\n",
       "      <td>NaN</td>\n",
       "      <td>NaN</td>\n",
       "      <td>2004.234448</td>\n",
       "      <td>90.227958</td>\n",
       "      <td>1000.0</td>\n",
       "      <td>1999.0</td>\n",
       "      <td>2003.0</td>\n",
       "      <td>2008.0</td>\n",
       "      <td>9999.0</td>\n",
       "    </tr>\n",
       "    <tr>\n",
       "      <th>Gearbox</th>\n",
       "      <td>334536</td>\n",
       "      <td>2</td>\n",
       "      <td>manual</td>\n",
       "      <td>268251</td>\n",
       "      <td>NaN</td>\n",
       "      <td>NaN</td>\n",
       "      <td>NaN</td>\n",
       "      <td>NaN</td>\n",
       "      <td>NaN</td>\n",
       "      <td>NaN</td>\n",
       "      <td>NaN</td>\n",
       "    </tr>\n",
       "    <tr>\n",
       "      <th>Power</th>\n",
       "      <td>354369.0</td>\n",
       "      <td>NaN</td>\n",
       "      <td>NaN</td>\n",
       "      <td>NaN</td>\n",
       "      <td>110.094337</td>\n",
       "      <td>189.850405</td>\n",
       "      <td>0.0</td>\n",
       "      <td>69.0</td>\n",
       "      <td>105.0</td>\n",
       "      <td>143.0</td>\n",
       "      <td>20000.0</td>\n",
       "    </tr>\n",
       "    <tr>\n",
       "      <th>Model</th>\n",
       "      <td>334664</td>\n",
       "      <td>250</td>\n",
       "      <td>golf</td>\n",
       "      <td>29232</td>\n",
       "      <td>NaN</td>\n",
       "      <td>NaN</td>\n",
       "      <td>NaN</td>\n",
       "      <td>NaN</td>\n",
       "      <td>NaN</td>\n",
       "      <td>NaN</td>\n",
       "      <td>NaN</td>\n",
       "    </tr>\n",
       "    <tr>\n",
       "      <th>Mileage</th>\n",
       "      <td>354369.0</td>\n",
       "      <td>NaN</td>\n",
       "      <td>NaN</td>\n",
       "      <td>NaN</td>\n",
       "      <td>128211.172535</td>\n",
       "      <td>37905.34153</td>\n",
       "      <td>5000.0</td>\n",
       "      <td>125000.0</td>\n",
       "      <td>150000.0</td>\n",
       "      <td>150000.0</td>\n",
       "      <td>150000.0</td>\n",
       "    </tr>\n",
       "    <tr>\n",
       "      <th>RegistrationMonth</th>\n",
       "      <td>354369.0</td>\n",
       "      <td>NaN</td>\n",
       "      <td>NaN</td>\n",
       "      <td>NaN</td>\n",
       "      <td>5.714645</td>\n",
       "      <td>3.726421</td>\n",
       "      <td>0.0</td>\n",
       "      <td>3.0</td>\n",
       "      <td>6.0</td>\n",
       "      <td>9.0</td>\n",
       "      <td>12.0</td>\n",
       "    </tr>\n",
       "    <tr>\n",
       "      <th>FuelType</th>\n",
       "      <td>321474</td>\n",
       "      <td>7</td>\n",
       "      <td>petrol</td>\n",
       "      <td>216352</td>\n",
       "      <td>NaN</td>\n",
       "      <td>NaN</td>\n",
       "      <td>NaN</td>\n",
       "      <td>NaN</td>\n",
       "      <td>NaN</td>\n",
       "      <td>NaN</td>\n",
       "      <td>NaN</td>\n",
       "    </tr>\n",
       "    <tr>\n",
       "      <th>Brand</th>\n",
       "      <td>354369</td>\n",
       "      <td>40</td>\n",
       "      <td>volkswagen</td>\n",
       "      <td>77013</td>\n",
       "      <td>NaN</td>\n",
       "      <td>NaN</td>\n",
       "      <td>NaN</td>\n",
       "      <td>NaN</td>\n",
       "      <td>NaN</td>\n",
       "      <td>NaN</td>\n",
       "      <td>NaN</td>\n",
       "    </tr>\n",
       "    <tr>\n",
       "      <th>NotRepaired</th>\n",
       "      <td>283215</td>\n",
       "      <td>2</td>\n",
       "      <td>no</td>\n",
       "      <td>247161</td>\n",
       "      <td>NaN</td>\n",
       "      <td>NaN</td>\n",
       "      <td>NaN</td>\n",
       "      <td>NaN</td>\n",
       "      <td>NaN</td>\n",
       "      <td>NaN</td>\n",
       "      <td>NaN</td>\n",
       "    </tr>\n",
       "    <tr>\n",
       "      <th>DateCreated</th>\n",
       "      <td>354369</td>\n",
       "      <td>109</td>\n",
       "      <td>03/04/2016 00:00</td>\n",
       "      <td>13719</td>\n",
       "      <td>NaN</td>\n",
       "      <td>NaN</td>\n",
       "      <td>NaN</td>\n",
       "      <td>NaN</td>\n",
       "      <td>NaN</td>\n",
       "      <td>NaN</td>\n",
       "      <td>NaN</td>\n",
       "    </tr>\n",
       "    <tr>\n",
       "      <th>NumberOfPictures</th>\n",
       "      <td>354369.0</td>\n",
       "      <td>NaN</td>\n",
       "      <td>NaN</td>\n",
       "      <td>NaN</td>\n",
       "      <td>0.0</td>\n",
       "      <td>0.0</td>\n",
       "      <td>0.0</td>\n",
       "      <td>0.0</td>\n",
       "      <td>0.0</td>\n",
       "      <td>0.0</td>\n",
       "      <td>0.0</td>\n",
       "    </tr>\n",
       "    <tr>\n",
       "      <th>PostalCode</th>\n",
       "      <td>354369.0</td>\n",
       "      <td>NaN</td>\n",
       "      <td>NaN</td>\n",
       "      <td>NaN</td>\n",
       "      <td>50508.689087</td>\n",
       "      <td>25783.096248</td>\n",
       "      <td>1067.0</td>\n",
       "      <td>30165.0</td>\n",
       "      <td>49413.0</td>\n",
       "      <td>71083.0</td>\n",
       "      <td>99998.0</td>\n",
       "    </tr>\n",
       "    <tr>\n",
       "      <th>LastSeen</th>\n",
       "      <td>354369</td>\n",
       "      <td>18592</td>\n",
       "      <td>07/04/2016 07:16</td>\n",
       "      <td>654</td>\n",
       "      <td>NaN</td>\n",
       "      <td>NaN</td>\n",
       "      <td>NaN</td>\n",
       "      <td>NaN</td>\n",
       "      <td>NaN</td>\n",
       "      <td>NaN</td>\n",
       "      <td>NaN</td>\n",
       "    </tr>\n",
       "  </tbody>\n",
       "</table>\n",
       "</div>"
      ],
      "text/plain": [
       "                      count unique               top    freq           mean  \\\n",
       "DateCrawled          354369  15470  05/03/2016 14:25      66            NaN   \n",
       "Price              354369.0    NaN               NaN     NaN    4416.656776   \n",
       "VehicleType          316879      8             sedan   91457            NaN   \n",
       "RegistrationYear   354369.0    NaN               NaN     NaN    2004.234448   \n",
       "Gearbox              334536      2            manual  268251            NaN   \n",
       "Power              354369.0    NaN               NaN     NaN     110.094337   \n",
       "Model                334664    250              golf   29232            NaN   \n",
       "Mileage            354369.0    NaN               NaN     NaN  128211.172535   \n",
       "RegistrationMonth  354369.0    NaN               NaN     NaN       5.714645   \n",
       "FuelType             321474      7            petrol  216352            NaN   \n",
       "Brand                354369     40        volkswagen   77013            NaN   \n",
       "NotRepaired          283215      2                no  247161            NaN   \n",
       "DateCreated          354369    109  03/04/2016 00:00   13719            NaN   \n",
       "NumberOfPictures   354369.0    NaN               NaN     NaN            0.0   \n",
       "PostalCode         354369.0    NaN               NaN     NaN   50508.689087   \n",
       "LastSeen             354369  18592  07/04/2016 07:16     654            NaN   \n",
       "\n",
       "                            std     min       25%       50%       75%  \\\n",
       "DateCrawled                 NaN     NaN       NaN       NaN       NaN   \n",
       "Price               4514.158514     0.0    1050.0    2700.0    6400.0   \n",
       "VehicleType                 NaN     NaN       NaN       NaN       NaN   \n",
       "RegistrationYear      90.227958  1000.0    1999.0    2003.0    2008.0   \n",
       "Gearbox                     NaN     NaN       NaN       NaN       NaN   \n",
       "Power                189.850405     0.0      69.0     105.0     143.0   \n",
       "Model                       NaN     NaN       NaN       NaN       NaN   \n",
       "Mileage             37905.34153  5000.0  125000.0  150000.0  150000.0   \n",
       "RegistrationMonth      3.726421     0.0       3.0       6.0       9.0   \n",
       "FuelType                    NaN     NaN       NaN       NaN       NaN   \n",
       "Brand                       NaN     NaN       NaN       NaN       NaN   \n",
       "NotRepaired                 NaN     NaN       NaN       NaN       NaN   \n",
       "DateCreated                 NaN     NaN       NaN       NaN       NaN   \n",
       "NumberOfPictures            0.0     0.0       0.0       0.0       0.0   \n",
       "PostalCode         25783.096248  1067.0   30165.0   49413.0   71083.0   \n",
       "LastSeen                    NaN     NaN       NaN       NaN       NaN   \n",
       "\n",
       "                        max  \n",
       "DateCrawled             NaN  \n",
       "Price               20000.0  \n",
       "VehicleType             NaN  \n",
       "RegistrationYear     9999.0  \n",
       "Gearbox                 NaN  \n",
       "Power               20000.0  \n",
       "Model                   NaN  \n",
       "Mileage            150000.0  \n",
       "RegistrationMonth      12.0  \n",
       "FuelType                NaN  \n",
       "Brand                   NaN  \n",
       "NotRepaired             NaN  \n",
       "DateCreated             NaN  \n",
       "NumberOfPictures        0.0  \n",
       "PostalCode          99998.0  \n",
       "LastSeen                NaN  "
      ]
     },
     "execution_count": 4,
     "metadata": {},
     "output_type": "execute_result"
    }
   ],
   "source": [
    "df.describe(include='all').T"
   ]
  },
  {
   "cell_type": "code",
   "execution_count": 5,
   "metadata": {
    "scrolled": false
   },
   "outputs": [
    {
     "name": "stdout",
     "output_type": "stream",
     "text": [
      "<class 'pandas.core.frame.DataFrame'>\n",
      "RangeIndex: 354369 entries, 0 to 354368\n",
      "Data columns (total 16 columns):\n",
      " #   Column             Non-Null Count   Dtype \n",
      "---  ------             --------------   ----- \n",
      " 0   DateCrawled        354369 non-null  object\n",
      " 1   Price              354369 non-null  int64 \n",
      " 2   VehicleType        316879 non-null  object\n",
      " 3   RegistrationYear   354369 non-null  int64 \n",
      " 4   Gearbox            334536 non-null  object\n",
      " 5   Power              354369 non-null  int64 \n",
      " 6   Model              334664 non-null  object\n",
      " 7   Mileage            354369 non-null  int64 \n",
      " 8   RegistrationMonth  354369 non-null  int64 \n",
      " 9   FuelType           321474 non-null  object\n",
      " 10  Brand              354369 non-null  object\n",
      " 11  NotRepaired        283215 non-null  object\n",
      " 12  DateCreated        354369 non-null  object\n",
      " 13  NumberOfPictures   354369 non-null  int64 \n",
      " 14  PostalCode         354369 non-null  int64 \n",
      " 15  LastSeen           354369 non-null  object\n",
      "dtypes: int64(7), object(9)\n",
      "memory usage: 43.3+ MB\n"
     ]
    }
   ],
   "source": [
    "df.info()"
   ]
  },
  {
   "cell_type": "markdown",
   "metadata": {},
   "source": [
    "Rename columns for easier coding."
   ]
  },
  {
   "cell_type": "code",
   "execution_count": 6,
   "metadata": {},
   "outputs": [],
   "source": [
    "col_dict = {column: ''.join('_' + char if char.isupper() else char.strip() for char in column).strip('_').lower() \n",
    "          for column in df.columns}\n",
    "df = df.rename(col_dict, axis=1)"
   ]
  },
  {
   "cell_type": "markdown",
   "metadata": {},
   "source": [
    "Check for duplicates."
   ]
  },
  {
   "cell_type": "code",
   "execution_count": 7,
   "metadata": {},
   "outputs": [
    {
     "data": {
      "text/plain": [
       "262"
      ]
     },
     "execution_count": 7,
     "metadata": {},
     "output_type": "execute_result"
    }
   ],
   "source": [
    "df.duplicated().sum()"
   ]
  },
  {
   "cell_type": "markdown",
   "metadata": {},
   "source": [
    "Drop duplicates."
   ]
  },
  {
   "cell_type": "code",
   "execution_count": 8,
   "metadata": {},
   "outputs": [],
   "source": [
    "df = df.drop_duplicates()"
   ]
  },
  {
   "cell_type": "markdown",
   "metadata": {},
   "source": [
    "<div class=\"alert alert-success\">\n",
    "<b>Reviewer's comment</b>\n",
    "\n",
    "Great, duplicates were dropped!\n",
    "\n",
    "</div>"
   ]
  },
  {
   "cell_type": "markdown",
   "metadata": {},
   "source": [
    "Check for missing values."
   ]
  },
  {
   "cell_type": "code",
   "execution_count": 9,
   "metadata": {},
   "outputs": [
    {
     "data": {
      "text/plain": [
       "0.6934824784599005"
      ]
     },
     "execution_count": 9,
     "metadata": {},
     "output_type": "execute_result"
    }
   ],
   "source": [
    "len(df.dropna())/len(df)"
   ]
  },
  {
   "cell_type": "markdown",
   "metadata": {},
   "source": [
    "There are a lot of missing values. We should change `not_repaired` from \"yes\"\\\"no\" to 0/1, and fill the missing values with 0 because it is  by far the most common case. "
   ]
  },
  {
   "cell_type": "markdown",
   "metadata": {},
   "source": [
    "<div class=\"alert alert-success\">\n",
    "<b>Reviewer's comment</b>\n",
    "\n",
    "Ok, that makes sense\n",
    "\n",
    "</div>"
   ]
  },
  {
   "cell_type": "code",
   "execution_count": 10,
   "metadata": {},
   "outputs": [],
   "source": [
    "df['not_repaired'] = df['not_repaired'].replace({'no': 0, 'yes':1}).fillna(0).astype('int')"
   ]
  },
  {
   "cell_type": "markdown",
   "metadata": {},
   "source": [
    "Also, we can drop `number_of_pictures` completely because it is just a list of zeros."
   ]
  },
  {
   "cell_type": "markdown",
   "metadata": {},
   "source": [
    "<div class=\"alert alert-success\">\n",
    "<b>Reviewer's comment</b>\n",
    "\n",
    "Right!\n",
    "\n",
    "</div>"
   ]
  },
  {
   "cell_type": "code",
   "execution_count": 11,
   "metadata": {},
   "outputs": [],
   "source": [
    "try:\n",
    "    df = df.drop('number_of_pictures', axis=1)\n",
    "except:\n",
    "    pass"
   ]
  },
  {
   "cell_type": "markdown",
   "metadata": {},
   "source": [
    "Using car model to infer horsepower, vehicle type and gearbox."
   ]
  },
  {
   "cell_type": "markdown",
   "metadata": {},
   "source": [
    "<div class=\"alert alert-success\">\n",
    "<b>Reviewer's comment</b>\n",
    "\n",
    "Very nice!\n",
    "\n",
    "</div>"
   ]
  },
  {
   "cell_type": "code",
   "execution_count": 12,
   "metadata": {},
   "outputs": [],
   "source": [
    "columns_to_fill = ['vehicle_type', 'fuel_type', 'gearbox']\n",
    "fill_key_grouped = df.groupby(['brand', 'model'], as_index=False)[columns_to_fill].agg(pd.Series.mode)\n",
    "fill_key = df.merge(fill_key_grouped, how='left', on=['brand', 'model'], suffixes=('_old', ''))[columns_to_fill]\n"
   ]
  },
  {
   "cell_type": "code",
   "execution_count": 13,
   "metadata": {},
   "outputs": [],
   "source": [
    "df = df.fillna({'vehicle_type': fill_key['vehicle_type'], 'fuel_type': fill_key['fuel_type'], 'gearbox': fill_key['gearbox']})"
   ]
  },
  {
   "cell_type": "markdown",
   "metadata": {},
   "source": [
    "Re-check for missing values."
   ]
  },
  {
   "cell_type": "code",
   "execution_count": 14,
   "metadata": {
    "scrolled": true
   },
   "outputs": [
    {
     "data": {
      "text/plain": [
       "0.9368157082463775"
      ]
     },
     "execution_count": 14,
     "metadata": {},
     "output_type": "execute_result"
    }
   ],
   "source": [
    "len(df.dropna())/len(df)"
   ]
  },
  {
   "cell_type": "markdown",
   "metadata": {},
   "source": [
    "We improved from 69.3% valid items to 93.7%. Now it's ok to drop the invalid items."
   ]
  },
  {
   "cell_type": "markdown",
   "metadata": {},
   "source": [
    "<div class=\"alert alert-success\">\n",
    "<b>Reviewer's comment</b>\n",
    "\n",
    "Alright!\n",
    "\n",
    "</div>"
   ]
  },
  {
   "cell_type": "code",
   "execution_count": 15,
   "metadata": {},
   "outputs": [],
   "source": [
    "df = df.dropna()"
   ]
  },
  {
   "cell_type": "markdown",
   "metadata": {},
   "source": [
    "Check for outliers in numeric data."
   ]
  },
  {
   "cell_type": "code",
   "execution_count": 16,
   "metadata": {
    "scrolled": false
   },
   "outputs": [
    {
     "data": {
      "image/png": "[encoded data removed]",
      "text/plain": [
       "<Figure size 432x288 with 1 Axes>"
      ]
     },
     "metadata": {
      "needs_background": "light"
     },
     "output_type": "display_data"
    },
    {
     "data": {
      "image/png": "[encoded data removed]",
      "text/plain": [
       "<Figure size 432x288 with 1 Axes>"
      ]
     },
     "metadata": {
      "needs_background": "light"
     },
     "output_type": "display_data"
    },
    {
     "data": {
      "image/png": "[encoded data removed]",
      "text/plain": [
       "<Figure size 432x288 with 1 Axes>"
      ]
     },
     "metadata": {
      "needs_background": "light"
     },
     "output_type": "display_data"
    },
    {
     "data": {
      "image/png": "[encoded data removed]",
      "text/plain": [
       "<Figure size 432x288 with 1 Axes>"
      ]
     },
     "metadata": {
      "needs_background": "light"
     },
     "output_type": "display_data"
    },
    {
     "data": {
      "image/png": "[encoded data removed]",
      "text/plain": [
       "<Figure size 432x288 with 1 Axes>"
      ]
     },
     "metadata": {
      "needs_background": "light"
     },
     "output_type": "display_data"
    },
    {
     "data": {
      "image/png": "[encoded data removed]",
      "text/plain": [
       "<Figure size 432x288 with 1 Axes>"
      ]
     },
     "metadata": {
      "needs_background": "light"
     },
     "output_type": "display_data"
    },
    {
     "data": {
      "image/png": "[encoded data removed]",
      "text/plain": [
       "<Figure size 432x288 with 1 Axes>"
      ]
     },
     "metadata": {
      "needs_background": "light"
     },
     "output_type": "display_data"
    }
   ],
   "source": [
    "for col in df.columns:\n",
    "    if pd.api.types.is_numeric_dtype(df[col]):\n",
    "        df[col].plot(kind='hist', title=col, bins=20)\n",
    "        plt.show()"
   ]
  },
  {
   "cell_type": "markdown",
   "metadata": {},
   "source": [
    "There are outliers in two features, `power` and `registration_year`. First we look at `power`."
   ]
  },
  {
   "cell_type": "code",
   "execution_count": 17,
   "metadata": {},
   "outputs": [
    {
     "data": {
      "image/png": "[encoded data removed]",
      "text/plain": [
       "<Figure size 432x288 with 1 Axes>"
      ]
     },
     "metadata": {
      "needs_background": "light"
     },
     "output_type": "display_data"
    }
   ],
   "source": [
    "df['power'].plot(kind='hist', bins=1000, xlim=(0, 1000))\n",
    "plt.show()"
   ]
  },
  {
   "cell_type": "markdown",
   "metadata": {},
   "source": [
    "Highest realistic value."
   ]
  },
  {
   "cell_type": "code",
   "execution_count": 18,
   "metadata": {},
   "outputs": [
    {
     "data": {
      "text/plain": [
       "600.0"
      ]
     },
     "execution_count": 18,
     "metadata": {},
     "output_type": "execute_result"
    }
   ],
   "source": [
    "hp_upper_limit = df['power'].quantile(0.999)\n",
    "hp_upper_limit"
   ]
  },
  {
   "cell_type": "markdown",
   "metadata": {},
   "source": [
    "Value to replace zeros, assuming the most common value except 0."
   ]
  },
  {
   "cell_type": "code",
   "execution_count": 19,
   "metadata": {},
   "outputs": [
    {
     "data": {
      "text/plain": [
       "75"
      ]
     },
     "execution_count": 19,
     "metadata": {},
     "output_type": "execute_result"
    }
   ],
   "source": [
    "try:\n",
    "    hp_mode = df['power'].value_counts().drop(0).index[0]\n",
    "except:\n",
    "    hp_mode = df['power'].value_counts().index[0]\n",
    "hp_mode"
   ]
  },
  {
   "cell_type": "markdown",
   "metadata": {},
   "source": [
    "Outlier rectification."
   ]
  },
  {
   "cell_type": "code",
   "execution_count": 20,
   "metadata": {},
   "outputs": [],
   "source": [
    "df.loc[df['power'] == 0, 'power'] = hp_mode.astype('int')\n",
    "df.loc[df['power'] > hp_upper_limit, 'power'] = hp_upper_limit.astype('int')"
   ]
  },
  {
   "cell_type": "markdown",
   "metadata": {},
   "source": [
    "`registration_year` requires similar treatment."
   ]
  },
  {
   "cell_type": "code",
   "execution_count": 21,
   "metadata": {},
   "outputs": [
    {
     "data": {
      "image/png": "[encoded data removed]",
      "text/plain": [
       "<Figure size 432x288 with 1 Axes>"
      ]
     },
     "metadata": {
      "needs_background": "light"
     },
     "output_type": "display_data"
    }
   ],
   "source": [
    "df['registration_year'].plot(kind='hist', bins=2000, xlim=(1900, 2025))\n",
    "plt.show()"
   ]
  },
  {
   "cell_type": "markdown",
   "metadata": {},
   "source": [
    "Range of realistic values."
   ]
  },
  {
   "cell_type": "code",
   "execution_count": 22,
   "metadata": {},
   "outputs": [
    {
     "name": "stdout",
     "output_type": "stream",
     "text": [
      "1910-2018\n"
     ]
    }
   ],
   "source": [
    "year_upper_limit = df['registration_year'].quantile(0.999)\n",
    "year_lower_limit = df['registration_year'].quantile(0.0001)\n",
    "print(f'{year_lower_limit:n}-{year_upper_limit:n}')"
   ]
  },
  {
   "cell_type": "markdown",
   "metadata": {},
   "source": [
    "Outlier rectification."
   ]
  },
  {
   "cell_type": "code",
   "execution_count": 23,
   "metadata": {},
   "outputs": [],
   "source": [
    "df.loc[df['registration_year'] < year_lower_limit, 'registration_year'] = year_lower_limit.astype('int')\n",
    "df.loc[df['registration_year'] > year_upper_limit, 'registration_year'] = year_upper_limit.astype('int')"
   ]
  },
  {
   "cell_type": "markdown",
   "metadata": {},
   "source": [
    "<div class=\"alert alert-success\">\n",
    "<b>Reviewer's comment</b>\n",
    "\n",
    "Great, you studied the data ranges and fixed weird values\n",
    "\n",
    "</div>"
   ]
  },
  {
   "cell_type": "markdown",
   "metadata": {},
   "source": [
    "Make a numeric feature out of `gearbox`."
   ]
  },
  {
   "cell_type": "code",
   "execution_count": 24,
   "metadata": {},
   "outputs": [],
   "source": [
    "df['is_manual'] = (df['gearbox'] == 'manual').astype('int')"
   ]
  },
  {
   "cell_type": "code",
   "execution_count": 25,
   "metadata": {},
   "outputs": [
    {
     "name": "stderr",
     "output_type": "stream",
     "text": [
      "/opt/conda/lib/python3.9/site-packages/pandas/core/frame.py:3191: SettingWithCopyWarning: \n",
      "A value is trying to be set on a copy of a slice from a DataFrame.\n",
      "Try using .loc[row_indexer,col_indexer] = value instead\n",
      "\n",
      "See the caveats in the documentation: https://pandas.pydata.org/pandas-docs/stable/user_guide/indexing.html#returning-a-view-versus-a-copy\n",
      "  self[k1] = value[k2]\n"
     ]
    }
   ],
   "source": [
    "feature_col = ['vehicle_type', 'registration_year', 'power', 'model', 'mileage', \n",
    "               'registration_month', 'fuel_type', 'not_repaired', 'is_manual']\n",
    "cat_col = [col for col in feature_col if pd.api.types.is_object_dtype(df[col])]\n",
    "target_col = 'price'\n",
    "\n",
    "x = df[feature_col]\n",
    "y = df[target_col].values\n",
    "\n",
    "x[cat_col] = x[cat_col].astype(str)\n",
    "x = pd.get_dummies(x, columns=cat_col, drop_first=True)\n",
    "\n",
    "transformer = Normalizer()\n",
    "x = transformer.fit_transform(x)"
   ]
  },
  {
   "cell_type": "code",
   "execution_count": 26,
   "metadata": {},
   "outputs": [],
   "source": [
    "x_train, x_temp, y_train, y_temp = train_test_split(x, y, test_size=0.4, shuffle=True)\n",
    "x_val, x_test, y_val, y_test = train_test_split(x_temp, y_temp, test_size=0.5)"
   ]
  },
  {
   "cell_type": "markdown",
   "metadata": {},
   "source": [
    "<div class=\"alert alert-success\">\n",
    "<b>Reviewer's comment</b>\n",
    "\n",
    "The data was split into train, validation and test sets. Categorical features were encoded\n",
    "\n",
    "</div>"
   ]
  },
  {
   "cell_type": "markdown",
   "metadata": {},
   "source": [
    "## Model training"
   ]
  },
  {
   "cell_type": "markdown",
   "metadata": {},
   "source": [
    "Find the RMSE of a linear regression model to be used as a benchmark."
   ]
  },
  {
   "cell_type": "code",
   "execution_count": 27,
   "metadata": {},
   "outputs": [
    {
     "data": {
      "text/plain": [
       "LinearRegression()"
      ]
     },
     "execution_count": 27,
     "metadata": {},
     "output_type": "execute_result"
    }
   ],
   "source": [
    "lr_model = LinearRegression()\n",
    "lr_model.fit(x_train, y_train)"
   ]
  },
  {
   "cell_type": "code",
   "execution_count": 28,
   "metadata": {
    "scrolled": true
   },
   "outputs": [
    {
     "data": {
      "text/plain": [
       "4096.114042419645"
      ]
     },
     "execution_count": 28,
     "metadata": {},
     "output_type": "execute_result"
    }
   ],
   "source": [
    "mean_squared_error(y_test, lr_model.predict(x_test), squared=False)"
   ]
  },
  {
   "cell_type": "markdown",
   "metadata": {},
   "source": [
    "Hyperparameter tuning for a random forest without boosting."
   ]
  },
  {
   "cell_type": "code",
   "execution_count": 29,
   "metadata": {
    "scrolled": true
   },
   "outputs": [
    {
     "name": "stdout",
     "output_type": "stream",
     "text": [
      "{'trees': 100, 'depth': 20, 'min_samp': 3, 'score': 1906.4828233631686}\n",
      "{'trees': 100, 'depth': 40, 'min_samp': 3, 'score': 1849.777636272516}\n",
      "{'trees': 100, 'depth': 60, 'min_samp': 3, 'score': 1849.7664611356413}\n",
      "{'trees': 200, 'depth': 20, 'min_samp': 3, 'score': 1903.0379143532916}\n",
      "{'trees': 200, 'depth': 40, 'min_samp': 3, 'score': 1846.1524862265098}\n",
      "{'trees': 200, 'depth': 60, 'min_samp': 3, 'score': 1846.255915464598}\n"
     ]
    },
    {
     "ename": "KeyboardInterrupt",
     "evalue": "",
     "output_type": "error",
     "traceback": [
      "\u001b[0;31m---------------------------------------------------------------------------\u001b[0m",
      "\u001b[0;31mKeyboardInterrupt\u001b[0m                         Traceback (most recent call last)",
      "\u001b[0;32m<timed exec>\u001b[0m in \u001b[0;36m<module>\u001b[0;34m\u001b[0m\n",
      "\u001b[0;32m/opt/conda/lib/python3.9/site-packages/sklearn/ensemble/_forest.py\u001b[0m in \u001b[0;36mfit\u001b[0;34m(self, X, y, sample_weight)\u001b[0m\n\u001b[1;32m    385\u001b[0m             \u001b[0;31m# parallel_backend contexts set at a higher level,\u001b[0m\u001b[0;34m\u001b[0m\u001b[0;34m\u001b[0m\u001b[0m\n\u001b[1;32m    386\u001b[0m             \u001b[0;31m# since correctness does not rely on using threads.\u001b[0m\u001b[0;34m\u001b[0m\u001b[0;34m\u001b[0m\u001b[0m\n\u001b[0;32m--> 387\u001b[0;31m             trees = Parallel(n_jobs=self.n_jobs, verbose=self.verbose,\n\u001b[0m\u001b[1;32m    388\u001b[0m                              \u001b[0;34m**\u001b[0m\u001b[0m_joblib_parallel_args\u001b[0m\u001b[0;34m(\u001b[0m\u001b[0mprefer\u001b[0m\u001b[0;34m=\u001b[0m\u001b[0;34m'threads'\u001b[0m\u001b[0;34m)\u001b[0m\u001b[0;34m)\u001b[0m\u001b[0;34m(\u001b[0m\u001b[0;34m\u001b[0m\u001b[0;34m\u001b[0m\u001b[0m\n\u001b[1;32m    389\u001b[0m                 delayed(_parallel_build_trees)(\n",
      "\u001b[0;32m/opt/conda/lib/python3.9/site-packages/joblib/parallel.py\u001b[0m in \u001b[0;36m__call__\u001b[0;34m(self, iterable)\u001b[0m\n\u001b[1;32m   1044\u001b[0m                 \u001b[0mself\u001b[0m\u001b[0;34m.\u001b[0m\u001b[0m_iterating\u001b[0m \u001b[0;34m=\u001b[0m \u001b[0mself\u001b[0m\u001b[0;34m.\u001b[0m\u001b[0m_original_iterator\u001b[0m \u001b[0;32mis\u001b[0m \u001b[0;32mnot\u001b[0m \u001b[0;32mNone\u001b[0m\u001b[0;34m\u001b[0m\u001b[0;34m\u001b[0m\u001b[0m\n\u001b[1;32m   1045\u001b[0m \u001b[0;34m\u001b[0m\u001b[0m\n\u001b[0;32m-> 1046\u001b[0;31m             \u001b[0;32mwhile\u001b[0m \u001b[0mself\u001b[0m\u001b[0;34m.\u001b[0m\u001b[0mdispatch_one_batch\u001b[0m\u001b[0;34m(\u001b[0m\u001b[0miterator\u001b[0m\u001b[0;34m)\u001b[0m\u001b[0;34m:\u001b[0m\u001b[0;34m\u001b[0m\u001b[0;34m\u001b[0m\u001b[0m\n\u001b[0m\u001b[1;32m   1047\u001b[0m                 \u001b[0;32mpass\u001b[0m\u001b[0;34m\u001b[0m\u001b[0;34m\u001b[0m\u001b[0m\n\u001b[1;32m   1048\u001b[0m \u001b[0;34m\u001b[0m\u001b[0m\n",
      "\u001b[0;32m/opt/conda/lib/python3.9/site-packages/joblib/parallel.py\u001b[0m in \u001b[0;36mdispatch_one_batch\u001b[0;34m(self, iterator)\u001b[0m\n\u001b[1;32m    859\u001b[0m                 \u001b[0;32mreturn\u001b[0m \u001b[0;32mFalse\u001b[0m\u001b[0;34m\u001b[0m\u001b[0;34m\u001b[0m\u001b[0m\n\u001b[1;32m    860\u001b[0m             \u001b[0;32melse\u001b[0m\u001b[0;34m:\u001b[0m\u001b[0;34m\u001b[0m\u001b[0;34m\u001b[0m\u001b[0m\n\u001b[0;32m--> 861\u001b[0;31m                 \u001b[0mself\u001b[0m\u001b[0;34m.\u001b[0m\u001b[0m_dispatch\u001b[0m\u001b[0;34m(\u001b[0m\u001b[0mtasks\u001b[0m\u001b[0;34m)\u001b[0m\u001b[0;34m\u001b[0m\u001b[0;34m\u001b[0m\u001b[0m\n\u001b[0m\u001b[1;32m    862\u001b[0m                 \u001b[0;32mreturn\u001b[0m \u001b[0;32mTrue\u001b[0m\u001b[0;34m\u001b[0m\u001b[0;34m\u001b[0m\u001b[0m\n\u001b[1;32m    863\u001b[0m \u001b[0;34m\u001b[0m\u001b[0m\n",
      "\u001b[0;32m/opt/conda/lib/python3.9/site-packages/joblib/parallel.py\u001b[0m in \u001b[0;36m_dispatch\u001b[0;34m(self, batch)\u001b[0m\n\u001b[1;32m    777\u001b[0m         \u001b[0;32mwith\u001b[0m \u001b[0mself\u001b[0m\u001b[0;34m.\u001b[0m\u001b[0m_lock\u001b[0m\u001b[0;34m:\u001b[0m\u001b[0;34m\u001b[0m\u001b[0;34m\u001b[0m\u001b[0m\n\u001b[1;32m    778\u001b[0m             \u001b[0mjob_idx\u001b[0m \u001b[0;34m=\u001b[0m \u001b[0mlen\u001b[0m\u001b[0;34m(\u001b[0m\u001b[0mself\u001b[0m\u001b[0;34m.\u001b[0m\u001b[0m_jobs\u001b[0m\u001b[0;34m)\u001b[0m\u001b[0;34m\u001b[0m\u001b[0;34m\u001b[0m\u001b[0m\n\u001b[0;32m--> 779\u001b[0;31m             \u001b[0mjob\u001b[0m \u001b[0;34m=\u001b[0m \u001b[0mself\u001b[0m\u001b[0;34m.\u001b[0m\u001b[0m_backend\u001b[0m\u001b[0;34m.\u001b[0m\u001b[0mapply_async\u001b[0m\u001b[0;34m(\u001b[0m\u001b[0mbatch\u001b[0m\u001b[0;34m,\u001b[0m \u001b[0mcallback\u001b[0m\u001b[0;34m=\u001b[0m\u001b[0mcb\u001b[0m\u001b[0;34m)\u001b[0m\u001b[0;34m\u001b[0m\u001b[0;34m\u001b[0m\u001b[0m\n\u001b[0m\u001b[1;32m    780\u001b[0m             \u001b[0;31m# A job can complete so quickly than its callback is\u001b[0m\u001b[0;34m\u001b[0m\u001b[0;34m\u001b[0m\u001b[0m\n\u001b[1;32m    781\u001b[0m             \u001b[0;31m# called before we get here, causing self._jobs to\u001b[0m\u001b[0;34m\u001b[0m\u001b[0;34m\u001b[0m\u001b[0m\n",
      "\u001b[0;32m/opt/conda/lib/python3.9/site-packages/joblib/_parallel_backends.py\u001b[0m in \u001b[0;36mapply_async\u001b[0;34m(self, func, callback)\u001b[0m\n\u001b[1;32m    206\u001b[0m     \u001b[0;32mdef\u001b[0m \u001b[0mapply_async\u001b[0m\u001b[0;34m(\u001b[0m\u001b[0mself\u001b[0m\u001b[0;34m,\u001b[0m \u001b[0mfunc\u001b[0m\u001b[0;34m,\u001b[0m \u001b[0mcallback\u001b[0m\u001b[0;34m=\u001b[0m\u001b[0;32mNone\u001b[0m\u001b[0;34m)\u001b[0m\u001b[0;34m:\u001b[0m\u001b[0;34m\u001b[0m\u001b[0;34m\u001b[0m\u001b[0m\n\u001b[1;32m    207\u001b[0m         \u001b[0;34m\"\"\"Schedule a func to be run\"\"\"\u001b[0m\u001b[0;34m\u001b[0m\u001b[0;34m\u001b[0m\u001b[0m\n\u001b[0;32m--> 208\u001b[0;31m         \u001b[0mresult\u001b[0m \u001b[0;34m=\u001b[0m \u001b[0mImmediateResult\u001b[0m\u001b[0;34m(\u001b[0m\u001b[0mfunc\u001b[0m\u001b[0;34m)\u001b[0m\u001b[0;34m\u001b[0m\u001b[0;34m\u001b[0m\u001b[0m\n\u001b[0m\u001b[1;32m    209\u001b[0m         \u001b[0;32mif\u001b[0m \u001b[0mcallback\u001b[0m\u001b[0;34m:\u001b[0m\u001b[0;34m\u001b[0m\u001b[0;34m\u001b[0m\u001b[0m\n\u001b[1;32m    210\u001b[0m             \u001b[0mcallback\u001b[0m\u001b[0;34m(\u001b[0m\u001b[0mresult\u001b[0m\u001b[0;34m)\u001b[0m\u001b[0;34m\u001b[0m\u001b[0;34m\u001b[0m\u001b[0m\n",
      "\u001b[0;32m/opt/conda/lib/python3.9/site-packages/joblib/_parallel_backends.py\u001b[0m in \u001b[0;36m__init__\u001b[0;34m(self, batch)\u001b[0m\n\u001b[1;32m    570\u001b[0m         \u001b[0;31m# Don't delay the application, to avoid keeping the input\u001b[0m\u001b[0;34m\u001b[0m\u001b[0;34m\u001b[0m\u001b[0m\n\u001b[1;32m    571\u001b[0m         \u001b[0;31m# arguments in memory\u001b[0m\u001b[0;34m\u001b[0m\u001b[0;34m\u001b[0m\u001b[0m\n\u001b[0;32m--> 572\u001b[0;31m         \u001b[0mself\u001b[0m\u001b[0;34m.\u001b[0m\u001b[0mresults\u001b[0m \u001b[0;34m=\u001b[0m \u001b[0mbatch\u001b[0m\u001b[0;34m(\u001b[0m\u001b[0;34m)\u001b[0m\u001b[0;34m\u001b[0m\u001b[0;34m\u001b[0m\u001b[0m\n\u001b[0m\u001b[1;32m    573\u001b[0m \u001b[0;34m\u001b[0m\u001b[0m\n\u001b[1;32m    574\u001b[0m     \u001b[0;32mdef\u001b[0m \u001b[0mget\u001b[0m\u001b[0;34m(\u001b[0m\u001b[0mself\u001b[0m\u001b[0;34m)\u001b[0m\u001b[0;34m:\u001b[0m\u001b[0;34m\u001b[0m\u001b[0;34m\u001b[0m\u001b[0m\n",
      "\u001b[0;32m/opt/conda/lib/python3.9/site-packages/joblib/parallel.py\u001b[0m in \u001b[0;36m__call__\u001b[0;34m(self)\u001b[0m\n\u001b[1;32m    260\u001b[0m         \u001b[0;31m# change the default number of processes to -1\u001b[0m\u001b[0;34m\u001b[0m\u001b[0;34m\u001b[0m\u001b[0m\n\u001b[1;32m    261\u001b[0m         \u001b[0;32mwith\u001b[0m \u001b[0mparallel_backend\u001b[0m\u001b[0;34m(\u001b[0m\u001b[0mself\u001b[0m\u001b[0;34m.\u001b[0m\u001b[0m_backend\u001b[0m\u001b[0;34m,\u001b[0m \u001b[0mn_jobs\u001b[0m\u001b[0;34m=\u001b[0m\u001b[0mself\u001b[0m\u001b[0;34m.\u001b[0m\u001b[0m_n_jobs\u001b[0m\u001b[0;34m)\u001b[0m\u001b[0;34m:\u001b[0m\u001b[0;34m\u001b[0m\u001b[0;34m\u001b[0m\u001b[0m\n\u001b[0;32m--> 262\u001b[0;31m             return [func(*args, **kwargs)\n\u001b[0m\u001b[1;32m    263\u001b[0m                     for func, args, kwargs in self.items]\n\u001b[1;32m    264\u001b[0m \u001b[0;34m\u001b[0m\u001b[0m\n",
      "\u001b[0;32m/opt/conda/lib/python3.9/site-packages/joblib/parallel.py\u001b[0m in \u001b[0;36m<listcomp>\u001b[0;34m(.0)\u001b[0m\n\u001b[1;32m    260\u001b[0m         \u001b[0;31m# change the default number of processes to -1\u001b[0m\u001b[0;34m\u001b[0m\u001b[0;34m\u001b[0m\u001b[0m\n\u001b[1;32m    261\u001b[0m         \u001b[0;32mwith\u001b[0m \u001b[0mparallel_backend\u001b[0m\u001b[0;34m(\u001b[0m\u001b[0mself\u001b[0m\u001b[0;34m.\u001b[0m\u001b[0m_backend\u001b[0m\u001b[0;34m,\u001b[0m \u001b[0mn_jobs\u001b[0m\u001b[0;34m=\u001b[0m\u001b[0mself\u001b[0m\u001b[0;34m.\u001b[0m\u001b[0m_n_jobs\u001b[0m\u001b[0;34m)\u001b[0m\u001b[0;34m:\u001b[0m\u001b[0;34m\u001b[0m\u001b[0;34m\u001b[0m\u001b[0m\n\u001b[0;32m--> 262\u001b[0;31m             return [func(*args, **kwargs)\n\u001b[0m\u001b[1;32m    263\u001b[0m                     for func, args, kwargs in self.items]\n\u001b[1;32m    264\u001b[0m \u001b[0;34m\u001b[0m\u001b[0m\n",
      "\u001b[0;32m/opt/conda/lib/python3.9/site-packages/sklearn/utils/fixes.py\u001b[0m in \u001b[0;36m__call__\u001b[0;34m(self, *args, **kwargs)\u001b[0m\n\u001b[1;32m    220\u001b[0m     \u001b[0;32mdef\u001b[0m \u001b[0m__call__\u001b[0m\u001b[0;34m(\u001b[0m\u001b[0mself\u001b[0m\u001b[0;34m,\u001b[0m \u001b[0;34m*\u001b[0m\u001b[0margs\u001b[0m\u001b[0;34m,\u001b[0m \u001b[0;34m**\u001b[0m\u001b[0mkwargs\u001b[0m\u001b[0;34m)\u001b[0m\u001b[0;34m:\u001b[0m\u001b[0;34m\u001b[0m\u001b[0;34m\u001b[0m\u001b[0m\n\u001b[1;32m    221\u001b[0m         \u001b[0;32mwith\u001b[0m \u001b[0mconfig_context\u001b[0m\u001b[0;34m(\u001b[0m\u001b[0;34m**\u001b[0m\u001b[0mself\u001b[0m\u001b[0;34m.\u001b[0m\u001b[0mconfig\u001b[0m\u001b[0;34m)\u001b[0m\u001b[0;34m:\u001b[0m\u001b[0;34m\u001b[0m\u001b[0;34m\u001b[0m\u001b[0m\n\u001b[0;32m--> 222\u001b[0;31m             \u001b[0;32mreturn\u001b[0m \u001b[0mself\u001b[0m\u001b[0;34m.\u001b[0m\u001b[0mfunction\u001b[0m\u001b[0;34m(\u001b[0m\u001b[0;34m*\u001b[0m\u001b[0margs\u001b[0m\u001b[0;34m,\u001b[0m \u001b[0;34m**\u001b[0m\u001b[0mkwargs\u001b[0m\u001b[0;34m)\u001b[0m\u001b[0;34m\u001b[0m\u001b[0;34m\u001b[0m\u001b[0m\n\u001b[0m",
      "\u001b[0;32m/opt/conda/lib/python3.9/site-packages/sklearn/ensemble/_forest.py\u001b[0m in \u001b[0;36m_parallel_build_trees\u001b[0;34m(tree, forest, X, y, sample_weight, tree_idx, n_trees, verbose, class_weight, n_samples_bootstrap)\u001b[0m\n\u001b[1;32m    167\u001b[0m                                                         indices=indices)\n\u001b[1;32m    168\u001b[0m \u001b[0;34m\u001b[0m\u001b[0m\n\u001b[0;32m--> 169\u001b[0;31m         \u001b[0mtree\u001b[0m\u001b[0;34m.\u001b[0m\u001b[0mfit\u001b[0m\u001b[0;34m(\u001b[0m\u001b[0mX\u001b[0m\u001b[0;34m,\u001b[0m \u001b[0my\u001b[0m\u001b[0;34m,\u001b[0m \u001b[0msample_weight\u001b[0m\u001b[0;34m=\u001b[0m\u001b[0mcurr_sample_weight\u001b[0m\u001b[0;34m,\u001b[0m \u001b[0mcheck_input\u001b[0m\u001b[0;34m=\u001b[0m\u001b[0;32mFalse\u001b[0m\u001b[0;34m)\u001b[0m\u001b[0;34m\u001b[0m\u001b[0;34m\u001b[0m\u001b[0m\n\u001b[0m\u001b[1;32m    170\u001b[0m     \u001b[0;32melse\u001b[0m\u001b[0;34m:\u001b[0m\u001b[0;34m\u001b[0m\u001b[0;34m\u001b[0m\u001b[0m\n\u001b[1;32m    171\u001b[0m         \u001b[0mtree\u001b[0m\u001b[0;34m.\u001b[0m\u001b[0mfit\u001b[0m\u001b[0;34m(\u001b[0m\u001b[0mX\u001b[0m\u001b[0;34m,\u001b[0m \u001b[0my\u001b[0m\u001b[0;34m,\u001b[0m \u001b[0msample_weight\u001b[0m\u001b[0;34m=\u001b[0m\u001b[0msample_weight\u001b[0m\u001b[0;34m,\u001b[0m \u001b[0mcheck_input\u001b[0m\u001b[0;34m=\u001b[0m\u001b[0;32mFalse\u001b[0m\u001b[0;34m)\u001b[0m\u001b[0;34m\u001b[0m\u001b[0;34m\u001b[0m\u001b[0m\n",
      "\u001b[0;32m/opt/conda/lib/python3.9/site-packages/sklearn/tree/_classes.py\u001b[0m in \u001b[0;36mfit\u001b[0;34m(self, X, y, sample_weight, check_input, X_idx_sorted)\u001b[0m\n\u001b[1;32m   1245\u001b[0m         \"\"\"\n\u001b[1;32m   1246\u001b[0m \u001b[0;34m\u001b[0m\u001b[0m\n\u001b[0;32m-> 1247\u001b[0;31m         super().fit(\n\u001b[0m\u001b[1;32m   1248\u001b[0m             \u001b[0mX\u001b[0m\u001b[0;34m,\u001b[0m \u001b[0my\u001b[0m\u001b[0;34m,\u001b[0m\u001b[0;34m\u001b[0m\u001b[0;34m\u001b[0m\u001b[0m\n\u001b[1;32m   1249\u001b[0m             \u001b[0msample_weight\u001b[0m\u001b[0;34m=\u001b[0m\u001b[0msample_weight\u001b[0m\u001b[0;34m,\u001b[0m\u001b[0;34m\u001b[0m\u001b[0;34m\u001b[0m\u001b[0m\n",
      "\u001b[0;32m/opt/conda/lib/python3.9/site-packages/sklearn/tree/_classes.py\u001b[0m in \u001b[0;36mfit\u001b[0;34m(self, X, y, sample_weight, check_input, X_idx_sorted)\u001b[0m\n\u001b[1;32m    387\u001b[0m                                            min_impurity_split)\n\u001b[1;32m    388\u001b[0m \u001b[0;34m\u001b[0m\u001b[0m\n\u001b[0;32m--> 389\u001b[0;31m         \u001b[0mbuilder\u001b[0m\u001b[0;34m.\u001b[0m\u001b[0mbuild\u001b[0m\u001b[0;34m(\u001b[0m\u001b[0mself\u001b[0m\u001b[0;34m.\u001b[0m\u001b[0mtree_\u001b[0m\u001b[0;34m,\u001b[0m \u001b[0mX\u001b[0m\u001b[0;34m,\u001b[0m \u001b[0my\u001b[0m\u001b[0;34m,\u001b[0m \u001b[0msample_weight\u001b[0m\u001b[0;34m)\u001b[0m\u001b[0;34m\u001b[0m\u001b[0;34m\u001b[0m\u001b[0m\n\u001b[0m\u001b[1;32m    390\u001b[0m \u001b[0;34m\u001b[0m\u001b[0m\n\u001b[1;32m    391\u001b[0m         \u001b[0;32mif\u001b[0m \u001b[0mself\u001b[0m\u001b[0;34m.\u001b[0m\u001b[0mn_outputs_\u001b[0m \u001b[0;34m==\u001b[0m \u001b[0;36m1\u001b[0m \u001b[0;32mand\u001b[0m \u001b[0mis_classifier\u001b[0m\u001b[0;34m(\u001b[0m\u001b[0mself\u001b[0m\u001b[0;34m)\u001b[0m\u001b[0;34m:\u001b[0m\u001b[0;34m\u001b[0m\u001b[0;34m\u001b[0m\u001b[0m\n",
      "\u001b[0;31mKeyboardInterrupt\u001b[0m: "
     ]
    }
   ],
   "source": [
    "%%time\n",
    "best_rf = {'score': 9999}\n",
    "\n",
    "for trees in range(100, 300+1, 100):\n",
    "    curr = {'trees': trees}\n",
    "    for depth in range(20, 60+1, 20):\n",
    "        curr['depth'] = depth\n",
    "        for min_samp in range(3, 3+1, 1):\n",
    "            curr['min_samp'] = min_samp\n",
    "            rf_model = RandomForestRegressor(random_state=42069, n_estimators=trees, \n",
    "                                             max_depth=depth, min_samples_leaf=min_samp, n_jobs=-1)\n",
    "            rf_model.fit(x_train, y_train)\n",
    "            curr['score'] = mean_squared_error(y_val, rf_model.predict(x_val), squared=False)\n",
    "            print(curr)\n",
    "            if curr['score'] < best_rf['score']:\n",
    "                best_rf = curr"
   ]
  },
  {
   "cell_type": "markdown",
   "metadata": {},
   "source": [
    "Testing the optimal model."
   ]
  },
  {
   "cell_type": "code",
   "execution_count": 34,
   "metadata": {},
   "outputs": [
    {
     "name": "stdout",
     "output_type": "stream",
     "text": [
      "CPU times: user 16min 56s, sys: 2.59 s, total: 16min 58s\n",
      "Wall time: 16min 59s\n"
     ]
    },
    {
     "data": {
      "text/plain": [
       "RandomForestRegressor(max_depth=60, min_samples_leaf=3, n_estimators=200,\n",
       "                      random_state=42069)"
      ]
     },
     "execution_count": 34,
     "metadata": {},
     "output_type": "execute_result"
    }
   ],
   "source": [
    "%%time\n",
    "rf_model = RandomForestRegressor(random_state=42069, n_estimators=best_rf['trees'], \n",
    "                                 max_depth=best_rf['depth'], min_samples_leaf=best_rf['min_samp'])\n",
    "rf_model.fit(x_train, y_train)"
   ]
  },
  {
   "cell_type": "code",
   "execution_count": 37,
   "metadata": {},
   "outputs": [
    {
     "data": {
      "text/plain": [
       "1847.1995269045747"
      ]
     },
     "execution_count": 37,
     "metadata": {},
     "output_type": "execute_result"
    }
   ],
   "source": [
    "mean_squared_error(y_test, rf_model.predict(x_test), squared=False)"
   ]
  },
  {
   "cell_type": "markdown",
   "metadata": {},
   "source": [
    "The score is much better than the linear regression benchmark, but it took very long to train.\n",
    "\n",
    "Next, we'll try LightGBM."
   ]
  },
  {
   "cell_type": "code",
   "execution_count": 68,
   "metadata": {
    "scrolled": true
   },
   "outputs": [
    {
     "name": "stdout",
     "output_type": "stream",
     "text": [
      "Training until validation scores don't improve for 5 rounds\n",
      "Early stopping, best iteration is:\n",
      "[371]\tvalid_0's rmse: 1805.5\tvalid_0's l2: 3.25984e+06\n",
      "CPU times: user 2min 3s, sys: 1.22 s, total: 2min 4s\n",
      "Wall time: 2min 5s\n"
     ]
    },
    {
     "data": {
      "text/plain": [
       "LGBMRegressor(learning_rate=0.25, n_estimators=1000, random_state=0)"
      ]
     },
     "execution_count": 68,
     "metadata": {},
     "output_type": "execute_result"
    }
   ],
   "source": [
    "%%time\n",
    "lgb1 = LGBMRegressor(random_state=0, learning_rate=0.25, n_estimators=1000)\n",
    "lgb1.fit(x_train, y_train, eval_metric='rmse', eval_set=[(x_val, y_val)], callbacks=[early_stopping(stopping_rounds=5)])"
   ]
  },
  {
   "cell_type": "markdown",
   "metadata": {},
   "source": [
    "This is good and fast, but maybe we can do better with slower learning."
   ]
  },
  {
   "cell_type": "code",
   "execution_count": 69,
   "metadata": {
    "scrolled": true
   },
   "outputs": [
    {
     "name": "stdout",
     "output_type": "stream",
     "text": [
      "Training until validation scores don't improve for 5 rounds\n"
     ]
    },
    {
     "ename": "KeyboardInterrupt",
     "evalue": "",
     "output_type": "error",
     "traceback": [
      "\u001b[0;31m---------------------------------------------------------------------------\u001b[0m",
      "\u001b[0;31mKeyboardInterrupt\u001b[0m                         Traceback (most recent call last)",
      "\u001b[0;32m<timed exec>\u001b[0m in \u001b[0;36m<module>\u001b[0;34m\u001b[0m\n",
      "\u001b[0;32m/opt/conda/lib/python3.9/site-packages/lightgbm/sklearn.py\u001b[0m in \u001b[0;36mfit\u001b[0;34m(self, X, y, sample_weight, init_score, eval_set, eval_names, eval_sample_weight, eval_init_score, eval_metric, early_stopping_rounds, verbose, feature_name, categorical_feature, callbacks, init_model)\u001b[0m\n\u001b[1;32m    893\u001b[0m             callbacks=None, init_model=None):\n\u001b[1;32m    894\u001b[0m         \u001b[0;34m\"\"\"Docstring is inherited from the LGBMModel.\"\"\"\u001b[0m\u001b[0;34m\u001b[0m\u001b[0;34m\u001b[0m\u001b[0m\n\u001b[0;32m--> 895\u001b[0;31m         super().fit(X, y, sample_weight=sample_weight, init_score=init_score,\n\u001b[0m\u001b[1;32m    896\u001b[0m                     \u001b[0meval_set\u001b[0m\u001b[0;34m=\u001b[0m\u001b[0meval_set\u001b[0m\u001b[0;34m,\u001b[0m \u001b[0meval_names\u001b[0m\u001b[0;34m=\u001b[0m\u001b[0meval_names\u001b[0m\u001b[0;34m,\u001b[0m \u001b[0meval_sample_weight\u001b[0m\u001b[0;34m=\u001b[0m\u001b[0meval_sample_weight\u001b[0m\u001b[0;34m,\u001b[0m\u001b[0;34m\u001b[0m\u001b[0;34m\u001b[0m\u001b[0m\n\u001b[1;32m    897\u001b[0m                     \u001b[0meval_init_score\u001b[0m\u001b[0;34m=\u001b[0m\u001b[0meval_init_score\u001b[0m\u001b[0;34m,\u001b[0m \u001b[0meval_metric\u001b[0m\u001b[0;34m=\u001b[0m\u001b[0meval_metric\u001b[0m\u001b[0;34m,\u001b[0m\u001b[0;34m\u001b[0m\u001b[0;34m\u001b[0m\u001b[0m\n",
      "\u001b[0;32m/opt/conda/lib/python3.9/site-packages/lightgbm/sklearn.py\u001b[0m in \u001b[0;36mfit\u001b[0;34m(self, X, y, sample_weight, init_score, group, eval_set, eval_names, eval_sample_weight, eval_class_weight, eval_init_score, eval_group, eval_metric, early_stopping_rounds, verbose, feature_name, categorical_feature, callbacks, init_model)\u001b[0m\n\u001b[1;32m    746\u001b[0m         \u001b[0mcallbacks\u001b[0m\u001b[0;34m.\u001b[0m\u001b[0mappend\u001b[0m\u001b[0;34m(\u001b[0m\u001b[0mrecord_evaluation\u001b[0m\u001b[0;34m(\u001b[0m\u001b[0mevals_result\u001b[0m\u001b[0;34m)\u001b[0m\u001b[0;34m)\u001b[0m\u001b[0;34m\u001b[0m\u001b[0;34m\u001b[0m\u001b[0m\n\u001b[1;32m    747\u001b[0m \u001b[0;34m\u001b[0m\u001b[0m\n\u001b[0;32m--> 748\u001b[0;31m         self._Booster = train(\n\u001b[0m\u001b[1;32m    749\u001b[0m             \u001b[0mparams\u001b[0m\u001b[0;34m=\u001b[0m\u001b[0mparams\u001b[0m\u001b[0;34m,\u001b[0m\u001b[0;34m\u001b[0m\u001b[0;34m\u001b[0m\u001b[0m\n\u001b[1;32m    750\u001b[0m             \u001b[0mtrain_set\u001b[0m\u001b[0;34m=\u001b[0m\u001b[0mtrain_set\u001b[0m\u001b[0;34m,\u001b[0m\u001b[0;34m\u001b[0m\u001b[0;34m\u001b[0m\u001b[0m\n",
      "\u001b[0;32m/opt/conda/lib/python3.9/site-packages/lightgbm/engine.py\u001b[0m in \u001b[0;36mtrain\u001b[0;34m(params, train_set, num_boost_round, valid_sets, valid_names, fobj, feval, init_model, feature_name, categorical_feature, early_stopping_rounds, evals_result, verbose_eval, learning_rates, keep_training_booster, callbacks)\u001b[0m\n\u001b[1;32m    290\u001b[0m                                     evaluation_result_list=None))\n\u001b[1;32m    291\u001b[0m \u001b[0;34m\u001b[0m\u001b[0m\n\u001b[0;32m--> 292\u001b[0;31m         \u001b[0mbooster\u001b[0m\u001b[0;34m.\u001b[0m\u001b[0mupdate\u001b[0m\u001b[0;34m(\u001b[0m\u001b[0mfobj\u001b[0m\u001b[0;34m=\u001b[0m\u001b[0mfobj\u001b[0m\u001b[0;34m)\u001b[0m\u001b[0;34m\u001b[0m\u001b[0;34m\u001b[0m\u001b[0m\n\u001b[0m\u001b[1;32m    293\u001b[0m \u001b[0;34m\u001b[0m\u001b[0m\n\u001b[1;32m    294\u001b[0m         \u001b[0mevaluation_result_list\u001b[0m \u001b[0;34m=\u001b[0m \u001b[0;34m[\u001b[0m\u001b[0;34m]\u001b[0m\u001b[0;34m\u001b[0m\u001b[0;34m\u001b[0m\u001b[0m\n",
      "\u001b[0;32m/opt/conda/lib/python3.9/site-packages/lightgbm/basic.py\u001b[0m in \u001b[0;36mupdate\u001b[0;34m(self, train_set, fobj)\u001b[0m\n\u001b[1;32m   3019\u001b[0m             \u001b[0;32mif\u001b[0m \u001b[0mself\u001b[0m\u001b[0;34m.\u001b[0m\u001b[0m__set_objective_to_none\u001b[0m\u001b[0;34m:\u001b[0m\u001b[0;34m\u001b[0m\u001b[0;34m\u001b[0m\u001b[0m\n\u001b[1;32m   3020\u001b[0m                 \u001b[0;32mraise\u001b[0m \u001b[0mLightGBMError\u001b[0m\u001b[0;34m(\u001b[0m\u001b[0;34m'Cannot update due to null objective function.'\u001b[0m\u001b[0;34m)\u001b[0m\u001b[0;34m\u001b[0m\u001b[0;34m\u001b[0m\u001b[0m\n\u001b[0;32m-> 3021\u001b[0;31m             _safe_call(_LIB.LGBM_BoosterUpdateOneIter(\n\u001b[0m\u001b[1;32m   3022\u001b[0m                 \u001b[0mself\u001b[0m\u001b[0;34m.\u001b[0m\u001b[0mhandle\u001b[0m\u001b[0;34m,\u001b[0m\u001b[0;34m\u001b[0m\u001b[0;34m\u001b[0m\u001b[0m\n\u001b[1;32m   3023\u001b[0m                 ctypes.byref(is_finished)))\n",
      "\u001b[0;31mKeyboardInterrupt\u001b[0m: "
     ]
    }
   ],
   "source": [
    "%%time\n",
    "lgb2 = LGBMRegressor(random_state=0, learning_rate=0.1, n_estimators=1000)\n",
    "lgb2.fit(x_train, y_train, eval_metric='rmse', eval_set=[(x_val, y_val)], callbacks=[early_stopping(stopping_rounds=5)])"
   ]
  },
  {
   "cell_type": "markdown",
   "metadata": {},
   "source": [
    "It is only slightly more accurate, but takes twice as much time. Next, try to simplify it with depth restriction."
   ]
  },
  {
   "cell_type": "code",
   "execution_count": 40,
   "metadata": {
    "collapsed": true
   },
   "outputs": [
    {
     "name": "stdout",
     "output_type": "stream",
     "text": [
      "Training until validation scores don't improve for 5 rounds\n",
      "Early stopping, best iteration is:\n",
      "[799]\tvalid_0's rmse: 1820.24\tvalid_0's l2: 3.31328e+06\n",
      "CPU times: user 1min 32s, sys: 373 ms, total: 1min 32s\n",
      "Wall time: 1min 33s\n"
     ]
    },
    {
     "data": {
      "text/plain": [
       "LGBMRegressor(max_depth=10, n_estimators=1000, random_state=42069)"
      ]
     },
     "execution_count": 40,
     "metadata": {},
     "output_type": "execute_result"
    }
   ],
   "source": [
    "%%time\n",
    "lgb3 = LGBMRegressor(random_state=42069, learning_rate=0.1, n_estimators=1000, max_depth=10)\n",
    "lgb3.fit(x_train, y_train, eval_metric='rmse', eval_set=[(x_val, y_val)], callbacks=[early_stopping(stopping_rounds=5)])"
   ]
  },
  {
   "cell_type": "markdown",
   "metadata": {},
   "source": [
    "For the final test, we'll take the first version because it is the fastest and not significantly less accurate than the others."
   ]
  },
  {
   "cell_type": "code",
   "execution_count": 70,
   "metadata": {},
   "outputs": [
    {
     "name": "stdout",
     "output_type": "stream",
     "text": [
      "CPU times: user 1.87 s, sys: 9.51 ms, total: 1.88 s\n",
      "Wall time: 1.83 s\n"
     ]
    },
    {
     "data": {
      "text/plain": [
       "1809.690866636185"
      ]
     },
     "execution_count": 70,
     "metadata": {},
     "output_type": "execute_result"
    }
   ],
   "source": [
    "%%time\n",
    "mean_squared_error(y_test, lgb1.predict(x_test), squared=False)"
   ]
  },
  {
   "cell_type": "markdown",
   "metadata": {},
   "source": [
    "38$ better than the basic random forest at a fraction of the time. Next, try the same with CatBoost."
   ]
  },
  {
   "cell_type": "code",
   "execution_count": 43,
   "metadata": {},
   "outputs": [],
   "source": [
    "cat1 = CatBoostRegressor(random_state=42069, loss_function='RMSE', n_estimators=2000, learning_rate=0.25)"
   ]
  },
  {
   "cell_type": "code",
   "execution_count": 44,
   "metadata": {},
   "outputs": [
    {
     "name": "stdout",
     "output_type": "stream",
     "text": [
      "0:\tlearn: 3934.0591890\ttest: 3940.7293743\tbest: 3940.7293743 (0)\ttotal: 105ms\tremaining: 3m 29s\n",
      "100:\tlearn: 2079.0075333\ttest: 2097.7723173\tbest: 2097.7723173 (100)\ttotal: 8.22s\tremaining: 2m 34s\n",
      "200:\tlearn: 1936.8581388\ttest: 1972.6061148\tbest: 1972.6061148 (200)\ttotal: 15.6s\tremaining: 2m 19s\n",
      "300:\tlearn: 1861.7634626\ttest: 1915.5569446\tbest: 1915.5569446 (300)\ttotal: 22.6s\tremaining: 2m 7s\n",
      "400:\tlearn: 1815.9699290\ttest: 1886.4337513\tbest: 1886.4337513 (400)\ttotal: 29.6s\tremaining: 1m 58s\n",
      "500:\tlearn: 1779.5914807\ttest: 1867.1287300\tbest: 1867.1287300 (500)\ttotal: 36.7s\tremaining: 1m 49s\n",
      "Stopped by overfitting detector  (5 iterations wait)\n",
      "\n",
      "bestTest = 1859.213817\n",
      "bestIteration = 556\n",
      "\n",
      "Shrink model to first 557 iterations.\n",
      "CPU times: user 58.7 s, sys: 498 ms, total: 59.2 s\n",
      "Wall time: 1min\n"
     ]
    },
    {
     "data": {
      "text/plain": [
       "<catboost.core.CatBoostRegressor at 0x7fc930e066a0>"
      ]
     },
     "execution_count": 44,
     "metadata": {},
     "output_type": "execute_result"
    }
   ],
   "source": [
    "%%time\n",
    "cat1.fit(\n",
    "    x_train, y_train, \n",
    "    eval_set=[(x_val, y_val)], \n",
    "    use_best_model=True, \n",
    "    early_stopping_rounds=5,\n",
    "    verbose=100,\n",
    ")"
   ]
  },
  {
   "cell_type": "markdown",
   "metadata": {},
   "source": [
    "Slower learning."
   ]
  },
  {
   "cell_type": "code",
   "execution_count": 30,
   "metadata": {},
   "outputs": [],
   "source": [
    "cat2 = CatBoostRegressor(random_state=42069, loss_function='RMSE', n_estimators=2000, learning_rate=0.1)"
   ]
  },
  {
   "cell_type": "code",
   "execution_count": 31,
   "metadata": {},
   "outputs": [
    {
     "name": "stdout",
     "output_type": "stream",
     "text": [
      "0:\tlearn: 4293.9870128\ttest: 4284.4201028\tbest: 4284.4201028 (0)\ttotal: 151ms\tremaining: 5m\n",
      "100:\tlearn: 2313.7777093\ttest: 2303.5782861\tbest: 2303.5782861 (100)\ttotal: 7.67s\tremaining: 2m 24s\n",
      "200:\tlearn: 2136.9933355\ttest: 2132.8664953\tbest: 2132.8664953 (200)\ttotal: 15.8s\tremaining: 2m 21s\n",
      "300:\tlearn: 2051.6414377\ttest: 2055.6808459\tbest: 2055.6808459 (300)\ttotal: 23.2s\tremaining: 2m 11s\n",
      "400:\tlearn: 1991.3336522\ttest: 2003.6650810\tbest: 2003.6650810 (400)\ttotal: 30.7s\tremaining: 2m 2s\n",
      "500:\tlearn: 1947.9364028\ttest: 1968.6816127\tbest: 1968.6816127 (500)\ttotal: 37.9s\tremaining: 1m 53s\n",
      "600:\tlearn: 1914.0671912\ttest: 1941.3035683\tbest: 1941.3035683 (600)\ttotal: 45s\tremaining: 1m 44s\n",
      "700:\tlearn: 1884.6305803\ttest: 1919.3655393\tbest: 1919.3655393 (700)\ttotal: 52.2s\tremaining: 1m 36s\n",
      "800:\tlearn: 1860.8411625\ttest: 1903.1279934\tbest: 1903.1279934 (800)\ttotal: 59.1s\tremaining: 1m 28s\n",
      "900:\tlearn: 1840.2230580\ttest: 1890.5755787\tbest: 1890.5755787 (900)\ttotal: 1m 5s\tremaining: 1m 19s\n",
      "1000:\tlearn: 1822.9543416\ttest: 1879.4439815\tbest: 1879.4439815 (1000)\ttotal: 1m 11s\tremaining: 1m 11s\n",
      "1100:\tlearn: 1807.0898849\ttest: 1870.2512672\tbest: 1870.2512672 (1100)\ttotal: 1m 18s\tremaining: 1m 4s\n",
      "1200:\tlearn: 1793.1493543\ttest: 1862.0228656\tbest: 1862.0228656 (1200)\ttotal: 1m 25s\tremaining: 56.6s\n",
      "1300:\tlearn: 1782.0698145\ttest: 1856.3414687\tbest: 1856.3414687 (1300)\ttotal: 1m 31s\tremaining: 49.3s\n",
      "Stopped by overfitting detector  (5 iterations wait)\n",
      "\n",
      "bestTest = 1853.68163\n",
      "bestIteration = 1340\n",
      "\n",
      "Shrink model to first 1341 iterations.\n",
      "CPU times: user 1min 53s, sys: 897 ms, total: 1min 54s\n",
      "Wall time: 1min 57s\n"
     ]
    },
    {
     "data": {
      "text/plain": [
       "<catboost.core.CatBoostRegressor at 0x7f3943b856d0>"
      ]
     },
     "execution_count": 31,
     "metadata": {},
     "output_type": "execute_result"
    }
   ],
   "source": [
    "%%time\n",
    "cat2.fit(\n",
    "    x_train, y_train, \n",
    "    eval_set=[(x_val, y_val)], \n",
    "    use_best_model=True, \n",
    "    early_stopping_rounds=5,\n",
    "    verbose=100,\n",
    ")"
   ]
  },
  {
   "cell_type": "markdown",
   "metadata": {},
   "source": [
    "Test score of the second Catboost model."
   ]
  },
  {
   "cell_type": "code",
   "execution_count": 61,
   "metadata": {},
   "outputs": [
    {
     "name": "stdout",
     "output_type": "stream",
     "text": [
      "CPU times: user 4.56 s, sys: 31.3 ms, total: 4.6 s\n",
      "Wall time: 4.6 s\n"
     ]
    },
    {
     "data": {
      "text/plain": [
       "1855.7866063613908"
      ]
     },
     "execution_count": 61,
     "metadata": {},
     "output_type": "execute_result"
    }
   ],
   "source": [
    "%%time\n",
    "mean_squared_error(y_test, cat2.predict(x_test), squared=False)"
   ]
  },
  {
   "cell_type": "markdown",
   "metadata": {},
   "source": [
    "<div class=\"alert alert-warning\">\n",
    "<b>Reviewer's comment</b>\n",
    "\n",
    "For catboost and lightgbm using their own encoding for categorical features instead of OHE usually gives better results (both in terms of speed and quality). For both models you just need to specify the categorical features during model initialization (and for lightgbm we also need to pre-encode categorical features as integers, for example using OrdinalEncoder). More details can be found in the documentation of these libraries.\n",
    "\n",
    "</div>"
   ]
  },
  {
   "cell_type": "markdown",
   "metadata": {},
   "source": [
    "It is not as good as LightGBM's score or even the simple random forest model.\n",
    "\n",
    "For last, XGBoost."
   ]
  },
  {
   "cell_type": "code",
   "execution_count": 55,
   "metadata": {
    "scrolled": true
   },
   "outputs": [
    {
     "name": "stdout",
     "output_type": "stream",
     "text": [
      "152 1850.748901\n",
      "CPU times: user 10min 7s, sys: 2.56 s, total: 10min 10s\n",
      "Wall time: 10min 12s\n"
     ]
    }
   ],
   "source": [
    "%%time\n",
    "xgb1 = XGBRegressor(random_state=42069, n_estimators=300, learning_rate=0.5)\n",
    "xgb1.fit(x_train, y_train, eval_set=[(x_val, y_val)], early_stopping_rounds=3, verbose=False)\n",
    "print(xgb1.best_iteration, xgb1.best_score)"
   ]
  },
  {
   "cell_type": "markdown",
   "metadata": {},
   "source": [
    "Slower learning."
   ]
  },
  {
   "cell_type": "code",
   "execution_count": 56,
   "metadata": {},
   "outputs": [
    {
     "name": "stdout",
     "output_type": "stream",
     "text": [
      "254 1820.817993\n",
      "CPU times: user 17min 11s, sys: 4.24 s, total: 17min 15s\n",
      "Wall time: 17min 19s\n"
     ]
    }
   ],
   "source": [
    "%%time\n",
    "xgb2 = XGBRegressor(random_state=42069, n_estimators=300, learning_rate=.3)\n",
    "xgb2.fit(x_train, y_train, eval_set=[(x_val, y_val)], early_stopping_rounds=3, verbose=False)\n",
    "print(xgb2.best_iteration, xgb2.best_score)"
   ]
  },
  {
   "cell_type": "markdown",
   "metadata": {},
   "source": [
    "Deeper trees."
   ]
  },
  {
   "cell_type": "code",
   "execution_count": 58,
   "metadata": {},
   "outputs": [
    {
     "name": "stdout",
     "output_type": "stream",
     "text": [
      "254 1795.2948\n",
      "CPU times: user 15min 27s, sys: 4.9 s, total: 15min 32s\n",
      "Wall time: 15min 38s\n"
     ]
    }
   ],
   "source": [
    "%%time\n",
    "xgb3 = XGBRegressor(random_state=42069, n_estimators=300, learning_rate=.3, max_depth=10)\n",
    "xgb3.fit(x_train, y_train, eval_set=[(x_val, y_val)], early_stopping_rounds=3, verbose=False)\n",
    "print(xgb2.best_iteration, xgb3.best_score)"
   ]
  },
  {
   "cell_type": "markdown",
   "metadata": {},
   "source": [
    "Test score of the 3rd varietion."
   ]
  },
  {
   "cell_type": "code",
   "execution_count": 60,
   "metadata": {},
   "outputs": [
    {
     "name": "stdout",
     "output_type": "stream",
     "text": [
      "CPU times: user 953 ms, sys: 1 µs, total: 953 ms\n",
      "Wall time: 908 ms\n"
     ]
    },
    {
     "data": {
      "text/plain": [
       "1799.3781079941543"
      ]
     },
     "execution_count": 60,
     "metadata": {},
     "output_type": "execute_result"
    }
   ],
   "source": [
    "%%time\n",
    "mean_squared_error(y_test, xgb3.predict(x_test), squared=False)"
   ]
  },
  {
   "cell_type": "markdown",
   "metadata": {},
   "source": [
    "It is better than LightGBM, but it took much longer to train."
   ]
  },
  {
   "cell_type": "markdown",
   "metadata": {},
   "source": [
    "<div class=\"alert alert-success\">\n",
    "<b>Reviewer's comment</b>\n",
    "\n",
    "Excellent, you tried several models and tuned their hyperparameters using the validation set. Final models were evaluated on the test set. You also measured both training and prediction time\n",
    "\n",
    "</div>"
   ]
  },
  {
   "cell_type": "markdown",
   "metadata": {},
   "source": [
    "## Model analysis"
   ]
  },
  {
   "cell_type": "markdown",
   "metadata": {},
   "source": [
    "In this project we tried out 3 gradient boost libraries on a regression task, and compared the results to the random forest from scikit-learn: LightGBM, CatBoost and XGBoost. Of the three, LightGBM stood out for training speed, while also improving on accuracy. With CatBoost, we didn't manage to reduce the loss function below the level set by the basic random forest. We might achieve better results with further tuning, but even as it is the training times are higher than LightGBM's for a lower accuracy. XGBoost did slightly improve on LightGBM's results, but took much longer to train. Overall, LightGBM showed the greatest time efficiency.\n",
    "\n",
    "NOTE: Every time I trained the same models on jupyterhub I got vastly different running times, so it is possible, even likely, the differences I found are the result of when each part of the notebook was originally run. In other words, trying to compare the speed is pretty much pointless."
   ]
  },
  {
   "cell_type": "markdown",
   "metadata": {},
   "source": [
    "<div class=\"alert alert-warning\">\n",
    "<b>Reviewer's comment</b>\n",
    "\n",
    "> NOTE: Every time I trained the same models on jupyterhub I got vastly different running times, so it is possible, even likely, the differences I found are the result of when each part of the notebook was originally run. In other words, trying to compare the speed is pretty much pointless.\n",
    "    \n",
    "Yeah, the better way would probably be to use `%%timeit` instead of `%%time` to make several runs and measure mean running time and standard deviation, although that would take more time.\n",
    "\n",
    "</div>"
   ]
  },
  {
   "cell_type": "markdown",
   "metadata": {},
   "source": [
    "# Checklist"
   ]
  },
  {
   "cell_type": "markdown",
   "metadata": {},
   "source": [
    "Type 'x' to check. Then press Shift+Enter."
   ]
  },
  {
   "cell_type": "markdown",
   "metadata": {},
   "source": [
    "- [x]  Jupyter Notebook is open\n",
    "- [ ]  Code is error free\n",
    "- [ ]  The cells with the code have been arranged in order of execution\n",
    "- [ ]  The data has been downloaded and prepared\n",
    "- [ ]  The models have been trained\n",
    "- [ ]  The analysis of speed and quality of the models has been performed"
   ]
  },
  {
   "cell_type": "code",
   "execution_count": null,
   "metadata": {},
   "outputs": [],
   "source": []
  }
 ],
 "metadata": {
  "ExecuteTimeLog": [
   {
    "duration": 1209,
    "start_time": "2022-05-20T13:09:37.500Z"
   },
   {
    "duration": 1422,
    "start_time": "2022-05-20T13:10:48.714Z"
   },
   {
    "duration": 17,
    "start_time": "2022-05-20T13:10:57.561Z"
   },
   {
    "duration": 130,
    "start_time": "2022-05-20T13:18:17.797Z"
   },
   {
    "duration": 5,
    "start_time": "2022-05-20T13:20:54.028Z"
   },
   {
    "duration": 10,
    "start_time": "2022-05-20T13:21:07.605Z"
   },
   {
    "duration": 6,
    "start_time": "2022-05-20T13:21:13.464Z"
   },
   {
    "duration": 6,
    "start_time": "2022-05-20T13:21:18.377Z"
   },
   {
    "duration": 6,
    "start_time": "2022-05-20T13:22:31.923Z"
   },
   {
    "duration": 4,
    "start_time": "2022-05-20T13:23:43.102Z"
   },
   {
    "duration": 6,
    "start_time": "2022-05-20T13:24:00.515Z"
   },
   {
    "duration": 178,
    "start_time": "2022-05-20T13:28:45.182Z"
   },
   {
    "duration": 29,
    "start_time": "2022-05-20T13:28:48.882Z"
   },
   {
    "duration": 19,
    "start_time": "2022-05-20T13:29:14.538Z"
   },
   {
    "duration": 11,
    "start_time": "2022-05-20T13:29:48.723Z"
   },
   {
    "duration": 81,
    "start_time": "2022-05-20T13:29:52.933Z"
   },
   {
    "duration": 38,
    "start_time": "2022-05-20T13:29:55.623Z"
   },
   {
    "duration": 87,
    "start_time": "2022-05-20T13:31:18.490Z"
   },
   {
    "duration": 13,
    "start_time": "2022-05-20T13:35:42.523Z"
   },
   {
    "duration": 9,
    "start_time": "2022-05-20T13:35:53.903Z"
   },
   {
    "duration": 49522,
    "start_time": "2022-05-20T13:37:59.015Z"
   },
   {
    "duration": 170,
    "start_time": "2022-05-20T13:40:28.091Z"
   },
   {
    "duration": 323,
    "start_time": "2022-05-20T13:41:20.816Z"
   },
   {
    "duration": 550,
    "start_time": "2022-05-20T13:43:23.023Z"
   },
   {
    "duration": 38,
    "start_time": "2022-05-20T13:49:23.156Z"
   },
   {
    "duration": 169,
    "start_time": "2022-05-20T13:49:44.097Z"
   },
   {
    "duration": 170,
    "start_time": "2022-05-20T13:50:02.283Z"
   },
   {
    "duration": 48,
    "start_time": "2022-05-20T13:51:15.699Z"
   },
   {
    "duration": 21,
    "start_time": "2022-05-20T13:51:45.026Z"
   },
   {
    "duration": 30,
    "start_time": "2022-05-20T13:52:02.394Z"
   },
   {
    "duration": 43,
    "start_time": "2022-05-20T13:55:34.414Z"
   },
   {
    "duration": 513,
    "start_time": "2022-05-20T13:55:38.224Z"
   },
   {
    "duration": 174,
    "start_time": "2022-05-20T13:56:19.677Z"
   },
   {
    "duration": 124,
    "start_time": "2022-05-20T13:56:44.642Z"
   },
   {
    "duration": 159,
    "start_time": "2022-05-20T13:56:46.538Z"
   },
   {
    "duration": 508,
    "start_time": "2022-05-20T14:01:09.898Z"
   },
   {
    "duration": 28,
    "start_time": "2022-05-20T14:06:54.860Z"
   },
   {
    "duration": 43,
    "start_time": "2022-05-20T14:07:44.883Z"
   },
   {
    "duration": 147,
    "start_time": "2022-05-20T14:07:47.418Z"
   },
   {
    "duration": 9,
    "start_time": "2022-05-20T14:08:09.425Z"
   },
   {
    "duration": 9,
    "start_time": "2022-05-20T14:08:14.717Z"
   },
   {
    "duration": 38,
    "start_time": "2022-05-20T14:08:42.460Z"
   },
   {
    "duration": 23,
    "start_time": "2022-05-20T14:08:49.778Z"
   },
   {
    "duration": 24,
    "start_time": "2022-05-20T14:09:55.433Z"
   },
   {
    "duration": 18,
    "start_time": "2022-05-20T14:10:23.459Z"
   },
   {
    "duration": 5,
    "start_time": "2022-05-20T14:10:45.518Z"
   },
   {
    "duration": 6,
    "start_time": "2022-05-20T14:11:09.021Z"
   },
   {
    "duration": 10,
    "start_time": "2022-05-20T14:11:22.677Z"
   },
   {
    "duration": 30,
    "start_time": "2022-05-20T14:12:50.471Z"
   },
   {
    "duration": 151,
    "start_time": "2022-05-20T14:13:05.742Z"
   },
   {
    "duration": 176,
    "start_time": "2022-05-20T14:15:16.689Z"
   },
   {
    "duration": 1173,
    "start_time": "2022-05-20T14:20:17.374Z"
   },
   {
    "duration": 969,
    "start_time": "2022-05-20T14:23:03.718Z"
   },
   {
    "duration": 488,
    "start_time": "2022-05-20T14:23:25.559Z"
   },
   {
    "duration": 20,
    "start_time": "2022-05-20T14:23:55.496Z"
   },
   {
    "duration": 4,
    "start_time": "2022-05-20T14:24:14.424Z"
   },
   {
    "duration": 4,
    "start_time": "2022-05-20T14:25:12.620Z"
   },
   {
    "duration": 4,
    "start_time": "2022-05-20T14:25:25.224Z"
   },
   {
    "duration": 5,
    "start_time": "2022-05-20T14:25:38.510Z"
   },
   {
    "duration": 5,
    "start_time": "2022-05-20T14:25:55.580Z"
   },
   {
    "duration": 1058,
    "start_time": "2022-05-20T14:26:34.261Z"
   },
   {
    "duration": 5,
    "start_time": "2022-05-20T14:26:53.654Z"
   },
   {
    "duration": 353,
    "start_time": "2022-05-20T14:27:44.210Z"
   },
   {
    "duration": 395,
    "start_time": "2022-05-20T14:28:33.514Z"
   },
   {
    "duration": 4,
    "start_time": "2022-05-20T14:28:45.173Z"
   },
   {
    "duration": 1060,
    "start_time": "2022-05-20T14:28:50.680Z"
   },
   {
    "duration": 5,
    "start_time": "2022-05-20T14:29:00.660Z"
   },
   {
    "duration": 508,
    "start_time": "2022-05-20T14:29:50.409Z"
   },
   {
    "duration": 5,
    "start_time": "2022-05-20T14:29:54.673Z"
   },
   {
    "duration": 510,
    "start_time": "2022-05-20T14:30:34.608Z"
   },
   {
    "duration": 42,
    "start_time": "2022-05-20T14:32:11.312Z"
   },
   {
    "duration": 13,
    "start_time": "2022-05-20T14:32:24.078Z"
   },
   {
    "duration": 38,
    "start_time": "2022-05-20T14:32:41.454Z"
   },
   {
    "duration": 8,
    "start_time": "2022-05-20T14:32:57.498Z"
   },
   {
    "duration": 6,
    "start_time": "2022-05-20T14:33:06.224Z"
   },
   {
    "duration": 36,
    "start_time": "2022-05-20T14:33:17.044Z"
   },
   {
    "duration": 586,
    "start_time": "2022-05-20T14:34:16.994Z"
   },
   {
    "duration": 42,
    "start_time": "2022-05-20T14:34:25.936Z"
   },
   {
    "duration": 32,
    "start_time": "2022-05-20T14:35:47.449Z"
   },
   {
    "duration": 9,
    "start_time": "2022-05-20T14:35:52.672Z"
   },
   {
    "duration": 51,
    "start_time": "2022-05-20T14:35:58.974Z"
   },
   {
    "duration": 75,
    "start_time": "2022-05-20T14:39:37.509Z"
   },
   {
    "duration": 19,
    "start_time": "2022-05-20T14:39:55.541Z"
   },
   {
    "duration": 549,
    "start_time": "2022-05-20T14:40:07.960Z"
   },
   {
    "duration": 1010,
    "start_time": "2022-05-20T15:05:02.775Z"
   },
   {
    "duration": 59,
    "start_time": "2022-05-20T15:05:07.520Z"
   },
   {
    "duration": 137,
    "start_time": "2022-05-20T15:05:09.237Z"
   },
   {
    "duration": 302,
    "start_time": "2022-05-20T15:05:15.761Z"
   },
   {
    "duration": 370,
    "start_time": "2022-05-20T15:05:22.377Z"
   },
   {
    "duration": 578,
    "start_time": "2022-05-20T15:05:24.695Z"
   },
   {
    "duration": 164,
    "start_time": "2022-05-20T15:05:39.820Z"
   },
   {
    "duration": 229,
    "start_time": "2022-05-20T15:05:44.114Z"
   },
   {
    "duration": 778,
    "start_time": "2022-05-20T15:05:52.846Z"
   },
   {
    "duration": 128,
    "start_time": "2022-05-20T15:06:01.658Z"
   },
   {
    "duration": 173,
    "start_time": "2022-05-20T15:06:05.752Z"
   },
   {
    "duration": 161,
    "start_time": "2022-05-20T15:07:16.659Z"
   },
   {
    "duration": 121,
    "start_time": "2022-05-20T15:08:21.321Z"
   },
   {
    "duration": 722,
    "start_time": "2022-05-20T15:10:45.192Z"
   },
   {
    "duration": 719,
    "start_time": "2022-05-20T15:10:45.916Z"
   },
   {
    "duration": 26,
    "start_time": "2022-05-20T15:10:46.637Z"
   },
   {
    "duration": 85,
    "start_time": "2022-05-20T15:10:46.665Z"
   },
   {
    "duration": 134,
    "start_time": "2022-05-20T15:10:46.752Z"
   },
   {
    "duration": 392,
    "start_time": "2022-05-20T15:10:46.895Z"
   },
   {
    "duration": 451,
    "start_time": "2022-05-20T15:10:47.288Z"
   },
   {
    "duration": 538,
    "start_time": "2022-05-20T15:10:47.741Z"
   },
   {
    "duration": 182,
    "start_time": "2022-05-20T15:10:48.281Z"
   },
   {
    "duration": 168,
    "start_time": "2022-05-20T15:10:48.465Z"
   },
   {
    "duration": 871,
    "start_time": "2022-05-20T15:10:48.635Z"
   },
   {
    "duration": 120,
    "start_time": "2022-05-20T15:10:49.512Z"
   },
   {
    "duration": 171,
    "start_time": "2022-05-20T15:10:49.634Z"
   },
   {
    "duration": 84,
    "start_time": "2022-05-20T15:15:17.448Z"
   },
   {
    "duration": 34,
    "start_time": "2022-05-20T15:15:40.289Z"
   },
   {
    "duration": 9,
    "start_time": "2022-05-20T15:18:15.334Z"
   },
   {
    "duration": 1543,
    "start_time": "2022-05-20T15:19:36.981Z"
   },
   {
    "duration": 1161,
    "start_time": "2022-05-20T15:19:56.903Z"
   },
   {
    "duration": 1204,
    "start_time": "2022-05-20T15:20:36.664Z"
   },
   {
    "duration": 29,
    "start_time": "2022-05-20T15:23:54.955Z"
   },
   {
    "duration": 31,
    "start_time": "2022-05-20T15:24:24.514Z"
   },
   {
    "duration": 8,
    "start_time": "2022-05-20T15:24:35.777Z"
   },
   {
    "duration": 7,
    "start_time": "2022-05-20T15:24:45.909Z"
   },
   {
    "duration": 8,
    "start_time": "2022-05-20T15:27:24.082Z"
   },
   {
    "duration": 48,
    "start_time": "2022-05-20T15:27:58.870Z"
   },
   {
    "duration": 143,
    "start_time": "2022-05-20T15:29:00.322Z"
   },
   {
    "duration": 173,
    "start_time": "2022-05-20T15:29:15.787Z"
   },
   {
    "duration": 201,
    "start_time": "2022-05-20T15:29:30.062Z"
   },
   {
    "duration": 163,
    "start_time": "2022-05-20T15:29:58.526Z"
   },
   {
    "duration": 379,
    "start_time": "2022-05-20T15:30:04.168Z"
   },
   {
    "duration": 495,
    "start_time": "2022-05-20T15:30:20.924Z"
   },
   {
    "duration": 716,
    "start_time": "2022-05-20T15:30:24.873Z"
   },
   {
    "duration": 6,
    "start_time": "2022-05-20T15:32:19.487Z"
   },
   {
    "duration": 755,
    "start_time": "2022-05-20T15:33:43.923Z"
   },
   {
    "duration": 641,
    "start_time": "2022-05-20T15:33:54.784Z"
   },
   {
    "duration": 1276,
    "start_time": "2022-05-20T15:34:07.142Z"
   },
   {
    "duration": 10,
    "start_time": "2022-05-20T15:36:21.484Z"
   },
   {
    "duration": 274,
    "start_time": "2022-05-20T15:37:48.586Z"
   },
   {
    "duration": 6,
    "start_time": "2022-05-20T15:37:58.283Z"
   },
   {
    "duration": 22,
    "start_time": "2022-05-20T15:38:45.188Z"
   },
   {
    "duration": 15,
    "start_time": "2022-05-20T15:39:13.661Z"
   },
   {
    "duration": 1322,
    "start_time": "2022-05-20T15:39:20.789Z"
   },
   {
    "duration": 258,
    "start_time": "2022-05-20T15:39:32.230Z"
   },
   {
    "duration": 315,
    "start_time": "2022-05-20T15:39:37.995Z"
   },
   {
    "duration": 243,
    "start_time": "2022-05-20T15:41:44.936Z"
   },
   {
    "duration": 1213,
    "start_time": "2022-05-20T15:41:51.208Z"
   },
   {
    "duration": 2345,
    "start_time": "2022-05-20T15:42:20.665Z"
   },
   {
    "duration": 739,
    "start_time": "2022-05-20T15:43:17.087Z"
   },
   {
    "duration": 8,
    "start_time": "2022-05-20T15:43:26.520Z"
   },
   {
    "duration": 471,
    "start_time": "2022-05-20T15:45:42.607Z"
   },
   {
    "duration": 8,
    "start_time": "2022-05-20T15:45:56.619Z"
   },
   {
    "duration": 7,
    "start_time": "2022-05-20T15:46:15.123Z"
   },
   {
    "duration": 9,
    "start_time": "2022-05-20T15:46:22.559Z"
   },
   {
    "duration": 48,
    "start_time": "2022-05-20T15:46:41.565Z"
   },
   {
    "duration": 2621,
    "start_time": "2022-05-20T15:46:46.810Z"
   },
   {
    "duration": 165,
    "start_time": "2022-05-20T15:47:00.805Z"
   },
   {
    "duration": 666,
    "start_time": "2022-05-20T15:48:03.882Z"
   },
   {
    "duration": 34,
    "start_time": "2022-05-20T15:48:25.616Z"
   },
   {
    "duration": 1554,
    "start_time": "2022-05-20T15:48:34.819Z"
   },
   {
    "duration": 9,
    "start_time": "2022-05-20T15:49:32.143Z"
   },
   {
    "duration": 8,
    "start_time": "2022-05-20T15:49:40.525Z"
   },
   {
    "duration": 10,
    "start_time": "2022-05-20T15:49:44.223Z"
   },
   {
    "duration": 11,
    "start_time": "2022-05-20T15:49:48.013Z"
   },
   {
    "duration": 9,
    "start_time": "2022-05-20T15:52:27.761Z"
   },
   {
    "duration": 15,
    "start_time": "2022-05-20T15:54:13.800Z"
   },
   {
    "duration": 11,
    "start_time": "2022-05-20T15:54:18.675Z"
   },
   {
    "duration": 10,
    "start_time": "2022-05-20T15:54:23.515Z"
   },
   {
    "duration": 11,
    "start_time": "2022-05-20T15:54:26.892Z"
   },
   {
    "duration": 11,
    "start_time": "2022-05-20T15:56:15.113Z"
   },
   {
    "duration": 61,
    "start_time": "2022-05-20T15:56:15.910Z"
   },
   {
    "duration": 51,
    "start_time": "2022-05-20T15:56:23.840Z"
   },
   {
    "duration": 14,
    "start_time": "2022-05-20T15:57:16.871Z"
   },
   {
    "duration": 19,
    "start_time": "2022-05-20T15:57:24.790Z"
   },
   {
    "duration": 13,
    "start_time": "2022-05-20T15:57:32.117Z"
   },
   {
    "duration": 10,
    "start_time": "2022-05-20T15:57:37.313Z"
   },
   {
    "duration": 10,
    "start_time": "2022-05-20T15:58:27.214Z"
   },
   {
    "duration": 11,
    "start_time": "2022-05-20T16:00:11.204Z"
   },
   {
    "duration": 8,
    "start_time": "2022-05-20T16:00:46.311Z"
   },
   {
    "duration": 8,
    "start_time": "2022-05-20T16:00:58.630Z"
   },
   {
    "duration": 7,
    "start_time": "2022-05-20T16:02:27.482Z"
   },
   {
    "duration": 15,
    "start_time": "2022-05-20T16:03:57.868Z"
   },
   {
    "duration": 14,
    "start_time": "2022-05-20T16:04:03.529Z"
   },
   {
    "duration": 13,
    "start_time": "2022-05-20T16:04:21.534Z"
   },
   {
    "duration": 669,
    "start_time": "2022-05-20T16:14:01.011Z"
   },
   {
    "duration": 691,
    "start_time": "2022-05-20T16:14:01.682Z"
   },
   {
    "duration": 36,
    "start_time": "2022-05-20T16:14:02.374Z"
   },
   {
    "duration": 76,
    "start_time": "2022-05-20T16:14:02.412Z"
   },
   {
    "duration": 130,
    "start_time": "2022-05-20T16:14:02.490Z"
   },
   {
    "duration": 330,
    "start_time": "2022-05-20T16:14:02.621Z"
   },
   {
    "duration": 380,
    "start_time": "2022-05-20T16:14:02.953Z"
   },
   {
    "duration": 495,
    "start_time": "2022-05-20T16:14:03.335Z"
   },
   {
    "duration": 154,
    "start_time": "2022-05-20T16:14:03.831Z"
   },
   {
    "duration": 157,
    "start_time": "2022-05-20T16:14:03.986Z"
   },
   {
    "duration": 740,
    "start_time": "2022-05-20T16:14:04.144Z"
   },
   {
    "duration": 144,
    "start_time": "2022-05-20T16:14:04.886Z"
   },
   {
    "duration": 149,
    "start_time": "2022-05-20T16:14:05.031Z"
   },
   {
    "duration": 1168,
    "start_time": "2022-05-20T16:14:05.182Z"
   },
   {
    "duration": 1292,
    "start_time": "2022-05-20T16:14:06.352Z"
   },
   {
    "duration": 8,
    "start_time": "2022-05-20T16:14:07.646Z"
   },
   {
    "duration": 8,
    "start_time": "2022-05-20T16:14:07.656Z"
   },
   {
    "duration": 43,
    "start_time": "2022-05-20T16:14:07.666Z"
   },
   {
    "duration": 2543,
    "start_time": "2022-05-20T16:14:07.710Z"
   },
   {
    "duration": 15,
    "start_time": "2022-05-20T16:14:10.255Z"
   },
   {
    "duration": 30,
    "start_time": "2022-05-20T16:14:10.272Z"
   },
   {
    "duration": 51,
    "start_time": "2022-05-20T16:14:10.303Z"
   },
   {
    "duration": 45,
    "start_time": "2022-05-20T16:19:17.723Z"
   },
   {
    "duration": 22,
    "start_time": "2022-05-20T16:19:46.797Z"
   },
   {
    "duration": 91,
    "start_time": "2022-05-20T16:19:53.485Z"
   },
   {
    "duration": 22,
    "start_time": "2022-05-20T16:20:01.739Z"
   },
   {
    "duration": 15,
    "start_time": "2022-05-20T16:20:12.014Z"
   },
   {
    "duration": 26,
    "start_time": "2022-05-20T16:21:16.557Z"
   },
   {
    "duration": 63,
    "start_time": "2022-05-20T16:22:52.116Z"
   },
   {
    "duration": 15,
    "start_time": "2022-05-20T16:23:03.152Z"
   },
   {
    "duration": 32,
    "start_time": "2022-05-20T16:23:19.024Z"
   },
   {
    "duration": 45,
    "start_time": "2022-05-20T16:23:29.225Z"
   },
   {
    "duration": 31,
    "start_time": "2022-05-20T16:23:40.921Z"
   },
   {
    "duration": 653,
    "start_time": "2022-05-20T16:24:04.043Z"
   },
   {
    "duration": 674,
    "start_time": "2022-05-20T16:24:04.701Z"
   },
   {
    "duration": 35,
    "start_time": "2022-05-20T16:24:05.376Z"
   },
   {
    "duration": 73,
    "start_time": "2022-05-20T16:24:05.415Z"
   },
   {
    "duration": 125,
    "start_time": "2022-05-20T16:24:05.489Z"
   },
   {
    "duration": 318,
    "start_time": "2022-05-20T16:24:05.616Z"
   },
   {
    "duration": 389,
    "start_time": "2022-05-20T16:24:05.936Z"
   },
   {
    "duration": 502,
    "start_time": "2022-05-20T16:24:06.326Z"
   },
   {
    "duration": 172,
    "start_time": "2022-05-20T16:24:06.830Z"
   },
   {
    "duration": 147,
    "start_time": "2022-05-20T16:24:07.004Z"
   },
   {
    "duration": 737,
    "start_time": "2022-05-20T16:24:07.153Z"
   },
   {
    "duration": 142,
    "start_time": "2022-05-20T16:24:07.892Z"
   },
   {
    "duration": 152,
    "start_time": "2022-05-20T16:24:08.037Z"
   },
   {
    "duration": 141,
    "start_time": "2022-05-20T16:24:08.194Z"
   },
   {
    "duration": 1214,
    "start_time": "2022-05-20T16:24:08.336Z"
   },
   {
    "duration": 1325,
    "start_time": "2022-05-20T16:24:09.552Z"
   },
   {
    "duration": 21,
    "start_time": "2022-05-20T16:24:10.878Z"
   },
   {
    "duration": 12,
    "start_time": "2022-05-20T16:24:10.901Z"
   },
   {
    "duration": 14,
    "start_time": "2022-05-20T16:24:10.914Z"
   },
   {
    "duration": 2325,
    "start_time": "2022-05-20T16:24:10.929Z"
   },
   {
    "duration": 13,
    "start_time": "2022-05-20T16:24:13.257Z"
   },
   {
    "duration": 26,
    "start_time": "2022-05-20T16:24:13.272Z"
   },
   {
    "duration": 45,
    "start_time": "2022-05-20T16:24:13.303Z"
   },
   {
    "duration": 740,
    "start_time": "2022-05-20T16:25:23.664Z"
   },
   {
    "duration": 777,
    "start_time": "2022-05-20T16:25:24.413Z"
   },
   {
    "duration": 44,
    "start_time": "2022-05-20T16:25:25.193Z"
   },
   {
    "duration": 86,
    "start_time": "2022-05-20T16:25:25.239Z"
   },
   {
    "duration": 249,
    "start_time": "2022-05-20T16:25:25.328Z"
   },
   {
    "duration": 381,
    "start_time": "2022-05-20T16:25:26.531Z"
   },
   {
    "duration": 413,
    "start_time": "2022-05-20T16:25:27.937Z"
   },
   {
    "duration": 509,
    "start_time": "2022-05-20T16:25:29.035Z"
   },
   {
    "duration": 169,
    "start_time": "2022-05-20T16:25:30.175Z"
   },
   {
    "duration": 156,
    "start_time": "2022-05-20T16:25:31.058Z"
   },
   {
    "duration": 767,
    "start_time": "2022-05-20T16:25:31.673Z"
   },
   {
    "duration": 167,
    "start_time": "2022-05-20T16:25:32.443Z"
   },
   {
    "duration": 166,
    "start_time": "2022-05-20T16:25:32.814Z"
   },
   {
    "duration": 143,
    "start_time": "2022-05-20T16:25:36.880Z"
   },
   {
    "duration": 1139,
    "start_time": "2022-05-20T16:25:39.232Z"
   },
   {
    "duration": 1236,
    "start_time": "2022-05-20T16:25:44.779Z"
   },
   {
    "duration": 8,
    "start_time": "2022-05-20T16:25:52.745Z"
   },
   {
    "duration": 9,
    "start_time": "2022-05-20T16:25:57.469Z"
   },
   {
    "duration": 9,
    "start_time": "2022-05-20T16:26:02.456Z"
   },
   {
    "duration": 8,
    "start_time": "2022-05-20T16:26:10.382Z"
   },
   {
    "duration": 10,
    "start_time": "2022-05-20T16:26:15.126Z"
   },
   {
    "duration": 11,
    "start_time": "2022-05-20T16:26:26.686Z"
   },
   {
    "duration": 8,
    "start_time": "2022-05-20T16:28:03.744Z"
   },
   {
    "duration": 12,
    "start_time": "2022-05-20T16:28:58.723Z"
   },
   {
    "duration": 9,
    "start_time": "2022-05-20T16:29:03.277Z"
   },
   {
    "duration": 2464,
    "start_time": "2022-05-20T16:29:16.989Z"
   },
   {
    "duration": 15,
    "start_time": "2022-05-20T16:29:20.868Z"
   },
   {
    "duration": 14,
    "start_time": "2022-05-20T16:29:28.556Z"
   },
   {
    "duration": 16,
    "start_time": "2022-05-20T16:29:34.413Z"
   },
   {
    "duration": 2330,
    "start_time": "2022-05-20T16:32:14.119Z"
   },
   {
    "duration": 2377,
    "start_time": "2022-05-20T16:32:26.283Z"
   },
   {
    "duration": 2301,
    "start_time": "2022-05-20T16:32:36.407Z"
   },
   {
    "duration": 14,
    "start_time": "2022-05-20T16:33:17.158Z"
   },
   {
    "duration": 13,
    "start_time": "2022-05-20T16:33:18.433Z"
   },
   {
    "duration": 15,
    "start_time": "2022-05-20T16:33:20.938Z"
   },
   {
    "duration": 91,
    "start_time": "2022-05-20T16:33:36.644Z"
   },
   {
    "duration": 20,
    "start_time": "2022-05-20T16:34:39.287Z"
   },
   {
    "duration": 8,
    "start_time": "2022-05-20T16:34:43.274Z"
   },
   {
    "duration": 50,
    "start_time": "2022-05-20T16:41:50.261Z"
   },
   {
    "duration": 3,
    "start_time": "2022-05-20T16:42:20.356Z"
   },
   {
    "duration": 902,
    "start_time": "2022-05-21T13:22:54.173Z"
   },
   {
    "duration": 921,
    "start_time": "2022-05-21T13:22:55.078Z"
   },
   {
    "duration": 28,
    "start_time": "2022-05-21T13:22:56.001Z"
   },
   {
    "duration": 579,
    "start_time": "2022-05-21T13:22:56.031Z"
   },
   {
    "duration": 136,
    "start_time": "2022-05-21T13:22:56.613Z"
   },
   {
    "duration": 67,
    "start_time": "2022-05-21T13:22:56.751Z"
   },
   {
    "duration": 354,
    "start_time": "2022-05-21T13:22:56.820Z"
   },
   {
    "duration": 399,
    "start_time": "2022-05-21T13:22:57.175Z"
   },
   {
    "duration": 169,
    "start_time": "2022-05-21T13:22:57.576Z"
   },
   {
    "duration": 130,
    "start_time": "2022-05-21T13:22:57.747Z"
   },
   {
    "duration": 42,
    "start_time": "2022-05-21T13:22:57.879Z"
   },
   {
    "duration": 741,
    "start_time": "2022-05-21T13:22:57.923Z"
   },
   {
    "duration": 152,
    "start_time": "2022-05-21T13:22:58.666Z"
   },
   {
    "duration": 188,
    "start_time": "2022-05-21T13:22:58.821Z"
   },
   {
    "duration": 179,
    "start_time": "2022-05-21T13:22:59.011Z"
   },
   {
    "duration": 1309,
    "start_time": "2022-05-21T13:22:59.192Z"
   },
   {
    "duration": 1478,
    "start_time": "2022-05-21T13:23:00.503Z"
   },
   {
    "duration": 9,
    "start_time": "2022-05-21T13:23:01.983Z"
   },
   {
    "duration": 10,
    "start_time": "2022-05-21T13:23:01.994Z"
   },
   {
    "duration": 13,
    "start_time": "2022-05-21T13:23:02.006Z"
   },
   {
    "duration": 2759,
    "start_time": "2022-05-21T13:23:02.021Z"
   },
   {
    "duration": 15,
    "start_time": "2022-05-21T13:23:04.782Z"
   },
   {
    "duration": 11,
    "start_time": "2022-05-21T13:23:04.799Z"
   },
   {
    "duration": 24,
    "start_time": "2022-05-21T13:23:38.255Z"
   },
   {
    "duration": 117,
    "start_time": "2022-05-21T13:23:56.293Z"
   },
   {
    "duration": 107,
    "start_time": "2022-05-21T13:25:02.875Z"
   },
   {
    "duration": 23,
    "start_time": "2022-05-21T13:25:16.606Z"
   },
   {
    "duration": 111,
    "start_time": "2022-05-21T13:25:17.853Z"
   },
   {
    "duration": 468,
    "start_time": "2022-05-21T13:26:17.912Z"
   },
   {
    "duration": 25,
    "start_time": "2022-05-21T13:28:46.440Z"
   },
   {
    "duration": 105,
    "start_time": "2022-05-21T13:29:27.991Z"
   },
   {
    "duration": 1033,
    "start_time": "2022-05-21T13:37:03.663Z"
   },
   {
    "duration": 100,
    "start_time": "2022-05-21T13:43:15.380Z"
   },
   {
    "duration": 34,
    "start_time": "2022-05-21T13:46:32.721Z"
   },
   {
    "duration": 61,
    "start_time": "2022-05-21T13:47:20.069Z"
   },
   {
    "duration": 4,
    "start_time": "2022-05-21T13:47:44.912Z"
   },
   {
    "duration": 17,
    "start_time": "2022-05-21T13:48:11.087Z"
   },
   {
    "duration": 77,
    "start_time": "2022-05-21T13:50:58.071Z"
   },
   {
    "duration": 63,
    "start_time": "2022-05-21T13:52:27.751Z"
   },
   {
    "duration": 69,
    "start_time": "2022-05-21T13:53:03.667Z"
   },
   {
    "duration": 352,
    "start_time": "2022-05-21T13:55:39.892Z"
   },
   {
    "duration": 26,
    "start_time": "2022-05-21T13:56:40.706Z"
   },
   {
    "duration": 62,
    "start_time": "2022-05-21T13:57:48.578Z"
   },
   {
    "duration": 73,
    "start_time": "2022-05-21T13:58:17.343Z"
   },
   {
    "duration": 375,
    "start_time": "2022-05-21T14:02:55.197Z"
   },
   {
    "duration": 521,
    "start_time": "2022-05-21T14:05:42.359Z"
   },
   {
    "duration": 376,
    "start_time": "2022-05-21T14:05:56.490Z"
   },
   {
    "duration": 50,
    "start_time": "2022-05-21T14:07:03.252Z"
   },
   {
    "duration": 1253,
    "start_time": "2022-05-21T14:07:40.054Z"
   },
   {
    "duration": 745,
    "start_time": "2022-05-21T14:07:41.308Z"
   },
   {
    "duration": 30,
    "start_time": "2022-05-21T14:07:42.054Z"
   },
   {
    "duration": 568,
    "start_time": "2022-05-21T14:07:42.086Z"
   },
   {
    "duration": 140,
    "start_time": "2022-05-21T14:07:42.656Z"
   },
   {
    "duration": 86,
    "start_time": "2022-05-21T14:07:42.798Z"
   },
   {
    "duration": 375,
    "start_time": "2022-05-21T14:07:42.886Z"
   },
   {
    "duration": 415,
    "start_time": "2022-05-21T14:07:43.262Z"
   },
   {
    "duration": 167,
    "start_time": "2022-05-21T14:07:43.679Z"
   },
   {
    "duration": 140,
    "start_time": "2022-05-21T14:07:43.849Z"
   },
   {
    "duration": 46,
    "start_time": "2022-05-21T14:07:43.991Z"
   },
   {
    "duration": 774,
    "start_time": "2022-05-21T14:07:44.038Z"
   },
   {
    "duration": 164,
    "start_time": "2022-05-21T14:07:44.814Z"
   },
   {
    "duration": 165,
    "start_time": "2022-05-21T14:07:44.980Z"
   },
   {
    "duration": 157,
    "start_time": "2022-05-21T14:07:45.147Z"
   },
   {
    "duration": 1414,
    "start_time": "2022-05-21T14:07:45.306Z"
   },
   {
    "duration": 1493,
    "start_time": "2022-05-21T14:07:46.722Z"
   },
   {
    "duration": 9,
    "start_time": "2022-05-21T14:07:48.217Z"
   },
   {
    "duration": 14,
    "start_time": "2022-05-21T14:07:48.228Z"
   },
   {
    "duration": 29,
    "start_time": "2022-05-21T14:07:48.244Z"
   },
   {
    "duration": 2980,
    "start_time": "2022-05-21T14:07:48.275Z"
   },
   {
    "duration": 19,
    "start_time": "2022-05-21T14:07:51.257Z"
   },
   {
    "duration": 9,
    "start_time": "2022-05-21T14:07:51.279Z"
   },
   {
    "duration": 24,
    "start_time": "2022-05-21T14:07:51.290Z"
   },
   {
    "duration": 135,
    "start_time": "2022-05-21T14:07:51.316Z"
   },
   {
    "duration": 201,
    "start_time": "2022-05-21T14:07:51.453Z"
   },
   {
    "duration": 458,
    "start_time": "2022-05-21T14:10:35.908Z"
   },
   {
    "duration": 465,
    "start_time": "2022-05-21T14:11:25.688Z"
   },
   {
    "duration": 1850,
    "start_time": "2022-05-21T14:12:03.968Z"
   },
   {
    "duration": 1801,
    "start_time": "2022-05-21T14:13:02.784Z"
   },
   {
    "duration": 29,
    "start_time": "2022-05-21T14:13:26.863Z"
   },
   {
    "duration": 1785,
    "start_time": "2022-05-21T14:13:33.409Z"
   },
   {
    "duration": 1891,
    "start_time": "2022-05-21T14:13:37.977Z"
   },
   {
    "duration": 11,
    "start_time": "2022-05-21T14:13:45.463Z"
   },
   {
    "duration": 5,
    "start_time": "2022-05-21T14:14:02.364Z"
   },
   {
    "duration": 2312,
    "start_time": "2022-05-21T14:16:39.980Z"
   },
   {
    "duration": 1832,
    "start_time": "2022-05-21T14:17:09.976Z"
   },
   {
    "duration": 2274,
    "start_time": "2022-05-21T14:17:11.810Z"
   },
   {
    "duration": 2410,
    "start_time": "2022-05-21T14:17:57.851Z"
   },
   {
    "duration": 23,
    "start_time": "2022-05-21T14:20:16.983Z"
   },
   {
    "duration": 4,
    "start_time": "2022-05-21T14:21:17.591Z"
   },
   {
    "duration": 17869,
    "start_time": "2022-05-21T14:25:44.298Z"
   },
   {
    "duration": 46,
    "start_time": "2022-05-21T14:26:29.919Z"
   },
   {
    "duration": 3,
    "start_time": "2022-05-21T14:35:16.473Z"
   },
   {
    "duration": 4,
    "start_time": "2022-05-21T14:35:22.448Z"
   },
   {
    "duration": 10876,
    "start_time": "2022-05-21T14:35:34.786Z"
   },
   {
    "duration": 41,
    "start_time": "2022-05-21T14:37:23.186Z"
   },
   {
    "duration": 45,
    "start_time": "2022-05-21T14:40:35.472Z"
   },
   {
    "duration": 5787,
    "start_time": "2022-05-21T14:40:45.957Z"
   },
   {
    "duration": 27,
    "start_time": "2022-05-21T14:50:49.526Z"
   },
   {
    "duration": 24,
    "start_time": "2022-05-21T14:51:33.475Z"
   },
   {
    "duration": 155687,
    "start_time": "2022-05-21T14:52:11.408Z"
   },
   {
    "duration": 2640351,
    "start_time": "2022-05-21T14:56:00.263Z"
   },
   {
    "duration": 1552970,
    "start_time": "2022-05-21T15:42:06.719Z"
   },
   {
    "duration": 274335,
    "start_time": "2022-05-21T16:09:27.341Z"
   },
   {
    "duration": 109147,
    "start_time": "2022-05-21T16:14:54.386Z"
   },
   {
    "duration": 161645,
    "start_time": "2022-05-21T16:17:24.043Z"
   },
   {
    "duration": 810732,
    "start_time": "2022-05-21T16:21:05.399Z"
   },
   {
    "duration": 1604854,
    "start_time": "2022-05-21T16:35:22.162Z"
   },
   {
    "duration": 11601,
    "start_time": "2022-05-21T17:09:00.581Z"
   },
   {
    "duration": 392,
    "start_time": "2022-05-21T17:13:12.857Z"
   },
   {
    "duration": 96883,
    "start_time": "2022-05-21T17:45:45.683Z"
   },
   {
    "duration": 16121,
    "start_time": "2022-05-21T17:51:44.448Z"
   },
   {
    "duration": 38487,
    "start_time": "2022-05-21T17:52:53.887Z"
   },
   {
    "duration": 57613,
    "start_time": "2022-05-21T17:55:17.469Z"
   },
   {
    "duration": 82964,
    "start_time": "2022-05-21T17:56:34.713Z"
   },
   {
    "duration": 190050,
    "start_time": "2022-05-21T17:58:14.622Z"
   },
   {
    "duration": 4175,
    "start_time": "2022-05-21T18:08:35.368Z"
   },
   {
    "duration": 9113,
    "start_time": "2022-05-21T18:09:16.752Z"
   },
   {
    "duration": 827592,
    "start_time": "2022-05-21T18:11:04.049Z"
   },
   {
    "duration": 1453,
    "start_time": "2022-05-23T11:37:47.938Z"
   },
   {
    "duration": 2569,
    "start_time": "2022-05-23T11:37:49.393Z"
   },
   {
    "duration": 26,
    "start_time": "2022-05-23T11:37:51.964Z"
   },
   {
    "duration": 517,
    "start_time": "2022-05-23T11:37:51.992Z"
   },
   {
    "duration": 134,
    "start_time": "2022-05-23T11:37:52.511Z"
   },
   {
    "duration": 73,
    "start_time": "2022-05-23T11:37:52.647Z"
   },
   {
    "duration": 364,
    "start_time": "2022-05-23T11:37:52.722Z"
   },
   {
    "duration": 402,
    "start_time": "2022-05-23T11:37:53.088Z"
   },
   {
    "duration": 159,
    "start_time": "2022-05-23T11:37:53.491Z"
   },
   {
    "duration": 146,
    "start_time": "2022-05-23T11:37:53.652Z"
   },
   {
    "duration": 50,
    "start_time": "2022-05-23T11:37:53.800Z"
   },
   {
    "duration": 788,
    "start_time": "2022-05-23T11:37:53.852Z"
   },
   {
    "duration": 157,
    "start_time": "2022-05-23T11:37:54.642Z"
   },
   {
    "duration": 151,
    "start_time": "2022-05-23T11:37:54.803Z"
   },
   {
    "duration": 207,
    "start_time": "2022-05-23T11:37:54.955Z"
   },
   {
    "duration": 1264,
    "start_time": "2022-05-23T11:37:55.164Z"
   },
   {
    "duration": 1387,
    "start_time": "2022-05-23T11:37:56.429Z"
   },
   {
    "duration": 10,
    "start_time": "2022-05-23T11:37:57.819Z"
   },
   {
    "duration": 9,
    "start_time": "2022-05-23T11:37:57.830Z"
   },
   {
    "duration": 16,
    "start_time": "2022-05-23T11:37:57.844Z"
   },
   {
    "duration": 2663,
    "start_time": "2022-05-23T11:37:57.862Z"
   },
   {
    "duration": 17,
    "start_time": "2022-05-23T11:38:00.527Z"
   },
   {
    "duration": 10,
    "start_time": "2022-05-23T11:38:00.546Z"
   },
   {
    "duration": 44,
    "start_time": "2022-05-23T11:38:00.557Z"
   },
   {
    "duration": 1968,
    "start_time": "2022-05-23T11:38:00.602Z"
   },
   {
    "duration": 2947,
    "start_time": "2022-05-23T11:38:02.572Z"
   },
   {
    "duration": 19472,
    "start_time": "2022-05-23T11:38:05.521Z"
   },
   {
    "duration": 108,
    "start_time": "2022-05-23T11:38:25.083Z"
   },
   {
    "duration": 5596347,
    "start_time": "2022-05-23T11:38:25.193Z"
   },
   {
    "duration": 1039061,
    "start_time": "2022-05-23T13:11:41.541Z"
   },
   {
    "duration": 47193,
    "start_time": "2022-05-23T13:29:00.604Z"
   },
   {
    "duration": 96693,
    "start_time": "2022-05-23T13:29:47.799Z"
   },
   {
    "duration": 6991,
    "start_time": "2022-05-23T13:31:24.494Z"
   },
   {
    "duration": 1019695,
    "start_time": "2022-05-23T13:31:31.490Z"
   },
   {
    "duration": 55,
    "start_time": "2022-05-23T13:48:31.187Z"
   },
   {
    "duration": 12,
    "start_time": "2022-05-23T13:48:31.244Z"
   },
   {
    "duration": 0,
    "start_time": "2022-05-23T13:48:31.257Z"
   },
   {
    "duration": 0,
    "start_time": "2022-05-23T13:48:31.259Z"
   },
   {
    "duration": 0,
    "start_time": "2022-05-23T13:48:31.260Z"
   },
   {
    "duration": 5545,
    "start_time": "2022-05-23T13:53:21.539Z"
   },
   {
    "duration": 579,
    "start_time": "2022-05-23T13:53:27.086Z"
   },
   {
    "duration": 97762,
    "start_time": "2022-05-23T13:54:19.830Z"
   },
   {
    "duration": 93374,
    "start_time": "2022-05-23T13:58:53.618Z"
   },
   {
    "duration": 3,
    "start_time": "2022-05-23T14:04:01.202Z"
   },
   {
    "duration": 90389,
    "start_time": "2022-05-23T14:04:04.904Z"
   },
   {
    "duration": 3,
    "start_time": "2022-05-23T14:11:44.814Z"
   },
   {
    "duration": 60123,
    "start_time": "2022-05-23T14:11:45.609Z"
   },
   {
    "duration": 4,
    "start_time": "2022-05-23T14:25:43.227Z"
   },
   {
    "duration": 122859,
    "start_time": "2022-05-23T14:25:44.252Z"
   },
   {
    "duration": 1724,
    "start_time": "2022-05-24T11:13:15.211Z"
   },
   {
    "duration": 1058,
    "start_time": "2022-05-24T11:13:16.937Z"
   },
   {
    "duration": 24,
    "start_time": "2022-05-24T11:13:17.997Z"
   },
   {
    "duration": 530,
    "start_time": "2022-05-24T11:13:18.023Z"
   },
   {
    "duration": 147,
    "start_time": "2022-05-24T11:13:18.555Z"
   },
   {
    "duration": 74,
    "start_time": "2022-05-24T11:13:18.703Z"
   },
   {
    "duration": 342,
    "start_time": "2022-05-24T11:13:19.618Z"
   },
   {
    "duration": 374,
    "start_time": "2022-05-24T11:13:20.487Z"
   },
   {
    "duration": 169,
    "start_time": "2022-05-24T11:13:21.258Z"
   },
   {
    "duration": 123,
    "start_time": "2022-05-24T11:13:22.438Z"
   },
   {
    "duration": 37,
    "start_time": "2022-05-24T11:13:23.183Z"
   },
   {
    "duration": 766,
    "start_time": "2022-05-24T11:13:24.175Z"
   },
   {
    "duration": 164,
    "start_time": "2022-05-24T11:13:24.944Z"
   },
   {
    "duration": 148,
    "start_time": "2022-05-24T11:13:26.386Z"
   },
   {
    "duration": 172,
    "start_time": "2022-05-24T11:13:27.260Z"
   },
   {
    "duration": 1487,
    "start_time": "2022-05-24T11:13:28.740Z"
   },
   {
    "duration": 1521,
    "start_time": "2022-05-24T11:13:30.683Z"
   },
   {
    "duration": 8,
    "start_time": "2022-05-24T11:13:32.315Z"
   },
   {
    "duration": 9,
    "start_time": "2022-05-24T11:13:33.494Z"
   },
   {
    "duration": 13,
    "start_time": "2022-05-24T11:13:34.357Z"
   },
   {
    "duration": 2789,
    "start_time": "2022-05-24T11:13:36.707Z"
   },
   {
    "duration": 13,
    "start_time": "2022-05-24T11:13:39.498Z"
   },
   {
    "duration": 8,
    "start_time": "2022-05-24T11:13:39.699Z"
   },
   {
    "duration": 21,
    "start_time": "2022-05-24T11:13:41.274Z"
   },
   {
    "duration": 1883,
    "start_time": "2022-05-24T11:13:43.244Z"
   },
   {
    "duration": 2651,
    "start_time": "2022-05-24T11:13:45.129Z"
   },
   {
    "duration": 19221,
    "start_time": "2022-05-24T11:13:49.339Z"
   },
   {
    "duration": 197,
    "start_time": "2022-05-24T11:14:08.562Z"
   },
   {
    "duration": 128,
    "start_time": "2022-05-24T11:15:11.276Z"
   },
   {
    "duration": 4,
    "start_time": "2022-05-24T11:15:16.309Z"
   },
   {
    "duration": 117547,
    "start_time": "2022-05-24T11:15:18.358Z"
   },
   {
    "duration": 4053,
    "start_time": "2022-05-24T11:17:15.906Z"
   },
   {
    "duration": 10,
    "start_time": "2022-05-24T11:19:09.492Z"
   },
   {
    "duration": 10,
    "start_time": "2022-05-24T11:19:39.140Z"
   },
   {
    "duration": 872291,
    "start_time": "2022-05-24T11:19:44.882Z"
   },
   {
    "duration": 50,
    "start_time": "2022-05-24T11:42:21.985Z"
   },
   {
    "duration": 24442,
    "start_time": "2022-05-24T11:42:34.449Z"
   },
   {
    "duration": 59,
    "start_time": "2022-05-24T11:45:50.276Z"
   },
   {
    "duration": 7,
    "start_time": "2022-05-24T11:46:03.074Z"
   },
   {
    "duration": 9,
    "start_time": "2022-05-24T11:46:24.991Z"
   },
   {
    "duration": 6,
    "start_time": "2022-05-24T11:46:31.772Z"
   },
   {
    "duration": 5,
    "start_time": "2022-05-24T11:46:46.425Z"
   },
   {
    "duration": 9,
    "start_time": "2022-05-24T11:48:26.644Z"
   },
   {
    "duration": 10,
    "start_time": "2022-05-24T11:49:52.887Z"
   },
   {
    "duration": 4,
    "start_time": "2022-05-24T11:52:02.386Z"
   },
   {
    "duration": 3,
    "start_time": "2022-05-24T11:53:01.127Z"
   },
   {
    "duration": 4,
    "start_time": "2022-05-24T11:53:43.862Z"
   },
   {
    "duration": 381494,
    "start_time": "2022-05-24T11:54:15.339Z"
   },
   {
    "duration": 61,
    "start_time": "2022-05-24T12:01:16.058Z"
   },
   {
    "duration": 125808,
    "start_time": "2022-05-24T12:04:07.479Z"
   },
   {
    "duration": 39,
    "start_time": "2022-05-24T12:06:36.250Z"
   },
   {
    "duration": 54747,
    "start_time": "2022-05-24T12:09:21.212Z"
   },
   {
    "duration": 81,
    "start_time": "2022-05-24T12:10:45.373Z"
   },
   {
    "duration": 220405,
    "start_time": "2022-05-24T12:10:51.017Z"
   },
   {
    "duration": 612954,
    "start_time": "2022-05-24T12:23:00.843Z"
   },
   {
    "duration": 1039277,
    "start_time": "2022-05-24T12:33:13.799Z"
   },
   {
    "duration": 1456,
    "start_time": "2022-05-24T12:50:33.078Z"
   },
   {
    "duration": 938062,
    "start_time": "2022-05-24T13:00:37.040Z"
   },
   {
    "duration": 1392,
    "start_time": "2022-05-24T13:18:07.651Z"
   },
   {
    "duration": 913,
    "start_time": "2022-05-24T13:23:03.966Z"
   },
   {
    "duration": 4607,
    "start_time": "2022-05-24T13:23:09.446Z"
   },
   {
    "duration": 50,
    "start_time": "2022-05-24T13:23:18.950Z"
   },
   {
    "duration": 914547,
    "start_time": "2022-05-24T13:23:32.855Z"
   },
   {
    "duration": 52,
    "start_time": "2022-05-24T13:38:47.404Z"
   },
   {
    "duration": 238261,
    "start_time": "2022-05-24T13:39:16.769Z"
   },
   {
    "duration": 600921,
    "start_time": "2022-05-24T13:43:38.777Z"
   },
   {
    "duration": 14843,
    "start_time": "2022-05-24T13:54:27.226Z"
   },
   {
    "duration": 125670,
    "start_time": "2022-05-24T13:55:00.001Z"
   },
   {
    "duration": 967164,
    "start_time": "2022-05-24T13:57:05.673Z"
   },
   {
    "duration": 1840,
    "start_time": "2022-05-24T14:13:12.839Z"
   }
  ],
  "kernelspec": {
   "display_name": "Python 3 (ipykernel)",
   "language": "python",
   "name": "python3"
  },
  "language_info": {
   "codemirror_mode": {
    "name": "ipython",
    "version": 3
   },
   "file_extension": ".py",
   "mimetype": "text/x-python",
   "name": "python",
   "nbconvert_exporter": "python",
   "pygments_lexer": "ipython3",
   "version": "3.9.5"
  },
  "toc": {
   "base_numbering": 1,
   "nav_menu": {},
   "number_sections": true,
   "sideBar": true,
   "skip_h1_title": true,
   "title_cell": "Table of Contents",
   "title_sidebar": "Contents",
   "toc_cell": false,
   "toc_position": {},
   "toc_section_display": true,
   "toc_window_display": false
  }
 },
 "nbformat": 4,
 "nbformat_minor": 2
}
