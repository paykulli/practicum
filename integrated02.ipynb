{
 "cells": [
  {
   "cell_type": "markdown",
   "metadata": {},
   "source": [
    "# Integrated Project 2\n",
    "In this project we prepare a prototype of a machine learning model for Zyfra. The company develops efficiency solutions for heavy industry.\n",
    "The model should predict the amount of gold recovered from gold ore. We have the data on extraction and purification.\n",
    "The model will help to optimize the production and eliminate unprofitable parameters."
   ]
  },
  {
   "cell_type": "markdown",
   "metadata": {},
   "source": [
    "## Data Preparation\n",
    "### Datasets\n",
    "Loading data files and viewing info."
   ]
  },
  {
   "cell_type": "code",
   "execution_count": 28,
   "metadata": {},
   "outputs": [],
   "source": [
    "import pandas as pd\n",
    "import numpy as np\n",
    "from sklearn.utils import shuffle\n",
    "from sklearn.dummy import DummyRegressor\n",
    "from sklearn.linear_model import LinearRegression\n",
    "from sklearn.ensemble import RandomForestRegressor\n",
    "from sklearn.metrics import mean_absolute_error\n",
    "import matplotlib.pyplot as plt"
   ]
  },
  {
   "cell_type": "code",
   "execution_count": 2,
   "metadata": {},
   "outputs": [],
   "source": [
    "try:\n",
    "    df_train = pd.read_csv('gold_recovery_train.csv')\n",
    "    df_test = pd.read_csv('gold_recovery_test.csv')\n",
    "    df_full = pd.read_csv('gold_recovery_full.csv')\n",
    "except:\n",
    "    df_train = pd.read_csv('/datasets/gold_recovery_train.csv')\n",
    "    df_test = pd.read_csv('/datasets/gold_recovery_test.csv')\n",
    "    df_full = pd.read_csv('/datasets/gold_recovery_full.csv')"
   ]
  },
  {
   "cell_type": "code",
   "execution_count": 3,
   "metadata": {
    "scrolled": true
   },
   "outputs": [
    {
     "name": "stdout",
     "output_type": "stream",
     "text": [
      "<class 'pandas.core.frame.DataFrame'>\n",
      "RangeIndex: 16860 entries, 0 to 16859\n",
      "Data columns (total 87 columns):\n",
      " #   Column                                              Non-Null Count  Dtype  \n",
      "---  ------                                              --------------  -----  \n",
      " 0   date                                                16860 non-null  object \n",
      " 1   final.output.concentrate_ag                         16788 non-null  float64\n",
      " 2   final.output.concentrate_pb                         16788 non-null  float64\n",
      " 3   final.output.concentrate_sol                        16490 non-null  float64\n",
      " 4   final.output.concentrate_au                         16789 non-null  float64\n",
      " 5   final.output.recovery                               15339 non-null  float64\n",
      " 6   final.output.tail_ag                                16794 non-null  float64\n",
      " 7   final.output.tail_pb                                16677 non-null  float64\n",
      " 8   final.output.tail_sol                               16715 non-null  float64\n",
      " 9   final.output.tail_au                                16794 non-null  float64\n",
      " 10  primary_cleaner.input.sulfate                       15553 non-null  float64\n",
      " 11  primary_cleaner.input.depressant                    15598 non-null  float64\n",
      " 12  primary_cleaner.input.feed_size                     16860 non-null  float64\n",
      " 13  primary_cleaner.input.xanthate                      15875 non-null  float64\n",
      " 14  primary_cleaner.output.concentrate_ag               16778 non-null  float64\n",
      " 15  primary_cleaner.output.concentrate_pb               16502 non-null  float64\n",
      " 16  primary_cleaner.output.concentrate_sol              16224 non-null  float64\n",
      " 17  primary_cleaner.output.concentrate_au               16778 non-null  float64\n",
      " 18  primary_cleaner.output.tail_ag                      16777 non-null  float64\n",
      " 19  primary_cleaner.output.tail_pb                      16761 non-null  float64\n",
      " 20  primary_cleaner.output.tail_sol                     16579 non-null  float64\n",
      " 21  primary_cleaner.output.tail_au                      16777 non-null  float64\n",
      " 22  primary_cleaner.state.floatbank8_a_air              16820 non-null  float64\n",
      " 23  primary_cleaner.state.floatbank8_a_level            16827 non-null  float64\n",
      " 24  primary_cleaner.state.floatbank8_b_air              16820 non-null  float64\n",
      " 25  primary_cleaner.state.floatbank8_b_level            16833 non-null  float64\n",
      " 26  primary_cleaner.state.floatbank8_c_air              16822 non-null  float64\n",
      " 27  primary_cleaner.state.floatbank8_c_level            16833 non-null  float64\n",
      " 28  primary_cleaner.state.floatbank8_d_air              16821 non-null  float64\n",
      " 29  primary_cleaner.state.floatbank8_d_level            16833 non-null  float64\n",
      " 30  rougher.calculation.sulfate_to_au_concentrate       16833 non-null  float64\n",
      " 31  rougher.calculation.floatbank10_sulfate_to_au_feed  16833 non-null  float64\n",
      " 32  rougher.calculation.floatbank11_sulfate_to_au_feed  16833 non-null  float64\n",
      " 33  rougher.calculation.au_pb_ratio                     15618 non-null  float64\n",
      " 34  rougher.input.feed_ag                               16778 non-null  float64\n",
      " 35  rougher.input.feed_pb                               16632 non-null  float64\n",
      " 36  rougher.input.feed_rate                             16347 non-null  float64\n",
      " 37  rougher.input.feed_size                             16443 non-null  float64\n",
      " 38  rougher.input.feed_sol                              16568 non-null  float64\n",
      " 39  rougher.input.feed_au                               16777 non-null  float64\n",
      " 40  rougher.input.floatbank10_sulfate                   15816 non-null  float64\n",
      " 41  rougher.input.floatbank10_xanthate                  16514 non-null  float64\n",
      " 42  rougher.input.floatbank11_sulfate                   16237 non-null  float64\n",
      " 43  rougher.input.floatbank11_xanthate                  14956 non-null  float64\n",
      " 44  rougher.output.concentrate_ag                       16778 non-null  float64\n",
      " 45  rougher.output.concentrate_pb                       16778 non-null  float64\n",
      " 46  rougher.output.concentrate_sol                      16698 non-null  float64\n",
      " 47  rougher.output.concentrate_au                       16778 non-null  float64\n",
      " 48  rougher.output.recovery                             14287 non-null  float64\n",
      " 49  rougher.output.tail_ag                              14610 non-null  float64\n",
      " 50  rougher.output.tail_pb                              16778 non-null  float64\n",
      " 51  rougher.output.tail_sol                             14611 non-null  float64\n",
      " 52  rougher.output.tail_au                              14611 non-null  float64\n",
      " 53  rougher.state.floatbank10_a_air                     16807 non-null  float64\n",
      " 54  rougher.state.floatbank10_a_level                   16807 non-null  float64\n",
      " 55  rougher.state.floatbank10_b_air                     16807 non-null  float64\n",
      " 56  rougher.state.floatbank10_b_level                   16807 non-null  float64\n",
      " 57  rougher.state.floatbank10_c_air                     16807 non-null  float64\n",
      " 58  rougher.state.floatbank10_c_level                   16814 non-null  float64\n",
      " 59  rougher.state.floatbank10_d_air                     16802 non-null  float64\n",
      " 60  rougher.state.floatbank10_d_level                   16809 non-null  float64\n",
      " 61  rougher.state.floatbank10_e_air                     16257 non-null  float64\n",
      " 62  rougher.state.floatbank10_e_level                   16809 non-null  float64\n",
      " 63  rougher.state.floatbank10_f_air                     16802 non-null  float64\n",
      " 64  rougher.state.floatbank10_f_level                   16802 non-null  float64\n",
      " 65  secondary_cleaner.output.tail_ag                    16776 non-null  float64\n",
      " 66  secondary_cleaner.output.tail_pb                    16764 non-null  float64\n",
      " 67  secondary_cleaner.output.tail_sol                   14874 non-null  float64\n",
      " 68  secondary_cleaner.output.tail_au                    16778 non-null  float64\n",
      " 69  secondary_cleaner.state.floatbank2_a_air            16497 non-null  float64\n",
      " 70  secondary_cleaner.state.floatbank2_a_level          16751 non-null  float64\n",
      " 71  secondary_cleaner.state.floatbank2_b_air            16705 non-null  float64\n",
      " 72  secondary_cleaner.state.floatbank2_b_level          16748 non-null  float64\n",
      " 73  secondary_cleaner.state.floatbank3_a_air            16763 non-null  float64\n",
      " 74  secondary_cleaner.state.floatbank3_a_level          16747 non-null  float64\n",
      " 75  secondary_cleaner.state.floatbank3_b_air            16752 non-null  float64\n",
      " 76  secondary_cleaner.state.floatbank3_b_level          16750 non-null  float64\n",
      " 77  secondary_cleaner.state.floatbank4_a_air            16731 non-null  float64\n",
      " 78  secondary_cleaner.state.floatbank4_a_level          16747 non-null  float64\n",
      " 79  secondary_cleaner.state.floatbank4_b_air            16768 non-null  float64\n",
      " 80  secondary_cleaner.state.floatbank4_b_level          16767 non-null  float64\n",
      " 81  secondary_cleaner.state.floatbank5_a_air            16775 non-null  float64\n",
      " 82  secondary_cleaner.state.floatbank5_a_level          16775 non-null  float64\n",
      " 83  secondary_cleaner.state.floatbank5_b_air            16775 non-null  float64\n",
      " 84  secondary_cleaner.state.floatbank5_b_level          16776 non-null  float64\n",
      " 85  secondary_cleaner.state.floatbank6_a_air            16757 non-null  float64\n",
      " 86  secondary_cleaner.state.floatbank6_a_level          16775 non-null  float64\n",
      "dtypes: float64(86), object(1)\n",
      "memory usage: 11.2+ MB\n"
     ]
    }
   ],
   "source": [
    "df_train.info()"
   ]
  },
  {
   "cell_type": "code",
   "execution_count": 4,
   "metadata": {
    "scrolled": true
   },
   "outputs": [
    {
     "name": "stdout",
     "output_type": "stream",
     "text": [
      "<class 'pandas.core.frame.DataFrame'>\n",
      "RangeIndex: 5856 entries, 0 to 5855\n",
      "Data columns (total 53 columns):\n",
      " #   Column                                      Non-Null Count  Dtype  \n",
      "---  ------                                      --------------  -----  \n",
      " 0   date                                        5856 non-null   object \n",
      " 1   primary_cleaner.input.sulfate               5554 non-null   float64\n",
      " 2   primary_cleaner.input.depressant            5572 non-null   float64\n",
      " 3   primary_cleaner.input.feed_size             5856 non-null   float64\n",
      " 4   primary_cleaner.input.xanthate              5690 non-null   float64\n",
      " 5   primary_cleaner.state.floatbank8_a_air      5840 non-null   float64\n",
      " 6   primary_cleaner.state.floatbank8_a_level    5840 non-null   float64\n",
      " 7   primary_cleaner.state.floatbank8_b_air      5840 non-null   float64\n",
      " 8   primary_cleaner.state.floatbank8_b_level    5840 non-null   float64\n",
      " 9   primary_cleaner.state.floatbank8_c_air      5840 non-null   float64\n",
      " 10  primary_cleaner.state.floatbank8_c_level    5840 non-null   float64\n",
      " 11  primary_cleaner.state.floatbank8_d_air      5840 non-null   float64\n",
      " 12  primary_cleaner.state.floatbank8_d_level    5840 non-null   float64\n",
      " 13  rougher.input.feed_ag                       5840 non-null   float64\n",
      " 14  rougher.input.feed_pb                       5840 non-null   float64\n",
      " 15  rougher.input.feed_rate                     5816 non-null   float64\n",
      " 16  rougher.input.feed_size                     5834 non-null   float64\n",
      " 17  rougher.input.feed_sol                      5789 non-null   float64\n",
      " 18  rougher.input.feed_au                       5840 non-null   float64\n",
      " 19  rougher.input.floatbank10_sulfate           5599 non-null   float64\n",
      " 20  rougher.input.floatbank10_xanthate          5733 non-null   float64\n",
      " 21  rougher.input.floatbank11_sulfate           5801 non-null   float64\n",
      " 22  rougher.input.floatbank11_xanthate          5503 non-null   float64\n",
      " 23  rougher.state.floatbank10_a_air             5839 non-null   float64\n",
      " 24  rougher.state.floatbank10_a_level           5840 non-null   float64\n",
      " 25  rougher.state.floatbank10_b_air             5839 non-null   float64\n",
      " 26  rougher.state.floatbank10_b_level           5840 non-null   float64\n",
      " 27  rougher.state.floatbank10_c_air             5839 non-null   float64\n",
      " 28  rougher.state.floatbank10_c_level           5840 non-null   float64\n",
      " 29  rougher.state.floatbank10_d_air             5839 non-null   float64\n",
      " 30  rougher.state.floatbank10_d_level           5840 non-null   float64\n",
      " 31  rougher.state.floatbank10_e_air             5839 non-null   float64\n",
      " 32  rougher.state.floatbank10_e_level           5840 non-null   float64\n",
      " 33  rougher.state.floatbank10_f_air             5839 non-null   float64\n",
      " 34  rougher.state.floatbank10_f_level           5840 non-null   float64\n",
      " 35  secondary_cleaner.state.floatbank2_a_air    5836 non-null   float64\n",
      " 36  secondary_cleaner.state.floatbank2_a_level  5840 non-null   float64\n",
      " 37  secondary_cleaner.state.floatbank2_b_air    5833 non-null   float64\n",
      " 38  secondary_cleaner.state.floatbank2_b_level  5840 non-null   float64\n",
      " 39  secondary_cleaner.state.floatbank3_a_air    5822 non-null   float64\n",
      " 40  secondary_cleaner.state.floatbank3_a_level  5840 non-null   float64\n",
      " 41  secondary_cleaner.state.floatbank3_b_air    5840 non-null   float64\n",
      " 42  secondary_cleaner.state.floatbank3_b_level  5840 non-null   float64\n",
      " 43  secondary_cleaner.state.floatbank4_a_air    5840 non-null   float64\n",
      " 44  secondary_cleaner.state.floatbank4_a_level  5840 non-null   float64\n",
      " 45  secondary_cleaner.state.floatbank4_b_air    5840 non-null   float64\n",
      " 46  secondary_cleaner.state.floatbank4_b_level  5840 non-null   float64\n",
      " 47  secondary_cleaner.state.floatbank5_a_air    5840 non-null   float64\n",
      " 48  secondary_cleaner.state.floatbank5_a_level  5840 non-null   float64\n",
      " 49  secondary_cleaner.state.floatbank5_b_air    5840 non-null   float64\n",
      " 50  secondary_cleaner.state.floatbank5_b_level  5840 non-null   float64\n",
      " 51  secondary_cleaner.state.floatbank6_a_air    5840 non-null   float64\n",
      " 52  secondary_cleaner.state.floatbank6_a_level  5840 non-null   float64\n",
      "dtypes: float64(52), object(1)\n",
      "memory usage: 2.4+ MB\n"
     ]
    }
   ],
   "source": [
    "df_test.info()"
   ]
  },
  {
   "cell_type": "code",
   "execution_count": 5,
   "metadata": {
    "scrolled": true
   },
   "outputs": [
    {
     "name": "stdout",
     "output_type": "stream",
     "text": [
      "<class 'pandas.core.frame.DataFrame'>\n",
      "RangeIndex: 22716 entries, 0 to 22715\n",
      "Data columns (total 87 columns):\n",
      " #   Column                                              Non-Null Count  Dtype  \n",
      "---  ------                                              --------------  -----  \n",
      " 0   date                                                22716 non-null  object \n",
      " 1   final.output.concentrate_ag                         22627 non-null  float64\n",
      " 2   final.output.concentrate_pb                         22629 non-null  float64\n",
      " 3   final.output.concentrate_sol                        22331 non-null  float64\n",
      " 4   final.output.concentrate_au                         22630 non-null  float64\n",
      " 5   final.output.recovery                               20753 non-null  float64\n",
      " 6   final.output.tail_ag                                22633 non-null  float64\n",
      " 7   final.output.tail_pb                                22516 non-null  float64\n",
      " 8   final.output.tail_sol                               22445 non-null  float64\n",
      " 9   final.output.tail_au                                22635 non-null  float64\n",
      " 10  primary_cleaner.input.sulfate                       21107 non-null  float64\n",
      " 11  primary_cleaner.input.depressant                    21170 non-null  float64\n",
      " 12  primary_cleaner.input.feed_size                     22716 non-null  float64\n",
      " 13  primary_cleaner.input.xanthate                      21565 non-null  float64\n",
      " 14  primary_cleaner.output.concentrate_ag               22618 non-null  float64\n",
      " 15  primary_cleaner.output.concentrate_pb               22268 non-null  float64\n",
      " 16  primary_cleaner.output.concentrate_sol              21918 non-null  float64\n",
      " 17  primary_cleaner.output.concentrate_au               22618 non-null  float64\n",
      " 18  primary_cleaner.output.tail_ag                      22614 non-null  float64\n",
      " 19  primary_cleaner.output.tail_pb                      22594 non-null  float64\n",
      " 20  primary_cleaner.output.tail_sol                     22365 non-null  float64\n",
      " 21  primary_cleaner.output.tail_au                      22617 non-null  float64\n",
      " 22  primary_cleaner.state.floatbank8_a_air              22660 non-null  float64\n",
      " 23  primary_cleaner.state.floatbank8_a_level            22667 non-null  float64\n",
      " 24  primary_cleaner.state.floatbank8_b_air              22660 non-null  float64\n",
      " 25  primary_cleaner.state.floatbank8_b_level            22673 non-null  float64\n",
      " 26  primary_cleaner.state.floatbank8_c_air              22662 non-null  float64\n",
      " 27  primary_cleaner.state.floatbank8_c_level            22673 non-null  float64\n",
      " 28  primary_cleaner.state.floatbank8_d_air              22661 non-null  float64\n",
      " 29  primary_cleaner.state.floatbank8_d_level            22673 non-null  float64\n",
      " 30  rougher.calculation.sulfate_to_au_concentrate       22672 non-null  float64\n",
      " 31  rougher.calculation.floatbank10_sulfate_to_au_feed  22672 non-null  float64\n",
      " 32  rougher.calculation.floatbank11_sulfate_to_au_feed  22672 non-null  float64\n",
      " 33  rougher.calculation.au_pb_ratio                     21089 non-null  float64\n",
      " 34  rougher.input.feed_ag                               22618 non-null  float64\n",
      " 35  rougher.input.feed_pb                               22472 non-null  float64\n",
      " 36  rougher.input.feed_rate                             22163 non-null  float64\n",
      " 37  rougher.input.feed_size                             22277 non-null  float64\n",
      " 38  rougher.input.feed_sol                              22357 non-null  float64\n",
      " 39  rougher.input.feed_au                               22617 non-null  float64\n",
      " 40  rougher.input.floatbank10_sulfate                   21415 non-null  float64\n",
      " 41  rougher.input.floatbank10_xanthate                  22247 non-null  float64\n",
      " 42  rougher.input.floatbank11_sulfate                   22038 non-null  float64\n",
      " 43  rougher.input.floatbank11_xanthate                  20459 non-null  float64\n",
      " 44  rougher.output.concentrate_ag                       22618 non-null  float64\n",
      " 45  rougher.output.concentrate_pb                       22618 non-null  float64\n",
      " 46  rougher.output.concentrate_sol                      22526 non-null  float64\n",
      " 47  rougher.output.concentrate_au                       22618 non-null  float64\n",
      " 48  rougher.output.recovery                             19597 non-null  float64\n",
      " 49  rougher.output.tail_ag                              19979 non-null  float64\n",
      " 50  rougher.output.tail_pb                              22618 non-null  float64\n",
      " 51  rougher.output.tail_sol                             19980 non-null  float64\n",
      " 52  rougher.output.tail_au                              19980 non-null  float64\n",
      " 53  rougher.state.floatbank10_a_air                     22646 non-null  float64\n",
      " 54  rougher.state.floatbank10_a_level                   22647 non-null  float64\n",
      " 55  rougher.state.floatbank10_b_air                     22646 non-null  float64\n",
      " 56  rougher.state.floatbank10_b_level                   22647 non-null  float64\n",
      " 57  rougher.state.floatbank10_c_air                     22646 non-null  float64\n",
      " 58  rougher.state.floatbank10_c_level                   22654 non-null  float64\n",
      " 59  rougher.state.floatbank10_d_air                     22641 non-null  float64\n",
      " 60  rougher.state.floatbank10_d_level                   22649 non-null  float64\n",
      " 61  rougher.state.floatbank10_e_air                     22096 non-null  float64\n",
      " 62  rougher.state.floatbank10_e_level                   22649 non-null  float64\n",
      " 63  rougher.state.floatbank10_f_air                     22641 non-null  float64\n",
      " 64  rougher.state.floatbank10_f_level                   22642 non-null  float64\n",
      " 65  secondary_cleaner.output.tail_ag                    22616 non-null  float64\n",
      " 66  secondary_cleaner.output.tail_pb                    22600 non-null  float64\n",
      " 67  secondary_cleaner.output.tail_sol                   20501 non-null  float64\n",
      " 68  secondary_cleaner.output.tail_au                    22618 non-null  float64\n",
      " 69  secondary_cleaner.state.floatbank2_a_air            22333 non-null  float64\n",
      " 70  secondary_cleaner.state.floatbank2_a_level          22591 non-null  float64\n",
      " 71  secondary_cleaner.state.floatbank2_b_air            22538 non-null  float64\n",
      " 72  secondary_cleaner.state.floatbank2_b_level          22588 non-null  float64\n",
      " 73  secondary_cleaner.state.floatbank3_a_air            22585 non-null  float64\n",
      " 74  secondary_cleaner.state.floatbank3_a_level          22587 non-null  float64\n",
      " 75  secondary_cleaner.state.floatbank3_b_air            22592 non-null  float64\n",
      " 76  secondary_cleaner.state.floatbank3_b_level          22590 non-null  float64\n",
      " 77  secondary_cleaner.state.floatbank4_a_air            22571 non-null  float64\n",
      " 78  secondary_cleaner.state.floatbank4_a_level          22587 non-null  float64\n",
      " 79  secondary_cleaner.state.floatbank4_b_air            22608 non-null  float64\n",
      " 80  secondary_cleaner.state.floatbank4_b_level          22607 non-null  float64\n",
      " 81  secondary_cleaner.state.floatbank5_a_air            22615 non-null  float64\n",
      " 82  secondary_cleaner.state.floatbank5_a_level          22615 non-null  float64\n",
      " 83  secondary_cleaner.state.floatbank5_b_air            22615 non-null  float64\n",
      " 84  secondary_cleaner.state.floatbank5_b_level          22616 non-null  float64\n",
      " 85  secondary_cleaner.state.floatbank6_a_air            22597 non-null  float64\n",
      " 86  secondary_cleaner.state.floatbank6_a_level          22615 non-null  float64\n",
      "dtypes: float64(86), object(1)\n",
      "memory usage: 15.1+ MB\n"
     ]
    }
   ],
   "source": [
    "df_full.info()"
   ]
  },
  {
   "cell_type": "markdown",
   "metadata": {},
   "source": [
    "There are plenty of missing values."
   ]
  },
  {
   "cell_type": "markdown",
   "metadata": {},
   "source": [
    "### Recovery\n",
    "Calculating recovery for the rougher concentrate."
   ]
  },
  {
   "cell_type": "code",
   "execution_count": 6,
   "metadata": {},
   "outputs": [],
   "source": [
    "def recovery(concentrate: float, feed: float, tail: float) -> float:\n",
    "    return (concentrate * (feed - tail)) / (feed * (concentrate - tail)) * 100"
   ]
  },
  {
   "cell_type": "code",
   "execution_count": 7,
   "metadata": {},
   "outputs": [],
   "source": [
    "my_recovery = recovery(\n",
    "    df_train['rougher.output.concentrate_au'].fillna(method='pad'),\n",
    "    df_train['rougher.input.feed_au'].fillna(method='pad'),\n",
    "    df_train['rougher.output.tail_au'].fillna(method='pad'),\n",
    ")"
   ]
  },
  {
   "cell_type": "markdown",
   "metadata": {},
   "source": [
    "Finding the mean absolute error between my calculated recovery and the one in the dataset."
   ]
  },
  {
   "cell_type": "code",
   "execution_count": 8,
   "metadata": {},
   "outputs": [
    {
     "data": {
      "text/plain": [
       "9.303415616264301e-15"
      ]
     },
     "execution_count": 8,
     "metadata": {},
     "output_type": "execute_result"
    }
   ],
   "source": [
    "mean_absolute_error(my_recovery[df_train['rougher.output.recovery'].notnull()], df_train['rougher.output.recovery'].dropna())"
   ]
  },
  {
   "cell_type": "markdown",
   "metadata": {},
   "source": [
    "This is practically zero error. The recovery was calculated correctly when it was calculated, but maybe there are missing values that can be calculated."
   ]
  },
  {
   "cell_type": "code",
   "execution_count": 9,
   "metadata": {},
   "outputs": [
    {
     "data": {
      "text/plain": [
       "1404"
      ]
     },
     "execution_count": 9,
     "metadata": {},
     "output_type": "execute_result"
    }
   ],
   "source": [
    "my_recovery.count() - df_train['rougher.output.recovery'].count()"
   ]
  },
  {
   "cell_type": "markdown",
   "metadata": {},
   "source": [
    "There are 290 values that can fill the blanks in the dataset."
   ]
  },
  {
   "cell_type": "code",
   "execution_count": 10,
   "metadata": {},
   "outputs": [],
   "source": [
    "df_train['rougher.output.recovery'] = df_train['rougher.output.recovery'].fillna(my_recovery)"
   ]
  },
  {
   "cell_type": "markdown",
   "metadata": {},
   "source": [
    "### Features\n",
    "The following features are not in the test dataset."
   ]
  },
  {
   "cell_type": "code",
   "execution_count": 11,
   "metadata": {
    "scrolled": false
   },
   "outputs": [
    {
     "data": {
      "text/plain": [
       "['final.output.concentrate_ag',\n",
       " 'final.output.concentrate_au',\n",
       " 'final.output.concentrate_pb',\n",
       " 'final.output.concentrate_sol',\n",
       " 'final.output.recovery',\n",
       " 'final.output.tail_ag',\n",
       " 'final.output.tail_au',\n",
       " 'final.output.tail_pb',\n",
       " 'final.output.tail_sol',\n",
       " 'primary_cleaner.output.concentrate_ag',\n",
       " 'primary_cleaner.output.concentrate_au',\n",
       " 'primary_cleaner.output.concentrate_pb',\n",
       " 'primary_cleaner.output.concentrate_sol',\n",
       " 'primary_cleaner.output.tail_ag',\n",
       " 'primary_cleaner.output.tail_au',\n",
       " 'primary_cleaner.output.tail_pb',\n",
       " 'primary_cleaner.output.tail_sol',\n",
       " 'rougher.calculation.au_pb_ratio',\n",
       " 'rougher.calculation.floatbank10_sulfate_to_au_feed',\n",
       " 'rougher.calculation.floatbank11_sulfate_to_au_feed',\n",
       " 'rougher.calculation.sulfate_to_au_concentrate',\n",
       " 'rougher.output.concentrate_ag',\n",
       " 'rougher.output.concentrate_au',\n",
       " 'rougher.output.concentrate_pb',\n",
       " 'rougher.output.concentrate_sol',\n",
       " 'rougher.output.recovery',\n",
       " 'rougher.output.tail_ag',\n",
       " 'rougher.output.tail_au',\n",
       " 'rougher.output.tail_pb',\n",
       " 'rougher.output.tail_sol',\n",
       " 'secondary_cleaner.output.tail_ag',\n",
       " 'secondary_cleaner.output.tail_au',\n",
       " 'secondary_cleaner.output.tail_pb',\n",
       " 'secondary_cleaner.output.tail_sol']"
      ]
     },
     "execution_count": 11,
     "metadata": {},
     "output_type": "execute_result"
    }
   ],
   "source": [
    "df_train.columns.difference(df_test.columns).tolist()"
   ]
  },
  {
   "cell_type": "markdown",
   "metadata": {},
   "source": [
    "The test data excludes the concentrations in all stages except in the unprocessed ore. It makes perfect sense, because we don't know these numbers at the start of the process, and including them in model training will be a target leak."
   ]
  },
  {
   "cell_type": "markdown",
   "metadata": {},
   "source": [
    "### Preprocessing\n",
    "Training data is split into features and target, then shuffled. Shuffling is done to avoid training the model on similiar data consecutively, which makes fitting less effective. Missing values are filled with the last valid value because parameters that are next to each other in terms of time are often similar."
   ]
  },
  {
   "cell_type": "code",
   "execution_count": 12,
   "metadata": {},
   "outputs": [],
   "source": [
    "x = df_train.fillna(method='pad')[df_test.columns].drop('date', axis=1)\n",
    "y = df_train.fillna(method='pad')[['rougher.output.recovery', 'final.output.recovery']]\n",
    "\n",
    "x, y = shuffle(x, y, random_state=420)\n",
    "\n",
    "x = x.reset_index(drop=True)\n",
    "y = y.reset_index(drop=True)"
   ]
  },
  {
   "cell_type": "markdown",
   "metadata": {},
   "source": [
    "Extracion of test features and target from the full data."
   ]
  },
  {
   "cell_type": "code",
   "execution_count": 13,
   "metadata": {},
   "outputs": [],
   "source": [
    "y_test = df_full[np.isin(df_full['date'], df_test['date'])][['rougher.output.recovery', 'final.output.recovery']]\n",
    "x_test = df_full[np.isin(df_full['date'], df_test['date'])][df_test.columns].drop('date', axis=1)"
   ]
  },
  {
   "cell_type": "markdown",
   "metadata": {},
   "source": [
    "## Data Analysis\n",
    "### Metal Concentrations"
   ]
  },
  {
   "cell_type": "code",
   "execution_count": 14,
   "metadata": {
    "scrolled": true
   },
   "outputs": [
    {
     "name": "stdout",
     "output_type": "stream",
     "text": [
      "rougher.input.feed_au                     7.170717\n",
      "rougher.output.concentrate_au            17.401541\n",
      "primary_cleaner.output.concentrate_au    29.164596\n",
      "final.output.concentrate_au              39.467217\n",
      "dtype: float64\n",
      "rougher.input.feed_ag                     7.832347\n",
      "rougher.output.concentrate_ag            10.580475\n",
      "primary_cleaner.output.concentrate_ag     7.422640\n",
      "final.output.concentrate_ag               4.716907\n",
      "dtype: float64\n",
      "rougher.input.feed_pb                    3.218931\n",
      "rougher.output.concentrate_pb            6.880322\n",
      "primary_cleaner.output.concentrate_pb    8.620294\n",
      "final.output.concentrate_pb              9.113559\n",
      "dtype: float64\n"
     ]
    }
   ],
   "source": [
    "for metal in ['au', 'ag', 'pb']:\n",
    "    print(df_train[['rougher.input.feed_'+metal, 'rougher.output.concentrate_'+metal, \n",
    "                    'primary_cleaner.output.concentrate_'+metal, 'final.output.concentrate_'+metal]].mean())"
   ]
  },
  {
   "cell_type": "markdown",
   "metadata": {},
   "source": [
    "Gold concentration goes up dramatically with each step, which is the whole point of the process, reaching 5.5 times the original ore concentration on average. Silver concentration only rises in floatation, then decrease in the following steps. Lead concentrations rise each step, but much more mildly than gold, reaching under 3 times the original ore concentration on average."
   ]
  },
  {
   "cell_type": "markdown",
   "metadata": {},
   "source": [
    "### Particle Size"
   ]
  },
  {
   "cell_type": "code",
   "execution_count": 15,
   "metadata": {
    "scrolled": true
   },
   "outputs": [
    {
     "data": {
      "image/png": "[encoded data removed]",
      "text/plain": [
       "<Figure size 576x360 with 1 Axes>"
      ]
     },
     "metadata": {
      "needs_background": "light"
     },
     "output_type": "display_data"
    }
   ],
   "source": [
    "plt.figure(figsize=(8, 5))\n",
    "bins = list(range(0, 126, 2))\n",
    "plt.hist(df_train['rougher.input.feed_size'], label='train set', bins=bins, alpha=0.75, density=True)\n",
    "plt.hist(df_test['rougher.input.feed_size'], label='test set', bins=bins, alpha=0.75, density=True)\n",
    "plt.legend()\n",
    "plt.title('Feed Size')\n",
    "plt.xlabel('Size')\n",
    "plt.ylabel('Probability')\n",
    "plt.xlim(bins[0], bins[-1])\n",
    "plt.show()"
   ]
  },
  {
   "cell_type": "markdown",
   "metadata": {},
   "source": [
    "Particle size distributions in training and testing data do not vary significantly."
   ]
  },
  {
   "cell_type": "markdown",
   "metadata": {},
   "source": [
    "### Anomalies"
   ]
  },
  {
   "cell_type": "code",
   "execution_count": 16,
   "metadata": {},
   "outputs": [],
   "source": [
    "c_total = pd.DataFrame({\n",
    "    'raw_feed': df_train[['rougher.input.feed_ag', 'rougher.input.feed_au', \n",
    "                     'rougher.input.feed_pb', 'rougher.input.feed_sol']].sum(axis=1),\n",
    "    'rougher_concentrate': df_train[['rougher.output.concentrate_ag', 'rougher.output.concentrate_au', \n",
    "                                     'rougher.output.concentrate_pb', 'rougher.output.concentrate_sol']].sum(axis=1),\n",
    "    'final_concentrate': df_train[['final.output.concentrate_ag', 'final.output.concentrate_au', \n",
    "                                   'final.output.concentrate_pb', 'final.output.concentrate_sol']].sum(axis=1)\n",
    "})\n"
   ]
  },
  {
   "cell_type": "code",
   "execution_count": 17,
   "metadata": {},
   "outputs": [
    {
     "data": {
      "image/png": "[encoded data removed]",
      "text/plain": [
       "<Figure size 576x360 with 1 Axes>"
      ]
     },
     "metadata": {
      "needs_background": "light"
     },
     "output_type": "display_data"
    }
   ],
   "source": [
    "plt.figure(figsize=(8, 5))\n",
    "bins = list(range(0, 101, 1))\n",
    "for col in c_total.columns:\n",
    "    plt.hist(c_total[col], label=col, alpha=0.75, bins=bins)\n",
    "plt.legend()\n",
    "plt.xlim(bins[0], bins[-1])\n",
    "plt.xlabel('Concentration')\n",
    "plt.ylabel('Frequency')\n",
    "plt.title('Total Concentrations')\n",
    "plt.show()"
   ]
  },
  {
   "cell_type": "markdown",
   "metadata": {},
   "source": [
    "There are anomalous low (<1) values in the total concentrations. We'll repeat the data preprocessing to remove this data."
   ]
  },
  {
   "cell_type": "code",
   "execution_count": 18,
   "metadata": {},
   "outputs": [],
   "source": [
    "idx = (c_total['raw_feed'] > 1) & (c_total['rougher_concentrate'] > 1) & (c_total['final_concentrate'] > 1) \n",
    "\n",
    "df_train_final = df_train.fillna(method='pad')[idx]\n",
    "\n",
    "x = df_train_final[df_test.columns].drop('date', axis=1)\n",
    "y = df_train_final[['rougher.output.recovery', 'final.output.recovery']]\n",
    "\n",
    "x, y = shuffle(x, y, random_state=420)\n",
    "\n",
    "x = x.reset_index(drop=True)\n",
    "y = y.reset_index(drop=True)"
   ]
  },
  {
   "cell_type": "code",
   "execution_count": 19,
   "metadata": {},
   "outputs": [
    {
     "data": {
      "text/plain": [
       "0.1344009489916963"
      ]
     },
     "execution_count": 19,
     "metadata": {},
     "output_type": "execute_result"
    }
   ],
   "source": [
    "1 - x.shape[0] / df_train.shape[0]"
   ]
  },
  {
   "cell_type": "markdown",
   "metadata": {},
   "source": [
    "Anomalies accounted for 13.5% of the training data."
   ]
  },
  {
   "cell_type": "markdown",
   "metadata": {},
   "source": [
    "## Model\n",
    "### Scoring Method\n",
    "For scoring, we'll use symmetric Mean Absolute Percentage Error (sMAPE). The final score will be composed of 25% rougher concentrate recovery sMAPE and 75% final concentrate recovery sMAPE."
   ]
  },
  {
   "cell_type": "code",
   "execution_count": 20,
   "metadata": {},
   "outputs": [],
   "source": [
    "def smape(targ: pd.Series, pred: pd.Series) -> float:\n",
    "    return ((targ - pred).abs() / (targ.abs() + pred.abs()) * 2).mean() * 100\n",
    "\n",
    "def fsmape(targ: pd.DataFrame, pred: pd.DataFrame, \n",
    "           rough='rougher.output.recovery', \n",
    "           final='final.output.recovery', \n",
    "           ratio=0.25) -> float:\n",
    "    rough_targ = targ[rough]\n",
    "    final_targ = targ[final]\n",
    "    rough_pred = pred[rough]\n",
    "    final_pred = pred[final]\n",
    "    \n",
    "    return ratio*smape(rough_targ, rough_pred) + (1-ratio)*smape(final_targ, final_pred)"
   ]
  },
  {
   "cell_type": "markdown",
   "metadata": {},
   "source": [
    "### Model Evaluation\n",
    "We'll use the cross validation method."
   ]
  },
  {
   "cell_type": "code",
   "execution_count": 21,
   "metadata": {},
   "outputs": [],
   "source": [
    "def cross_val(model, x: pd.DataFrame, y: pd.DataFrame, n: int=3) -> float:\n",
    "    sample_size = int(x.shape[0]/n)\n",
    "    scores = []\n",
    "    for i in range(0, sample_size*n, sample_size):\n",
    "        valid_indexes = list(range(i, i+sample_size))\n",
    "        train_indexes = [*list(range(0, i)), *list(range(i+sample_size, x.shape[0]))]\n",
    "        \n",
    "        features_train = x.iloc[train_indexes]\n",
    "        features_valid = x.iloc[valid_indexes]\n",
    "        target_train = y.iloc[train_indexes]\n",
    "        target_valid = y.iloc[valid_indexes]\n",
    "\n",
    "        model.fit(features_train, target_train)\n",
    "        pred = pd.DataFrame(model.predict(features_valid), columns=y.columns, index=target_valid.index)\n",
    "        score = fsmape(target_valid, pred)\n",
    "\n",
    "        scores.append(score)\n",
    "\n",
    "    return pd.Series(scores).mean()"
   ]
  },
  {
   "cell_type": "markdown",
   "metadata": {},
   "source": [
    "First we'll create and score a dummy model, that always predicts the average of the training targets, as a baseline for comparison."
   ]
  },
  {
   "cell_type": "code",
   "execution_count": 30,
   "metadata": {},
   "outputs": [
    {
     "data": {
      "text/plain": [
       "12.523269743391708"
      ]
     },
     "execution_count": 30,
     "metadata": {},
     "output_type": "execute_result"
    }
   ],
   "source": [
    "dummy_model = DummyRegressor()\n",
    "dummy_model.fit(x, y)\n",
    "dummy_pred = pd.DataFrame(dummy_model.predict(x_test.fillna(method='pad')), columns=y.columns, index=y_test.index)\n",
    "baseline_score = fsmape(y_test, dummy_pred)\n",
    "baseline_score"
   ]
  },
  {
   "cell_type": "markdown",
   "metadata": {},
   "source": [
    "Now we'll try a linear regression model. The cross validation score:"
   ]
  },
  {
   "cell_type": "code",
   "execution_count": 33,
   "metadata": {},
   "outputs": [
    {
     "data": {
      "text/plain": [
       "23.1991153910034"
      ]
     },
     "execution_count": 33,
     "metadata": {},
     "output_type": "execute_result"
    }
   ],
   "source": [
    "l_model = LinearRegression()\n",
    "cross_val(l_model, x, y)"
   ]
  },
  {
   "cell_type": "markdown",
   "metadata": {},
   "source": [
    "And test score:"
   ]
  },
  {
   "cell_type": "code",
   "execution_count": 34,
   "metadata": {},
   "outputs": [
    {
     "data": {
      "text/plain": [
       "26.396052809705033"
      ]
     },
     "execution_count": 34,
     "metadata": {},
     "output_type": "execute_result"
    }
   ],
   "source": [
    "l_model.fit(x, y)\n",
    "l_pred = pd.DataFrame(l_model.predict(x_test.fillna(method='pad')), columns=y.columns, index=y_test.index)\n",
    "fsmape(y_test, l_pred)"
   ]
  },
  {
   "cell_type": "markdown",
   "metadata": {},
   "source": [
    "It performed much worse than the simple model. "
   ]
  },
  {
   "cell_type": "markdown",
   "metadata": {},
   "source": [
    "Next we'll try a random forest. We pick the optimal hyperparameters by looping through a range of values."
   ]
  },
  {
   "cell_type": "code",
   "execution_count": 35,
   "metadata": {},
   "outputs": [
    {
     "name": "stdout",
     "output_type": "stream",
     "text": [
      "500 estimators, 50 deep sMAPE: 5.8477994900352295\n",
      "^ best so far\n",
      "500 estimators, 75 deep sMAPE: 5.847643858173302\n",
      "^ best so far\n",
      "500 estimators, 100 deep sMAPE: 5.847643858173302\n",
      "750 estimators, 50 deep sMAPE: 5.843089703806082\n",
      "^ best so far\n",
      "750 estimators, 75 deep sMAPE: 5.843044099788632\n",
      "^ best so far\n",
      "750 estimators, 100 deep sMAPE: 5.843044099788632\n",
      "1000 estimators, 50 deep sMAPE: 5.840393911567812\n",
      "^ best so far\n",
      "1000 estimators, 75 deep sMAPE: 5.840339008199403\n",
      "^ best so far\n",
      "1000 estimators, 100 deep sMAPE: 5.840339008199403\n",
      "done.\n"
     ]
    }
   ],
   "source": [
    "best = dict(n_estimators=0, max_depth=0, score=100)\n",
    "\n",
    "for trees in range(500, 1001, 250):\n",
    "    for depth in range(50, 101, 25):\n",
    "        model = RandomForestRegressor(random_state=420, n_estimators=trees, max_depth=depth, n_jobs=-1)\n",
    "        score = cross_val(model, x, y)\n",
    "        print(f'{trees} estimators, {depth} deep sMAPE: {score}')\n",
    "        if score < best['score']:\n",
    "            best['n_estimators'] = trees\n",
    "            best['max_depth'] = depth\n",
    "            best['score'] = score\n",
    "            print('^ best so far')\n",
    "print('done.')"
   ]
  },
  {
   "cell_type": "markdown",
   "metadata": {},
   "source": [
    "Fitting the optimized model to all train data."
   ]
  },
  {
   "cell_type": "code",
   "execution_count": 36,
   "metadata": {},
   "outputs": [
    {
     "data": {
      "text/plain": [
       "RandomForestRegressor(max_depth=75, n_estimators=1000, n_jobs=-1,\n",
       "                      random_state=420)"
      ]
     },
     "execution_count": 36,
     "metadata": {},
     "output_type": "execute_result"
    }
   ],
   "source": [
    "best_model = RandomForestRegressor(random_state=420, n_estimators=best['n_estimators'], max_depth=best['max_depth'], n_jobs=-1)\n",
    "# best_model = RandomForestRegressor(max_depth=75, n_estimators=1000, n_jobs=-1, random_state=420)\n",
    "best_model.fit(x, y)"
   ]
  },
  {
   "cell_type": "markdown",
   "metadata": {},
   "source": [
    "Final test."
   ]
  },
  {
   "cell_type": "code",
   "execution_count": 38,
   "metadata": {},
   "outputs": [
    {
     "name": "stdout",
     "output_type": "stream",
     "text": [
      "Test sMAPE: 11.714215048680021\n"
     ]
    }
   ],
   "source": [
    "pred = pd.DataFrame(model.predict(x_test.fillna(method='pad')), columns=y.columns, index=y_test.index)\n",
    "forest_score = fsmape(y_test, pred)\n",
    "print('Test sMAPE:', forest_score)"
   ]
  },
  {
   "cell_type": "markdown",
   "metadata": {},
   "source": [
    "Rate of improvement."
   ]
  },
  {
   "cell_type": "code",
   "execution_count": 40,
   "metadata": {},
   "outputs": [
    {
     "data": {
      "text/plain": [
       "-0.06460410989219567"
      ]
     },
     "execution_count": 40,
     "metadata": {},
     "output_type": "execute_result"
    }
   ],
   "source": [
    "forest_score / baseline_score -1"
   ]
  },
  {
   "cell_type": "markdown",
   "metadata": {},
   "source": [
    "The final model's error is 6.5% lower than the dummy model's."
   ]
  }
 ],
 "metadata": {
  "ExecuteTimeLog": [
   {
    "duration": 1849,
    "start_time": "2022-04-15T12:27:53.655Z"
   },
   {
    "duration": 20,
    "start_time": "2022-04-15T12:28:32.953Z"
   },
   {
    "duration": 1593,
    "start_time": "2022-04-15T12:30:41.478Z"
   },
   {
    "duration": 15,
    "start_time": "2022-04-15T12:32:22.636Z"
   },
   {
    "duration": 17,
    "start_time": "2022-04-15T12:32:30.828Z"
   },
   {
    "duration": 53,
    "start_time": "2022-04-15T12:33:07.725Z"
   },
   {
    "duration": 34,
    "start_time": "2022-04-15T12:35:05.268Z"
   },
   {
    "duration": 214,
    "start_time": "2022-04-15T12:35:55.649Z"
   },
   {
    "duration": 142,
    "start_time": "2022-04-15T12:36:49.455Z"
   },
   {
    "duration": 126,
    "start_time": "2022-04-15T12:37:53.668Z"
   },
   {
    "duration": 13,
    "start_time": "2022-04-15T12:40:18.102Z"
   },
   {
    "duration": 18,
    "start_time": "2022-04-15T12:41:07.247Z"
   },
   {
    "duration": 9,
    "start_time": "2022-04-15T12:41:49.658Z"
   },
   {
    "duration": 11,
    "start_time": "2022-04-15T12:41:57.759Z"
   },
   {
    "duration": 16,
    "start_time": "2022-04-15T12:43:09.644Z"
   },
   {
    "duration": 3,
    "start_time": "2022-04-15T13:02:28.227Z"
   },
   {
    "duration": 5,
    "start_time": "2022-04-15T13:03:34.345Z"
   },
   {
    "duration": 5,
    "start_time": "2022-04-15T13:07:01.260Z"
   },
   {
    "duration": 4,
    "start_time": "2022-04-15T13:08:22.307Z"
   },
   {
    "duration": 21,
    "start_time": "2022-04-15T13:08:58.052Z"
   },
   {
    "duration": 14,
    "start_time": "2022-04-15T13:11:19.335Z"
   },
   {
    "duration": 30,
    "start_time": "2022-04-15T13:13:48.463Z"
   },
   {
    "duration": 8,
    "start_time": "2022-04-15T13:13:50.352Z"
   },
   {
    "duration": 5,
    "start_time": "2022-04-15T13:14:11.805Z"
   },
   {
    "duration": 5,
    "start_time": "2022-04-15T13:14:28.441Z"
   },
   {
    "duration": 3,
    "start_time": "2022-04-15T13:14:48.524Z"
   },
   {
    "duration": 23,
    "start_time": "2022-04-15T13:14:48.972Z"
   },
   {
    "duration": 6,
    "start_time": "2022-04-15T13:14:51.178Z"
   },
   {
    "duration": 5,
    "start_time": "2022-04-15T13:16:07.849Z"
   },
   {
    "duration": 6,
    "start_time": "2022-04-15T13:16:54.481Z"
   },
   {
    "duration": 32,
    "start_time": "2022-04-15T13:27:04.580Z"
   },
   {
    "duration": 1909,
    "start_time": "2022-04-15T13:28:01.602Z"
   },
   {
    "duration": 152,
    "start_time": "2022-04-15T13:29:26.692Z"
   },
   {
    "duration": 19,
    "start_time": "2022-04-15T13:29:35.197Z"
   },
   {
    "duration": 23,
    "start_time": "2022-04-15T13:29:58.495Z"
   },
   {
    "duration": 25,
    "start_time": "2022-04-15T13:30:23.979Z"
   },
   {
    "duration": 27,
    "start_time": "2022-04-15T13:30:59.911Z"
   },
   {
    "duration": 5,
    "start_time": "2022-04-15T13:34:39.979Z"
   },
   {
    "duration": 7,
    "start_time": "2022-04-15T13:35:21.857Z"
   },
   {
    "duration": 5,
    "start_time": "2022-04-15T13:35:47.613Z"
   },
   {
    "duration": 5,
    "start_time": "2022-04-15T13:35:59.020Z"
   },
   {
    "duration": 7,
    "start_time": "2022-04-15T13:36:38.030Z"
   },
   {
    "duration": 5,
    "start_time": "2022-04-15T13:37:16.445Z"
   },
   {
    "duration": 6,
    "start_time": "2022-04-15T13:37:19.975Z"
   },
   {
    "duration": 5,
    "start_time": "2022-04-15T13:37:48.765Z"
   },
   {
    "duration": 4,
    "start_time": "2022-04-15T13:42:46.628Z"
   },
   {
    "duration": 5,
    "start_time": "2022-04-15T13:42:52.815Z"
   },
   {
    "duration": 3,
    "start_time": "2022-04-15T13:48:15.999Z"
   },
   {
    "duration": 3,
    "start_time": "2022-04-15T13:48:46.342Z"
   },
   {
    "duration": 6,
    "start_time": "2022-04-15T13:48:47.444Z"
   },
   {
    "duration": 22,
    "start_time": "2022-04-15T13:48:51.654Z"
   },
   {
    "duration": 1262,
    "start_time": "2022-04-15T13:49:24.280Z"
   },
   {
    "duration": 835,
    "start_time": "2022-04-15T13:49:25.544Z"
   },
   {
    "duration": 18,
    "start_time": "2022-04-15T13:49:26.381Z"
   },
   {
    "duration": 231,
    "start_time": "2022-04-15T13:49:26.401Z"
   },
   {
    "duration": 4,
    "start_time": "2022-04-15T13:49:26.634Z"
   },
   {
    "duration": 29,
    "start_time": "2022-04-15T13:49:26.640Z"
   },
   {
    "duration": 28,
    "start_time": "2022-04-15T13:49:26.672Z"
   },
   {
    "duration": 12,
    "start_time": "2022-04-15T13:49:26.702Z"
   },
   {
    "duration": 72,
    "start_time": "2022-04-15T13:49:26.716Z"
   },
   {
    "duration": 24,
    "start_time": "2022-04-15T13:49:26.792Z"
   },
   {
    "duration": 22,
    "start_time": "2022-04-15T13:49:26.818Z"
   },
   {
    "duration": 61,
    "start_time": "2022-04-15T13:49:26.842Z"
   },
   {
    "duration": 4,
    "start_time": "2022-04-15T13:49:26.905Z"
   },
   {
    "duration": 5,
    "start_time": "2022-04-15T13:50:19.601Z"
   },
   {
    "duration": 5,
    "start_time": "2022-04-15T14:06:37.092Z"
   },
   {
    "duration": 5,
    "start_time": "2022-04-15T14:07:33.478Z"
   },
   {
    "duration": 104,
    "start_time": "2022-04-15T14:07:50.473Z"
   },
   {
    "duration": 4,
    "start_time": "2022-04-15T14:08:01.516Z"
   },
   {
    "duration": 4,
    "start_time": "2022-04-15T14:08:10.374Z"
   },
   {
    "duration": 5,
    "start_time": "2022-04-15T14:09:44.088Z"
   },
   {
    "duration": 5,
    "start_time": "2022-04-15T14:09:51.740Z"
   },
   {
    "duration": 4,
    "start_time": "2022-04-15T14:21:08.755Z"
   },
   {
    "duration": 6,
    "start_time": "2022-04-15T14:21:14.250Z"
   },
   {
    "duration": 5,
    "start_time": "2022-04-15T14:21:20.133Z"
   },
   {
    "duration": 590,
    "start_time": "2022-04-15T15:01:39.733Z"
   },
   {
    "duration": 3,
    "start_time": "2022-04-15T15:01:58.565Z"
   },
   {
    "duration": 14,
    "start_time": "2022-04-15T15:05:06.033Z"
   },
   {
    "duration": 154,
    "start_time": "2022-04-15T15:07:05.928Z"
   },
   {
    "duration": 12,
    "start_time": "2022-04-15T15:07:09.464Z"
   },
   {
    "duration": 42,
    "start_time": "2022-04-16T06:42:23.022Z"
   },
   {
    "duration": 1789,
    "start_time": "2022-04-16T06:42:29.156Z"
   },
   {
    "duration": 835,
    "start_time": "2022-04-16T06:42:30.948Z"
   },
   {
    "duration": 21,
    "start_time": "2022-04-16T06:42:31.785Z"
   },
   {
    "duration": 3,
    "start_time": "2022-04-16T06:42:31.808Z"
   },
   {
    "duration": 17,
    "start_time": "2022-04-16T06:42:31.813Z"
   },
   {
    "duration": 8,
    "start_time": "2022-04-16T06:42:31.832Z"
   },
   {
    "duration": 6,
    "start_time": "2022-04-16T06:42:31.842Z"
   },
   {
    "duration": 15,
    "start_time": "2022-04-16T06:42:31.849Z"
   },
   {
    "duration": 15,
    "start_time": "2022-04-16T06:42:31.865Z"
   },
   {
    "duration": 11,
    "start_time": "2022-04-16T06:42:31.881Z"
   },
   {
    "duration": 14,
    "start_time": "2022-04-16T06:42:31.894Z"
   },
   {
    "duration": 4,
    "start_time": "2022-04-16T06:42:31.909Z"
   },
   {
    "duration": 3,
    "start_time": "2022-04-16T06:58:11.360Z"
   },
   {
    "duration": 19,
    "start_time": "2022-04-16T06:59:45.622Z"
   },
   {
    "duration": 16,
    "start_time": "2022-04-16T07:00:13.736Z"
   },
   {
    "duration": 3,
    "start_time": "2022-04-16T07:19:20.694Z"
   },
   {
    "duration": 4,
    "start_time": "2022-04-16T07:19:31.985Z"
   },
   {
    "duration": 4,
    "start_time": "2022-04-16T07:19:52.858Z"
   },
   {
    "duration": 9,
    "start_time": "2022-04-16T07:29:01.284Z"
   },
   {
    "duration": 4,
    "start_time": "2022-04-16T07:30:36.269Z"
   },
   {
    "duration": 14,
    "start_time": "2022-04-16T07:31:11.696Z"
   },
   {
    "duration": 4,
    "start_time": "2022-04-16T07:31:16.049Z"
   },
   {
    "duration": 4,
    "start_time": "2022-04-16T07:32:01.084Z"
   },
   {
    "duration": 4,
    "start_time": "2022-04-16T07:47:11.454Z"
   },
   {
    "duration": 110,
    "start_time": "2022-04-16T07:48:26.694Z"
   },
   {
    "duration": 99,
    "start_time": "2022-04-16T07:48:31.509Z"
   },
   {
    "duration": 127,
    "start_time": "2022-04-16T07:49:38.180Z"
   },
   {
    "duration": 217,
    "start_time": "2022-04-16T07:49:58.970Z"
   },
   {
    "duration": 264,
    "start_time": "2022-04-16T07:51:58.297Z"
   },
   {
    "duration": 144,
    "start_time": "2022-04-16T07:53:02.765Z"
   },
   {
    "duration": 146,
    "start_time": "2022-04-16T07:53:13.336Z"
   },
   {
    "duration": 147,
    "start_time": "2022-04-16T07:53:43.741Z"
   },
   {
    "duration": 335,
    "start_time": "2022-04-16T07:54:26.118Z"
   },
   {
    "duration": 195,
    "start_time": "2022-04-16T07:54:31.916Z"
   },
   {
    "duration": 207,
    "start_time": "2022-04-16T07:55:10.312Z"
   },
   {
    "duration": 287,
    "start_time": "2022-04-16T07:55:15.697Z"
   },
   {
    "duration": 197,
    "start_time": "2022-04-16T07:55:44.404Z"
   },
   {
    "duration": 194,
    "start_time": "2022-04-16T07:55:55.247Z"
   },
   {
    "duration": 195,
    "start_time": "2022-04-16T07:57:18.997Z"
   },
   {
    "duration": 150,
    "start_time": "2022-04-16T07:57:32.405Z"
   },
   {
    "duration": 155,
    "start_time": "2022-04-16T07:57:44.480Z"
   },
   {
    "duration": 161,
    "start_time": "2022-04-16T07:57:52.460Z"
   },
   {
    "duration": 270,
    "start_time": "2022-04-16T07:57:56.539Z"
   },
   {
    "duration": 174,
    "start_time": "2022-04-16T08:01:41.961Z"
   },
   {
    "duration": 10,
    "start_time": "2022-04-16T08:17:35.194Z"
   },
   {
    "duration": 14,
    "start_time": "2022-04-16T08:21:31.980Z"
   },
   {
    "duration": 136,
    "start_time": "2022-04-16T08:22:22.071Z"
   },
   {
    "duration": 181,
    "start_time": "2022-04-16T08:23:28.297Z"
   },
   {
    "duration": 115,
    "start_time": "2022-04-16T08:26:20.965Z"
   },
   {
    "duration": 112,
    "start_time": "2022-04-16T08:26:24.093Z"
   },
   {
    "duration": 150,
    "start_time": "2022-04-16T08:28:22.570Z"
   },
   {
    "duration": 194,
    "start_time": "2022-04-16T08:29:05.634Z"
   },
   {
    "duration": 243,
    "start_time": "2022-04-16T08:29:40.869Z"
   },
   {
    "duration": 303,
    "start_time": "2022-04-16T08:29:45.549Z"
   },
   {
    "duration": 609,
    "start_time": "2022-04-16T08:29:50.063Z"
   },
   {
    "duration": 481,
    "start_time": "2022-04-16T08:31:46.332Z"
   },
   {
    "duration": 596,
    "start_time": "2022-04-16T08:32:26.090Z"
   },
   {
    "duration": 490,
    "start_time": "2022-04-16T08:33:04.703Z"
   },
   {
    "duration": 586,
    "start_time": "2022-04-16T08:33:13.214Z"
   },
   {
    "duration": 512,
    "start_time": "2022-04-16T08:33:19.339Z"
   },
   {
    "duration": 525,
    "start_time": "2022-04-16T08:33:49.918Z"
   },
   {
    "duration": 398,
    "start_time": "2022-04-16T08:34:04.420Z"
   },
   {
    "duration": 4,
    "start_time": "2022-04-16T08:39:58.539Z"
   },
   {
    "duration": 26,
    "start_time": "2022-04-16T08:40:13.304Z"
   },
   {
    "duration": 109,
    "start_time": "2022-04-16T08:41:25.001Z"
   },
   {
    "duration": 146,
    "start_time": "2022-04-16T08:41:41.944Z"
   },
   {
    "duration": 143,
    "start_time": "2022-04-16T08:41:53.043Z"
   },
   {
    "duration": 10,
    "start_time": "2022-04-16T08:44:49.420Z"
   },
   {
    "duration": 4,
    "start_time": "2022-04-16T08:45:12.328Z"
   },
   {
    "duration": 5,
    "start_time": "2022-04-16T08:45:24.714Z"
   },
   {
    "duration": 4,
    "start_time": "2022-04-16T08:45:50.678Z"
   },
   {
    "duration": 493,
    "start_time": "2022-04-16T08:46:25.387Z"
   },
   {
    "duration": 597,
    "start_time": "2022-04-16T08:46:33.152Z"
   },
   {
    "duration": 10,
    "start_time": "2022-04-16T09:00:04.368Z"
   },
   {
    "duration": 11,
    "start_time": "2022-04-16T09:28:02.290Z"
   },
   {
    "duration": 11,
    "start_time": "2022-04-16T09:28:59.685Z"
   },
   {
    "duration": 1526,
    "start_time": "2022-04-16T09:30:22.507Z"
   },
   {
    "duration": 828,
    "start_time": "2022-04-16T09:30:24.035Z"
   },
   {
    "duration": 18,
    "start_time": "2022-04-16T09:30:24.865Z"
   },
   {
    "duration": 3,
    "start_time": "2022-04-16T09:30:24.884Z"
   },
   {
    "duration": 7,
    "start_time": "2022-04-16T09:30:24.900Z"
   },
   {
    "duration": 7,
    "start_time": "2022-04-16T09:30:24.909Z"
   },
   {
    "duration": 7,
    "start_time": "2022-04-16T09:30:24.918Z"
   },
   {
    "duration": 4,
    "start_time": "2022-04-16T09:30:24.927Z"
   },
   {
    "duration": 5,
    "start_time": "2022-04-16T09:30:24.933Z"
   },
   {
    "duration": 16,
    "start_time": "2022-04-16T09:30:24.940Z"
   },
   {
    "duration": 11,
    "start_time": "2022-04-16T09:30:24.957Z"
   },
   {
    "duration": 322,
    "start_time": "2022-04-16T09:30:24.970Z"
   },
   {
    "duration": 14,
    "start_time": "2022-04-16T09:30:25.293Z"
   },
   {
    "duration": 579,
    "start_time": "2022-04-16T09:30:25.309Z"
   },
   {
    "duration": 32,
    "start_time": "2022-04-16T09:30:25.890Z"
   },
   {
    "duration": 4,
    "start_time": "2022-04-16T09:30:25.923Z"
   },
   {
    "duration": 5,
    "start_time": "2022-04-16T09:30:25.928Z"
   },
   {
    "duration": 5,
    "start_time": "2022-04-16T09:30:25.934Z"
   },
   {
    "duration": 106,
    "start_time": "2022-04-16T09:32:40.554Z"
   },
   {
    "duration": 5,
    "start_time": "2022-04-16T09:33:58.084Z"
   },
   {
    "duration": 51,
    "start_time": "2022-04-16T09:33:58.709Z"
   },
   {
    "duration": 21,
    "start_time": "2022-04-16T09:34:48.242Z"
   },
   {
    "duration": 27,
    "start_time": "2022-04-16T09:34:56.116Z"
   },
   {
    "duration": 1557,
    "start_time": "2022-04-16T09:37:11.057Z"
   },
   {
    "duration": 844,
    "start_time": "2022-04-16T09:37:12.616Z"
   },
   {
    "duration": 17,
    "start_time": "2022-04-16T09:37:13.461Z"
   },
   {
    "duration": 3,
    "start_time": "2022-04-16T09:37:13.479Z"
   },
   {
    "duration": 17,
    "start_time": "2022-04-16T09:37:13.484Z"
   },
   {
    "duration": 6,
    "start_time": "2022-04-16T09:37:13.503Z"
   },
   {
    "duration": 5,
    "start_time": "2022-04-16T09:37:13.510Z"
   },
   {
    "duration": 16,
    "start_time": "2022-04-16T09:37:13.516Z"
   },
   {
    "duration": 10,
    "start_time": "2022-04-16T09:37:13.534Z"
   },
   {
    "duration": 18,
    "start_time": "2022-04-16T09:37:13.545Z"
   },
   {
    "duration": 11,
    "start_time": "2022-04-16T09:37:13.564Z"
   },
   {
    "duration": 306,
    "start_time": "2022-04-16T09:37:13.577Z"
   },
   {
    "duration": 18,
    "start_time": "2022-04-16T09:37:13.885Z"
   },
   {
    "duration": 571,
    "start_time": "2022-04-16T09:37:13.906Z"
   },
   {
    "duration": 44,
    "start_time": "2022-04-16T09:37:42.860Z"
   },
   {
    "duration": 1535,
    "start_time": "2022-04-16T09:38:19.530Z"
   },
   {
    "duration": 798,
    "start_time": "2022-04-16T09:38:21.067Z"
   },
   {
    "duration": 17,
    "start_time": "2022-04-16T09:38:21.867Z"
   },
   {
    "duration": 15,
    "start_time": "2022-04-16T09:38:21.886Z"
   },
   {
    "duration": 22,
    "start_time": "2022-04-16T09:38:21.903Z"
   },
   {
    "duration": 7,
    "start_time": "2022-04-16T09:38:21.927Z"
   },
   {
    "duration": 5,
    "start_time": "2022-04-16T09:38:21.935Z"
   },
   {
    "duration": 5,
    "start_time": "2022-04-16T09:38:21.941Z"
   },
   {
    "duration": 9,
    "start_time": "2022-04-16T09:38:21.947Z"
   },
   {
    "duration": 41,
    "start_time": "2022-04-16T09:38:21.959Z"
   },
   {
    "duration": 14,
    "start_time": "2022-04-16T09:38:22.002Z"
   },
   {
    "duration": 540,
    "start_time": "2022-04-16T09:38:22.018Z"
   },
   {
    "duration": 13,
    "start_time": "2022-04-16T09:38:22.561Z"
   },
   {
    "duration": 572,
    "start_time": "2022-04-16T09:38:22.576Z"
   },
   {
    "duration": 29,
    "start_time": "2022-04-16T09:38:23.149Z"
   },
   {
    "duration": 4,
    "start_time": "2022-04-16T09:38:23.179Z"
   },
   {
    "duration": 5,
    "start_time": "2022-04-16T09:38:23.200Z"
   },
   {
    "duration": 15,
    "start_time": "2022-04-16T09:38:23.206Z"
   },
   {
    "duration": 130,
    "start_time": "2022-04-16T09:38:23.223Z"
   },
   {
    "duration": 0,
    "start_time": "2022-04-16T09:38:23.354Z"
   },
   {
    "duration": 27,
    "start_time": "2022-04-16T09:38:27.306Z"
   },
   {
    "duration": 8,
    "start_time": "2022-04-16T09:38:35.593Z"
   },
   {
    "duration": 10,
    "start_time": "2022-04-16T09:39:07.034Z"
   },
   {
    "duration": 27,
    "start_time": "2022-04-16T09:39:32.178Z"
   },
   {
    "duration": 4,
    "start_time": "2022-04-16T09:39:35.799Z"
   },
   {
    "duration": 27,
    "start_time": "2022-04-16T09:39:56.831Z"
   },
   {
    "duration": 7,
    "start_time": "2022-04-16T09:40:46.257Z"
   },
   {
    "duration": 5,
    "start_time": "2022-04-16T09:41:13.671Z"
   },
   {
    "duration": 5,
    "start_time": "2022-04-16T09:41:39.440Z"
   },
   {
    "duration": 10,
    "start_time": "2022-04-16T09:42:08.781Z"
   },
   {
    "duration": 8,
    "start_time": "2022-04-16T09:42:13.172Z"
   },
   {
    "duration": 25,
    "start_time": "2022-04-16T09:47:04.408Z"
   },
   {
    "duration": 4,
    "start_time": "2022-04-16T09:47:50.671Z"
   },
   {
    "duration": 20,
    "start_time": "2022-04-16T09:48:08.873Z"
   },
   {
    "duration": 3,
    "start_time": "2022-04-16T09:48:09.537Z"
   },
   {
    "duration": 26,
    "start_time": "2022-04-16T09:48:25.789Z"
   },
   {
    "duration": 4,
    "start_time": "2022-04-16T09:48:26.517Z"
   },
   {
    "duration": 1893,
    "start_time": "2022-04-16T09:48:44.869Z"
   },
   {
    "duration": 5,
    "start_time": "2022-04-16T09:49:15.325Z"
   },
   {
    "duration": 5905,
    "start_time": "2022-04-16T09:49:15.867Z"
   },
   {
    "duration": 5,
    "start_time": "2022-04-16T09:49:36.413Z"
   },
   {
    "duration": 5849,
    "start_time": "2022-04-16T09:49:36.888Z"
   },
   {
    "duration": 3,
    "start_time": "2022-04-16T09:50:05.595Z"
   },
   {
    "duration": 9,
    "start_time": "2022-04-16T09:50:14.030Z"
   },
   {
    "duration": 4,
    "start_time": "2022-04-16T09:50:18.573Z"
   },
   {
    "duration": 4,
    "start_time": "2022-04-16T09:50:24.096Z"
   },
   {
    "duration": 5,
    "start_time": "2022-04-16T09:50:35.813Z"
   },
   {
    "duration": 10,
    "start_time": "2022-04-16T09:51:56.086Z"
   },
   {
    "duration": 5,
    "start_time": "2022-04-16T09:52:10.570Z"
   },
   {
    "duration": 4,
    "start_time": "2022-04-16T09:52:15.838Z"
   },
   {
    "duration": 9,
    "start_time": "2022-04-16T09:52:25.473Z"
   },
   {
    "duration": 4,
    "start_time": "2022-04-16T09:52:49.899Z"
   },
   {
    "duration": 5,
    "start_time": "2022-04-16T09:52:57.227Z"
   },
   {
    "duration": 5,
    "start_time": "2022-04-16T09:57:14.956Z"
   },
   {
    "duration": 12,
    "start_time": "2022-04-16T09:57:16.385Z"
   },
   {
    "duration": 5897,
    "start_time": "2022-04-16T09:57:23.775Z"
   },
   {
    "duration": 4,
    "start_time": "2022-04-16T09:57:44.903Z"
   },
   {
    "duration": 1246,
    "start_time": "2022-04-16T09:57:46.198Z"
   },
   {
    "duration": 2560,
    "start_time": "2022-04-16T09:58:02.107Z"
   },
   {
    "duration": 611,
    "start_time": "2022-04-16T10:00:27.454Z"
   },
   {
    "duration": 1285,
    "start_time": "2022-04-16T10:00:35.900Z"
   },
   {
    "duration": 197,
    "start_time": "2022-04-16T10:01:23.872Z"
   },
   {
    "duration": 6,
    "start_time": "2022-04-16T10:01:31.850Z"
   },
   {
    "duration": 4,
    "start_time": "2022-04-16T10:02:18.150Z"
   },
   {
    "duration": 3,
    "start_time": "2022-04-16T10:02:21.180Z"
   },
   {
    "duration": 183,
    "start_time": "2022-04-16T10:02:27.301Z"
   },
   {
    "duration": 3,
    "start_time": "2022-04-16T10:02:30.610Z"
   },
   {
    "duration": 410,
    "start_time": "2022-04-16T10:03:03.254Z"
   },
   {
    "duration": 5,
    "start_time": "2022-04-16T10:03:28.644Z"
   },
   {
    "duration": 1320,
    "start_time": "2022-04-16T10:03:29.148Z"
   },
   {
    "duration": 27,
    "start_time": "2022-04-16T10:07:24.634Z"
   },
   {
    "duration": 4,
    "start_time": "2022-04-16T10:07:25.465Z"
   },
   {
    "duration": 1772,
    "start_time": "2022-04-16T10:07:29.553Z"
   },
   {
    "duration": 5,
    "start_time": "2022-04-16T10:09:10.213Z"
   },
   {
    "duration": 1817,
    "start_time": "2022-04-16T10:09:11.133Z"
   },
   {
    "duration": 6,
    "start_time": "2022-04-16T10:10:30.881Z"
   },
   {
    "duration": 1798,
    "start_time": "2022-04-16T10:10:31.666Z"
   },
   {
    "duration": 5,
    "start_time": "2022-04-16T10:11:47.332Z"
   },
   {
    "duration": 1771,
    "start_time": "2022-04-16T10:11:48.893Z"
   },
   {
    "duration": 5,
    "start_time": "2022-04-16T10:13:42.558Z"
   },
   {
    "duration": 1766,
    "start_time": "2022-04-16T10:13:43.428Z"
   },
   {
    "duration": 3699,
    "start_time": "2022-04-16T10:14:24.023Z"
   },
   {
    "duration": 5,
    "start_time": "2022-04-16T10:15:28.885Z"
   },
   {
    "duration": 1759,
    "start_time": "2022-04-16T10:15:40.227Z"
   },
   {
    "duration": 5,
    "start_time": "2022-04-16T10:17:30.683Z"
   },
   {
    "duration": 1755,
    "start_time": "2022-04-16T10:17:32.784Z"
   },
   {
    "duration": 5,
    "start_time": "2022-04-16T10:18:52.274Z"
   },
   {
    "duration": 1767,
    "start_time": "2022-04-16T10:18:52.708Z"
   },
   {
    "duration": 5,
    "start_time": "2022-04-16T10:19:42.830Z"
   },
   {
    "duration": 1754,
    "start_time": "2022-04-16T10:19:43.218Z"
   },
   {
    "duration": 5,
    "start_time": "2022-04-16T10:20:20.333Z"
   },
   {
    "duration": 1753,
    "start_time": "2022-04-16T10:20:20.759Z"
   },
   {
    "duration": 17946,
    "start_time": "2022-04-16T10:20:30.872Z"
   },
   {
    "duration": 22975,
    "start_time": "2022-04-16T10:31:22.926Z"
   },
   {
    "duration": 394596,
    "start_time": "2022-04-16T10:32:45.740Z"
   },
   {
    "duration": 4,
    "start_time": "2022-04-16T10:39:41.691Z"
   },
   {
    "duration": 1562260,
    "start_time": "2022-04-16T10:41:13.500Z"
   },
   {
    "duration": 2215214,
    "start_time": "2022-04-16T11:10:09.793Z"
   },
   {
    "duration": 1303001,
    "start_time": "2022-04-16T11:47:50.790Z"
   },
   {
    "duration": 4,
    "start_time": "2022-04-16T12:11:28.669Z"
   },
   {
    "duration": 2079753,
    "start_time": "2022-04-16T12:11:36.713Z"
   },
   {
    "duration": 1393,
    "start_time": "2022-04-16T12:48:08.313Z"
   },
   {
    "duration": 805,
    "start_time": "2022-04-16T12:48:09.709Z"
   },
   {
    "duration": 16,
    "start_time": "2022-04-16T12:48:10.516Z"
   },
   {
    "duration": 11,
    "start_time": "2022-04-16T12:48:10.534Z"
   },
   {
    "duration": 15,
    "start_time": "2022-04-16T12:48:10.547Z"
   },
   {
    "duration": 3,
    "start_time": "2022-04-16T12:48:10.563Z"
   },
   {
    "duration": 37,
    "start_time": "2022-04-16T12:48:10.568Z"
   },
   {
    "duration": 7,
    "start_time": "2022-04-16T12:48:10.606Z"
   },
   {
    "duration": 4,
    "start_time": "2022-04-16T12:48:10.615Z"
   },
   {
    "duration": 6,
    "start_time": "2022-04-16T12:48:10.621Z"
   },
   {
    "duration": 8,
    "start_time": "2022-04-16T12:48:10.628Z"
   },
   {
    "duration": 31,
    "start_time": "2022-04-16T12:48:10.638Z"
   },
   {
    "duration": 31,
    "start_time": "2022-04-16T12:48:10.671Z"
   },
   {
    "duration": 297,
    "start_time": "2022-04-16T12:48:10.703Z"
   },
   {
    "duration": 9,
    "start_time": "2022-04-16T12:48:11.001Z"
   },
   {
    "duration": 549,
    "start_time": "2022-04-16T12:48:11.011Z"
   },
   {
    "duration": 24,
    "start_time": "2022-04-16T12:48:11.562Z"
   },
   {
    "duration": 13,
    "start_time": "2022-04-16T12:48:11.588Z"
   },
   {
    "duration": 4,
    "start_time": "2022-04-16T12:48:11.602Z"
   },
   {
    "duration": 17,
    "start_time": "2022-04-16T12:48:11.608Z"
   },
   {
    "duration": 270036,
    "start_time": "2022-04-16T12:48:11.627Z"
   },
   {
    "duration": 0,
    "start_time": "2022-04-16T12:52:41.665Z"
   },
   {
    "duration": 4,
    "start_time": "2022-04-16T12:53:23.242Z"
   },
   {
    "duration": 8035613,
    "start_time": "2022-04-16T12:53:38.308Z"
   },
   {
    "duration": 2,
    "start_time": "2022-04-16T15:07:33.924Z"
   },
   {
    "duration": 4,
    "start_time": "2022-04-16T15:19:40.073Z"
   },
   {
    "duration": 6930641,
    "start_time": "2022-04-16T15:20:38.119Z"
   },
   {
    "duration": 13,
    "start_time": "2022-04-16T17:17:13.388Z"
   },
   {
    "duration": 12,
    "start_time": "2022-04-16T17:17:35.759Z"
   },
   {
    "duration": 2,
    "start_time": "2022-04-16T17:18:28.235Z"
   },
   {
    "duration": 2413,
    "start_time": "2022-04-16T17:18:50.198Z"
   },
   {
    "duration": 10,
    "start_time": "2022-04-16T17:19:01.326Z"
   },
   {
    "duration": 2300,
    "start_time": "2022-04-16T17:19:16.785Z"
   },
   {
    "duration": 21,
    "start_time": "2022-04-16T17:19:20.804Z"
   },
   {
    "duration": 18,
    "start_time": "2022-04-16T17:19:40.538Z"
   },
   {
    "duration": 4599,
    "start_time": "2022-04-16T17:20:01.233Z"
   },
   {
    "duration": 9,
    "start_time": "2022-04-16T17:20:19.870Z"
   },
   {
    "duration": 683721,
    "start_time": "2022-04-16T17:20:32.947Z"
   },
   {
    "duration": 531,
    "start_time": "2022-04-16T17:31:56.670Z"
   },
   {
    "duration": 697,
    "start_time": "2022-04-16T17:52:32.133Z"
   },
   {
    "duration": 730,
    "start_time": "2022-04-16T17:53:12.223Z"
   },
   {
    "duration": 2243,
    "start_time": "2022-04-17T17:58:00.248Z"
   },
   {
    "duration": 966,
    "start_time": "2022-04-17T17:58:02.494Z"
   },
   {
    "duration": 37,
    "start_time": "2022-04-17T17:58:03.462Z"
   },
   {
    "duration": 18,
    "start_time": "2022-04-17T17:58:03.502Z"
   },
   {
    "duration": 26,
    "start_time": "2022-04-17T17:58:03.522Z"
   },
   {
    "duration": 32,
    "start_time": "2022-04-17T17:58:03.551Z"
   },
   {
    "duration": 14,
    "start_time": "2022-04-17T17:58:03.586Z"
   },
   {
    "duration": 11,
    "start_time": "2022-04-17T17:58:03.602Z"
   },
   {
    "duration": 6,
    "start_time": "2022-04-17T17:58:03.615Z"
   },
   {
    "duration": 5,
    "start_time": "2022-04-17T17:58:03.624Z"
   },
   {
    "duration": 8,
    "start_time": "2022-04-17T17:58:03.632Z"
   },
   {
    "duration": 79,
    "start_time": "2022-04-17T17:58:03.642Z"
   },
   {
    "duration": 5669,
    "start_time": "2022-04-17T17:58:03.724Z"
   },
   {
    "duration": 16,
    "start_time": "2022-04-17T17:58:09.395Z"
   },
   {
    "duration": 578,
    "start_time": "2022-04-17T17:58:09.413Z"
   },
   {
    "duration": 14,
    "start_time": "2022-04-17T17:58:09.993Z"
   },
   {
    "duration": 1046,
    "start_time": "2022-04-17T17:58:10.009Z"
   },
   {
    "duration": 51,
    "start_time": "2022-04-17T17:58:11.057Z"
   },
   {
    "duration": 5,
    "start_time": "2022-04-17T17:58:11.110Z"
   },
   {
    "duration": 8,
    "start_time": "2022-04-17T17:58:11.117Z"
   },
   {
    "duration": 11,
    "start_time": "2022-04-17T17:58:11.126Z"
   },
   {
    "duration": 6,
    "start_time": "2022-04-17T17:58:11.139Z"
   },
   {
    "duration": 35,
    "start_time": "2022-04-17T17:58:11.147Z"
   },
   {
    "duration": 3,
    "start_time": "2022-04-17T17:58:11.184Z"
   },
   {
    "duration": 165,
    "start_time": "2022-04-17T17:59:37.319Z"
   },
   {
    "duration": 12,
    "start_time": "2022-04-17T17:59:44.864Z"
   },
   {
    "duration": 13,
    "start_time": "2022-04-17T18:00:13.328Z"
   },
   {
    "duration": 4,
    "start_time": "2022-04-17T18:00:36.617Z"
   },
   {
    "duration": 65,
    "start_time": "2022-04-17T18:03:22.876Z"
   },
   {
    "duration": 14,
    "start_time": "2022-04-17T18:06:02.472Z"
   },
   {
    "duration": 880,
    "start_time": "2022-04-17T18:08:11.011Z"
   },
   {
    "duration": 13,
    "start_time": "2022-04-17T18:09:28.237Z"
   },
   {
    "duration": 768,
    "start_time": "2022-04-17T18:09:31.416Z"
   },
   {
    "duration": 302,
    "start_time": "2022-04-17T18:09:32.982Z"
   },
   {
    "duration": 17006323,
    "start_time": "2022-04-17T18:19:28.876Z"
   },
   {
    "duration": 1357138,
    "start_time": "2022-04-17T23:02:55.203Z"
   },
   {
    "duration": 990,
    "start_time": "2022-04-17T23:25:32.343Z"
   },
   {
    "duration": 974,
    "start_time": "2022-04-18T04:40:44.921Z"
   },
   {
    "duration": 6,
    "start_time": "2022-04-18T04:42:02.410Z"
   },
   {
    "duration": 6,
    "start_time": "2022-04-18T04:42:42.771Z"
   }
  ],
  "kernelspec": {
   "display_name": "Python 3",
   "language": "python",
   "name": "python3"
  },
  "language_info": {
   "codemirror_mode": {
    "name": "ipython",
    "version": 3
   },
   "file_extension": ".py",
   "mimetype": "text/x-python",
   "name": "python",
   "nbconvert_exporter": "python",
   "pygments_lexer": "ipython3",
   "version": "3.8.8"
  },
  "toc": {
   "base_numbering": 1,
   "nav_menu": {},
   "number_sections": true,
   "sideBar": true,
   "skip_h1_title": true,
   "title_cell": "Table of Contents",
   "title_sidebar": "Contents",
   "toc_cell": false,
   "toc_position": {},
   "toc_section_display": true,
   "toc_window_display": false
  }
 },
 "nbformat": 4,
 "nbformat_minor": 2
}
