{
 "cells": [
  {
   "cell_type": "markdown",
   "metadata": {},
   "source": [
    "# General feedback\n",
    "First of all, your project is accepted! You've done an amazing job! I want to highlight the beautiful design of the notebook separately. I really liked that the comments are written only in markdowns. And I also want to highlight the introductions and conclusions. Also the graphics are flawless! The analysis is also done extremely professionally!\n",
    "\n",
    "\n",
    "Good luck in future learning! "
   ]
  },
  {
   "cell_type": "markdown",
   "metadata": {},
   "source": [
    "# Statistical Data Analysis Project\n",
    "This is a data analysis made for the telecom operator Megaline. The company offers its clients two prepaid plans, Surf and Ultimate. The commercial department wants to know which of the plans brings in more revenue in order to adjust the advertising budget.\n",
    "\n",
    "We are going to carry out a preliminary analysis of the plans based on a relatively small client selection. We'll have the data on 500 Megaline clients: who the clients are, where they're from, which plan they use, and the number of calls they made and text messages they sent in 2018. Our goal is to analyze clients' behavior and determine which prepaid plan brings in more revenue."
   ]
  },
  {
   "cell_type": "markdown",
   "metadata": {},
   "source": [
    "## Raw Data\n",
    "Megaline rounds seconds up to minutes, and megabytes to gigabytes. For calls, each individual call is rounded up: even if the call lasted just one second, it will be counted as one minute. For web traffic, individual web sessions are not rounded up. Instead, the total for the month is rounded up. If someone uses 1025 megabytes this month, they will be charged for 2 gigabytes."
   ]
  },
  {
   "cell_type": "code",
   "execution_count": 1,
   "metadata": {},
   "outputs": [],
   "source": [
    "import pandas as pd\n",
    "import numpy as np\n",
    "import matplotlib.pyplot as plt\n",
    "from scipy import stats as st\n",
    "from math import sqrt, factorial"
   ]
  },
  {
   "cell_type": "code",
   "execution_count": 2,
   "metadata": {},
   "outputs": [],
   "source": [
    "calls = pd.read_csv('/datasets/megaline_calls.csv', parse_dates=['call_date'])\n",
    "internet = pd.read_csv('/datasets/megaline_internet.csv', parse_dates=['session_date'])\n",
    "messages = pd.read_csv('/datasets/megaline_messages.csv', parse_dates=['message_date'])\n",
    "plans = pd.read_csv('/datasets/megaline_plans.csv', index_col='plan_name')\n",
    "users = pd.read_csv('/datasets/megaline_users.csv', parse_dates=['reg_date'])"
   ]
  },
  {
   "cell_type": "markdown",
   "metadata": {},
   "source": [
    "### Users\n",
    "Column descriptions:\n",
    "\n",
    "`user_id` — unique user identifier\n",
    "\n",
    "`first_name` — user's name\n",
    "\n",
    "`last_name` — user's last name\n",
    "\n",
    "`age` — user's age (years)\n",
    "\n",
    "`reg_date` — subscription date (dd, mm, yy)\n",
    "\n",
    "`churn_date` — the date the user stopped using the service (if the value is missing, the calling plan was being used when this data was retrieved)\n",
    "\n",
    "`city` — user's city of residence\n",
    "\n",
    "`plan` — calling plan name"
   ]
  },
  {
   "cell_type": "code",
   "execution_count": 3,
   "metadata": {},
   "outputs": [
    {
     "data": {
      "text/html": [
       "<div>\n",
       "<style scoped>\n",
       "    .dataframe tbody tr th:only-of-type {\n",
       "        vertical-align: middle;\n",
       "    }\n",
       "\n",
       "    .dataframe tbody tr th {\n",
       "        vertical-align: top;\n",
       "    }\n",
       "\n",
       "    .dataframe thead th {\n",
       "        text-align: right;\n",
       "    }\n",
       "</style>\n",
       "<table border=\"1\" class=\"dataframe\">\n",
       "  <thead>\n",
       "    <tr style=\"text-align: right;\">\n",
       "      <th></th>\n",
       "      <th>user_id</th>\n",
       "      <th>first_name</th>\n",
       "      <th>last_name</th>\n",
       "      <th>age</th>\n",
       "      <th>city</th>\n",
       "      <th>reg_date</th>\n",
       "      <th>plan</th>\n",
       "      <th>churn_date</th>\n",
       "    </tr>\n",
       "  </thead>\n",
       "  <tbody>\n",
       "    <tr>\n",
       "      <td>226</td>\n",
       "      <td>1226</td>\n",
       "      <td>Denver</td>\n",
       "      <td>Harrell</td>\n",
       "      <td>64</td>\n",
       "      <td>Riverside-San Bernardino-Ontario, CA MSA</td>\n",
       "      <td>2018-03-15</td>\n",
       "      <td>ultimate</td>\n",
       "      <td>NaN</td>\n",
       "    </tr>\n",
       "    <tr>\n",
       "      <td>173</td>\n",
       "      <td>1173</td>\n",
       "      <td>Tristan</td>\n",
       "      <td>Cain</td>\n",
       "      <td>27</td>\n",
       "      <td>Oxnard-Thousand Oaks-Ventura, CA MSA</td>\n",
       "      <td>2018-09-28</td>\n",
       "      <td>surf</td>\n",
       "      <td>NaN</td>\n",
       "    </tr>\n",
       "    <tr>\n",
       "      <td>320</td>\n",
       "      <td>1320</td>\n",
       "      <td>Bert</td>\n",
       "      <td>Wells</td>\n",
       "      <td>23</td>\n",
       "      <td>Los Angeles-Long Beach-Anaheim, CA MSA</td>\n",
       "      <td>2018-02-23</td>\n",
       "      <td>surf</td>\n",
       "      <td>NaN</td>\n",
       "    </tr>\n",
       "    <tr>\n",
       "      <td>420</td>\n",
       "      <td>1420</td>\n",
       "      <td>Season</td>\n",
       "      <td>Hardy</td>\n",
       "      <td>27</td>\n",
       "      <td>San Francisco-Oakland-Berkeley, CA MSA</td>\n",
       "      <td>2018-02-22</td>\n",
       "      <td>ultimate</td>\n",
       "      <td>NaN</td>\n",
       "    </tr>\n",
       "    <tr>\n",
       "      <td>145</td>\n",
       "      <td>1145</td>\n",
       "      <td>Venice</td>\n",
       "      <td>Brooks</td>\n",
       "      <td>29</td>\n",
       "      <td>San Jose-Sunnyvale-Santa Clara, CA MSA</td>\n",
       "      <td>2018-04-12</td>\n",
       "      <td>surf</td>\n",
       "      <td>NaN</td>\n",
       "    </tr>\n",
       "  </tbody>\n",
       "</table>\n",
       "</div>"
      ],
      "text/plain": [
       "     user_id first_name last_name  age  \\\n",
       "226     1226     Denver   Harrell   64   \n",
       "173     1173    Tristan      Cain   27   \n",
       "320     1320       Bert     Wells   23   \n",
       "420     1420     Season     Hardy   27   \n",
       "145     1145     Venice    Brooks   29   \n",
       "\n",
       "                                         city   reg_date      plan churn_date  \n",
       "226  Riverside-San Bernardino-Ontario, CA MSA 2018-03-15  ultimate        NaN  \n",
       "173      Oxnard-Thousand Oaks-Ventura, CA MSA 2018-09-28      surf        NaN  \n",
       "320    Los Angeles-Long Beach-Anaheim, CA MSA 2018-02-23      surf        NaN  \n",
       "420    San Francisco-Oakland-Berkeley, CA MSA 2018-02-22  ultimate        NaN  \n",
       "145    San Jose-Sunnyvale-Santa Clara, CA MSA 2018-04-12      surf        NaN  "
      ]
     },
     "execution_count": 3,
     "metadata": {},
     "output_type": "execute_result"
    }
   ],
   "source": [
    "users.sample(5)"
   ]
  },
  {
   "cell_type": "code",
   "execution_count": 4,
   "metadata": {},
   "outputs": [
    {
     "name": "stdout",
     "output_type": "stream",
     "text": [
      "<class 'pandas.core.frame.DataFrame'>\n",
      "RangeIndex: 500 entries, 0 to 499\n",
      "Data columns (total 8 columns):\n",
      "user_id       500 non-null int64\n",
      "first_name    500 non-null object\n",
      "last_name     500 non-null object\n",
      "age           500 non-null int64\n",
      "city          500 non-null object\n",
      "reg_date      500 non-null datetime64[ns]\n",
      "plan          500 non-null object\n",
      "churn_date    34 non-null object\n",
      "dtypes: datetime64[ns](1), int64(2), object(5)\n",
      "memory usage: 31.4+ KB\n"
     ]
    }
   ],
   "source": [
    "users.info()"
   ]
  },
  {
   "cell_type": "code",
   "execution_count": 5,
   "metadata": {},
   "outputs": [
    {
     "data": {
      "text/html": [
       "<div>\n",
       "<style scoped>\n",
       "    .dataframe tbody tr th:only-of-type {\n",
       "        vertical-align: middle;\n",
       "    }\n",
       "\n",
       "    .dataframe tbody tr th {\n",
       "        vertical-align: top;\n",
       "    }\n",
       "\n",
       "    .dataframe thead th {\n",
       "        text-align: right;\n",
       "    }\n",
       "</style>\n",
       "<table border=\"1\" class=\"dataframe\">\n",
       "  <thead>\n",
       "    <tr style=\"text-align: right;\">\n",
       "      <th></th>\n",
       "      <th>count</th>\n",
       "      <th>mean</th>\n",
       "      <th>std</th>\n",
       "      <th>min</th>\n",
       "      <th>25%</th>\n",
       "      <th>50%</th>\n",
       "      <th>75%</th>\n",
       "      <th>max</th>\n",
       "    </tr>\n",
       "  </thead>\n",
       "  <tbody>\n",
       "    <tr>\n",
       "      <td>user_id</td>\n",
       "      <td>500.0</td>\n",
       "      <td>1249.500</td>\n",
       "      <td>144.481833</td>\n",
       "      <td>1000.0</td>\n",
       "      <td>1124.75</td>\n",
       "      <td>1249.5</td>\n",
       "      <td>1374.25</td>\n",
       "      <td>1499.0</td>\n",
       "    </tr>\n",
       "    <tr>\n",
       "      <td>age</td>\n",
       "      <td>500.0</td>\n",
       "      <td>45.486</td>\n",
       "      <td>16.972269</td>\n",
       "      <td>18.0</td>\n",
       "      <td>30.00</td>\n",
       "      <td>46.0</td>\n",
       "      <td>61.00</td>\n",
       "      <td>75.0</td>\n",
       "    </tr>\n",
       "  </tbody>\n",
       "</table>\n",
       "</div>"
      ],
      "text/plain": [
       "         count      mean         std     min      25%     50%      75%     max\n",
       "user_id  500.0  1249.500  144.481833  1000.0  1124.75  1249.5  1374.25  1499.0\n",
       "age      500.0    45.486   16.972269    18.0    30.00    46.0    61.00    75.0"
      ]
     },
     "execution_count": 5,
     "metadata": {},
     "output_type": "execute_result"
    }
   ],
   "source": [
    "users.describe().T"
   ]
  },
  {
   "cell_type": "code",
   "execution_count": 6,
   "metadata": {},
   "outputs": [
    {
     "data": {
      "text/html": [
       "<div>\n",
       "<style scoped>\n",
       "    .dataframe tbody tr th:only-of-type {\n",
       "        vertical-align: middle;\n",
       "    }\n",
       "\n",
       "    .dataframe tbody tr th {\n",
       "        vertical-align: top;\n",
       "    }\n",
       "\n",
       "    .dataframe thead th {\n",
       "        text-align: right;\n",
       "    }\n",
       "</style>\n",
       "<table border=\"1\" class=\"dataframe\">\n",
       "  <thead>\n",
       "    <tr style=\"text-align: right;\">\n",
       "      <th></th>\n",
       "      <th>count</th>\n",
       "      <th>unique</th>\n",
       "      <th>top</th>\n",
       "      <th>freq</th>\n",
       "    </tr>\n",
       "  </thead>\n",
       "  <tbody>\n",
       "    <tr>\n",
       "      <td>first_name</td>\n",
       "      <td>500</td>\n",
       "      <td>458</td>\n",
       "      <td>Leonila</td>\n",
       "      <td>3</td>\n",
       "    </tr>\n",
       "    <tr>\n",
       "      <td>last_name</td>\n",
       "      <td>500</td>\n",
       "      <td>399</td>\n",
       "      <td>Reese</td>\n",
       "      <td>3</td>\n",
       "    </tr>\n",
       "    <tr>\n",
       "      <td>city</td>\n",
       "      <td>500</td>\n",
       "      <td>73</td>\n",
       "      <td>New York-Newark-Jersey City, NY-NJ-PA MSA</td>\n",
       "      <td>80</td>\n",
       "    </tr>\n",
       "    <tr>\n",
       "      <td>plan</td>\n",
       "      <td>500</td>\n",
       "      <td>2</td>\n",
       "      <td>surf</td>\n",
       "      <td>339</td>\n",
       "    </tr>\n",
       "    <tr>\n",
       "      <td>churn_date</td>\n",
       "      <td>34</td>\n",
       "      <td>29</td>\n",
       "      <td>2018-12-18</td>\n",
       "      <td>3</td>\n",
       "    </tr>\n",
       "  </tbody>\n",
       "</table>\n",
       "</div>"
      ],
      "text/plain": [
       "           count unique                                        top freq\n",
       "first_name   500    458                                    Leonila    3\n",
       "last_name    500    399                                      Reese    3\n",
       "city         500     73  New York-Newark-Jersey City, NY-NJ-PA MSA   80\n",
       "plan         500      2                                       surf  339\n",
       "churn_date    34     29                                 2018-12-18    3"
      ]
     },
     "execution_count": 6,
     "metadata": {},
     "output_type": "execute_result"
    }
   ],
   "source": [
    "users.describe(include=np.object).T"
   ]
  },
  {
   "cell_type": "markdown",
   "metadata": {},
   "source": [
    "We have data on 500 users from 73 cities, aged 18 to 75 years, 339 of which used the Surf plan (68%) while 161 used the Ultimate plan (32%)."
   ]
  },
  {
   "cell_type": "markdown",
   "metadata": {},
   "source": [
    "### Calls\n",
    "Column descriptions:\n",
    "\n",
    "`id` — unique call identifier\n",
    "\n",
    "`call_date` — call date\n",
    "\n",
    "`duration` — call duration (in minutes)\n",
    "\n",
    "`user_id` — the identifier of the user making the call"
   ]
  },
  {
   "cell_type": "code",
   "execution_count": 7,
   "metadata": {},
   "outputs": [
    {
     "data": {
      "text/html": [
       "<div>\n",
       "<style scoped>\n",
       "    .dataframe tbody tr th:only-of-type {\n",
       "        vertical-align: middle;\n",
       "    }\n",
       "\n",
       "    .dataframe tbody tr th {\n",
       "        vertical-align: top;\n",
       "    }\n",
       "\n",
       "    .dataframe thead th {\n",
       "        text-align: right;\n",
       "    }\n",
       "</style>\n",
       "<table border=\"1\" class=\"dataframe\">\n",
       "  <thead>\n",
       "    <tr style=\"text-align: right;\">\n",
       "      <th></th>\n",
       "      <th>id</th>\n",
       "      <th>user_id</th>\n",
       "      <th>call_date</th>\n",
       "      <th>duration</th>\n",
       "    </tr>\n",
       "  </thead>\n",
       "  <tbody>\n",
       "    <tr>\n",
       "      <td>17255</td>\n",
       "      <td>1066_363</td>\n",
       "      <td>1066</td>\n",
       "      <td>2018-12-05</td>\n",
       "      <td>9.77</td>\n",
       "    </tr>\n",
       "    <tr>\n",
       "      <td>63343</td>\n",
       "      <td>1231_57</td>\n",
       "      <td>1231</td>\n",
       "      <td>2018-10-28</td>\n",
       "      <td>1.24</td>\n",
       "    </tr>\n",
       "    <tr>\n",
       "      <td>1503</td>\n",
       "      <td>1008_144</td>\n",
       "      <td>1008</td>\n",
       "      <td>2018-10-20</td>\n",
       "      <td>7.29</td>\n",
       "    </tr>\n",
       "    <tr>\n",
       "      <td>107015</td>\n",
       "      <td>1380_54</td>\n",
       "      <td>1380</td>\n",
       "      <td>2018-11-02</td>\n",
       "      <td>5.69</td>\n",
       "    </tr>\n",
       "    <tr>\n",
       "      <td>69701</td>\n",
       "      <td>1249_674</td>\n",
       "      <td>1249</td>\n",
       "      <td>2018-09-25</td>\n",
       "      <td>13.17</td>\n",
       "    </tr>\n",
       "  </tbody>\n",
       "</table>\n",
       "</div>"
      ],
      "text/plain": [
       "              id  user_id  call_date  duration\n",
       "17255   1066_363     1066 2018-12-05      9.77\n",
       "63343    1231_57     1231 2018-10-28      1.24\n",
       "1503    1008_144     1008 2018-10-20      7.29\n",
       "107015   1380_54     1380 2018-11-02      5.69\n",
       "69701   1249_674     1249 2018-09-25     13.17"
      ]
     },
     "execution_count": 7,
     "metadata": {},
     "output_type": "execute_result"
    }
   ],
   "source": [
    "calls.sample(5)"
   ]
  },
  {
   "cell_type": "code",
   "execution_count": 8,
   "metadata": {},
   "outputs": [
    {
     "name": "stdout",
     "output_type": "stream",
     "text": [
      "<class 'pandas.core.frame.DataFrame'>\n",
      "RangeIndex: 137735 entries, 0 to 137734\n",
      "Data columns (total 4 columns):\n",
      "id           137735 non-null object\n",
      "user_id      137735 non-null int64\n",
      "call_date    137735 non-null datetime64[ns]\n",
      "duration     137735 non-null float64\n",
      "dtypes: datetime64[ns](1), float64(1), int64(1), object(1)\n",
      "memory usage: 4.2+ MB\n"
     ]
    }
   ],
   "source": [
    "calls.info()"
   ]
  },
  {
   "cell_type": "code",
   "execution_count": 9,
   "metadata": {},
   "outputs": [
    {
     "data": {
      "text/html": [
       "<div>\n",
       "<style scoped>\n",
       "    .dataframe tbody tr th:only-of-type {\n",
       "        vertical-align: middle;\n",
       "    }\n",
       "\n",
       "    .dataframe tbody tr th {\n",
       "        vertical-align: top;\n",
       "    }\n",
       "\n",
       "    .dataframe thead th {\n",
       "        text-align: right;\n",
       "    }\n",
       "</style>\n",
       "<table border=\"1\" class=\"dataframe\">\n",
       "  <thead>\n",
       "    <tr style=\"text-align: right;\">\n",
       "      <th></th>\n",
       "      <th>count</th>\n",
       "      <th>mean</th>\n",
       "      <th>std</th>\n",
       "      <th>min</th>\n",
       "      <th>25%</th>\n",
       "      <th>50%</th>\n",
       "      <th>75%</th>\n",
       "      <th>max</th>\n",
       "    </tr>\n",
       "  </thead>\n",
       "  <tbody>\n",
       "    <tr>\n",
       "      <td>user_id</td>\n",
       "      <td>137735.0</td>\n",
       "      <td>1247.658046</td>\n",
       "      <td>139.416268</td>\n",
       "      <td>1000.0</td>\n",
       "      <td>1128.00</td>\n",
       "      <td>1247.00</td>\n",
       "      <td>1365.00</td>\n",
       "      <td>1499.0</td>\n",
       "    </tr>\n",
       "    <tr>\n",
       "      <td>duration</td>\n",
       "      <td>137735.0</td>\n",
       "      <td>6.745927</td>\n",
       "      <td>5.839241</td>\n",
       "      <td>0.0</td>\n",
       "      <td>1.29</td>\n",
       "      <td>5.98</td>\n",
       "      <td>10.69</td>\n",
       "      <td>37.6</td>\n",
       "    </tr>\n",
       "  </tbody>\n",
       "</table>\n",
       "</div>"
      ],
      "text/plain": [
       "             count         mean         std     min      25%      50%  \\\n",
       "user_id   137735.0  1247.658046  139.416268  1000.0  1128.00  1247.00   \n",
       "duration  137735.0     6.745927    5.839241     0.0     1.29     5.98   \n",
       "\n",
       "              75%     max  \n",
       "user_id   1365.00  1499.0  \n",
       "duration    10.69    37.6  "
      ]
     },
     "execution_count": 9,
     "metadata": {},
     "output_type": "execute_result"
    }
   ],
   "source": [
    "calls.describe().T"
   ]
  },
  {
   "cell_type": "code",
   "execution_count": 10,
   "metadata": {},
   "outputs": [
    {
     "data": {
      "text/plain": [
       "count     481.000000\n",
       "mean     1931.705322\n",
       "std      1609.701658\n",
       "min         4.600000\n",
       "25%       737.930000\n",
       "50%      1456.660000\n",
       "75%      2724.160000\n",
       "max      8950.280000\n",
       "Name: duration, dtype: float64"
      ]
     },
     "execution_count": 10,
     "metadata": {},
     "output_type": "execute_result"
    }
   ],
   "source": [
    "calls.groupby('user_id')['duration'].sum().describe()"
   ]
  },
  {
   "cell_type": "code",
   "execution_count": 11,
   "metadata": {},
   "outputs": [
    {
     "name": "stdout",
     "output_type": "stream",
     "text": [
      "Mean total call time (minutes): 1858.3005199999996\n"
     ]
    }
   ],
   "source": [
    "print('Mean total call time (minutes):', calls['duration'].sum() / len(users))"
   ]
  },
  {
   "cell_type": "markdown",
   "metadata": {},
   "source": [
    "481 of our 500 users used calls (96%). The mean call time was 6 minutes and 45 seconds, and the mean total call time for 2018 was 1858 minutes. The biggest talker used 8950 minutes."
   ]
  },
  {
   "cell_type": "markdown",
   "metadata": {},
   "source": [
    "### Messages\n",
    "Column descriptions:\n",
    "\n",
    "`id` — unique text message identifier\n",
    "\n",
    "`message_date` — text message date\n",
    "\n",
    "`user_id` — the identifier of the user sending the text"
   ]
  },
  {
   "cell_type": "code",
   "execution_count": 12,
   "metadata": {},
   "outputs": [
    {
     "data": {
      "text/html": [
       "<div>\n",
       "<style scoped>\n",
       "    .dataframe tbody tr th:only-of-type {\n",
       "        vertical-align: middle;\n",
       "    }\n",
       "\n",
       "    .dataframe tbody tr th {\n",
       "        vertical-align: top;\n",
       "    }\n",
       "\n",
       "    .dataframe thead th {\n",
       "        text-align: right;\n",
       "    }\n",
       "</style>\n",
       "<table border=\"1\" class=\"dataframe\">\n",
       "  <thead>\n",
       "    <tr style=\"text-align: right;\">\n",
       "      <th></th>\n",
       "      <th>id</th>\n",
       "      <th>user_id</th>\n",
       "      <th>message_date</th>\n",
       "    </tr>\n",
       "  </thead>\n",
       "  <tbody>\n",
       "    <tr>\n",
       "      <td>37775</td>\n",
       "      <td>1250_28</td>\n",
       "      <td>1250</td>\n",
       "      <td>2018-11-19</td>\n",
       "    </tr>\n",
       "    <tr>\n",
       "      <td>46473</td>\n",
       "      <td>1316_363</td>\n",
       "      <td>1316</td>\n",
       "      <td>2018-08-06</td>\n",
       "    </tr>\n",
       "    <tr>\n",
       "      <td>74292</td>\n",
       "      <td>1476_51</td>\n",
       "      <td>1476</td>\n",
       "      <td>2018-12-27</td>\n",
       "    </tr>\n",
       "    <tr>\n",
       "      <td>75334</td>\n",
       "      <td>1491_130</td>\n",
       "      <td>1491</td>\n",
       "      <td>2018-12-13</td>\n",
       "    </tr>\n",
       "    <tr>\n",
       "      <td>18937</td>\n",
       "      <td>1123_6</td>\n",
       "      <td>1123</td>\n",
       "      <td>2018-12-19</td>\n",
       "    </tr>\n",
       "  </tbody>\n",
       "</table>\n",
       "</div>"
      ],
      "text/plain": [
       "             id  user_id message_date\n",
       "37775   1250_28     1250   2018-11-19\n",
       "46473  1316_363     1316   2018-08-06\n",
       "74292   1476_51     1476   2018-12-27\n",
       "75334  1491_130     1491   2018-12-13\n",
       "18937    1123_6     1123   2018-12-19"
      ]
     },
     "execution_count": 12,
     "metadata": {},
     "output_type": "execute_result"
    }
   ],
   "source": [
    "messages.sample(5)"
   ]
  },
  {
   "cell_type": "code",
   "execution_count": 13,
   "metadata": {},
   "outputs": [
    {
     "name": "stdout",
     "output_type": "stream",
     "text": [
      "<class 'pandas.core.frame.DataFrame'>\n",
      "RangeIndex: 76051 entries, 0 to 76050\n",
      "Data columns (total 3 columns):\n",
      "id              76051 non-null object\n",
      "user_id         76051 non-null int64\n",
      "message_date    76051 non-null datetime64[ns]\n",
      "dtypes: datetime64[ns](1), int64(1), object(1)\n",
      "memory usage: 1.7+ MB\n"
     ]
    }
   ],
   "source": [
    "messages.info()"
   ]
  },
  {
   "cell_type": "code",
   "execution_count": 14,
   "metadata": {},
   "outputs": [
    {
     "data": {
      "text/plain": [
       "count     402.000000\n",
       "mean      189.181592\n",
       "std       192.207920\n",
       "min         1.000000\n",
       "25%        60.000000\n",
       "50%       126.500000\n",
       "75%       258.750000\n",
       "max      1288.000000\n",
       "Name: id, dtype: float64"
      ]
     },
     "execution_count": 14,
     "metadata": {},
     "output_type": "execute_result"
    }
   ],
   "source": [
    "messages.groupby('user_id')['id'].count().describe()"
   ]
  },
  {
   "cell_type": "code",
   "execution_count": 15,
   "metadata": {},
   "outputs": [
    {
     "name": "stdout",
     "output_type": "stream",
     "text": [
      "Mean total messages: 152.102\n"
     ]
    }
   ],
   "source": [
    "print('Mean total messages:', len(messages) / len(users))"
   ]
  },
  {
   "cell_type": "markdown",
   "metadata": {},
   "source": [
    "402 out of 500 user used messages (80%). The per user mean was 152.1 messages, and at most 1288 were sent by a single user."
   ]
  },
  {
   "cell_type": "markdown",
   "metadata": {},
   "source": [
    "### Internet\n",
    "Column descriptions:\n",
    "\n",
    "`id` — unique session identifier\n",
    "\n",
    "`mb_used` — the volume of data spent during the session (in megabytes)\n",
    "\n",
    "`session_date` — web session date\n",
    "\n",
    "`user_id` — user identifier"
   ]
  },
  {
   "cell_type": "code",
   "execution_count": 16,
   "metadata": {},
   "outputs": [
    {
     "data": {
      "text/html": [
       "<div>\n",
       "<style scoped>\n",
       "    .dataframe tbody tr th:only-of-type {\n",
       "        vertical-align: middle;\n",
       "    }\n",
       "\n",
       "    .dataframe tbody tr th {\n",
       "        vertical-align: top;\n",
       "    }\n",
       "\n",
       "    .dataframe thead th {\n",
       "        text-align: right;\n",
       "    }\n",
       "</style>\n",
       "<table border=\"1\" class=\"dataframe\">\n",
       "  <thead>\n",
       "    <tr style=\"text-align: right;\">\n",
       "      <th></th>\n",
       "      <th>id</th>\n",
       "      <th>user_id</th>\n",
       "      <th>session_date</th>\n",
       "      <th>mb_used</th>\n",
       "    </tr>\n",
       "  </thead>\n",
       "  <tbody>\n",
       "    <tr>\n",
       "      <td>41112</td>\n",
       "      <td>1185_149</td>\n",
       "      <td>1185</td>\n",
       "      <td>2018-12-25</td>\n",
       "      <td>0.00</td>\n",
       "    </tr>\n",
       "    <tr>\n",
       "      <td>46897</td>\n",
       "      <td>1209_125</td>\n",
       "      <td>1209</td>\n",
       "      <td>2018-09-17</td>\n",
       "      <td>558.18</td>\n",
       "    </tr>\n",
       "    <tr>\n",
       "      <td>36188</td>\n",
       "      <td>1163_169</td>\n",
       "      <td>1163</td>\n",
       "      <td>2018-09-06</td>\n",
       "      <td>0.00</td>\n",
       "    </tr>\n",
       "    <tr>\n",
       "      <td>13350</td>\n",
       "      <td>1062_320</td>\n",
       "      <td>1062</td>\n",
       "      <td>2018-10-20</td>\n",
       "      <td>530.45</td>\n",
       "    </tr>\n",
       "    <tr>\n",
       "      <td>96870</td>\n",
       "      <td>1456_164</td>\n",
       "      <td>1456</td>\n",
       "      <td>2018-09-03</td>\n",
       "      <td>297.29</td>\n",
       "    </tr>\n",
       "  </tbody>\n",
       "</table>\n",
       "</div>"
      ],
      "text/plain": [
       "             id  user_id session_date  mb_used\n",
       "41112  1185_149     1185   2018-12-25     0.00\n",
       "46897  1209_125     1209   2018-09-17   558.18\n",
       "36188  1163_169     1163   2018-09-06     0.00\n",
       "13350  1062_320     1062   2018-10-20   530.45\n",
       "96870  1456_164     1456   2018-09-03   297.29"
      ]
     },
     "execution_count": 16,
     "metadata": {},
     "output_type": "execute_result"
    }
   ],
   "source": [
    "internet.sample(5)"
   ]
  },
  {
   "cell_type": "code",
   "execution_count": 17,
   "metadata": {},
   "outputs": [
    {
     "name": "stdout",
     "output_type": "stream",
     "text": [
      "<class 'pandas.core.frame.DataFrame'>\n",
      "RangeIndex: 104825 entries, 0 to 104824\n",
      "Data columns (total 4 columns):\n",
      "id              104825 non-null object\n",
      "user_id         104825 non-null int64\n",
      "session_date    104825 non-null datetime64[ns]\n",
      "mb_used         104825 non-null float64\n",
      "dtypes: datetime64[ns](1), float64(1), int64(1), object(1)\n",
      "memory usage: 3.2+ MB\n"
     ]
    }
   ],
   "source": [
    "internet.info()"
   ]
  },
  {
   "cell_type": "code",
   "execution_count": 18,
   "metadata": {},
   "outputs": [
    {
     "data": {
      "text/html": [
       "<div>\n",
       "<style scoped>\n",
       "    .dataframe tbody tr th:only-of-type {\n",
       "        vertical-align: middle;\n",
       "    }\n",
       "\n",
       "    .dataframe tbody tr th {\n",
       "        vertical-align: top;\n",
       "    }\n",
       "\n",
       "    .dataframe thead th {\n",
       "        text-align: right;\n",
       "    }\n",
       "</style>\n",
       "<table border=\"1\" class=\"dataframe\">\n",
       "  <thead>\n",
       "    <tr style=\"text-align: right;\">\n",
       "      <th></th>\n",
       "      <th>count</th>\n",
       "      <th>mean</th>\n",
       "      <th>std</th>\n",
       "      <th>min</th>\n",
       "      <th>25%</th>\n",
       "      <th>50%</th>\n",
       "      <th>75%</th>\n",
       "      <th>max</th>\n",
       "    </tr>\n",
       "  </thead>\n",
       "  <tbody>\n",
       "    <tr>\n",
       "      <td>user_id</td>\n",
       "      <td>104825.0</td>\n",
       "      <td>1242.496361</td>\n",
       "      <td>142.053913</td>\n",
       "      <td>1000.0</td>\n",
       "      <td>1122.00</td>\n",
       "      <td>1236.00</td>\n",
       "      <td>1367.00</td>\n",
       "      <td>1499.00</td>\n",
       "    </tr>\n",
       "    <tr>\n",
       "      <td>mb_used</td>\n",
       "      <td>104825.0</td>\n",
       "      <td>366.713701</td>\n",
       "      <td>277.170542</td>\n",
       "      <td>0.0</td>\n",
       "      <td>136.08</td>\n",
       "      <td>343.98</td>\n",
       "      <td>554.61</td>\n",
       "      <td>1693.47</td>\n",
       "    </tr>\n",
       "  </tbody>\n",
       "</table>\n",
       "</div>"
      ],
      "text/plain": [
       "            count         mean         std     min      25%      50%      75%  \\\n",
       "user_id  104825.0  1242.496361  142.053913  1000.0  1122.00  1236.00  1367.00   \n",
       "mb_used  104825.0   366.713701  277.170542     0.0   136.08   343.98   554.61   \n",
       "\n",
       "             max  \n",
       "user_id  1499.00  \n",
       "mb_used  1693.47  "
      ]
     },
     "execution_count": 18,
     "metadata": {},
     "output_type": "execute_result"
    }
   ],
   "source": [
    "internet.describe().T"
   ]
  },
  {
   "cell_type": "code",
   "execution_count": 19,
   "metadata": {},
   "outputs": [
    {
     "data": {
      "text/plain": [
       "count       489.000000\n",
       "mean      78610.968732\n",
       "std       61940.374028\n",
       "min          92.680000\n",
       "25%       29401.530000\n",
       "50%       62354.370000\n",
       "75%      115737.760000\n",
       "max      390159.350000\n",
       "Name: mb_used, dtype: float64"
      ]
     },
     "execution_count": 19,
     "metadata": {},
     "output_type": "execute_result"
    }
   ],
   "source": [
    "internet.groupby('user_id')['mb_used'].sum().describe()"
   ]
  },
  {
   "cell_type": "code",
   "execution_count": 20,
   "metadata": {},
   "outputs": [
    {
     "name": "stdout",
     "output_type": "stream",
     "text": [
      "Mean total data usage (MB): 76881.52742\n"
     ]
    }
   ],
   "source": [
    "print('Mean total data usage (MB):', internet['mb_used'].sum() / len(users))"
   ]
  },
  {
   "cell_type": "markdown",
   "metadata": {},
   "source": [
    "489 out of 500 user used data (98%). The mean data usage per session was 367 megabytes and the mean data usage per user was 76.9 gigabytes. The heavieast user user used slightly more than 390 gigabytes, about 5 times more than average."
   ]
  },
  {
   "cell_type": "markdown",
   "metadata": {},
   "source": [
    "### Plans\n",
    "Column descriptions:\n",
    "\n",
    "`plan_name` — calling plan name\n",
    "\n",
    "`usd_monthly_fee` — monthly charge in US dollars\n",
    "\n",
    "`minutes_included` — monthly minute allowance\n",
    "\n",
    "`messages_included` — monthly text allowance\n",
    "\n",
    "`mb_per_month_included` — data volume allowance (in megabytes)\n",
    "\n",
    "`usd_per_minute` — price per minute after exceeding the package limits (e.g., if the package includes 100 minutes, the 101st minute will be charged)\n",
    "\n",
    "`usd_per_message` — price per text after exceeding the package limits\n",
    "\n",
    "`usd_per_gb` — price per extra gigabyte of data after exceeding the package limits (1 GB = 1024 megabytes)"
   ]
  },
  {
   "cell_type": "code",
   "execution_count": 21,
   "metadata": {},
   "outputs": [
    {
     "data": {
      "text/html": [
       "<div>\n",
       "<style scoped>\n",
       "    .dataframe tbody tr th:only-of-type {\n",
       "        vertical-align: middle;\n",
       "    }\n",
       "\n",
       "    .dataframe tbody tr th {\n",
       "        vertical-align: top;\n",
       "    }\n",
       "\n",
       "    .dataframe thead th {\n",
       "        text-align: right;\n",
       "    }\n",
       "</style>\n",
       "<table border=\"1\" class=\"dataframe\">\n",
       "  <thead>\n",
       "    <tr style=\"text-align: right;\">\n",
       "      <th></th>\n",
       "      <th>messages_included</th>\n",
       "      <th>mb_per_month_included</th>\n",
       "      <th>minutes_included</th>\n",
       "      <th>usd_monthly_pay</th>\n",
       "      <th>usd_per_gb</th>\n",
       "      <th>usd_per_message</th>\n",
       "      <th>usd_per_minute</th>\n",
       "    </tr>\n",
       "    <tr>\n",
       "      <th>plan_name</th>\n",
       "      <th></th>\n",
       "      <th></th>\n",
       "      <th></th>\n",
       "      <th></th>\n",
       "      <th></th>\n",
       "      <th></th>\n",
       "      <th></th>\n",
       "    </tr>\n",
       "  </thead>\n",
       "  <tbody>\n",
       "    <tr>\n",
       "      <td>surf</td>\n",
       "      <td>50</td>\n",
       "      <td>15360</td>\n",
       "      <td>500</td>\n",
       "      <td>20</td>\n",
       "      <td>10</td>\n",
       "      <td>0.03</td>\n",
       "      <td>0.03</td>\n",
       "    </tr>\n",
       "    <tr>\n",
       "      <td>ultimate</td>\n",
       "      <td>1000</td>\n",
       "      <td>30720</td>\n",
       "      <td>3000</td>\n",
       "      <td>70</td>\n",
       "      <td>7</td>\n",
       "      <td>0.01</td>\n",
       "      <td>0.01</td>\n",
       "    </tr>\n",
       "  </tbody>\n",
       "</table>\n",
       "</div>"
      ],
      "text/plain": [
       "           messages_included  mb_per_month_included  minutes_included  \\\n",
       "plan_name                                                               \n",
       "surf                      50                  15360               500   \n",
       "ultimate                1000                  30720              3000   \n",
       "\n",
       "           usd_monthly_pay  usd_per_gb  usd_per_message  usd_per_minute  \n",
       "plan_name                                                                \n",
       "surf                    20          10             0.03            0.03  \n",
       "ultimate                70           7             0.01            0.01  "
      ]
     },
     "execution_count": 21,
     "metadata": {},
     "output_type": "execute_result"
    }
   ],
   "source": [
    "plans"
   ]
  },
  {
   "cell_type": "markdown",
   "metadata": {},
   "source": [
    "Here we have a handy table of the conditions for each of the plans."
   ]
  },
  {
   "cell_type": "markdown",
   "metadata": {},
   "source": [
    "## Data Preprocessing\n",
    "For each user, we will find:\n",
    "- The number of calls made and minutes used per month\n",
    "- The number of text messages sent per month\n",
    "- The volume of data per month\n",
    "- The monthly revenue"
   ]
  },
  {
   "cell_type": "markdown",
   "metadata": {},
   "source": [
    "### Monthly Stats"
   ]
  },
  {
   "cell_type": "markdown",
   "metadata": {},
   "source": [
    "We start by making a new pivot table for each of `calls`, `messages` and `internet`. This will give us the total monthly values that we need."
   ]
  },
  {
   "cell_type": "code",
   "execution_count": 22,
   "metadata": {},
   "outputs": [
    {
     "data": {
      "text/html": [
       "<div>\n",
       "<style scoped>\n",
       "    .dataframe tbody tr th:only-of-type {\n",
       "        vertical-align: middle;\n",
       "    }\n",
       "\n",
       "    .dataframe tbody tr th {\n",
       "        vertical-align: top;\n",
       "    }\n",
       "\n",
       "    .dataframe thead th {\n",
       "        text-align: right;\n",
       "    }\n",
       "</style>\n",
       "<table border=\"1\" class=\"dataframe\">\n",
       "  <thead>\n",
       "    <tr style=\"text-align: right;\">\n",
       "      <th></th>\n",
       "      <th></th>\n",
       "      <th>calls</th>\n",
       "      <th>minutes</th>\n",
       "    </tr>\n",
       "    <tr>\n",
       "      <th>user_id</th>\n",
       "      <th>month</th>\n",
       "      <th></th>\n",
       "      <th></th>\n",
       "    </tr>\n",
       "  </thead>\n",
       "  <tbody>\n",
       "    <tr>\n",
       "      <td>1000</td>\n",
       "      <td>12</td>\n",
       "      <td>16</td>\n",
       "      <td>116.83</td>\n",
       "    </tr>\n",
       "    <tr>\n",
       "      <td rowspan=\"4\" valign=\"top\">1001</td>\n",
       "      <td>8</td>\n",
       "      <td>27</td>\n",
       "      <td>171.14</td>\n",
       "    </tr>\n",
       "    <tr>\n",
       "      <td>9</td>\n",
       "      <td>49</td>\n",
       "      <td>297.69</td>\n",
       "    </tr>\n",
       "    <tr>\n",
       "      <td>10</td>\n",
       "      <td>65</td>\n",
       "      <td>374.11</td>\n",
       "    </tr>\n",
       "    <tr>\n",
       "      <td>11</td>\n",
       "      <td>64</td>\n",
       "      <td>404.59</td>\n",
       "    </tr>\n",
       "  </tbody>\n",
       "</table>\n",
       "</div>"
      ],
      "text/plain": [
       "               calls  minutes\n",
       "user_id month                \n",
       "1000    12        16   116.83\n",
       "1001    8         27   171.14\n",
       "        9         49   297.69\n",
       "        10        65   374.11\n",
       "        11        64   404.59"
      ]
     },
     "execution_count": 22,
     "metadata": {},
     "output_type": "execute_result"
    }
   ],
   "source": [
    "calls['month'] = pd.DatetimeIndex(calls['call_date']).month\n",
    "m_calls = calls.pivot_table(values='duration', \n",
    "                  index=('user_id', 'month'), \n",
    "                  aggfunc=['count', 'sum']\n",
    "                 ).set_axis(['calls', 'minutes'], axis=1, inplace=False)\n",
    "m_calls.head()"
   ]
  },
  {
   "cell_type": "code",
   "execution_count": 23,
   "metadata": {},
   "outputs": [
    {
     "data": {
      "text/html": [
       "<div>\n",
       "<style scoped>\n",
       "    .dataframe tbody tr th:only-of-type {\n",
       "        vertical-align: middle;\n",
       "    }\n",
       "\n",
       "    .dataframe tbody tr th {\n",
       "        vertical-align: top;\n",
       "    }\n",
       "\n",
       "    .dataframe thead th {\n",
       "        text-align: right;\n",
       "    }\n",
       "</style>\n",
       "<table border=\"1\" class=\"dataframe\">\n",
       "  <thead>\n",
       "    <tr style=\"text-align: right;\">\n",
       "      <th></th>\n",
       "      <th></th>\n",
       "      <th>messages</th>\n",
       "    </tr>\n",
       "    <tr>\n",
       "      <th>user_id</th>\n",
       "      <th>month</th>\n",
       "      <th></th>\n",
       "    </tr>\n",
       "  </thead>\n",
       "  <tbody>\n",
       "    <tr>\n",
       "      <td>1000</td>\n",
       "      <td>12</td>\n",
       "      <td>11</td>\n",
       "    </tr>\n",
       "    <tr>\n",
       "      <td rowspan=\"4\" valign=\"top\">1001</td>\n",
       "      <td>8</td>\n",
       "      <td>30</td>\n",
       "    </tr>\n",
       "    <tr>\n",
       "      <td>9</td>\n",
       "      <td>44</td>\n",
       "    </tr>\n",
       "    <tr>\n",
       "      <td>10</td>\n",
       "      <td>53</td>\n",
       "    </tr>\n",
       "    <tr>\n",
       "      <td>11</td>\n",
       "      <td>36</td>\n",
       "    </tr>\n",
       "  </tbody>\n",
       "</table>\n",
       "</div>"
      ],
      "text/plain": [
       "               messages\n",
       "user_id month          \n",
       "1000    12           11\n",
       "1001    8            30\n",
       "        9            44\n",
       "        10           53\n",
       "        11           36"
      ]
     },
     "execution_count": 23,
     "metadata": {},
     "output_type": "execute_result"
    }
   ],
   "source": [
    "messages['month'] = pd.DatetimeIndex(messages['message_date']).month\n",
    "m_messages = messages.pivot_table(values='id', \n",
    "                     index=('user_id', 'month'), \n",
    "                     aggfunc='count'\n",
    "                    ).set_axis(['messages'], axis=1, inplace=False)\n",
    "m_messages.head()"
   ]
  },
  {
   "cell_type": "code",
   "execution_count": 24,
   "metadata": {},
   "outputs": [
    {
     "data": {
      "text/html": [
       "<div>\n",
       "<style scoped>\n",
       "    .dataframe tbody tr th:only-of-type {\n",
       "        vertical-align: middle;\n",
       "    }\n",
       "\n",
       "    .dataframe tbody tr th {\n",
       "        vertical-align: top;\n",
       "    }\n",
       "\n",
       "    .dataframe thead th {\n",
       "        text-align: right;\n",
       "    }\n",
       "</style>\n",
       "<table border=\"1\" class=\"dataframe\">\n",
       "  <thead>\n",
       "    <tr style=\"text-align: right;\">\n",
       "      <th></th>\n",
       "      <th></th>\n",
       "      <th>mb_used</th>\n",
       "    </tr>\n",
       "    <tr>\n",
       "      <th>user_id</th>\n",
       "      <th>month</th>\n",
       "      <th></th>\n",
       "    </tr>\n",
       "  </thead>\n",
       "  <tbody>\n",
       "    <tr>\n",
       "      <td>1000</td>\n",
       "      <td>12</td>\n",
       "      <td>1901.47</td>\n",
       "    </tr>\n",
       "    <tr>\n",
       "      <td rowspan=\"4\" valign=\"top\">1001</td>\n",
       "      <td>8</td>\n",
       "      <td>6919.15</td>\n",
       "    </tr>\n",
       "    <tr>\n",
       "      <td>9</td>\n",
       "      <td>13314.82</td>\n",
       "    </tr>\n",
       "    <tr>\n",
       "      <td>10</td>\n",
       "      <td>22330.49</td>\n",
       "    </tr>\n",
       "    <tr>\n",
       "      <td>11</td>\n",
       "      <td>18504.30</td>\n",
       "    </tr>\n",
       "  </tbody>\n",
       "</table>\n",
       "</div>"
      ],
      "text/plain": [
       "                mb_used\n",
       "user_id month          \n",
       "1000    12      1901.47\n",
       "1001    8       6919.15\n",
       "        9      13314.82\n",
       "        10     22330.49\n",
       "        11     18504.30"
      ]
     },
     "execution_count": 24,
     "metadata": {},
     "output_type": "execute_result"
    }
   ],
   "source": [
    "internet['month'] = pd.DatetimeIndex(internet['session_date']).month\n",
    "m_internet = internet.pivot_table(values='mb_used', \n",
    "                  index=('user_id', 'month'), \n",
    "                  aggfunc='sum'\n",
    "                 ).set_axis(['mb_used'], axis=1, inplace=False)\n",
    "m_internet.head()"
   ]
  },
  {
   "cell_type": "markdown",
   "metadata": {},
   "source": [
    "### Merging Tables\n",
    "Next, put it all in one dataset, along with plan and city."
   ]
  },
  {
   "cell_type": "code",
   "execution_count": 25,
   "metadata": {
    "scrolled": true
   },
   "outputs": [
    {
     "data": {
      "text/html": [
       "<div>\n",
       "<style scoped>\n",
       "    .dataframe tbody tr th:only-of-type {\n",
       "        vertical-align: middle;\n",
       "    }\n",
       "\n",
       "    .dataframe tbody tr th {\n",
       "        vertical-align: top;\n",
       "    }\n",
       "\n",
       "    .dataframe thead th {\n",
       "        text-align: right;\n",
       "    }\n",
       "</style>\n",
       "<table border=\"1\" class=\"dataframe\">\n",
       "  <thead>\n",
       "    <tr style=\"text-align: right;\">\n",
       "      <th></th>\n",
       "      <th>user_id</th>\n",
       "      <th>month</th>\n",
       "      <th>calls</th>\n",
       "      <th>minutes</th>\n",
       "      <th>messages</th>\n",
       "      <th>mb_used</th>\n",
       "      <th>city</th>\n",
       "      <th>plan</th>\n",
       "    </tr>\n",
       "  </thead>\n",
       "  <tbody>\n",
       "    <tr>\n",
       "      <td>0</td>\n",
       "      <td>1000</td>\n",
       "      <td>12</td>\n",
       "      <td>16.0</td>\n",
       "      <td>117.0</td>\n",
       "      <td>11.0</td>\n",
       "      <td>1901.47</td>\n",
       "      <td>Atlanta-Sandy Springs-Roswell, GA MSA</td>\n",
       "      <td>ultimate</td>\n",
       "    </tr>\n",
       "    <tr>\n",
       "      <td>1</td>\n",
       "      <td>1001</td>\n",
       "      <td>8</td>\n",
       "      <td>27.0</td>\n",
       "      <td>172.0</td>\n",
       "      <td>30.0</td>\n",
       "      <td>6919.15</td>\n",
       "      <td>Seattle-Tacoma-Bellevue, WA MSA</td>\n",
       "      <td>surf</td>\n",
       "    </tr>\n",
       "    <tr>\n",
       "      <td>2</td>\n",
       "      <td>1001</td>\n",
       "      <td>9</td>\n",
       "      <td>49.0</td>\n",
       "      <td>298.0</td>\n",
       "      <td>44.0</td>\n",
       "      <td>13314.82</td>\n",
       "      <td>Seattle-Tacoma-Bellevue, WA MSA</td>\n",
       "      <td>surf</td>\n",
       "    </tr>\n",
       "    <tr>\n",
       "      <td>3</td>\n",
       "      <td>1001</td>\n",
       "      <td>10</td>\n",
       "      <td>65.0</td>\n",
       "      <td>375.0</td>\n",
       "      <td>53.0</td>\n",
       "      <td>22330.49</td>\n",
       "      <td>Seattle-Tacoma-Bellevue, WA MSA</td>\n",
       "      <td>surf</td>\n",
       "    </tr>\n",
       "    <tr>\n",
       "      <td>4</td>\n",
       "      <td>1001</td>\n",
       "      <td>11</td>\n",
       "      <td>64.0</td>\n",
       "      <td>405.0</td>\n",
       "      <td>36.0</td>\n",
       "      <td>18504.30</td>\n",
       "      <td>Seattle-Tacoma-Bellevue, WA MSA</td>\n",
       "      <td>surf</td>\n",
       "    </tr>\n",
       "  </tbody>\n",
       "</table>\n",
       "</div>"
      ],
      "text/plain": [
       "   user_id  month  calls  minutes  messages   mb_used  \\\n",
       "0     1000     12   16.0    117.0      11.0   1901.47   \n",
       "1     1001      8   27.0    172.0      30.0   6919.15   \n",
       "2     1001      9   49.0    298.0      44.0  13314.82   \n",
       "3     1001     10   65.0    375.0      53.0  22330.49   \n",
       "4     1001     11   64.0    405.0      36.0  18504.30   \n",
       "\n",
       "                                    city      plan  \n",
       "0  Atlanta-Sandy Springs-Roswell, GA MSA  ultimate  \n",
       "1        Seattle-Tacoma-Bellevue, WA MSA      surf  \n",
       "2        Seattle-Tacoma-Bellevue, WA MSA      surf  \n",
       "3        Seattle-Tacoma-Bellevue, WA MSA      surf  \n",
       "4        Seattle-Tacoma-Bellevue, WA MSA      surf  "
      ]
     },
     "execution_count": 25,
     "metadata": {},
     "output_type": "execute_result"
    }
   ],
   "source": [
    "df = (\n",
    "      pd.concat([m_calls, m_messages, m_internet], axis=1)\n",
    "      .fillna(0)\n",
    "      .reset_index()\n",
    "      .merge(users[['user_id', 'city', 'plan']], on='user_id')\n",
    "     )\n",
    "df['minutes'] = np.ceil(df['minutes'])\n",
    "df.head()"
   ]
  },
  {
   "cell_type": "markdown",
   "metadata": {},
   "source": [
    "Next we'll creat an `area` column based on `city`."
   ]
  },
  {
   "cell_type": "code",
   "execution_count": 26,
   "metadata": {},
   "outputs": [
    {
     "data": {
      "text/html": [
       "<div>\n",
       "<style scoped>\n",
       "    .dataframe tbody tr th:only-of-type {\n",
       "        vertical-align: middle;\n",
       "    }\n",
       "\n",
       "    .dataframe tbody tr th {\n",
       "        vertical-align: top;\n",
       "    }\n",
       "\n",
       "    .dataframe thead th {\n",
       "        text-align: right;\n",
       "    }\n",
       "</style>\n",
       "<table border=\"1\" class=\"dataframe\">\n",
       "  <thead>\n",
       "    <tr style=\"text-align: right;\">\n",
       "      <th></th>\n",
       "      <th>user_id</th>\n",
       "      <th>month</th>\n",
       "      <th>calls</th>\n",
       "      <th>minutes</th>\n",
       "      <th>messages</th>\n",
       "      <th>mb_used</th>\n",
       "      <th>plan</th>\n",
       "      <th>area</th>\n",
       "    </tr>\n",
       "  </thead>\n",
       "  <tbody>\n",
       "    <tr>\n",
       "      <td>848</td>\n",
       "      <td>1176</td>\n",
       "      <td>12</td>\n",
       "      <td>68.0</td>\n",
       "      <td>405.0</td>\n",
       "      <td>76.0</td>\n",
       "      <td>25808.24</td>\n",
       "      <td>surf</td>\n",
       "      <td>NY-NJ-PA</td>\n",
       "    </tr>\n",
       "    <tr>\n",
       "      <td>1525</td>\n",
       "      <td>1332</td>\n",
       "      <td>8</td>\n",
       "      <td>41.0</td>\n",
       "      <td>253.0</td>\n",
       "      <td>0.0</td>\n",
       "      <td>24322.34</td>\n",
       "      <td>surf</td>\n",
       "      <td>GA</td>\n",
       "    </tr>\n",
       "    <tr>\n",
       "      <td>1007</td>\n",
       "      <td>1211</td>\n",
       "      <td>9</td>\n",
       "      <td>41.0</td>\n",
       "      <td>311.0</td>\n",
       "      <td>50.0</td>\n",
       "      <td>17759.72</td>\n",
       "      <td>ultimate</td>\n",
       "      <td>NY-NJ-PA</td>\n",
       "    </tr>\n",
       "    <tr>\n",
       "      <td>493</td>\n",
       "      <td>1104</td>\n",
       "      <td>12</td>\n",
       "      <td>4.0</td>\n",
       "      <td>9.0</td>\n",
       "      <td>25.0</td>\n",
       "      <td>9360.99</td>\n",
       "      <td>ultimate</td>\n",
       "      <td>IL-IN-WI</td>\n",
       "    </tr>\n",
       "    <tr>\n",
       "      <td>1492</td>\n",
       "      <td>1325</td>\n",
       "      <td>12</td>\n",
       "      <td>67.0</td>\n",
       "      <td>402.0</td>\n",
       "      <td>0.0</td>\n",
       "      <td>27752.94</td>\n",
       "      <td>surf</td>\n",
       "      <td>TX</td>\n",
       "    </tr>\n",
       "  </tbody>\n",
       "</table>\n",
       "</div>"
      ],
      "text/plain": [
       "      user_id  month  calls  minutes  messages   mb_used      plan      area\n",
       "848      1176     12   68.0    405.0      76.0  25808.24      surf  NY-NJ-PA\n",
       "1525     1332      8   41.0    253.0       0.0  24322.34      surf        GA\n",
       "1007     1211      9   41.0    311.0      50.0  17759.72  ultimate  NY-NJ-PA\n",
       "493      1104     12    4.0      9.0      25.0   9360.99  ultimate  IL-IN-WI\n",
       "1492     1325     12   67.0    402.0       0.0  27752.94      surf        TX"
      ]
     },
     "execution_count": 26,
     "metadata": {},
     "output_type": "execute_result"
    }
   ],
   "source": [
    "df['area'] = df['city'].str.split(',', expand=True)[1].str.split(' ', expand=True)[1]\n",
    "df = df.drop(['city'], axis=1)\n",
    "\n",
    "df.sample(5)"
   ]
  },
  {
   "cell_type": "markdown",
   "metadata": {},
   "source": [
    "### Calculating Revenue\n",
    "And finally, we'll calculate the monthly revenue for each user and month."
   ]
  },
  {
   "cell_type": "code",
   "execution_count": 27,
   "metadata": {},
   "outputs": [],
   "source": [
    "def revenue(row):\n",
    "    plan = row['plan']\n",
    "    if plan not in ['surf', 'ultimate']:\n",
    "        return 0\n",
    "    s = plans.loc[plan, 'usd_monthly_pay']\n",
    "    if row['messages'] > plans.loc[plan, 'messages_included']:\n",
    "        s += (row['messages'] - plans.loc[plan, 'messages_included']) * plans.loc[plan, 'usd_per_message']\n",
    "    if row['minutes'] > plans.loc[plan, 'minutes_included']:\n",
    "        s += (row['minutes'] - plans.loc[plan, 'minutes_included']) * plans.loc[plan, 'usd_per_minute']    \n",
    "    if row['mb_used'] > plans.loc[plan, 'mb_per_month_included']:\n",
    "        excess = row['mb_used'] - plans.loc[plan, 'mb_per_month_included']\n",
    "        gb_used = int(excess / 1000) + (excess % 1000 > 0)\n",
    "        s += gb_used * plans.loc[plan, 'usd_per_gb']\n",
    "    return s\n"
   ]
  },
  {
   "cell_type": "code",
   "execution_count": 28,
   "metadata": {},
   "outputs": [
    {
     "data": {
      "text/html": [
       "<div>\n",
       "<style scoped>\n",
       "    .dataframe tbody tr th:only-of-type {\n",
       "        vertical-align: middle;\n",
       "    }\n",
       "\n",
       "    .dataframe tbody tr th {\n",
       "        vertical-align: top;\n",
       "    }\n",
       "\n",
       "    .dataframe thead th {\n",
       "        text-align: right;\n",
       "    }\n",
       "</style>\n",
       "<table border=\"1\" class=\"dataframe\">\n",
       "  <thead>\n",
       "    <tr style=\"text-align: right;\">\n",
       "      <th></th>\n",
       "      <th>user_id</th>\n",
       "      <th>month</th>\n",
       "      <th>calls</th>\n",
       "      <th>minutes</th>\n",
       "      <th>messages</th>\n",
       "      <th>mb_used</th>\n",
       "      <th>plan</th>\n",
       "      <th>area</th>\n",
       "      <th>revenue</th>\n",
       "    </tr>\n",
       "  </thead>\n",
       "  <tbody>\n",
       "    <tr>\n",
       "      <td>1076</td>\n",
       "      <td>1226</td>\n",
       "      <td>9</td>\n",
       "      <td>75.0</td>\n",
       "      <td>515.0</td>\n",
       "      <td>0.0</td>\n",
       "      <td>22213.05</td>\n",
       "      <td>ultimate</td>\n",
       "      <td>CA</td>\n",
       "      <td>70.00</td>\n",
       "    </tr>\n",
       "    <tr>\n",
       "      <td>181</td>\n",
       "      <td>1045</td>\n",
       "      <td>11</td>\n",
       "      <td>77.0</td>\n",
       "      <td>536.0</td>\n",
       "      <td>49.0</td>\n",
       "      <td>24871.18</td>\n",
       "      <td>surf</td>\n",
       "      <td>NY-NJ-PA</td>\n",
       "      <td>121.08</td>\n",
       "    </tr>\n",
       "    <tr>\n",
       "      <td>1556</td>\n",
       "      <td>1336</td>\n",
       "      <td>11</td>\n",
       "      <td>107.0</td>\n",
       "      <td>711.0</td>\n",
       "      <td>77.0</td>\n",
       "      <td>17539.04</td>\n",
       "      <td>surf</td>\n",
       "      <td>OR-WA</td>\n",
       "      <td>57.14</td>\n",
       "    </tr>\n",
       "    <tr>\n",
       "      <td>943</td>\n",
       "      <td>1196</td>\n",
       "      <td>5</td>\n",
       "      <td>66.0</td>\n",
       "      <td>405.0</td>\n",
       "      <td>30.0</td>\n",
       "      <td>23429.34</td>\n",
       "      <td>ultimate</td>\n",
       "      <td>CA</td>\n",
       "      <td>70.00</td>\n",
       "    </tr>\n",
       "    <tr>\n",
       "      <td>1800</td>\n",
       "      <td>1389</td>\n",
       "      <td>5</td>\n",
       "      <td>60.0</td>\n",
       "      <td>393.0</td>\n",
       "      <td>0.0</td>\n",
       "      <td>13713.87</td>\n",
       "      <td>ultimate</td>\n",
       "      <td>FL</td>\n",
       "      <td>70.00</td>\n",
       "    </tr>\n",
       "  </tbody>\n",
       "</table>\n",
       "</div>"
      ],
      "text/plain": [
       "      user_id  month  calls  minutes  messages   mb_used      plan      area  \\\n",
       "1076     1226      9   75.0    515.0       0.0  22213.05  ultimate        CA   \n",
       "181      1045     11   77.0    536.0      49.0  24871.18      surf  NY-NJ-PA   \n",
       "1556     1336     11  107.0    711.0      77.0  17539.04      surf     OR-WA   \n",
       "943      1196      5   66.0    405.0      30.0  23429.34  ultimate        CA   \n",
       "1800     1389      5   60.0    393.0       0.0  13713.87  ultimate        FL   \n",
       "\n",
       "      revenue  \n",
       "1076    70.00  \n",
       "181    121.08  \n",
       "1556    57.14  \n",
       "943     70.00  \n",
       "1800    70.00  "
      ]
     },
     "execution_count": 28,
     "metadata": {},
     "output_type": "execute_result"
    }
   ],
   "source": [
    "df['revenue'] = df.apply(revenue, axis=1)\n",
    "\n",
    "df.sample(5)"
   ]
  },
  {
   "cell_type": "markdown",
   "metadata": {},
   "source": [
    "### Data Types\n",
    "Now that we have the dataset we will work on, let's rectify its data types."
   ]
  },
  {
   "cell_type": "code",
   "execution_count": 29,
   "metadata": {},
   "outputs": [
    {
     "name": "stdout",
     "output_type": "stream",
     "text": [
      "<class 'pandas.core.frame.DataFrame'>\n",
      "Int64Index: 2293 entries, 0 to 2292\n",
      "Data columns (total 9 columns):\n",
      "user_id     2293 non-null int64\n",
      "month       2293 non-null int64\n",
      "calls       2293 non-null float64\n",
      "minutes     2293 non-null float64\n",
      "messages    2293 non-null float64\n",
      "mb_used     2293 non-null float64\n",
      "plan        2293 non-null object\n",
      "area        2293 non-null object\n",
      "revenue     2293 non-null float64\n",
      "dtypes: float64(5), int64(2), object(2)\n",
      "memory usage: 179.1+ KB\n"
     ]
    }
   ],
   "source": [
    "df.info()"
   ]
  },
  {
   "cell_type": "code",
   "execution_count": 30,
   "metadata": {},
   "outputs": [
    {
     "data": {
      "text/html": [
       "<div>\n",
       "<style scoped>\n",
       "    .dataframe tbody tr th:only-of-type {\n",
       "        vertical-align: middle;\n",
       "    }\n",
       "\n",
       "    .dataframe tbody tr th {\n",
       "        vertical-align: top;\n",
       "    }\n",
       "\n",
       "    .dataframe thead th {\n",
       "        text-align: right;\n",
       "    }\n",
       "</style>\n",
       "<table border=\"1\" class=\"dataframe\">\n",
       "  <thead>\n",
       "    <tr style=\"text-align: right;\">\n",
       "      <th></th>\n",
       "      <th>count</th>\n",
       "      <th>mean</th>\n",
       "      <th>std</th>\n",
       "      <th>min</th>\n",
       "      <th>25%</th>\n",
       "      <th>50%</th>\n",
       "      <th>75%</th>\n",
       "      <th>max</th>\n",
       "    </tr>\n",
       "  </thead>\n",
       "  <tbody>\n",
       "    <tr>\n",
       "      <td>user_id</td>\n",
       "      <td>2293.0</td>\n",
       "      <td>1246.075883</td>\n",
       "      <td>143.051927</td>\n",
       "      <td>1000.0</td>\n",
       "      <td>1122.00</td>\n",
       "      <td>1245.00</td>\n",
       "      <td>1368.00</td>\n",
       "      <td>1499.00</td>\n",
       "    </tr>\n",
       "    <tr>\n",
       "      <td>month</td>\n",
       "      <td>2293.0</td>\n",
       "      <td>9.172700</td>\n",
       "      <td>2.496386</td>\n",
       "      <td>1.0</td>\n",
       "      <td>8.00</td>\n",
       "      <td>10.00</td>\n",
       "      <td>11.00</td>\n",
       "      <td>12.00</td>\n",
       "    </tr>\n",
       "    <tr>\n",
       "      <td>calls</td>\n",
       "      <td>2293.0</td>\n",
       "      <td>60.067597</td>\n",
       "      <td>32.402563</td>\n",
       "      <td>0.0</td>\n",
       "      <td>38.00</td>\n",
       "      <td>60.00</td>\n",
       "      <td>79.00</td>\n",
       "      <td>205.00</td>\n",
       "    </tr>\n",
       "    <tr>\n",
       "      <td>minutes</td>\n",
       "      <td>2293.0</td>\n",
       "      <td>405.708242</td>\n",
       "      <td>223.404711</td>\n",
       "      <td>0.0</td>\n",
       "      <td>250.00</td>\n",
       "      <td>401.00</td>\n",
       "      <td>541.00</td>\n",
       "      <td>1432.00</td>\n",
       "    </tr>\n",
       "    <tr>\n",
       "      <td>messages</td>\n",
       "      <td>2293.0</td>\n",
       "      <td>33.166594</td>\n",
       "      <td>34.070085</td>\n",
       "      <td>0.0</td>\n",
       "      <td>3.00</td>\n",
       "      <td>26.00</td>\n",
       "      <td>51.00</td>\n",
       "      <td>266.00</td>\n",
       "    </tr>\n",
       "    <tr>\n",
       "      <td>mb_used</td>\n",
       "      <td>2293.0</td>\n",
       "      <td>16764.397606</td>\n",
       "      <td>7967.237527</td>\n",
       "      <td>0.0</td>\n",
       "      <td>12235.76</td>\n",
       "      <td>16830.64</td>\n",
       "      <td>20999.84</td>\n",
       "      <td>70931.59</td>\n",
       "    </tr>\n",
       "    <tr>\n",
       "      <td>revenue</td>\n",
       "      <td>2293.0</td>\n",
       "      <td>64.612791</td>\n",
       "      <td>47.487482</td>\n",
       "      <td>20.0</td>\n",
       "      <td>22.49</td>\n",
       "      <td>70.00</td>\n",
       "      <td>70.00</td>\n",
       "      <td>598.66</td>\n",
       "    </tr>\n",
       "  </tbody>\n",
       "</table>\n",
       "</div>"
      ],
      "text/plain": [
       "           count          mean          std     min       25%       50%  \\\n",
       "user_id   2293.0   1246.075883   143.051927  1000.0   1122.00   1245.00   \n",
       "month     2293.0      9.172700     2.496386     1.0      8.00     10.00   \n",
       "calls     2293.0     60.067597    32.402563     0.0     38.00     60.00   \n",
       "minutes   2293.0    405.708242   223.404711     0.0    250.00    401.00   \n",
       "messages  2293.0     33.166594    34.070085     0.0      3.00     26.00   \n",
       "mb_used   2293.0  16764.397606  7967.237527     0.0  12235.76  16830.64   \n",
       "revenue   2293.0     64.612791    47.487482    20.0     22.49     70.00   \n",
       "\n",
       "               75%       max  \n",
       "user_id    1368.00   1499.00  \n",
       "month        11.00     12.00  \n",
       "calls        79.00    205.00  \n",
       "minutes     541.00   1432.00  \n",
       "messages     51.00    266.00  \n",
       "mb_used   20999.84  70931.59  \n",
       "revenue      70.00    598.66  "
      ]
     },
     "execution_count": 30,
     "metadata": {},
     "output_type": "execute_result"
    }
   ],
   "source": [
    "df.describe().T"
   ]
  },
  {
   "cell_type": "code",
   "execution_count": 31,
   "metadata": {},
   "outputs": [],
   "source": [
    "for column in ['user_id', 'month', 'calls', 'minutes', 'messages']:\n",
    "    df[column] = df[column].astype('int16')\n",
    "    \n",
    "for column in ['mb_used', 'revenue']:\n",
    "    df[column] = df[column].astype('float32')"
   ]
  },
  {
   "cell_type": "markdown",
   "metadata": {},
   "source": [
    "## Analysis\n",
    "Below are the calculated mean, dispersion, standard deviation and median of the minutes, texts, and volume of data the users of each plan require per month. "
   ]
  },
  {
   "cell_type": "code",
   "execution_count": 32,
   "metadata": {},
   "outputs": [
    {
     "data": {
      "text/html": [
       "<div>\n",
       "<style scoped>\n",
       "    .dataframe tbody tr th:only-of-type {\n",
       "        vertical-align: middle;\n",
       "    }\n",
       "\n",
       "    .dataframe tbody tr th {\n",
       "        vertical-align: top;\n",
       "    }\n",
       "\n",
       "    .dataframe thead tr th {\n",
       "        text-align: left;\n",
       "    }\n",
       "</style>\n",
       "<table border=\"1\" class=\"dataframe\">\n",
       "  <thead>\n",
       "    <tr>\n",
       "      <th></th>\n",
       "      <th colspan=\"2\" halign=\"left\">mean</th>\n",
       "      <th colspan=\"2\" halign=\"left\">var</th>\n",
       "      <th colspan=\"2\" halign=\"left\">std</th>\n",
       "      <th colspan=\"2\" halign=\"left\">median</th>\n",
       "    </tr>\n",
       "    <tr>\n",
       "      <th>plan</th>\n",
       "      <th>surf</th>\n",
       "      <th>ultimate</th>\n",
       "      <th>surf</th>\n",
       "      <th>ultimate</th>\n",
       "      <th>surf</th>\n",
       "      <th>ultimate</th>\n",
       "      <th>surf</th>\n",
       "      <th>ultimate</th>\n",
       "    </tr>\n",
       "  </thead>\n",
       "  <tbody>\n",
       "    <tr>\n",
       "      <td>mb_used</td>\n",
       "      <td>16558.283203</td>\n",
       "      <td>17214.699219</td>\n",
       "      <td>6.421640e+07</td>\n",
       "      <td>6.165229e+07</td>\n",
       "      <td>8013.513337</td>\n",
       "      <td>7851.897350</td>\n",
       "      <td>16829.310547</td>\n",
       "      <td>16858.339844</td>\n",
       "    </tr>\n",
       "    <tr>\n",
       "      <td>messages</td>\n",
       "      <td>31.159568</td>\n",
       "      <td>37.551389</td>\n",
       "      <td>1.126725e+03</td>\n",
       "      <td>1.208757e+03</td>\n",
       "      <td>33.566717</td>\n",
       "      <td>34.767179</td>\n",
       "      <td>24.000000</td>\n",
       "      <td>30.000000</td>\n",
       "    </tr>\n",
       "    <tr>\n",
       "      <td>minutes</td>\n",
       "      <td>405.250477</td>\n",
       "      <td>406.708333</td>\n",
       "      <td>4.914399e+04</td>\n",
       "      <td>5.165166e+04</td>\n",
       "      <td>221.684445</td>\n",
       "      <td>227.270019</td>\n",
       "      <td>402.000000</td>\n",
       "      <td>399.000000</td>\n",
       "    </tr>\n",
       "    <tr>\n",
       "      <td>revenue</td>\n",
       "      <td>61.056664</td>\n",
       "      <td>72.381943</td>\n",
       "      <td>3.184661e+03</td>\n",
       "      <td>1.376383e+02</td>\n",
       "      <td>56.432798</td>\n",
       "      <td>11.731937</td>\n",
       "      <td>40.360001</td>\n",
       "      <td>70.000000</td>\n",
       "    </tr>\n",
       "  </tbody>\n",
       "</table>\n",
       "</div>"
      ],
      "text/plain": [
       "                  mean                         var                        std  \\\n",
       "plan              surf      ultimate          surf      ultimate         surf   \n",
       "mb_used   16558.283203  17214.699219  6.421640e+07  6.165229e+07  8013.513337   \n",
       "messages     31.159568     37.551389  1.126725e+03  1.208757e+03    33.566717   \n",
       "minutes     405.250477    406.708333  4.914399e+04  5.165166e+04   221.684445   \n",
       "revenue      61.056664     72.381943  3.184661e+03  1.376383e+02    56.432798   \n",
       "\n",
       "                             median                \n",
       "plan         ultimate          surf      ultimate  \n",
       "mb_used   7851.897350  16829.310547  16858.339844  \n",
       "messages    34.767179     24.000000     30.000000  \n",
       "minutes    227.270019    402.000000    399.000000  \n",
       "revenue     11.731937     40.360001     70.000000  "
      ]
     },
     "execution_count": 32,
     "metadata": {},
     "output_type": "execute_result"
    }
   ],
   "source": [
    "df.pivot_table(values=['minutes', 'messages', 'mb_used', 'revenue'], columns='plan', aggfunc=['mean', 'var', 'std', 'median'])"
   ]
  },
  {
   "cell_type": "markdown",
   "metadata": {},
   "source": [
    "To better understand the distributions of the above parameters, we'll plot histograms for each."
   ]
  },
  {
   "cell_type": "markdown",
   "metadata": {},
   "source": [
    "### Calls"
   ]
  },
  {
   "cell_type": "code",
   "execution_count": 33,
   "metadata": {},
   "outputs": [
    {
     "data": {
      "image/png": "[encoded data removed]",
      "text/plain": [
       "<Figure size 1008x432 with 1 Axes>"
      ]
     },
     "metadata": {
      "needs_background": "light"
     },
     "output_type": "display_data"
    }
   ],
   "source": [
    "plt.figure(figsize=(14, 6))\n",
    "min_bin = list(range(0,1501, 50))\n",
    "plt.hist(df.query('plan == \"surf\"')['minutes'], bins=min_bin, label='surf', alpha=0.7)\n",
    "plt.hist(df.query('plan == \"ultimate\"')['minutes'], bins=min_bin, label='ultimate', alpha=0.7)\n",
    "plt.xlabel('minutes')\n",
    "plt.ylabel('frequency')\n",
    "plt.title('Monthly call usage distribution')\n",
    "plt.grid()\n",
    "plt.legend()\n",
    "plt.show()"
   ]
  },
  {
   "cell_type": "markdown",
   "metadata": {},
   "source": [
    "Users of both plans spoke on the phone an average of about 405 minutes a month. This number coincides with the peak in the call usage distribution. The medians are slightly lower, meaning the histograms are gently right skewed. In the Surf histogram only, there's a secondary peak near zero, of users who barely made calls. Other than that, the distributions are quiet similar."
   ]
  },
  {
   "cell_type": "markdown",
   "metadata": {},
   "source": [
    "### Messages"
   ]
  },
  {
   "cell_type": "code",
   "execution_count": 34,
   "metadata": {},
   "outputs": [
    {
     "data": {
      "image/png": "[encoded data removed]",
      "text/plain": [
       "<Figure size 1008x432 with 1 Axes>"
      ]
     },
     "metadata": {
      "needs_background": "light"
     },
     "output_type": "display_data"
    }
   ],
   "source": [
    "plt.figure(figsize=(14, 6))\n",
    "msg_bin = list(range(0,301, 10))\n",
    "plt.hist(df.query('plan == \"surf\"')['messages'], bins=msg_bin, label='surf', alpha=0.7)\n",
    "plt.hist(df.query('plan == \"ultimate\"')['messages'], bins=msg_bin, label='ultimate', alpha=0.7)\n",
    "plt.xlabel('messages')\n",
    "plt.ylabel('frequency')\n",
    "plt.title('Monthly message usage distribution')\n",
    "plt.grid()\n",
    "plt.legend()\n",
    "plt.show()"
   ]
  },
  {
   "cell_type": "markdown",
   "metadata": {},
   "source": [
    "As we know, 20% of users didn't use messages at all. The prominent peak near zero and long tail make it hard to understand the rest of the figure, so we'll readjust to exclude outliers."
   ]
  },
  {
   "cell_type": "code",
   "execution_count": 35,
   "metadata": {},
   "outputs": [
    {
     "data": {
      "image/png": "[encoded data removed]",
      "text/plain": [
       "<Figure size 1008x432 with 1 Axes>"
      ]
     },
     "metadata": {
      "needs_background": "light"
     },
     "output_type": "display_data"
    }
   ],
   "source": [
    "plt.figure(figsize=(14, 6))\n",
    "msg_bin = list(range(1,162, 4))\n",
    "plt.hist(df.query('plan == \"surf\"')['messages'], bins=msg_bin, label='surf', alpha=0.7)\n",
    "plt.hist(df.query('plan == \"ultimate\"')['messages'], bins=msg_bin, label='ultimate', alpha=0.7)\n",
    "plt.xlabel('messages')\n",
    "plt.ylabel('frequency')\n",
    "plt.title('Monthly message usage distribution (no ouliers)')\n",
    "plt.grid()\n",
    "plt.legend()\n",
    "plt.show()"
   ]
  },
  {
   "cell_type": "markdown",
   "metadata": {},
   "source": [
    "Surf and Ultimate users sent an average 31 and 37.5 messages a month, medians 24 and 30, respectivaely. In other words, Ultimate users tend to send more messages, and both are right skewed."
   ]
  },
  {
   "cell_type": "markdown",
   "metadata": {},
   "source": [
    "### Data"
   ]
  },
  {
   "cell_type": "code",
   "execution_count": 36,
   "metadata": {},
   "outputs": [
    {
     "data": {
      "image/png": "[encoded data removed]",
      "text/plain": [
       "<Figure size 1008x432 with 1 Axes>"
      ]
     },
     "metadata": {
      "needs_background": "light"
     },
     "output_type": "display_data"
    }
   ],
   "source": [
    "plt.figure(figsize=(14, 6))\n",
    "data_bin = list(range(0,71001, 1000))\n",
    "plt.hist(df.query('plan == \"surf\"')['mb_used'], bins=data_bin, label='surf', alpha=0.7)\n",
    "plt.hist(df.query('plan == \"ultimate\"')['mb_used'], bins=data_bin, label='ultimate', alpha=0.7)\n",
    "plt.xlabel('usage (MB)')\n",
    "plt.ylabel('frequency')\n",
    "plt.title('Monthly data usage distribution')\n",
    "plt.grid()\n",
    "plt.legend()\n",
    "plt.show()"
   ]
  },
  {
   "cell_type": "markdown",
   "metadata": {},
   "source": [
    "The mean data usage of Surf users is 16558 MB/month while for Ultimate users it is 17215 MB/month, around 650 MB difference in favor of Ultimate. The median for both is about 16850 MB/month, meaning the Surf graph is left skewed and the Ultimate graph is right skewed. Ultimate users, on average, take advantage of their larger data allowence."
   ]
  },
  {
   "cell_type": "markdown",
   "metadata": {},
   "source": [
    "### Revenue"
   ]
  },
  {
   "cell_type": "code",
   "execution_count": 37,
   "metadata": {},
   "outputs": [
    {
     "data": {
      "image/png": "[encoded data removed]",
      "text/plain": [
       "<Figure size 1008x432 with 1 Axes>"
      ]
     },
     "metadata": {
      "needs_background": "light"
     },
     "output_type": "display_data"
    }
   ],
   "source": [
    "plt.figure(figsize=(14, 6))\n",
    "rev_bin = list(range(0,601, 10))\n",
    "plt.hist(df.query('plan == \"surf\"')['revenue'], bins=rev_bin, label='surf', alpha=0.7)\n",
    "plt.hist(df.query('plan == \"ultimate\"')['revenue'], bins=rev_bin, label='ultimate', alpha=0.7)\n",
    "plt.xlabel('revenue (USD)')\n",
    "plt.ylabel('frequency')\n",
    "plt.title('Monthly revenue distribution')\n",
    "plt.grid()\n",
    "plt.legend()\n",
    "plt.show()"
   ]
  },
  {
   "cell_type": "markdown",
   "metadata": {},
   "source": [
    "No surprise, Ultimate users hardly go over their allowences. For Surf users, however, the story is more complex. There is a prominent peak at 20 USD, but the median is 40 USD and mean is 60 USD. It's strongly skewed to the right. Some significant portion even end up paying more than 70 USD a month. Let's check how many exactly."
   ]
  },
  {
   "cell_type": "code",
   "execution_count": 38,
   "metadata": {},
   "outputs": [
    {
     "name": "stdout",
     "output_type": "stream",
     "text": [
      "26%\n"
     ]
    }
   ],
   "source": [
    "df2 = df.groupby('user_id')['revenue'].mean().reset_index().merge(users[['user_id', 'plan']], on='user_id')\n",
    "print('{:.0%}'.format(len(df2.query('plan == \"surf\" and revenue > 70')) / len(df2.query('plan == \"surf\"'))))"
   ]
  },
  {
   "cell_type": "markdown",
   "metadata": {},
   "source": [
    "So about 1 in 4 Surf users pays over 70 USD a month on average, and would have been better off with the Ultimate plan."
   ]
  },
  {
   "cell_type": "markdown",
   "metadata": {},
   "source": [
    "## Hypotheses Testing\n",
    "In this section we'll use a statistical method named t-testing to test two hypotheses:\n",
    "- The average revenue from users of Ultimate and Surf calling plans differs.\n",
    "- The average revenue from users in NY-NJ area is different from that of the users from other regions.\n",
    "\n",
    "We will decide whether to reject the null hypothesis according to the p-value obtained by t-testing. The lower the p-value, the less likely it is that our sample means are as far as they are, assuming the null hypothesis. The lower threshold commonly used with this method is $\\alpha$=0.05, meaning, if p-value falls below $\\alpha$, the null hypothesis is rejected. We will also use $\\alpha$=0.05. "
   ]
  },
  {
   "cell_type": "markdown",
   "metadata": {},
   "source": [
    "### Plan Dependency"
   ]
  },
  {
   "cell_type": "markdown",
   "metadata": {},
   "source": [
    "Our hypothesis states that the average revenue from users of Ultimate and Surf calling plans differs. The null hypothesis is, therefore, that there is no difference in mean revenue between the groups. We know from previous results that the variance differs."
   ]
  },
  {
   "cell_type": "code",
   "execution_count": 39,
   "metadata": {},
   "outputs": [],
   "source": [
    "alpha = 0.05"
   ]
  },
  {
   "cell_type": "code",
   "execution_count": 40,
   "metadata": {},
   "outputs": [
    {
     "name": "stdout",
     "output_type": "stream",
     "text": [
      "p-value: 4.396664374474546e-14\n",
      "The average revenue from users of Ultimate and Surf calling plans differs.\n"
     ]
    }
   ],
   "source": [
    "results = st.ttest_ind(df.query('plan == \"surf\"')['revenue'], \n",
    "                       df.query('plan == \"ultimate\"')['revenue'], \n",
    "                       equal_var=False,\n",
    "                      )\n",
    "\n",
    "print('p-value:', results.pvalue)\n",
    "\n",
    "if results.pvalue < alpha:\n",
    "    print('The average revenue from users of Ultimate and Surf calling plans differs.')\n",
    "else:\n",
    "    print('The null hypothesis cannot be rejected.')"
   ]
  },
  {
   "cell_type": "markdown",
   "metadata": {},
   "source": [
    "### Area Dependency"
   ]
  },
  {
   "cell_type": "markdown",
   "metadata": {},
   "source": [
    "Our hypothesis was that the average revenue from users in NY-NJ area is different from that of the users from other regions. Conversely, the null hypothesis is that there is no difference in average revenue between NY-NJ and other areas. We don't have a reason to assume the variance is equal."
   ]
  },
  {
   "cell_type": "code",
   "execution_count": 41,
   "metadata": {},
   "outputs": [
    {
     "name": "stdout",
     "output_type": "stream",
     "text": [
      "p-value: 0.37594316688749174\n",
      "The null hypothesis cannot be rejected.\n"
     ]
    }
   ],
   "source": [
    "results = st.ttest_ind(df.query('\"NY\" in area or \"NJ\" in area')['revenue'], \n",
    "                       df.query('~(\"NY\" in area or \"NJ\" in area)')['revenue'], \n",
    "                       equal_var=False,\n",
    "                      )\n",
    "\n",
    "print('p-value:', results.pvalue)\n",
    "\n",
    "if results.pvalue < alpha:\n",
    "    print('The average revenue from users in NY-NJ area is different from that of the users from other regions.')\n",
    "else:\n",
    "    print('The null hypothesis cannot be rejected.')"
   ]
  },
  {
   "cell_type": "markdown",
   "metadata": {},
   "source": [
    "## Conclusions"
   ]
  },
  {
   "cell_type": "markdown",
   "metadata": {},
   "source": [
    "- We looked at data of 500 users of both Surf and Ultimate plans, representing a range of ages and locations.\n",
    "- Nearly all users used internet and calls to some degree, while 20% didn't use messages at all.\n",
    "- We prepared a table of per user, per month usages and used it to calculate revenue.\n",
    "- There was no significant difference in call usage between users of different plans.\n",
    "- Users of the Ultimate plan tend to use more data and messages than Surf plan users.\n",
    "- About 1 in 4 Surf users pays over 70 USD a month on average, and would have been better off with the Ultimate plan.\n",
    "- The average revenue from users of Ultimate and Surf calling plans differs, in favor of Ultimate.\n",
    "- No revenue dependence on location was found when comparing the NY-NJ area to the rest of the country."
   ]
  },
  {
   "cell_type": "code",
   "execution_count": null,
   "metadata": {},
   "outputs": [],
   "source": []
  }
 ],
 "metadata": {
  "ExecuteTimeLog": [
   {
    "duration": 1028,
    "start_time": "2021-11-05T16:14:16.863Z"
   },
   {
    "duration": 3,
    "start_time": "2021-11-05T16:15:59.574Z"
   },
   {
    "duration": 320,
    "start_time": "2021-11-05T16:19:28.368Z"
   },
   {
    "duration": 15,
    "start_time": "2021-11-05T16:20:53.402Z"
   },
   {
    "duration": 16,
    "start_time": "2021-11-05T16:21:15.428Z"
   },
   {
    "duration": 40,
    "start_time": "2021-11-05T16:24:51.890Z"
   },
   {
    "duration": 2,
    "start_time": "2021-11-05T16:30:35.550Z"
   },
   {
    "duration": 661,
    "start_time": "2021-11-05T16:53:07.816Z"
   },
   {
    "duration": 311,
    "start_time": "2021-11-05T16:54:24.648Z"
   },
   {
    "duration": 354,
    "start_time": "2021-11-05T16:55:43.507Z"
   },
   {
    "duration": 18,
    "start_time": "2021-11-05T16:58:01.731Z"
   },
   {
    "duration": 7,
    "start_time": "2021-11-05T16:58:31.675Z"
   },
   {
    "duration": 18,
    "start_time": "2021-11-05T16:58:41.095Z"
   },
   {
    "duration": 24,
    "start_time": "2021-11-05T16:59:23.143Z"
   },
   {
    "duration": 12,
    "start_time": "2021-11-05T17:12:33.344Z"
   },
   {
    "duration": 12,
    "start_time": "2021-11-05T17:12:51.710Z"
   },
   {
    "duration": 24,
    "start_time": "2021-11-05T17:13:42.233Z"
   },
   {
    "duration": 27,
    "start_time": "2021-11-05T17:13:51.445Z"
   },
   {
    "duration": 121,
    "start_time": "2021-11-05T17:14:30.806Z"
   },
   {
    "duration": 419,
    "start_time": "2021-11-05T17:16:12.414Z"
   },
   {
    "duration": 7,
    "start_time": "2021-11-05T17:16:30.883Z"
   },
   {
    "duration": 5,
    "start_time": "2021-11-05T17:16:48.650Z"
   },
   {
    "duration": 8,
    "start_time": "2021-11-05T17:23:18.353Z"
   },
   {
    "duration": 9,
    "start_time": "2021-11-05T17:23:40.072Z"
   },
   {
    "duration": 10,
    "start_time": "2021-11-05T17:29:38.181Z"
   },
   {
    "duration": 10,
    "start_time": "2021-11-05T17:30:26.518Z"
   },
   {
    "duration": 16,
    "start_time": "2021-11-05T17:32:08.910Z"
   },
   {
    "duration": 13,
    "start_time": "2021-11-05T17:33:49.444Z"
   },
   {
    "duration": 4,
    "start_time": "2021-11-05T17:38:59.064Z"
   },
   {
    "duration": 13,
    "start_time": "2021-11-05T17:41:47.797Z"
   },
   {
    "duration": 10,
    "start_time": "2021-11-05T17:42:33.515Z"
   },
   {
    "duration": 8,
    "start_time": "2021-11-05T17:42:37.282Z"
   },
   {
    "duration": 11,
    "start_time": "2021-11-05T17:42:45.751Z"
   },
   {
    "duration": 24,
    "start_time": "2021-11-05T17:43:12.660Z"
   },
   {
    "duration": 351,
    "start_time": "2021-11-05T17:44:45.278Z"
   },
   {
    "duration": 532,
    "start_time": "2021-11-05T17:44:49.794Z"
   },
   {
    "duration": 10,
    "start_time": "2021-11-05T17:45:12.440Z"
   },
   {
    "duration": 10,
    "start_time": "2021-11-05T17:45:19.160Z"
   },
   {
    "duration": 5,
    "start_time": "2021-11-05T17:48:02.691Z"
   },
   {
    "duration": 5,
    "start_time": "2021-11-05T17:49:20.023Z"
   },
   {
    "duration": 4,
    "start_time": "2021-11-05T17:49:57.317Z"
   },
   {
    "duration": 5,
    "start_time": "2021-11-05T17:55:22.627Z"
   },
   {
    "duration": 14,
    "start_time": "2021-11-05T18:08:18.800Z"
   },
   {
    "duration": 376,
    "start_time": "2021-11-05T18:09:29.403Z"
   },
   {
    "duration": 8,
    "start_time": "2021-11-05T18:09:40.498Z"
   },
   {
    "duration": 1352,
    "start_time": "2021-11-06T09:29:39.390Z"
   },
   {
    "duration": 409,
    "start_time": "2021-11-06T09:29:40.745Z"
   },
   {
    "duration": 26,
    "start_time": "2021-11-06T09:29:41.157Z"
   },
   {
    "duration": 14,
    "start_time": "2021-11-06T09:29:41.186Z"
   },
   {
    "duration": 41,
    "start_time": "2021-11-06T09:29:41.202Z"
   },
   {
    "duration": 39,
    "start_time": "2021-11-06T09:29:41.246Z"
   },
   {
    "duration": 24,
    "start_time": "2021-11-06T09:29:41.288Z"
   },
   {
    "duration": 15,
    "start_time": "2021-11-06T09:29:41.330Z"
   },
   {
    "duration": 35,
    "start_time": "2021-11-06T09:29:41.348Z"
   },
   {
    "duration": 43,
    "start_time": "2021-11-06T09:29:41.386Z"
   },
   {
    "duration": 7,
    "start_time": "2021-11-06T09:29:41.432Z"
   },
   {
    "duration": 20,
    "start_time": "2021-11-06T09:29:41.442Z"
   },
   {
    "duration": 16,
    "start_time": "2021-11-06T09:29:41.465Z"
   },
   {
    "duration": 46,
    "start_time": "2021-11-06T09:29:41.484Z"
   },
   {
    "duration": 5,
    "start_time": "2021-11-06T09:29:41.533Z"
   },
   {
    "duration": 30,
    "start_time": "2021-11-06T09:29:41.540Z"
   },
   {
    "duration": 14,
    "start_time": "2021-11-06T09:29:41.572Z"
   },
   {
    "duration": 59,
    "start_time": "2021-11-06T09:29:41.588Z"
   },
   {
    "duration": 12,
    "start_time": "2021-11-06T09:29:41.650Z"
   },
   {
    "duration": 6,
    "start_time": "2021-11-06T09:29:41.664Z"
   },
   {
    "duration": 24,
    "start_time": "2021-11-06T09:29:41.673Z"
   },
   {
    "duration": 25,
    "start_time": "2021-11-06T09:31:35.433Z"
   },
   {
    "duration": 96,
    "start_time": "2021-11-06T09:33:48.942Z"
   },
   {
    "duration": 52,
    "start_time": "2021-11-06T09:37:34.269Z"
   },
   {
    "duration": 80,
    "start_time": "2021-11-06T09:41:51.806Z"
   },
   {
    "duration": 94,
    "start_time": "2021-11-06T09:42:31.660Z"
   },
   {
    "duration": 53,
    "start_time": "2021-11-06T09:43:25.249Z"
   },
   {
    "duration": 443,
    "start_time": "2021-11-06T09:46:48.970Z"
   },
   {
    "duration": 57,
    "start_time": "2021-11-06T09:47:22.243Z"
   },
   {
    "duration": 86,
    "start_time": "2021-11-06T09:51:01.718Z"
   },
   {
    "duration": 44,
    "start_time": "2021-11-06T09:51:30.946Z"
   },
   {
    "duration": 60,
    "start_time": "2021-11-06T09:52:42.058Z"
   },
   {
    "duration": 22,
    "start_time": "2021-11-06T09:54:07.661Z"
   },
   {
    "duration": 86,
    "start_time": "2021-11-06T09:55:18.434Z"
   },
   {
    "duration": 1063,
    "start_time": "2021-11-06T09:58:13.840Z"
   },
   {
    "duration": 989,
    "start_time": "2021-11-06T09:58:53.844Z"
   },
   {
    "duration": 35,
    "start_time": "2021-11-06T09:59:04.531Z"
   },
   {
    "duration": 35,
    "start_time": "2021-11-06T10:01:36.470Z"
   },
   {
    "duration": 42,
    "start_time": "2021-11-06T10:02:55.864Z"
   },
   {
    "duration": 291,
    "start_time": "2021-11-06T10:03:09.686Z"
   },
   {
    "duration": 42,
    "start_time": "2021-11-06T10:04:15.639Z"
   },
   {
    "duration": 41,
    "start_time": "2021-11-06T10:04:51.137Z"
   },
   {
    "duration": 41,
    "start_time": "2021-11-06T10:05:45.339Z"
   },
   {
    "duration": 12,
    "start_time": "2021-11-06T10:13:46.794Z"
   },
   {
    "duration": 7,
    "start_time": "2021-11-06T10:29:43.336Z"
   },
   {
    "duration": 3729,
    "start_time": "2021-11-06T10:30:19.606Z"
   },
   {
    "duration": 6,
    "start_time": "2021-11-06T10:32:16.855Z"
   },
   {
    "duration": 6,
    "start_time": "2021-11-06T10:33:34.068Z"
   },
   {
    "duration": 466,
    "start_time": "2021-11-06T10:34:34.889Z"
   },
   {
    "duration": 377,
    "start_time": "2021-11-06T10:34:45.614Z"
   },
   {
    "duration": 12,
    "start_time": "2021-11-06T10:35:29.068Z"
   },
   {
    "duration": 389,
    "start_time": "2021-11-06T10:37:29.890Z"
   },
   {
    "duration": 376,
    "start_time": "2021-11-06T10:37:57.120Z"
   },
   {
    "duration": 376,
    "start_time": "2021-11-06T10:38:36.171Z"
   },
   {
    "duration": 660,
    "start_time": "2021-11-06T10:54:17.800Z"
   },
   {
    "duration": 735,
    "start_time": "2021-11-06T10:54:41.596Z"
   },
   {
    "duration": 4,
    "start_time": "2021-11-06T10:55:09.640Z"
   },
   {
    "duration": 488,
    "start_time": "2021-11-06T10:55:17.372Z"
   },
   {
    "duration": 484,
    "start_time": "2021-11-06T10:55:58.875Z"
   },
   {
    "duration": 520,
    "start_time": "2021-11-06T10:56:10.679Z"
   },
   {
    "duration": 599,
    "start_time": "2021-11-06T10:56:18.067Z"
   },
   {
    "duration": 979,
    "start_time": "2021-11-06T10:56:31.975Z"
   },
   {
    "duration": 707,
    "start_time": "2021-11-06T10:58:14.526Z"
   },
   {
    "duration": 922,
    "start_time": "2021-11-06T11:00:50.357Z"
   },
   {
    "duration": 862,
    "start_time": "2021-11-06T11:01:49.030Z"
   },
   {
    "duration": 820,
    "start_time": "2021-11-06T11:02:14.541Z"
   },
   {
    "duration": 867,
    "start_time": "2021-11-06T11:02:54.122Z"
   },
   {
    "duration": 781,
    "start_time": "2021-11-06T11:03:04.008Z"
   },
   {
    "duration": 782,
    "start_time": "2021-11-06T11:03:26.407Z"
   },
   {
    "duration": 786,
    "start_time": "2021-11-06T11:03:32.390Z"
   },
   {
    "duration": 488,
    "start_time": "2021-11-06T11:03:52.598Z"
   },
   {
    "duration": 802,
    "start_time": "2021-11-06T11:06:11.002Z"
   },
   {
    "duration": 1006,
    "start_time": "2021-11-06T11:06:19.587Z"
   },
   {
    "duration": 861,
    "start_time": "2021-11-06T11:09:11.208Z"
   },
   {
    "duration": 13,
    "start_time": "2021-11-06T11:09:55.671Z"
   },
   {
    "duration": 749,
    "start_time": "2021-11-06T11:11:35.283Z"
   },
   {
    "duration": 736,
    "start_time": "2021-11-06T11:11:51.089Z"
   },
   {
    "duration": 726,
    "start_time": "2021-11-06T11:14:13.529Z"
   },
   {
    "duration": 825,
    "start_time": "2021-11-06T11:15:25.436Z"
   },
   {
    "duration": 239,
    "start_time": "2021-11-06T11:18:41.718Z"
   },
   {
    "duration": 788,
    "start_time": "2021-11-06T11:20:02.038Z"
   },
   {
    "duration": 647,
    "start_time": "2021-11-06T11:20:21.386Z"
   },
   {
    "duration": 646,
    "start_time": "2021-11-06T11:22:11.202Z"
   },
   {
    "duration": 666,
    "start_time": "2021-11-06T11:22:43.313Z"
   },
   {
    "duration": 639,
    "start_time": "2021-11-06T11:23:12.963Z"
   },
   {
    "duration": 754,
    "start_time": "2021-11-06T11:23:42.651Z"
   },
   {
    "duration": 665,
    "start_time": "2021-11-06T11:24:05.408Z"
   },
   {
    "duration": 663,
    "start_time": "2021-11-06T11:24:47.712Z"
   },
   {
    "duration": 827,
    "start_time": "2021-11-06T11:26:54.941Z"
   },
   {
    "duration": 641,
    "start_time": "2021-11-06T11:27:24.404Z"
   },
   {
    "duration": 741,
    "start_time": "2021-11-06T11:28:17.271Z"
   },
   {
    "duration": 668,
    "start_time": "2021-11-06T11:28:50.583Z"
   },
   {
    "duration": 7,
    "start_time": "2021-11-06T11:32:40.874Z"
   },
   {
    "duration": 643,
    "start_time": "2021-11-06T11:32:57.023Z"
   },
   {
    "duration": 6,
    "start_time": "2021-11-06T11:33:56.513Z"
   },
   {
    "duration": 981,
    "start_time": "2021-11-06T11:34:00.624Z"
   },
   {
    "duration": 7,
    "start_time": "2021-11-06T11:35:19.269Z"
   },
   {
    "duration": 624,
    "start_time": "2021-11-06T11:35:52.200Z"
   },
   {
    "duration": 630,
    "start_time": "2021-11-06T11:36:19.938Z"
   },
   {
    "duration": 7,
    "start_time": "2021-11-06T11:37:12.848Z"
   },
   {
    "duration": 701,
    "start_time": "2021-11-06T11:37:17.458Z"
   },
   {
    "duration": 7,
    "start_time": "2021-11-06T11:37:29.793Z"
   },
   {
    "duration": 593,
    "start_time": "2021-11-06T11:37:33.265Z"
   },
   {
    "duration": 612,
    "start_time": "2021-11-06T11:37:37.082Z"
   },
   {
    "duration": 46,
    "start_time": "2021-11-06T11:39:46.876Z"
   },
   {
    "duration": 34,
    "start_time": "2021-11-06T11:40:06.413Z"
   },
   {
    "duration": 45,
    "start_time": "2021-11-06T11:41:33.760Z"
   },
   {
    "duration": 43,
    "start_time": "2021-11-06T11:43:03.203Z"
   },
   {
    "duration": 48,
    "start_time": "2021-11-06T11:43:29.517Z"
   },
   {
    "duration": 45,
    "start_time": "2021-11-06T11:43:55.219Z"
   },
   {
    "duration": 50,
    "start_time": "2021-11-06T11:46:16.583Z"
   },
   {
    "duration": 1337,
    "start_time": "2021-11-06T14:05:16.356Z"
   },
   {
    "duration": 438,
    "start_time": "2021-11-06T14:05:17.695Z"
   },
   {
    "duration": 21,
    "start_time": "2021-11-06T14:05:18.137Z"
   },
   {
    "duration": 23,
    "start_time": "2021-11-06T14:05:18.161Z"
   },
   {
    "duration": 46,
    "start_time": "2021-11-06T14:05:18.186Z"
   },
   {
    "duration": 43,
    "start_time": "2021-11-06T14:05:18.235Z"
   },
   {
    "duration": 30,
    "start_time": "2021-11-06T14:05:18.280Z"
   },
   {
    "duration": 33,
    "start_time": "2021-11-06T14:05:18.313Z"
   },
   {
    "duration": 37,
    "start_time": "2021-11-06T14:05:18.349Z"
   },
   {
    "duration": 14,
    "start_time": "2021-11-06T14:05:18.388Z"
   },
   {
    "duration": 28,
    "start_time": "2021-11-06T14:05:18.405Z"
   },
   {
    "duration": 23,
    "start_time": "2021-11-06T14:05:18.436Z"
   },
   {
    "duration": 22,
    "start_time": "2021-11-06T14:05:18.461Z"
   },
   {
    "duration": 25,
    "start_time": "2021-11-06T14:05:18.486Z"
   },
   {
    "duration": 7,
    "start_time": "2021-11-06T14:05:18.529Z"
   },
   {
    "duration": 18,
    "start_time": "2021-11-06T14:05:18.539Z"
   },
   {
    "duration": 18,
    "start_time": "2021-11-06T14:05:18.560Z"
   },
   {
    "duration": 77,
    "start_time": "2021-11-06T14:05:18.581Z"
   },
   {
    "duration": 13,
    "start_time": "2021-11-06T14:05:18.661Z"
   },
   {
    "duration": 12,
    "start_time": "2021-11-06T14:05:18.676Z"
   },
   {
    "duration": 42,
    "start_time": "2021-11-06T14:05:18.691Z"
   },
   {
    "duration": 97,
    "start_time": "2021-11-06T14:05:18.737Z"
   },
   {
    "duration": 47,
    "start_time": "2021-11-06T14:05:18.839Z"
   },
   {
    "duration": 74,
    "start_time": "2021-11-06T14:05:18.889Z"
   },
   {
    "duration": 67,
    "start_time": "2021-11-06T14:05:18.965Z"
   },
   {
    "duration": 13,
    "start_time": "2021-11-06T14:05:19.035Z"
   },
   {
    "duration": 421,
    "start_time": "2021-11-06T14:05:19.052Z"
   },
   {
    "duration": 74,
    "start_time": "2021-11-06T14:05:19.476Z"
   },
   {
    "duration": 8,
    "start_time": "2021-11-06T14:05:19.553Z"
   },
   {
    "duration": 762,
    "start_time": "2021-11-06T14:05:19.563Z"
   },
   {
    "duration": 651,
    "start_time": "2021-11-06T14:05:20.328Z"
   },
   {
    "duration": 678,
    "start_time": "2021-11-06T14:05:20.981Z"
   },
   {
    "duration": 13,
    "start_time": "2021-11-06T14:05:21.661Z"
   },
   {
    "duration": 51,
    "start_time": "2021-11-06T14:06:54.936Z"
   },
   {
    "duration": 48,
    "start_time": "2021-11-06T14:07:09.402Z"
   },
   {
    "duration": 51,
    "start_time": "2021-11-06T14:08:04.649Z"
   },
   {
    "duration": 13,
    "start_time": "2021-11-06T14:09:26.953Z"
   },
   {
    "duration": 12,
    "start_time": "2021-11-06T14:10:45.172Z"
   },
   {
    "duration": 17,
    "start_time": "2021-11-06T14:10:56.237Z"
   },
   {
    "duration": 4,
    "start_time": "2021-11-06T14:11:45.244Z"
   },
   {
    "duration": 13,
    "start_time": "2021-11-06T14:12:56.493Z"
   },
   {
    "duration": 55,
    "start_time": "2021-11-06T14:14:02.609Z"
   },
   {
    "duration": 803,
    "start_time": "2021-11-06T14:17:20.129Z"
   },
   {
    "duration": 428,
    "start_time": "2021-11-06T14:18:58.018Z"
   },
   {
    "duration": 500,
    "start_time": "2021-11-06T14:19:29.573Z"
   },
   {
    "duration": 434,
    "start_time": "2021-11-06T14:19:58.796Z"
   },
   {
    "duration": 50,
    "start_time": "2021-11-06T14:20:13.280Z"
   },
   {
    "duration": 422,
    "start_time": "2021-11-06T14:20:20.317Z"
   },
   {
    "duration": 288,
    "start_time": "2021-11-06T14:20:46.219Z"
   },
   {
    "duration": 289,
    "start_time": "2021-11-06T14:20:50.970Z"
   },
   {
    "duration": 276,
    "start_time": "2021-11-06T14:21:07.509Z"
   },
   {
    "duration": 432,
    "start_time": "2021-11-06T14:21:48.527Z"
   },
   {
    "duration": 6878,
    "start_time": "2021-11-06T14:22:01.249Z"
   },
   {
    "duration": 6582,
    "start_time": "2021-11-06T14:22:56.739Z"
   },
   {
    "duration": 18,
    "start_time": "2021-11-06T14:23:08.670Z"
   },
   {
    "duration": 52,
    "start_time": "2021-11-06T14:24:27.014Z"
   },
   {
    "duration": 449,
    "start_time": "2021-11-06T14:24:30.638Z"
   },
   {
    "duration": 47,
    "start_time": "2021-11-06T14:24:52.952Z"
   },
   {
    "duration": 454,
    "start_time": "2021-11-06T14:24:57.014Z"
   },
   {
    "duration": 47,
    "start_time": "2021-11-06T14:25:35.648Z"
   },
   {
    "duration": 468,
    "start_time": "2021-11-06T14:25:38.490Z"
   },
   {
    "duration": 47,
    "start_time": "2021-11-06T14:26:02.363Z"
   },
   {
    "duration": 433,
    "start_time": "2021-11-06T14:26:05.147Z"
   },
   {
    "duration": 54,
    "start_time": "2021-11-06T14:26:18.696Z"
   },
   {
    "duration": 445,
    "start_time": "2021-11-06T14:26:21.196Z"
   },
   {
    "duration": 6504,
    "start_time": "2021-11-06T14:26:36.658Z"
   },
   {
    "duration": 50,
    "start_time": "2021-11-06T14:26:47.026Z"
   },
   {
    "duration": 459,
    "start_time": "2021-11-06T14:26:50.059Z"
   },
   {
    "duration": 55,
    "start_time": "2021-11-06T14:27:32.801Z"
   },
   {
    "duration": 507,
    "start_time": "2021-11-06T14:27:35.982Z"
   },
   {
    "duration": 6,
    "start_time": "2021-11-06T14:28:15.148Z"
   },
   {
    "duration": 266,
    "start_time": "2021-11-06T14:28:32.760Z"
   },
   {
    "duration": 240,
    "start_time": "2021-11-06T14:28:48.212Z"
   },
   {
    "duration": 255,
    "start_time": "2021-11-06T14:29:03.917Z"
   },
   {
    "duration": 7,
    "start_time": "2021-11-06T14:29:09.522Z"
   },
   {
    "duration": 3,
    "start_time": "2021-11-06T14:32:11.825Z"
   },
   {
    "duration": 21,
    "start_time": "2021-11-06T14:56:27.339Z"
   },
   {
    "duration": 17,
    "start_time": "2021-11-06T14:57:42.884Z"
   },
   {
    "duration": 257,
    "start_time": "2021-11-06T15:01:37.012Z"
   },
   {
    "duration": 5,
    "start_time": "2021-11-06T15:01:46.922Z"
   },
   {
    "duration": 17,
    "start_time": "2021-11-06T15:27:08.744Z"
   },
   {
    "duration": 11,
    "start_time": "2021-11-06T15:31:40.448Z"
   },
   {
    "duration": 46,
    "start_time": "2021-11-06T15:32:21.661Z"
   },
   {
    "duration": 291,
    "start_time": "2021-11-06T15:39:44.484Z"
   },
   {
    "duration": 59,
    "start_time": "2021-11-06T15:40:06.148Z"
   },
   {
    "duration": 442,
    "start_time": "2021-11-06T15:41:40.828Z"
   },
   {
    "duration": 37,
    "start_time": "2021-11-06T15:42:05.395Z"
   },
   {
    "duration": 10,
    "start_time": "2021-11-06T15:42:21.718Z"
   },
   {
    "duration": 52,
    "start_time": "2021-11-06T15:42:27.308Z"
   },
   {
    "duration": 77,
    "start_time": "2021-11-06T15:46:18.984Z"
   },
   {
    "duration": 6712,
    "start_time": "2021-11-06T15:46:24.014Z"
   },
   {
    "duration": 14,
    "start_time": "2021-11-06T15:46:52.137Z"
   },
   {
    "duration": 14,
    "start_time": "2021-11-06T15:47:01.948Z"
   },
   {
    "duration": 55,
    "start_time": "2021-11-06T15:47:16.124Z"
   },
   {
    "duration": 9,
    "start_time": "2021-11-06T15:47:27.783Z"
   },
   {
    "duration": 47,
    "start_time": "2021-11-06T15:47:31.658Z"
   },
   {
    "duration": 50,
    "start_time": "2021-11-06T15:47:40.563Z"
   },
   {
    "duration": 460,
    "start_time": "2021-11-06T15:47:45.671Z"
   },
   {
    "duration": 50,
    "start_time": "2021-11-06T15:47:48.726Z"
   },
   {
    "duration": 10,
    "start_time": "2021-11-06T15:47:53.197Z"
   },
   {
    "duration": 48,
    "start_time": "2021-11-06T15:47:55.647Z"
   },
   {
    "duration": 15,
    "start_time": "2021-11-06T15:48:00.618Z"
   },
   {
    "duration": 14,
    "start_time": "2021-11-06T15:48:07.318Z"
   },
   {
    "duration": 49,
    "start_time": "2021-11-06T15:48:10.771Z"
   },
   {
    "duration": 78,
    "start_time": "2021-11-06T15:52:46.817Z"
   },
   {
    "duration": 56,
    "start_time": "2021-11-06T15:53:37.852Z"
   },
   {
    "duration": 104,
    "start_time": "2021-11-06T16:19:47.940Z"
   },
   {
    "duration": 48,
    "start_time": "2021-11-06T16:20:10.773Z"
   },
   {
    "duration": 53,
    "start_time": "2021-11-06T16:20:17.626Z"
   },
   {
    "duration": 27,
    "start_time": "2021-11-06T16:20:43.029Z"
   },
   {
    "duration": 523,
    "start_time": "2021-11-06T16:20:45.617Z"
   },
   {
    "duration": 18,
    "start_time": "2021-11-06T16:21:20.122Z"
   },
   {
    "duration": 56,
    "start_time": "2021-11-06T16:21:50.870Z"
   },
   {
    "duration": 988,
    "start_time": "2021-11-06T16:22:52.986Z"
   },
   {
    "duration": 889,
    "start_time": "2021-11-06T16:23:06.933Z"
   },
   {
    "duration": 915,
    "start_time": "2021-11-06T16:23:40.572Z"
   },
   {
    "duration": 1201,
    "start_time": "2021-11-06T16:23:55.786Z"
   },
   {
    "duration": 853,
    "start_time": "2021-11-06T16:24:38.487Z"
   },
   {
    "duration": 992,
    "start_time": "2021-11-06T16:25:37.278Z"
   },
   {
    "duration": 974,
    "start_time": "2021-11-06T16:26:12.360Z"
   },
   {
    "duration": 845,
    "start_time": "2021-11-06T16:26:38.273Z"
   },
   {
    "duration": 894,
    "start_time": "2021-11-06T16:26:43.734Z"
   },
   {
    "duration": 668,
    "start_time": "2021-11-06T16:30:53.357Z"
   },
   {
    "duration": 491,
    "start_time": "2021-11-06T16:31:04.826Z"
   },
   {
    "duration": 603,
    "start_time": "2021-11-06T16:31:38.561Z"
   },
   {
    "duration": 1197,
    "start_time": "2021-11-06T16:32:59.795Z"
   },
   {
    "duration": 1021,
    "start_time": "2021-11-06T16:36:29.392Z"
   },
   {
    "duration": 760,
    "start_time": "2021-11-06T16:37:12.727Z"
   },
   {
    "duration": 756,
    "start_time": "2021-11-06T16:37:25.643Z"
   },
   {
    "duration": 1073,
    "start_time": "2021-11-06T16:37:43.330Z"
   },
   {
    "duration": 863,
    "start_time": "2021-11-06T16:39:36.943Z"
   },
   {
    "duration": 1029,
    "start_time": "2021-11-06T16:41:30.776Z"
   },
   {
    "duration": 881,
    "start_time": "2021-11-06T16:41:58.477Z"
   },
   {
    "duration": 690,
    "start_time": "2021-11-06T16:43:30.886Z"
   },
   {
    "duration": 715,
    "start_time": "2021-11-06T16:46:33.117Z"
   },
   {
    "duration": 680,
    "start_time": "2021-11-06T16:46:49.641Z"
   },
   {
    "duration": 910,
    "start_time": "2021-11-06T16:47:47.282Z"
   },
   {
    "duration": 909,
    "start_time": "2021-11-06T16:48:29.363Z"
   },
   {
    "duration": 1742,
    "start_time": "2021-11-06T16:49:35.303Z"
   },
   {
    "duration": 733,
    "start_time": "2021-11-06T16:50:01.257Z"
   },
   {
    "duration": 978,
    "start_time": "2021-11-06T16:50:43.907Z"
   },
   {
    "duration": 1068,
    "start_time": "2021-11-06T16:51:14.666Z"
   },
   {
    "duration": 727,
    "start_time": "2021-11-06T16:51:21.876Z"
   },
   {
    "duration": 1390,
    "start_time": "2021-11-06T16:53:25.019Z"
   },
   {
    "duration": 1523,
    "start_time": "2021-11-06T16:54:19.304Z"
   },
   {
    "duration": 875,
    "start_time": "2021-11-06T16:55:46.969Z"
   },
   {
    "duration": 980,
    "start_time": "2021-11-06T16:56:08.010Z"
   },
   {
    "duration": 1166,
    "start_time": "2021-11-06T16:56:29.324Z"
   },
   {
    "duration": 805,
    "start_time": "2021-11-06T16:56:54.645Z"
   },
   {
    "duration": 859,
    "start_time": "2021-11-06T17:00:38.016Z"
   },
   {
    "duration": 788,
    "start_time": "2021-11-06T17:01:54.605Z"
   },
   {
    "duration": 885,
    "start_time": "2021-11-06T17:04:31.941Z"
   },
   {
    "duration": 1499,
    "start_time": "2021-11-06T19:24:49.504Z"
   },
   {
    "duration": 571,
    "start_time": "2021-11-06T19:24:51.006Z"
   },
   {
    "duration": 21,
    "start_time": "2021-11-06T19:24:51.580Z"
   },
   {
    "duration": 16,
    "start_time": "2021-11-06T19:24:51.604Z"
   },
   {
    "duration": 61,
    "start_time": "2021-11-06T19:24:51.623Z"
   },
   {
    "duration": 56,
    "start_time": "2021-11-06T19:24:51.687Z"
   },
   {
    "duration": 47,
    "start_time": "2021-11-06T19:24:51.747Z"
   },
   {
    "duration": 23,
    "start_time": "2021-11-06T19:24:51.797Z"
   },
   {
    "duration": 84,
    "start_time": "2021-11-06T19:24:51.825Z"
   },
   {
    "duration": 17,
    "start_time": "2021-11-06T19:24:51.912Z"
   },
   {
    "duration": 8,
    "start_time": "2021-11-06T19:24:51.932Z"
   },
   {
    "duration": 46,
    "start_time": "2021-11-06T19:24:51.943Z"
   },
   {
    "duration": 13,
    "start_time": "2021-11-06T19:24:51.992Z"
   },
   {
    "duration": 19,
    "start_time": "2021-11-06T19:24:52.007Z"
   },
   {
    "duration": 5,
    "start_time": "2021-11-06T19:24:52.029Z"
   },
   {
    "duration": 56,
    "start_time": "2021-11-06T19:24:52.038Z"
   },
   {
    "duration": 22,
    "start_time": "2021-11-06T19:24:52.097Z"
   },
   {
    "duration": 65,
    "start_time": "2021-11-06T19:24:52.123Z"
   },
   {
    "duration": 13,
    "start_time": "2021-11-06T19:24:52.191Z"
   },
   {
    "duration": 7,
    "start_time": "2021-11-06T19:24:52.206Z"
   },
   {
    "duration": 16,
    "start_time": "2021-11-06T19:24:52.216Z"
   },
   {
    "duration": 135,
    "start_time": "2021-11-06T19:24:52.235Z"
   },
   {
    "duration": 57,
    "start_time": "2021-11-06T19:24:52.381Z"
   },
   {
    "duration": 76,
    "start_time": "2021-11-06T19:24:52.441Z"
   },
   {
    "duration": 71,
    "start_time": "2021-11-06T19:24:52.520Z"
   },
   {
    "duration": 36,
    "start_time": "2021-11-06T19:24:52.593Z"
   },
   {
    "duration": 8,
    "start_time": "2021-11-06T19:24:52.636Z"
   },
   {
    "duration": 428,
    "start_time": "2021-11-06T19:24:52.647Z"
   },
   {
    "duration": 10,
    "start_time": "2021-11-06T19:24:53.078Z"
   },
   {
    "duration": 54,
    "start_time": "2021-11-06T19:24:53.091Z"
   },
   {
    "duration": 42,
    "start_time": "2021-11-06T19:24:53.148Z"
   },
   {
    "duration": 89,
    "start_time": "2021-11-06T19:24:53.193Z"
   },
   {
    "duration": 702,
    "start_time": "2021-11-06T19:24:53.285Z"
   },
   {
    "duration": 768,
    "start_time": "2021-11-06T19:24:53.990Z"
   },
   {
    "duration": 727,
    "start_time": "2021-11-06T19:24:54.761Z"
   },
   {
    "duration": 1055,
    "start_time": "2021-11-06T19:24:55.491Z"
   },
   {
    "duration": 1087,
    "start_time": "2021-11-06T19:24:56.549Z"
   },
   {
    "duration": 4,
    "start_time": "2021-11-06T19:24:57.638Z"
   },
   {
    "duration": 38,
    "start_time": "2021-11-06T19:24:57.645Z"
   },
   {
    "duration": 17,
    "start_time": "2021-11-06T19:24:57.686Z"
   },
   {
    "duration": 459,
    "start_time": "2021-11-06T20:03:24.208Z"
   },
   {
    "duration": 345,
    "start_time": "2021-11-06T20:03:37.657Z"
   },
   {
    "duration": 307,
    "start_time": "2021-11-06T20:04:32.813Z"
   },
   {
    "duration": 341,
    "start_time": "2021-11-06T20:05:12.814Z"
   },
   {
    "duration": 21,
    "start_time": "2021-11-06T20:07:06.867Z"
   },
   {
    "duration": 22,
    "start_time": "2021-11-06T20:07:31.893Z"
   },
   {
    "duration": 20,
    "start_time": "2021-11-06T20:07:39.205Z"
   },
   {
    "duration": 23,
    "start_time": "2021-11-06T20:10:10.985Z"
   },
   {
    "duration": 21,
    "start_time": "2021-11-06T20:11:36.013Z"
   },
   {
    "duration": 1300,
    "start_time": "2021-11-06T20:47:44.540Z"
   },
   {
    "duration": 437,
    "start_time": "2021-11-06T20:47:45.842Z"
   },
   {
    "duration": 21,
    "start_time": "2021-11-06T20:47:46.282Z"
   },
   {
    "duration": 10,
    "start_time": "2021-11-06T20:47:46.306Z"
   },
   {
    "duration": 30,
    "start_time": "2021-11-06T20:47:46.319Z"
   },
   {
    "duration": 37,
    "start_time": "2021-11-06T20:47:46.383Z"
   },
   {
    "duration": 19,
    "start_time": "2021-11-06T20:47:46.423Z"
   },
   {
    "duration": 49,
    "start_time": "2021-11-06T20:47:46.447Z"
   },
   {
    "duration": 40,
    "start_time": "2021-11-06T20:47:46.500Z"
   },
   {
    "duration": 47,
    "start_time": "2021-11-06T20:47:46.542Z"
   },
   {
    "duration": 5,
    "start_time": "2021-11-06T20:47:46.591Z"
   },
   {
    "duration": 13,
    "start_time": "2021-11-06T20:47:46.599Z"
   },
   {
    "duration": 14,
    "start_time": "2021-11-06T20:47:46.614Z"
   },
   {
    "duration": 53,
    "start_time": "2021-11-06T20:47:46.630Z"
   },
   {
    "duration": 4,
    "start_time": "2021-11-06T20:47:46.686Z"
   },
   {
    "duration": 17,
    "start_time": "2021-11-06T20:47:46.692Z"
   },
   {
    "duration": 13,
    "start_time": "2021-11-06T20:47:46.712Z"
   },
   {
    "duration": 74,
    "start_time": "2021-11-06T20:47:46.728Z"
   },
   {
    "duration": 13,
    "start_time": "2021-11-06T20:47:46.804Z"
   },
   {
    "duration": 5,
    "start_time": "2021-11-06T20:47:46.820Z"
   },
   {
    "duration": 18,
    "start_time": "2021-11-06T20:47:46.827Z"
   },
   {
    "duration": 120,
    "start_time": "2021-11-06T20:47:46.847Z"
   },
   {
    "duration": 55,
    "start_time": "2021-11-06T20:47:46.972Z"
   },
   {
    "duration": 66,
    "start_time": "2021-11-06T20:47:47.029Z"
   },
   {
    "duration": 50,
    "start_time": "2021-11-06T20:47:47.097Z"
   },
   {
    "duration": 54,
    "start_time": "2021-11-06T20:47:47.149Z"
   },
   {
    "duration": 6,
    "start_time": "2021-11-06T20:47:47.206Z"
   },
   {
    "duration": 480,
    "start_time": "2021-11-06T20:47:47.215Z"
   },
   {
    "duration": 10,
    "start_time": "2021-11-06T20:47:47.698Z"
   },
   {
    "duration": 46,
    "start_time": "2021-11-06T20:47:47.711Z"
   },
   {
    "duration": 30,
    "start_time": "2021-11-06T20:47:47.760Z"
   },
   {
    "duration": 62,
    "start_time": "2021-11-06T20:47:47.793Z"
   },
   {
    "duration": 651,
    "start_time": "2021-11-06T20:47:47.857Z"
   },
   {
    "duration": 603,
    "start_time": "2021-11-06T20:47:48.511Z"
   },
   {
    "duration": 685,
    "start_time": "2021-11-06T20:47:49.116Z"
   },
   {
    "duration": 886,
    "start_time": "2021-11-06T20:47:49.804Z"
   },
   {
    "duration": 1005,
    "start_time": "2021-11-06T20:47:50.693Z"
   },
   {
    "duration": 19,
    "start_time": "2021-11-06T20:47:51.700Z"
   },
   {
    "duration": 3,
    "start_time": "2021-11-06T20:47:51.721Z"
   },
   {
    "duration": 16,
    "start_time": "2021-11-06T20:47:51.726Z"
   },
   {
    "duration": 44,
    "start_time": "2021-11-06T20:47:51.745Z"
   },
   {
    "duration": 1387,
    "start_time": "2021-11-06T22:18:55.671Z"
   },
   {
    "duration": 434,
    "start_time": "2021-11-06T22:18:57.061Z"
   },
   {
    "duration": 21,
    "start_time": "2021-11-06T22:18:57.498Z"
   },
   {
    "duration": 13,
    "start_time": "2021-11-06T22:18:57.522Z"
   },
   {
    "duration": 50,
    "start_time": "2021-11-06T22:18:57.537Z"
   },
   {
    "duration": 34,
    "start_time": "2021-11-06T22:18:57.590Z"
   },
   {
    "duration": 21,
    "start_time": "2021-11-06T22:18:57.626Z"
   },
   {
    "duration": 46,
    "start_time": "2021-11-06T22:18:57.649Z"
   },
   {
    "duration": 36,
    "start_time": "2021-11-06T22:18:57.699Z"
   },
   {
    "duration": 48,
    "start_time": "2021-11-06T22:18:57.738Z"
   },
   {
    "duration": 6,
    "start_time": "2021-11-06T22:18:57.788Z"
   },
   {
    "duration": 13,
    "start_time": "2021-11-06T22:18:57.796Z"
   },
   {
    "duration": 11,
    "start_time": "2021-11-06T22:18:57.812Z"
   },
   {
    "duration": 65,
    "start_time": "2021-11-06T22:18:57.825Z"
   },
   {
    "duration": 4,
    "start_time": "2021-11-06T22:18:57.892Z"
   },
   {
    "duration": 17,
    "start_time": "2021-11-06T22:18:57.898Z"
   },
   {
    "duration": 14,
    "start_time": "2021-11-06T22:18:57.917Z"
   },
   {
    "duration": 78,
    "start_time": "2021-11-06T22:18:57.934Z"
   },
   {
    "duration": 12,
    "start_time": "2021-11-06T22:18:58.015Z"
   },
   {
    "duration": 5,
    "start_time": "2021-11-06T22:18:58.029Z"
   },
   {
    "duration": 49,
    "start_time": "2021-11-06T22:18:58.037Z"
   },
   {
    "duration": 112,
    "start_time": "2021-11-06T22:18:58.088Z"
   },
   {
    "duration": 44,
    "start_time": "2021-11-06T22:18:58.203Z"
   },
   {
    "duration": 69,
    "start_time": "2021-11-06T22:18:58.249Z"
   },
   {
    "duration": 78,
    "start_time": "2021-11-06T22:18:58.320Z"
   },
   {
    "duration": 34,
    "start_time": "2021-11-06T22:18:58.400Z"
   },
   {
    "duration": 8,
    "start_time": "2021-11-06T22:18:58.438Z"
   },
   {
    "duration": 404,
    "start_time": "2021-11-06T22:18:58.448Z"
   },
   {
    "duration": 9,
    "start_time": "2021-11-06T22:18:58.854Z"
   },
   {
    "duration": 58,
    "start_time": "2021-11-06T22:18:58.865Z"
   },
   {
    "duration": 9,
    "start_time": "2021-11-06T22:18:58.926Z"
   },
   {
    "duration": 89,
    "start_time": "2021-11-06T22:18:58.938Z"
   },
   {
    "duration": 623,
    "start_time": "2021-11-06T22:18:59.030Z"
   },
   {
    "duration": 589,
    "start_time": "2021-11-06T22:18:59.655Z"
   },
   {
    "duration": 681,
    "start_time": "2021-11-06T22:19:00.247Z"
   },
   {
    "duration": 892,
    "start_time": "2021-11-06T22:19:00.931Z"
   },
   {
    "duration": 961,
    "start_time": "2021-11-06T22:19:01.825Z"
   },
   {
    "duration": 21,
    "start_time": "2021-11-06T22:19:02.788Z"
   },
   {
    "duration": 4,
    "start_time": "2021-11-06T22:19:02.811Z"
   },
   {
    "duration": 15,
    "start_time": "2021-11-06T22:19:02.816Z"
   },
   {
    "duration": 57,
    "start_time": "2021-11-06T22:19:02.834Z"
   }
  ],
  "kernelspec": {
   "display_name": "Python 3",
   "language": "python",
   "name": "python3"
  },
  "language_info": {
   "codemirror_mode": {
    "name": "ipython",
    "version": 3
   },
   "file_extension": ".py",
   "mimetype": "text/x-python",
   "name": "python",
   "nbconvert_exporter": "python",
   "pygments_lexer": "ipython3",
   "version": "3.8.8"
  },
  "toc": {
   "base_numbering": 1,
   "nav_menu": {},
   "number_sections": true,
   "sideBar": true,
   "skip_h1_title": true,
   "title_cell": "Table of Contents",
   "title_sidebar": "Contents",
   "toc_cell": false,
   "toc_position": {},
   "toc_section_display": true,
   "toc_window_display": false
  }
 },
 "nbformat": 4,
 "nbformat_minor": 2
}
