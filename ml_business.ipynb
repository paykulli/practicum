{
 "cells": [
  {
   "cell_type": "markdown",
   "metadata": {},
   "source": [
    "# Machine Learning in Business - Course Project\n",
    "We work for the OilyGiant mining company. Our task is to find the best place for a new well.\n",
    "Steps to choose the location:\n",
    "- Collecting the oil well parameters in the selected region: oil quality and volume of reserves;\n",
    "- Building a model for predicting the volume of reserves in the new wells;\n",
    "- Picking the oil wells with the highest estimated values;\n",
    "- Picking the region with the highest total profit for the selected oil wells.\n",
    "\n",
    "We have data on oil samples from three regions. Parameters of each oil well in the region are already known. We will build a model that will help to pick the region with the highest profit margin. Then, we will analyze potential profit and risks using the Bootstrapping technique."
   ]
  },
  {
   "cell_type": "markdown",
   "metadata": {},
   "source": [
    "## Model"
   ]
  },
  {
   "cell_type": "markdown",
   "metadata": {},
   "source": [
    "Import necessary modules."
   ]
  },
  {
   "cell_type": "code",
   "execution_count": 1,
   "metadata": {},
   "outputs": [],
   "source": [
    "import pandas as pd\n",
    "import numpy as np\n",
    "from sklearn.linear_model import LinearRegression\n",
    "from sklearn.model_selection import train_test_split\n",
    "from sklearn.preprocessing import StandardScaler\n",
    "from sklearn.metrics import mean_squared_error\n",
    "import plotly.express as px"
   ]
  },
  {
   "cell_type": "markdown",
   "metadata": {},
   "source": [
    "Load data."
   ]
  },
  {
   "cell_type": "code",
   "execution_count": 2,
   "metadata": {},
   "outputs": [],
   "source": [
    "try:\n",
    "    df0 = pd.read_csv('geo_data_0.csv')\n",
    "    df1 = pd.read_csv('geo_data_1.csv')\n",
    "    df2 = pd.read_csv('geo_data_2.csv')\n",
    "except:\n",
    "    df0 = pd.read_csv('/datasets/geo_data_0.csv')\n",
    "    df1 = pd.read_csv('/datasets/geo_data_1.csv')\n",
    "    df2 = pd.read_csv('/datasets/geo_data_2.csv')"
   ]
  },
  {
   "cell_type": "markdown",
   "metadata": {},
   "source": [
    "Split features and target, then training and validation sets."
   ]
  },
  {
   "cell_type": "code",
   "execution_count": 3,
   "metadata": {},
   "outputs": [],
   "source": [
    "x0 = df0[['f0', 'f1', 'f2']]\n",
    "x1 = df1[['f0', 'f1', 'f2']]\n",
    "x2 = df2[['f0', 'f1', 'f2']]\n",
    "\n",
    "y0 = df0['product']\n",
    "y1 = df1['product']\n",
    "y2 = df2['product']\n",
    "\n",
    "x0_train, x0_valid, y0_train, y0_valid = train_test_split(x0, y0, test_size=0.25, random_state=42069)\n",
    "x1_train, x1_valid, y1_train, y1_valid = train_test_split(x1, y1, test_size=0.25, random_state=42069)\n",
    "x2_train, x2_valid, y2_train, y2_valid = train_test_split(x2, y2, test_size=0.25, random_state=42069)"
   ]
  },
  {
   "cell_type": "markdown",
   "metadata": {},
   "source": [
    "Create and fit a scaler for the features."
   ]
  },
  {
   "cell_type": "code",
   "execution_count": 4,
   "metadata": {},
   "outputs": [
    {
     "data": {
      "text/plain": [
       "StandardScaler()"
      ]
     },
     "execution_count": 4,
     "metadata": {},
     "output_type": "execute_result"
    }
   ],
   "source": [
    "scaler = StandardScaler()\n",
    "scaler.fit(pd.concat([x0, x1, x2]))"
   ]
  },
  {
   "cell_type": "markdown",
   "metadata": {},
   "source": [
    "Train, predict and evaluate a model for each dataset."
   ]
  },
  {
   "cell_type": "code",
   "execution_count": 5,
   "metadata": {},
   "outputs": [
    {
     "name": "stdout",
     "output_type": "stream",
     "text": [
      "Prediction average: 92.47745883135654\n",
      "RMSE: 37.50962222969333\n",
      "Sanity check: 44.19041951753856\n"
     ]
    }
   ],
   "source": [
    "model0 = LinearRegression()\n",
    "model0.fit(scaler.transform(x0_train), y0_train)\n",
    "y0_predicted = model0.predict(scaler.transform(x0_valid))\n",
    "print('Prediction average:', y0_predicted.mean())\n",
    "print('RMSE:', mean_squared_error(y0_predicted, y0_valid, squared=False))\n",
    "print('Sanity check RMSE:', mean_squared_error(pd.Series(y0_train.mean(), index=y0_valid.index), y0_valid, squared=False))"
   ]
  },
  {
   "cell_type": "code",
   "execution_count": 6,
   "metadata": {},
   "outputs": [
    {
     "name": "stdout",
     "output_type": "stream",
     "text": [
      "Prediction average: 68.75615816904572\n",
      "RMSE: 0.8907321858616108\n",
      "Sanity check: 45.7906709311826\n"
     ]
    }
   ],
   "source": [
    "model1 = LinearRegression()\n",
    "model1.fit(scaler.transform(x1_train), y1_train)\n",
    "y1_predicted = model1.predict(scaler.transform(x1_valid))\n",
    "print('Prediction average:', y1_predicted.mean())\n",
    "print('RMSE:', mean_squared_error(y1_predicted, y1_valid, squared=False))\n",
    "print('Sanity check RMSE:', mean_squared_error(pd.Series(y1_train.mean(), index=y1_valid.index), y1_valid, squared=False))"
   ]
  },
  {
   "cell_type": "code",
   "execution_count": 7,
   "metadata": {},
   "outputs": [
    {
     "name": "stdout",
     "output_type": "stream",
     "text": [
      "Prediction average: 94.73914527032773\n",
      "RMSE: 40.00730730575776\n",
      "Sanity check: 44.76476047372208\n"
     ]
    }
   ],
   "source": [
    "model2 = LinearRegression()\n",
    "model2.fit(scaler.transform(x2_train), y2_train)\n",
    "y2_predicted = model2.predict(scaler.transform(x2_valid))\n",
    "print('Prediction average:', y2_predicted.mean())\n",
    "print('RMSE:', mean_squared_error(y2_predicted, y2_valid, squared=False))\n",
    "print('Sanity check RMSE:', mean_squared_error(pd.Series(y2_train.mean(), index=y2_valid.index), y2_valid, squared=False))"
   ]
  },
  {
   "cell_type": "markdown",
   "metadata": {},
   "source": [
    "Regions 0 and 2 have similar average production and RMSE score, that is only a few units lower than the RMSE score of the sanity check model. Of the two, region 2 has the higher production average and higher (worse) RMSE score. On the other hand, the average production in region 1 is much lower, but the prediction error is less than one unit, making it a lot easier to pick the best sites for development."
   ]
  },
  {
   "cell_type": "markdown",
   "metadata": {},
   "source": [
    "## Profit Calculation"
   ]
  },
  {
   "cell_type": "markdown",
   "metadata": {},
   "source": [
    "Find the minimum average production per well required to make profit."
   ]
  },
  {
   "cell_type": "code",
   "execution_count": 8,
   "metadata": {},
   "outputs": [
    {
     "data": {
      "text/plain": [
       "111.11111111111111"
      ]
     },
     "execution_count": 8,
     "metadata": {},
     "output_type": "execute_result"
    }
   ],
   "source": [
    "investment = 10**8\n",
    "n_well = 200\n",
    "unit_price = 4500\n",
    "\n",
    "investment/n_well/unit_price"
   ]
  },
  {
   "cell_type": "markdown",
   "metadata": {},
   "source": [
    "This is higher than any predicted average. In reality, only 200 wells with the best prospects out 500 will be developed. We'll use the bootstraping technique to evaluate profit with a 95% confidence interval."
   ]
  },
  {
   "cell_type": "code",
   "execution_count": 16,
   "metadata": {},
   "outputs": [],
   "source": [
    "def revenue(actual, predicted, n):\n",
    "    pred_sorted = predicted.sort_values(ascending=False)\n",
    "    selected = actual[pred_sorted.index][:n]\n",
    "    return selected.sum() * unit_price - investment\n",
    "\n",
    "state = np.random.RandomState(12345)\n",
    "    \n",
    "def bootstrap(target, probabilities, n_sample, n_select, reps=1000):\n",
    "    values = []\n",
    "    for i in range(reps):\n",
    "        target_subsample = target.sample(n_sample, replace=True, random_state=state)\n",
    "        probs_subsample = probabilities[target_subsample.index]\n",
    "\n",
    "        values.append(revenue(target_subsample, probs_subsample, n_select))\n",
    "\n",
    "    return pd.Series(values)\n"
   ]
  },
  {
   "cell_type": "code",
   "execution_count": 17,
   "metadata": {},
   "outputs": [],
   "source": [
    "bs_result0 = bootstrap(y0_valid.reset_index(drop=True), pd.Series(y0_predicted), 500, n_well)"
   ]
  },
  {
   "cell_type": "code",
   "execution_count": 18,
   "metadata": {},
   "outputs": [],
   "source": [
    "bs_result1 = bootstrap(y1_valid.reset_index(drop=True), pd.Series(y1_predicted), 500, n_well)"
   ]
  },
  {
   "cell_type": "code",
   "execution_count": 19,
   "metadata": {},
   "outputs": [],
   "source": [
    "bs_result2 = bootstrap(y2_valid.reset_index(drop=True), pd.Series(y2_predicted), 500, n_well)"
   ]
  },
  {
   "cell_type": "code",
   "execution_count": 20,
   "metadata": {},
   "outputs": [
    {
     "data": {
      "text/html": [
       "<div>\n",
       "<style scoped>\n",
       "    .dataframe tbody tr th:only-of-type {\n",
       "        vertical-align: middle;\n",
       "    }\n",
       "\n",
       "    .dataframe tbody tr th {\n",
       "        vertical-align: top;\n",
       "    }\n",
       "\n",
       "    .dataframe thead th {\n",
       "        text-align: right;\n",
       "    }\n",
       "</style>\n",
       "<table border=\"1\" class=\"dataframe\">\n",
       "  <thead>\n",
       "    <tr style=\"text-align: right;\">\n",
       "      <th></th>\n",
       "      <th>region</th>\n",
       "      <th>mean</th>\n",
       "      <th>interval_high</th>\n",
       "      <th>interval_low</th>\n",
       "      <th>loss_risk_percent</th>\n",
       "    </tr>\n",
       "  </thead>\n",
       "  <tbody>\n",
       "    <tr>\n",
       "      <th>0</th>\n",
       "      <td>0</td>\n",
       "      <td>4797717</td>\n",
       "      <td>10020736</td>\n",
       "      <td>-520723</td>\n",
       "      <td>3.8</td>\n",
       "    </tr>\n",
       "    <tr>\n",
       "      <th>1</th>\n",
       "      <td>1</td>\n",
       "      <td>4704893</td>\n",
       "      <td>9129342</td>\n",
       "      <td>460629</td>\n",
       "      <td>0.9</td>\n",
       "    </tr>\n",
       "    <tr>\n",
       "      <th>2</th>\n",
       "      <td>2</td>\n",
       "      <td>3816509</td>\n",
       "      <td>9072061</td>\n",
       "      <td>-1893091</td>\n",
       "      <td>8.7</td>\n",
       "    </tr>\n",
       "  </tbody>\n",
       "</table>\n",
       "</div>"
      ],
      "text/plain": [
       "  region     mean  interval_high  interval_low  loss_risk_percent\n",
       "0      0  4797717       10020736       -520723                3.8\n",
       "1      1  4704893        9129342        460629                0.9\n",
       "2      2  3816509        9072061      -1893091                8.7"
      ]
     },
     "execution_count": 20,
     "metadata": {},
     "output_type": "execute_result"
    }
   ],
   "source": [
    "results = pd.DataFrame(dict(\n",
    "    region = ['0', '1', '2'],\n",
    "    mean = [result.mean() for result in [bs_result0, bs_result1, bs_result2]],\n",
    "    interval_high = [result.quantile(0.975) for result in [bs_result0, bs_result1, bs_result2]],\n",
    "    interval_low = [result.quantile(0.025) for result in [bs_result0, bs_result1, bs_result2]],\n",
    "    loss_risk_percent = [(result < 0).sum() / len(result) * 100 for result in [bs_result0, bs_result1, bs_result2]]\n",
    "))\n",
    "results.astype({'mean': int, 'interval_high': int, 'interval_low': int})"
   ]
  },
  {
   "cell_type": "markdown",
   "metadata": {},
   "source": [
    "## Conclusion"
   ]
  },
  {
   "cell_type": "code",
   "execution_count": 21,
   "metadata": {},
   "outputs": [],
   "source": [
    "results['err_plus'] = results['interval_high'] - results['mean']\n",
    "results['err_minus'] = results['mean'] - results['interval_low']"
   ]
  },
  {
   "cell_type": "code",
   "execution_count": null,
   "metadata": {},
   "outputs": [],
   "source": [
    "fig = px.scatter(\n",
    "    results, \n",
    "    x=\"region\", y=\"mean\", color=\"region\",\n",
    "    error_y=\"err_plus\", error_y_minus=\"err_minus\",\n",
    "    title='Projected Profit by Region<br><sup>Confidence Interval: 95%</sup>',\n",
    "    labels={'region': 'Region', 'mean': 'Profit (USD)', 'interval_high': '97.5th percentile', 'interval_low': '2.5th percentile'},\n",
    "    hover_data=['interval_high', 'interval_low'],\n",
    "    width=420,\n",
    ")\n",
    "fig.add_hline(y=0, line_width=3, line_dash=\"dash\", line_color=\"black\")\n",
    "fig.update_traces(marker=dict(size=18, symbol='diamond'), error_y=dict(width=10, thickness=3), showlegend=False)\n",
    "fig.show()"
   ]
  },
  {
   "cell_type": "markdown",
   "metadata": {},
   "source": [
    "We are required to consider only the regions where the risk of losses is lower than 2.5%. From the ones that fit the criteria, the region with the highest average profit should be selected. Only region 1 has a risk of loss low enough (0.9%) so it is the region we recommand for development. Despite having the lowest average production by a large margin, well production prediction is much more accurate in this region, as seen in the low RMSE value. This makes it the safest option."
   ]
  }
 ],
 "metadata": {
  "ExecuteTimeLog": [
   {
    "duration": 437,
    "start_time": "2022-04-02T12:42:27.094Z"
   },
   {
    "duration": 138,
    "start_time": "2022-04-02T12:43:06.533Z"
   },
   {
    "duration": 18,
    "start_time": "2022-04-02T12:43:11.328Z"
   },
   {
    "duration": 4,
    "start_time": "2022-04-02T12:43:46.161Z"
   },
   {
    "duration": 1074,
    "start_time": "2022-04-02T12:45:08.175Z"
   },
   {
    "duration": 9,
    "start_time": "2022-04-02T12:45:16.188Z"
   },
   {
    "duration": 9,
    "start_time": "2022-04-02T12:45:34.633Z"
   },
   {
    "duration": 3,
    "start_time": "2022-04-02T12:46:06.661Z"
   },
   {
    "duration": 471,
    "start_time": "2022-04-02T12:47:14.256Z"
   },
   {
    "duration": 4,
    "start_time": "2022-04-02T12:47:19.847Z"
   },
   {
    "duration": 10,
    "start_time": "2022-04-02T12:52:14.829Z"
   },
   {
    "duration": 45,
    "start_time": "2022-04-02T13:00:35.889Z"
   },
   {
    "duration": 5,
    "start_time": "2022-04-02T13:02:24.280Z"
   },
   {
    "duration": 5,
    "start_time": "2022-04-02T13:02:34.136Z"
   },
   {
    "duration": 5,
    "start_time": "2022-04-02T13:02:36.755Z"
   },
   {
    "duration": 9,
    "start_time": "2022-04-02T13:11:24.286Z"
   },
   {
    "duration": 3,
    "start_time": "2022-04-02T13:11:28.695Z"
   },
   {
    "duration": 135,
    "start_time": "2022-04-02T13:11:32.594Z"
   },
   {
    "duration": 27,
    "start_time": "2022-04-02T13:11:48.691Z"
   },
   {
    "duration": 16,
    "start_time": "2022-04-02T13:13:35.543Z"
   },
   {
    "duration": 26,
    "start_time": "2022-04-02T13:18:38.685Z"
   },
   {
    "duration": 4,
    "start_time": "2022-04-02T13:18:43.233Z"
   },
   {
    "duration": 45,
    "start_time": "2022-04-02T13:18:58.058Z"
   },
   {
    "duration": 16,
    "start_time": "2022-04-02T13:19:01.166Z"
   },
   {
    "duration": 18,
    "start_time": "2022-04-02T13:21:08.492Z"
   },
   {
    "duration": 10,
    "start_time": "2022-04-02T13:21:57.304Z"
   },
   {
    "duration": 16,
    "start_time": "2022-04-02T13:22:01.402Z"
   },
   {
    "duration": 21,
    "start_time": "2022-04-02T13:22:19.735Z"
   },
   {
    "duration": 15,
    "start_time": "2022-04-02T13:22:25.604Z"
   },
   {
    "duration": 8,
    "start_time": "2022-04-02T13:22:48.529Z"
   },
   {
    "duration": 8,
    "start_time": "2022-04-02T13:23:16.229Z"
   },
   {
    "duration": 8,
    "start_time": "2022-04-02T13:23:37.353Z"
   },
   {
    "duration": 14,
    "start_time": "2022-04-02T13:24:08.216Z"
   },
   {
    "duration": 7,
    "start_time": "2022-04-02T13:24:17.092Z"
   },
   {
    "duration": 7,
    "start_time": "2022-04-02T13:24:39.149Z"
   },
   {
    "duration": 7,
    "start_time": "2022-04-02T13:24:50.290Z"
   },
   {
    "duration": 8,
    "start_time": "2022-04-02T13:25:12.615Z"
   },
   {
    "duration": 4,
    "start_time": "2022-04-02T13:26:31.203Z"
   },
   {
    "duration": 66,
    "start_time": "2022-04-02T13:26:34.436Z"
   },
   {
    "duration": 16,
    "start_time": "2022-04-02T13:29:49.748Z"
   },
   {
    "duration": 17,
    "start_time": "2022-04-02T13:30:29.768Z"
   },
   {
    "duration": 5,
    "start_time": "2022-04-02T13:31:12.045Z"
   },
   {
    "duration": 5,
    "start_time": "2022-04-02T13:31:20.330Z"
   },
   {
    "duration": 5,
    "start_time": "2022-04-02T13:31:25.253Z"
   },
   {
    "duration": 5,
    "start_time": "2022-04-02T13:31:42.047Z"
   },
   {
    "duration": 5,
    "start_time": "2022-04-02T13:31:49.290Z"
   },
   {
    "duration": 5,
    "start_time": "2022-04-02T13:31:54.433Z"
   },
   {
    "duration": 748,
    "start_time": "2022-04-02T13:32:19.232Z"
   },
   {
    "duration": 165,
    "start_time": "2022-04-02T13:32:37.595Z"
   },
   {
    "duration": 148,
    "start_time": "2022-04-02T13:32:59.605Z"
   },
   {
    "duration": 166,
    "start_time": "2022-04-02T14:41:55.669Z"
   },
   {
    "duration": 239,
    "start_time": "2022-04-02T14:42:05.474Z"
   },
   {
    "duration": 19,
    "start_time": "2022-04-02T14:42:13.998Z"
   },
   {
    "duration": 79,
    "start_time": "2022-04-02T14:42:36.123Z"
   },
   {
    "duration": 20,
    "start_time": "2022-04-02T14:43:04.007Z"
   },
   {
    "duration": 24,
    "start_time": "2022-04-02T14:43:11.994Z"
   },
   {
    "duration": 4,
    "start_time": "2022-04-02T14:49:04.647Z"
   },
   {
    "duration": 4,
    "start_time": "2022-04-02T14:50:01.463Z"
   },
   {
    "duration": 1676,
    "start_time": "2022-04-08T06:16:27.269Z"
   },
   {
    "duration": 503,
    "start_time": "2022-04-08T06:16:28.948Z"
   },
   {
    "duration": 59,
    "start_time": "2022-04-08T06:16:29.453Z"
   },
   {
    "duration": 43,
    "start_time": "2022-04-08T06:16:29.515Z"
   },
   {
    "duration": 43,
    "start_time": "2022-04-08T06:16:29.561Z"
   },
   {
    "duration": 196,
    "start_time": "2022-04-08T06:16:29.690Z"
   },
   {
    "duration": 113,
    "start_time": "2022-04-08T06:16:29.896Z"
   },
   {
    "duration": 6,
    "start_time": "2022-04-08T06:16:30.087Z"
   },
   {
    "duration": 89,
    "start_time": "2022-04-08T06:16:30.096Z"
   },
   {
    "duration": 145,
    "start_time": "2022-04-08T06:18:18.059Z"
   },
   {
    "duration": 6,
    "start_time": "2022-04-08T06:20:04.384Z"
   },
   {
    "duration": 12,
    "start_time": "2022-04-08T06:20:28.979Z"
   },
   {
    "duration": 7,
    "start_time": "2022-04-08T06:20:59.831Z"
   },
   {
    "duration": 7,
    "start_time": "2022-04-08T06:21:16.335Z"
   },
   {
    "duration": 7,
    "start_time": "2022-04-08T06:21:39.741Z"
   },
   {
    "duration": 7,
    "start_time": "2022-04-08T06:22:00.905Z"
   },
   {
    "duration": 13,
    "start_time": "2022-04-08T06:22:37.056Z"
   },
   {
    "duration": 8,
    "start_time": "2022-04-08T06:23:00.979Z"
   },
   {
    "duration": 22,
    "start_time": "2022-04-08T06:24:12.207Z"
   },
   {
    "duration": 1951,
    "start_time": "2022-04-08T06:24:35.093Z"
   },
   {
    "duration": 6,
    "start_time": "2022-04-08T06:24:55.669Z"
   },
   {
    "duration": 6,
    "start_time": "2022-04-08T06:26:18.093Z"
   },
   {
    "duration": 5,
    "start_time": "2022-04-08T06:26:54.689Z"
   },
   {
    "duration": 10,
    "start_time": "2022-04-08T06:31:28.697Z"
   },
   {
    "duration": 13,
    "start_time": "2022-04-08T06:34:02.881Z"
   },
   {
    "duration": 11,
    "start_time": "2022-04-08T06:34:29.781Z"
   },
   {
    "duration": 21,
    "start_time": "2022-04-08T06:35:49.939Z"
   },
   {
    "duration": 10,
    "start_time": "2022-04-08T06:36:06.271Z"
   },
   {
    "duration": 12,
    "start_time": "2022-04-08T06:37:44.431Z"
   },
   {
    "duration": 11,
    "start_time": "2022-04-08T06:40:07.022Z"
   },
   {
    "duration": 9,
    "start_time": "2022-04-08T06:40:13.555Z"
   },
   {
    "duration": 18,
    "start_time": "2022-04-08T06:40:14.147Z"
   },
   {
    "duration": 9,
    "start_time": "2022-04-08T06:40:34.140Z"
   },
   {
    "duration": 9,
    "start_time": "2022-04-08T06:40:37.342Z"
   },
   {
    "duration": 2066,
    "start_time": "2022-04-08T06:43:00.205Z"
   },
   {
    "duration": 12,
    "start_time": "2022-04-08T06:43:03.831Z"
   },
   {
    "duration": 1947,
    "start_time": "2022-04-08T06:43:50.464Z"
   },
   {
    "duration": 12,
    "start_time": "2022-04-08T06:44:02.544Z"
   },
   {
    "duration": 7,
    "start_time": "2022-04-08T06:57:05.218Z"
   },
   {
    "duration": 21,
    "start_time": "2022-04-08T06:58:56.308Z"
   },
   {
    "duration": 141,
    "start_time": "2022-04-08T07:05:54.415Z"
   },
   {
    "duration": 15,
    "start_time": "2022-04-08T07:05:58.998Z"
   },
   {
    "duration": 14,
    "start_time": "2022-04-08T07:06:29.619Z"
   },
   {
    "duration": 19,
    "start_time": "2022-04-08T07:07:19.501Z"
   },
   {
    "duration": 773,
    "start_time": "2022-04-08T07:07:26.538Z"
   },
   {
    "duration": 115,
    "start_time": "2022-04-08T07:13:06.446Z"
   },
   {
    "duration": 136,
    "start_time": "2022-04-08T07:13:11.876Z"
   },
   {
    "duration": 91,
    "start_time": "2022-04-08T07:15:15.265Z"
   },
   {
    "duration": 102,
    "start_time": "2022-04-08T07:16:53.230Z"
   },
   {
    "duration": 16,
    "start_time": "2022-04-08T07:17:24.908Z"
   },
   {
    "duration": 150,
    "start_time": "2022-04-08T07:19:19.745Z"
   },
   {
    "duration": 101,
    "start_time": "2022-04-08T07:19:42.348Z"
   },
   {
    "duration": 110,
    "start_time": "2022-04-08T07:19:50.986Z"
   },
   {
    "duration": 98,
    "start_time": "2022-04-08T07:20:30.337Z"
   },
   {
    "duration": 92,
    "start_time": "2022-04-08T07:20:39.623Z"
   },
   {
    "duration": 102,
    "start_time": "2022-04-08T07:22:02.393Z"
   },
   {
    "duration": 93,
    "start_time": "2022-04-08T07:22:15.661Z"
   },
   {
    "duration": 25,
    "start_time": "2022-04-08T07:24:42.174Z"
   },
   {
    "duration": 104,
    "start_time": "2022-04-08T07:25:58.606Z"
   },
   {
    "duration": 106,
    "start_time": "2022-04-08T07:26:11.886Z"
   },
   {
    "duration": 184,
    "start_time": "2022-04-08T07:26:27.118Z"
   },
   {
    "duration": 111,
    "start_time": "2022-04-08T07:27:05.407Z"
   },
   {
    "duration": 102,
    "start_time": "2022-04-08T07:27:11.905Z"
   },
   {
    "duration": 108,
    "start_time": "2022-04-08T07:27:17.390Z"
   },
   {
    "duration": 101,
    "start_time": "2022-04-08T07:27:22.515Z"
   },
   {
    "duration": 104,
    "start_time": "2022-04-08T07:27:29.071Z"
   },
   {
    "duration": 100,
    "start_time": "2022-04-08T07:27:59.326Z"
   },
   {
    "duration": 105,
    "start_time": "2022-04-08T07:30:23.731Z"
   },
   {
    "duration": 101,
    "start_time": "2022-04-08T07:30:29.846Z"
   },
   {
    "duration": 102,
    "start_time": "2022-04-08T07:30:34.636Z"
   },
   {
    "duration": 107,
    "start_time": "2022-04-08T07:31:57.415Z"
   },
   {
    "duration": 105,
    "start_time": "2022-04-08T07:32:05.319Z"
   },
   {
    "duration": 111,
    "start_time": "2022-04-08T07:32:22.494Z"
   },
   {
    "duration": 108,
    "start_time": "2022-04-08T07:32:32.313Z"
   },
   {
    "duration": 144,
    "start_time": "2022-04-08T07:32:58.853Z"
   },
   {
    "duration": 101,
    "start_time": "2022-04-08T07:34:04.869Z"
   },
   {
    "duration": 104,
    "start_time": "2022-04-08T07:34:15.971Z"
   },
   {
    "duration": 111,
    "start_time": "2022-04-08T07:35:58.841Z"
   },
   {
    "duration": 151,
    "start_time": "2022-04-08T07:39:04.138Z"
   },
   {
    "duration": 7,
    "start_time": "2022-04-08T08:07:01.659Z"
   },
   {
    "duration": 26,
    "start_time": "2022-04-08T08:07:14.952Z"
   },
   {
    "duration": 99,
    "start_time": "2022-04-08T08:08:21.283Z"
   },
   {
    "duration": 37,
    "start_time": "2022-04-08T08:08:35.556Z"
   },
   {
    "duration": 35,
    "start_time": "2022-04-08T08:10:50.753Z"
   },
   {
    "duration": 37,
    "start_time": "2022-04-08T08:11:54.619Z"
   },
   {
    "duration": 38,
    "start_time": "2022-04-08T08:11:59.640Z"
   },
   {
    "duration": 35,
    "start_time": "2022-04-08T08:12:06.435Z"
   },
   {
    "duration": 33,
    "start_time": "2022-04-08T08:14:44.112Z"
   },
   {
    "duration": 39,
    "start_time": "2022-04-08T08:14:59.958Z"
   },
   {
    "duration": 1698,
    "start_time": "2022-04-08T08:15:02.835Z"
   },
   {
    "duration": 0,
    "start_time": "2022-04-08T08:15:04.535Z"
   },
   {
    "duration": 15,
    "start_time": "2022-04-08T08:16:02.879Z"
   },
   {
    "duration": 94,
    "start_time": "2022-04-08T08:16:03.608Z"
   },
   {
    "duration": 25,
    "start_time": "2022-04-08T08:16:28.570Z"
   },
   {
    "duration": 14,
    "start_time": "2022-04-08T08:16:38.006Z"
   },
   {
    "duration": 105,
    "start_time": "2022-04-08T08:16:38.447Z"
   },
   {
    "duration": 1797,
    "start_time": "2022-04-08T08:20:29.998Z"
   },
   {
    "duration": 498,
    "start_time": "2022-04-08T08:20:31.798Z"
   },
   {
    "duration": 52,
    "start_time": "2022-04-08T08:20:32.299Z"
   },
   {
    "duration": 59,
    "start_time": "2022-04-08T08:20:32.354Z"
   },
   {
    "duration": 77,
    "start_time": "2022-04-08T08:20:32.415Z"
   },
   {
    "duration": 103,
    "start_time": "2022-04-08T08:20:32.583Z"
   },
   {
    "duration": 199,
    "start_time": "2022-04-08T08:20:32.691Z"
   },
   {
    "duration": 94,
    "start_time": "2022-04-08T08:20:32.894Z"
   },
   {
    "duration": 15,
    "start_time": "2022-04-08T08:20:32.990Z"
   },
   {
    "duration": 2092,
    "start_time": "2022-04-08T08:20:33.009Z"
   },
   {
    "duration": 1809,
    "start_time": "2022-04-08T08:20:35.103Z"
   },
   {
    "duration": 2654,
    "start_time": "2022-04-08T08:20:36.914Z"
   },
   {
    "duration": 45,
    "start_time": "2022-04-08T08:20:39.571Z"
   },
   {
    "duration": 20,
    "start_time": "2022-04-08T08:20:39.619Z"
   },
   {
    "duration": 859,
    "start_time": "2022-04-08T08:20:39.642Z"
   },
   {
    "duration": 10,
    "start_time": "2022-04-08T08:29:15.205Z"
   },
   {
    "duration": 1850,
    "start_time": "2022-04-08T08:29:15.788Z"
   },
   {
    "duration": 1854,
    "start_time": "2022-04-08T08:29:17.641Z"
   },
   {
    "duration": 1836,
    "start_time": "2022-04-08T08:29:19.497Z"
   },
   {
    "duration": 25,
    "start_time": "2022-04-08T08:29:21.336Z"
   },
   {
    "duration": 6,
    "start_time": "2022-04-08T08:29:53.455Z"
   },
   {
    "duration": 107,
    "start_time": "2022-04-08T08:29:53.708Z"
   },
   {
    "duration": 119,
    "start_time": "2022-04-08T09:13:40.638Z"
   },
   {
    "duration": 115,
    "start_time": "2022-04-08T09:13:43.727Z"
   },
   {
    "duration": 117,
    "start_time": "2022-04-08T09:15:04.395Z"
   }
  ],
  "kernelspec": {
   "display_name": "Python 3",
   "language": "python",
   "name": "python3"
  },
  "language_info": {
   "codemirror_mode": {
    "name": "ipython",
    "version": 3
   },
   "file_extension": ".py",
   "mimetype": "text/x-python",
   "name": "python",
   "nbconvert_exporter": "python",
   "pygments_lexer": "ipython3",
   "version": "3.8.8"
  },
  "toc": {
   "base_numbering": 1,
   "nav_menu": {},
   "number_sections": true,
   "sideBar": true,
   "skip_h1_title": true,
   "title_cell": "Table of Contents",
   "title_sidebar": "Contents",
   "toc_cell": false,
   "toc_position": {},
   "toc_section_display": true,
   "toc_window_display": false
  }
 },
 "nbformat": 4,
 "nbformat_minor": 2
}
