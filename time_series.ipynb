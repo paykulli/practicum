{
 "cells": [
  {
   "cell_type": "markdown",
   "metadata": {},
   "source": [
    "# Project description\n",
    "\n",
    "Sweet Lift Taxi company has collected historical data on taxi orders at airports. To attract more drivers during peak hours, we need to predict the amount of taxi orders for the next hour. Build a model for such a prediction.\n",
    "\n",
    "The RMSE metric on the test set should not be more than 48.\n",
    "\n",
    "## Project plan\n",
    "\n",
    "1. Download the data and resample it by one hour.\n",
    "2. Analyze the data.\n",
    "3. Train different models with different hyperparameters. The test sample should be 10% of the initial dataset. \n",
    "4. Test the data using the test sample and provide a conclusion.\n",
    "\n",
    "## Data description\n",
    "\n",
    "The data is stored in file `taxi.csv`. The number of orders is in the '*num_orders*' column."
   ]
  },
  {
   "cell_type": "markdown",
   "metadata": {},
   "source": [
    "## Preparation"
   ]
  },
  {
   "cell_type": "markdown",
   "metadata": {},
   "source": [
    "Import required libraries."
   ]
  },
  {
   "cell_type": "code",
   "execution_count": 1,
   "metadata": {},
   "outputs": [],
   "source": [
    "import pandas as pd\n",
    "from statsmodels.tsa.seasonal import seasonal_decompose\n",
    "import matplotlib.pyplot as plt\n",
    "from sklearn.model_selection import train_test_split\n",
    "from sklearn.linear_model import LinearRegression\n",
    "from sklearn.tree import DecisionTreeRegressor\n",
    "from sklearn.ensemble import RandomForestRegressor\n",
    "from sklearn.metrics import mean_squared_error"
   ]
  },
  {
   "cell_type": "markdown",
   "metadata": {},
   "source": [
    "Load data."
   ]
  },
  {
   "cell_type": "code",
   "execution_count": 2,
   "metadata": {},
   "outputs": [],
   "source": [
    "try:\n",
    "    df = pd.read_csv('taxi.csv', parse_dates=[0], index_col=[0])\n",
    "except:\n",
    "    df = pd.read_csv('/datasets/taxi.csv', parse_dates=[0], index_col=[0])"
   ]
  },
  {
   "cell_type": "markdown",
   "metadata": {},
   "source": [
    "Inspect data."
   ]
  },
  {
   "cell_type": "code",
   "execution_count": 3,
   "metadata": {},
   "outputs": [
    {
     "data": {
      "text/html": [
       "<div>\n",
       "<style scoped>\n",
       "    .dataframe tbody tr th:only-of-type {\n",
       "        vertical-align: middle;\n",
       "    }\n",
       "\n",
       "    .dataframe tbody tr th {\n",
       "        vertical-align: top;\n",
       "    }\n",
       "\n",
       "    .dataframe thead th {\n",
       "        text-align: right;\n",
       "    }\n",
       "</style>\n",
       "<table border=\"1\" class=\"dataframe\">\n",
       "  <thead>\n",
       "    <tr style=\"text-align: right;\">\n",
       "      <th></th>\n",
       "      <th>num_orders</th>\n",
       "    </tr>\n",
       "    <tr>\n",
       "      <th>datetime</th>\n",
       "      <th></th>\n",
       "    </tr>\n",
       "  </thead>\n",
       "  <tbody>\n",
       "    <tr>\n",
       "      <th>2018-03-01 00:00:00</th>\n",
       "      <td>9</td>\n",
       "    </tr>\n",
       "    <tr>\n",
       "      <th>2018-03-01 00:10:00</th>\n",
       "      <td>14</td>\n",
       "    </tr>\n",
       "    <tr>\n",
       "      <th>2018-03-01 00:20:00</th>\n",
       "      <td>28</td>\n",
       "    </tr>\n",
       "    <tr>\n",
       "      <th>2018-03-01 00:30:00</th>\n",
       "      <td>20</td>\n",
       "    </tr>\n",
       "    <tr>\n",
       "      <th>2018-03-01 00:40:00</th>\n",
       "      <td>32</td>\n",
       "    </tr>\n",
       "  </tbody>\n",
       "</table>\n",
       "</div>"
      ],
      "text/plain": [
       "                     num_orders\n",
       "datetime                       \n",
       "2018-03-01 00:00:00           9\n",
       "2018-03-01 00:10:00          14\n",
       "2018-03-01 00:20:00          28\n",
       "2018-03-01 00:30:00          20\n",
       "2018-03-01 00:40:00          32"
      ]
     },
     "execution_count": 3,
     "metadata": {},
     "output_type": "execute_result"
    }
   ],
   "source": [
    "df.head()"
   ]
  },
  {
   "cell_type": "code",
   "execution_count": 4,
   "metadata": {},
   "outputs": [
    {
     "name": "stdout",
     "output_type": "stream",
     "text": [
      "<class 'pandas.core.frame.DataFrame'>\n",
      "DatetimeIndex: 26496 entries, 2018-03-01 00:00:00 to 2018-08-31 23:50:00\n",
      "Data columns (total 1 columns):\n",
      " #   Column      Non-Null Count  Dtype\n",
      "---  ------      --------------  -----\n",
      " 0   num_orders  26496 non-null  int64\n",
      "dtypes: int64(1)\n",
      "memory usage: 414.0 KB\n"
     ]
    }
   ],
   "source": [
    "df.info()"
   ]
  },
  {
   "cell_type": "markdown",
   "metadata": {},
   "source": [
    "No missing values."
   ]
  },
  {
   "cell_type": "code",
   "execution_count": 5,
   "metadata": {},
   "outputs": [
    {
     "data": {
      "text/plain": [
       "True"
      ]
     },
     "execution_count": 5,
     "metadata": {},
     "output_type": "execute_result"
    }
   ],
   "source": [
    "df.index.is_monotonic"
   ]
  },
  {
   "cell_type": "markdown",
   "metadata": {},
   "source": [
    "Data is already sorted correctly."
   ]
  },
  {
   "cell_type": "markdown",
   "metadata": {},
   "source": [
    "Resampling to 1 hour intervals."
   ]
  },
  {
   "cell_type": "code",
   "execution_count": 6,
   "metadata": {},
   "outputs": [
    {
     "data": {
      "text/html": [
       "<div>\n",
       "<style scoped>\n",
       "    .dataframe tbody tr th:only-of-type {\n",
       "        vertical-align: middle;\n",
       "    }\n",
       "\n",
       "    .dataframe tbody tr th {\n",
       "        vertical-align: top;\n",
       "    }\n",
       "\n",
       "    .dataframe thead th {\n",
       "        text-align: right;\n",
       "    }\n",
       "</style>\n",
       "<table border=\"1\" class=\"dataframe\">\n",
       "  <thead>\n",
       "    <tr style=\"text-align: right;\">\n",
       "      <th></th>\n",
       "      <th>num_orders</th>\n",
       "    </tr>\n",
       "    <tr>\n",
       "      <th>datetime</th>\n",
       "      <th></th>\n",
       "    </tr>\n",
       "  </thead>\n",
       "  <tbody>\n",
       "    <tr>\n",
       "      <th>2018-03-01 00:00:00</th>\n",
       "      <td>124</td>\n",
       "    </tr>\n",
       "    <tr>\n",
       "      <th>2018-03-01 01:00:00</th>\n",
       "      <td>85</td>\n",
       "    </tr>\n",
       "    <tr>\n",
       "      <th>2018-03-01 02:00:00</th>\n",
       "      <td>71</td>\n",
       "    </tr>\n",
       "    <tr>\n",
       "      <th>2018-03-01 03:00:00</th>\n",
       "      <td>66</td>\n",
       "    </tr>\n",
       "    <tr>\n",
       "      <th>2018-03-01 04:00:00</th>\n",
       "      <td>43</td>\n",
       "    </tr>\n",
       "  </tbody>\n",
       "</table>\n",
       "</div>"
      ],
      "text/plain": [
       "                     num_orders\n",
       "datetime                       \n",
       "2018-03-01 00:00:00         124\n",
       "2018-03-01 01:00:00          85\n",
       "2018-03-01 02:00:00          71\n",
       "2018-03-01 03:00:00          66\n",
       "2018-03-01 04:00:00          43"
      ]
     },
     "execution_count": 6,
     "metadata": {},
     "output_type": "execute_result"
    }
   ],
   "source": [
    "df = df.resample('1H').sum()\n",
    "df.head()"
   ]
  },
  {
   "cell_type": "markdown",
   "metadata": {},
   "source": [
    "## Analysis"
   ]
  },
  {
   "cell_type": "markdown",
   "metadata": {},
   "source": [
    "The data plotted."
   ]
  },
  {
   "cell_type": "code",
   "execution_count": 7,
   "metadata": {},
   "outputs": [
    {
     "data": {
      "image/png": "[encoded data removed]",
      "text/plain": [
       "<Figure size 576x432 with 1 Axes>"
      ]
     },
     "metadata": {
      "needs_background": "light"
     },
     "output_type": "display_data"
    }
   ],
   "source": [
    "plt.figure(figsize=(8,6))\n",
    "plt.title('Taxi Usage over Time')\n",
    "plt.xlabel('Time')\n",
    "plt.ylabel('Rides per Hour')\n",
    "plt.plot(df)\n",
    "plt.show()"
   ]
  },
  {
   "cell_type": "markdown",
   "metadata": {},
   "source": [
    "It's very noisy. We can use sseasonal decomposition to reveal trends and periodical changes."
   ]
  },
  {
   "cell_type": "code",
   "execution_count": 8,
   "metadata": {},
   "outputs": [],
   "source": [
    "decomp = seasonal_decompose(df)"
   ]
  },
  {
   "cell_type": "code",
   "execution_count": 25,
   "metadata": {},
   "outputs": [
    {
     "data": {
      "image/png": "[encoded data removed]",
      "text/plain": [
       "<Figure size 576x864 with 3 Axes>"
      ]
     },
     "metadata": {
      "needs_background": "light"
     },
     "output_type": "display_data"
    }
   ],
   "source": [
    "plt.figure(figsize=(8,12))\n",
    "plt.subplot(311)\n",
    "plt.title('Trend')\n",
    "plt.ylabel('Rides per Hour')\n",
    "plt.plot(decomp.trend, label='trend')\n",
    "plt.subplot(312)\n",
    "plt.title('Seasonality')\n",
    "plt.ylabel('Rides per Hour')\n",
    "plt.plot(decomp.seasonal, label='seasonal')\n",
    "plt.subplot(313)\n",
    "plt.title('Residuals')\n",
    "plt.ylabel('Rides per Hour')\n",
    "plt.plot(decomp.resid, label='residual')\n",
    "plt.show()"
   ]
  },
  {
   "cell_type": "markdown",
   "metadata": {},
   "source": [
    "We see a steady rise in demand over the 6 months of data collection. We cannot tell if it is a seasonal change or a real trend without multi-year data. Noise is mostly within +/- 50 rides per hour. The periodical change is hard to see, so we'll zoom in on a 72 hour time frame."
   ]
  },
  {
   "cell_type": "code",
   "execution_count": 10,
   "metadata": {},
   "outputs": [
    {
     "data": {
      "image/png": "[encoded data removed]",
      "text/plain": [
       "<Figure size 576x432 with 1 Axes>"
      ]
     },
     "metadata": {
      "needs_background": "light"
     },
     "output_type": "display_data"
    }
   ],
   "source": [
    "plt.figure(figsize=(8,6))\n",
    "plt.title('Taxi Usage Periodaical Changes')\n",
    "plt.xlabel('Time')\n",
    "plt.ylabel('Rides per Hour')\n",
    "plt.plot(decomp.seasonal[:72])\n",
    "plt.show()"
   ]
  },
  {
   "cell_type": "markdown",
   "metadata": {},
   "source": [
    "There's a 24 hour repeating pattern. The hour of the day can make up to 120 rides per hour difference."
   ]
  },
  {
   "cell_type": "markdown",
   "metadata": {},
   "source": [
    "## Training"
   ]
  },
  {
   "cell_type": "markdown",
   "metadata": {},
   "source": [
    "Create features."
   ]
  },
  {
   "cell_type": "code",
   "execution_count": 11,
   "metadata": {},
   "outputs": [],
   "source": [
    "def make_features(df, max_lag, rolling_mean_size, inplace=False):\n",
    "    ret = df.copy()\n",
    "    \n",
    "    ret['month'] = ret.index.month\n",
    "    ret['day'] = ret.index.day\n",
    "    ret['dayofweek'] = ret.index.dayofweek\n",
    "    ret['hour'] = ret.index.hour\n",
    "\n",
    "    for lag in range(1, max_lag + 1):\n",
    "        ret['lag_{}'.format(lag)] = ret.iloc[:, 0].shift(lag)\n",
    "\n",
    "    ret['rolling_mean'] = (\n",
    "        ret.iloc[:, 0].shift().rolling(rolling_mean_size).mean()\n",
    "    )\n",
    "    \n",
    "    ret = ret.dropna()\n",
    "    \n",
    "    if inplace:\n",
    "        df = ret\n",
    "    else:\n",
    "        return ret"
   ]
  },
  {
   "cell_type": "code",
   "execution_count": 12,
   "metadata": {},
   "outputs": [],
   "source": [
    "data = make_features(df, 10, 10)"
   ]
  },
  {
   "cell_type": "markdown",
   "metadata": {},
   "source": [
    "Split data to training, validation and testing sets in 8-1-1 ratio."
   ]
  },
  {
   "cell_type": "code",
   "execution_count": 13,
   "metadata": {},
   "outputs": [],
   "source": [
    "x = data.drop('num_orders', axis=1)\n",
    "y = data['num_orders']\n",
    "\n",
    "x_train, x_temp, y_train, y_temp = train_test_split(x, y, shuffle=False, test_size=0.2)\n",
    "x_valid, x_test, y_valid, y_test = train_test_split(x_temp, y_temp, shuffle=False, test_size=0.5)"
   ]
  },
  {
   "cell_type": "markdown",
   "metadata": {},
   "source": [
    "Create, train and get validation score of a linear regression."
   ]
  },
  {
   "cell_type": "code",
   "execution_count": 14,
   "metadata": {},
   "outputs": [
    {
     "name": "stdout",
     "output_type": "stream",
     "text": [
      "40.48809428266595\n"
     ]
    }
   ],
   "source": [
    "lr = LinearRegression()\n",
    "lr.fit(x_train, y_train)\n",
    "lr_score = mean_squared_error(y_valid, lr.predict(x_valid), squared=False)\n",
    "print(lr_score)"
   ]
  },
  {
   "cell_type": "markdown",
   "metadata": {},
   "source": [
    "Create, train and get validation score of a default decision tree."
   ]
  },
  {
   "cell_type": "code",
   "execution_count": 15,
   "metadata": {},
   "outputs": [
    {
     "name": "stdout",
     "output_type": "stream",
     "text": [
      "40.79668631779389\n"
     ]
    }
   ],
   "source": [
    "baseline_tree = DecisionTreeRegressor(random_state=123)\n",
    "baseline_tree.fit(x_train, y_train)\n",
    "baseline_tree_score = mean_squared_error(y_valid, baseline_tree.predict(x_valid), squared=False)\n",
    "baseline_tree_depth = baseline_tree.get_depth()\n",
    "print(baseline_tree_score)"
   ]
  },
  {
   "cell_type": "markdown",
   "metadata": {},
   "source": [
    "Optimize hyperparameters."
   ]
  },
  {
   "cell_type": "code",
   "execution_count": 16,
   "metadata": {},
   "outputs": [
    {
     "name": "stdout",
     "output_type": "stream",
     "text": [
      "{'max_depth': 6, 'min_samples_leaf': 5, 'score': 37.35054499555917}\n",
      "{'max_depth': 7, 'min_samples_leaf': 5, 'score': 35.02558919157829}\n",
      "{'max_depth': 7, 'min_samples_leaf': 6, 'score': 35.022649773676314}\n",
      "{'max_depth': 8, 'min_samples_leaf': 5, 'score': 34.62647637550386}\n",
      "{'max_depth': 8, 'min_samples_leaf': 8, 'score': 34.13575247210615}\n",
      "{'max_depth': 8, 'min_samples_leaf': 9, 'score': 34.11155061598633}\n",
      "{'max_depth': 8, 'min_samples_leaf': 10, 'score': 34.00582185142167}\n",
      "{'max_depth': 9, 'min_samples_leaf': 8, 'score': 33.594179361209676}\n",
      "{'max_depth': 9, 'min_samples_leaf': 10, 'score': 33.588539261474565}\n",
      "done.\n"
     ]
    }
   ],
   "source": [
    "best_tree_para = {'max_depth': baseline_tree_depth, 'min_samples_leaf': 1, 'score': baseline_tree_score}\n",
    "\n",
    "for d in range (5, 15, 1):\n",
    "    for msl in range(5, 15, 1):\n",
    "        tree = DecisionTreeRegressor(max_depth=d, min_samples_leaf=msl, random_state=123)\n",
    "        tree.fit(x_train, y_train)\n",
    "        score = mean_squared_error(y_valid, tree.predict(x_valid), squared=False)\n",
    "\n",
    "        if score < best_tree_para['score']:\n",
    "            best_tree_para = {'max_depth': d, 'min_samples_leaf': msl, 'score': score}\n",
    "            print(best_tree_para)\n",
    "\n",
    "print('done.')"
   ]
  },
  {
   "cell_type": "markdown",
   "metadata": {},
   "source": [
    "Create the final decision tree model."
   ]
  },
  {
   "cell_type": "code",
   "execution_count": 17,
   "metadata": {},
   "outputs": [],
   "source": [
    "best_tree = DecisionTreeRegressor(max_depth=best_tree_para['max_depth'], \n",
    "                                  min_samples_leaf=best_tree_para['min_samples_leaf'], random_state=123)"
   ]
  },
  {
   "cell_type": "markdown",
   "metadata": {},
   "source": [
    "Optimize the number of trees in a random forest, where each tree has the same hyperparameters as the above optimized decision tree."
   ]
  },
  {
   "cell_type": "code",
   "execution_count": 18,
   "metadata": {},
   "outputs": [
    {
     "name": "stdout",
     "output_type": "stream",
     "text": [
      "200 32.966348907348944\n",
      "400 32.87821310087535\n",
      "600 32.853486397136386\n",
      "800 32.82606510290016\n",
      "1000 32.86334864860287\n",
      "done.\n"
     ]
    }
   ],
   "source": [
    "best_forest_para = {'n_estimators': 0, 'score': 99999}\n",
    "\n",
    "for n in range(200, 1001, 200):\n",
    "    forest = RandomForestRegressor(n_estimators=n, max_depth=best_tree_para['max_depth'], \n",
    "                                   min_samples_leaf=best_tree_para['min_samples_leaf'], random_state=123)\n",
    "    forest.fit(x_train, y_train)\n",
    "    score = mean_squared_error(y_valid, forest.predict(x_valid), squared=False)\n",
    "    print(n, score)\n",
    "    if score < best_forest_para['score']:\n",
    "        best_forest_para = {'n_estimators': n, 'score': score}\n",
    "\n",
    "print('done.')"
   ]
  },
  {
   "cell_type": "markdown",
   "metadata": {},
   "source": [
    "Create the final random forest model."
   ]
  },
  {
   "cell_type": "code",
   "execution_count": 19,
   "metadata": {},
   "outputs": [],
   "source": [
    "best_forest = RandomForestRegressor(n_estimators=best_forest_para['n_estimators'], \n",
    "                                    max_depth=best_tree_para['max_depth'], \n",
    "                                    min_samples_leaf=best_tree_para['min_samples_leaf'], random_state=123)"
   ]
  },
  {
   "cell_type": "markdown",
   "metadata": {},
   "source": [
    "## Testing"
   ]
  },
  {
   "cell_type": "markdown",
   "metadata": {},
   "source": [
    "Combine train and validation sets for final training."
   ]
  },
  {
   "cell_type": "code",
   "execution_count": 20,
   "metadata": {},
   "outputs": [],
   "source": [
    "x_train_final = pd.concat([x_train, x_valid])\n",
    "y_train_final = pd.concat([y_train, y_valid])"
   ]
  },
  {
   "cell_type": "markdown",
   "metadata": {},
   "source": [
    "Final training of selected models."
   ]
  },
  {
   "cell_type": "code",
   "execution_count": 21,
   "metadata": {},
   "outputs": [],
   "source": [
    "lr.fit(x_train_final, y_train_final)\n",
    "lr_score = mean_squared_error(y_test, lr.predict(x_test), squared=False)"
   ]
  },
  {
   "cell_type": "code",
   "execution_count": 22,
   "metadata": {},
   "outputs": [],
   "source": [
    "best_tree.fit(x_train_final, y_train_final)\n",
    "best_tree_score = mean_squared_error(y_test, best_tree.predict(x_test), squared=False)"
   ]
  },
  {
   "cell_type": "code",
   "execution_count": 23,
   "metadata": {},
   "outputs": [],
   "source": [
    "best_forest.fit(x_train_final, y_train_final)\n",
    "best_forest_score = mean_squared_error(y_test, best_forest.predict(x_test), squared=False)"
   ]
  },
  {
   "cell_type": "markdown",
   "metadata": {},
   "source": [
    "Results."
   ]
  },
  {
   "cell_type": "code",
   "execution_count": 24,
   "metadata": {},
   "outputs": [
    {
     "data": {
      "image/png": "[encoded data removed]",
      "text/plain": [
       "<Figure size 576x432 with 1 Axes>"
      ]
     },
     "metadata": {
      "needs_background": "light"
     },
     "output_type": "display_data"
    }
   ],
   "source": [
    "models = ['Linear Regression', 'Decision Tree', 'Random Forest']\n",
    "scores = [lr_score, best_tree_score, best_forest_score]\n",
    "colors = ['orange', 'blue', 'green']\n",
    "\n",
    "plt.figure(figsize=(8, 6))\n",
    "plt.title('Test Scores')\n",
    "plt.xlabel('Model')\n",
    "plt.ylabel('RMSE')\n",
    "plt.bar(models, scores, color=colors)\n",
    "for model, score in zip(models, scores):\n",
    "    plt.text(model, score+1, round(score, 2), ha='center', size=11)\n",
    "plt.axhline(48, color='r', ls=':', lw=2)\n",
    "plt.show()"
   ]
  },
  {
   "cell_type": "markdown",
   "metadata": {},
   "source": [
    "The tuned random forest model scored lower than 48 and thus passed the test. Not much luck for the other two. The big difference between test scores (46.7-53.5) and validation scores (32.8-40.5) can be explained by how the data becomes more noisy at later times and an apparent acceleration in growth of demand."
   ]
  }
 ],
 "metadata": {
  "ExecuteTimeLog": [
   {
    "duration": 1335,
    "start_time": "2022-06-05T15:16:27.167Z"
   },
   {
    "duration": 3,
    "start_time": "2022-06-05T15:16:35.850Z"
   },
   {
    "duration": 131,
    "start_time": "2022-06-05T15:17:33.543Z"
   },
   {
    "duration": 11,
    "start_time": "2022-06-05T15:17:42.745Z"
   },
   {
    "duration": 58,
    "start_time": "2022-06-05T15:18:38.364Z"
   },
   {
    "duration": 7,
    "start_time": "2022-06-05T15:18:38.712Z"
   },
   {
    "duration": 12,
    "start_time": "2022-06-05T15:19:41.873Z"
   },
   {
    "duration": 412,
    "start_time": "2022-06-05T15:19:58.787Z"
   },
   {
    "duration": 14,
    "start_time": "2022-06-05T15:21:08.986Z"
   },
   {
    "duration": 11,
    "start_time": "2022-06-05T15:21:36.464Z"
   },
   {
    "duration": 10,
    "start_time": "2022-06-05T15:22:30.505Z"
   },
   {
    "duration": 10,
    "start_time": "2022-06-05T15:22:39.793Z"
   },
   {
    "duration": 9,
    "start_time": "2022-06-05T15:24:19.047Z"
   },
   {
    "duration": 3,
    "start_time": "2022-06-05T15:24:43.224Z"
   },
   {
    "duration": 4,
    "start_time": "2022-06-05T15:25:03.359Z"
   },
   {
    "duration": 3,
    "start_time": "2022-06-05T15:25:11.789Z"
   },
   {
    "duration": 10,
    "start_time": "2022-06-05T15:25:28.874Z"
   },
   {
    "duration": 21,
    "start_time": "2022-06-05T15:26:20.195Z"
   },
   {
    "duration": 159,
    "start_time": "2022-06-05T15:26:35.645Z"
   },
   {
    "duration": 66,
    "start_time": "2022-06-05T15:28:28.888Z"
   },
   {
    "duration": 18,
    "start_time": "2022-06-05T15:28:58.166Z"
   },
   {
    "duration": 470,
    "start_time": "2022-06-05T15:32:33.086Z"
   },
   {
    "duration": 420,
    "start_time": "2022-06-05T15:34:32.061Z"
   },
   {
    "duration": 4,
    "start_time": "2022-06-05T15:45:54.349Z"
   },
   {
    "duration": 5,
    "start_time": "2022-06-05T16:02:27.009Z"
   },
   {
    "duration": 5,
    "start_time": "2022-06-05T16:03:05.617Z"
   },
   {
    "duration": 59,
    "start_time": "2022-06-05T16:03:53.522Z"
   },
   {
    "duration": 17,
    "start_time": "2022-06-05T16:04:06.951Z"
   },
   {
    "duration": 27,
    "start_time": "2022-06-05T16:29:36.200Z"
   },
   {
    "duration": 25,
    "start_time": "2022-06-05T16:35:05.474Z"
   },
   {
    "duration": 4,
    "start_time": "2022-06-05T16:35:36.392Z"
   },
   {
    "duration": 20,
    "start_time": "2022-06-05T16:35:42.854Z"
   },
   {
    "duration": 7,
    "start_time": "2022-06-05T16:36:22.827Z"
   },
   {
    "duration": 9,
    "start_time": "2022-06-05T16:38:51.274Z"
   },
   {
    "duration": 22,
    "start_time": "2022-06-05T16:39:07.633Z"
   },
   {
    "duration": 5,
    "start_time": "2022-06-05T16:39:46.455Z"
   },
   {
    "duration": 8,
    "start_time": "2022-06-05T16:40:03.432Z"
   },
   {
    "duration": 4,
    "start_time": "2022-06-05T16:40:04.557Z"
   },
   {
    "duration": 11,
    "start_time": "2022-06-05T16:40:08.831Z"
   },
   {
    "duration": 10,
    "start_time": "2022-06-05T16:40:21.593Z"
   },
   {
    "duration": 41,
    "start_time": "2022-06-05T16:50:10.441Z"
   },
   {
    "duration": 37,
    "start_time": "2022-06-05T16:56:29.818Z"
   },
   {
    "duration": 543,
    "start_time": "2022-06-05T16:56:34.712Z"
   },
   {
    "duration": 4,
    "start_time": "2022-06-05T16:57:10.187Z"
   },
   {
    "duration": 1809,
    "start_time": "2022-06-05T16:58:53.831Z"
   },
   {
    "duration": 1675,
    "start_time": "2022-06-05T16:59:05.963Z"
   },
   {
    "duration": 2153,
    "start_time": "2022-06-05T16:59:51.305Z"
   },
   {
    "duration": 10,
    "start_time": "2022-06-05T17:01:53.178Z"
   },
   {
    "duration": 2192,
    "start_time": "2022-06-05T17:01:55.635Z"
   },
   {
    "duration": 2152,
    "start_time": "2022-06-05T17:02:10.871Z"
   },
   {
    "duration": 3,
    "start_time": "2022-06-05T17:02:13.024Z"
   },
   {
    "duration": 5747,
    "start_time": "2022-06-05T17:07:03.719Z"
   },
   {
    "duration": 71553,
    "start_time": "2022-06-05T17:07:39.448Z"
   },
   {
    "duration": 10,
    "start_time": "2022-06-05T17:38:54.415Z"
   },
   {
    "duration": 37257,
    "start_time": "2022-06-05T17:40:02.356Z"
   },
   {
    "duration": 68928,
    "start_time": "2022-06-05T17:41:48.773Z"
   },
   {
    "duration": 48,
    "start_time": "2022-06-05T17:43:59.671Z"
   },
   {
    "duration": 2107,
    "start_time": "2022-06-05T17:44:02.979Z"
   },
   {
    "duration": 3,
    "start_time": "2022-06-05T17:44:18.051Z"
   },
   {
    "duration": 69151,
    "start_time": "2022-06-05T17:44:20.808Z"
   },
   {
    "duration": 37088,
    "start_time": "2022-06-05T17:46:01.916Z"
   },
   {
    "duration": 3,
    "start_time": "2022-06-05T17:46:39.006Z"
   },
   {
    "duration": 4,
    "start_time": "2022-06-05T17:47:05.092Z"
   },
   {
    "duration": 16,
    "start_time": "2022-06-05T17:47:15.801Z"
   },
   {
    "duration": 16,
    "start_time": "2022-06-05T17:47:36.463Z"
   },
   {
    "duration": 4,
    "start_time": "2022-06-05T17:48:05.892Z"
   },
   {
    "duration": 22,
    "start_time": "2022-06-05T17:48:14.747Z"
   },
   {
    "duration": 17,
    "start_time": "2022-06-05T17:48:46.812Z"
   },
   {
    "duration": 8,
    "start_time": "2022-06-05T17:50:04.782Z"
   },
   {
    "duration": 26,
    "start_time": "2022-06-05T17:50:20.755Z"
   },
   {
    "duration": 16,
    "start_time": "2022-06-05T17:50:34.448Z"
   },
   {
    "duration": 17,
    "start_time": "2022-06-05T17:50:49.650Z"
   },
   {
    "duration": 4,
    "start_time": "2022-06-05T17:51:30.489Z"
   },
   {
    "duration": 16,
    "start_time": "2022-06-05T17:51:31.220Z"
   },
   {
    "duration": 16,
    "start_time": "2022-06-05T17:51:39.996Z"
   },
   {
    "duration": 10,
    "start_time": "2022-06-05T17:52:50.299Z"
   },
   {
    "duration": 6,
    "start_time": "2022-06-05T17:53:05.150Z"
   },
   {
    "duration": 10,
    "start_time": "2022-06-05T17:54:17.805Z"
   },
   {
    "duration": 8,
    "start_time": "2022-06-05T17:55:04.864Z"
   },
   {
    "duration": 28,
    "start_time": "2022-06-05T17:55:26.749Z"
   },
   {
    "duration": 11375,
    "start_time": "2022-06-05T17:55:53.416Z"
   },
   {
    "duration": 96,
    "start_time": "2022-06-05T17:57:43.246Z"
   },
   {
    "duration": 212,
    "start_time": "2022-06-05T17:59:07.800Z"
   },
   {
    "duration": 137,
    "start_time": "2022-06-05T18:01:15.444Z"
   },
   {
    "duration": 191,
    "start_time": "2022-06-05T18:01:22.793Z"
   },
   {
    "duration": 181,
    "start_time": "2022-06-05T18:02:25.907Z"
   },
   {
    "duration": 178,
    "start_time": "2022-06-05T18:03:00.318Z"
   },
   {
    "duration": 226,
    "start_time": "2022-06-05T18:04:12.241Z"
   },
   {
    "duration": 282,
    "start_time": "2022-06-05T18:04:24.703Z"
   },
   {
    "duration": 202,
    "start_time": "2022-06-05T18:07:14.277Z"
   },
   {
    "duration": 171,
    "start_time": "2022-06-05T18:07:22.713Z"
   },
   {
    "duration": 178,
    "start_time": "2022-06-05T18:09:43.215Z"
   },
   {
    "duration": 179,
    "start_time": "2022-06-05T18:09:57.320Z"
   },
   {
    "duration": 264,
    "start_time": "2022-06-05T18:10:02.543Z"
   },
   {
    "duration": 265,
    "start_time": "2022-06-05T18:10:22.554Z"
   },
   {
    "duration": 183,
    "start_time": "2022-06-05T18:10:45.211Z"
   },
   {
    "duration": 4,
    "start_time": "2022-06-05T18:22:26.749Z"
   },
   {
    "duration": 166,
    "start_time": "2022-06-05T18:24:19.458Z"
   },
   {
    "duration": 142,
    "start_time": "2022-06-05T18:26:48.958Z"
   },
   {
    "duration": 178,
    "start_time": "2022-06-05T18:28:25.891Z"
   },
   {
    "duration": 154,
    "start_time": "2022-06-05T18:38:00.002Z"
   },
   {
    "duration": 150,
    "start_time": "2022-06-05T18:38:34.455Z"
   },
   {
    "duration": 1217,
    "start_time": "2022-06-05T18:43:26.246Z"
   },
   {
    "duration": 47,
    "start_time": "2022-06-05T18:43:27.465Z"
   },
   {
    "duration": 10,
    "start_time": "2022-06-05T18:43:27.514Z"
   },
   {
    "duration": 11,
    "start_time": "2022-06-05T18:43:27.525Z"
   },
   {
    "duration": 36,
    "start_time": "2022-06-05T18:43:27.538Z"
   },
   {
    "duration": 21,
    "start_time": "2022-06-05T18:43:27.575Z"
   },
   {
    "duration": 267,
    "start_time": "2022-06-05T18:43:27.597Z"
   },
   {
    "duration": 11,
    "start_time": "2022-06-05T18:43:27.866Z"
   },
   {
    "duration": 454,
    "start_time": "2022-06-05T18:43:27.878Z"
   },
   {
    "duration": 154,
    "start_time": "2022-06-05T18:43:28.333Z"
   },
   {
    "duration": 4,
    "start_time": "2022-06-05T18:43:28.489Z"
   },
   {
    "duration": 43,
    "start_time": "2022-06-05T18:43:28.494Z"
   },
   {
    "duration": 8,
    "start_time": "2022-06-05T18:43:28.538Z"
   },
   {
    "duration": 31,
    "start_time": "2022-06-05T18:43:28.548Z"
   },
   {
    "duration": 184,
    "start_time": "2022-06-05T18:43:28.581Z"
   },
   {
    "duration": 2150,
    "start_time": "2022-06-05T18:43:28.767Z"
   },
   {
    "duration": 3,
    "start_time": "2022-06-05T18:43:30.919Z"
   },
   {
    "duration": 38643,
    "start_time": "2022-06-05T18:43:30.923Z"
   },
   {
    "duration": 3,
    "start_time": "2022-06-05T18:44:09.568Z"
   },
   {
    "duration": 9,
    "start_time": "2022-06-05T18:44:09.572Z"
   },
   {
    "duration": 10,
    "start_time": "2022-06-05T18:44:09.582Z"
   },
   {
    "duration": 80,
    "start_time": "2022-06-05T18:44:09.594Z"
   },
   {
    "duration": 11975,
    "start_time": "2022-06-05T18:44:09.675Z"
   },
   {
    "duration": 243,
    "start_time": "2022-06-05T18:44:21.651Z"
   },
   {
    "duration": 417,
    "start_time": "2022-06-05T18:47:12.133Z"
   }
  ],
  "kernelspec": {
   "display_name": "Python 3",
   "language": "python",
   "name": "python3"
  },
  "language_info": {
   "codemirror_mode": {
    "name": "ipython",
    "version": 3
   },
   "file_extension": ".py",
   "mimetype": "text/x-python",
   "name": "python",
   "nbconvert_exporter": "python",
   "pygments_lexer": "ipython3",
   "version": "3.8.8"
  },
  "toc": {
   "base_numbering": 1,
   "nav_menu": {},
   "number_sections": true,
   "sideBar": true,
   "skip_h1_title": true,
   "title_cell": "Table of Contents",
   "title_sidebar": "Contents",
   "toc_cell": false,
   "toc_position": {},
   "toc_section_display": true,
   "toc_window_display": false
  }
 },
 "nbformat": 4,
 "nbformat_minor": 2
}
