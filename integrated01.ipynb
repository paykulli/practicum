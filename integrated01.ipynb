{
 "cells": [
  {
   "cell_type": "markdown",
   "metadata": {},
   "source": [
    "# Integrated Project I\n",
    "We work for the online store Ice, which sells video games all over the world. User and expert reviews, genres, platforms (e.g. Xbox or PlayStation), and historical data on game sales are available from open sources. We need to identify patterns that determine whether a game succeeds or not. This will allow us to spot potential big winners and plan advertising campaigns.\n"
   ]
  },
  {
   "cell_type": "markdown",
   "metadata": {},
   "source": [
    "## Data\n",
    "Column descriptions:\n",
    "- Name\n",
    "- Platform\n",
    "- Year_of_Release\n",
    "- Genre\n",
    "- NA_sales (North American sales in USD million)\n",
    "- EU_sales (sales in Europe in USD million)\n",
    "- JP_sales (sales in Japan in USD million)\n",
    "- Other_sales (sales in other countries in USD million)\n",
    "- Critic_Score (maximum of 100)\n",
    "- User_Score (maximum of 10)\n",
    "- Rating (ESRB)\n",
    "\n",
    "Data for 2016 may be incomplete."
   ]
  },
  {
   "cell_type": "code",
   "execution_count": 1,
   "metadata": {
    "scrolled": true
   },
   "outputs": [],
   "source": [
    "import pandas as pd\n",
    "import numpy as np\n",
    "import scipy.stats as st\n",
    "from matplotlib import pyplot as plt "
   ]
  },
  {
   "cell_type": "code",
   "execution_count": 2,
   "metadata": {
    "scrolled": true
   },
   "outputs": [],
   "source": [
    "df = pd.read_csv('/datasets/games.csv')"
   ]
  },
  {
   "cell_type": "markdown",
   "metadata": {},
   "source": [
    "First we'll look at a random sample from the dataset."
   ]
  },
  {
   "cell_type": "code",
   "execution_count": 3,
   "metadata": {
    "scrolled": false
   },
   "outputs": [
    {
     "data": {
      "text/html": [
       "<div>\n",
       "<style scoped>\n",
       "    .dataframe tbody tr th:only-of-type {\n",
       "        vertical-align: middle;\n",
       "    }\n",
       "\n",
       "    .dataframe tbody tr th {\n",
       "        vertical-align: top;\n",
       "    }\n",
       "\n",
       "    .dataframe thead th {\n",
       "        text-align: right;\n",
       "    }\n",
       "</style>\n",
       "<table border=\"1\" class=\"dataframe\">\n",
       "  <thead>\n",
       "    <tr style=\"text-align: right;\">\n",
       "      <th></th>\n",
       "      <th>Name</th>\n",
       "      <th>Platform</th>\n",
       "      <th>Year_of_Release</th>\n",
       "      <th>Genre</th>\n",
       "      <th>NA_sales</th>\n",
       "      <th>EU_sales</th>\n",
       "      <th>JP_sales</th>\n",
       "      <th>Other_sales</th>\n",
       "      <th>Critic_Score</th>\n",
       "      <th>User_Score</th>\n",
       "      <th>Rating</th>\n",
       "    </tr>\n",
       "  </thead>\n",
       "  <tbody>\n",
       "    <tr>\n",
       "      <td>16174</td>\n",
       "      <td>50 Classic Games</td>\n",
       "      <td>3DS</td>\n",
       "      <td>2012.0</td>\n",
       "      <td>Misc</td>\n",
       "      <td>0.00</td>\n",
       "      <td>0.01</td>\n",
       "      <td>0.00</td>\n",
       "      <td>0.00</td>\n",
       "      <td>NaN</td>\n",
       "      <td>NaN</td>\n",
       "      <td>NaN</td>\n",
       "    </tr>\n",
       "    <tr>\n",
       "      <td>9135</td>\n",
       "      <td>Cities: Skylines</td>\n",
       "      <td>PC</td>\n",
       "      <td>2015.0</td>\n",
       "      <td>Simulation</td>\n",
       "      <td>0.00</td>\n",
       "      <td>0.13</td>\n",
       "      <td>0.00</td>\n",
       "      <td>0.01</td>\n",
       "      <td>85.0</td>\n",
       "      <td>8.9</td>\n",
       "      <td>E</td>\n",
       "    </tr>\n",
       "    <tr>\n",
       "      <td>5043</td>\n",
       "      <td>Naruto Shippuden: Ultimate Ninja Heroes 3</td>\n",
       "      <td>PSP</td>\n",
       "      <td>2009.0</td>\n",
       "      <td>Fighting</td>\n",
       "      <td>0.13</td>\n",
       "      <td>0.04</td>\n",
       "      <td>0.19</td>\n",
       "      <td>0.03</td>\n",
       "      <td>61.0</td>\n",
       "      <td>6.6</td>\n",
       "      <td>T</td>\n",
       "    </tr>\n",
       "    <tr>\n",
       "      <td>13170</td>\n",
       "      <td>Detective Conan: Prelude from the Past</td>\n",
       "      <td>DS</td>\n",
       "      <td>2012.0</td>\n",
       "      <td>Action</td>\n",
       "      <td>0.00</td>\n",
       "      <td>0.00</td>\n",
       "      <td>0.05</td>\n",
       "      <td>0.00</td>\n",
       "      <td>NaN</td>\n",
       "      <td>NaN</td>\n",
       "      <td>NaN</td>\n",
       "    </tr>\n",
       "    <tr>\n",
       "      <td>6010</td>\n",
       "      <td>Marvel Super Hero Squad</td>\n",
       "      <td>PS2</td>\n",
       "      <td>2009.0</td>\n",
       "      <td>Fighting</td>\n",
       "      <td>0.14</td>\n",
       "      <td>0.11</td>\n",
       "      <td>0.00</td>\n",
       "      <td>0.04</td>\n",
       "      <td>NaN</td>\n",
       "      <td>tbd</td>\n",
       "      <td>E10+</td>\n",
       "    </tr>\n",
       "    <tr>\n",
       "      <td>15771</td>\n",
       "      <td>Spirits &amp; Spells</td>\n",
       "      <td>GC</td>\n",
       "      <td>2003.0</td>\n",
       "      <td>Platform</td>\n",
       "      <td>0.01</td>\n",
       "      <td>0.00</td>\n",
       "      <td>0.00</td>\n",
       "      <td>0.00</td>\n",
       "      <td>NaN</td>\n",
       "      <td>NaN</td>\n",
       "      <td>NaN</td>\n",
       "    </tr>\n",
       "    <tr>\n",
       "      <td>13468</td>\n",
       "      <td>Wolfenstein</td>\n",
       "      <td>PC</td>\n",
       "      <td>2009.0</td>\n",
       "      <td>Shooter</td>\n",
       "      <td>0.01</td>\n",
       "      <td>0.03</td>\n",
       "      <td>0.00</td>\n",
       "      <td>0.01</td>\n",
       "      <td>74.0</td>\n",
       "      <td>7.3</td>\n",
       "      <td>M</td>\n",
       "    </tr>\n",
       "    <tr>\n",
       "      <td>6504</td>\n",
       "      <td>NCAA March Madness 08</td>\n",
       "      <td>PS2</td>\n",
       "      <td>2007.0</td>\n",
       "      <td>Sports</td>\n",
       "      <td>0.13</td>\n",
       "      <td>0.10</td>\n",
       "      <td>0.00</td>\n",
       "      <td>0.03</td>\n",
       "      <td>NaN</td>\n",
       "      <td>5</td>\n",
       "      <td>E</td>\n",
       "    </tr>\n",
       "    <tr>\n",
       "      <td>13470</td>\n",
       "      <td>Nazo Waku Yakata: Oto no Ma ni Ma ni</td>\n",
       "      <td>3DS</td>\n",
       "      <td>2011.0</td>\n",
       "      <td>Misc</td>\n",
       "      <td>0.00</td>\n",
       "      <td>0.00</td>\n",
       "      <td>0.05</td>\n",
       "      <td>0.00</td>\n",
       "      <td>NaN</td>\n",
       "      <td>NaN</td>\n",
       "      <td>NaN</td>\n",
       "    </tr>\n",
       "    <tr>\n",
       "      <td>6626</td>\n",
       "      <td>NHL 08</td>\n",
       "      <td>PS3</td>\n",
       "      <td>2007.0</td>\n",
       "      <td>Action</td>\n",
       "      <td>0.16</td>\n",
       "      <td>0.06</td>\n",
       "      <td>0.00</td>\n",
       "      <td>0.03</td>\n",
       "      <td>86.0</td>\n",
       "      <td>6.9</td>\n",
       "      <td>E10+</td>\n",
       "    </tr>\n",
       "  </tbody>\n",
       "</table>\n",
       "</div>"
      ],
      "text/plain": [
       "                                            Name Platform  Year_of_Release  \\\n",
       "16174                           50 Classic Games      3DS           2012.0   \n",
       "9135                            Cities: Skylines       PC           2015.0   \n",
       "5043   Naruto Shippuden: Ultimate Ninja Heroes 3      PSP           2009.0   \n",
       "13170     Detective Conan: Prelude from the Past       DS           2012.0   \n",
       "6010                     Marvel Super Hero Squad      PS2           2009.0   \n",
       "15771                           Spirits & Spells       GC           2003.0   \n",
       "13468                                Wolfenstein       PC           2009.0   \n",
       "6504                       NCAA March Madness 08      PS2           2007.0   \n",
       "13470       Nazo Waku Yakata: Oto no Ma ni Ma ni      3DS           2011.0   \n",
       "6626                                      NHL 08      PS3           2007.0   \n",
       "\n",
       "            Genre  NA_sales  EU_sales  JP_sales  Other_sales  Critic_Score  \\\n",
       "16174        Misc      0.00      0.01      0.00         0.00           NaN   \n",
       "9135   Simulation      0.00      0.13      0.00         0.01          85.0   \n",
       "5043     Fighting      0.13      0.04      0.19         0.03          61.0   \n",
       "13170      Action      0.00      0.00      0.05         0.00           NaN   \n",
       "6010     Fighting      0.14      0.11      0.00         0.04           NaN   \n",
       "15771    Platform      0.01      0.00      0.00         0.00           NaN   \n",
       "13468     Shooter      0.01      0.03      0.00         0.01          74.0   \n",
       "6504       Sports      0.13      0.10      0.00         0.03           NaN   \n",
       "13470        Misc      0.00      0.00      0.05         0.00           NaN   \n",
       "6626       Action      0.16      0.06      0.00         0.03          86.0   \n",
       "\n",
       "      User_Score Rating  \n",
       "16174        NaN    NaN  \n",
       "9135         8.9      E  \n",
       "5043         6.6      T  \n",
       "13170        NaN    NaN  \n",
       "6010         tbd   E10+  \n",
       "15771        NaN    NaN  \n",
       "13468        7.3      M  \n",
       "6504           5      E  \n",
       "13470        NaN    NaN  \n",
       "6626         6.9   E10+  "
      ]
     },
     "execution_count": 3,
     "metadata": {},
     "output_type": "execute_result"
    }
   ],
   "source": [
    "df.sample(10)"
   ]
  },
  {
   "cell_type": "markdown",
   "metadata": {},
   "source": [
    "Next, basic information."
   ]
  },
  {
   "cell_type": "code",
   "execution_count": 4,
   "metadata": {
    "scrolled": true
   },
   "outputs": [
    {
     "name": "stdout",
     "output_type": "stream",
     "text": [
      "<class 'pandas.core.frame.DataFrame'>\n",
      "RangeIndex: 16715 entries, 0 to 16714\n",
      "Data columns (total 11 columns):\n",
      "Name               16713 non-null object\n",
      "Platform           16715 non-null object\n",
      "Year_of_Release    16446 non-null float64\n",
      "Genre              16713 non-null object\n",
      "NA_sales           16715 non-null float64\n",
      "EU_sales           16715 non-null float64\n",
      "JP_sales           16715 non-null float64\n",
      "Other_sales        16715 non-null float64\n",
      "Critic_Score       8137 non-null float64\n",
      "User_Score         10014 non-null object\n",
      "Rating             9949 non-null object\n",
      "dtypes: float64(6), object(5)\n",
      "memory usage: 1.4+ MB\n"
     ]
    }
   ],
   "source": [
    "df.info()"
   ]
  },
  {
   "cell_type": "markdown",
   "metadata": {},
   "source": [
    "We can see some datatype mismatches and missing values. This will be taken care of in the next section."
   ]
  },
  {
   "cell_type": "code",
   "execution_count": 5,
   "metadata": {
    "scrolled": true
   },
   "outputs": [
    {
     "data": {
      "text/html": [
       "<div>\n",
       "<style scoped>\n",
       "    .dataframe tbody tr th:only-of-type {\n",
       "        vertical-align: middle;\n",
       "    }\n",
       "\n",
       "    .dataframe tbody tr th {\n",
       "        vertical-align: top;\n",
       "    }\n",
       "\n",
       "    .dataframe thead th {\n",
       "        text-align: right;\n",
       "    }\n",
       "</style>\n",
       "<table border=\"1\" class=\"dataframe\">\n",
       "  <thead>\n",
       "    <tr style=\"text-align: right;\">\n",
       "      <th></th>\n",
       "      <th>count</th>\n",
       "      <th>mean</th>\n",
       "      <th>std</th>\n",
       "      <th>min</th>\n",
       "      <th>25%</th>\n",
       "      <th>50%</th>\n",
       "      <th>75%</th>\n",
       "      <th>max</th>\n",
       "    </tr>\n",
       "  </thead>\n",
       "  <tbody>\n",
       "    <tr>\n",
       "      <td>Year_of_Release</td>\n",
       "      <td>16446.0</td>\n",
       "      <td>2006.484616</td>\n",
       "      <td>5.877050</td>\n",
       "      <td>1980.0</td>\n",
       "      <td>2003.0</td>\n",
       "      <td>2007.00</td>\n",
       "      <td>2010.00</td>\n",
       "      <td>2016.00</td>\n",
       "    </tr>\n",
       "    <tr>\n",
       "      <td>NA_sales</td>\n",
       "      <td>16715.0</td>\n",
       "      <td>0.263377</td>\n",
       "      <td>0.813604</td>\n",
       "      <td>0.0</td>\n",
       "      <td>0.0</td>\n",
       "      <td>0.08</td>\n",
       "      <td>0.24</td>\n",
       "      <td>41.36</td>\n",
       "    </tr>\n",
       "    <tr>\n",
       "      <td>EU_sales</td>\n",
       "      <td>16715.0</td>\n",
       "      <td>0.145060</td>\n",
       "      <td>0.503339</td>\n",
       "      <td>0.0</td>\n",
       "      <td>0.0</td>\n",
       "      <td>0.02</td>\n",
       "      <td>0.11</td>\n",
       "      <td>28.96</td>\n",
       "    </tr>\n",
       "    <tr>\n",
       "      <td>JP_sales</td>\n",
       "      <td>16715.0</td>\n",
       "      <td>0.077617</td>\n",
       "      <td>0.308853</td>\n",
       "      <td>0.0</td>\n",
       "      <td>0.0</td>\n",
       "      <td>0.00</td>\n",
       "      <td>0.04</td>\n",
       "      <td>10.22</td>\n",
       "    </tr>\n",
       "    <tr>\n",
       "      <td>Other_sales</td>\n",
       "      <td>16715.0</td>\n",
       "      <td>0.047342</td>\n",
       "      <td>0.186731</td>\n",
       "      <td>0.0</td>\n",
       "      <td>0.0</td>\n",
       "      <td>0.01</td>\n",
       "      <td>0.03</td>\n",
       "      <td>10.57</td>\n",
       "    </tr>\n",
       "    <tr>\n",
       "      <td>Critic_Score</td>\n",
       "      <td>8137.0</td>\n",
       "      <td>68.967679</td>\n",
       "      <td>13.938165</td>\n",
       "      <td>13.0</td>\n",
       "      <td>60.0</td>\n",
       "      <td>71.00</td>\n",
       "      <td>79.00</td>\n",
       "      <td>98.00</td>\n",
       "    </tr>\n",
       "  </tbody>\n",
       "</table>\n",
       "</div>"
      ],
      "text/plain": [
       "                   count         mean        std     min     25%      50%  \\\n",
       "Year_of_Release  16446.0  2006.484616   5.877050  1980.0  2003.0  2007.00   \n",
       "NA_sales         16715.0     0.263377   0.813604     0.0     0.0     0.08   \n",
       "EU_sales         16715.0     0.145060   0.503339     0.0     0.0     0.02   \n",
       "JP_sales         16715.0     0.077617   0.308853     0.0     0.0     0.00   \n",
       "Other_sales      16715.0     0.047342   0.186731     0.0     0.0     0.01   \n",
       "Critic_Score      8137.0    68.967679  13.938165    13.0    60.0    71.00   \n",
       "\n",
       "                     75%      max  \n",
       "Year_of_Release  2010.00  2016.00  \n",
       "NA_sales            0.24    41.36  \n",
       "EU_sales            0.11    28.96  \n",
       "JP_sales            0.04    10.22  \n",
       "Other_sales         0.03    10.57  \n",
       "Critic_Score       79.00    98.00  "
      ]
     },
     "execution_count": 5,
     "metadata": {},
     "output_type": "execute_result"
    }
   ],
   "source": [
    "df.describe().T"
   ]
  },
  {
   "cell_type": "code",
   "execution_count": 6,
   "metadata": {},
   "outputs": [
    {
     "data": {
      "text/html": [
       "<div>\n",
       "<style scoped>\n",
       "    .dataframe tbody tr th:only-of-type {\n",
       "        vertical-align: middle;\n",
       "    }\n",
       "\n",
       "    .dataframe tbody tr th {\n",
       "        vertical-align: top;\n",
       "    }\n",
       "\n",
       "    .dataframe thead th {\n",
       "        text-align: right;\n",
       "    }\n",
       "</style>\n",
       "<table border=\"1\" class=\"dataframe\">\n",
       "  <thead>\n",
       "    <tr style=\"text-align: right;\">\n",
       "      <th></th>\n",
       "      <th>count</th>\n",
       "      <th>unique</th>\n",
       "      <th>top</th>\n",
       "      <th>freq</th>\n",
       "    </tr>\n",
       "  </thead>\n",
       "  <tbody>\n",
       "    <tr>\n",
       "      <td>Name</td>\n",
       "      <td>16713</td>\n",
       "      <td>11559</td>\n",
       "      <td>Need for Speed: Most Wanted</td>\n",
       "      <td>12</td>\n",
       "    </tr>\n",
       "    <tr>\n",
       "      <td>Platform</td>\n",
       "      <td>16715</td>\n",
       "      <td>31</td>\n",
       "      <td>PS2</td>\n",
       "      <td>2161</td>\n",
       "    </tr>\n",
       "    <tr>\n",
       "      <td>Genre</td>\n",
       "      <td>16713</td>\n",
       "      <td>12</td>\n",
       "      <td>Action</td>\n",
       "      <td>3369</td>\n",
       "    </tr>\n",
       "    <tr>\n",
       "      <td>User_Score</td>\n",
       "      <td>10014</td>\n",
       "      <td>96</td>\n",
       "      <td>tbd</td>\n",
       "      <td>2424</td>\n",
       "    </tr>\n",
       "    <tr>\n",
       "      <td>Rating</td>\n",
       "      <td>9949</td>\n",
       "      <td>8</td>\n",
       "      <td>E</td>\n",
       "      <td>3990</td>\n",
       "    </tr>\n",
       "  </tbody>\n",
       "</table>\n",
       "</div>"
      ],
      "text/plain": [
       "            count unique                          top  freq\n",
       "Name        16713  11559  Need for Speed: Most Wanted    12\n",
       "Platform    16715     31                          PS2  2161\n",
       "Genre       16713     12                       Action  3369\n",
       "User_Score  10014     96                          tbd  2424\n",
       "Rating       9949      8                            E  3990"
      ]
     },
     "execution_count": 6,
     "metadata": {},
     "output_type": "execute_result"
    }
   ],
   "source": [
    "df.describe(include=np.object).T"
   ]
  },
  {
   "cell_type": "markdown",
   "metadata": {},
   "source": [
    "We can already get some insights, just by looking at basic stats of the raw data: \n",
    "- Less than a quarter of the games in the dataset were released in the last 5 years\n",
    "- The highest sales by any metric are in North America, followed by Europe, Japan, and lastly, 'Other'\n",
    "- The mean and median critic score are very near (69 and 71, respectively), so we might expect a near normal distribution\n",
    "- Need for Speed: Most Wanted appeared in no less than 12(!) platforms, more than any other game\n",
    "- The Playstation 2 is the platform with the most titles (2161 titles)\n",
    "- The most common genre is action (3369 titles)\n",
    "- The most common ESRB rating is E (everyone) (3990 titles)"
   ]
  },
  {
   "cell_type": "markdown",
   "metadata": {},
   "source": [
    "## Preprocessing"
   ]
  },
  {
   "cell_type": "markdown",
   "metadata": {},
   "source": [
    "First, we can convert column titles to lowercase to make things easier."
   ]
  },
  {
   "cell_type": "code",
   "execution_count": 7,
   "metadata": {
    "scrolled": true
   },
   "outputs": [],
   "source": [
    "df.columns = df.columns.str.lower()"
   ]
  },
  {
   "cell_type": "markdown",
   "metadata": {},
   "source": [
    "The user scores are numbers stored as strings. We'll convert them to numbers, and values like `'tbd'` will be stored as `NaN`."
   ]
  },
  {
   "cell_type": "code",
   "execution_count": 8,
   "metadata": {
    "scrolled": false
   },
   "outputs": [],
   "source": [
    "df['user_score'] = pd.to_numeric(df['user_score'], errors='coerce')"
   ]
  },
  {
   "cell_type": "markdown",
   "metadata": {},
   "source": [
    "Let's check how many `NaN` values we have."
   ]
  },
  {
   "cell_type": "code",
   "execution_count": 9,
   "metadata": {
    "scrolled": true
   },
   "outputs": [
    {
     "name": "stdout",
     "output_type": "stream",
     "text": [
      "NaN values in name: 2 (0.0%)\n",
      "\n",
      "NaN values in year_of_release: 269 (1.6%)\n",
      "\n",
      "NaN values in critic_score: 8578 (51.3%)\n",
      "\n",
      "NaN values in user_score: 9125 (54.6%)\n",
      "\n",
      "NaN values in rating: 6766 (40.5%)\n",
      "\n"
     ]
    }
   ],
   "source": [
    "for column in ['name', 'year_of_release', 'critic_score', 'user_score', 'rating']:\n",
    "    print('NaN values in {}: {} ({:.1%})\\n'.format(\n",
    "        column,\n",
    "        sum(df[column].isna()),\n",
    "        sum(df[column].isna()) / len(df)\n",
    "    ))"
   ]
  },
  {
   "cell_type": "markdown",
   "metadata": {},
   "source": [
    "The number of games for which the name or year of release is unknown is negligible, and the rest of the data is not very useful without knowing the year. On the other hand, too many critic and user scores and ratings are missing to just drop them, so we will keep them as `NaN`."
   ]
  },
  {
   "cell_type": "code",
   "execution_count": 10,
   "metadata": {
    "scrolled": true
   },
   "outputs": [],
   "source": [
    "df.dropna(subset=['name', 'year_of_release'], inplace=True)"
   ]
  },
  {
   "cell_type": "markdown",
   "metadata": {},
   "source": [
    "There's no reason to store years as `float`."
   ]
  },
  {
   "cell_type": "code",
   "execution_count": 11,
   "metadata": {
    "scrolled": true
   },
   "outputs": [],
   "source": [
    "df['year_of_release'] = df['year_of_release'].astype('int16')"
   ]
  },
  {
   "cell_type": "markdown",
   "metadata": {},
   "source": [
    "The critic scores go from 0 to 100, while user scores go from 0 to 10. We want scores from critics and users to be on the same scale, so we'll divide the critic scores by 10."
   ]
  },
  {
   "cell_type": "code",
   "execution_count": 12,
   "metadata": {},
   "outputs": [],
   "source": [
    "df['critic_score'] = df['critic_score'] * 0.1"
   ]
  },
  {
   "cell_type": "markdown",
   "metadata": {},
   "source": [
    "Next, we'll check out the ratings."
   ]
  },
  {
   "cell_type": "code",
   "execution_count": 13,
   "metadata": {},
   "outputs": [
    {
     "data": {
      "text/plain": [
       "E       3921\n",
       "T       2905\n",
       "M       1536\n",
       "E10+    1393\n",
       "EC         8\n",
       "K-A        3\n",
       "RP         1\n",
       "AO         1\n",
       "Name: rating, dtype: int64"
      ]
     },
     "execution_count": 13,
     "metadata": {},
     "output_type": "execute_result"
    }
   ],
   "source": [
    "df['rating'].value_counts()"
   ]
  },
  {
   "cell_type": "markdown",
   "metadata": {},
   "source": [
    "We can tidy this up a little. `'K-A'` (kids to adults) is the predecessor of `'E'` (everyone), and `'EC'` (early childhood) was rarely used because `'E'` is inclusive of this group. `'RP'` (rating pending) is a sort of a placeholder for games yet to be rated, so we might as well convert all `NaN` (which we have in abundance) to `'RP'`. There is one single `'AO'` (adult only) game in our dataset. Let's find out what we can about it before deciding what to do with it."
   ]
  },
  {
   "cell_type": "code",
   "execution_count": 14,
   "metadata": {},
   "outputs": [
    {
     "data": {
      "text/html": [
       "<div>\n",
       "<style scoped>\n",
       "    .dataframe tbody tr th:only-of-type {\n",
       "        vertical-align: middle;\n",
       "    }\n",
       "\n",
       "    .dataframe tbody tr th {\n",
       "        vertical-align: top;\n",
       "    }\n",
       "\n",
       "    .dataframe thead th {\n",
       "        text-align: right;\n",
       "    }\n",
       "</style>\n",
       "<table border=\"1\" class=\"dataframe\">\n",
       "  <thead>\n",
       "    <tr style=\"text-align: right;\">\n",
       "      <th></th>\n",
       "      <th>name</th>\n",
       "      <th>platform</th>\n",
       "      <th>year_of_release</th>\n",
       "      <th>genre</th>\n",
       "      <th>na_sales</th>\n",
       "      <th>eu_sales</th>\n",
       "      <th>jp_sales</th>\n",
       "      <th>other_sales</th>\n",
       "      <th>critic_score</th>\n",
       "      <th>user_score</th>\n",
       "      <th>rating</th>\n",
       "    </tr>\n",
       "  </thead>\n",
       "  <tbody>\n",
       "    <tr>\n",
       "      <td>875</td>\n",
       "      <td>Grand Theft Auto: San Andreas</td>\n",
       "      <td>XB</td>\n",
       "      <td>2005</td>\n",
       "      <td>Action</td>\n",
       "      <td>1.26</td>\n",
       "      <td>0.61</td>\n",
       "      <td>0.0</td>\n",
       "      <td>0.09</td>\n",
       "      <td>9.3</td>\n",
       "      <td>8.6</td>\n",
       "      <td>AO</td>\n",
       "    </tr>\n",
       "  </tbody>\n",
       "</table>\n",
       "</div>"
      ],
      "text/plain": [
       "                              name platform  year_of_release   genre  \\\n",
       "875  Grand Theft Auto: San Andreas       XB             2005  Action   \n",
       "\n",
       "     na_sales  eu_sales  jp_sales  other_sales  critic_score  user_score  \\\n",
       "875      1.26      0.61       0.0         0.09           9.3         8.6   \n",
       "\n",
       "    rating  \n",
       "875     AO  "
      ]
     },
     "execution_count": 14,
     "metadata": {},
     "output_type": "execute_result"
    }
   ],
   "source": [
    "df.query('rating == \"AO\"')"
   ]
  },
  {
   "cell_type": "markdown",
   "metadata": {},
   "source": [
    "This is a major hit, so we can't just drop it from the dataset. From a little online research we know that the final rating for this title was `'M'` (mature). By applying all of the above, we can pidgeonhole all ratings into 5 values. While we're at it, let's add a numeric `'rating_id'` column, in which 1-4 correspond to ratings in ascending appropriate player age, and 0 indicates yet to be rated games."
   ]
  },
  {
   "cell_type": "code",
   "execution_count": 15,
   "metadata": {},
   "outputs": [],
   "source": [
    "df['rating'].fillna('RP', inplace=True)\n",
    "df.loc[df['rating'].isin(['K-A', 'EC']), 'rating'] = 'E'\n",
    "df.loc[df['rating'] == 'AO', 'rating'] = 'M'"
   ]
  },
  {
   "cell_type": "code",
   "execution_count": 16,
   "metadata": {},
   "outputs": [],
   "source": [
    "esrb_dict = pd.DataFrame({'rating': ['RP', 'E', 'E10+', 'T', 'M'], 'rating_id': list(range(5))})\n",
    "df = df.merge(esrb_dict, on='rating')\n",
    "df['rating_id'] = df['rating_id'].astype('int8')"
   ]
  },
  {
   "cell_type": "markdown",
   "metadata": {},
   "source": [
    "To save space, we'll downsize all of the `float64` data types in the dataset to `float32`. We don't want to use the even lighter `float16` because it's incompatible with some pandas functions."
   ]
  },
  {
   "cell_type": "code",
   "execution_count": 17,
   "metadata": {
    "scrolled": true
   },
   "outputs": [],
   "source": [
    "for column in ['na_sales', 'eu_sales', 'jp_sales', 'other_sales', 'critic_score', 'user_score']:\n",
    "    df[column] = df[column].astype('float32')"
   ]
  },
  {
   "cell_type": "markdown",
   "metadata": {},
   "source": [
    "Let's add another column for total combined sales of all 4 regions we have data for."
   ]
  },
  {
   "cell_type": "code",
   "execution_count": 18,
   "metadata": {
    "scrolled": false
   },
   "outputs": [
    {
     "data": {
      "text/html": [
       "<div>\n",
       "<style scoped>\n",
       "    .dataframe tbody tr th:only-of-type {\n",
       "        vertical-align: middle;\n",
       "    }\n",
       "\n",
       "    .dataframe tbody tr th {\n",
       "        vertical-align: top;\n",
       "    }\n",
       "\n",
       "    .dataframe thead th {\n",
       "        text-align: right;\n",
       "    }\n",
       "</style>\n",
       "<table border=\"1\" class=\"dataframe\">\n",
       "  <thead>\n",
       "    <tr style=\"text-align: right;\">\n",
       "      <th></th>\n",
       "      <th>name</th>\n",
       "      <th>platform</th>\n",
       "      <th>year_of_release</th>\n",
       "      <th>genre</th>\n",
       "      <th>na_sales</th>\n",
       "      <th>eu_sales</th>\n",
       "      <th>jp_sales</th>\n",
       "      <th>other_sales</th>\n",
       "      <th>critic_score</th>\n",
       "      <th>user_score</th>\n",
       "      <th>rating</th>\n",
       "      <th>rating_id</th>\n",
       "      <th>total_sales</th>\n",
       "    </tr>\n",
       "  </thead>\n",
       "  <tbody>\n",
       "    <tr>\n",
       "      <td>0</td>\n",
       "      <td>Wii Sports</td>\n",
       "      <td>Wii</td>\n",
       "      <td>2006</td>\n",
       "      <td>Sports</td>\n",
       "      <td>41.360001</td>\n",
       "      <td>28.959999</td>\n",
       "      <td>3.77</td>\n",
       "      <td>8.45</td>\n",
       "      <td>7.6</td>\n",
       "      <td>8.0</td>\n",
       "      <td>E</td>\n",
       "      <td>1</td>\n",
       "      <td>82.539993</td>\n",
       "    </tr>\n",
       "    <tr>\n",
       "      <td>1</td>\n",
       "      <td>Mario Kart Wii</td>\n",
       "      <td>Wii</td>\n",
       "      <td>2008</td>\n",
       "      <td>Racing</td>\n",
       "      <td>15.680000</td>\n",
       "      <td>12.760000</td>\n",
       "      <td>3.79</td>\n",
       "      <td>3.29</td>\n",
       "      <td>8.2</td>\n",
       "      <td>8.3</td>\n",
       "      <td>E</td>\n",
       "      <td>1</td>\n",
       "      <td>35.520000</td>\n",
       "    </tr>\n",
       "    <tr>\n",
       "      <td>2</td>\n",
       "      <td>Wii Sports Resort</td>\n",
       "      <td>Wii</td>\n",
       "      <td>2009</td>\n",
       "      <td>Sports</td>\n",
       "      <td>15.610000</td>\n",
       "      <td>10.930000</td>\n",
       "      <td>3.28</td>\n",
       "      <td>2.95</td>\n",
       "      <td>8.0</td>\n",
       "      <td>8.0</td>\n",
       "      <td>E</td>\n",
       "      <td>1</td>\n",
       "      <td>32.770000</td>\n",
       "    </tr>\n",
       "    <tr>\n",
       "      <td>3</td>\n",
       "      <td>New Super Mario Bros.</td>\n",
       "      <td>DS</td>\n",
       "      <td>2006</td>\n",
       "      <td>Platform</td>\n",
       "      <td>11.280000</td>\n",
       "      <td>9.140000</td>\n",
       "      <td>6.50</td>\n",
       "      <td>2.88</td>\n",
       "      <td>8.9</td>\n",
       "      <td>8.5</td>\n",
       "      <td>E</td>\n",
       "      <td>1</td>\n",
       "      <td>29.799999</td>\n",
       "    </tr>\n",
       "    <tr>\n",
       "      <td>4</td>\n",
       "      <td>Wii Play</td>\n",
       "      <td>Wii</td>\n",
       "      <td>2006</td>\n",
       "      <td>Misc</td>\n",
       "      <td>13.960000</td>\n",
       "      <td>9.180000</td>\n",
       "      <td>2.93</td>\n",
       "      <td>2.84</td>\n",
       "      <td>5.8</td>\n",
       "      <td>6.6</td>\n",
       "      <td>E</td>\n",
       "      <td>1</td>\n",
       "      <td>28.910000</td>\n",
       "    </tr>\n",
       "  </tbody>\n",
       "</table>\n",
       "</div>"
      ],
      "text/plain": [
       "                    name platform  year_of_release     genre   na_sales  \\\n",
       "0             Wii Sports      Wii             2006    Sports  41.360001   \n",
       "1         Mario Kart Wii      Wii             2008    Racing  15.680000   \n",
       "2      Wii Sports Resort      Wii             2009    Sports  15.610000   \n",
       "3  New Super Mario Bros.       DS             2006  Platform  11.280000   \n",
       "4               Wii Play      Wii             2006      Misc  13.960000   \n",
       "\n",
       "    eu_sales  jp_sales  other_sales  critic_score  user_score rating  \\\n",
       "0  28.959999      3.77         8.45           7.6         8.0      E   \n",
       "1  12.760000      3.79         3.29           8.2         8.3      E   \n",
       "2  10.930000      3.28         2.95           8.0         8.0      E   \n",
       "3   9.140000      6.50         2.88           8.9         8.5      E   \n",
       "4   9.180000      2.93         2.84           5.8         6.6      E   \n",
       "\n",
       "   rating_id  total_sales  \n",
       "0          1    82.539993  \n",
       "1          1    35.520000  \n",
       "2          1    32.770000  \n",
       "3          1    29.799999  \n",
       "4          1    28.910000  "
      ]
     },
     "execution_count": 18,
     "metadata": {},
     "output_type": "execute_result"
    }
   ],
   "source": [
    "df['total_sales'] = df['na_sales'] + df['eu_sales'] + df['jp_sales'] + df['other_sales']\n",
    "df.head()"
   ]
  },
  {
   "cell_type": "markdown",
   "metadata": {},
   "source": [
    "Finally, we'll have a look at the data info after preprocessing."
   ]
  },
  {
   "cell_type": "code",
   "execution_count": 19,
   "metadata": {
    "scrolled": false
   },
   "outputs": [
    {
     "name": "stdout",
     "output_type": "stream",
     "text": [
      "<class 'pandas.core.frame.DataFrame'>\n",
      "Int64Index: 16444 entries, 0 to 16443\n",
      "Data columns (total 13 columns):\n",
      "name               16444 non-null object\n",
      "platform           16444 non-null object\n",
      "year_of_release    16444 non-null int16\n",
      "genre              16444 non-null object\n",
      "na_sales           16444 non-null float32\n",
      "eu_sales           16444 non-null float32\n",
      "jp_sales           16444 non-null float32\n",
      "other_sales        16444 non-null float32\n",
      "critic_score       7983 non-null float32\n",
      "user_score         7463 non-null float32\n",
      "rating             16444 non-null object\n",
      "rating_id          16444 non-null int8\n",
      "total_sales        16444 non-null float32\n",
      "dtypes: float32(7), int16(1), int8(1), object(4)\n",
      "memory usage: 1.1+ MB\n"
     ]
    }
   ],
   "source": [
    "df.info()"
   ]
  },
  {
   "cell_type": "markdown",
   "metadata": {},
   "source": [
    "The dataset have shed about 20% of its weight, despite adding two new columns and filling in thousands of missing values in `'rating'`."
   ]
  },
  {
   "cell_type": "markdown",
   "metadata": {},
   "source": [
    "## General Analysis"
   ]
  },
  {
   "cell_type": "markdown",
   "metadata": {},
   "source": [
    "### By Year\n",
    "We start by plotting how many games were relesed each year."
   ]
  },
  {
   "cell_type": "code",
   "execution_count": 20,
   "metadata": {
    "scrolled": false
   },
   "outputs": [
    {
     "data": {
      "image/png": "[encoded data removed]",
      "text/plain": [
       "<Figure size 720x432 with 1 Axes>"
      ]
     },
     "metadata": {
      "needs_background": "light"
     },
     "output_type": "display_data"
    }
   ],
   "source": [
    "# pandas version\n",
    "df.pivot_table(\n",
    "    index='year_of_release', \n",
    "    aggfunc='count', \n",
    "    values='name',\n",
    ").plot(\n",
    "    kind='bar', \n",
    "    figsize=(10, 6), \n",
    "    grid=True, \n",
    "    legend=False, \n",
    "    title='Total Games Released per Year',\n",
    ")\n",
    "\n",
    "plt.show()"
   ]
  },
  {
   "cell_type": "markdown",
   "metadata": {},
   "source": [
    "We can see that the number of games released year by year mostly increased since the early 90's, until hitting a peak in 2008-2009, when over 1400 games were released in both years. After that the pace went down, and has been within the 500-700 games per year range in the last 5 years. \n",
    "### Life Cycle of a Platform \n",
    "Next, we want to figure out on which platforms games turned the most profit."
   ]
  },
  {
   "cell_type": "code",
   "execution_count": 21,
   "metadata": {
    "scrolled": false
   },
   "outputs": [
    {
     "data": {
      "image/png": "[encoded data removed]",
      "text/plain": [
       "<Figure size 720x432 with 1 Axes>"
      ]
     },
     "metadata": {
      "needs_background": "light"
     },
     "output_type": "display_data"
    }
   ],
   "source": [
    "df.pivot_table(\n",
    "    index='platform', \n",
    "    aggfunc='sum', \n",
    "    values='total_sales',\n",
    ").plot(\n",
    "    kind='bar', \n",
    "    figsize=(10, 6), \n",
    "    grid=True, \n",
    "    legend=False, \n",
    "    title='Total Sales by Platform',\n",
    ")\n",
    "\n",
    "plt.show()"
   ]
  },
  {
   "cell_type": "markdown",
   "metadata": {},
   "source": [
    "We'll take a look on how the 5 top platforms performed over the years: Sony Playstation 2, Xbox 360, Sony Playstation 3, Nintendo Wii and Nintendo DS."
   ]
  },
  {
   "cell_type": "code",
   "execution_count": 22,
   "metadata": {
    "scrolled": false
   },
   "outputs": [
    {
     "data": {
      "image/png": "[encoded data removed]",
      "text/plain": [
       "<Figure size 720x432 with 1 Axes>"
      ]
     },
     "metadata": {
      "needs_background": "light"
     },
     "output_type": "display_data"
    }
   ],
   "source": [
    "plt.figure(figsize=(10, 6))\n",
    "\n",
    "for platform in ['PS2', 'PS3', 'Wii', 'X360', 'DS']:\n",
    "    pivot = df.query('platform == @platform').pivot_table(index='year_of_release', values='total_sales', aggfunc='sum')\n",
    "    plt.plot(pivot, label=platform)\n",
    "\n",
    "plt.title('Annuals Sales by Platform')\n",
    "plt.xlabel('Year')\n",
    "plt.ylabel('USD Million')\n",
    "plt.grid()\n",
    "plt.legend()\n",
    "plt.show()"
   ]
  },
  {
   "cell_type": "markdown",
   "metadata": {},
   "source": [
    "Did games for the DS go on sale two decades before the platform was released? Probably not. Some rogue entry is distorting the DS data. Let's get rid of it."
   ]
  },
  {
   "cell_type": "code",
   "execution_count": 23,
   "metadata": {
    "scrolled": true
   },
   "outputs": [
    {
     "data": {
      "text/html": [
       "<div>\n",
       "<style scoped>\n",
       "    .dataframe tbody tr th:only-of-type {\n",
       "        vertical-align: middle;\n",
       "    }\n",
       "\n",
       "    .dataframe tbody tr th {\n",
       "        vertical-align: top;\n",
       "    }\n",
       "\n",
       "    .dataframe thead th {\n",
       "        text-align: right;\n",
       "    }\n",
       "</style>\n",
       "<table border=\"1\" class=\"dataframe\">\n",
       "  <thead>\n",
       "    <tr style=\"text-align: right;\">\n",
       "      <th></th>\n",
       "      <th>name</th>\n",
       "      <th>platform</th>\n",
       "      <th>year_of_release</th>\n",
       "      <th>genre</th>\n",
       "      <th>na_sales</th>\n",
       "      <th>eu_sales</th>\n",
       "      <th>jp_sales</th>\n",
       "      <th>other_sales</th>\n",
       "      <th>critic_score</th>\n",
       "      <th>user_score</th>\n",
       "      <th>rating</th>\n",
       "      <th>rating_id</th>\n",
       "      <th>total_sales</th>\n",
       "    </tr>\n",
       "  </thead>\n",
       "  <tbody>\n",
       "    <tr>\n",
       "      <td>10125</td>\n",
       "      <td>Strongest Tokyo University Shogi DS</td>\n",
       "      <td>DS</td>\n",
       "      <td>1985</td>\n",
       "      <td>Action</td>\n",
       "      <td>0.0</td>\n",
       "      <td>0.0</td>\n",
       "      <td>0.02</td>\n",
       "      <td>0.0</td>\n",
       "      <td>NaN</td>\n",
       "      <td>NaN</td>\n",
       "      <td>RP</td>\n",
       "      <td>0</td>\n",
       "      <td>0.02</td>\n",
       "    </tr>\n",
       "  </tbody>\n",
       "</table>\n",
       "</div>"
      ],
      "text/plain": [
       "                                      name platform  year_of_release   genre  \\\n",
       "10125  Strongest Tokyo University Shogi DS       DS             1985  Action   \n",
       "\n",
       "       na_sales  eu_sales  jp_sales  other_sales  critic_score  user_score  \\\n",
       "10125       0.0       0.0      0.02          0.0           NaN         NaN   \n",
       "\n",
       "      rating  rating_id  total_sales  \n",
       "10125     RP          0         0.02  "
      ]
     },
     "execution_count": 23,
     "metadata": {},
     "output_type": "execute_result"
    }
   ],
   "source": [
    "df.query('platform == \"DS\" and year_of_release < 2004')"
   ]
  },
  {
   "cell_type": "code",
   "execution_count": 24,
   "metadata": {
    "scrolled": true
   },
   "outputs": [],
   "source": [
    "df.drop(10125, inplace=True)"
   ]
  },
  {
   "cell_type": "markdown",
   "metadata": {},
   "source": [
    "Now the graph should be right."
   ]
  },
  {
   "cell_type": "code",
   "execution_count": 25,
   "metadata": {
    "scrolled": false
   },
   "outputs": [
    {
     "data": {
      "image/png": "[encoded data removed]",
      "text/plain": [
       "<Figure size 720x432 with 1 Axes>"
      ]
     },
     "metadata": {
      "needs_background": "light"
     },
     "output_type": "display_data"
    }
   ],
   "source": [
    "plt.figure(figsize=(10, 6))\n",
    "\n",
    "for platform in ['PS2', 'PS3', 'Wii', 'X360', 'DS']:\n",
    "    pivot = df.query('platform == @platform').pivot_table(index='year_of_release', values='total_sales', aggfunc='sum')\n",
    "    plt.plot(pivot, label=platform)\n",
    "\n",
    "plt.title('Annuals Sales by Platform')\n",
    "plt.xlabel('Year')\n",
    "plt.ylabel('USD Million')\n",
    "plt.grid()\n",
    "plt.legend()\n",
    "plt.show()"
   ]
  },
  {
   "cell_type": "markdown",
   "metadata": {},
   "source": [
    "There seems to be a pattern. Sales rise for a few years, hit a peak or two, and decline. It makes perfect sense, as new platform get released every several years, and newer games are developed for newer, stronger hardwere. \n",
    "### Current Platforms\n",
    "We are interested in which platform is expected to do well in 2017, but all of the all time top 5 are already obsolete. Let's check which newer platforms did well in the last 3 years only."
   ]
  },
  {
   "cell_type": "code",
   "execution_count": 26,
   "metadata": {
    "scrolled": false
   },
   "outputs": [
    {
     "data": {
      "image/png": "[encoded data removed]",
      "text/plain": [
       "<Figure size 720x432 with 1 Axes>"
      ]
     },
     "metadata": {
      "needs_background": "light"
     },
     "output_type": "display_data"
    }
   ],
   "source": [
    "df.query('year_of_release > 2013').pivot_table(\n",
    "    index='platform', \n",
    "    aggfunc='sum', \n",
    "    values='total_sales',\n",
    ").plot(\n",
    "    kind='bar', \n",
    "    figsize=(10, 6), \n",
    "    grid=True, \n",
    "    legend=False, \n",
    "    title='Total Sales by Platform',\n",
    ")\n",
    "\n",
    "plt.show()"
   ]
  },
  {
   "cell_type": "markdown",
   "metadata": {},
   "source": [
    "This time, we'll take a closer look at Sony Playstation 4, Xbox One and Nintendo 3DS."
   ]
  },
  {
   "cell_type": "code",
   "execution_count": 27,
   "metadata": {
    "scrolled": false
   },
   "outputs": [
    {
     "data": {
      "image/png": "[encoded data removed]",
      "text/plain": [
       "<Figure size 720x432 with 1 Axes>"
      ]
     },
     "metadata": {
      "needs_background": "light"
     },
     "output_type": "display_data"
    }
   ],
   "source": [
    "plt.figure(figsize=(10, 6))\n",
    "\n",
    "for platform in ['PS4', 'XOne', '3DS']:\n",
    "    pivot = df.query('platform == @platform').pivot_table(index='year_of_release', values='total_sales', aggfunc='sum')\n",
    "    plt.plot(pivot, label=platform)\n",
    "\n",
    "plt.title('Annuals Sales by Platform')\n",
    "plt.xlabel('Year')\n",
    "plt.ylabel('USD Million')\n",
    "plt.grid()\n",
    "plt.legend()\n",
    "plt.show()"
   ]
  },
  {
   "cell_type": "markdown",
   "metadata": {},
   "source": [
    "We shouldn't be worried about the dip in 2016, as data for the current year is incomplete, and likely excludes the highly profitable holiday season. With that in mind, the platforms entering 2017 with an upward trajectory are the Playstation 4 and Xbox One, with the former doing significantly better than the latter. \n",
    "\n",
    "Next, we'll compare the game sales distributions of various platforms in 2014 to 2016."
   ]
  },
  {
   "cell_type": "code",
   "execution_count": 28,
   "metadata": {},
   "outputs": [],
   "source": [
    "np.warnings.filterwarnings('ignore', category=np.VisibleDeprecationWarning)"
   ]
  },
  {
   "cell_type": "code",
   "execution_count": 29,
   "metadata": {
    "scrolled": false
   },
   "outputs": [
    {
     "data": {
      "image/png": "[encoded data removed]",
      "text/plain": [
       "<Figure size 720x432 with 1 Axes>"
      ]
     },
     "metadata": {
      "needs_background": "light"
     },
     "output_type": "display_data"
    }
   ],
   "source": [
    "df.query('year_of_release > 2013').boxplot(\n",
    "    'total_sales', \n",
    "    by='platform', \n",
    "    figsize=(10, 6),\n",
    ")\n",
    "plt.ylim(0, 5)\n",
    "plt.show()"
   ]
  },
  {
   "cell_type": "code",
   "execution_count": 30,
   "metadata": {
    "scrolled": false
   },
   "outputs": [
    {
     "data": {
      "text/html": [
       "<div>\n",
       "<style scoped>\n",
       "    .dataframe tbody tr th:only-of-type {\n",
       "        vertical-align: middle;\n",
       "    }\n",
       "\n",
       "    .dataframe tbody tr th {\n",
       "        vertical-align: top;\n",
       "    }\n",
       "\n",
       "    .dataframe thead tr th {\n",
       "        text-align: left;\n",
       "    }\n",
       "\n",
       "    .dataframe thead tr:last-of-type th {\n",
       "        text-align: right;\n",
       "    }\n",
       "</style>\n",
       "<table border=\"1\" class=\"dataframe\">\n",
       "  <thead>\n",
       "    <tr>\n",
       "      <th></th>\n",
       "      <th>count</th>\n",
       "      <th>mean</th>\n",
       "      <th>std</th>\n",
       "      <th>median</th>\n",
       "      <th>sum</th>\n",
       "    </tr>\n",
       "    <tr>\n",
       "      <th></th>\n",
       "      <th>total_sales</th>\n",
       "      <th>total_sales</th>\n",
       "      <th>total_sales</th>\n",
       "      <th>total_sales</th>\n",
       "      <th>total_sales</th>\n",
       "    </tr>\n",
       "    <tr>\n",
       "      <th>platform</th>\n",
       "      <th></th>\n",
       "      <th></th>\n",
       "      <th></th>\n",
       "      <th></th>\n",
       "      <th></th>\n",
       "    </tr>\n",
       "  </thead>\n",
       "  <tbody>\n",
       "    <tr>\n",
       "      <td>PS4</td>\n",
       "      <td>376</td>\n",
       "      <td>0.766356</td>\n",
       "      <td>1.614969</td>\n",
       "      <td>0.185</td>\n",
       "      <td>288.149994</td>\n",
       "    </tr>\n",
       "    <tr>\n",
       "      <td>XOne</td>\n",
       "      <td>228</td>\n",
       "      <td>0.615614</td>\n",
       "      <td>1.046513</td>\n",
       "      <td>0.205</td>\n",
       "      <td>140.360001</td>\n",
       "    </tr>\n",
       "    <tr>\n",
       "      <td>3DS</td>\n",
       "      <td>212</td>\n",
       "      <td>0.408868</td>\n",
       "      <td>1.188368</td>\n",
       "      <td>0.090</td>\n",
       "      <td>86.680000</td>\n",
       "    </tr>\n",
       "    <tr>\n",
       "      <td>PS3</td>\n",
       "      <td>219</td>\n",
       "      <td>0.311324</td>\n",
       "      <td>0.633059</td>\n",
       "      <td>0.110</td>\n",
       "      <td>68.180000</td>\n",
       "    </tr>\n",
       "    <tr>\n",
       "      <td>X360</td>\n",
       "      <td>111</td>\n",
       "      <td>0.434414</td>\n",
       "      <td>0.628967</td>\n",
       "      <td>0.180</td>\n",
       "      <td>48.220001</td>\n",
       "    </tr>\n",
       "    <tr>\n",
       "      <td>WiiU</td>\n",
       "      <td>73</td>\n",
       "      <td>0.588767</td>\n",
       "      <td>1.161467</td>\n",
       "      <td>0.190</td>\n",
       "      <td>42.980000</td>\n",
       "    </tr>\n",
       "    <tr>\n",
       "      <td>PC</td>\n",
       "      <td>151</td>\n",
       "      <td>0.179139</td>\n",
       "      <td>0.329359</td>\n",
       "      <td>0.060</td>\n",
       "      <td>27.050001</td>\n",
       "    </tr>\n",
       "    <tr>\n",
       "      <td>PSV</td>\n",
       "      <td>295</td>\n",
       "      <td>0.075932</td>\n",
       "      <td>0.141591</td>\n",
       "      <td>0.040</td>\n",
       "      <td>22.400000</td>\n",
       "    </tr>\n",
       "    <tr>\n",
       "      <td>Wii</td>\n",
       "      <td>11</td>\n",
       "      <td>0.460909</td>\n",
       "      <td>0.625451</td>\n",
       "      <td>0.180</td>\n",
       "      <td>5.070000</td>\n",
       "    </tr>\n",
       "    <tr>\n",
       "      <td>PSP</td>\n",
       "      <td>13</td>\n",
       "      <td>0.027692</td>\n",
       "      <td>0.027735</td>\n",
       "      <td>0.020</td>\n",
       "      <td>0.360000</td>\n",
       "    </tr>\n",
       "  </tbody>\n",
       "</table>\n",
       "</div>"
      ],
      "text/plain": [
       "               count        mean         std      median         sum\n",
       "         total_sales total_sales total_sales total_sales total_sales\n",
       "platform                                                            \n",
       "PS4              376    0.766356    1.614969       0.185  288.149994\n",
       "XOne             228    0.615614    1.046513       0.205  140.360001\n",
       "3DS              212    0.408868    1.188368       0.090   86.680000\n",
       "PS3              219    0.311324    0.633059       0.110   68.180000\n",
       "X360             111    0.434414    0.628967       0.180   48.220001\n",
       "WiiU              73    0.588767    1.161467       0.190   42.980000\n",
       "PC               151    0.179139    0.329359       0.060   27.050001\n",
       "PSV              295    0.075932    0.141591       0.040   22.400000\n",
       "Wii               11    0.460909    0.625451       0.180    5.070000\n",
       "PSP               13    0.027692    0.027735       0.020    0.360000"
      ]
     },
     "execution_count": 30,
     "metadata": {},
     "output_type": "execute_result"
    }
   ],
   "source": [
    "df.query('year_of_release > 2013').pivot_table(\n",
    "    values='total_sales', \n",
    "    index='platform', \n",
    "    aggfunc=['count', 'mean', 'std', 'median', 'sum'],\n",
    ").sort_values(('sum', 'total_sales'), ascending=False)"
   ]
  },
  {
   "cell_type": "markdown",
   "metadata": {},
   "source": [
    "What all platforms have in common, is that the sales distributions have a strong positive skew. It means that most profit comes from a relatively small selection of very successful games. The Playstation 4 is the platform on which the average game is most profitable, at 766K USD, followed by Xbox One and WiiU, both roughly 600K USD. Playstation 4 is also the platform with most games published since 2014, 376 titles, compared to only 228 and 212 for the Xbox One and Nintendo 3DS, respectively. \n",
    "\n",
    "From what we have seen until now, Sony Playstation 4 seems like the preferable platform to publish a game for (in reality it's possible to publish on multiple platforms, and it is often done). Now we'll check for correlation between profitability and user or critic scores in games for the Playstation 4."
   ]
  },
  {
   "cell_type": "code",
   "execution_count": 31,
   "metadata": {},
   "outputs": [],
   "source": [
    "psiv = df.query('platform == \"PS4\"').copy()"
   ]
  },
  {
   "cell_type": "code",
   "execution_count": 32,
   "metadata": {},
   "outputs": [
    {
     "data": {
      "image/png": "[encoded data removed]",
      "text/plain": [
       "<Figure size 720x432 with 1 Axes>"
      ]
     },
     "metadata": {
      "needs_background": "light"
     },
     "output_type": "display_data"
    }
   ],
   "source": [
    "plt.figure(figsize=(10, 6))\n",
    "plt.scatter(psiv['critic_score'], psiv['total_sales'], label='critic score')\n",
    "plt.scatter(psiv['user_score'], psiv['total_sales'], label='user score')\n",
    "plt.title('Sales to Score')\n",
    "plt.xlabel('Score')\n",
    "plt.ylabel('USD Million')\n",
    "plt.grid()\n",
    "plt.legend()\n",
    "plt.show()"
   ]
  },
  {
   "cell_type": "code",
   "execution_count": 33,
   "metadata": {},
   "outputs": [
    {
     "name": "stdout",
     "output_type": "stream",
     "text": [
      "Correlation to sales\n",
      "====================\n",
      "Critic score: 0.41\n",
      "User score: -0.03\n"
     ]
    }
   ],
   "source": [
    "print('Correlation to sales\\n' + '=' * 20)\n",
    "print(f'Critic score: {psiv[\"critic_score\"].corr(psiv[\"total_sales\"]):.2f}')\n",
    "print(f'User score: {psiv[\"user_score\"].corr(psiv[\"total_sales\"]):.2f}')"
   ]
  },
  {
   "cell_type": "markdown",
   "metadata": {},
   "source": [
    "While user scores are virtually independant of sales performance, critic scores are moderately correlated to sales. It doesn't mean games succeed or fail based on what critics think of them. We have to remember that correlation is not causation. It is more likely that the same games that get high scores are also more profitable simply because they are more enjoyable to both critics and consumers (but apparently not the ones that bother to give scores).\n",
    "\n",
    "Next, we will see how the same games performed on the Playstation 4 compared to the Xbox One. We'll exclude games that profited under USD 2 million combined, so that the graph doesn't get too packed."
   ]
  },
  {
   "cell_type": "code",
   "execution_count": 34,
   "metadata": {
    "scrolled": false
   },
   "outputs": [
    {
     "data": {
      "image/png": "[encoded data removed]",
      "text/plain": [
       "<Figure size 1152x432 with 1 Axes>"
      ]
     },
     "metadata": {
      "needs_background": "light"
     },
     "output_type": "display_data"
    }
   ],
   "source": [
    "df.query('platform in [\"PS4\", \"XOne\"]').pivot_table(\n",
    "    index='name',\n",
    "    columns='platform',\n",
    "    values='total_sales',\n",
    ").dropna(\n",
    ").query(\n",
    "    'PS4 + XOne > 2',\n",
    ").plot(\n",
    "    kind='bar', \n",
    "    figsize=(16, 6), \n",
    "    title='Playstation 4 vs Xbox One Sales per Game',\n",
    ")\n",
    "plt.ylabel('USD million')\n",
    "plt.xlabel('Game title')\n",
    "plt.show()"
   ]
  },
  {
   "cell_type": "markdown",
   "metadata": {},
   "source": [
    "Games cosistantly performed better on the Playstation 4, in several instances cashing in more than twice as they did on the Xbox One. The only exception in our dataset is the 2015 Square Enix's \"Rise of the Tomb Raider\".\n",
    "### By Genre\n",
    "So far we considered the platform, but what about the genre? Let's compare the sales distributions of different genres over the last 3 years."
   ]
  },
  {
   "cell_type": "code",
   "execution_count": 35,
   "metadata": {
    "scrolled": false
   },
   "outputs": [
    {
     "data": {
      "image/png": "[encoded data removed]",
      "text/plain": [
       "<Figure size 864x432 with 1 Axes>"
      ]
     },
     "metadata": {
      "needs_background": "light"
     },
     "output_type": "display_data"
    }
   ],
   "source": [
    "df.query('year_of_release > 2013').boxplot(\n",
    "    'total_sales', \n",
    "    by='genre', \n",
    "    figsize=(12, 6),\n",
    ")\n",
    "plt.ylim(0, 5)\n",
    "plt.show()"
   ]
  },
  {
   "cell_type": "code",
   "execution_count": 36,
   "metadata": {},
   "outputs": [
    {
     "data": {
      "text/html": [
       "<div>\n",
       "<style scoped>\n",
       "    .dataframe tbody tr th:only-of-type {\n",
       "        vertical-align: middle;\n",
       "    }\n",
       "\n",
       "    .dataframe tbody tr th {\n",
       "        vertical-align: top;\n",
       "    }\n",
       "\n",
       "    .dataframe thead tr th {\n",
       "        text-align: left;\n",
       "    }\n",
       "\n",
       "    .dataframe thead tr:last-of-type th {\n",
       "        text-align: right;\n",
       "    }\n",
       "</style>\n",
       "<table border=\"1\" class=\"dataframe\">\n",
       "  <thead>\n",
       "    <tr>\n",
       "      <th></th>\n",
       "      <th>count</th>\n",
       "      <th>mean</th>\n",
       "      <th>std</th>\n",
       "      <th>median</th>\n",
       "      <th>sum</th>\n",
       "    </tr>\n",
       "    <tr>\n",
       "      <th></th>\n",
       "      <th>total_sales</th>\n",
       "      <th>total_sales</th>\n",
       "      <th>total_sales</th>\n",
       "      <th>total_sales</th>\n",
       "      <th>total_sales</th>\n",
       "    </tr>\n",
       "    <tr>\n",
       "      <th>genre</th>\n",
       "      <th></th>\n",
       "      <th></th>\n",
       "      <th></th>\n",
       "      <th></th>\n",
       "      <th></th>\n",
       "    </tr>\n",
       "  </thead>\n",
       "  <tbody>\n",
       "    <tr>\n",
       "      <td>Shooter</td>\n",
       "      <td>128</td>\n",
       "      <td>1.335469</td>\n",
       "      <td>2.050567</td>\n",
       "      <td>0.515</td>\n",
       "      <td>170.940002</td>\n",
       "    </tr>\n",
       "    <tr>\n",
       "      <td>Sports</td>\n",
       "      <td>161</td>\n",
       "      <td>0.680000</td>\n",
       "      <td>1.239736</td>\n",
       "      <td>0.180</td>\n",
       "      <td>109.480003</td>\n",
       "    </tr>\n",
       "    <tr>\n",
       "      <td>Platform</td>\n",
       "      <td>38</td>\n",
       "      <td>0.476053</td>\n",
       "      <td>0.722561</td>\n",
       "      <td>0.140</td>\n",
       "      <td>18.090000</td>\n",
       "    </tr>\n",
       "    <tr>\n",
       "      <td>Fighting</td>\n",
       "      <td>60</td>\n",
       "      <td>0.470333</td>\n",
       "      <td>1.188053</td>\n",
       "      <td>0.125</td>\n",
       "      <td>28.219999</td>\n",
       "    </tr>\n",
       "    <tr>\n",
       "      <td>Role-Playing</td>\n",
       "      <td>221</td>\n",
       "      <td>0.459005</td>\n",
       "      <td>1.177284</td>\n",
       "      <td>0.110</td>\n",
       "      <td>101.440002</td>\n",
       "    </tr>\n",
       "    <tr>\n",
       "      <td>Racing</td>\n",
       "      <td>69</td>\n",
       "      <td>0.398841</td>\n",
       "      <td>0.963716</td>\n",
       "      <td>0.090</td>\n",
       "      <td>27.520000</td>\n",
       "    </tr>\n",
       "    <tr>\n",
       "      <td>Misc</td>\n",
       "      <td>113</td>\n",
       "      <td>0.332301</td>\n",
       "      <td>0.736999</td>\n",
       "      <td>0.090</td>\n",
       "      <td>37.549999</td>\n",
       "    </tr>\n",
       "    <tr>\n",
       "      <td>Action</td>\n",
       "      <td>619</td>\n",
       "      <td>0.322068</td>\n",
       "      <td>0.798181</td>\n",
       "      <td>0.090</td>\n",
       "      <td>199.360001</td>\n",
       "    </tr>\n",
       "    <tr>\n",
       "      <td>Simulation</td>\n",
       "      <td>44</td>\n",
       "      <td>0.298409</td>\n",
       "      <td>0.646925</td>\n",
       "      <td>0.100</td>\n",
       "      <td>13.130000</td>\n",
       "    </tr>\n",
       "    <tr>\n",
       "      <td>Puzzle</td>\n",
       "      <td>14</td>\n",
       "      <td>0.157857</td>\n",
       "      <td>0.320629</td>\n",
       "      <td>0.045</td>\n",
       "      <td>2.210000</td>\n",
       "    </tr>\n",
       "    <tr>\n",
       "      <td>Strategy</td>\n",
       "      <td>37</td>\n",
       "      <td>0.107027</td>\n",
       "      <td>0.118412</td>\n",
       "      <td>0.060</td>\n",
       "      <td>3.960000</td>\n",
       "    </tr>\n",
       "    <tr>\n",
       "      <td>Adventure</td>\n",
       "      <td>185</td>\n",
       "      <td>0.094865</td>\n",
       "      <td>0.203147</td>\n",
       "      <td>0.030</td>\n",
       "      <td>17.549999</td>\n",
       "    </tr>\n",
       "  </tbody>\n",
       "</table>\n",
       "</div>"
      ],
      "text/plain": [
       "                   count        mean         std      median         sum\n",
       "             total_sales total_sales total_sales total_sales total_sales\n",
       "genre                                                                   \n",
       "Shooter              128    1.335469    2.050567       0.515  170.940002\n",
       "Sports               161    0.680000    1.239736       0.180  109.480003\n",
       "Platform              38    0.476053    0.722561       0.140   18.090000\n",
       "Fighting              60    0.470333    1.188053       0.125   28.219999\n",
       "Role-Playing         221    0.459005    1.177284       0.110  101.440002\n",
       "Racing                69    0.398841    0.963716       0.090   27.520000\n",
       "Misc                 113    0.332301    0.736999       0.090   37.549999\n",
       "Action               619    0.322068    0.798181       0.090  199.360001\n",
       "Simulation            44    0.298409    0.646925       0.100   13.130000\n",
       "Puzzle                14    0.157857    0.320629       0.045    2.210000\n",
       "Strategy              37    0.107027    0.118412       0.060    3.960000\n",
       "Adventure            185    0.094865    0.203147       0.030   17.549999"
      ]
     },
     "execution_count": 36,
     "metadata": {},
     "output_type": "execute_result"
    }
   ],
   "source": [
    "df.query('year_of_release > 2013').pivot_table(\n",
    "    values='total_sales', \n",
    "    index='genre', \n",
    "    aggfunc=['count', 'mean', 'std', 'median', 'sum'],\n",
    ").sort_values(('mean', 'total_sales'), ascending=False)"
   ]
  },
  {
   "cell_type": "markdown",
   "metadata": {},
   "source": [
    "Shooter have been the most profitable genre over the last 3 year, by a large margin, with USD 1.3 million per game on average. The second highest was sports, with USD 680K. The other genres had less than USD 500K total sales each, with puzzle, strategy and adventure doing particularily bad, cashing in USD 158K, 107K and 95K, respectively. \n",
    "Action games made the most money in total despite the mediocre per game average, by virtue of being the most common genre."
   ]
  },
  {
   "cell_type": "markdown",
   "metadata": {},
   "source": [
    "## Analysis by Region"
   ]
  },
  {
   "cell_type": "markdown",
   "metadata": {},
   "source": [
    "In this section we will look at seperate data for each region: North America, Europe and Japan. We will explore sales by console, genre and rating. Like in the previous section, we only consider games published from 2014 onward."
   ]
  },
  {
   "cell_type": "code",
   "execution_count": 37,
   "metadata": {},
   "outputs": [],
   "source": [
    "def regional(sales, index):\n",
    "    df_new = df.query('year_of_release > 2013').pivot_table(\n",
    "        index=index, \n",
    "        values=sales, \n",
    "        aggfunc='sum',\n",
    "    ).sort_values(\n",
    "        sales, \n",
    "        ascending=False,\n",
    "    )\n",
    "    df_new['%'] = df_new[sales] / df_new[sales].sum() * 100\n",
    "    return df_new"
   ]
  },
  {
   "cell_type": "code",
   "execution_count": 38,
   "metadata": {},
   "outputs": [],
   "source": [
    "def reg_rating(sales):\n",
    "    rating = regional(sales, 'rating_id').sort_index()\n",
    "    rating.index = esrb_dict['rating']\n",
    "#     rating.drop('RP', inplace=True)\n",
    "#     rating['%'] = rating[sales] / rating[sales].sum() * 100\n",
    "\n",
    "    return rating"
   ]
  },
  {
   "cell_type": "code",
   "execution_count": 39,
   "metadata": {},
   "outputs": [],
   "source": [
    "def sales_barplot(series, title):\n",
    "    series.plot(\n",
    "        kind='bar', \n",
    "        title=title, \n",
    "        legend=False, \n",
    "        figsize=(8, 5)\n",
    "    )\n",
    "    plt.ylabel('USD million')\n",
    "    plt.show()"
   ]
  },
  {
   "cell_type": "markdown",
   "metadata": {},
   "source": [
    "### North America"
   ]
  },
  {
   "cell_type": "code",
   "execution_count": 40,
   "metadata": {},
   "outputs": [
    {
     "data": {
      "image/png": "[encoded data removed]",
      "text/plain": [
       "<Figure size 576x360 with 1 Axes>"
      ]
     },
     "metadata": {
      "needs_background": "light"
     },
     "output_type": "display_data"
    },
    {
     "data": {
      "text/html": [
       "<div>\n",
       "<style scoped>\n",
       "    .dataframe tbody tr th:only-of-type {\n",
       "        vertical-align: middle;\n",
       "    }\n",
       "\n",
       "    .dataframe tbody tr th {\n",
       "        vertical-align: top;\n",
       "    }\n",
       "\n",
       "    .dataframe thead th {\n",
       "        text-align: right;\n",
       "    }\n",
       "</style>\n",
       "<table border=\"1\" class=\"dataframe\">\n",
       "  <thead>\n",
       "    <tr style=\"text-align: right;\">\n",
       "      <th></th>\n",
       "      <th>na_sales</th>\n",
       "      <th>%</th>\n",
       "    </tr>\n",
       "    <tr>\n",
       "      <th>platform</th>\n",
       "      <th></th>\n",
       "      <th></th>\n",
       "    </tr>\n",
       "  </thead>\n",
       "  <tbody>\n",
       "    <tr>\n",
       "      <td>PS4</td>\n",
       "      <td>98.610001</td>\n",
       "      <td>34.714497</td>\n",
       "    </tr>\n",
       "    <tr>\n",
       "      <td>XOne</td>\n",
       "      <td>81.269997</td>\n",
       "      <td>28.610151</td>\n",
       "    </tr>\n",
       "    <tr>\n",
       "      <td>X360</td>\n",
       "      <td>28.299999</td>\n",
       "      <td>9.962684</td>\n",
       "    </tr>\n",
       "    <tr>\n",
       "      <td>3DS</td>\n",
       "      <td>22.639999</td>\n",
       "      <td>7.970147</td>\n",
       "    </tr>\n",
       "    <tr>\n",
       "      <td>PS3</td>\n",
       "      <td>22.049999</td>\n",
       "      <td>7.762444</td>\n",
       "    </tr>\n",
       "    <tr>\n",
       "      <td>WiiU</td>\n",
       "      <td>19.360001</td>\n",
       "      <td>6.815462</td>\n",
       "    </tr>\n",
       "    <tr>\n",
       "      <td>PC</td>\n",
       "      <td>7.230000</td>\n",
       "      <td>2.545237</td>\n",
       "    </tr>\n",
       "    <tr>\n",
       "      <td>PSV</td>\n",
       "      <td>2.520000</td>\n",
       "      <td>0.887137</td>\n",
       "    </tr>\n",
       "    <tr>\n",
       "      <td>Wii</td>\n",
       "      <td>2.080000</td>\n",
       "      <td>0.732240</td>\n",
       "    </tr>\n",
       "    <tr>\n",
       "      <td>PSP</td>\n",
       "      <td>0.000000</td>\n",
       "      <td>0.000000</td>\n",
       "    </tr>\n",
       "  </tbody>\n",
       "</table>\n",
       "</div>"
      ],
      "text/plain": [
       "           na_sales          %\n",
       "platform                      \n",
       "PS4       98.610001  34.714497\n",
       "XOne      81.269997  28.610151\n",
       "X360      28.299999   9.962684\n",
       "3DS       22.639999   7.970147\n",
       "PS3       22.049999   7.762444\n",
       "WiiU      19.360001   6.815462\n",
       "PC         7.230000   2.545237\n",
       "PSV        2.520000   0.887137\n",
       "Wii        2.080000   0.732240\n",
       "PSP        0.000000   0.000000"
      ]
     },
     "execution_count": 40,
     "metadata": {},
     "output_type": "execute_result"
    }
   ],
   "source": [
    "sales_barplot(regional('na_sales', 'platform')['na_sales'].head(), 'North America Sales by Platform')\n",
    "regional('na_sales', 'platform')"
   ]
  },
  {
   "cell_type": "markdown",
   "metadata": {},
   "source": [
    "In North America, Playstation 4 games occupy the largest market share (34.7%), but the Xbox One is not far behind (28.6%). Other platforms take up less than 10% each."
   ]
  },
  {
   "cell_type": "code",
   "execution_count": 41,
   "metadata": {
    "scrolled": false
   },
   "outputs": [
    {
     "data": {
      "image/png": "[encoded data removed]",
      "text/plain": [
       "<Figure size 576x360 with 1 Axes>"
      ]
     },
     "metadata": {
      "needs_background": "light"
     },
     "output_type": "display_data"
    },
    {
     "data": {
      "text/html": [
       "<div>\n",
       "<style scoped>\n",
       "    .dataframe tbody tr th:only-of-type {\n",
       "        vertical-align: middle;\n",
       "    }\n",
       "\n",
       "    .dataframe tbody tr th {\n",
       "        vertical-align: top;\n",
       "    }\n",
       "\n",
       "    .dataframe thead th {\n",
       "        text-align: right;\n",
       "    }\n",
       "</style>\n",
       "<table border=\"1\" class=\"dataframe\">\n",
       "  <thead>\n",
       "    <tr style=\"text-align: right;\">\n",
       "      <th></th>\n",
       "      <th>na_sales</th>\n",
       "      <th>%</th>\n",
       "    </tr>\n",
       "    <tr>\n",
       "      <th>genre</th>\n",
       "      <th></th>\n",
       "      <th></th>\n",
       "    </tr>\n",
       "  </thead>\n",
       "  <tbody>\n",
       "    <tr>\n",
       "      <td>Shooter</td>\n",
       "      <td>79.019997</td>\n",
       "      <td>27.818064</td>\n",
       "    </tr>\n",
       "    <tr>\n",
       "      <td>Action</td>\n",
       "      <td>72.529999</td>\n",
       "      <td>25.533337</td>\n",
       "    </tr>\n",
       "    <tr>\n",
       "      <td>Sports</td>\n",
       "      <td>46.130001</td>\n",
       "      <td>16.239525</td>\n",
       "    </tr>\n",
       "    <tr>\n",
       "      <td>Role-Playing</td>\n",
       "      <td>33.470001</td>\n",
       "      <td>11.782722</td>\n",
       "    </tr>\n",
       "    <tr>\n",
       "      <td>Misc</td>\n",
       "      <td>15.050000</td>\n",
       "      <td>5.298176</td>\n",
       "    </tr>\n",
       "    <tr>\n",
       "      <td>Fighting</td>\n",
       "      <td>12.430000</td>\n",
       "      <td>4.375836</td>\n",
       "    </tr>\n",
       "    <tr>\n",
       "      <td>Racing</td>\n",
       "      <td>8.740000</td>\n",
       "      <td>3.076814</td>\n",
       "    </tr>\n",
       "    <tr>\n",
       "      <td>Platform</td>\n",
       "      <td>6.790000</td>\n",
       "      <td>2.390340</td>\n",
       "    </tr>\n",
       "    <tr>\n",
       "      <td>Adventure</td>\n",
       "      <td>5.640000</td>\n",
       "      <td>1.985496</td>\n",
       "    </tr>\n",
       "    <tr>\n",
       "      <td>Simulation</td>\n",
       "      <td>2.630000</td>\n",
       "      <td>0.925861</td>\n",
       "    </tr>\n",
       "    <tr>\n",
       "      <td>Strategy</td>\n",
       "      <td>0.980000</td>\n",
       "      <td>0.344997</td>\n",
       "    </tr>\n",
       "    <tr>\n",
       "      <td>Puzzle</td>\n",
       "      <td>0.650000</td>\n",
       "      <td>0.228825</td>\n",
       "    </tr>\n",
       "  </tbody>\n",
       "</table>\n",
       "</div>"
      ],
      "text/plain": [
       "               na_sales          %\n",
       "genre                             \n",
       "Shooter       79.019997  27.818064\n",
       "Action        72.529999  25.533337\n",
       "Sports        46.130001  16.239525\n",
       "Role-Playing  33.470001  11.782722\n",
       "Misc          15.050000   5.298176\n",
       "Fighting      12.430000   4.375836\n",
       "Racing         8.740000   3.076814\n",
       "Platform       6.790000   2.390340\n",
       "Adventure      5.640000   1.985496\n",
       "Simulation     2.630000   0.925861\n",
       "Strategy       0.980000   0.344997\n",
       "Puzzle         0.650000   0.228825"
      ]
     },
     "execution_count": 41,
     "metadata": {},
     "output_type": "execute_result"
    }
   ],
   "source": [
    "sales_barplot(regional('na_sales', 'genre')['na_sales'].head(), 'North America Sales by Genre')\n",
    "regional('na_sales', 'genre')"
   ]
  },
  {
   "cell_type": "markdown",
   "metadata": {},
   "source": [
    "In North America, the most profitable genres are shooter and action, holding slightly over a quarter of the market each. Next are sports (16%) and RPG (12%). "
   ]
  },
  {
   "cell_type": "code",
   "execution_count": 42,
   "metadata": {},
   "outputs": [
    {
     "data": {
      "image/png": "[encoded data removed]",
      "text/plain": [
       "<Figure size 576x360 with 1 Axes>"
      ]
     },
     "metadata": {
      "needs_background": "light"
     },
     "output_type": "display_data"
    },
    {
     "data": {
      "text/html": [
       "<div>\n",
       "<style scoped>\n",
       "    .dataframe tbody tr th:only-of-type {\n",
       "        vertical-align: middle;\n",
       "    }\n",
       "\n",
       "    .dataframe tbody tr th {\n",
       "        vertical-align: top;\n",
       "    }\n",
       "\n",
       "    .dataframe thead th {\n",
       "        text-align: right;\n",
       "    }\n",
       "</style>\n",
       "<table border=\"1\" class=\"dataframe\">\n",
       "  <thead>\n",
       "    <tr style=\"text-align: right;\">\n",
       "      <th></th>\n",
       "      <th>na_sales</th>\n",
       "      <th>%</th>\n",
       "    </tr>\n",
       "    <tr>\n",
       "      <th>rating</th>\n",
       "      <th></th>\n",
       "      <th></th>\n",
       "    </tr>\n",
       "  </thead>\n",
       "  <tbody>\n",
       "    <tr>\n",
       "      <td>RP</td>\n",
       "      <td>64.720001</td>\n",
       "      <td>22.783920</td>\n",
       "    </tr>\n",
       "    <tr>\n",
       "      <td>E</td>\n",
       "      <td>50.740002</td>\n",
       "      <td>17.862425</td>\n",
       "    </tr>\n",
       "    <tr>\n",
       "      <td>E10+</td>\n",
       "      <td>33.230000</td>\n",
       "      <td>11.698233</td>\n",
       "    </tr>\n",
       "    <tr>\n",
       "      <td>T</td>\n",
       "      <td>38.950001</td>\n",
       "      <td>13.711892</td>\n",
       "    </tr>\n",
       "    <tr>\n",
       "      <td>M</td>\n",
       "      <td>96.419998</td>\n",
       "      <td>33.943535</td>\n",
       "    </tr>\n",
       "  </tbody>\n",
       "</table>\n",
       "</div>"
      ],
      "text/plain": [
       "         na_sales          %\n",
       "rating                      \n",
       "RP      64.720001  22.783920\n",
       "E       50.740002  17.862425\n",
       "E10+    33.230000  11.698233\n",
       "T       38.950001  13.711892\n",
       "M       96.419998  33.943535"
      ]
     },
     "execution_count": 42,
     "metadata": {},
     "output_type": "execute_result"
    }
   ],
   "source": [
    "sales_barplot(reg_rating('na_sales')['na_sales'], 'North America Sales by Rating')\n",
    "reg_rating('na_sales')"
   ]
  },
  {
   "cell_type": "markdown",
   "metadata": {},
   "source": [
    "The North American audience is not deterred by ESRB's M (mature) rating. Slightly over a third of sales are attributed to games with this rating. In this market, there's no need to hold back with violence etc."
   ]
  },
  {
   "cell_type": "markdown",
   "metadata": {},
   "source": [
    "### Europe"
   ]
  },
  {
   "cell_type": "code",
   "execution_count": 43,
   "metadata": {},
   "outputs": [
    {
     "data": {
      "image/png": "[encoded data removed]",
      "text/plain": [
       "<Figure size 576x360 with 1 Axes>"
      ]
     },
     "metadata": {
      "needs_background": "light"
     },
     "output_type": "display_data"
    },
    {
     "data": {
      "text/html": [
       "<div>\n",
       "<style scoped>\n",
       "    .dataframe tbody tr th:only-of-type {\n",
       "        vertical-align: middle;\n",
       "    }\n",
       "\n",
       "    .dataframe tbody tr th {\n",
       "        vertical-align: top;\n",
       "    }\n",
       "\n",
       "    .dataframe thead th {\n",
       "        text-align: right;\n",
       "    }\n",
       "</style>\n",
       "<table border=\"1\" class=\"dataframe\">\n",
       "  <thead>\n",
       "    <tr style=\"text-align: right;\">\n",
       "      <th></th>\n",
       "      <th>eu_sales</th>\n",
       "      <th>%</th>\n",
       "    </tr>\n",
       "    <tr>\n",
       "      <th>platform</th>\n",
       "      <th></th>\n",
       "      <th></th>\n",
       "    </tr>\n",
       "  </thead>\n",
       "  <tbody>\n",
       "    <tr>\n",
       "      <td>PS4</td>\n",
       "      <td>130.039993</td>\n",
       "      <td>48.041965</td>\n",
       "    </tr>\n",
       "    <tr>\n",
       "      <td>XOne</td>\n",
       "      <td>46.250000</td>\n",
       "      <td>17.086597</td>\n",
       "    </tr>\n",
       "    <tr>\n",
       "      <td>PS3</td>\n",
       "      <td>25.539999</td>\n",
       "      <td>9.435495</td>\n",
       "    </tr>\n",
       "    <tr>\n",
       "      <td>PC</td>\n",
       "      <td>17.969999</td>\n",
       "      <td>6.638835</td>\n",
       "    </tr>\n",
       "    <tr>\n",
       "      <td>3DS</td>\n",
       "      <td>16.120001</td>\n",
       "      <td>5.955372</td>\n",
       "    </tr>\n",
       "    <tr>\n",
       "      <td>X360</td>\n",
       "      <td>15.490000</td>\n",
       "      <td>5.722624</td>\n",
       "    </tr>\n",
       "    <tr>\n",
       "      <td>WiiU</td>\n",
       "      <td>13.150000</td>\n",
       "      <td>4.858135</td>\n",
       "    </tr>\n",
       "    <tr>\n",
       "      <td>PSV</td>\n",
       "      <td>3.530000</td>\n",
       "      <td>1.304123</td>\n",
       "    </tr>\n",
       "    <tr>\n",
       "      <td>Wii</td>\n",
       "      <td>2.590000</td>\n",
       "      <td>0.956849</td>\n",
       "    </tr>\n",
       "    <tr>\n",
       "      <td>PSP</td>\n",
       "      <td>0.000000</td>\n",
       "      <td>0.000000</td>\n",
       "    </tr>\n",
       "  </tbody>\n",
       "</table>\n",
       "</div>"
      ],
      "text/plain": [
       "            eu_sales          %\n",
       "platform                       \n",
       "PS4       130.039993  48.041965\n",
       "XOne       46.250000  17.086597\n",
       "PS3        25.539999   9.435495\n",
       "PC         17.969999   6.638835\n",
       "3DS        16.120001   5.955372\n",
       "X360       15.490000   5.722624\n",
       "WiiU       13.150000   4.858135\n",
       "PSV         3.530000   1.304123\n",
       "Wii         2.590000   0.956849\n",
       "PSP         0.000000   0.000000"
      ]
     },
     "execution_count": 43,
     "metadata": {},
     "output_type": "execute_result"
    }
   ],
   "source": [
    "sales_barplot(regional('eu_sales', 'platform')['eu_sales'].head(), 'Europe Sales by Platform')\n",
    "regional('eu_sales', 'platform')"
   ]
  },
  {
   "cell_type": "markdown",
   "metadata": {},
   "source": [
    "In Europe games for the Playstation 4 win by knockout, taking up almost half of the market. The Xbox One does come second, but only has a 17% market share. Like in North America, other platforms occupy less than 10% of the market each. "
   ]
  },
  {
   "cell_type": "code",
   "execution_count": 44,
   "metadata": {},
   "outputs": [
    {
     "data": {
      "image/png": "[encoded data removed]",
      "text/plain": [
       "<Figure size 576x360 with 1 Axes>"
      ]
     },
     "metadata": {
      "needs_background": "light"
     },
     "output_type": "display_data"
    },
    {
     "data": {
      "text/html": [
       "<div>\n",
       "<style scoped>\n",
       "    .dataframe tbody tr th:only-of-type {\n",
       "        vertical-align: middle;\n",
       "    }\n",
       "\n",
       "    .dataframe tbody tr th {\n",
       "        vertical-align: top;\n",
       "    }\n",
       "\n",
       "    .dataframe thead th {\n",
       "        text-align: right;\n",
       "    }\n",
       "</style>\n",
       "<table border=\"1\" class=\"dataframe\">\n",
       "  <thead>\n",
       "    <tr style=\"text-align: right;\">\n",
       "      <th></th>\n",
       "      <th>eu_sales</th>\n",
       "      <th>%</th>\n",
       "    </tr>\n",
       "    <tr>\n",
       "      <th>genre</th>\n",
       "      <th></th>\n",
       "      <th></th>\n",
       "    </tr>\n",
       "  </thead>\n",
       "  <tbody>\n",
       "    <tr>\n",
       "      <td>Action</td>\n",
       "      <td>74.680000</td>\n",
       "      <td>27.589775</td>\n",
       "    </tr>\n",
       "    <tr>\n",
       "      <td>Shooter</td>\n",
       "      <td>65.519997</td>\n",
       "      <td>24.205704</td>\n",
       "    </tr>\n",
       "    <tr>\n",
       "      <td>Sports</td>\n",
       "      <td>45.730000</td>\n",
       "      <td>16.894487</td>\n",
       "    </tr>\n",
       "    <tr>\n",
       "      <td>Role-Playing</td>\n",
       "      <td>28.170000</td>\n",
       "      <td>10.407123</td>\n",
       "    </tr>\n",
       "    <tr>\n",
       "      <td>Racing</td>\n",
       "      <td>14.130000</td>\n",
       "      <td>5.220186</td>\n",
       "    </tr>\n",
       "    <tr>\n",
       "      <td>Misc</td>\n",
       "      <td>12.860000</td>\n",
       "      <td>4.750998</td>\n",
       "    </tr>\n",
       "    <tr>\n",
       "      <td>Simulation</td>\n",
       "      <td>7.300000</td>\n",
       "      <td>2.696912</td>\n",
       "    </tr>\n",
       "    <tr>\n",
       "      <td>Platform</td>\n",
       "      <td>6.800000</td>\n",
       "      <td>2.512192</td>\n",
       "    </tr>\n",
       "    <tr>\n",
       "      <td>Fighting</td>\n",
       "      <td>6.690000</td>\n",
       "      <td>2.471553</td>\n",
       "    </tr>\n",
       "    <tr>\n",
       "      <td>Adventure</td>\n",
       "      <td>6.490000</td>\n",
       "      <td>2.397665</td>\n",
       "    </tr>\n",
       "    <tr>\n",
       "      <td>Strategy</td>\n",
       "      <td>1.790000</td>\n",
       "      <td>0.661297</td>\n",
       "    </tr>\n",
       "    <tr>\n",
       "      <td>Puzzle</td>\n",
       "      <td>0.520000</td>\n",
       "      <td>0.192109</td>\n",
       "    </tr>\n",
       "  </tbody>\n",
       "</table>\n",
       "</div>"
      ],
      "text/plain": [
       "               eu_sales          %\n",
       "genre                             \n",
       "Action        74.680000  27.589775\n",
       "Shooter       65.519997  24.205704\n",
       "Sports        45.730000  16.894487\n",
       "Role-Playing  28.170000  10.407123\n",
       "Racing        14.130000   5.220186\n",
       "Misc          12.860000   4.750998\n",
       "Simulation     7.300000   2.696912\n",
       "Platform       6.800000   2.512192\n",
       "Fighting       6.690000   2.471553\n",
       "Adventure      6.490000   2.397665\n",
       "Strategy       1.790000   0.661297\n",
       "Puzzle         0.520000   0.192109"
      ]
     },
     "execution_count": 44,
     "metadata": {},
     "output_type": "execute_result"
    }
   ],
   "source": [
    "sales_barplot(regional('eu_sales', 'genre')['eu_sales'].head(), 'Europe Sales by Genre')\n",
    "regional('eu_sales', 'genre')"
   ]
  },
  {
   "cell_type": "markdown",
   "metadata": {},
   "source": [
    "The sales by genre in Europe are very similar to those in North America. One difference is that action has a larger market share than shooter, but both are around a quarter, like in North America. The next two, sports and RPG, has almost the same shares as in North America, 17% and 10%."
   ]
  },
  {
   "cell_type": "code",
   "execution_count": 45,
   "metadata": {},
   "outputs": [
    {
     "data": {
      "image/png": "[encoded data removed]",
      "text/plain": [
       "<Figure size 576x360 with 1 Axes>"
      ]
     },
     "metadata": {
      "needs_background": "light"
     },
     "output_type": "display_data"
    },
    {
     "data": {
      "text/html": [
       "<div>\n",
       "<style scoped>\n",
       "    .dataframe tbody tr th:only-of-type {\n",
       "        vertical-align: middle;\n",
       "    }\n",
       "\n",
       "    .dataframe tbody tr th {\n",
       "        vertical-align: top;\n",
       "    }\n",
       "\n",
       "    .dataframe thead th {\n",
       "        text-align: right;\n",
       "    }\n",
       "</style>\n",
       "<table border=\"1\" class=\"dataframe\">\n",
       "  <thead>\n",
       "    <tr style=\"text-align: right;\">\n",
       "      <th></th>\n",
       "      <th>eu_sales</th>\n",
       "      <th>%</th>\n",
       "    </tr>\n",
       "    <tr>\n",
       "      <th>rating</th>\n",
       "      <th></th>\n",
       "      <th></th>\n",
       "    </tr>\n",
       "  </thead>\n",
       "  <tbody>\n",
       "    <tr>\n",
       "      <td>RP</td>\n",
       "      <td>58.950001</td>\n",
       "      <td>21.778484</td>\n",
       "    </tr>\n",
       "    <tr>\n",
       "      <td>E</td>\n",
       "      <td>58.060001</td>\n",
       "      <td>21.449684</td>\n",
       "    </tr>\n",
       "    <tr>\n",
       "      <td>E10+</td>\n",
       "      <td>26.160000</td>\n",
       "      <td>9.664549</td>\n",
       "    </tr>\n",
       "    <tr>\n",
       "      <td>T</td>\n",
       "      <td>34.070000</td>\n",
       "      <td>12.586819</td>\n",
       "    </tr>\n",
       "    <tr>\n",
       "      <td>M</td>\n",
       "      <td>93.440002</td>\n",
       "      <td>34.520470</td>\n",
       "    </tr>\n",
       "  </tbody>\n",
       "</table>\n",
       "</div>"
      ],
      "text/plain": [
       "         eu_sales          %\n",
       "rating                      \n",
       "RP      58.950001  21.778484\n",
       "E       58.060001  21.449684\n",
       "E10+    26.160000   9.664549\n",
       "T       34.070000  12.586819\n",
       "M       93.440002  34.520470"
      ]
     },
     "execution_count": 45,
     "metadata": {},
     "output_type": "execute_result"
    }
   ],
   "source": [
    "sales_barplot(reg_rating('eu_sales')['eu_sales'], 'Europe Sales by Rating')\n",
    "reg_rating('eu_sales')"
   ]
  },
  {
   "cell_type": "markdown",
   "metadata": {},
   "source": [
    "Like with genres, the division of sales by ESRB rating in Europe is almost the same as in North America."
   ]
  },
  {
   "cell_type": "markdown",
   "metadata": {},
   "source": [
    "### Japan"
   ]
  },
  {
   "cell_type": "code",
   "execution_count": 46,
   "metadata": {},
   "outputs": [
    {
     "data": {
      "image/png": "[encoded data removed]",
      "text/plain": [
       "<Figure size 576x360 with 1 Axes>"
      ]
     },
     "metadata": {
      "needs_background": "light"
     },
     "output_type": "display_data"
    },
    {
     "data": {
      "text/html": [
       "<div>\n",
       "<style scoped>\n",
       "    .dataframe tbody tr th:only-of-type {\n",
       "        vertical-align: middle;\n",
       "    }\n",
       "\n",
       "    .dataframe tbody tr th {\n",
       "        vertical-align: top;\n",
       "    }\n",
       "\n",
       "    .dataframe thead th {\n",
       "        text-align: right;\n",
       "    }\n",
       "</style>\n",
       "<table border=\"1\" class=\"dataframe\">\n",
       "  <thead>\n",
       "    <tr style=\"text-align: right;\">\n",
       "      <th></th>\n",
       "      <th>jp_sales</th>\n",
       "      <th>%</th>\n",
       "    </tr>\n",
       "    <tr>\n",
       "      <th>platform</th>\n",
       "      <th></th>\n",
       "      <th></th>\n",
       "    </tr>\n",
       "  </thead>\n",
       "  <tbody>\n",
       "    <tr>\n",
       "      <td>3DS</td>\n",
       "      <td>44.240002</td>\n",
       "      <td>47.523899</td>\n",
       "    </tr>\n",
       "    <tr>\n",
       "      <td>PS4</td>\n",
       "      <td>15.020000</td>\n",
       "      <td>16.134922</td>\n",
       "    </tr>\n",
       "    <tr>\n",
       "      <td>PSV</td>\n",
       "      <td>14.540000</td>\n",
       "      <td>15.619293</td>\n",
       "    </tr>\n",
       "    <tr>\n",
       "      <td>PS3</td>\n",
       "      <td>11.220000</td>\n",
       "      <td>12.052852</td>\n",
       "    </tr>\n",
       "    <tr>\n",
       "      <td>WiiU</td>\n",
       "      <td>7.310000</td>\n",
       "      <td>7.852615</td>\n",
       "    </tr>\n",
       "    <tr>\n",
       "      <td>PSP</td>\n",
       "      <td>0.360000</td>\n",
       "      <td>0.386723</td>\n",
       "    </tr>\n",
       "    <tr>\n",
       "      <td>XOne</td>\n",
       "      <td>0.320000</td>\n",
       "      <td>0.343753</td>\n",
       "    </tr>\n",
       "    <tr>\n",
       "      <td>X360</td>\n",
       "      <td>0.080000</td>\n",
       "      <td>0.085938</td>\n",
       "    </tr>\n",
       "    <tr>\n",
       "      <td>PC</td>\n",
       "      <td>0.000000</td>\n",
       "      <td>0.000000</td>\n",
       "    </tr>\n",
       "    <tr>\n",
       "      <td>Wii</td>\n",
       "      <td>0.000000</td>\n",
       "      <td>0.000000</td>\n",
       "    </tr>\n",
       "  </tbody>\n",
       "</table>\n",
       "</div>"
      ],
      "text/plain": [
       "           jp_sales          %\n",
       "platform                      \n",
       "3DS       44.240002  47.523899\n",
       "PS4       15.020000  16.134922\n",
       "PSV       14.540000  15.619293\n",
       "PS3       11.220000  12.052852\n",
       "WiiU       7.310000   7.852615\n",
       "PSP        0.360000   0.386723\n",
       "XOne       0.320000   0.343753\n",
       "X360       0.080000   0.085938\n",
       "PC         0.000000   0.000000\n",
       "Wii        0.000000   0.000000"
      ]
     },
     "execution_count": 46,
     "metadata": {},
     "output_type": "execute_result"
    }
   ],
   "source": [
    "sales_barplot(regional('jp_sales', 'platform')['jp_sales'].head(), 'Japan Sales by Platform')\n",
    "regional('jp_sales', 'platform')"
   ]
  },
  {
   "cell_type": "markdown",
   "metadata": {},
   "source": [
    "The Japanese are loyal to their local brands. Almost half of the market is occupied by Nintendo 3DS games. Next are the Sony platforms: Playstation 4, Playstation Vita and Playstation 3 (16%, 16%, 12%), followed by the Nintendo WiiU (8%). The Xbox One games didn't even make it to half of a single percent in Japan."
   ]
  },
  {
   "cell_type": "code",
   "execution_count": 47,
   "metadata": {},
   "outputs": [
    {
     "data": {
      "image/png": "[encoded data removed]",
      "text/plain": [
       "<Figure size 576x360 with 1 Axes>"
      ]
     },
     "metadata": {
      "needs_background": "light"
     },
     "output_type": "display_data"
    },
    {
     "data": {
      "text/html": [
       "<div>\n",
       "<style scoped>\n",
       "    .dataframe tbody tr th:only-of-type {\n",
       "        vertical-align: middle;\n",
       "    }\n",
       "\n",
       "    .dataframe tbody tr th {\n",
       "        vertical-align: top;\n",
       "    }\n",
       "\n",
       "    .dataframe thead th {\n",
       "        text-align: right;\n",
       "    }\n",
       "</style>\n",
       "<table border=\"1\" class=\"dataframe\">\n",
       "  <thead>\n",
       "    <tr style=\"text-align: right;\">\n",
       "      <th></th>\n",
       "      <th>jp_sales</th>\n",
       "      <th>%</th>\n",
       "    </tr>\n",
       "    <tr>\n",
       "      <th>genre</th>\n",
       "      <th></th>\n",
       "      <th></th>\n",
       "    </tr>\n",
       "  </thead>\n",
       "  <tbody>\n",
       "    <tr>\n",
       "      <td>Role-Playing</td>\n",
       "      <td>31.16</td>\n",
       "      <td>33.472984</td>\n",
       "    </tr>\n",
       "    <tr>\n",
       "      <td>Action</td>\n",
       "      <td>29.58</td>\n",
       "      <td>31.775702</td>\n",
       "    </tr>\n",
       "    <tr>\n",
       "      <td>Fighting</td>\n",
       "      <td>6.37</td>\n",
       "      <td>6.842841</td>\n",
       "    </tr>\n",
       "    <tr>\n",
       "      <td>Misc</td>\n",
       "      <td>5.61</td>\n",
       "      <td>6.026426</td>\n",
       "    </tr>\n",
       "    <tr>\n",
       "      <td>Shooter</td>\n",
       "      <td>4.87</td>\n",
       "      <td>5.231496</td>\n",
       "    </tr>\n",
       "    <tr>\n",
       "      <td>Adventure</td>\n",
       "      <td>3.60</td>\n",
       "      <td>3.867225</td>\n",
       "    </tr>\n",
       "    <tr>\n",
       "      <td>Sports</td>\n",
       "      <td>3.26</td>\n",
       "      <td>3.501987</td>\n",
       "    </tr>\n",
       "    <tr>\n",
       "      <td>Platform</td>\n",
       "      <td>2.69</td>\n",
       "      <td>2.889677</td>\n",
       "    </tr>\n",
       "    <tr>\n",
       "      <td>Simulation</td>\n",
       "      <td>2.31</td>\n",
       "      <td>2.481470</td>\n",
       "    </tr>\n",
       "    <tr>\n",
       "      <td>Racing</td>\n",
       "      <td>1.76</td>\n",
       "      <td>1.890643</td>\n",
       "    </tr>\n",
       "    <tr>\n",
       "      <td>Strategy</td>\n",
       "      <td>0.95</td>\n",
       "      <td>1.020518</td>\n",
       "    </tr>\n",
       "    <tr>\n",
       "      <td>Puzzle</td>\n",
       "      <td>0.93</td>\n",
       "      <td>0.999033</td>\n",
       "    </tr>\n",
       "  </tbody>\n",
       "</table>\n",
       "</div>"
      ],
      "text/plain": [
       "              jp_sales          %\n",
       "genre                            \n",
       "Role-Playing     31.16  33.472984\n",
       "Action           29.58  31.775702\n",
       "Fighting          6.37   6.842841\n",
       "Misc              5.61   6.026426\n",
       "Shooter           4.87   5.231496\n",
       "Adventure         3.60   3.867225\n",
       "Sports            3.26   3.501987\n",
       "Platform          2.69   2.889677\n",
       "Simulation        2.31   2.481470\n",
       "Racing            1.76   1.890643\n",
       "Strategy          0.95   1.020518\n",
       "Puzzle            0.93   0.999033"
      ]
     },
     "execution_count": 47,
     "metadata": {},
     "output_type": "execute_result"
    }
   ],
   "source": [
    "sales_barplot(regional('jp_sales', 'genre')['jp_sales'].head(), 'Japan Sales by Genre')\n",
    "regional('jp_sales', 'genre')"
   ]
  },
  {
   "cell_type": "markdown",
   "metadata": {},
   "source": [
    "In Japan, RPGs take the lead, followed closely by action, both take up around a third of the market each. All other genres are in the single digits, including shooter (5.2%) and sports (3.5%), that have been among the most profitable genres in North America and Europe."
   ]
  },
  {
   "cell_type": "code",
   "execution_count": 48,
   "metadata": {},
   "outputs": [
    {
     "data": {
      "image/png": "[encoded data removed]",
      "text/plain": [
       "<Figure size 576x360 with 1 Axes>"
      ]
     },
     "metadata": {
      "needs_background": "light"
     },
     "output_type": "display_data"
    },
    {
     "data": {
      "text/html": [
       "<div>\n",
       "<style scoped>\n",
       "    .dataframe tbody tr th:only-of-type {\n",
       "        vertical-align: middle;\n",
       "    }\n",
       "\n",
       "    .dataframe tbody tr th {\n",
       "        vertical-align: top;\n",
       "    }\n",
       "\n",
       "    .dataframe thead th {\n",
       "        text-align: right;\n",
       "    }\n",
       "</style>\n",
       "<table border=\"1\" class=\"dataframe\">\n",
       "  <thead>\n",
       "    <tr style=\"text-align: right;\">\n",
       "      <th></th>\n",
       "      <th>jp_sales</th>\n",
       "      <th>%</th>\n",
       "    </tr>\n",
       "    <tr>\n",
       "      <th>rating</th>\n",
       "      <th></th>\n",
       "      <th></th>\n",
       "    </tr>\n",
       "  </thead>\n",
       "  <tbody>\n",
       "    <tr>\n",
       "      <td>RP</td>\n",
       "      <td>56.900002</td>\n",
       "      <td>61.123646</td>\n",
       "    </tr>\n",
       "    <tr>\n",
       "      <td>E</td>\n",
       "      <td>8.940000</td>\n",
       "      <td>9.603608</td>\n",
       "    </tr>\n",
       "    <tr>\n",
       "      <td>E10+</td>\n",
       "      <td>4.460000</td>\n",
       "      <td>4.791062</td>\n",
       "    </tr>\n",
       "    <tr>\n",
       "      <td>T</td>\n",
       "      <td>14.780000</td>\n",
       "      <td>15.877107</td>\n",
       "    </tr>\n",
       "    <tr>\n",
       "      <td>M</td>\n",
       "      <td>8.010000</td>\n",
       "      <td>8.604576</td>\n",
       "    </tr>\n",
       "  </tbody>\n",
       "</table>\n",
       "</div>"
      ],
      "text/plain": [
       "         jp_sales          %\n",
       "rating                      \n",
       "RP      56.900002  61.123646\n",
       "E        8.940000   9.603608\n",
       "E10+     4.460000   4.791062\n",
       "T       14.780000  15.877107\n",
       "M        8.010000   8.604576"
      ]
     },
     "execution_count": 48,
     "metadata": {},
     "output_type": "execute_result"
    }
   ],
   "source": [
    "sales_barplot(reg_rating('jp_sales')['jp_sales'], 'Japan Sales by Rating')\n",
    "reg_rating('jp_sales')"
   ]
  },
  {
   "cell_type": "markdown",
   "metadata": {},
   "source": [
    "Less than 40% of the sales in Japan are for games rated by the ESRB. It seems that games that sell well in Japan are not rated by ESRB very often. It would be better not do draw any conclusions with so many missing ratings."
   ]
  },
  {
   "cell_type": "markdown",
   "metadata": {},
   "source": [
    "## Testing Hypotheses\n",
    "In this section we will T-test to following hypotheses:\n",
    "- Average user ratings of the Xbox One and PC platforms are the same.\n",
    "- Average user ratings for the Action and Sports genres are different.\n",
    "\n",
    "$\\alpha$ is set to 0.05. Like before, we only consider games released in 2014 or later. "
   ]
  },
  {
   "cell_type": "code",
   "execution_count": 49,
   "metadata": {},
   "outputs": [],
   "source": [
    "alpha = 0.05"
   ]
  },
  {
   "cell_type": "markdown",
   "metadata": {},
   "source": [
    "### Xbox One VS PC"
   ]
  },
  {
   "cell_type": "code",
   "execution_count": 50,
   "metadata": {},
   "outputs": [
    {
     "name": "stdout",
     "output_type": "stream",
     "text": [
      "p-value: 0.11601370428059007\n",
      "The null hypothesis cannot be rejected.\n"
     ]
    }
   ],
   "source": [
    "results = st.ttest_ind(\n",
    "    df.query('platform == \"XOne\" and year_of_release > 2013')['user_score'].dropna(), \n",
    "    df.query('platform == \"PC\" and year_of_release > 2013')['user_score'].dropna(), \n",
    "    equal_var=False, # we know from section 3.3\n",
    ")\n",
    "\n",
    "print('p-value:', results.pvalue)\n",
    "\n",
    "if results.pvalue < alpha:\n",
    "    print('The average user score for Xbox One games and PC games differs.')\n",
    "else:\n",
    "    print('The null hypothesis cannot be rejected.')"
   ]
  },
  {
   "cell_type": "markdown",
   "metadata": {},
   "source": [
    "This means that according to our sample only, we cannot reject the hypothesis that average user ratings of the Xbox One and PC platforms are the same."
   ]
  },
  {
   "cell_type": "markdown",
   "metadata": {},
   "source": [
    "### Action VS Sports"
   ]
  },
  {
   "cell_type": "code",
   "execution_count": 51,
   "metadata": {},
   "outputs": [
    {
     "name": "stdout",
     "output_type": "stream",
     "text": [
      "p-value: 1.1825449415241103e-14\n",
      "The average user score for action games and sports games differs.\n"
     ]
    }
   ],
   "source": [
    "results = st.ttest_ind(\n",
    "    df.query('genre == \"Action\" and year_of_release > 2013')['user_score'].dropna(), \n",
    "    df.query('genre == \"Sports\" and year_of_release > 2013')['user_score'].dropna(), \n",
    "    equal_var=False, # we know from section 3.4\n",
    ")\n",
    "\n",
    "print('p-value:', results.pvalue)\n",
    "\n",
    "if results.pvalue < alpha:\n",
    "    print('The average user score for action games and sports games differs.')\n",
    "else:\n",
    "    print('The null hypothesis cannot be rejected.')"
   ]
  },
  {
   "cell_type": "markdown",
   "metadata": {},
   "source": [
    "This means that according to our sample only, average user ratings of the action and sports genres significantly differ."
   ]
  },
  {
   "cell_type": "markdown",
   "metadata": {},
   "source": [
    "## Conclusions\n",
    "Entire dataset:\n",
    "\n",
    "- Less than a quarter of the games in the dataset were released in the last 5 years\n",
    "- The highest sales by any metric are in North America, followed by Europe, Japan, and lastly, 'Other'\n",
    "- Need for Speed: Most Wanted appeared in no less than 12(!) platforms, more than any other game.\n",
    "- The Playstation 2 is the platform with the most titles (2161 titles).\n",
    "- The most common genre is action (3369 titles).\n",
    "- The most common ESRB rating is E (everyone) (3990 titles).\n",
    "- the number of games released per year increased since the early 90's, peaked at over 1400 in 2008 and 2009, and dropped to 500-700 in the last 5 years.\n",
    "- The top 5 platforms of all time (by game sales) are Sony Playstation 2, Xbox 360, Sony Playstation 3, Nintendo Wii and Nintendo DS.\n",
    "- Gaming platforms have a several years life cycle, where game sales rise and fall. The all-time top platforms are already at the end of their life cycles.\n",
    "\n",
    "Games realeased in 2014 to 2016:\n",
    "- Playstation 4 and Xbox One are entering 2017 with an upward trajectory, with the former doing significantly better than the latter.\n",
    "- Most profit comes from a relatively small selection of very successful games. \n",
    "- Playstation 4 is the platform on which the average game is most profitable, followed by Xbox One and WiiU.\n",
    "- Playstation 4 is the platform with most games published, followed by Xbox One and Nintendo 3DS.\n",
    "- Critic scores for Playstation 4 are moderately correlated to sales, while user scores are not correlated at all.\n",
    "- The same games make more money on Playstation 4 than on Xbox One.\n",
    "- Shooter have been the most profitable genre per game by a large margin, followed by sports, while the most common was action.\n",
    "- In North America most of the market is occupied by similar shares of Playstation 4 and Xbox One, while the European market is dominated by Playstation 4 and the Japanese market by Nintendo 3DS.\n",
    "- North American and European audiences have similiar preferences for game genres: mainly shooter and action, secondly sports and RPG.\n",
    "- The Japanese game market is dominated by the RPG and action genres, with little room for other genres.\n",
    "- About a third of the market share in both North America and Europe is taken by M (mature) rated games.\n",
    "- Less than 40% of the sales in Japan are for games rated by the ESRB.\n",
    "- Average user ratings of the Xbox One and PC platforms do not significantly differ.\n",
    "- Average user ratings of the action and sports genres significantly differ."
   ]
  },
  {
   "cell_type": "code",
   "execution_count": null,
   "metadata": {},
   "outputs": [],
   "source": []
  }
 ],
 "metadata": {
  "ExecuteTimeLog": [
   {
    "duration": 1297,
    "start_time": "2021-11-15T19:27:39.516Z"
   },
   {
    "duration": 47,
    "start_time": "2021-11-15T19:28:28.240Z"
   },
   {
    "duration": 27,
    "start_time": "2021-11-15T19:28:37.807Z"
   },
   {
    "duration": 14,
    "start_time": "2021-11-15T19:31:23.335Z"
   },
   {
    "duration": 42,
    "start_time": "2021-11-15T19:31:36.766Z"
   },
   {
    "duration": 473,
    "start_time": "2021-11-15T19:33:48.197Z"
   },
   {
    "duration": 4,
    "start_time": "2021-11-15T19:34:49.612Z"
   },
   {
    "duration": 14,
    "start_time": "2021-11-15T19:34:57.222Z"
   },
   {
    "duration": 455,
    "start_time": "2021-11-15T19:36:19.803Z"
   },
   {
    "duration": 389,
    "start_time": "2021-11-15T19:36:53.841Z"
   },
   {
    "duration": 408,
    "start_time": "2021-11-15T19:38:38.119Z"
   },
   {
    "duration": 7,
    "start_time": "2021-11-15T19:38:48.964Z"
   },
   {
    "duration": 4,
    "start_time": "2021-11-15T19:40:30.410Z"
   },
   {
    "duration": 372,
    "start_time": "2021-11-15T19:41:20.445Z"
   },
   {
    "duration": 10,
    "start_time": "2021-11-15T19:41:43.645Z"
   },
   {
    "duration": 6,
    "start_time": "2021-11-15T19:41:46.516Z"
   },
   {
    "duration": 48,
    "start_time": "2021-11-15T19:41:56.283Z"
   },
   {
    "duration": 16,
    "start_time": "2021-11-15T19:44:50.675Z"
   },
   {
    "duration": 13,
    "start_time": "2021-11-15T19:45:25.345Z"
   },
   {
    "duration": 9517,
    "start_time": "2021-11-15T19:48:56.183Z"
   },
   {
    "duration": 7,
    "start_time": "2021-11-15T19:49:20.472Z"
   },
   {
    "duration": 128,
    "start_time": "2021-11-15T19:51:09.717Z"
   },
   {
    "duration": 369,
    "start_time": "2021-11-15T19:51:15.142Z"
   },
   {
    "duration": 6,
    "start_time": "2021-11-15T19:51:50.756Z"
   },
   {
    "duration": 451,
    "start_time": "2021-11-15T19:54:15.020Z"
   },
   {
    "duration": 374,
    "start_time": "2021-11-15T19:54:26.941Z"
   },
   {
    "duration": 384,
    "start_time": "2021-11-15T19:54:42.817Z"
   },
   {
    "duration": 22,
    "start_time": "2021-11-15T19:54:57.574Z"
   },
   {
    "duration": 543,
    "start_time": "2021-11-15T19:55:39.552Z"
   },
   {
    "duration": 420,
    "start_time": "2021-11-15T19:56:43.409Z"
   },
   {
    "duration": 287,
    "start_time": "2021-11-15T19:56:55.567Z"
   },
   {
    "duration": 277,
    "start_time": "2021-11-15T19:57:04.498Z"
   },
   {
    "duration": 384,
    "start_time": "2021-11-15T19:57:27.256Z"
   },
   {
    "duration": 520,
    "start_time": "2021-11-15T19:57:32.380Z"
   },
   {
    "duration": 145,
    "start_time": "2021-11-15T19:58:44.119Z"
   },
   {
    "duration": 496,
    "start_time": "2021-11-15T19:58:49.981Z"
   },
   {
    "duration": 5213,
    "start_time": "2021-11-15T20:03:25.473Z"
   },
   {
    "duration": 366,
    "start_time": "2021-11-15T20:03:42.450Z"
   },
   {
    "duration": 363,
    "start_time": "2021-11-15T20:06:27.832Z"
   },
   {
    "duration": 535,
    "start_time": "2021-11-15T20:06:34.690Z"
   },
   {
    "duration": 525,
    "start_time": "2021-11-15T20:10:29.136Z"
   },
   {
    "duration": 633,
    "start_time": "2021-11-15T20:10:58.514Z"
   },
   {
    "duration": 621,
    "start_time": "2021-11-15T20:11:08.485Z"
   },
   {
    "duration": 575,
    "start_time": "2021-11-15T20:11:21.849Z"
   },
   {
    "duration": 2006,
    "start_time": "2021-11-15T20:11:39.414Z"
   },
   {
    "duration": 694,
    "start_time": "2021-11-15T20:11:48.678Z"
   },
   {
    "duration": 4,
    "start_time": "2021-11-15T20:13:05.127Z"
   },
   {
    "duration": 1393,
    "start_time": "2021-11-17T17:02:49.131Z"
   },
   {
    "duration": 47,
    "start_time": "2021-11-17T17:02:50.527Z"
   },
   {
    "duration": 27,
    "start_time": "2021-11-17T17:02:50.577Z"
   },
   {
    "duration": 18,
    "start_time": "2021-11-17T17:02:50.607Z"
   },
   {
    "duration": 63,
    "start_time": "2021-11-17T17:02:50.627Z"
   },
   {
    "duration": 523,
    "start_time": "2021-11-17T17:02:50.693Z"
   },
   {
    "duration": -814,
    "start_time": "2021-11-17T17:02:52.033Z"
   },
   {
    "duration": -833,
    "start_time": "2021-11-17T17:02:52.053Z"
   },
   {
    "duration": -834,
    "start_time": "2021-11-17T17:02:52.055Z"
   },
   {
    "duration": -833,
    "start_time": "2021-11-17T17:02:52.056Z"
   },
   {
    "duration": -833,
    "start_time": "2021-11-17T17:02:52.057Z"
   },
   {
    "duration": -833,
    "start_time": "2021-11-17T17:02:52.058Z"
   },
   {
    "duration": -833,
    "start_time": "2021-11-17T17:02:52.059Z"
   },
   {
    "duration": 4,
    "start_time": "2021-11-17T17:03:20.745Z"
   },
   {
    "duration": 12,
    "start_time": "2021-11-17T17:03:23.506Z"
   },
   {
    "duration": 10,
    "start_time": "2021-11-17T17:03:25.884Z"
   },
   {
    "duration": 11,
    "start_time": "2021-11-17T17:05:10.224Z"
   },
   {
    "duration": 7,
    "start_time": "2021-11-17T17:05:12.755Z"
   },
   {
    "duration": 24,
    "start_time": "2021-11-17T17:06:02.734Z"
   },
   {
    "duration": 6,
    "start_time": "2021-11-17T17:07:45.847Z"
   },
   {
    "duration": 11,
    "start_time": "2021-11-17T17:08:58.189Z"
   },
   {
    "duration": 6,
    "start_time": "2021-11-17T17:09:03.638Z"
   },
   {
    "duration": 1313,
    "start_time": "2021-11-17T17:09:12.306Z"
   },
   {
    "duration": 47,
    "start_time": "2021-11-17T17:09:13.621Z"
   },
   {
    "duration": 25,
    "start_time": "2021-11-17T17:09:13.671Z"
   },
   {
    "duration": 14,
    "start_time": "2021-11-17T17:09:13.699Z"
   },
   {
    "duration": 68,
    "start_time": "2021-11-17T17:09:13.715Z"
   },
   {
    "duration": 3,
    "start_time": "2021-11-17T17:09:13.786Z"
   },
   {
    "duration": 9,
    "start_time": "2021-11-17T17:09:13.791Z"
   },
   {
    "duration": 5,
    "start_time": "2021-11-17T17:09:13.803Z"
   },
   {
    "duration": 6,
    "start_time": "2021-11-17T17:09:13.810Z"
   },
   {
    "duration": 15,
    "start_time": "2021-11-17T17:09:13.818Z"
   },
   {
    "duration": 9,
    "start_time": "2021-11-17T17:09:13.860Z"
   },
   {
    "duration": 16,
    "start_time": "2021-11-17T17:09:13.871Z"
   },
   {
    "duration": 4,
    "start_time": "2021-11-17T17:09:13.890Z"
   },
   {
    "duration": 24,
    "start_time": "2021-11-17T17:09:13.897Z"
   },
   {
    "duration": 626,
    "start_time": "2021-11-17T17:09:13.923Z"
   },
   {
    "duration": 13,
    "start_time": "2021-11-17T17:09:50.135Z"
   },
   {
    "duration": 9,
    "start_time": "2021-11-17T17:13:04.907Z"
   },
   {
    "duration": 21,
    "start_time": "2021-11-17T17:13:08.500Z"
   },
   {
    "duration": 16,
    "start_time": "2021-11-17T17:13:42.653Z"
   },
   {
    "duration": 617,
    "start_time": "2021-11-17T17:15:03.603Z"
   },
   {
    "duration": 583,
    "start_time": "2021-11-17T17:17:23.984Z"
   },
   {
    "duration": 134,
    "start_time": "2021-11-17T17:19:22.247Z"
   },
   {
    "duration": 10,
    "start_time": "2021-11-17T17:19:36.086Z"
   },
   {
    "duration": 590,
    "start_time": "2021-11-17T17:23:59.140Z"
   },
   {
    "duration": 437,
    "start_time": "2021-11-17T17:30:57.651Z"
   },
   {
    "duration": 512,
    "start_time": "2021-11-17T17:33:01.626Z"
   },
   {
    "duration": 453,
    "start_time": "2021-11-17T17:33:59.315Z"
   },
   {
    "duration": 1254,
    "start_time": "2021-11-17T17:35:29.721Z"
   },
   {
    "duration": 433,
    "start_time": "2021-11-17T17:35:33.600Z"
   },
   {
    "duration": 722,
    "start_time": "2021-11-17T17:36:32.684Z"
   },
   {
    "duration": 465,
    "start_time": "2021-11-17T17:36:57.642Z"
   },
   {
    "duration": 599,
    "start_time": "2021-11-17T17:37:39.826Z"
   },
   {
    "duration": 443,
    "start_time": "2021-11-17T17:38:14.777Z"
   },
   {
    "duration": 535,
    "start_time": "2021-11-17T17:43:28.474Z"
   },
   {
    "duration": 126,
    "start_time": "2021-11-17T17:49:55.589Z"
   },
   {
    "duration": 383,
    "start_time": "2021-11-17T17:50:02.914Z"
   },
   {
    "duration": 471,
    "start_time": "2021-11-17T17:51:31.316Z"
   },
   {
    "duration": 20,
    "start_time": "2021-11-17T17:51:48.740Z"
   },
   {
    "duration": 368,
    "start_time": "2021-11-17T17:52:55.369Z"
   },
   {
    "duration": 395,
    "start_time": "2021-11-17T17:53:49.941Z"
   },
   {
    "duration": 367,
    "start_time": "2021-11-17T17:54:01.936Z"
   },
   {
    "duration": 380,
    "start_time": "2021-11-17T17:54:09.343Z"
   },
   {
    "duration": 378,
    "start_time": "2021-11-17T18:29:26.595Z"
   },
   {
    "duration": 321,
    "start_time": "2021-11-17T18:29:40.090Z"
   },
   {
    "duration": 410,
    "start_time": "2021-11-17T18:30:30.067Z"
   },
   {
    "duration": 441,
    "start_time": "2021-11-17T18:32:14.104Z"
   },
   {
    "duration": 552,
    "start_time": "2021-11-17T18:33:59.141Z"
   },
   {
    "duration": 566,
    "start_time": "2021-11-17T18:34:06.578Z"
   },
   {
    "duration": 469,
    "start_time": "2021-11-17T18:35:53.023Z"
   },
   {
    "duration": 24,
    "start_time": "2021-11-17T18:37:28.317Z"
   },
   {
    "duration": 34,
    "start_time": "2021-11-17T18:39:53.940Z"
   },
   {
    "duration": 7,
    "start_time": "2021-11-17T18:40:09.674Z"
   },
   {
    "duration": 17,
    "start_time": "2021-11-17T18:40:12.822Z"
   },
   {
    "duration": 460,
    "start_time": "2021-11-17T18:40:16.511Z"
   },
   {
    "duration": 396,
    "start_time": "2021-11-17T18:51:17.278Z"
   },
   {
    "duration": 393,
    "start_time": "2021-11-17T18:51:45.512Z"
   },
   {
    "duration": 481,
    "start_time": "2021-11-17T18:53:03.921Z"
   },
   {
    "duration": 449,
    "start_time": "2021-11-17T19:01:46.710Z"
   },
   {
    "duration": 1147,
    "start_time": "2021-11-17T19:08:06.697Z"
   },
   {
    "duration": 1029,
    "start_time": "2021-11-17T19:08:14.833Z"
   },
   {
    "duration": 268,
    "start_time": "2021-11-17T19:09:55.425Z"
   },
   {
    "duration": 277,
    "start_time": "2021-11-17T19:11:15.361Z"
   },
   {
    "duration": 347,
    "start_time": "2021-11-17T19:13:03.325Z"
   },
   {
    "duration": 315,
    "start_time": "2021-11-17T19:17:18.011Z"
   },
   {
    "duration": 705,
    "start_time": "2021-11-17T19:17:39.840Z"
   },
   {
    "duration": 394,
    "start_time": "2021-11-17T19:17:52.373Z"
   },
   {
    "duration": 6,
    "start_time": "2021-11-17T19:21:03.012Z"
   },
   {
    "duration": 300,
    "start_time": "2021-11-17T19:21:04.719Z"
   },
   {
    "duration": 23,
    "start_time": "2021-11-17T19:24:29.762Z"
   },
   {
    "duration": 40,
    "start_time": "2021-11-17T19:24:36.927Z"
   },
   {
    "duration": 23,
    "start_time": "2021-11-17T19:24:46.238Z"
   },
   {
    "duration": 27,
    "start_time": "2021-11-17T19:25:05.269Z"
   },
   {
    "duration": 879,
    "start_time": "2021-11-17T19:25:46.545Z"
   },
   {
    "duration": 27,
    "start_time": "2021-11-17T19:26:18.287Z"
   },
   {
    "duration": 22,
    "start_time": "2021-11-17T19:27:05.678Z"
   },
   {
    "duration": 23,
    "start_time": "2021-11-17T19:28:55.740Z"
   },
   {
    "duration": 430,
    "start_time": "2021-11-17T19:34:55.426Z"
   },
   {
    "duration": 10,
    "start_time": "2021-11-17T19:34:59.947Z"
   },
   {
    "duration": 362,
    "start_time": "2021-11-17T19:35:00.609Z"
   },
   {
    "duration": 491,
    "start_time": "2021-11-17T19:36:53.178Z"
   },
   {
    "duration": 373,
    "start_time": "2021-11-17T19:37:40.310Z"
   },
   {
    "duration": 503,
    "start_time": "2021-11-17T19:37:40.888Z"
   },
   {
    "duration": 377,
    "start_time": "2021-11-17T19:37:52.361Z"
   },
   {
    "duration": 11,
    "start_time": "2021-11-17T19:38:07.391Z"
   },
   {
    "duration": 9,
    "start_time": "2021-11-17T19:38:37.638Z"
   },
   {
    "duration": 515,
    "start_time": "2021-11-17T19:38:45.157Z"
   },
   {
    "duration": 610,
    "start_time": "2021-11-17T19:41:42.104Z"
   },
   {
    "duration": 5,
    "start_time": "2021-11-17T19:45:22.004Z"
   },
   {
    "duration": 7,
    "start_time": "2021-11-17T19:45:39.262Z"
   },
   {
    "duration": 126,
    "start_time": "2021-11-17T19:48:48.828Z"
   },
   {
    "duration": 127,
    "start_time": "2021-11-17T19:49:26.975Z"
   },
   {
    "duration": 7,
    "start_time": "2021-11-17T19:49:49.975Z"
   },
   {
    "duration": 8,
    "start_time": "2021-11-17T19:50:00.523Z"
   },
   {
    "duration": 316,
    "start_time": "2021-11-17T19:54:50.006Z"
   },
   {
    "duration": 328,
    "start_time": "2021-11-17T19:55:00.018Z"
   },
   {
    "duration": 297,
    "start_time": "2021-11-17T19:55:15.579Z"
   },
   {
    "duration": 381,
    "start_time": "2021-11-17T19:55:38.619Z"
   },
   {
    "duration": 286,
    "start_time": "2021-11-17T19:55:50.920Z"
   },
   {
    "duration": 1351,
    "start_time": "2021-11-19T07:08:59.200Z"
   },
   {
    "duration": 46,
    "start_time": "2021-11-19T07:09:00.554Z"
   },
   {
    "duration": 27,
    "start_time": "2021-11-19T07:09:00.603Z"
   },
   {
    "duration": 15,
    "start_time": "2021-11-19T07:09:00.633Z"
   },
   {
    "duration": 71,
    "start_time": "2021-11-19T07:09:00.650Z"
   },
   {
    "duration": 4,
    "start_time": "2021-11-19T07:09:00.723Z"
   },
   {
    "duration": 21,
    "start_time": "2021-11-19T07:09:00.729Z"
   },
   {
    "duration": 36,
    "start_time": "2021-11-19T07:09:00.752Z"
   },
   {
    "duration": 22,
    "start_time": "2021-11-19T07:09:00.792Z"
   },
   {
    "duration": 17,
    "start_time": "2021-11-19T07:09:00.818Z"
   },
   {
    "duration": 8,
    "start_time": "2021-11-19T07:09:00.838Z"
   },
   {
    "duration": 21,
    "start_time": "2021-11-19T07:09:00.850Z"
   },
   {
    "duration": 565,
    "start_time": "2021-11-19T07:09:00.875Z"
   },
   {
    "duration": -131,
    "start_time": "2021-11-19T07:09:01.574Z"
   },
   {
    "duration": -229,
    "start_time": "2021-11-19T07:09:01.674Z"
   },
   {
    "duration": -240,
    "start_time": "2021-11-19T07:09:01.686Z"
   },
   {
    "duration": -240,
    "start_time": "2021-11-19T07:09:01.688Z"
   },
   {
    "duration": -240,
    "start_time": "2021-11-19T07:09:01.689Z"
   },
   {
    "duration": -240,
    "start_time": "2021-11-19T07:09:01.691Z"
   },
   {
    "duration": -241,
    "start_time": "2021-11-19T07:09:01.693Z"
   },
   {
    "duration": -240,
    "start_time": "2021-11-19T07:09:01.694Z"
   },
   {
    "duration": -240,
    "start_time": "2021-11-19T07:09:01.695Z"
   },
   {
    "duration": -239,
    "start_time": "2021-11-19T07:09:01.696Z"
   },
   {
    "duration": -240,
    "start_time": "2021-11-19T07:09:01.698Z"
   },
   {
    "duration": -239,
    "start_time": "2021-11-19T07:09:01.699Z"
   },
   {
    "duration": -239,
    "start_time": "2021-11-19T07:09:01.700Z"
   },
   {
    "duration": -238,
    "start_time": "2021-11-19T07:09:01.701Z"
   },
   {
    "duration": -239,
    "start_time": "2021-11-19T07:09:01.703Z"
   },
   {
    "duration": -239,
    "start_time": "2021-11-19T07:09:01.704Z"
   },
   {
    "duration": -238,
    "start_time": "2021-11-19T07:09:01.705Z"
   },
   {
    "duration": -238,
    "start_time": "2021-11-19T07:09:01.706Z"
   },
   {
    "duration": -239,
    "start_time": "2021-11-19T07:09:01.708Z"
   },
   {
    "duration": -240,
    "start_time": "2021-11-19T07:09:01.710Z"
   },
   {
    "duration": 298,
    "start_time": "2021-11-19T07:11:59.491Z"
   },
   {
    "duration": 16,
    "start_time": "2021-11-19T07:12:19.975Z"
   },
   {
    "duration": 10,
    "start_time": "2021-11-19T07:12:39.522Z"
   },
   {
    "duration": 7,
    "start_time": "2021-11-19T07:13:06.639Z"
   },
   {
    "duration": 7,
    "start_time": "2021-11-19T07:13:40.805Z"
   },
   {
    "duration": 7,
    "start_time": "2021-11-19T07:14:00.294Z"
   },
   {
    "duration": 370,
    "start_time": "2021-11-19T07:14:52.925Z"
   },
   {
    "duration": 329,
    "start_time": "2021-11-19T07:15:01.933Z"
   },
   {
    "duration": 7,
    "start_time": "2021-11-19T07:15:58.997Z"
   },
   {
    "duration": 8,
    "start_time": "2021-11-19T07:16:01.609Z"
   },
   {
    "duration": 23,
    "start_time": "2021-11-19T07:16:03.438Z"
   },
   {
    "duration": 18,
    "start_time": "2021-11-19T07:16:13.069Z"
   },
   {
    "duration": 355,
    "start_time": "2021-11-19T07:21:27.218Z"
   },
   {
    "duration": 20,
    "start_time": "2021-11-19T07:24:02.165Z"
   },
   {
    "duration": 1317,
    "start_time": "2021-11-19T07:27:35.323Z"
   },
   {
    "duration": 47,
    "start_time": "2021-11-19T07:27:36.643Z"
   },
   {
    "duration": 26,
    "start_time": "2021-11-19T07:27:36.692Z"
   },
   {
    "duration": 15,
    "start_time": "2021-11-19T07:27:36.720Z"
   },
   {
    "duration": 67,
    "start_time": "2021-11-19T07:27:36.737Z"
   },
   {
    "duration": 4,
    "start_time": "2021-11-19T07:27:36.806Z"
   },
   {
    "duration": 11,
    "start_time": "2021-11-19T07:27:36.813Z"
   },
   {
    "duration": 19,
    "start_time": "2021-11-19T07:27:36.828Z"
   },
   {
    "duration": 44,
    "start_time": "2021-11-19T07:27:36.850Z"
   },
   {
    "duration": 10,
    "start_time": "2021-11-19T07:27:36.897Z"
   },
   {
    "duration": 5,
    "start_time": "2021-11-19T07:27:36.909Z"
   },
   {
    "duration": 8,
    "start_time": "2021-11-19T07:27:36.916Z"
   },
   {
    "duration": 10,
    "start_time": "2021-11-19T07:27:36.927Z"
   },
   {
    "duration": 62,
    "start_time": "2021-11-19T07:27:36.940Z"
   },
   {
    "duration": 12,
    "start_time": "2021-11-19T07:27:37.005Z"
   },
   {
    "duration": 645,
    "start_time": "2021-11-19T07:27:37.020Z"
   },
   {
    "duration": 546,
    "start_time": "2021-11-19T07:27:37.668Z"
   },
   {
    "duration": 453,
    "start_time": "2021-11-19T07:27:38.216Z"
   },
   {
    "duration": 30,
    "start_time": "2021-11-19T07:27:38.672Z"
   },
   {
    "duration": 13,
    "start_time": "2021-11-19T07:27:38.705Z"
   },
   {
    "duration": 480,
    "start_time": "2021-11-19T07:27:38.721Z"
   },
   {
    "duration": 371,
    "start_time": "2021-11-19T07:27:39.203Z"
   },
   {
    "duration": 439,
    "start_time": "2021-11-19T07:27:39.584Z"
   },
   {
    "duration": 5,
    "start_time": "2021-11-19T07:27:40.027Z"
   },
   {
    "duration": 322,
    "start_time": "2021-11-19T07:27:40.034Z"
   },
   {
    "duration": 37,
    "start_time": "2021-11-19T07:27:40.360Z"
   },
   {
    "duration": 10,
    "start_time": "2021-11-19T07:27:40.400Z"
   },
   {
    "duration": 570,
    "start_time": "2021-11-19T07:27:40.412Z"
   },
   {
    "duration": 6,
    "start_time": "2021-11-19T07:27:40.984Z"
   },
   {
    "duration": 320,
    "start_time": "2021-11-19T07:27:40.992Z"
   },
   {
    "duration": 313,
    "start_time": "2021-11-19T07:27:41.314Z"
   },
   {
    "duration": 297,
    "start_time": "2021-11-19T07:27:41.629Z"
   },
   {
    "duration": 28,
    "start_time": "2021-11-19T07:46:40.502Z"
   },
   {
    "duration": 12,
    "start_time": "2021-11-19T07:47:06.607Z"
   },
   {
    "duration": 24,
    "start_time": "2021-11-19T07:47:10.365Z"
   },
   {
    "duration": 14,
    "start_time": "2021-11-19T07:47:15.207Z"
   },
   {
    "duration": 59,
    "start_time": "2021-11-19T07:47:42.239Z"
   },
   {
    "duration": 12,
    "start_time": "2021-11-19T07:55:12.591Z"
   },
   {
    "duration": 66,
    "start_time": "2021-11-19T07:56:34.737Z"
   },
   {
    "duration": 89,
    "start_time": "2021-11-19T07:56:39.453Z"
   },
   {
    "duration": 70,
    "start_time": "2021-11-19T07:56:43.505Z"
   },
   {
    "duration": 510,
    "start_time": "2021-11-19T09:03:58.892Z"
   },
   {
    "duration": 376,
    "start_time": "2021-11-19T09:04:21.033Z"
   },
   {
    "duration": 44,
    "start_time": "2021-11-19T09:04:43.763Z"
   },
   {
    "duration": 62,
    "start_time": "2021-11-19T09:06:04.894Z"
   },
   {
    "duration": 517,
    "start_time": "2021-11-19T09:11:30.400Z"
   },
   {
    "duration": 25,
    "start_time": "2021-11-19T09:11:49.092Z"
   },
   {
    "duration": 787,
    "start_time": "2021-11-19T09:13:51.154Z"
   },
   {
    "duration": 364,
    "start_time": "2021-11-19T09:14:53.688Z"
   },
   {
    "duration": 38,
    "start_time": "2021-11-19T09:15:10.633Z"
   },
   {
    "duration": 40,
    "start_time": "2021-11-19T09:15:42.475Z"
   },
   {
    "duration": 426,
    "start_time": "2021-11-19T09:15:55.924Z"
   },
   {
    "duration": 9,
    "start_time": "2021-11-19T09:16:21.037Z"
   },
   {
    "duration": 378,
    "start_time": "2021-11-19T09:16:27.855Z"
   },
   {
    "duration": 22,
    "start_time": "2021-11-19T09:16:52.542Z"
   },
   {
    "duration": 83,
    "start_time": "2021-11-19T09:16:59.235Z"
   },
   {
    "duration": 41,
    "start_time": "2021-11-19T09:17:21.373Z"
   },
   {
    "duration": 42,
    "start_time": "2021-11-19T09:17:50.293Z"
   },
   {
    "duration": 52,
    "start_time": "2021-11-19T09:18:11.366Z"
   },
   {
    "duration": 445,
    "start_time": "2021-11-19T09:18:53.991Z"
   },
   {
    "duration": 6853,
    "start_time": "2021-11-19T09:19:01.171Z"
   },
   {
    "duration": 7041,
    "start_time": "2021-11-19T09:19:32.513Z"
   },
   {
    "duration": 6516,
    "start_time": "2021-11-19T09:19:54.791Z"
   },
   {
    "duration": 355,
    "start_time": "2021-11-19T09:27:54.822Z"
   },
   {
    "duration": 7357,
    "start_time": "2021-11-19T09:30:06.357Z"
   },
   {
    "duration": 45,
    "start_time": "2021-11-19T09:30:30.707Z"
   },
   {
    "duration": 34,
    "start_time": "2021-11-19T09:30:54.109Z"
   },
   {
    "duration": 31,
    "start_time": "2021-11-19T09:32:19.593Z"
   },
   {
    "duration": 39,
    "start_time": "2021-11-19T09:33:23.556Z"
   },
   {
    "duration": 40,
    "start_time": "2021-11-19T09:34:29.068Z"
   },
   {
    "duration": 39,
    "start_time": "2021-11-19T09:34:36.051Z"
   },
   {
    "duration": 2511,
    "start_time": "2021-11-19T09:34:53.066Z"
   },
   {
    "duration": 2849,
    "start_time": "2021-11-19T09:35:28.807Z"
   },
   {
    "duration": 2868,
    "start_time": "2021-11-19T09:35:49.398Z"
   },
   {
    "duration": 2861,
    "start_time": "2021-11-19T09:36:29.987Z"
   },
   {
    "duration": 4248,
    "start_time": "2021-11-19T09:39:49.282Z"
   },
   {
    "duration": 3901,
    "start_time": "2021-11-19T09:41:56.481Z"
   },
   {
    "duration": 20,
    "start_time": "2021-11-19T09:54:41.561Z"
   },
   {
    "duration": 36,
    "start_time": "2021-11-19T09:57:30.805Z"
   },
   {
    "duration": 48,
    "start_time": "2021-11-19T09:57:46.380Z"
   },
   {
    "duration": 42,
    "start_time": "2021-11-19T09:57:59.499Z"
   },
   {
    "duration": 320,
    "start_time": "2021-11-19T10:00:13.794Z"
   },
   {
    "duration": 92,
    "start_time": "2021-11-19T10:00:35.771Z"
   },
   {
    "duration": 5,
    "start_time": "2021-11-19T10:06:37.297Z"
   },
   {
    "duration": 19,
    "start_time": "2021-11-19T10:06:39.529Z"
   },
   {
    "duration": 23,
    "start_time": "2021-11-19T10:06:40.986Z"
   },
   {
    "duration": 22,
    "start_time": "2021-11-19T10:06:43.517Z"
   },
   {
    "duration": 22,
    "start_time": "2021-11-19T10:06:44.314Z"
   },
   {
    "duration": 21,
    "start_time": "2021-11-19T10:06:45.352Z"
   },
   {
    "duration": 21,
    "start_time": "2021-11-19T10:06:45.807Z"
   },
   {
    "duration": 7,
    "start_time": "2021-11-19T10:12:19.101Z"
   },
   {
    "duration": 1398,
    "start_time": "2021-11-19T13:34:47.301Z"
   },
   {
    "duration": 48,
    "start_time": "2021-11-19T13:34:49.457Z"
   },
   {
    "duration": 5,
    "start_time": "2021-11-19T13:34:57.485Z"
   },
   {
    "duration": 14,
    "start_time": "2021-11-19T13:35:00.365Z"
   },
   {
    "duration": 34,
    "start_time": "2021-11-19T13:35:02.710Z"
   },
   {
    "duration": 12,
    "start_time": "2021-11-19T13:35:07.745Z"
   },
   {
    "duration": 6,
    "start_time": "2021-11-19T13:35:09.053Z"
   },
   {
    "duration": 9,
    "start_time": "2021-11-19T13:35:10.399Z"
   },
   {
    "duration": 10,
    "start_time": "2021-11-19T13:35:12.861Z"
   },
   {
    "duration": 11,
    "start_time": "2021-11-19T13:35:37.731Z"
   },
   {
    "duration": 23,
    "start_time": "2021-11-19T13:40:44.510Z"
   },
   {
    "duration": 124,
    "start_time": "2021-11-19T13:45:16.488Z"
   },
   {
    "duration": 17,
    "start_time": "2021-11-19T13:45:32.597Z"
   },
   {
    "duration": 10,
    "start_time": "2021-11-19T13:45:37.211Z"
   },
   {
    "duration": 489,
    "start_time": "2021-11-19T13:47:06.384Z"
   },
   {
    "duration": 45,
    "start_time": "2021-11-19T14:01:48.035Z"
   },
   {
    "duration": 13,
    "start_time": "2021-11-19T14:29:32.144Z"
   },
   {
    "duration": 10,
    "start_time": "2021-11-19T14:29:38.114Z"
   },
   {
    "duration": 24,
    "start_time": "2021-11-19T14:29:39.353Z"
   },
   {
    "duration": 17,
    "start_time": "2021-11-19T14:29:49.754Z"
   },
   {
    "duration": 31,
    "start_time": "2021-11-19T14:30:15.272Z"
   },
   {
    "duration": 20,
    "start_time": "2021-11-19T14:30:20.788Z"
   },
   {
    "duration": 1493,
    "start_time": "2021-11-19T14:34:06.731Z"
   },
   {
    "duration": 48,
    "start_time": "2021-11-19T14:34:08.951Z"
   },
   {
    "duration": 29,
    "start_time": "2021-11-19T14:34:10.122Z"
   },
   {
    "duration": 15,
    "start_time": "2021-11-19T14:34:12.644Z"
   },
   {
    "duration": 47,
    "start_time": "2021-11-19T14:34:13.761Z"
   },
   {
    "duration": 52,
    "start_time": "2021-11-19T14:34:14.646Z"
   },
   {
    "duration": 5,
    "start_time": "2021-11-19T14:34:21.663Z"
   },
   {
    "duration": 12,
    "start_time": "2021-11-19T14:34:22.545Z"
   },
   {
    "duration": 32,
    "start_time": "2021-11-19T14:34:24.420Z"
   },
   {
    "duration": 12,
    "start_time": "2021-11-19T14:34:30.587Z"
   },
   {
    "duration": 5,
    "start_time": "2021-11-19T14:34:34.532Z"
   },
   {
    "duration": 9,
    "start_time": "2021-11-19T14:34:39.704Z"
   },
   {
    "duration": 14,
    "start_time": "2021-11-19T14:34:41.226Z"
   },
   {
    "duration": 28,
    "start_time": "2021-11-19T14:34:44.696Z"
   },
   {
    "duration": 16,
    "start_time": "2021-11-19T14:36:29.533Z"
   },
   {
    "duration": 20,
    "start_time": "2021-11-19T14:36:31.448Z"
   },
   {
    "duration": 10,
    "start_time": "2021-11-19T14:36:33.280Z"
   },
   {
    "duration": 24,
    "start_time": "2021-11-19T14:36:34.770Z"
   },
   {
    "duration": 17,
    "start_time": "2021-11-19T14:36:48.254Z"
   },
   {
    "duration": 407,
    "start_time": "2021-11-19T15:03:28.164Z"
   },
   {
    "duration": 300,
    "start_time": "2021-11-19T15:04:09.032Z"
   },
   {
    "duration": 296,
    "start_time": "2021-11-19T15:04:16.401Z"
   },
   {
    "duration": 311,
    "start_time": "2021-11-19T15:04:21.095Z"
   },
   {
    "duration": 1023,
    "start_time": "2021-11-20T06:23:51.310Z"
   },
   {
    "duration": 41,
    "start_time": "2021-11-20T06:23:52.335Z"
   },
   {
    "duration": 20,
    "start_time": "2021-11-20T06:23:52.379Z"
   },
   {
    "duration": 11,
    "start_time": "2021-11-20T06:23:52.401Z"
   },
   {
    "duration": 31,
    "start_time": "2021-11-20T06:23:52.414Z"
   },
   {
    "duration": 53,
    "start_time": "2021-11-20T06:23:52.446Z"
   },
   {
    "duration": 3,
    "start_time": "2021-11-20T06:23:52.501Z"
   },
   {
    "duration": 11,
    "start_time": "2021-11-20T06:23:52.505Z"
   },
   {
    "duration": 21,
    "start_time": "2021-11-20T06:23:52.519Z"
   },
   {
    "duration": 8,
    "start_time": "2021-11-20T06:23:52.542Z"
   },
   {
    "duration": 5,
    "start_time": "2021-11-20T06:23:52.551Z"
   },
   {
    "duration": 33,
    "start_time": "2021-11-20T06:23:52.558Z"
   },
   {
    "duration": 7,
    "start_time": "2021-11-20T06:23:52.593Z"
   },
   {
    "duration": 29,
    "start_time": "2021-11-20T06:23:52.601Z"
   },
   {
    "duration": 13,
    "start_time": "2021-11-20T06:23:52.632Z"
   },
   {
    "duration": 24,
    "start_time": "2021-11-20T06:23:52.647Z"
   },
   {
    "duration": 11,
    "start_time": "2021-11-20T06:23:52.672Z"
   },
   {
    "duration": 30,
    "start_time": "2021-11-20T06:23:52.685Z"
   },
   {
    "duration": 11,
    "start_time": "2021-11-20T06:23:52.717Z"
   },
   {
    "duration": 365,
    "start_time": "2021-11-20T06:23:52.729Z"
   },
   {
    "duration": 333,
    "start_time": "2021-11-20T06:23:53.096Z"
   },
   {
    "duration": 278,
    "start_time": "2021-11-20T06:23:53.431Z"
   },
   {
    "duration": 17,
    "start_time": "2021-11-20T06:23:53.711Z"
   },
   {
    "duration": 7,
    "start_time": "2021-11-20T06:23:53.730Z"
   },
   {
    "duration": 295,
    "start_time": "2021-11-20T06:23:53.738Z"
   },
   {
    "duration": 230,
    "start_time": "2021-11-20T06:23:54.035Z"
   },
   {
    "duration": 291,
    "start_time": "2021-11-20T06:23:54.270Z"
   },
   {
    "duration": 3,
    "start_time": "2021-11-20T06:23:54.564Z"
   },
   {
    "duration": 200,
    "start_time": "2021-11-20T06:23:54.569Z"
   },
   {
    "duration": 53,
    "start_time": "2021-11-20T06:23:54.771Z"
   },
   {
    "duration": 7,
    "start_time": "2021-11-20T06:23:54.826Z"
   },
   {
    "duration": 435,
    "start_time": "2021-11-20T06:23:54.834Z"
   },
   {
    "duration": 7,
    "start_time": "2021-11-20T06:23:55.271Z"
   },
   {
    "duration": 205,
    "start_time": "2021-11-20T06:23:55.279Z"
   },
   {
    "duration": 200,
    "start_time": "2021-11-20T06:23:55.486Z"
   },
   {
    "duration": 175,
    "start_time": "2021-11-20T06:23:55.691Z"
   },
   {
    "duration": 1744,
    "start_time": "2021-11-20T06:23:55.868Z"
   },
   {
    "duration": 3,
    "start_time": "2021-11-20T06:23:57.614Z"
   },
   {
    "duration": 20,
    "start_time": "2021-11-20T06:23:57.619Z"
   },
   {
    "duration": 12,
    "start_time": "2021-11-20T06:23:57.641Z"
   },
   {
    "duration": 15,
    "start_time": "2021-11-20T06:23:57.655Z"
   },
   {
    "duration": 29,
    "start_time": "2021-11-20T06:23:57.672Z"
   },
   {
    "duration": 18,
    "start_time": "2021-11-20T06:23:57.703Z"
   },
   {
    "duration": 40,
    "start_time": "2021-11-20T06:23:57.722Z"
   },
   {
    "duration": 172,
    "start_time": "2021-11-20T06:23:57.763Z"
   },
   {
    "duration": 264,
    "start_time": "2021-11-20T06:24:22.044Z"
   },
   {
    "duration": 144,
    "start_time": "2021-11-20T06:24:42.343Z"
   },
   {
    "duration": 14,
    "start_time": "2021-11-20T06:34:35.860Z"
   },
   {
    "duration": 13,
    "start_time": "2021-11-20T06:35:04.380Z"
   },
   {
    "duration": 14,
    "start_time": "2021-11-20T06:38:46.966Z"
   },
   {
    "duration": 15,
    "start_time": "2021-11-20T06:39:36.889Z"
   },
   {
    "duration": 12,
    "start_time": "2021-11-20T06:41:04.428Z"
   },
   {
    "duration": 13,
    "start_time": "2021-11-20T06:41:54.904Z"
   },
   {
    "duration": 12,
    "start_time": "2021-11-20T06:43:38.147Z"
   },
   {
    "duration": 11,
    "start_time": "2021-11-20T06:43:57.092Z"
   },
   {
    "duration": 16,
    "start_time": "2021-11-20T06:46:06.895Z"
   },
   {
    "duration": 16,
    "start_time": "2021-11-20T06:46:21.075Z"
   },
   {
    "duration": 16,
    "start_time": "2021-11-20T06:46:47.451Z"
   },
   {
    "duration": 193,
    "start_time": "2021-11-20T06:52:38.322Z"
   },
   {
    "duration": 16,
    "start_time": "2021-11-20T06:53:33.552Z"
   },
   {
    "duration": 14,
    "start_time": "2021-11-20T06:56:12.979Z"
   },
   {
    "duration": 15,
    "start_time": "2021-11-20T06:57:21.793Z"
   },
   {
    "duration": 216,
    "start_time": "2021-11-20T06:59:00.338Z"
   },
   {
    "duration": 15,
    "start_time": "2021-11-20T06:59:13.421Z"
   },
   {
    "duration": 4,
    "start_time": "2021-11-20T07:01:43.610Z"
   },
   {
    "duration": 15,
    "start_time": "2021-11-20T07:02:04.726Z"
   },
   {
    "duration": 150,
    "start_time": "2021-11-20T07:03:49.352Z"
   },
   {
    "duration": 227,
    "start_time": "2021-11-20T07:06:40.352Z"
   },
   {
    "duration": 162,
    "start_time": "2021-11-20T07:06:50.736Z"
   },
   {
    "duration": 170,
    "start_time": "2021-11-20T07:07:27.019Z"
   },
   {
    "duration": 163,
    "start_time": "2021-11-20T07:08:50.620Z"
   },
   {
    "duration": 173,
    "start_time": "2021-11-20T07:12:31.956Z"
   },
   {
    "duration": 3,
    "start_time": "2021-11-20T07:12:38.395Z"
   },
   {
    "duration": 949,
    "start_time": "2021-11-20T07:12:41.228Z"
   },
   {
    "duration": 163,
    "start_time": "2021-11-20T07:12:49.724Z"
   },
   {
    "duration": 160,
    "start_time": "2021-11-20T07:15:22.727Z"
   },
   {
    "duration": 159,
    "start_time": "2021-11-20T07:15:31.722Z"
   },
   {
    "duration": 3,
    "start_time": "2021-11-20T07:22:06.817Z"
   },
   {
    "duration": 295,
    "start_time": "2021-11-20T07:23:15.974Z"
   },
   {
    "duration": 4,
    "start_time": "2021-11-20T07:23:34.033Z"
   },
   {
    "duration": 162,
    "start_time": "2021-11-20T07:23:40.638Z"
   },
   {
    "duration": 168,
    "start_time": "2021-11-20T07:24:17.734Z"
   },
   {
    "duration": 156,
    "start_time": "2021-11-20T07:25:54.802Z"
   },
   {
    "duration": 233,
    "start_time": "2021-11-20T07:27:16.506Z"
   },
   {
    "duration": 167,
    "start_time": "2021-11-20T07:28:10.759Z"
   },
   {
    "duration": 161,
    "start_time": "2021-11-20T07:28:18.558Z"
   },
   {
    "duration": 3,
    "start_time": "2021-11-20T07:31:55.163Z"
   },
   {
    "duration": 169,
    "start_time": "2021-11-20T07:31:58.229Z"
   },
   {
    "duration": 178,
    "start_time": "2021-11-20T07:32:49.923Z"
   },
   {
    "duration": 3,
    "start_time": "2021-11-20T07:33:05.338Z"
   },
   {
    "duration": 188,
    "start_time": "2021-11-20T07:33:08.516Z"
   },
   {
    "duration": 167,
    "start_time": "2021-11-20T07:33:24.112Z"
   },
   {
    "duration": 1200,
    "start_time": "2021-11-20T07:35:40.291Z"
   },
   {
    "duration": 433,
    "start_time": "2021-11-20T07:40:31.242Z"
   },
   {
    "duration": 382,
    "start_time": "2021-11-20T07:40:39.913Z"
   },
   {
    "duration": 498,
    "start_time": "2021-11-20T07:41:40.221Z"
   },
   {
    "duration": 206,
    "start_time": "2021-11-20T07:41:50.578Z"
   },
   {
    "duration": 158,
    "start_time": "2021-11-20T07:44:34.330Z"
   },
   {
    "duration": 171,
    "start_time": "2021-11-20T07:44:38.923Z"
   },
   {
    "duration": 166,
    "start_time": "2021-11-20T09:51:25.722Z"
   },
   {
    "duration": 169,
    "start_time": "2021-11-20T09:51:26.832Z"
   },
   {
    "duration": 164,
    "start_time": "2021-11-20T09:51:27.851Z"
   },
   {
    "duration": 162,
    "start_time": "2021-11-20T09:51:29.744Z"
   },
   {
    "duration": 174,
    "start_time": "2021-11-20T09:51:30.648Z"
   },
   {
    "duration": 245,
    "start_time": "2021-11-20T09:51:31.260Z"
   },
   {
    "duration": 211,
    "start_time": "2021-11-20T09:55:15.472Z"
   },
   {
    "duration": 252,
    "start_time": "2021-11-20T09:56:30.259Z"
   },
   {
    "duration": 39,
    "start_time": "2021-11-20T09:57:27.845Z"
   },
   {
    "duration": 38,
    "start_time": "2021-11-20T09:59:13.052Z"
   },
   {
    "duration": 37,
    "start_time": "2021-11-20T10:00:52.554Z"
   },
   {
    "duration": 221,
    "start_time": "2021-11-20T10:03:04.383Z"
   },
   {
    "duration": 217,
    "start_time": "2021-11-20T10:03:43.127Z"
   },
   {
    "duration": 36,
    "start_time": "2021-11-20T10:04:33.084Z"
   },
   {
    "duration": 306,
    "start_time": "2021-11-20T10:07:49.755Z"
   },
   {
    "duration": 322,
    "start_time": "2021-11-20T10:07:57.245Z"
   },
   {
    "duration": 391,
    "start_time": "2021-11-20T10:09:15.669Z"
   },
   {
    "duration": 446,
    "start_time": "2021-11-20T10:12:25.433Z"
   },
   {
    "duration": 385,
    "start_time": "2021-11-20T10:13:50.759Z"
   },
   {
    "duration": 374,
    "start_time": "2021-11-20T10:14:11.588Z"
   },
   {
    "duration": 314,
    "start_time": "2021-11-20T10:14:52.545Z"
   },
   {
    "duration": 218,
    "start_time": "2021-11-20T10:23:25.114Z"
   },
   {
    "duration": 332,
    "start_time": "2021-11-20T10:23:56.505Z"
   },
   {
    "duration": 22,
    "start_time": "2021-11-20T10:25:03.211Z"
   },
   {
    "duration": 29,
    "start_time": "2021-11-20T10:26:04.954Z"
   },
   {
    "duration": 202,
    "start_time": "2021-11-20T10:26:40.478Z"
   },
   {
    "duration": 203,
    "start_time": "2021-11-20T10:26:57.987Z"
   },
   {
    "duration": 61,
    "start_time": "2021-11-20T10:28:33.671Z"
   },
   {
    "duration": 200,
    "start_time": "2021-11-20T10:28:53.480Z"
   },
   {
    "duration": 1181,
    "start_time": "2021-11-20T10:29:15.206Z"
   },
   {
    "duration": 38,
    "start_time": "2021-11-20T10:36:18.259Z"
   },
   {
    "duration": 122,
    "start_time": "2021-11-20T10:37:56.126Z"
   },
   {
    "duration": 3,
    "start_time": "2021-11-20T10:42:50.682Z"
   },
   {
    "duration": 169,
    "start_time": "2021-11-20T10:42:58.717Z"
   },
   {
    "duration": 178,
    "start_time": "2021-11-20T10:43:04.741Z"
   },
   {
    "duration": 164,
    "start_time": "2021-11-20T10:43:07.115Z"
   },
   {
    "duration": 167,
    "start_time": "2021-11-20T10:43:15.653Z"
   },
   {
    "duration": 177,
    "start_time": "2021-11-20T10:43:19.748Z"
   },
   {
    "duration": 163,
    "start_time": "2021-11-20T10:43:21.835Z"
   },
   {
    "duration": 170,
    "start_time": "2021-11-20T10:43:24.909Z"
   },
   {
    "duration": 175,
    "start_time": "2021-11-20T10:43:44.408Z"
   },
   {
    "duration": 169,
    "start_time": "2021-11-20T10:43:49.378Z"
   },
   {
    "duration": 414,
    "start_time": "2021-11-20T13:44:00.651Z"
   },
   {
    "duration": 1463,
    "start_time": "2021-11-20T13:44:07.431Z"
   },
   {
    "duration": 48,
    "start_time": "2021-11-20T13:44:08.896Z"
   },
   {
    "duration": 28,
    "start_time": "2021-11-20T13:44:08.947Z"
   },
   {
    "duration": 32,
    "start_time": "2021-11-20T13:44:08.977Z"
   },
   {
    "duration": 47,
    "start_time": "2021-11-20T13:44:09.013Z"
   },
   {
    "duration": 81,
    "start_time": "2021-11-20T13:44:09.063Z"
   },
   {
    "duration": 4,
    "start_time": "2021-11-20T13:44:09.146Z"
   },
   {
    "duration": 14,
    "start_time": "2021-11-20T13:44:09.153Z"
   },
   {
    "duration": 66,
    "start_time": "2021-11-20T13:44:09.171Z"
   },
   {
    "duration": 13,
    "start_time": "2021-11-20T13:44:09.241Z"
   },
   {
    "duration": 6,
    "start_time": "2021-11-20T13:44:09.257Z"
   },
   {
    "duration": 46,
    "start_time": "2021-11-20T13:44:09.265Z"
   },
   {
    "duration": 10,
    "start_time": "2021-11-20T13:44:09.315Z"
   },
   {
    "duration": 24,
    "start_time": "2021-11-20T13:44:09.327Z"
   },
   {
    "duration": 15,
    "start_time": "2021-11-20T13:44:09.353Z"
   },
   {
    "duration": 24,
    "start_time": "2021-11-20T13:44:09.401Z"
   },
   {
    "duration": 8,
    "start_time": "2021-11-20T13:44:09.428Z"
   },
   {
    "duration": 24,
    "start_time": "2021-11-20T13:44:09.438Z"
   },
   {
    "duration": 53,
    "start_time": "2021-11-20T13:44:09.464Z"
   },
   {
    "duration": 673,
    "start_time": "2021-11-20T13:44:09.519Z"
   },
   {
    "duration": 611,
    "start_time": "2021-11-20T13:44:10.194Z"
   },
   {
    "duration": 505,
    "start_time": "2021-11-20T13:44:10.808Z"
   },
   {
    "duration": 28,
    "start_time": "2021-11-20T13:44:11.316Z"
   },
   {
    "duration": 8,
    "start_time": "2021-11-20T13:44:11.347Z"
   },
   {
    "duration": 557,
    "start_time": "2021-11-20T13:44:11.358Z"
   },
   {
    "duration": 387,
    "start_time": "2021-11-20T13:44:11.917Z"
   },
   {
    "duration": 459,
    "start_time": "2021-11-20T13:44:12.313Z"
   },
   {
    "duration": 3,
    "start_time": "2021-11-20T13:44:12.776Z"
   },
   {
    "duration": 683,
    "start_time": "2021-11-20T13:44:12.781Z"
   },
   {
    "duration": 550,
    "start_time": "2021-11-20T13:44:13.467Z"
   },
   {
    "duration": -509,
    "start_time": "2021-11-20T13:44:14.528Z"
   },
   {
    "duration": -514,
    "start_time": "2021-11-20T13:44:14.535Z"
   },
   {
    "duration": -516,
    "start_time": "2021-11-20T13:44:14.538Z"
   },
   {
    "duration": -516,
    "start_time": "2021-11-20T13:44:14.540Z"
   },
   {
    "duration": -517,
    "start_time": "2021-11-20T13:44:14.542Z"
   },
   {
    "duration": -622,
    "start_time": "2021-11-20T13:44:14.649Z"
   },
   {
    "duration": -639,
    "start_time": "2021-11-20T13:44:14.667Z"
   },
   {
    "duration": -640,
    "start_time": "2021-11-20T13:44:14.669Z"
   },
   {
    "duration": -640,
    "start_time": "2021-11-20T13:44:14.671Z"
   },
   {
    "duration": -641,
    "start_time": "2021-11-20T13:44:14.673Z"
   },
   {
    "duration": -640,
    "start_time": "2021-11-20T13:44:14.674Z"
   },
   {
    "duration": -643,
    "start_time": "2021-11-20T13:44:14.678Z"
   },
   {
    "duration": -644,
    "start_time": "2021-11-20T13:44:14.680Z"
   },
   {
    "duration": -645,
    "start_time": "2021-11-20T13:44:14.683Z"
   },
   {
    "duration": -646,
    "start_time": "2021-11-20T13:44:14.685Z"
   },
   {
    "duration": -646,
    "start_time": "2021-11-20T13:44:14.687Z"
   },
   {
    "duration": -647,
    "start_time": "2021-11-20T13:44:14.689Z"
   },
   {
    "duration": -646,
    "start_time": "2021-11-20T13:44:14.690Z"
   },
   {
    "duration": 431,
    "start_time": "2021-11-20T13:44:53.953Z"
   },
   {
    "duration": 450,
    "start_time": "2021-11-20T13:45:05.292Z"
   },
   {
    "duration": 63,
    "start_time": "2021-11-20T13:45:35.124Z"
   },
   {
    "duration": 9,
    "start_time": "2021-11-20T13:46:35.894Z"
   },
   {
    "duration": 547,
    "start_time": "2021-11-20T13:46:36.298Z"
   },
   {
    "duration": 7,
    "start_time": "2021-11-20T13:46:36.847Z"
   },
   {
    "duration": 361,
    "start_time": "2021-11-20T13:46:37.282Z"
   },
   {
    "duration": 2097,
    "start_time": "2021-11-20T13:46:38.510Z"
   },
   {
    "duration": 655,
    "start_time": "2021-11-20T13:46:41.125Z"
   },
   {
    "duration": 4,
    "start_time": "2021-11-20T14:12:17.977Z"
   },
   {
    "duration": 65,
    "start_time": "2021-11-20T14:29:36.300Z"
   },
   {
    "duration": 1426,
    "start_time": "2021-11-20T15:53:33.696Z"
   },
   {
    "duration": 50,
    "start_time": "2021-11-20T15:53:35.124Z"
   },
   {
    "duration": 35,
    "start_time": "2021-11-20T15:53:35.178Z"
   },
   {
    "duration": 23,
    "start_time": "2021-11-20T15:53:35.216Z"
   },
   {
    "duration": 63,
    "start_time": "2021-11-20T15:53:35.241Z"
   },
   {
    "duration": 52,
    "start_time": "2021-11-20T15:53:35.306Z"
   },
   {
    "duration": 4,
    "start_time": "2021-11-20T15:53:35.360Z"
   },
   {
    "duration": 39,
    "start_time": "2021-11-20T15:53:35.367Z"
   },
   {
    "duration": 43,
    "start_time": "2021-11-20T15:53:35.411Z"
   },
   {
    "duration": 16,
    "start_time": "2021-11-20T15:53:35.457Z"
   },
   {
    "duration": 28,
    "start_time": "2021-11-20T15:53:35.475Z"
   },
   {
    "duration": 14,
    "start_time": "2021-11-20T15:53:35.505Z"
   },
   {
    "duration": 17,
    "start_time": "2021-11-20T15:53:35.522Z"
   },
   {
    "duration": 35,
    "start_time": "2021-11-20T15:53:35.542Z"
   },
   {
    "duration": 18,
    "start_time": "2021-11-20T15:53:35.600Z"
   },
   {
    "duration": 21,
    "start_time": "2021-11-20T15:53:35.620Z"
   },
   {
    "duration": 8,
    "start_time": "2021-11-20T15:53:35.644Z"
   },
   {
    "duration": 52,
    "start_time": "2021-11-20T15:53:35.655Z"
   },
   {
    "duration": 17,
    "start_time": "2021-11-20T15:53:35.709Z"
   },
   {
    "duration": 630,
    "start_time": "2021-11-20T15:53:35.728Z"
   },
   {
    "duration": 898,
    "start_time": "2021-11-20T15:53:36.361Z"
   },
   {
    "duration": 743,
    "start_time": "2021-11-20T15:53:37.262Z"
   },
   {
    "duration": 24,
    "start_time": "2021-11-20T15:53:38.008Z"
   },
   {
    "duration": 12,
    "start_time": "2021-11-20T15:53:38.035Z"
   },
   {
    "duration": 483,
    "start_time": "2021-11-20T15:53:38.050Z"
   },
   {
    "duration": 403,
    "start_time": "2021-11-20T15:53:38.535Z"
   },
   {
    "duration": 431,
    "start_time": "2021-11-20T15:53:38.944Z"
   },
   {
    "duration": 3,
    "start_time": "2021-11-20T15:53:39.378Z"
   },
   {
    "duration": 627,
    "start_time": "2021-11-20T15:53:39.400Z"
   },
   {
    "duration": 74,
    "start_time": "2021-11-20T15:53:40.029Z"
   },
   {
    "duration": 8,
    "start_time": "2021-11-20T15:53:40.105Z"
   },
   {
    "duration": 495,
    "start_time": "2021-11-20T15:53:40.115Z"
   },
   {
    "duration": 7,
    "start_time": "2021-11-20T15:53:40.612Z"
   },
   {
    "duration": 5,
    "start_time": "2021-11-20T15:53:40.621Z"
   },
   {
    "duration": 2222,
    "start_time": "2021-11-20T15:53:40.628Z"
   },
   {
    "duration": 614,
    "start_time": "2021-11-20T15:53:42.853Z"
   },
   {
    "duration": 78,
    "start_time": "2021-11-20T15:53:43.470Z"
   },
   {
    "duration": 5,
    "start_time": "2021-11-20T15:53:43.551Z"
   },
   {
    "duration": 6,
    "start_time": "2021-11-20T15:53:43.558Z"
   },
   {
    "duration": 11,
    "start_time": "2021-11-20T15:53:43.566Z"
   },
   {
    "duration": 444,
    "start_time": "2021-11-20T15:53:43.579Z"
   },
   {
    "duration": 307,
    "start_time": "2021-11-20T15:53:44.026Z"
   },
   {
    "duration": 290,
    "start_time": "2021-11-20T15:53:44.336Z"
   },
   {
    "duration": 289,
    "start_time": "2021-11-20T15:53:44.628Z"
   },
   {
    "duration": 390,
    "start_time": "2021-11-20T15:53:44.919Z"
   },
   {
    "duration": 272,
    "start_time": "2021-11-20T15:53:45.312Z"
   },
   {
    "duration": 284,
    "start_time": "2021-11-20T15:53:45.586Z"
   },
   {
    "duration": 290,
    "start_time": "2021-11-20T15:53:45.872Z"
   },
   {
    "duration": 286,
    "start_time": "2021-11-20T15:53:46.164Z"
   },
   {
    "duration": 294,
    "start_time": "2021-11-20T16:07:31.721Z"
   },
   {
    "duration": 310,
    "start_time": "2021-11-20T16:07:55.174Z"
   },
   {
    "duration": 294,
    "start_time": "2021-11-20T16:08:24.697Z"
   },
   {
    "duration": 309,
    "start_time": "2021-11-20T16:08:41.971Z"
   },
   {
    "duration": 327,
    "start_time": "2021-11-20T16:08:49.587Z"
   },
   {
    "duration": 283,
    "start_time": "2021-11-20T16:09:35.770Z"
   },
   {
    "duration": 520,
    "start_time": "2021-11-20T16:10:04.326Z"
   },
   {
    "duration": 446,
    "start_time": "2021-11-20T16:10:48.856Z"
   },
   {
    "duration": 301,
    "start_time": "2021-11-20T16:11:10.239Z"
   },
   {
    "duration": 5,
    "start_time": "2021-11-20T17:02:39.383Z"
   },
   {
    "duration": 305,
    "start_time": "2021-11-20T17:02:46.652Z"
   },
   {
    "duration": 290,
    "start_time": "2021-11-20T17:10:43.571Z"
   },
   {
    "duration": 338,
    "start_time": "2021-11-20T17:16:55.232Z"
   },
   {
    "duration": 3,
    "start_time": "2021-11-20T17:23:07.364Z"
   },
   {
    "duration": 16,
    "start_time": "2021-11-20T17:28:10.656Z"
   },
   {
    "duration": 17,
    "start_time": "2021-11-20T17:29:14.676Z"
   },
   {
    "duration": 17,
    "start_time": "2021-11-20T17:31:17.516Z"
   },
   {
    "duration": 19,
    "start_time": "2021-11-20T17:36:27.781Z"
   },
   {
    "duration": 17,
    "start_time": "2021-11-20T17:36:57.444Z"
   },
   {
    "duration": 21,
    "start_time": "2021-11-20T17:37:02.081Z"
   },
   {
    "duration": 1396,
    "start_time": "2021-11-21T08:32:04.406Z"
   },
   {
    "duration": 47,
    "start_time": "2021-11-21T08:32:05.805Z"
   },
   {
    "duration": 27,
    "start_time": "2021-11-21T08:32:05.855Z"
   },
   {
    "duration": 20,
    "start_time": "2021-11-21T08:32:05.885Z"
   },
   {
    "duration": 62,
    "start_time": "2021-11-21T08:32:05.907Z"
   },
   {
    "duration": 67,
    "start_time": "2021-11-21T08:32:05.972Z"
   },
   {
    "duration": 4,
    "start_time": "2021-11-21T08:32:06.041Z"
   },
   {
    "duration": 21,
    "start_time": "2021-11-21T08:32:06.049Z"
   },
   {
    "duration": 34,
    "start_time": "2021-11-21T08:32:06.073Z"
   },
   {
    "duration": 11,
    "start_time": "2021-11-21T08:32:06.129Z"
   },
   {
    "duration": 6,
    "start_time": "2021-11-21T08:32:06.142Z"
   },
   {
    "duration": 13,
    "start_time": "2021-11-21T08:32:06.151Z"
   },
   {
    "duration": 13,
    "start_time": "2021-11-21T08:32:06.167Z"
   },
   {
    "duration": 52,
    "start_time": "2021-11-21T08:32:06.182Z"
   },
   {
    "duration": 19,
    "start_time": "2021-11-21T08:32:06.236Z"
   },
   {
    "duration": 23,
    "start_time": "2021-11-21T08:32:06.257Z"
   },
   {
    "duration": 17,
    "start_time": "2021-11-21T08:32:06.291Z"
   },
   {
    "duration": 35,
    "start_time": "2021-11-21T08:32:06.311Z"
   },
   {
    "duration": 15,
    "start_time": "2021-11-21T08:32:06.348Z"
   },
   {
    "duration": 675,
    "start_time": "2021-11-21T08:32:06.365Z"
   },
   {
    "duration": 589,
    "start_time": "2021-11-21T08:32:07.042Z"
   },
   {
    "duration": 632,
    "start_time": "2021-11-21T08:32:07.633Z"
   },
   {
    "duration": 30,
    "start_time": "2021-11-21T08:32:08.273Z"
   },
   {
    "duration": 10,
    "start_time": "2021-11-21T08:32:08.330Z"
   },
   {
    "duration": 581,
    "start_time": "2021-11-21T08:32:08.342Z"
   },
   {
    "duration": 374,
    "start_time": "2021-11-21T08:32:08.929Z"
   },
   {
    "duration": 445,
    "start_time": "2021-11-21T08:32:09.306Z"
   },
   {
    "duration": 3,
    "start_time": "2021-11-21T08:32:09.754Z"
   },
   {
    "duration": 638,
    "start_time": "2021-11-21T08:32:09.760Z"
   },
   {
    "duration": 70,
    "start_time": "2021-11-21T08:32:10.401Z"
   },
   {
    "duration": 9,
    "start_time": "2021-11-21T08:32:10.474Z"
   },
   {
    "duration": 552,
    "start_time": "2021-11-21T08:32:10.486Z"
   },
   {
    "duration": 7,
    "start_time": "2021-11-21T08:32:11.040Z"
   },
   {
    "duration": 1921,
    "start_time": "2021-11-21T08:32:11.049Z"
   },
   {
    "duration": 624,
    "start_time": "2021-11-21T08:32:12.972Z"
   },
   {
    "duration": 74,
    "start_time": "2021-11-21T08:32:13.598Z"
   },
   {
    "duration": 5,
    "start_time": "2021-11-21T08:32:13.674Z"
   },
   {
    "duration": 9,
    "start_time": "2021-11-21T08:32:13.681Z"
   },
   {
    "duration": 14,
    "start_time": "2021-11-21T08:32:13.692Z"
   },
   {
    "duration": 313,
    "start_time": "2021-11-21T08:32:13.708Z"
   },
   {
    "duration": 324,
    "start_time": "2021-11-21T08:32:14.028Z"
   },
   {
    "duration": 312,
    "start_time": "2021-11-21T08:32:14.355Z"
   },
   {
    "duration": 303,
    "start_time": "2021-11-21T08:32:14.669Z"
   },
   {
    "duration": 417,
    "start_time": "2021-11-21T08:32:14.974Z"
   },
   {
    "duration": 300,
    "start_time": "2021-11-21T08:32:15.393Z"
   },
   {
    "duration": 297,
    "start_time": "2021-11-21T08:32:15.695Z"
   },
   {
    "duration": 325,
    "start_time": "2021-11-21T08:32:15.995Z"
   },
   {
    "duration": 307,
    "start_time": "2021-11-21T08:32:16.322Z"
   },
   {
    "duration": 3,
    "start_time": "2021-11-21T08:32:16.631Z"
   },
   {
    "duration": 26,
    "start_time": "2021-11-21T08:32:16.637Z"
   },
   {
    "duration": 17,
    "start_time": "2021-11-21T08:32:16.666Z"
   },
   {
    "duration": 13,
    "start_time": "2021-11-21T08:52:00.616Z"
   },
   {
    "duration": 1020,
    "start_time": "2021-11-21T10:38:58.002Z"
   },
   {
    "duration": 39,
    "start_time": "2021-11-21T10:38:59.023Z"
   },
   {
    "duration": 17,
    "start_time": "2021-11-21T10:38:59.064Z"
   },
   {
    "duration": 9,
    "start_time": "2021-11-21T10:38:59.083Z"
   },
   {
    "duration": 29,
    "start_time": "2021-11-21T10:38:59.094Z"
   },
   {
    "duration": 32,
    "start_time": "2021-11-21T10:38:59.124Z"
   },
   {
    "duration": 2,
    "start_time": "2021-11-21T10:38:59.157Z"
   },
   {
    "duration": 9,
    "start_time": "2021-11-21T10:38:59.161Z"
   },
   {
    "duration": 26,
    "start_time": "2021-11-21T10:38:59.172Z"
   },
   {
    "duration": 6,
    "start_time": "2021-11-21T10:38:59.200Z"
   },
   {
    "duration": 3,
    "start_time": "2021-11-21T10:38:59.208Z"
   },
   {
    "duration": 5,
    "start_time": "2021-11-21T10:38:59.212Z"
   },
   {
    "duration": 7,
    "start_time": "2021-11-21T10:38:59.218Z"
   },
   {
    "duration": 14,
    "start_time": "2021-11-21T10:38:59.226Z"
   },
   {
    "duration": 10,
    "start_time": "2021-11-21T10:38:59.241Z"
   },
   {
    "duration": 12,
    "start_time": "2021-11-21T10:38:59.252Z"
   },
   {
    "duration": 5,
    "start_time": "2021-11-21T10:38:59.265Z"
   },
   {
    "duration": 31,
    "start_time": "2021-11-21T10:38:59.272Z"
   },
   {
    "duration": 9,
    "start_time": "2021-11-21T10:38:59.304Z"
   },
   {
    "duration": 509,
    "start_time": "2021-11-21T10:38:59.314Z"
   },
   {
    "duration": 324,
    "start_time": "2021-11-21T10:38:59.825Z"
   },
   {
    "duration": 279,
    "start_time": "2021-11-21T10:39:00.151Z"
   },
   {
    "duration": 15,
    "start_time": "2021-11-21T10:39:00.433Z"
   },
   {
    "duration": 5,
    "start_time": "2021-11-21T10:39:00.450Z"
   },
   {
    "duration": 295,
    "start_time": "2021-11-21T10:39:00.456Z"
   },
   {
    "duration": 221,
    "start_time": "2021-11-21T10:39:00.753Z"
   },
   {
    "duration": 255,
    "start_time": "2021-11-21T10:39:00.975Z"
   },
   {
    "duration": 3,
    "start_time": "2021-11-21T10:39:01.231Z"
   },
   {
    "duration": 384,
    "start_time": "2021-11-21T10:39:01.235Z"
   },
   {
    "duration": 34,
    "start_time": "2021-11-21T10:39:01.620Z"
   },
   {
    "duration": 5,
    "start_time": "2021-11-21T10:39:01.656Z"
   },
   {
    "duration": 378,
    "start_time": "2021-11-21T10:39:01.662Z"
   },
   {
    "duration": 4,
    "start_time": "2021-11-21T10:39:02.042Z"
   },
   {
    "duration": 1191,
    "start_time": "2021-11-21T10:39:02.048Z"
   },
   {
    "duration": 373,
    "start_time": "2021-11-21T10:39:03.240Z"
   },
   {
    "duration": 35,
    "start_time": "2021-11-21T10:39:03.614Z"
   },
   {
    "duration": 3,
    "start_time": "2021-11-21T10:39:03.651Z"
   },
   {
    "duration": 5,
    "start_time": "2021-11-21T10:39:03.655Z"
   },
   {
    "duration": 4,
    "start_time": "2021-11-21T10:39:03.662Z"
   },
   {
    "duration": 196,
    "start_time": "2021-11-21T10:39:03.668Z"
   },
   {
    "duration": 191,
    "start_time": "2021-11-21T10:39:03.865Z"
   },
   {
    "duration": 178,
    "start_time": "2021-11-21T10:39:04.058Z"
   },
   {
    "duration": 183,
    "start_time": "2021-11-21T10:39:04.237Z"
   },
   {
    "duration": 262,
    "start_time": "2021-11-21T10:39:04.421Z"
   },
   {
    "duration": 175,
    "start_time": "2021-11-21T10:39:04.685Z"
   },
   {
    "duration": 177,
    "start_time": "2021-11-21T10:39:04.861Z"
   },
   {
    "duration": 198,
    "start_time": "2021-11-21T10:39:05.039Z"
   },
   {
    "duration": 172,
    "start_time": "2021-11-21T10:39:05.239Z"
   },
   {
    "duration": 2,
    "start_time": "2021-11-21T10:39:05.413Z"
   },
   {
    "duration": 15,
    "start_time": "2021-11-21T10:39:05.416Z"
   },
   {
    "duration": 11,
    "start_time": "2021-11-21T10:39:05.432Z"
   },
   {
    "duration": 1460,
    "start_time": "2021-11-21T19:41:43.858Z"
   },
   {
    "duration": 48,
    "start_time": "2021-11-21T19:41:45.320Z"
   },
   {
    "duration": 26,
    "start_time": "2021-11-21T19:41:45.371Z"
   },
   {
    "duration": 15,
    "start_time": "2021-11-21T19:41:45.401Z"
   },
   {
    "duration": 77,
    "start_time": "2021-11-21T19:41:45.419Z"
   },
   {
    "duration": 53,
    "start_time": "2021-11-21T19:41:45.498Z"
   },
   {
    "duration": 4,
    "start_time": "2021-11-21T19:41:45.567Z"
   },
   {
    "duration": 13,
    "start_time": "2021-11-21T19:41:45.575Z"
   },
   {
    "duration": 36,
    "start_time": "2021-11-21T19:41:45.592Z"
   },
   {
    "duration": 39,
    "start_time": "2021-11-21T19:41:45.631Z"
   },
   {
    "duration": 6,
    "start_time": "2021-11-21T19:41:45.673Z"
   },
   {
    "duration": 11,
    "start_time": "2021-11-21T19:41:45.681Z"
   },
   {
    "duration": 10,
    "start_time": "2021-11-21T19:41:45.695Z"
   },
   {
    "duration": 36,
    "start_time": "2021-11-21T19:41:45.707Z"
   },
   {
    "duration": 15,
    "start_time": "2021-11-21T19:41:45.767Z"
   },
   {
    "duration": 21,
    "start_time": "2021-11-21T19:41:45.785Z"
   },
   {
    "duration": 12,
    "start_time": "2021-11-21T19:41:45.808Z"
   },
   {
    "duration": 63,
    "start_time": "2021-11-21T19:41:45.823Z"
   },
   {
    "duration": 24,
    "start_time": "2021-11-21T19:41:45.889Z"
   },
   {
    "duration": 982,
    "start_time": "2021-11-21T19:41:45.916Z"
   },
   {
    "duration": 909,
    "start_time": "2021-11-21T19:41:46.901Z"
   },
   {
    "duration": 742,
    "start_time": "2021-11-21T19:41:47.813Z"
   },
   {
    "duration": 29,
    "start_time": "2021-11-21T19:41:48.560Z"
   },
   {
    "duration": 17,
    "start_time": "2021-11-21T19:41:48.592Z"
   },
   {
    "duration": 513,
    "start_time": "2021-11-21T19:41:48.612Z"
   },
   {
    "duration": 383,
    "start_time": "2021-11-21T19:41:49.128Z"
   },
   {
    "duration": 453,
    "start_time": "2021-11-21T19:41:49.513Z"
   },
   {
    "duration": 5,
    "start_time": "2021-11-21T19:41:49.969Z"
   },
   {
    "duration": 634,
    "start_time": "2021-11-21T19:41:49.977Z"
   },
   {
    "duration": 80,
    "start_time": "2021-11-21T19:41:50.613Z"
   },
   {
    "duration": 8,
    "start_time": "2021-11-21T19:41:50.696Z"
   },
   {
    "duration": 560,
    "start_time": "2021-11-21T19:41:50.707Z"
   },
   {
    "duration": 8,
    "start_time": "2021-11-21T19:41:51.270Z"
   },
   {
    "duration": 1992,
    "start_time": "2021-11-21T19:41:51.280Z"
   },
   {
    "duration": 658,
    "start_time": "2021-11-21T19:41:53.274Z"
   },
   {
    "duration": 90,
    "start_time": "2021-11-21T19:41:53.935Z"
   },
   {
    "duration": 6,
    "start_time": "2021-11-21T19:41:54.028Z"
   },
   {
    "duration": 9,
    "start_time": "2021-11-21T19:41:54.037Z"
   },
   {
    "duration": 5,
    "start_time": "2021-11-21T19:41:54.067Z"
   },
   {
    "duration": 326,
    "start_time": "2021-11-21T19:41:54.075Z"
   },
   {
    "duration": 341,
    "start_time": "2021-11-21T19:41:54.404Z"
   },
   {
    "duration": 337,
    "start_time": "2021-11-21T19:41:54.747Z"
   },
   {
    "duration": 318,
    "start_time": "2021-11-21T19:41:55.086Z"
   },
   {
    "duration": 426,
    "start_time": "2021-11-21T19:41:55.407Z"
   },
   {
    "duration": 310,
    "start_time": "2021-11-21T19:41:55.836Z"
   },
   {
    "duration": 331,
    "start_time": "2021-11-21T19:41:56.148Z"
   },
   {
    "duration": 455,
    "start_time": "2021-11-21T19:41:56.481Z"
   },
   {
    "duration": 313,
    "start_time": "2021-11-21T19:41:56.940Z"
   },
   {
    "duration": 16,
    "start_time": "2021-11-21T19:41:57.255Z"
   },
   {
    "duration": 22,
    "start_time": "2021-11-21T19:41:57.274Z"
   },
   {
    "duration": 21,
    "start_time": "2021-11-21T19:41:57.299Z"
   }
  ],
  "kernelspec": {
   "display_name": "Python 3",
   "language": "python",
   "name": "python3"
  },
  "language_info": {
   "codemirror_mode": {
    "name": "ipython",
    "version": 3
   },
   "file_extension": ".py",
   "mimetype": "text/x-python",
   "name": "python",
   "nbconvert_exporter": "python",
   "pygments_lexer": "ipython3",
   "version": "3.8.8"
  },
  "toc": {
   "base_numbering": 1,
   "nav_menu": {},
   "number_sections": true,
   "sideBar": true,
   "skip_h1_title": true,
   "title_cell": "Table of Contents",
   "title_sidebar": "Contents",
   "toc_cell": false,
   "toc_position": {},
   "toc_section_display": true,
   "toc_window_display": false
  }
 },
 "nbformat": 4,
 "nbformat_minor": 2
}
