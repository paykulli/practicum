{
 "cells": [
  {
   "cell_type": "markdown",
   "metadata": {},
   "source": [
    "# Supervised Learning Project\n",
    "Beta Bank customers are leaving: little by little, chipping away every month. The bankers figured out it’s cheaper to save the existing customers rather than to attract new ones.\n",
    "We need to predict whether a customer will leave the bank soon. We have the data on clients’ past behavior and termination of contracts with the bank.\n",
    "In this project, we will build a model with the maximum possible F1 score. For a model to be acceptable, it should have an F1 score of at least 0.59. \n",
    "Additionally, we will measure the AUC-ROC metric and compare it with the F1."
   ]
  },
  {
   "cell_type": "markdown",
   "metadata": {},
   "source": [
    "## Preprocessing\n",
    "Our dataset consists of:  \n",
    "**Features**\n",
    "- `RowNumber` — data string index\n",
    "- `CustomerId` — unique customer identifier\n",
    "- `Surname` — surname\n",
    "- `CreditScore` — credit score\n",
    "- `Geography` — country of residence\n",
    "- `Gender` — gender\n",
    "- `Age` — age\n",
    "- `Tenure` — period of maturation for a customer’s fixed deposit (years)\n",
    "- `Balance` — account balance\n",
    "- `NumOfProducts` — number of banking products used by the customer\n",
    "- `HasCrCard` — customer has a credit card\n",
    "- `IsActiveMember` — customer’s activeness\n",
    "- `EstimatedSalary` — estimated salary\n",
    "\n",
    "**Target**\n",
    "- `Exited` — сustomer has left"
   ]
  },
  {
   "cell_type": "code",
   "execution_count": 30,
   "metadata": {},
   "outputs": [],
   "source": [
    "import pandas as pd\n",
    "from sklearn.model_selection import train_test_split\n",
    "from sklearn.preprocessing import StandardScaler \n",
    "from sklearn.linear_model import LogisticRegression\n",
    "from sklearn.tree import DecisionTreeClassifier\n",
    "from sklearn.ensemble import RandomForestClassifier\n",
    "from sklearn.metrics import f1_score, roc_auc_score, roc_curve\n",
    "from sklearn.utils import shuffle\n",
    "from matplotlib import pyplot as plt\n",
    "import seaborn as sns\n",
    "import warnings"
   ]
  },
  {
   "cell_type": "code",
   "execution_count": 2,
   "metadata": {},
   "outputs": [],
   "source": [
    "try:\n",
    "    df = pd.read_csv('Churn.csv')\n",
    "except FileNotFoundError:\n",
    "    df = pd.read_csv('/datasets/Churn.csv')"
   ]
  },
  {
   "cell_type": "code",
   "execution_count": 3,
   "metadata": {},
   "outputs": [
    {
     "data": {
      "text/html": [
       "<div>\n",
       "<style scoped>\n",
       "    .dataframe tbody tr th:only-of-type {\n",
       "        vertical-align: middle;\n",
       "    }\n",
       "\n",
       "    .dataframe tbody tr th {\n",
       "        vertical-align: top;\n",
       "    }\n",
       "\n",
       "    .dataframe thead th {\n",
       "        text-align: right;\n",
       "    }\n",
       "</style>\n",
       "<table border=\"1\" class=\"dataframe\">\n",
       "  <thead>\n",
       "    <tr style=\"text-align: right;\">\n",
       "      <th></th>\n",
       "      <th>RowNumber</th>\n",
       "      <th>CustomerId</th>\n",
       "      <th>Surname</th>\n",
       "      <th>CreditScore</th>\n",
       "      <th>Geography</th>\n",
       "      <th>Gender</th>\n",
       "      <th>Age</th>\n",
       "      <th>Tenure</th>\n",
       "      <th>Balance</th>\n",
       "      <th>NumOfProducts</th>\n",
       "      <th>HasCrCard</th>\n",
       "      <th>IsActiveMember</th>\n",
       "      <th>EstimatedSalary</th>\n",
       "      <th>Exited</th>\n",
       "    </tr>\n",
       "  </thead>\n",
       "  <tbody>\n",
       "    <tr>\n",
       "      <th>0</th>\n",
       "      <td>1</td>\n",
       "      <td>15634602</td>\n",
       "      <td>Hargrave</td>\n",
       "      <td>619</td>\n",
       "      <td>France</td>\n",
       "      <td>Female</td>\n",
       "      <td>42</td>\n",
       "      <td>2.0</td>\n",
       "      <td>0.00</td>\n",
       "      <td>1</td>\n",
       "      <td>1</td>\n",
       "      <td>1</td>\n",
       "      <td>101348.88</td>\n",
       "      <td>1</td>\n",
       "    </tr>\n",
       "    <tr>\n",
       "      <th>1</th>\n",
       "      <td>2</td>\n",
       "      <td>15647311</td>\n",
       "      <td>Hill</td>\n",
       "      <td>608</td>\n",
       "      <td>Spain</td>\n",
       "      <td>Female</td>\n",
       "      <td>41</td>\n",
       "      <td>1.0</td>\n",
       "      <td>83807.86</td>\n",
       "      <td>1</td>\n",
       "      <td>0</td>\n",
       "      <td>1</td>\n",
       "      <td>112542.58</td>\n",
       "      <td>0</td>\n",
       "    </tr>\n",
       "    <tr>\n",
       "      <th>2</th>\n",
       "      <td>3</td>\n",
       "      <td>15619304</td>\n",
       "      <td>Onio</td>\n",
       "      <td>502</td>\n",
       "      <td>France</td>\n",
       "      <td>Female</td>\n",
       "      <td>42</td>\n",
       "      <td>8.0</td>\n",
       "      <td>159660.80</td>\n",
       "      <td>3</td>\n",
       "      <td>1</td>\n",
       "      <td>0</td>\n",
       "      <td>113931.57</td>\n",
       "      <td>1</td>\n",
       "    </tr>\n",
       "    <tr>\n",
       "      <th>3</th>\n",
       "      <td>4</td>\n",
       "      <td>15701354</td>\n",
       "      <td>Boni</td>\n",
       "      <td>699</td>\n",
       "      <td>France</td>\n",
       "      <td>Female</td>\n",
       "      <td>39</td>\n",
       "      <td>1.0</td>\n",
       "      <td>0.00</td>\n",
       "      <td>2</td>\n",
       "      <td>0</td>\n",
       "      <td>0</td>\n",
       "      <td>93826.63</td>\n",
       "      <td>0</td>\n",
       "    </tr>\n",
       "    <tr>\n",
       "      <th>4</th>\n",
       "      <td>5</td>\n",
       "      <td>15737888</td>\n",
       "      <td>Mitchell</td>\n",
       "      <td>850</td>\n",
       "      <td>Spain</td>\n",
       "      <td>Female</td>\n",
       "      <td>43</td>\n",
       "      <td>2.0</td>\n",
       "      <td>125510.82</td>\n",
       "      <td>1</td>\n",
       "      <td>1</td>\n",
       "      <td>1</td>\n",
       "      <td>79084.10</td>\n",
       "      <td>0</td>\n",
       "    </tr>\n",
       "  </tbody>\n",
       "</table>\n",
       "</div>"
      ],
      "text/plain": [
       "   RowNumber  CustomerId   Surname  CreditScore Geography  Gender  Age  \\\n",
       "0          1    15634602  Hargrave          619    France  Female   42   \n",
       "1          2    15647311      Hill          608     Spain  Female   41   \n",
       "2          3    15619304      Onio          502    France  Female   42   \n",
       "3          4    15701354      Boni          699    France  Female   39   \n",
       "4          5    15737888  Mitchell          850     Spain  Female   43   \n",
       "\n",
       "   Tenure    Balance  NumOfProducts  HasCrCard  IsActiveMember  \\\n",
       "0     2.0       0.00              1          1               1   \n",
       "1     1.0   83807.86              1          0               1   \n",
       "2     8.0  159660.80              3          1               0   \n",
       "3     1.0       0.00              2          0               0   \n",
       "4     2.0  125510.82              1          1               1   \n",
       "\n",
       "   EstimatedSalary  Exited  \n",
       "0        101348.88       1  \n",
       "1        112542.58       0  \n",
       "2        113931.57       1  \n",
       "3         93826.63       0  \n",
       "4         79084.10       0  "
      ]
     },
     "execution_count": 3,
     "metadata": {},
     "output_type": "execute_result"
    }
   ],
   "source": [
    "df.head()"
   ]
  },
  {
   "cell_type": "code",
   "execution_count": 4,
   "metadata": {},
   "outputs": [
    {
     "name": "stdout",
     "output_type": "stream",
     "text": [
      "<class 'pandas.core.frame.DataFrame'>\n",
      "RangeIndex: 10000 entries, 0 to 9999\n",
      "Data columns (total 14 columns):\n",
      " #   Column           Non-Null Count  Dtype  \n",
      "---  ------           --------------  -----  \n",
      " 0   RowNumber        10000 non-null  int64  \n",
      " 1   CustomerId       10000 non-null  int64  \n",
      " 2   Surname          10000 non-null  object \n",
      " 3   CreditScore      10000 non-null  int64  \n",
      " 4   Geography        10000 non-null  object \n",
      " 5   Gender           10000 non-null  object \n",
      " 6   Age              10000 non-null  int64  \n",
      " 7   Tenure           9091 non-null   float64\n",
      " 8   Balance          10000 non-null  float64\n",
      " 9   NumOfProducts    10000 non-null  int64  \n",
      " 10  HasCrCard        10000 non-null  int64  \n",
      " 11  IsActiveMember   10000 non-null  int64  \n",
      " 12  EstimatedSalary  10000 non-null  float64\n",
      " 13  Exited           10000 non-null  int64  \n",
      "dtypes: float64(3), int64(8), object(3)\n",
      "memory usage: 1.1+ MB\n"
     ]
    }
   ],
   "source": [
    "df.info()"
   ]
  },
  {
   "cell_type": "code",
   "execution_count": 5,
   "metadata": {},
   "outputs": [
    {
     "data": {
      "text/html": [
       "<div>\n",
       "<style scoped>\n",
       "    .dataframe tbody tr th:only-of-type {\n",
       "        vertical-align: middle;\n",
       "    }\n",
       "\n",
       "    .dataframe tbody tr th {\n",
       "        vertical-align: top;\n",
       "    }\n",
       "\n",
       "    .dataframe thead th {\n",
       "        text-align: right;\n",
       "    }\n",
       "</style>\n",
       "<table border=\"1\" class=\"dataframe\">\n",
       "  <thead>\n",
       "    <tr style=\"text-align: right;\">\n",
       "      <th></th>\n",
       "      <th>count</th>\n",
       "      <th>unique</th>\n",
       "      <th>top</th>\n",
       "      <th>freq</th>\n",
       "      <th>mean</th>\n",
       "      <th>std</th>\n",
       "      <th>min</th>\n",
       "      <th>25%</th>\n",
       "      <th>50%</th>\n",
       "      <th>75%</th>\n",
       "      <th>max</th>\n",
       "    </tr>\n",
       "  </thead>\n",
       "  <tbody>\n",
       "    <tr>\n",
       "      <th>RowNumber</th>\n",
       "      <td>10000.0</td>\n",
       "      <td>NaN</td>\n",
       "      <td>NaN</td>\n",
       "      <td>NaN</td>\n",
       "      <td>5000.5</td>\n",
       "      <td>2886.89568</td>\n",
       "      <td>1.0</td>\n",
       "      <td>2500.75</td>\n",
       "      <td>5000.5</td>\n",
       "      <td>7500.25</td>\n",
       "      <td>10000.0</td>\n",
       "    </tr>\n",
       "    <tr>\n",
       "      <th>CustomerId</th>\n",
       "      <td>10000.0</td>\n",
       "      <td>NaN</td>\n",
       "      <td>NaN</td>\n",
       "      <td>NaN</td>\n",
       "      <td>15690940.5694</td>\n",
       "      <td>71936.186123</td>\n",
       "      <td>15565701.0</td>\n",
       "      <td>15628528.25</td>\n",
       "      <td>15690738.0</td>\n",
       "      <td>15753233.75</td>\n",
       "      <td>15815690.0</td>\n",
       "    </tr>\n",
       "    <tr>\n",
       "      <th>Surname</th>\n",
       "      <td>10000</td>\n",
       "      <td>2932</td>\n",
       "      <td>Smith</td>\n",
       "      <td>32</td>\n",
       "      <td>NaN</td>\n",
       "      <td>NaN</td>\n",
       "      <td>NaN</td>\n",
       "      <td>NaN</td>\n",
       "      <td>NaN</td>\n",
       "      <td>NaN</td>\n",
       "      <td>NaN</td>\n",
       "    </tr>\n",
       "    <tr>\n",
       "      <th>CreditScore</th>\n",
       "      <td>10000.0</td>\n",
       "      <td>NaN</td>\n",
       "      <td>NaN</td>\n",
       "      <td>NaN</td>\n",
       "      <td>650.5288</td>\n",
       "      <td>96.653299</td>\n",
       "      <td>350.0</td>\n",
       "      <td>584.0</td>\n",
       "      <td>652.0</td>\n",
       "      <td>718.0</td>\n",
       "      <td>850.0</td>\n",
       "    </tr>\n",
       "    <tr>\n",
       "      <th>Geography</th>\n",
       "      <td>10000</td>\n",
       "      <td>3</td>\n",
       "      <td>France</td>\n",
       "      <td>5014</td>\n",
       "      <td>NaN</td>\n",
       "      <td>NaN</td>\n",
       "      <td>NaN</td>\n",
       "      <td>NaN</td>\n",
       "      <td>NaN</td>\n",
       "      <td>NaN</td>\n",
       "      <td>NaN</td>\n",
       "    </tr>\n",
       "    <tr>\n",
       "      <th>Gender</th>\n",
       "      <td>10000</td>\n",
       "      <td>2</td>\n",
       "      <td>Male</td>\n",
       "      <td>5457</td>\n",
       "      <td>NaN</td>\n",
       "      <td>NaN</td>\n",
       "      <td>NaN</td>\n",
       "      <td>NaN</td>\n",
       "      <td>NaN</td>\n",
       "      <td>NaN</td>\n",
       "      <td>NaN</td>\n",
       "    </tr>\n",
       "    <tr>\n",
       "      <th>Age</th>\n",
       "      <td>10000.0</td>\n",
       "      <td>NaN</td>\n",
       "      <td>NaN</td>\n",
       "      <td>NaN</td>\n",
       "      <td>38.9218</td>\n",
       "      <td>10.487806</td>\n",
       "      <td>18.0</td>\n",
       "      <td>32.0</td>\n",
       "      <td>37.0</td>\n",
       "      <td>44.0</td>\n",
       "      <td>92.0</td>\n",
       "    </tr>\n",
       "    <tr>\n",
       "      <th>Tenure</th>\n",
       "      <td>9091.0</td>\n",
       "      <td>NaN</td>\n",
       "      <td>NaN</td>\n",
       "      <td>NaN</td>\n",
       "      <td>4.99769</td>\n",
       "      <td>2.894723</td>\n",
       "      <td>0.0</td>\n",
       "      <td>2.0</td>\n",
       "      <td>5.0</td>\n",
       "      <td>7.0</td>\n",
       "      <td>10.0</td>\n",
       "    </tr>\n",
       "    <tr>\n",
       "      <th>Balance</th>\n",
       "      <td>10000.0</td>\n",
       "      <td>NaN</td>\n",
       "      <td>NaN</td>\n",
       "      <td>NaN</td>\n",
       "      <td>76485.889288</td>\n",
       "      <td>62397.405202</td>\n",
       "      <td>0.0</td>\n",
       "      <td>0.0</td>\n",
       "      <td>97198.54</td>\n",
       "      <td>127644.24</td>\n",
       "      <td>250898.09</td>\n",
       "    </tr>\n",
       "    <tr>\n",
       "      <th>NumOfProducts</th>\n",
       "      <td>10000.0</td>\n",
       "      <td>NaN</td>\n",
       "      <td>NaN</td>\n",
       "      <td>NaN</td>\n",
       "      <td>1.5302</td>\n",
       "      <td>0.581654</td>\n",
       "      <td>1.0</td>\n",
       "      <td>1.0</td>\n",
       "      <td>1.0</td>\n",
       "      <td>2.0</td>\n",
       "      <td>4.0</td>\n",
       "    </tr>\n",
       "    <tr>\n",
       "      <th>HasCrCard</th>\n",
       "      <td>10000.0</td>\n",
       "      <td>NaN</td>\n",
       "      <td>NaN</td>\n",
       "      <td>NaN</td>\n",
       "      <td>0.7055</td>\n",
       "      <td>0.45584</td>\n",
       "      <td>0.0</td>\n",
       "      <td>0.0</td>\n",
       "      <td>1.0</td>\n",
       "      <td>1.0</td>\n",
       "      <td>1.0</td>\n",
       "    </tr>\n",
       "    <tr>\n",
       "      <th>IsActiveMember</th>\n",
       "      <td>10000.0</td>\n",
       "      <td>NaN</td>\n",
       "      <td>NaN</td>\n",
       "      <td>NaN</td>\n",
       "      <td>0.5151</td>\n",
       "      <td>0.499797</td>\n",
       "      <td>0.0</td>\n",
       "      <td>0.0</td>\n",
       "      <td>1.0</td>\n",
       "      <td>1.0</td>\n",
       "      <td>1.0</td>\n",
       "    </tr>\n",
       "    <tr>\n",
       "      <th>EstimatedSalary</th>\n",
       "      <td>10000.0</td>\n",
       "      <td>NaN</td>\n",
       "      <td>NaN</td>\n",
       "      <td>NaN</td>\n",
       "      <td>100090.239881</td>\n",
       "      <td>57510.492818</td>\n",
       "      <td>11.58</td>\n",
       "      <td>51002.11</td>\n",
       "      <td>100193.915</td>\n",
       "      <td>149388.2475</td>\n",
       "      <td>199992.48</td>\n",
       "    </tr>\n",
       "    <tr>\n",
       "      <th>Exited</th>\n",
       "      <td>10000.0</td>\n",
       "      <td>NaN</td>\n",
       "      <td>NaN</td>\n",
       "      <td>NaN</td>\n",
       "      <td>0.2037</td>\n",
       "      <td>0.402769</td>\n",
       "      <td>0.0</td>\n",
       "      <td>0.0</td>\n",
       "      <td>0.0</td>\n",
       "      <td>0.0</td>\n",
       "      <td>1.0</td>\n",
       "    </tr>\n",
       "  </tbody>\n",
       "</table>\n",
       "</div>"
      ],
      "text/plain": [
       "                   count unique     top  freq           mean           std  \\\n",
       "RowNumber        10000.0    NaN     NaN   NaN         5000.5    2886.89568   \n",
       "CustomerId       10000.0    NaN     NaN   NaN  15690940.5694  71936.186123   \n",
       "Surname            10000   2932   Smith    32            NaN           NaN   \n",
       "CreditScore      10000.0    NaN     NaN   NaN       650.5288     96.653299   \n",
       "Geography          10000      3  France  5014            NaN           NaN   \n",
       "Gender             10000      2    Male  5457            NaN           NaN   \n",
       "Age              10000.0    NaN     NaN   NaN        38.9218     10.487806   \n",
       "Tenure            9091.0    NaN     NaN   NaN        4.99769      2.894723   \n",
       "Balance          10000.0    NaN     NaN   NaN   76485.889288  62397.405202   \n",
       "NumOfProducts    10000.0    NaN     NaN   NaN         1.5302      0.581654   \n",
       "HasCrCard        10000.0    NaN     NaN   NaN         0.7055       0.45584   \n",
       "IsActiveMember   10000.0    NaN     NaN   NaN         0.5151      0.499797   \n",
       "EstimatedSalary  10000.0    NaN     NaN   NaN  100090.239881  57510.492818   \n",
       "Exited           10000.0    NaN     NaN   NaN         0.2037      0.402769   \n",
       "\n",
       "                        min          25%         50%          75%         max  \n",
       "RowNumber               1.0      2500.75      5000.5      7500.25     10000.0  \n",
       "CustomerId       15565701.0  15628528.25  15690738.0  15753233.75  15815690.0  \n",
       "Surname                 NaN          NaN         NaN          NaN         NaN  \n",
       "CreditScore           350.0        584.0       652.0        718.0       850.0  \n",
       "Geography               NaN          NaN         NaN          NaN         NaN  \n",
       "Gender                  NaN          NaN         NaN          NaN         NaN  \n",
       "Age                    18.0         32.0        37.0         44.0        92.0  \n",
       "Tenure                  0.0          2.0         5.0          7.0        10.0  \n",
       "Balance                 0.0          0.0    97198.54    127644.24   250898.09  \n",
       "NumOfProducts           1.0          1.0         1.0          2.0         4.0  \n",
       "HasCrCard               0.0          0.0         1.0          1.0         1.0  \n",
       "IsActiveMember          0.0          0.0         1.0          1.0         1.0  \n",
       "EstimatedSalary       11.58     51002.11  100193.915  149388.2475   199992.48  \n",
       "Exited                  0.0          0.0         0.0          0.0         1.0  "
      ]
     },
     "execution_count": 5,
     "metadata": {},
     "output_type": "execute_result"
    }
   ],
   "source": [
    "df.describe(include='all').T"
   ]
  },
  {
   "cell_type": "markdown",
   "metadata": {},
   "source": [
    "Check for duplicates."
   ]
  },
  {
   "cell_type": "code",
   "execution_count": 6,
   "metadata": {},
   "outputs": [
    {
     "data": {
      "text/plain": [
       "0"
      ]
     },
     "execution_count": 6,
     "metadata": {},
     "output_type": "execute_result"
    }
   ],
   "source": [
    "df.duplicated().sum()"
   ]
  },
  {
   "cell_type": "markdown",
   "metadata": {},
   "source": [
    "There are missing values in `Tenure`, so we'll look at the distribution of existing values and pick a value for filling the blanks."
   ]
  },
  {
   "cell_type": "code",
   "execution_count": 7,
   "metadata": {},
   "outputs": [
    {
     "data": {
      "image/png": "[encoded data removed]",
      "text/plain": [
       "<Figure size 432x288 with 1 Axes>"
      ]
     },
     "metadata": {
      "needs_background": "light"
     },
     "output_type": "display_data"
    },
    {
     "name": "stdout",
     "output_type": "stream",
     "text": [
      "Mean: 4.997690023099769\n",
      "Median: 5.0\n"
     ]
    }
   ],
   "source": [
    "sns.histplot(df, x='Tenure', hue='Exited', discrete=True, multiple='dodge')\n",
    "plt.title('Tenure Distribution')\n",
    "plt.show()\n",
    "\n",
    "print('Mean: {}\\nMedian: {}'.format(df['Tenure'].mean(), df['Tenure'].median()))"
   ]
  },
  {
   "cell_type": "markdown",
   "metadata": {},
   "source": [
    "Mean and median are the same, so either is fine. We can also notice that these are integers stored as floats and fix this."
   ]
  },
  {
   "cell_type": "code",
   "execution_count": 8,
   "metadata": {},
   "outputs": [],
   "source": [
    "df['Tenure'] = df['Tenure'].fillna(df['Tenure'].median()).astype('int')"
   ]
  },
  {
   "cell_type": "markdown",
   "metadata": {},
   "source": [
    "3 columns are irrelevant: `RowNumber`, `CostumerId` and `Surname`. Keeping them will only add noise."
   ]
  },
  {
   "cell_type": "code",
   "execution_count": 9,
   "metadata": {},
   "outputs": [],
   "source": [
    "df = df.drop(['RowNumber', 'CustomerId', 'Surname'], axis=1)"
   ]
  },
  {
   "cell_type": "markdown",
   "metadata": {},
   "source": [
    "Reduce dataset size."
   ]
  },
  {
   "cell_type": "code",
   "execution_count": 10,
   "metadata": {},
   "outputs": [],
   "source": [
    "for column in df.columns:\n",
    "    if df[column].dtype == 'float64':\n",
    "        df[column] = df[column].astype('float32')\n",
    "    elif df[column].dtype == 'int64':\n",
    "        df[column] = df[column].astype('int32')"
   ]
  },
  {
   "cell_type": "markdown",
   "metadata": {},
   "source": [
    "Apply one-hot encoding."
   ]
  },
  {
   "cell_type": "code",
   "execution_count": 11,
   "metadata": {},
   "outputs": [],
   "source": [
    "df = pd.get_dummies(df, drop_first=True)"
   ]
  },
  {
   "cell_type": "markdown",
   "metadata": {},
   "source": [
    "Create a 6-2-2 train-validation-test split."
   ]
  },
  {
   "cell_type": "code",
   "execution_count": 12,
   "metadata": {},
   "outputs": [
    {
     "data": {
      "text/plain": [
       "train    0.6\n",
       "valid    0.2\n",
       "test     0.2\n",
       "dtype: float64"
      ]
     },
     "execution_count": 12,
     "metadata": {},
     "output_type": "execute_result"
    }
   ],
   "source": [
    "x, y = df.drop('Exited', axis=1), df['Exited']\n",
    "x_trva, x_test, y_trva, y_test = train_test_split(x, y, random_state=42069, test_size=0.2)\n",
    "x_train, x_valid, y_train, y_valid = train_test_split(x_trva, y_trva, random_state=42069, test_size=0.25)\n",
    "pd.Series([y_train.count(), y_valid.count(), y_test.count()], index=['train', 'valid', 'test'])/y.count()"
   ]
  },
  {
   "cell_type": "markdown",
   "metadata": {},
   "source": [
    "Scale all numeric features."
   ]
  },
  {
   "cell_type": "code",
   "execution_count": 13,
   "metadata": {},
   "outputs": [],
   "source": [
    "numeric = ['CreditScore', 'Age', 'Tenure', 'Balance', 'NumOfProducts', 'EstimatedSalary']\n",
    "\n",
    "scaler = StandardScaler()\n",
    "scaler.fit(x_train[numeric])\n",
    "\n",
    "with warnings.catch_warnings():\n",
    "    warnings.simplefilter('ignore')\n",
    "    x_train[numeric] = scaler.transform(x_train[numeric])\n",
    "    x_valid[numeric] = scaler.transform(x_valid[numeric])\n",
    "    x_trva[numeric] = scaler.transform(x_trva[numeric])\n",
    "    x_test[numeric] = scaler.transform(x_test[numeric])"
   ]
  },
  {
   "cell_type": "markdown",
   "metadata": {},
   "source": [
    "## Without Balancing\n",
    "To set a benchmark, we will evaluate a decision tree model without any balancing."
   ]
  },
  {
   "cell_type": "code",
   "execution_count": 45,
   "metadata": {},
   "outputs": [
    {
     "name": "stdout",
     "output_type": "stream",
     "text": [
      "F1 = 0.5043695380774033\n",
      "ROC-AUC = 0.6929028692852992\n"
     ]
    }
   ],
   "source": [
    "model = DecisionTreeClassifier(random_state=42069)\n",
    "model.fit(x_train, y_train)\n",
    "print('F1 = {}\\nROC-AUC = {}'.format(\n",
    "    f1_score(y_valid, model.predict(x_valid)), \n",
    "    roc_auc_score(y_valid, model.predict_proba(x_valid)[:, 1])\n",
    "))"
   ]
  },
  {
   "cell_type": "markdown",
   "metadata": {},
   "source": [
    "## Balance by Upsampling\n",
    "The first method of balancing to examine will be upsampling. We will duplicate the more sparse features-target combinations so that they are roughly as common as the other option. We know from reviewing the data that the mean of `Exited` is 0.2, so the ratio of ones to zeros is about 1 to 4."
   ]
  },
  {
   "cell_type": "code",
   "execution_count": 15,
   "metadata": {},
   "outputs": [],
   "source": [
    "def upsample(x, y, ratio, random_state=None):\n",
    "    x_zeros = x[y == 0]\n",
    "    x_ones = x[y == 1]\n",
    "    y_zeros = y[y == 0]\n",
    "    y_ones = y[y == 1]\n",
    "\n",
    "    x_upsampled = pd.concat([x_zeros] + [x_ones] * ratio)\n",
    "    y_upsampled = pd.concat([y_zeros] + [y_ones] * ratio)\n",
    "\n",
    "    x_upsampled, y_upsampled = shuffle(x_upsampled, y_upsampled, random_state=random_state)\n",
    "\n",
    "    return x_upsampled, y_upsampled"
   ]
  },
  {
   "cell_type": "code",
   "execution_count": 16,
   "metadata": {},
   "outputs": [],
   "source": [
    "x_ups, y_ups = upsample(x_train, y_train, 4, random_state=42069)"
   ]
  },
  {
   "cell_type": "code",
   "execution_count": 44,
   "metadata": {},
   "outputs": [
    {
     "name": "stdout",
     "output_type": "stream",
     "text": [
      "F1 = 0.5051282051282052\n",
      "ROC-AUC = 0.6915197664163305\n"
     ]
    }
   ],
   "source": [
    "model = DecisionTreeClassifier(random_state=42069)\n",
    "model.fit(x_ups, y_ups)\n",
    "print('F1 = {}\\nROC-AUC = {}'.format(\n",
    "    f1_score(y_valid, model.predict(x_valid)), \n",
    "    roc_auc_score(y_valid, model.predict_proba(x_valid)[:, 1])\n",
    "))"
   ]
  },
  {
   "cell_type": "markdown",
   "metadata": {},
   "source": [
    "There is an improvement in F1 score, but a worse ROC-AUC score."
   ]
  },
  {
   "cell_type": "markdown",
   "metadata": {},
   "source": [
    "## Balance by Weights\n",
    "By assigning a balanced class weight, we assure that both options have an identical total weight."
   ]
  },
  {
   "cell_type": "code",
   "execution_count": 43,
   "metadata": {},
   "outputs": [
    {
     "name": "stdout",
     "output_type": "stream",
     "text": [
      "F1 = 0.5090439276485789\n",
      "ROC-AUC = 0.6933865990236734\n"
     ]
    }
   ],
   "source": [
    "model = DecisionTreeClassifier(random_state=42069, class_weight='balanced')\n",
    "model.fit(x_train, y_train)\n",
    "print('F1 = {}\\nROC-AUC = {}'.format(\n",
    "    f1_score(y_valid, model.predict(x_valid)), \n",
    "    roc_auc_score(y_valid, model.predict_proba(x_valid)[:, 1])\n",
    "))"
   ]
  },
  {
   "cell_type": "markdown",
   "metadata": {},
   "source": [
    "It performed better than the previous approaches in both F1 and ROC-AUC scores. It was also less cumbersome than upsampling coding-wise. "
   ]
  },
  {
   "cell_type": "markdown",
   "metadata": {},
   "source": [
    "## Hyperparameter Optimization\n",
    "Now that we know that balancing by weights gave us better results, we will try to find the best random forest model by looping through hyperparameters and keeping the set that produced the model with the highest F1 score."
   ]
  },
  {
   "cell_type": "code",
   "execution_count": 25,
   "metadata": {},
   "outputs": [],
   "source": [
    "default_depth = model.get_depth()"
   ]
  },
  {
   "cell_type": "code",
   "execution_count": 46,
   "metadata": {},
   "outputs": [
    {
     "name": "stdout",
     "output_type": "stream",
     "text": [
      "{'f1': 0.610576923076923, 'n_estimators': 100, 'max_depth': 10, 'min_samples_split': 10, 'roc_auc': 0.6929028692852992}\n",
      "{'f1': 0.6177884615384615, 'n_estimators': 125, 'max_depth': 10, 'min_samples_split': 10, 'roc_auc': 0.6929028692852992}\n",
      "{'f1': 0.6225961538461537, 'n_estimators': 150, 'max_depth': 10, 'min_samples_split': 10, 'roc_auc': 0.6929028692852992}\n",
      "{'f1': 0.6246913580246914, 'n_estimators': 150, 'max_depth': 16, 'min_samples_split': 20, 'roc_auc': 0.6929028692852992}\n",
      "finished\n"
     ]
    }
   ],
   "source": [
    "best_forest = {'f1': 0}\n",
    "\n",
    "for depth in range(10, default_depth+1, 2):\n",
    "    for split in range(10, 31, 10):\n",
    "        for n in range(100, 201, 25):\n",
    "            forest_model = RandomForestClassifier(\n",
    "                random_state=42069, \n",
    "                n_estimators=n, \n",
    "                max_depth=depth, \n",
    "                min_samples_split=split,\n",
    "                class_weight='balanced'\n",
    "            )\n",
    "            forest_model.fit(x_train, y_train)\n",
    "            f1 = f1_score(y_valid, forest_model.predict(x_valid))\n",
    "            if f1 > best_forest['f1']:\n",
    "                (best_forest['n_estimators'], best_forest['max_depth'], \n",
    "                 best_forest['f1'], \n",
    "                 best_forest['min_samples_split'], best_forest['roc_auc'],\n",
    "                ) = (n, depth, f1, split, roc_auc_score(y_valid, model.predict_proba(x_valid)[:, 1]))\n",
    "                print(best_forest)\n",
    "\n",
    "print('finished')"
   ]
  },
  {
   "cell_type": "markdown",
   "metadata": {},
   "source": [
    "The best option is to limit the depth, ie number of levels, in each tree, as well as the minimal number of samples for a split, because if the model is too complicated it will learn noise to a degree that will reduce its performance. Same argument goes for the number of trees in the forest."
   ]
  },
  {
   "cell_type": "markdown",
   "metadata": {},
   "source": [
    "## Final Testing\n",
    "For the final testing, we will plug the hyperparameters from the last section to the final model, train it on both train and validation data, and test it on the test data."
   ]
  },
  {
   "cell_type": "code",
   "execution_count": 47,
   "metadata": {},
   "outputs": [
    {
     "name": "stdout",
     "output_type": "stream",
     "text": [
      "F1 = 0.6141176470588235\n",
      "ROC-AUC = 0.8540168644222775\n"
     ]
    }
   ],
   "source": [
    "final_model = RandomForestClassifier(\n",
    "    random_state=42069, \n",
    "    n_estimators=best_forest['n_estimators'], \n",
    "    max_depth=best_forest['max_depth'],\n",
    "    min_samples_split=best_forest['min_samples_split'],\n",
    "    class_weight='balanced',\n",
    ")\n",
    "final_model.fit(x_trva, y_trva)\n",
    "print('F1 = {}\\nROC-AUC = {}'.format(\n",
    "    f1_score(y_test, final_model.predict(x_test)), \n",
    "    roc_auc_score(y_test, final_model.predict_proba(x_test)[:, 1])\n",
    "))"
   ]
  },
  {
   "cell_type": "markdown",
   "metadata": {},
   "source": [
    "The F1 score is higher than the 0.59 goal we have set for ourselves, and a ROC-AUC of 0.85 is also very nice."
   ]
  },
  {
   "cell_type": "code",
   "execution_count": 23,
   "metadata": {},
   "outputs": [
    {
     "data": {
      "text/plain": [
       "4.0877367896311245"
      ]
     },
     "execution_count": 23,
     "metadata": {},
     "output_type": "execute_result"
    }
   ],
   "source": [
    "(f1_score(y_valid, model.predict(x_valid))/0.59-1)*100"
   ]
  },
  {
   "cell_type": "markdown",
   "metadata": {},
   "source": [
    "We have exceeded the goal by 4%. Following is the ROC curve, visualising how good our ROC-AUC is."
   ]
  },
  {
   "cell_type": "code",
   "execution_count": 32,
   "metadata": {},
   "outputs": [],
   "source": [
    "fpr, tpr, thresholds = roc_curve(y_test, final_model.predict_proba(x_test)[:, 1])"
   ]
  },
  {
   "cell_type": "code",
   "execution_count": 39,
   "metadata": {},
   "outputs": [
    {
     "data": {
      "image/png": "[encoded data removed]",
      "text/plain": [
       "<Figure size 432x432 with 1 Axes>"
      ]
     },
     "metadata": {
      "needs_background": "light"
     },
     "output_type": "display_data"
    }
   ],
   "source": [
    "plt.figure(figsize=(6,6))\n",
    "plt.title('ROC Curve')\n",
    "plt.xlabel('False Positive Rate')\n",
    "plt.ylabel('True Positive Rate')\n",
    "sns.lineplot(x=fpr, y=tpr, color='black')\n",
    "sns.lineplot(x=[0,1], y=[0,1], linestyle=':', color='grey')\n",
    "plt.xlim(0,1)\n",
    "plt.ylim(0,1)\n",
    "plt.grid()\n",
    "plt.show()"
   ]
  },
  {
   "cell_type": "markdown",
   "metadata": {},
   "source": [
    "The details of the final model are shown below."
   ]
  },
  {
   "cell_type": "code",
   "execution_count": 26,
   "metadata": {},
   "outputs": [
    {
     "data": {
      "text/plain": [
       "RandomForestClassifier(class_weight='balanced', max_depth=16,\n",
       "                       min_samples_split=20, n_estimators=150,\n",
       "                       random_state=42069)"
      ]
     },
     "execution_count": 26,
     "metadata": {},
     "output_type": "execute_result"
    }
   ],
   "source": [
    "final_model"
   ]
  }
 ],
 "metadata": {
  "ExecuteTimeLog": [
   {
    "duration": 1697,
    "start_time": "2022-03-26T07:43:31.355Z"
   },
   {
    "duration": 209,
    "start_time": "2022-03-26T07:46:22.640Z"
   },
   {
    "duration": 114,
    "start_time": "2022-03-26T07:47:18.457Z"
   },
   {
    "duration": 19,
    "start_time": "2022-03-26T07:48:24.931Z"
   },
   {
    "duration": 16,
    "start_time": "2022-03-26T07:49:54.754Z"
   },
   {
    "duration": 6,
    "start_time": "2022-03-26T07:51:09.793Z"
   },
   {
    "duration": 5,
    "start_time": "2022-03-26T07:51:39.398Z"
   },
   {
    "duration": 152,
    "start_time": "2022-03-26T07:53:06.167Z"
   },
   {
    "duration": 156,
    "start_time": "2022-03-26T07:53:42.148Z"
   },
   {
    "duration": 135,
    "start_time": "2022-03-26T07:54:52.543Z"
   },
   {
    "duration": 12,
    "start_time": "2022-03-26T07:55:45.577Z"
   },
   {
    "duration": 134,
    "start_time": "2022-03-26T07:55:49.144Z"
   },
   {
    "duration": 173,
    "start_time": "2022-03-26T07:56:59.116Z"
   },
   {
    "duration": 259,
    "start_time": "2022-03-26T07:57:26.188Z"
   },
   {
    "duration": 225,
    "start_time": "2022-03-26T07:59:21.158Z"
   },
   {
    "duration": 151,
    "start_time": "2022-03-26T08:00:50.298Z"
   },
   {
    "duration": 235,
    "start_time": "2022-03-26T08:01:12.400Z"
   },
   {
    "duration": 6,
    "start_time": "2022-03-26T08:03:41.342Z"
   },
   {
    "duration": 10,
    "start_time": "2022-03-26T08:03:52.625Z"
   },
   {
    "duration": 11,
    "start_time": "2022-03-26T08:03:59.491Z"
   },
   {
    "duration": 20,
    "start_time": "2022-03-26T08:05:54.024Z"
   },
   {
    "duration": 7,
    "start_time": "2022-03-26T08:06:01.135Z"
   },
   {
    "duration": 7,
    "start_time": "2022-03-26T08:07:03.321Z"
   },
   {
    "duration": 6,
    "start_time": "2022-03-26T08:07:53.429Z"
   },
   {
    "duration": 228,
    "start_time": "2022-03-26T08:08:05.810Z"
   },
   {
    "duration": 9,
    "start_time": "2022-03-26T08:10:00.033Z"
   },
   {
    "duration": 13,
    "start_time": "2022-03-26T08:10:06.735Z"
   },
   {
    "duration": 44,
    "start_time": "2022-03-26T08:11:02.355Z"
   },
   {
    "duration": 11,
    "start_time": "2022-03-26T08:14:01.120Z"
   },
   {
    "duration": 10,
    "start_time": "2022-03-26T08:14:18.886Z"
   },
   {
    "duration": 41,
    "start_time": "2022-03-26T08:14:21.855Z"
   },
   {
    "duration": 11,
    "start_time": "2022-03-26T08:14:58.620Z"
   },
   {
    "duration": 15,
    "start_time": "2022-03-26T08:19:43.637Z"
   },
   {
    "duration": 10,
    "start_time": "2022-03-26T09:55:49.583Z"
   },
   {
    "duration": 5,
    "start_time": "2022-03-26T09:55:55.450Z"
   },
   {
    "duration": 6,
    "start_time": "2022-03-26T09:56:06.253Z"
   },
   {
    "duration": 6,
    "start_time": "2022-03-26T09:56:40.651Z"
   },
   {
    "duration": 6,
    "start_time": "2022-03-26T09:57:14.050Z"
   },
   {
    "duration": 6,
    "start_time": "2022-03-26T09:58:38.726Z"
   },
   {
    "duration": 5,
    "start_time": "2022-03-26T09:58:39.367Z"
   },
   {
    "duration": 5,
    "start_time": "2022-03-26T09:58:55.041Z"
   },
   {
    "duration": 5,
    "start_time": "2022-03-26T09:59:39.984Z"
   },
   {
    "duration": 6,
    "start_time": "2022-03-26T09:59:40.911Z"
   },
   {
    "duration": 10,
    "start_time": "2022-03-26T10:07:50.101Z"
   },
   {
    "duration": 3,
    "start_time": "2022-03-26T10:07:54.954Z"
   },
   {
    "duration": 13,
    "start_time": "2022-03-26T10:07:59.682Z"
   },
   {
    "duration": 12,
    "start_time": "2022-03-26T10:08:09.462Z"
   },
   {
    "duration": 9,
    "start_time": "2022-03-26T10:08:26.154Z"
   },
   {
    "duration": 5,
    "start_time": "2022-03-26T10:08:40.639Z"
   },
   {
    "duration": 4,
    "start_time": "2022-03-26T10:11:24.233Z"
   },
   {
    "duration": 34,
    "start_time": "2022-03-26T10:13:25.344Z"
   },
   {
    "duration": 14,
    "start_time": "2022-03-26T10:16:13.807Z"
   },
   {
    "duration": 26,
    "start_time": "2022-03-26T10:17:36.949Z"
   },
   {
    "duration": 26,
    "start_time": "2022-03-26T10:17:52.667Z"
   },
   {
    "duration": 29,
    "start_time": "2022-03-26T10:18:01.652Z"
   },
   {
    "duration": 12,
    "start_time": "2022-03-26T10:18:27.232Z"
   },
   {
    "duration": 3,
    "start_time": "2022-03-26T10:19:25.997Z"
   },
   {
    "duration": 26,
    "start_time": "2022-03-26T10:19:36.176Z"
   },
   {
    "duration": 3,
    "start_time": "2022-03-26T10:40:46.702Z"
   },
   {
    "duration": 39,
    "start_time": "2022-03-26T10:41:15.509Z"
   },
   {
    "duration": 18,
    "start_time": "2022-03-26T10:43:51.065Z"
   },
   {
    "duration": 40,
    "start_time": "2022-03-26T10:44:22.673Z"
   },
   {
    "duration": 41,
    "start_time": "2022-03-26T10:45:13.898Z"
   },
   {
    "duration": 4,
    "start_time": "2022-03-26T10:48:24.473Z"
   },
   {
    "duration": 4,
    "start_time": "2022-03-26T10:53:03.036Z"
   },
   {
    "duration": 11,
    "start_time": "2022-03-26T10:55:31.640Z"
   },
   {
    "duration": 48,
    "start_time": "2022-03-26T10:55:54.543Z"
   },
   {
    "duration": 55,
    "start_time": "2022-03-26T10:59:41.047Z"
   },
   {
    "duration": 4,
    "start_time": "2022-03-26T10:59:46.243Z"
   },
   {
    "duration": 49,
    "start_time": "2022-03-26T10:59:50.564Z"
   },
   {
    "duration": 48,
    "start_time": "2022-03-26T11:01:08.607Z"
   },
   {
    "duration": 49,
    "start_time": "2022-03-26T11:01:14.620Z"
   },
   {
    "duration": 40,
    "start_time": "2022-03-26T11:01:27.864Z"
   },
   {
    "duration": 41,
    "start_time": "2022-03-26T11:01:39.248Z"
   },
   {
    "duration": 21,
    "start_time": "2022-03-26T12:34:19.122Z"
   },
   {
    "duration": 2263,
    "start_time": "2022-03-26T12:41:37.244Z"
   },
   {
    "duration": 76,
    "start_time": "2022-03-26T12:41:39.510Z"
   },
   {
    "duration": 30,
    "start_time": "2022-03-26T12:41:39.591Z"
   },
   {
    "duration": 26,
    "start_time": "2022-03-26T12:41:39.623Z"
   },
   {
    "duration": 127,
    "start_time": "2022-03-26T12:41:39.654Z"
   },
   {
    "duration": 371,
    "start_time": "2022-03-26T12:41:39.784Z"
   },
   {
    "duration": 17,
    "start_time": "2022-03-26T12:41:40.158Z"
   },
   {
    "duration": 11,
    "start_time": "2022-03-26T12:41:40.179Z"
   },
   {
    "duration": 12,
    "start_time": "2022-03-26T12:41:40.192Z"
   },
   {
    "duration": 14,
    "start_time": "2022-03-26T12:41:40.206Z"
   },
   {
    "duration": 18,
    "start_time": "2022-03-26T12:41:40.223Z"
   },
   {
    "duration": 83,
    "start_time": "2022-03-26T12:41:40.242Z"
   },
   {
    "duration": 72,
    "start_time": "2022-03-26T12:41:40.327Z"
   },
   {
    "duration": 5,
    "start_time": "2022-03-26T12:41:40.403Z"
   },
   {
    "duration": 19,
    "start_time": "2022-03-26T12:41:40.410Z"
   },
   {
    "duration": 88,
    "start_time": "2022-03-26T12:41:40.431Z"
   },
   {
    "duration": 64,
    "start_time": "2022-03-26T12:41:40.521Z"
   },
   {
    "duration": 195,
    "start_time": "2022-03-26T12:41:40.588Z"
   },
   {
    "duration": 0,
    "start_time": "2022-03-26T12:41:40.785Z"
   },
   {
    "duration": 5,
    "start_time": "2022-03-26T12:41:50.696Z"
   },
   {
    "duration": 29,
    "start_time": "2022-03-26T12:42:03.026Z"
   },
   {
    "duration": 95770,
    "start_time": "2022-03-26T12:42:51.775Z"
   },
   {
    "duration": 6,
    "start_time": "2022-03-26T12:49:44.799Z"
   },
   {
    "duration": 2679,
    "start_time": "2022-03-26T12:51:53.841Z"
   },
   {
    "duration": 9170,
    "start_time": "2022-03-26T12:55:43.736Z"
   },
   {
    "duration": 3850,
    "start_time": "2022-03-26T12:56:05.497Z"
   },
   {
    "duration": 945,
    "start_time": "2022-03-26T12:56:29.171Z"
   },
   {
    "duration": 6016,
    "start_time": "2022-03-26T12:57:23.980Z"
   },
   {
    "duration": 17824,
    "start_time": "2022-03-26T12:57:44.925Z"
   },
   {
    "duration": 16831,
    "start_time": "2022-03-26T12:58:30.968Z"
   },
   {
    "duration": 52875,
    "start_time": "2022-03-26T13:01:13.321Z"
   },
   {
    "duration": 70994,
    "start_time": "2022-03-26T13:08:28.058Z"
   },
   {
    "duration": 152918,
    "start_time": "2022-03-26T13:09:45.875Z"
   },
   {
    "duration": 69,
    "start_time": "2022-03-26T13:15:36.435Z"
   },
   {
    "duration": 50,
    "start_time": "2022-03-26T13:15:50.505Z"
   },
   {
    "duration": 1377,
    "start_time": "2022-03-26T13:17:02.993Z"
   },
   {
    "duration": 6,
    "start_time": "2022-03-26T13:19:22.433Z"
   },
   {
    "duration": 11,
    "start_time": "2022-03-26T13:20:14.643Z"
   },
   {
    "duration": 6,
    "start_time": "2022-03-26T13:20:46.514Z"
   },
   {
    "duration": 6,
    "start_time": "2022-03-26T13:20:58.642Z"
   },
   {
    "duration": 9,
    "start_time": "2022-03-26T13:21:24.341Z"
   },
   {
    "duration": 2118,
    "start_time": "2022-03-26T13:22:30.193Z"
   },
   {
    "duration": 89,
    "start_time": "2022-03-26T13:22:32.314Z"
   },
   {
    "duration": 28,
    "start_time": "2022-03-26T13:22:32.406Z"
   },
   {
    "duration": 18,
    "start_time": "2022-03-26T13:22:32.436Z"
   },
   {
    "duration": 112,
    "start_time": "2022-03-26T13:22:32.487Z"
   },
   {
    "duration": 574,
    "start_time": "2022-03-26T13:22:32.601Z"
   },
   {
    "duration": 8,
    "start_time": "2022-03-26T13:22:33.180Z"
   },
   {
    "duration": 11,
    "start_time": "2022-03-26T13:22:33.191Z"
   },
   {
    "duration": 19,
    "start_time": "2022-03-26T13:22:33.205Z"
   },
   {
    "duration": 57,
    "start_time": "2022-03-26T13:22:33.227Z"
   },
   {
    "duration": 27,
    "start_time": "2022-03-26T13:22:33.289Z"
   },
   {
    "duration": 77,
    "start_time": "2022-03-26T13:22:33.318Z"
   },
   {
    "duration": 57,
    "start_time": "2022-03-26T13:22:33.398Z"
   },
   {
    "duration": 7,
    "start_time": "2022-03-26T13:22:33.473Z"
   },
   {
    "duration": 30,
    "start_time": "2022-03-26T13:22:33.483Z"
   },
   {
    "duration": 82,
    "start_time": "2022-03-26T13:22:33.515Z"
   },
   {
    "duration": 59,
    "start_time": "2022-03-26T13:22:33.600Z"
   },
   {
    "duration": 21,
    "start_time": "2022-03-26T13:22:33.661Z"
   },
   {
    "duration": 93403,
    "start_time": "2022-03-26T13:22:33.685Z"
   },
   {
    "duration": 0,
    "start_time": "2022-03-26T13:24:07.091Z"
   },
   {
    "duration": 0,
    "start_time": "2022-03-26T13:24:07.092Z"
   },
   {
    "duration": 0,
    "start_time": "2022-03-26T13:24:07.094Z"
   },
   {
    "duration": 0,
    "start_time": "2022-03-26T13:24:07.095Z"
   },
   {
    "duration": 0,
    "start_time": "2022-03-26T13:24:07.097Z"
   },
   {
    "duration": 139791,
    "start_time": "2022-03-26T13:24:19.887Z"
   },
   {
    "duration": 1450,
    "start_time": "2022-03-26T13:26:39.681Z"
   },
   {
    "duration": 9,
    "start_time": "2022-03-26T13:26:57.397Z"
   },
   {
    "duration": 30724,
    "start_time": "2022-03-26T13:28:18.650Z"
   },
   {
    "duration": 34577,
    "start_time": "2022-03-26T13:29:45.934Z"
   },
   {
    "duration": 1600,
    "start_time": "2022-03-26T13:30:41.442Z"
   },
   {
    "duration": 90,
    "start_time": "2022-03-26T13:37:13.199Z"
   },
   {
    "duration": 19,
    "start_time": "2022-03-26T13:38:08.987Z"
   },
   {
    "duration": 189285,
    "start_time": "2022-03-26T13:38:22.660Z"
   },
   {
    "duration": 110,
    "start_time": "2022-03-26T13:41:31.949Z"
   },
   {
    "duration": 1546,
    "start_time": "2022-03-26T13:41:58.554Z"
   },
   {
    "duration": 6,
    "start_time": "2022-03-26T13:42:43.920Z"
   },
   {
    "duration": 6,
    "start_time": "2022-03-26T13:44:28.082Z"
   },
   {
    "duration": 380370,
    "start_time": "2022-03-26T13:45:25.035Z"
   },
   {
    "duration": 5,
    "start_time": "2022-03-26T13:53:04.936Z"
   },
   {
    "duration": 178009,
    "start_time": "2022-03-26T13:53:28.449Z"
   },
   {
    "duration": 6,
    "start_time": "2022-03-26T13:56:50.263Z"
   },
   {
    "duration": 760678,
    "start_time": "2022-03-26T13:58:40.138Z"
   },
   {
    "duration": 2085,
    "start_time": "2022-03-26T14:58:26.744Z"
   },
   {
    "duration": 2058,
    "start_time": "2022-03-26T14:59:29.673Z"
   },
   {
    "duration": 2090,
    "start_time": "2022-03-26T14:59:50.566Z"
   },
   {
    "duration": 1874,
    "start_time": "2022-03-26T15:00:16.092Z"
   },
   {
    "duration": 2060,
    "start_time": "2022-03-26T15:00:25.828Z"
   },
   {
    "duration": 1897,
    "start_time": "2022-03-26T15:00:34.617Z"
   },
   {
    "duration": 3028,
    "start_time": "2022-03-26T15:02:00.230Z"
   },
   {
    "duration": 2142,
    "start_time": "2022-03-26T15:02:08.158Z"
   },
   {
    "duration": 71619,
    "start_time": "2022-03-26T15:02:59.850Z"
   },
   {
    "duration": 2175,
    "start_time": "2022-03-26T15:04:39.487Z"
   },
   {
    "duration": 2201,
    "start_time": "2022-03-26T15:04:45.290Z"
   },
   {
    "duration": 69838,
    "start_time": "2022-03-26T15:05:03.847Z"
   },
   {
    "duration": 1703,
    "start_time": "2022-03-26T15:06:32.869Z"
   },
   {
    "duration": 136302,
    "start_time": "2022-03-26T15:08:23.444Z"
   },
   {
    "duration": 1707,
    "start_time": "2022-03-26T15:10:59.782Z"
   },
   {
    "duration": 6,
    "start_time": "2022-03-26T15:11:33.272Z"
   },
   {
    "duration": 13,
    "start_time": "2022-03-26T15:39:52.314Z"
   },
   {
    "duration": 10,
    "start_time": "2022-03-26T15:40:01.107Z"
   },
   {
    "duration": 45,
    "start_time": "2022-03-26T16:26:57.162Z"
   },
   {
    "duration": 1930,
    "start_time": "2022-03-26T16:27:27.737Z"
   },
   {
    "duration": 86,
    "start_time": "2022-03-26T16:27:29.670Z"
   },
   {
    "duration": 17,
    "start_time": "2022-03-26T16:27:29.758Z"
   },
   {
    "duration": 14,
    "start_time": "2022-03-26T16:27:29.778Z"
   },
   {
    "duration": 43,
    "start_time": "2022-03-26T16:27:29.793Z"
   },
   {
    "duration": 33,
    "start_time": "2022-03-26T16:27:29.838Z"
   },
   {
    "duration": 221,
    "start_time": "2022-03-26T16:27:29.872Z"
   },
   {
    "duration": 5,
    "start_time": "2022-03-26T16:27:30.094Z"
   },
   {
    "duration": 9,
    "start_time": "2022-03-26T16:27:30.101Z"
   },
   {
    "duration": 17,
    "start_time": "2022-03-26T16:27:30.113Z"
   },
   {
    "duration": 15,
    "start_time": "2022-03-26T16:27:30.132Z"
   },
   {
    "duration": 24,
    "start_time": "2022-03-26T16:27:30.149Z"
   },
   {
    "duration": 36,
    "start_time": "2022-03-26T16:27:30.174Z"
   },
   {
    "duration": 53,
    "start_time": "2022-03-26T16:27:30.212Z"
   },
   {
    "duration": 4,
    "start_time": "2022-03-26T16:27:30.267Z"
   },
   {
    "duration": 16,
    "start_time": "2022-03-26T16:27:30.273Z"
   },
   {
    "duration": 70,
    "start_time": "2022-03-26T16:27:30.291Z"
   },
   {
    "duration": 35,
    "start_time": "2022-03-26T16:27:30.363Z"
   },
   {
    "duration": 3,
    "start_time": "2022-03-26T16:27:30.400Z"
   },
   {
    "duration": 94885,
    "start_time": "2022-03-26T16:27:30.405Z"
   },
   {
    "duration": 1074,
    "start_time": "2022-03-26T16:29:05.292Z"
   },
   {
    "duration": 120,
    "start_time": "2022-03-26T16:29:06.367Z"
   },
   {
    "duration": 0,
    "start_time": "2022-03-26T16:29:06.489Z"
   },
   {
    "duration": 0,
    "start_time": "2022-03-26T16:29:06.490Z"
   },
   {
    "duration": 7,
    "start_time": "2022-03-26T16:29:13.344Z"
   },
   {
    "duration": 137,
    "start_time": "2022-03-26T16:29:42.794Z"
   },
   {
    "duration": 3,
    "start_time": "2022-03-26T16:30:39.638Z"
   },
   {
    "duration": 5,
    "start_time": "2022-03-26T16:33:45.511Z"
   },
   {
    "duration": 4,
    "start_time": "2022-03-26T16:49:43.326Z"
   },
   {
    "duration": 4,
    "start_time": "2022-03-26T16:49:56.006Z"
   },
   {
    "duration": 4,
    "start_time": "2022-03-26T16:49:59.850Z"
   },
   {
    "duration": 5,
    "start_time": "2022-03-26T16:50:39.937Z"
   },
   {
    "duration": 65,
    "start_time": "2022-03-26T16:51:36.732Z"
   },
   {
    "duration": 55,
    "start_time": "2022-03-26T16:52:28.919Z"
   },
   {
    "duration": 3235,
    "start_time": "2022-03-26T16:53:51.829Z"
   },
   {
    "duration": 13,
    "start_time": "2022-03-26T16:54:53.844Z"
   },
   {
    "duration": 109,
    "start_time": "2022-03-26T16:55:02.197Z"
   },
   {
    "duration": 3161,
    "start_time": "2022-03-26T16:55:23.017Z"
   },
   {
    "duration": 3278,
    "start_time": "2022-03-26T16:56:51.804Z"
   },
   {
    "duration": 3296,
    "start_time": "2022-03-26T16:58:26.741Z"
   },
   {
    "duration": 3250,
    "start_time": "2022-03-26T16:59:55.635Z"
   },
   {
    "duration": 39,
    "start_time": "2022-03-26T17:09:02.340Z"
   },
   {
    "duration": 46,
    "start_time": "2022-03-26T17:10:40.236Z"
   },
   {
    "duration": 39,
    "start_time": "2022-03-26T17:11:01.621Z"
   },
   {
    "duration": 39,
    "start_time": "2022-03-26T17:15:59.096Z"
   },
   {
    "duration": 44,
    "start_time": "2022-03-26T17:16:06.034Z"
   },
   {
    "duration": 42,
    "start_time": "2022-03-26T17:16:16.432Z"
   },
   {
    "duration": 92572,
    "start_time": "2022-03-26T17:18:10.461Z"
   },
   {
    "duration": 1115,
    "start_time": "2022-03-26T17:19:43.035Z"
   }
  ],
  "kernelspec": {
   "display_name": "Python 3",
   "language": "python",
   "name": "python3"
  },
  "language_info": {
   "codemirror_mode": {
    "name": "ipython",
    "version": 3
   },
   "file_extension": ".py",
   "mimetype": "text/x-python",
   "name": "python",
   "nbconvert_exporter": "python",
   "pygments_lexer": "ipython3",
   "version": "3.8.8"
  },
  "toc": {
   "base_numbering": 1,
   "nav_menu": {},
   "number_sections": true,
   "sideBar": true,
   "skip_h1_title": true,
   "title_cell": "Table of Contents",
   "title_sidebar": "Contents",
   "toc_cell": false,
   "toc_position": {},
   "toc_section_display": true,
   "toc_window_display": false
  }
 },
 "nbformat": 4,
 "nbformat_minor": 2
}
